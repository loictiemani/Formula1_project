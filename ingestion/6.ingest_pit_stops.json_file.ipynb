{
 "cells": [
  {
   "cell_type": "markdown",
   "metadata": {
    "application/vnd.databricks.v1+cell": {
     "cellMetadata": {
      "byteLimit": 2048000,
      "rowLimit": 10000
     },
     "inputWidgets": {},
     "nuid": "63879f3f-ddd7-42c4-a34c-d89d929f36f6",
     "showTitle": false,
     "tableResultSettingsMap": {},
     "title": ""
    }
   },
   "source": [
    "## Ingest pit_stops.json file\n",
    "Step 1- Read the json file using the spark dataframe reader API"
   ]
  },
  {
   "cell_type": "code",
   "execution_count": 0,
   "metadata": {
    "application/vnd.databricks.v1+cell": {
     "cellMetadata": {
      "byteLimit": 2048000,
      "rowLimit": 10000
     },
     "inputWidgets": {},
     "nuid": "91db77f4-10a4-4e10-9e8e-ab9b77710ad4",
     "showTitle": false,
     "tableResultSettingsMap": {},
     "title": ""
    }
   },
   "outputs": [],
   "source": [
    "dbutils.widgets.text(\"p_data_source\", \"\")\n",
    "v_data_source = dbutils.widgets.get(\"p_data_source\")\n"
   ]
  },
  {
   "cell_type": "code",
   "execution_count": 0,
   "metadata": {
    "application/vnd.databricks.v1+cell": {
     "cellMetadata": {
      "byteLimit": 2048000,
      "rowLimit": 10000
     },
     "inputWidgets": {},
     "nuid": "e07f77fc-9a53-4301-9a8b-8902fb619a30",
     "showTitle": false,
     "tableResultSettingsMap": {},
     "title": ""
    }
   },
   "outputs": [],
   "source": [
    "dbutils.widgets.text(\"p_file_date\", \"2021-03-28\")\n",
    "v_file_date = dbutils.widgets.get(\"p_file_date\")"
   ]
  },
  {
   "cell_type": "code",
   "execution_count": 0,
   "metadata": {
    "application/vnd.databricks.v1+cell": {
     "cellMetadata": {
      "byteLimit": 2048000,
      "rowLimit": 10000
     },
     "inputWidgets": {},
     "nuid": "33fff826-6deb-4724-9f47-be2063ba7ce9",
     "showTitle": false,
     "tableResultSettingsMap": {},
     "title": ""
    }
   },
   "outputs": [],
   "source": [
    "%run \"../includes/configuration\""
   ]
  },
  {
   "cell_type": "code",
   "execution_count": 0,
   "metadata": {
    "application/vnd.databricks.v1+cell": {
     "cellMetadata": {
      "byteLimit": 2048000,
      "rowLimit": 10000
     },
     "inputWidgets": {},
     "nuid": "e919e869-d7dc-4c9a-876c-1702aac0b4c7",
     "showTitle": false,
     "tableResultSettingsMap": {},
     "title": ""
    }
   },
   "outputs": [],
   "source": [
    "%run \"../includes/common_functions\""
   ]
  },
  {
   "cell_type": "code",
   "execution_count": 0,
   "metadata": {
    "application/vnd.databricks.v1+cell": {
     "cellMetadata": {
      "byteLimit": 2048000,
      "rowLimit": 10000
     },
     "inputWidgets": {},
     "nuid": "99d08efc-d173-4bc5-a072-707da6db2b88",
     "showTitle": false,
     "tableResultSettingsMap": {},
     "title": ""
    }
   },
   "outputs": [],
   "source": [
    "from pyspark.sql.types import StructType, StringType, IntegerType, DoubleType, StructField, TimestampType, DateType, FloatType\n",
    "from pyspark.sql.functions import col, struct,current_timestamp , concat, lit"
   ]
  },
  {
   "cell_type": "code",
   "execution_count": 0,
   "metadata": {
    "application/vnd.databricks.v1+cell": {
     "cellMetadata": {
      "byteLimit": 2048000,
      "rowLimit": 10000
     },
     "inputWidgets": {},
     "nuid": "f02cedee-9ad3-430e-958f-dbb5d56852f8",
     "showTitle": false,
     "tableResultSettingsMap": {},
     "title": ""
    }
   },
   "outputs": [],
   "source": [
    "pit_stop_schema = StructType(fields=[StructField(\"raceId\", IntegerType(), False),\n",
    "                                     StructField(\"driverId\", IntegerType(), True),\n",
    "                                     StructField(\"stop\", StringType(), True),\n",
    "                                     StructField(\"lap\", IntegerType(), True),\n",
    "                                     StructField(\"time\", StringType(), True),\n",
    "                                     StructField(\"duration\", StringType(), True),\n",
    "                                     StructField(\"milliseconds\", IntegerType(), True)])"
   ]
  },
  {
   "cell_type": "code",
   "execution_count": 0,
   "metadata": {
    "application/vnd.databricks.v1+cell": {
     "cellMetadata": {
      "byteLimit": 2048000,
      "rowLimit": 10000
     },
     "inputWidgets": {},
     "nuid": "d45f5532-2d5a-4367-a618-7f1bfe1a06de",
     "showTitle": false,
     "tableResultSettingsMap": {},
     "title": ""
    }
   },
   "outputs": [],
   "source": [
    "# Load the JSON file\n",
    "pit_stops_df = spark.read\\\n",
    "    .schema(pit_stop_schema)\\\n",
    "        .option(\"multiLine\", True)\\\n",
    "    .json(f\"{raw_folder_path}/{v_file_date}/pit_stops.json\")"
   ]
  },
  {
   "cell_type": "code",
   "execution_count": 0,
   "metadata": {
    "application/vnd.databricks.v1+cell": {
     "cellMetadata": {
      "byteLimit": 2048000,
      "rowLimit": 10000
     },
     "inputWidgets": {},
     "nuid": "aa922290-bb94-4150-b349-376849a09f91",
     "showTitle": false,
     "tableResultSettingsMap": {},
     "title": ""
    }
   },
   "outputs": [
    {
     "output_type": "display_data",
     "data": {
      "text/html": [
       "<style scoped>\n",
       "  .table-result-container {\n",
       "    max-height: 300px;\n",
       "    overflow: auto;\n",
       "  }\n",
       "  table, th, td {\n",
       "    border: 1px solid black;\n",
       "    border-collapse: collapse;\n",
       "  }\n",
       "  th, td {\n",
       "    padding: 5px;\n",
       "  }\n",
       "  th {\n",
       "    text-align: left;\n",
       "  }\n",
       "</style><div class='table-result-container'><table class='table-result'><thead style='background-color: white'><tr><th>raceId</th><th>driverId</th><th>stop</th><th>lap</th><th>time</th><th>duration</th><th>milliseconds</th></tr></thead><tbody><tr><td>1053</td><td>839</td><td>1</td><td>1</td><td>15:05:16</td><td>30.866</td><td>30866</td></tr><tr><td>1053</td><td>20</td><td>1</td><td>3</td><td>15:10:09</td><td>32.024</td><td>32024</td></tr><tr><td>1053</td><td>854</td><td>1</td><td>5</td><td>15:15:11</td><td>51.007</td><td>51007</td></tr><tr><td>1053</td><td>853</td><td>1</td><td>12</td><td>15:27:20</td><td>31.168</td><td>31168</td></tr><tr><td>1053</td><td>842</td><td>1</td><td>14</td><td>15:30:10</td><td>31.068</td><td>31068</td></tr><tr><td>1053</td><td>20</td><td>2</td><td>20</td><td>15:39:11</td><td>31.184</td><td>31184</td></tr><tr><td>1053</td><td>854</td><td>2</td><td>21</td><td>15:41:24</td><td>32.479</td><td>32479</td></tr><tr><td>1053</td><td>20</td><td>3</td><td>22</td><td>15:42:52</td><td>39.502</td><td>39502</td></tr><tr><td>1053</td><td>853</td><td>2</td><td>23</td><td>15:45:20</td><td>31.5</td><td>31500</td></tr><tr><td>1053</td><td>852</td><td>1</td><td>25</td><td>15:46:39</td><td>30.696</td><td>30696</td></tr><tr><td>1053</td><td>847</td><td>1</td><td>26</td><td>15:47:53</td><td>29.983</td><td>29983</td></tr><tr><td>1053</td><td>8</td><td>1</td><td>26</td><td>15:47:55</td><td>30.28</td><td>30280</td></tr><tr><td>1053</td><td>830</td><td>1</td><td>27</td><td>15:47:59</td><td>29.809</td><td>29809</td></tr><tr><td>1053</td><td>842</td><td>2</td><td>26</td><td>15:48:45</td><td>32.277</td><td>32277</td></tr><tr><td>1053</td><td>832</td><td>1</td><td>27</td><td>15:48:51</td><td>30.856</td><td>30856</td></tr><tr><td>1053</td><td>817</td><td>1</td><td>27</td><td>15:48:57</td><td>34.34</td><td>34340</td></tr><tr><td>1053</td><td>840</td><td>1</td><td>27</td><td>15:49:16</td><td>31.138</td><td>31138</td></tr><tr><td>1053</td><td>1</td><td>1</td><td>28</td><td>15:49:27</td><td>32.112</td><td>32112</td></tr><tr><td>1053</td><td>841</td><td>1</td><td>27</td><td>15:49:32</td><td>32.299</td><td>32299</td></tr><tr><td>1053</td><td>839</td><td>2</td><td>27</td><td>15:49:42</td><td>30.652</td><td>30652</td></tr><tr><td>1053</td><td>844</td><td>1</td><td>28</td><td>15:49:43</td><td>31.002</td><td>31002</td></tr><tr><td>1053</td><td>815</td><td>1</td><td>28</td><td>15:49:58</td><td>44.608</td><td>44608</td></tr><tr><td>1053</td><td>846</td><td>1</td><td>28</td><td>15:50:11</td><td>30.654</td><td>30654</td></tr><tr><td>1053</td><td>822</td><td>1</td><td>28</td><td>15:50:46</td><td>30.167</td><td>30167</td></tr><tr><td>1053</td><td>4</td><td>1</td><td>28</td><td>15:51:18</td><td>30.864</td><td>30864</td></tr><tr><td>1053</td><td>1</td><td>2</td><td>31</td><td>15:55:30</td><td>38.198</td><td>38198</td></tr><tr><td>1053</td><td>839</td><td>3</td><td>31</td><td>15:56:23</td><td>30.701</td><td>30701</td></tr><tr><td>1053</td><td>830</td><td>2</td><td>33</td><td>15:58:11</td><td>27:01.361</td><td>1621361</td></tr><tr><td>1053</td><td>840</td><td>2</td><td>32</td><td>15:58:13</td><td>24:52.090</td><td>1492090</td></tr><tr><td>1053</td><td>8</td><td>2</td><td>32</td><td>15:58:16</td><td>24:52.612</td><td>1492612</td></tr><tr><td>1053</td><td>1</td><td>3</td><td>32</td><td>15:58:17</td><td>24:54.731</td><td>1494731</td></tr><tr><td>1053</td><td>854</td><td>3</td><td>31</td><td>15:58:20</td><td>25:21.462</td><td>1521462</td></tr><tr><td>1053</td><td>852</td><td>2</td><td>32</td><td>15:58:24</td><td>24:51.384</td><td>1491384</td></tr><tr><td>1053</td><td>841</td><td>2</td><td>32</td><td>15:58:26</td><td>24:56.541</td><td>1496541</td></tr><tr><td>1053</td><td>844</td><td>2</td><td>33</td><td>15:58:28</td><td>26:49.484</td><td>1609484</td></tr><tr><td>1053</td><td>4</td><td>2</td><td>32</td><td>15:58:37</td><td>24:48.372</td><td>1488372</td></tr><tr><td>1053</td><td>839</td><td>4</td><td>32</td><td>15:58:48</td><td>24:38.974</td><td>1478974</td></tr><tr><td>1053</td><td>853</td><td>3</td><td>31</td><td>15:58:57</td><td>24:46.154</td><td>1486154</td></tr><tr><td>1053</td><td>846</td><td>2</td><td>33</td><td>15:59:06</td><td>26:24.953</td><td>1584953</td></tr><tr><td>1053</td><td>815</td><td>2</td><td>33</td><td>15:59:11</td><td>26:21.158</td><td>1581158</td></tr><tr><td>1053</td><td>832</td><td>2</td><td>33</td><td>15:59:14</td><td>26:22.211</td><td>1582211</td></tr><tr><td>1053</td><td>842</td><td>3</td><td>32</td><td>15:59:18</td><td>24:13.539</td><td>1453539</td></tr><tr><td>1053</td><td>20</td><td>4</td><td>32</td><td>15:59:21</td><td>24:12.323</td><td>1452323</td></tr><tr><td>1053</td><td>817</td><td>2</td><td>33</td><td>15:59:25</td><td>26:14.827</td><td>1574827</td></tr><tr><td>1053</td><td>840</td><td>3</td><td>33</td><td>16:24:36</td><td>1:05.390</td><td>65390</td></tr><tr><td>1053</td><td>8</td><td>3</td><td>33</td><td>16:24:42</td><td>1:02.892</td><td>62892</td></tr><tr><td>1053</td><td>1</td><td>4</td><td>33</td><td>16:24:48</td><td>1:05.870</td><td>65870</td></tr><tr><td>1053</td><td>852</td><td>3</td><td>33</td><td>16:24:52</td><td>1:03.280</td><td>63280</td></tr><tr><td>1053</td><td>841</td><td>3</td><td>33</td><td>16:24:58</td><td>1:00.172</td><td>60172</td></tr><tr><td>1053</td><td>4</td><td>3</td><td>33</td><td>16:25:04</td><td>57.601</td><td>57601</td></tr><tr><td>1053</td><td>839</td><td>5</td><td>33</td><td>16:25:06</td><td>56.733</td><td>56733</td></tr><tr><td>1053</td><td>842</td><td>4</td><td>33</td><td>16:25:09</td><td>56.083</td><td>56083</td></tr><tr><td>1053</td><td>20</td><td>5</td><td>33</td><td>16:25:15</td><td>52.043</td><td>52043</td></tr><tr><td>1053</td><td>854</td><td>4</td><td>32</td><td>16:25:16</td><td>51.222</td><td>51222</td></tr><tr><td>1053</td><td>853</td><td>4</td><td>32</td><td>16:25:22</td><td>49.729</td><td>49729</td></tr><tr><td>1053</td><td>841</td><td>4</td><td>40</td><td>16:36:13</td><td>29.742</td><td>29742</td></tr></tbody></table></div>"
      ]
     },
     "metadata": {
      "application/vnd.databricks.v1+output": {
       "addedWidgets": {},
       "aggData": [],
       "aggError": "",
       "aggOverflow": false,
       "aggSchema": [],
       "aggSeriesLimitReached": false,
       "aggType": "",
       "arguments": {},
       "columnCustomDisplayInfos": {},
       "data": [
        [
         1053,
         839,
         "1",
         1,
         "15:05:16",
         "30.866",
         30866
        ],
        [
         1053,
         20,
         "1",
         3,
         "15:10:09",
         "32.024",
         32024
        ],
        [
         1053,
         854,
         "1",
         5,
         "15:15:11",
         "51.007",
         51007
        ],
        [
         1053,
         853,
         "1",
         12,
         "15:27:20",
         "31.168",
         31168
        ],
        [
         1053,
         842,
         "1",
         14,
         "15:30:10",
         "31.068",
         31068
        ],
        [
         1053,
         20,
         "2",
         20,
         "15:39:11",
         "31.184",
         31184
        ],
        [
         1053,
         854,
         "2",
         21,
         "15:41:24",
         "32.479",
         32479
        ],
        [
         1053,
         20,
         "3",
         22,
         "15:42:52",
         "39.502",
         39502
        ],
        [
         1053,
         853,
         "2",
         23,
         "15:45:20",
         "31.5",
         31500
        ],
        [
         1053,
         852,
         "1",
         25,
         "15:46:39",
         "30.696",
         30696
        ],
        [
         1053,
         847,
         "1",
         26,
         "15:47:53",
         "29.983",
         29983
        ],
        [
         1053,
         8,
         "1",
         26,
         "15:47:55",
         "30.28",
         30280
        ],
        [
         1053,
         830,
         "1",
         27,
         "15:47:59",
         "29.809",
         29809
        ],
        [
         1053,
         842,
         "2",
         26,
         "15:48:45",
         "32.277",
         32277
        ],
        [
         1053,
         832,
         "1",
         27,
         "15:48:51",
         "30.856",
         30856
        ],
        [
         1053,
         817,
         "1",
         27,
         "15:48:57",
         "34.34",
         34340
        ],
        [
         1053,
         840,
         "1",
         27,
         "15:49:16",
         "31.138",
         31138
        ],
        [
         1053,
         1,
         "1",
         28,
         "15:49:27",
         "32.112",
         32112
        ],
        [
         1053,
         841,
         "1",
         27,
         "15:49:32",
         "32.299",
         32299
        ],
        [
         1053,
         839,
         "2",
         27,
         "15:49:42",
         "30.652",
         30652
        ],
        [
         1053,
         844,
         "1",
         28,
         "15:49:43",
         "31.002",
         31002
        ],
        [
         1053,
         815,
         "1",
         28,
         "15:49:58",
         "44.608",
         44608
        ],
        [
         1053,
         846,
         "1",
         28,
         "15:50:11",
         "30.654",
         30654
        ],
        [
         1053,
         822,
         "1",
         28,
         "15:50:46",
         "30.167",
         30167
        ],
        [
         1053,
         4,
         "1",
         28,
         "15:51:18",
         "30.864",
         30864
        ],
        [
         1053,
         1,
         "2",
         31,
         "15:55:30",
         "38.198",
         38198
        ],
        [
         1053,
         839,
         "3",
         31,
         "15:56:23",
         "30.701",
         30701
        ],
        [
         1053,
         830,
         "2",
         33,
         "15:58:11",
         "27:01.361",
         1621361
        ],
        [
         1053,
         840,
         "2",
         32,
         "15:58:13",
         "24:52.090",
         1492090
        ],
        [
         1053,
         8,
         "2",
         32,
         "15:58:16",
         "24:52.612",
         1492612
        ],
        [
         1053,
         1,
         "3",
         32,
         "15:58:17",
         "24:54.731",
         1494731
        ],
        [
         1053,
         854,
         "3",
         31,
         "15:58:20",
         "25:21.462",
         1521462
        ],
        [
         1053,
         852,
         "2",
         32,
         "15:58:24",
         "24:51.384",
         1491384
        ],
        [
         1053,
         841,
         "2",
         32,
         "15:58:26",
         "24:56.541",
         1496541
        ],
        [
         1053,
         844,
         "2",
         33,
         "15:58:28",
         "26:49.484",
         1609484
        ],
        [
         1053,
         4,
         "2",
         32,
         "15:58:37",
         "24:48.372",
         1488372
        ],
        [
         1053,
         839,
         "4",
         32,
         "15:58:48",
         "24:38.974",
         1478974
        ],
        [
         1053,
         853,
         "3",
         31,
         "15:58:57",
         "24:46.154",
         1486154
        ],
        [
         1053,
         846,
         "2",
         33,
         "15:59:06",
         "26:24.953",
         1584953
        ],
        [
         1053,
         815,
         "2",
         33,
         "15:59:11",
         "26:21.158",
         1581158
        ],
        [
         1053,
         832,
         "2",
         33,
         "15:59:14",
         "26:22.211",
         1582211
        ],
        [
         1053,
         842,
         "3",
         32,
         "15:59:18",
         "24:13.539",
         1453539
        ],
        [
         1053,
         20,
         "4",
         32,
         "15:59:21",
         "24:12.323",
         1452323
        ],
        [
         1053,
         817,
         "2",
         33,
         "15:59:25",
         "26:14.827",
         1574827
        ],
        [
         1053,
         840,
         "3",
         33,
         "16:24:36",
         "1:05.390",
         65390
        ],
        [
         1053,
         8,
         "3",
         33,
         "16:24:42",
         "1:02.892",
         62892
        ],
        [
         1053,
         1,
         "4",
         33,
         "16:24:48",
         "1:05.870",
         65870
        ],
        [
         1053,
         852,
         "3",
         33,
         "16:24:52",
         "1:03.280",
         63280
        ],
        [
         1053,
         841,
         "3",
         33,
         "16:24:58",
         "1:00.172",
         60172
        ],
        [
         1053,
         4,
         "3",
         33,
         "16:25:04",
         "57.601",
         57601
        ],
        [
         1053,
         839,
         "5",
         33,
         "16:25:06",
         "56.733",
         56733
        ],
        [
         1053,
         842,
         "4",
         33,
         "16:25:09",
         "56.083",
         56083
        ],
        [
         1053,
         20,
         "5",
         33,
         "16:25:15",
         "52.043",
         52043
        ],
        [
         1053,
         854,
         "4",
         32,
         "16:25:16",
         "51.222",
         51222
        ],
        [
         1053,
         853,
         "4",
         32,
         "16:25:22",
         "49.729",
         49729
        ],
        [
         1053,
         841,
         "4",
         40,
         "16:36:13",
         "29.742",
         29742
        ]
       ],
       "datasetInfos": [],
       "dbfsResultPath": null,
       "isJsonSchema": true,
       "metadata": {},
       "overflow": false,
       "plotOptions": {
        "customPlotOptions": {},
        "displayType": "table",
        "pivotAggregation": null,
        "pivotColumns": null,
        "xColumns": null,
        "yColumns": null
       },
       "removedWidgets": [],
       "schema": [
        {
         "metadata": "{}",
         "name": "raceId",
         "type": "\"integer\""
        },
        {
         "metadata": "{}",
         "name": "driverId",
         "type": "\"integer\""
        },
        {
         "metadata": "{}",
         "name": "stop",
         "type": "\"string\""
        },
        {
         "metadata": "{}",
         "name": "lap",
         "type": "\"integer\""
        },
        {
         "metadata": "{}",
         "name": "time",
         "type": "\"string\""
        },
        {
         "metadata": "{}",
         "name": "duration",
         "type": "\"string\""
        },
        {
         "metadata": "{}",
         "name": "milliseconds",
         "type": "\"integer\""
        }
       ],
       "type": "table"
      }
     },
     "output_type": "display_data"
    }
   ],
   "source": [
    "display(pit_stops_df)"
   ]
  },
  {
   "cell_type": "code",
   "execution_count": 0,
   "metadata": {
    "application/vnd.databricks.v1+cell": {
     "cellMetadata": {
      "byteLimit": 2048000,
      "rowLimit": 10000
     },
     "inputWidgets": {},
     "nuid": "9f170d18-10e1-4461-b993-d24deae2ac4d",
     "showTitle": false,
     "tableResultSettingsMap": {},
     "title": ""
    }
   },
   "outputs": [
    {
     "output_type": "stream",
     "name": "stdout",
     "output_type": "stream",
     "text": [
      "root\n |-- raceId: integer (nullable = true)\n |-- driverId: integer (nullable = true)\n |-- stop: string (nullable = true)\n |-- lap: integer (nullable = true)\n |-- time: string (nullable = true)\n |-- duration: string (nullable = true)\n |-- milliseconds: integer (nullable = true)\n\n"
     ]
    }
   ],
   "source": [
    "pit_stops_df.printSchema()"
   ]
  },
  {
   "cell_type": "markdown",
   "metadata": {
    "application/vnd.databricks.v1+cell": {
     "cellMetadata": {
      "byteLimit": 2048000,
      "rowLimit": 10000
     },
     "inputWidgets": {},
     "nuid": "800ad836-e4f5-4fae-89d8-2e378cfbc8af",
     "showTitle": false,
     "tableResultSettingsMap": {},
     "title": ""
    }
   },
   "source": [
    "#### Step 2 - Rename cloumns and add new columns"
   ]
  },
  {
   "cell_type": "code",
   "execution_count": 0,
   "metadata": {
    "application/vnd.databricks.v1+cell": {
     "cellMetadata": {
      "byteLimit": 2048000,
      "rowLimit": 10000
     },
     "inputWidgets": {},
     "nuid": "0583771d-93d0-462d-ba29-61b2cf328604",
     "showTitle": false,
     "tableResultSettingsMap": {},
     "title": ""
    }
   },
   "outputs": [],
   "source": [
    "pit_stops_final_df = pit_stops_df.withColumnRenamed(\"driverId\", \"driver_id\")\\\n",
    "  .withColumnRenamed(\"raceId\", \"race_id\")\\\n",
    "    .withColumn(\"data_source\", lit(v_data_source))\n",
    "                                           "
   ]
  },
  {
   "cell_type": "code",
   "execution_count": 0,
   "metadata": {
    "application/vnd.databricks.v1+cell": {
     "cellMetadata": {
      "byteLimit": 2048000,
      "rowLimit": 10000
     },
     "inputWidgets": {},
     "nuid": "b296aedd-dda9-432c-84fe-8ce12f5b47ea",
     "showTitle": false,
     "tableResultSettingsMap": {},
     "title": ""
    }
   },
   "outputs": [],
   "source": [
    "pit_stops_final_df = add_ingestion_date(pit_stops_final_df)"
   ]
  },
  {
   "cell_type": "code",
   "execution_count": 0,
   "metadata": {
    "application/vnd.databricks.v1+cell": {
     "cellMetadata": {
      "byteLimit": 2048000,
      "rowLimit": 10000
     },
     "inputWidgets": {},
     "nuid": "a5444565-6616-4523-9046-5bb3b0bf5ba1",
     "showTitle": false,
     "tableResultSettingsMap": {},
     "title": ""
    }
   },
   "outputs": [
    {
     "output_type": "display_data",
     "data": {
      "text/html": [
       "<style scoped>\n",
       "  .table-result-container {\n",
       "    max-height: 300px;\n",
       "    overflow: auto;\n",
       "  }\n",
       "  table, th, td {\n",
       "    border: 1px solid black;\n",
       "    border-collapse: collapse;\n",
       "  }\n",
       "  th, td {\n",
       "    padding: 5px;\n",
       "  }\n",
       "  th {\n",
       "    text-align: left;\n",
       "  }\n",
       "</style><div class='table-result-container'><table class='table-result'><thead style='background-color: white'><tr><th>race_id</th><th>driver_id</th><th>stop</th><th>lap</th><th>time</th><th>duration</th><th>milliseconds</th><th>data_source</th><th>ingestion_date</th></tr></thead><tbody><tr><td>1053</td><td>839</td><td>1</td><td>1</td><td>15:05:16</td><td>30.866</td><td>30866</td><td>test</td><td>2025-04-10T22:34:22.938+0000</td></tr><tr><td>1053</td><td>20</td><td>1</td><td>3</td><td>15:10:09</td><td>32.024</td><td>32024</td><td>test</td><td>2025-04-10T22:34:22.938+0000</td></tr><tr><td>1053</td><td>854</td><td>1</td><td>5</td><td>15:15:11</td><td>51.007</td><td>51007</td><td>test</td><td>2025-04-10T22:34:22.938+0000</td></tr><tr><td>1053</td><td>853</td><td>1</td><td>12</td><td>15:27:20</td><td>31.168</td><td>31168</td><td>test</td><td>2025-04-10T22:34:22.938+0000</td></tr><tr><td>1053</td><td>842</td><td>1</td><td>14</td><td>15:30:10</td><td>31.068</td><td>31068</td><td>test</td><td>2025-04-10T22:34:22.938+0000</td></tr><tr><td>1053</td><td>20</td><td>2</td><td>20</td><td>15:39:11</td><td>31.184</td><td>31184</td><td>test</td><td>2025-04-10T22:34:22.938+0000</td></tr><tr><td>1053</td><td>854</td><td>2</td><td>21</td><td>15:41:24</td><td>32.479</td><td>32479</td><td>test</td><td>2025-04-10T22:34:22.938+0000</td></tr><tr><td>1053</td><td>20</td><td>3</td><td>22</td><td>15:42:52</td><td>39.502</td><td>39502</td><td>test</td><td>2025-04-10T22:34:22.938+0000</td></tr><tr><td>1053</td><td>853</td><td>2</td><td>23</td><td>15:45:20</td><td>31.5</td><td>31500</td><td>test</td><td>2025-04-10T22:34:22.938+0000</td></tr><tr><td>1053</td><td>852</td><td>1</td><td>25</td><td>15:46:39</td><td>30.696</td><td>30696</td><td>test</td><td>2025-04-10T22:34:22.938+0000</td></tr><tr><td>1053</td><td>847</td><td>1</td><td>26</td><td>15:47:53</td><td>29.983</td><td>29983</td><td>test</td><td>2025-04-10T22:34:22.938+0000</td></tr><tr><td>1053</td><td>8</td><td>1</td><td>26</td><td>15:47:55</td><td>30.28</td><td>30280</td><td>test</td><td>2025-04-10T22:34:22.938+0000</td></tr><tr><td>1053</td><td>830</td><td>1</td><td>27</td><td>15:47:59</td><td>29.809</td><td>29809</td><td>test</td><td>2025-04-10T22:34:22.938+0000</td></tr><tr><td>1053</td><td>842</td><td>2</td><td>26</td><td>15:48:45</td><td>32.277</td><td>32277</td><td>test</td><td>2025-04-10T22:34:22.938+0000</td></tr><tr><td>1053</td><td>832</td><td>1</td><td>27</td><td>15:48:51</td><td>30.856</td><td>30856</td><td>test</td><td>2025-04-10T22:34:22.938+0000</td></tr><tr><td>1053</td><td>817</td><td>1</td><td>27</td><td>15:48:57</td><td>34.34</td><td>34340</td><td>test</td><td>2025-04-10T22:34:22.938+0000</td></tr><tr><td>1053</td><td>840</td><td>1</td><td>27</td><td>15:49:16</td><td>31.138</td><td>31138</td><td>test</td><td>2025-04-10T22:34:22.938+0000</td></tr><tr><td>1053</td><td>1</td><td>1</td><td>28</td><td>15:49:27</td><td>32.112</td><td>32112</td><td>test</td><td>2025-04-10T22:34:22.938+0000</td></tr><tr><td>1053</td><td>841</td><td>1</td><td>27</td><td>15:49:32</td><td>32.299</td><td>32299</td><td>test</td><td>2025-04-10T22:34:22.938+0000</td></tr><tr><td>1053</td><td>839</td><td>2</td><td>27</td><td>15:49:42</td><td>30.652</td><td>30652</td><td>test</td><td>2025-04-10T22:34:22.938+0000</td></tr><tr><td>1053</td><td>844</td><td>1</td><td>28</td><td>15:49:43</td><td>31.002</td><td>31002</td><td>test</td><td>2025-04-10T22:34:22.938+0000</td></tr><tr><td>1053</td><td>815</td><td>1</td><td>28</td><td>15:49:58</td><td>44.608</td><td>44608</td><td>test</td><td>2025-04-10T22:34:22.938+0000</td></tr><tr><td>1053</td><td>846</td><td>1</td><td>28</td><td>15:50:11</td><td>30.654</td><td>30654</td><td>test</td><td>2025-04-10T22:34:22.938+0000</td></tr><tr><td>1053</td><td>822</td><td>1</td><td>28</td><td>15:50:46</td><td>30.167</td><td>30167</td><td>test</td><td>2025-04-10T22:34:22.938+0000</td></tr><tr><td>1053</td><td>4</td><td>1</td><td>28</td><td>15:51:18</td><td>30.864</td><td>30864</td><td>test</td><td>2025-04-10T22:34:22.938+0000</td></tr><tr><td>1053</td><td>1</td><td>2</td><td>31</td><td>15:55:30</td><td>38.198</td><td>38198</td><td>test</td><td>2025-04-10T22:34:22.938+0000</td></tr><tr><td>1053</td><td>839</td><td>3</td><td>31</td><td>15:56:23</td><td>30.701</td><td>30701</td><td>test</td><td>2025-04-10T22:34:22.938+0000</td></tr><tr><td>1053</td><td>830</td><td>2</td><td>33</td><td>15:58:11</td><td>27:01.361</td><td>1621361</td><td>test</td><td>2025-04-10T22:34:22.938+0000</td></tr><tr><td>1053</td><td>840</td><td>2</td><td>32</td><td>15:58:13</td><td>24:52.090</td><td>1492090</td><td>test</td><td>2025-04-10T22:34:22.938+0000</td></tr><tr><td>1053</td><td>8</td><td>2</td><td>32</td><td>15:58:16</td><td>24:52.612</td><td>1492612</td><td>test</td><td>2025-04-10T22:34:22.938+0000</td></tr><tr><td>1053</td><td>1</td><td>3</td><td>32</td><td>15:58:17</td><td>24:54.731</td><td>1494731</td><td>test</td><td>2025-04-10T22:34:22.938+0000</td></tr><tr><td>1053</td><td>854</td><td>3</td><td>31</td><td>15:58:20</td><td>25:21.462</td><td>1521462</td><td>test</td><td>2025-04-10T22:34:22.938+0000</td></tr><tr><td>1053</td><td>852</td><td>2</td><td>32</td><td>15:58:24</td><td>24:51.384</td><td>1491384</td><td>test</td><td>2025-04-10T22:34:22.938+0000</td></tr><tr><td>1053</td><td>841</td><td>2</td><td>32</td><td>15:58:26</td><td>24:56.541</td><td>1496541</td><td>test</td><td>2025-04-10T22:34:22.938+0000</td></tr><tr><td>1053</td><td>844</td><td>2</td><td>33</td><td>15:58:28</td><td>26:49.484</td><td>1609484</td><td>test</td><td>2025-04-10T22:34:22.938+0000</td></tr><tr><td>1053</td><td>4</td><td>2</td><td>32</td><td>15:58:37</td><td>24:48.372</td><td>1488372</td><td>test</td><td>2025-04-10T22:34:22.938+0000</td></tr><tr><td>1053</td><td>839</td><td>4</td><td>32</td><td>15:58:48</td><td>24:38.974</td><td>1478974</td><td>test</td><td>2025-04-10T22:34:22.938+0000</td></tr><tr><td>1053</td><td>853</td><td>3</td><td>31</td><td>15:58:57</td><td>24:46.154</td><td>1486154</td><td>test</td><td>2025-04-10T22:34:22.938+0000</td></tr><tr><td>1053</td><td>846</td><td>2</td><td>33</td><td>15:59:06</td><td>26:24.953</td><td>1584953</td><td>test</td><td>2025-04-10T22:34:22.938+0000</td></tr><tr><td>1053</td><td>815</td><td>2</td><td>33</td><td>15:59:11</td><td>26:21.158</td><td>1581158</td><td>test</td><td>2025-04-10T22:34:22.938+0000</td></tr><tr><td>1053</td><td>832</td><td>2</td><td>33</td><td>15:59:14</td><td>26:22.211</td><td>1582211</td><td>test</td><td>2025-04-10T22:34:22.938+0000</td></tr><tr><td>1053</td><td>842</td><td>3</td><td>32</td><td>15:59:18</td><td>24:13.539</td><td>1453539</td><td>test</td><td>2025-04-10T22:34:22.938+0000</td></tr><tr><td>1053</td><td>20</td><td>4</td><td>32</td><td>15:59:21</td><td>24:12.323</td><td>1452323</td><td>test</td><td>2025-04-10T22:34:22.938+0000</td></tr><tr><td>1053</td><td>817</td><td>2</td><td>33</td><td>15:59:25</td><td>26:14.827</td><td>1574827</td><td>test</td><td>2025-04-10T22:34:22.938+0000</td></tr><tr><td>1053</td><td>840</td><td>3</td><td>33</td><td>16:24:36</td><td>1:05.390</td><td>65390</td><td>test</td><td>2025-04-10T22:34:22.938+0000</td></tr><tr><td>1053</td><td>8</td><td>3</td><td>33</td><td>16:24:42</td><td>1:02.892</td><td>62892</td><td>test</td><td>2025-04-10T22:34:22.938+0000</td></tr><tr><td>1053</td><td>1</td><td>4</td><td>33</td><td>16:24:48</td><td>1:05.870</td><td>65870</td><td>test</td><td>2025-04-10T22:34:22.938+0000</td></tr><tr><td>1053</td><td>852</td><td>3</td><td>33</td><td>16:24:52</td><td>1:03.280</td><td>63280</td><td>test</td><td>2025-04-10T22:34:22.938+0000</td></tr><tr><td>1053</td><td>841</td><td>3</td><td>33</td><td>16:24:58</td><td>1:00.172</td><td>60172</td><td>test</td><td>2025-04-10T22:34:22.938+0000</td></tr><tr><td>1053</td><td>4</td><td>3</td><td>33</td><td>16:25:04</td><td>57.601</td><td>57601</td><td>test</td><td>2025-04-10T22:34:22.938+0000</td></tr><tr><td>1053</td><td>839</td><td>5</td><td>33</td><td>16:25:06</td><td>56.733</td><td>56733</td><td>test</td><td>2025-04-10T22:34:22.938+0000</td></tr><tr><td>1053</td><td>842</td><td>4</td><td>33</td><td>16:25:09</td><td>56.083</td><td>56083</td><td>test</td><td>2025-04-10T22:34:22.938+0000</td></tr><tr><td>1053</td><td>20</td><td>5</td><td>33</td><td>16:25:15</td><td>52.043</td><td>52043</td><td>test</td><td>2025-04-10T22:34:22.938+0000</td></tr><tr><td>1053</td><td>854</td><td>4</td><td>32</td><td>16:25:16</td><td>51.222</td><td>51222</td><td>test</td><td>2025-04-10T22:34:22.938+0000</td></tr><tr><td>1053</td><td>853</td><td>4</td><td>32</td><td>16:25:22</td><td>49.729</td><td>49729</td><td>test</td><td>2025-04-10T22:34:22.938+0000</td></tr><tr><td>1053</td><td>841</td><td>4</td><td>40</td><td>16:36:13</td><td>29.742</td><td>29742</td><td>test</td><td>2025-04-10T22:34:22.938+0000</td></tr></tbody></table></div>"
      ]
     },
     "metadata": {
      "application/vnd.databricks.v1+output": {
       "addedWidgets": {},
       "aggData": [],
       "aggError": "",
       "aggOverflow": false,
       "aggSchema": [],
       "aggSeriesLimitReached": false,
       "aggType": "",
       "arguments": {},
       "columnCustomDisplayInfos": {},
       "data": [
        [
         1053,
         839,
         "1",
         1,
         "15:05:16",
         "30.866",
         30866,
         "test",
         "2025-04-10T22:34:22.938+0000"
        ],
        [
         1053,
         20,
         "1",
         3,
         "15:10:09",
         "32.024",
         32024,
         "test",
         "2025-04-10T22:34:22.938+0000"
        ],
        [
         1053,
         854,
         "1",
         5,
         "15:15:11",
         "51.007",
         51007,
         "test",
         "2025-04-10T22:34:22.938+0000"
        ],
        [
         1053,
         853,
         "1",
         12,
         "15:27:20",
         "31.168",
         31168,
         "test",
         "2025-04-10T22:34:22.938+0000"
        ],
        [
         1053,
         842,
         "1",
         14,
         "15:30:10",
         "31.068",
         31068,
         "test",
         "2025-04-10T22:34:22.938+0000"
        ],
        [
         1053,
         20,
         "2",
         20,
         "15:39:11",
         "31.184",
         31184,
         "test",
         "2025-04-10T22:34:22.938+0000"
        ],
        [
         1053,
         854,
         "2",
         21,
         "15:41:24",
         "32.479",
         32479,
         "test",
         "2025-04-10T22:34:22.938+0000"
        ],
        [
         1053,
         20,
         "3",
         22,
         "15:42:52",
         "39.502",
         39502,
         "test",
         "2025-04-10T22:34:22.938+0000"
        ],
        [
         1053,
         853,
         "2",
         23,
         "15:45:20",
         "31.5",
         31500,
         "test",
         "2025-04-10T22:34:22.938+0000"
        ],
        [
         1053,
         852,
         "1",
         25,
         "15:46:39",
         "30.696",
         30696,
         "test",
         "2025-04-10T22:34:22.938+0000"
        ],
        [
         1053,
         847,
         "1",
         26,
         "15:47:53",
         "29.983",
         29983,
         "test",
         "2025-04-10T22:34:22.938+0000"
        ],
        [
         1053,
         8,
         "1",
         26,
         "15:47:55",
         "30.28",
         30280,
         "test",
         "2025-04-10T22:34:22.938+0000"
        ],
        [
         1053,
         830,
         "1",
         27,
         "15:47:59",
         "29.809",
         29809,
         "test",
         "2025-04-10T22:34:22.938+0000"
        ],
        [
         1053,
         842,
         "2",
         26,
         "15:48:45",
         "32.277",
         32277,
         "test",
         "2025-04-10T22:34:22.938+0000"
        ],
        [
         1053,
         832,
         "1",
         27,
         "15:48:51",
         "30.856",
         30856,
         "test",
         "2025-04-10T22:34:22.938+0000"
        ],
        [
         1053,
         817,
         "1",
         27,
         "15:48:57",
         "34.34",
         34340,
         "test",
         "2025-04-10T22:34:22.938+0000"
        ],
        [
         1053,
         840,
         "1",
         27,
         "15:49:16",
         "31.138",
         31138,
         "test",
         "2025-04-10T22:34:22.938+0000"
        ],
        [
         1053,
         1,
         "1",
         28,
         "15:49:27",
         "32.112",
         32112,
         "test",
         "2025-04-10T22:34:22.938+0000"
        ],
        [
         1053,
         841,
         "1",
         27,
         "15:49:32",
         "32.299",
         32299,
         "test",
         "2025-04-10T22:34:22.938+0000"
        ],
        [
         1053,
         839,
         "2",
         27,
         "15:49:42",
         "30.652",
         30652,
         "test",
         "2025-04-10T22:34:22.938+0000"
        ],
        [
         1053,
         844,
         "1",
         28,
         "15:49:43",
         "31.002",
         31002,
         "test",
         "2025-04-10T22:34:22.938+0000"
        ],
        [
         1053,
         815,
         "1",
         28,
         "15:49:58",
         "44.608",
         44608,
         "test",
         "2025-04-10T22:34:22.938+0000"
        ],
        [
         1053,
         846,
         "1",
         28,
         "15:50:11",
         "30.654",
         30654,
         "test",
         "2025-04-10T22:34:22.938+0000"
        ],
        [
         1053,
         822,
         "1",
         28,
         "15:50:46",
         "30.167",
         30167,
         "test",
         "2025-04-10T22:34:22.938+0000"
        ],
        [
         1053,
         4,
         "1",
         28,
         "15:51:18",
         "30.864",
         30864,
         "test",
         "2025-04-10T22:34:22.938+0000"
        ],
        [
         1053,
         1,
         "2",
         31,
         "15:55:30",
         "38.198",
         38198,
         "test",
         "2025-04-10T22:34:22.938+0000"
        ],
        [
         1053,
         839,
         "3",
         31,
         "15:56:23",
         "30.701",
         30701,
         "test",
         "2025-04-10T22:34:22.938+0000"
        ],
        [
         1053,
         830,
         "2",
         33,
         "15:58:11",
         "27:01.361",
         1621361,
         "test",
         "2025-04-10T22:34:22.938+0000"
        ],
        [
         1053,
         840,
         "2",
         32,
         "15:58:13",
         "24:52.090",
         1492090,
         "test",
         "2025-04-10T22:34:22.938+0000"
        ],
        [
         1053,
         8,
         "2",
         32,
         "15:58:16",
         "24:52.612",
         1492612,
         "test",
         "2025-04-10T22:34:22.938+0000"
        ],
        [
         1053,
         1,
         "3",
         32,
         "15:58:17",
         "24:54.731",
         1494731,
         "test",
         "2025-04-10T22:34:22.938+0000"
        ],
        [
         1053,
         854,
         "3",
         31,
         "15:58:20",
         "25:21.462",
         1521462,
         "test",
         "2025-04-10T22:34:22.938+0000"
        ],
        [
         1053,
         852,
         "2",
         32,
         "15:58:24",
         "24:51.384",
         1491384,
         "test",
         "2025-04-10T22:34:22.938+0000"
        ],
        [
         1053,
         841,
         "2",
         32,
         "15:58:26",
         "24:56.541",
         1496541,
         "test",
         "2025-04-10T22:34:22.938+0000"
        ],
        [
         1053,
         844,
         "2",
         33,
         "15:58:28",
         "26:49.484",
         1609484,
         "test",
         "2025-04-10T22:34:22.938+0000"
        ],
        [
         1053,
         4,
         "2",
         32,
         "15:58:37",
         "24:48.372",
         1488372,
         "test",
         "2025-04-10T22:34:22.938+0000"
        ],
        [
         1053,
         839,
         "4",
         32,
         "15:58:48",
         "24:38.974",
         1478974,
         "test",
         "2025-04-10T22:34:22.938+0000"
        ],
        [
         1053,
         853,
         "3",
         31,
         "15:58:57",
         "24:46.154",
         1486154,
         "test",
         "2025-04-10T22:34:22.938+0000"
        ],
        [
         1053,
         846,
         "2",
         33,
         "15:59:06",
         "26:24.953",
         1584953,
         "test",
         "2025-04-10T22:34:22.938+0000"
        ],
        [
         1053,
         815,
         "2",
         33,
         "15:59:11",
         "26:21.158",
         1581158,
         "test",
         "2025-04-10T22:34:22.938+0000"
        ],
        [
         1053,
         832,
         "2",
         33,
         "15:59:14",
         "26:22.211",
         1582211,
         "test",
         "2025-04-10T22:34:22.938+0000"
        ],
        [
         1053,
         842,
         "3",
         32,
         "15:59:18",
         "24:13.539",
         1453539,
         "test",
         "2025-04-10T22:34:22.938+0000"
        ],
        [
         1053,
         20,
         "4",
         32,
         "15:59:21",
         "24:12.323",
         1452323,
         "test",
         "2025-04-10T22:34:22.938+0000"
        ],
        [
         1053,
         817,
         "2",
         33,
         "15:59:25",
         "26:14.827",
         1574827,
         "test",
         "2025-04-10T22:34:22.938+0000"
        ],
        [
         1053,
         840,
         "3",
         33,
         "16:24:36",
         "1:05.390",
         65390,
         "test",
         "2025-04-10T22:34:22.938+0000"
        ],
        [
         1053,
         8,
         "3",
         33,
         "16:24:42",
         "1:02.892",
         62892,
         "test",
         "2025-04-10T22:34:22.938+0000"
        ],
        [
         1053,
         1,
         "4",
         33,
         "16:24:48",
         "1:05.870",
         65870,
         "test",
         "2025-04-10T22:34:22.938+0000"
        ],
        [
         1053,
         852,
         "3",
         33,
         "16:24:52",
         "1:03.280",
         63280,
         "test",
         "2025-04-10T22:34:22.938+0000"
        ],
        [
         1053,
         841,
         "3",
         33,
         "16:24:58",
         "1:00.172",
         60172,
         "test",
         "2025-04-10T22:34:22.938+0000"
        ],
        [
         1053,
         4,
         "3",
         33,
         "16:25:04",
         "57.601",
         57601,
         "test",
         "2025-04-10T22:34:22.938+0000"
        ],
        [
         1053,
         839,
         "5",
         33,
         "16:25:06",
         "56.733",
         56733,
         "test",
         "2025-04-10T22:34:22.938+0000"
        ],
        [
         1053,
         842,
         "4",
         33,
         "16:25:09",
         "56.083",
         56083,
         "test",
         "2025-04-10T22:34:22.938+0000"
        ],
        [
         1053,
         20,
         "5",
         33,
         "16:25:15",
         "52.043",
         52043,
         "test",
         "2025-04-10T22:34:22.938+0000"
        ],
        [
         1053,
         854,
         "4",
         32,
         "16:25:16",
         "51.222",
         51222,
         "test",
         "2025-04-10T22:34:22.938+0000"
        ],
        [
         1053,
         853,
         "4",
         32,
         "16:25:22",
         "49.729",
         49729,
         "test",
         "2025-04-10T22:34:22.938+0000"
        ],
        [
         1053,
         841,
         "4",
         40,
         "16:36:13",
         "29.742",
         29742,
         "test",
         "2025-04-10T22:34:22.938+0000"
        ]
       ],
       "datasetInfos": [],
       "dbfsResultPath": null,
       "isJsonSchema": true,
       "metadata": {},
       "overflow": false,
       "plotOptions": {
        "customPlotOptions": {},
        "displayType": "table",
        "pivotAggregation": null,
        "pivotColumns": null,
        "xColumns": null,
        "yColumns": null
       },
       "removedWidgets": [],
       "schema": [
        {
         "metadata": "{}",
         "name": "race_id",
         "type": "\"integer\""
        },
        {
         "metadata": "{}",
         "name": "driver_id",
         "type": "\"integer\""
        },
        {
         "metadata": "{}",
         "name": "stop",
         "type": "\"string\""
        },
        {
         "metadata": "{}",
         "name": "lap",
         "type": "\"integer\""
        },
        {
         "metadata": "{}",
         "name": "time",
         "type": "\"string\""
        },
        {
         "metadata": "{}",
         "name": "duration",
         "type": "\"string\""
        },
        {
         "metadata": "{}",
         "name": "milliseconds",
         "type": "\"integer\""
        },
        {
         "metadata": "{}",
         "name": "data_source",
         "type": "\"string\""
        },
        {
         "metadata": "{}",
         "name": "ingestion_date",
         "type": "\"timestamp\""
        }
       ],
       "type": "table"
      }
     },
     "output_type": "display_data"
    }
   ],
   "source": [
    "display(pit_stops_final_df)"
   ]
  },
  {
   "cell_type": "markdown",
   "metadata": {
    "application/vnd.databricks.v1+cell": {
     "cellMetadata": {
      "byteLimit": 2048000,
      "rowLimit": 10000
     },
     "inputWidgets": {},
     "nuid": "09b5a1fb-a927-425d-bef4-f92268a6ca9e",
     "showTitle": false,
     "tableResultSettingsMap": {},
     "title": ""
    }
   },
   "source": [
    "\n",
    "#### Step 3 - Write to output to processed container in parquet format"
   ]
  },
  {
   "cell_type": "code",
   "execution_count": 0,
   "metadata": {
    "application/vnd.databricks.v1+cell": {
     "cellMetadata": {
      "byteLimit": 2048000,
      "rowLimit": 10000
     },
     "inputWidgets": {},
     "nuid": "db97b470-7cbc-447c-9cff-64f16b27f354",
     "showTitle": false,
     "tableResultSettingsMap": {},
     "title": ""
    }
   },
   "outputs": [],
   "source": [
    "##pit_stops_final_df.write.mode(\"overwrite\").parquet(f\"{processed_folder_path}/pit_stops\")\n",
    "\n",
    "#pit_stops_final_df.write.mode(\"overwrite\").format(\"parquet\").saveAsTable(\"f1_processed.pit_stops\")"
   ]
  },
  {
   "cell_type": "code",
   "execution_count": 0,
   "metadata": {
    "application/vnd.databricks.v1+cell": {
     "cellMetadata": {
      "byteLimit": 2048000,
      "rowLimit": 10000
     },
     "inputWidgets": {},
     "nuid": "8c9afb79-dd5e-4eed-9965-5b6fcaab06d9",
     "showTitle": false,
     "tableResultSettingsMap": {},
     "title": ""
    }
   },
   "outputs": [],
   "source": [
    "#overwrite_partition(pit_stops_final_df, \"f1_processed\", \"pit_stops\", \"race_id\")"
   ]
  },
  {
   "cell_type": "code",
   "execution_count": 0,
   "metadata": {
    "application/vnd.databricks.v1+cell": {
     "cellMetadata": {
      "byteLimit": 2048000,
      "rowLimit": 10000
     },
     "inputWidgets": {},
     "nuid": "9cb9c4df-94bc-41fc-8e7e-3c8958f18ce1",
     "showTitle": false,
     "tableResultSettingsMap": {},
     "title": ""
    }
   },
   "outputs": [],
   "source": [
    "merge_condition =\"tgt.race_id =src.race_id AND tgt.driver_id = src.driver_id AND tgt.stop = src.stop AND tgt.race_id = src.race_id\"\n",
    "merge_delta_data (pit_stops_final_df,\"f1_processed\", \"pit_stops\",processed_folder_path,merge_condition,\"race_id\")"
   ]
  },
  {
   "cell_type": "code",
   "execution_count": 0,
   "metadata": {
    "application/vnd.databricks.v1+cell": {
     "cellMetadata": {
      "byteLimit": 2048000,
      "rowLimit": 10000
     },
     "inputWidgets": {},
     "nuid": "942b560e-b027-46de-910c-0af7ee3f0095",
     "showTitle": false,
     "tableResultSettingsMap": {},
     "title": ""
    }
   },
   "outputs": [
    {
     "output_type": "display_data",
     "data": {
      "text/html": [
       "<style scoped>\n",
       "  .table-result-container {\n",
       "    max-height: 300px;\n",
       "    overflow: auto;\n",
       "  }\n",
       "  table, th, td {\n",
       "    border: 1px solid black;\n",
       "    border-collapse: collapse;\n",
       "  }\n",
       "  th, td {\n",
       "    padding: 5px;\n",
       "  }\n",
       "  th {\n",
       "    text-align: left;\n",
       "  }\n",
       "</style><div class='table-result-container'><table class='table-result'><thead style='background-color: white'><tr><th>path</th><th>name</th><th>size</th><th>modificationTime</th></tr></thead><tbody><tr><td>dbfs:/mnt/formula1dl2025practice/processed/pit_stops/_delta_log/</td><td>_delta_log/</td><td>0</td><td>1744324257000</td></tr><tr><td>dbfs:/mnt/formula1dl2025practice/processed/pit_stops/race_id=1000/</td><td>race_id=1000/</td><td>0</td><td>1744324271000</td></tr><tr><td>dbfs:/mnt/formula1dl2025practice/processed/pit_stops/race_id=1001/</td><td>race_id=1001/</td><td>0</td><td>1744324271000</td></tr><tr><td>dbfs:/mnt/formula1dl2025practice/processed/pit_stops/race_id=1002/</td><td>race_id=1002/</td><td>0</td><td>1744324271000</td></tr><tr><td>dbfs:/mnt/formula1dl2025practice/processed/pit_stops/race_id=1003/</td><td>race_id=1003/</td><td>0</td><td>1744324272000</td></tr><tr><td>dbfs:/mnt/formula1dl2025practice/processed/pit_stops/race_id=1004/</td><td>race_id=1004/</td><td>0</td><td>1744324272000</td></tr><tr><td>dbfs:/mnt/formula1dl2025practice/processed/pit_stops/race_id=1005/</td><td>race_id=1005/</td><td>0</td><td>1744324272000</td></tr><tr><td>dbfs:/mnt/formula1dl2025practice/processed/pit_stops/race_id=1006/</td><td>race_id=1006/</td><td>0</td><td>1744324272000</td></tr><tr><td>dbfs:/mnt/formula1dl2025practice/processed/pit_stops/race_id=1007/</td><td>race_id=1007/</td><td>0</td><td>1744324272000</td></tr><tr><td>dbfs:/mnt/formula1dl2025practice/processed/pit_stops/race_id=1008/</td><td>race_id=1008/</td><td>0</td><td>1744324272000</td></tr><tr><td>dbfs:/mnt/formula1dl2025practice/processed/pit_stops/race_id=1009/</td><td>race_id=1009/</td><td>0</td><td>1744324272000</td></tr><tr><td>dbfs:/mnt/formula1dl2025practice/processed/pit_stops/race_id=1010/</td><td>race_id=1010/</td><td>0</td><td>1744324272000</td></tr><tr><td>dbfs:/mnt/formula1dl2025practice/processed/pit_stops/race_id=1011/</td><td>race_id=1011/</td><td>0</td><td>1744324272000</td></tr><tr><td>dbfs:/mnt/formula1dl2025practice/processed/pit_stops/race_id=1012/</td><td>race_id=1012/</td><td>0</td><td>1744324272000</td></tr><tr><td>dbfs:/mnt/formula1dl2025practice/processed/pit_stops/race_id=1013/</td><td>race_id=1013/</td><td>0</td><td>1744324272000</td></tr><tr><td>dbfs:/mnt/formula1dl2025practice/processed/pit_stops/race_id=1014/</td><td>race_id=1014/</td><td>0</td><td>1744324273000</td></tr><tr><td>dbfs:/mnt/formula1dl2025practice/processed/pit_stops/race_id=1015/</td><td>race_id=1015/</td><td>0</td><td>1744324273000</td></tr><tr><td>dbfs:/mnt/formula1dl2025practice/processed/pit_stops/race_id=1016/</td><td>race_id=1016/</td><td>0</td><td>1744324273000</td></tr><tr><td>dbfs:/mnt/formula1dl2025practice/processed/pit_stops/race_id=1017/</td><td>race_id=1017/</td><td>0</td><td>1744324273000</td></tr><tr><td>dbfs:/mnt/formula1dl2025practice/processed/pit_stops/race_id=1018/</td><td>race_id=1018/</td><td>0</td><td>1744324273000</td></tr><tr><td>dbfs:/mnt/formula1dl2025practice/processed/pit_stops/race_id=1019/</td><td>race_id=1019/</td><td>0</td><td>1744324273000</td></tr><tr><td>dbfs:/mnt/formula1dl2025practice/processed/pit_stops/race_id=1020/</td><td>race_id=1020/</td><td>0</td><td>1744324273000</td></tr><tr><td>dbfs:/mnt/formula1dl2025practice/processed/pit_stops/race_id=1021/</td><td>race_id=1021/</td><td>0</td><td>1744324273000</td></tr><tr><td>dbfs:/mnt/formula1dl2025practice/processed/pit_stops/race_id=1022/</td><td>race_id=1022/</td><td>0</td><td>1744324273000</td></tr><tr><td>dbfs:/mnt/formula1dl2025practice/processed/pit_stops/race_id=1023/</td><td>race_id=1023/</td><td>0</td><td>1744324273000</td></tr><tr><td>dbfs:/mnt/formula1dl2025practice/processed/pit_stops/race_id=1024/</td><td>race_id=1024/</td><td>0</td><td>1744324273000</td></tr><tr><td>dbfs:/mnt/formula1dl2025practice/processed/pit_stops/race_id=1025/</td><td>race_id=1025/</td><td>0</td><td>1744324274000</td></tr><tr><td>dbfs:/mnt/formula1dl2025practice/processed/pit_stops/race_id=1026/</td><td>race_id=1026/</td><td>0</td><td>1744324274000</td></tr><tr><td>dbfs:/mnt/formula1dl2025practice/processed/pit_stops/race_id=1027/</td><td>race_id=1027/</td><td>0</td><td>1744324274000</td></tr><tr><td>dbfs:/mnt/formula1dl2025practice/processed/pit_stops/race_id=1028/</td><td>race_id=1028/</td><td>0</td><td>1744324274000</td></tr><tr><td>dbfs:/mnt/formula1dl2025practice/processed/pit_stops/race_id=1029/</td><td>race_id=1029/</td><td>0</td><td>1744324274000</td></tr><tr><td>dbfs:/mnt/formula1dl2025practice/processed/pit_stops/race_id=1030/</td><td>race_id=1030/</td><td>0</td><td>1744324274000</td></tr><tr><td>dbfs:/mnt/formula1dl2025practice/processed/pit_stops/race_id=1031/</td><td>race_id=1031/</td><td>0</td><td>1744324274000</td></tr><tr><td>dbfs:/mnt/formula1dl2025practice/processed/pit_stops/race_id=1032/</td><td>race_id=1032/</td><td>0</td><td>1744324274000</td></tr><tr><td>dbfs:/mnt/formula1dl2025practice/processed/pit_stops/race_id=1033/</td><td>race_id=1033/</td><td>0</td><td>1744324274000</td></tr><tr><td>dbfs:/mnt/formula1dl2025practice/processed/pit_stops/race_id=1034/</td><td>race_id=1034/</td><td>0</td><td>1744324274000</td></tr><tr><td>dbfs:/mnt/formula1dl2025practice/processed/pit_stops/race_id=1035/</td><td>race_id=1035/</td><td>0</td><td>1744324275000</td></tr><tr><td>dbfs:/mnt/formula1dl2025practice/processed/pit_stops/race_id=1036/</td><td>race_id=1036/</td><td>0</td><td>1744324275000</td></tr><tr><td>dbfs:/mnt/formula1dl2025practice/processed/pit_stops/race_id=1037/</td><td>race_id=1037/</td><td>0</td><td>1744324275000</td></tr><tr><td>dbfs:/mnt/formula1dl2025practice/processed/pit_stops/race_id=1038/</td><td>race_id=1038/</td><td>0</td><td>1744324275000</td></tr><tr><td>dbfs:/mnt/formula1dl2025practice/processed/pit_stops/race_id=1039/</td><td>race_id=1039/</td><td>0</td><td>1744324275000</td></tr><tr><td>dbfs:/mnt/formula1dl2025practice/processed/pit_stops/race_id=1040/</td><td>race_id=1040/</td><td>0</td><td>1744324275000</td></tr><tr><td>dbfs:/mnt/formula1dl2025practice/processed/pit_stops/race_id=1041/</td><td>race_id=1041/</td><td>0</td><td>1744324275000</td></tr><tr><td>dbfs:/mnt/formula1dl2025practice/processed/pit_stops/race_id=1042/</td><td>race_id=1042/</td><td>0</td><td>1744324275000</td></tr><tr><td>dbfs:/mnt/formula1dl2025practice/processed/pit_stops/race_id=1043/</td><td>race_id=1043/</td><td>0</td><td>1744324276000</td></tr><tr><td>dbfs:/mnt/formula1dl2025practice/processed/pit_stops/race_id=1044/</td><td>race_id=1044/</td><td>0</td><td>1744324276000</td></tr><tr><td>dbfs:/mnt/formula1dl2025practice/processed/pit_stops/race_id=1045/</td><td>race_id=1045/</td><td>0</td><td>1744324276000</td></tr><tr><td>dbfs:/mnt/formula1dl2025practice/processed/pit_stops/race_id=1046/</td><td>race_id=1046/</td><td>0</td><td>1744324276000</td></tr><tr><td>dbfs:/mnt/formula1dl2025practice/processed/pit_stops/race_id=1047/</td><td>race_id=1047/</td><td>0</td><td>1744324276000</td></tr><tr><td>dbfs:/mnt/formula1dl2025practice/processed/pit_stops/race_id=1052/</td><td>race_id=1052/</td><td>0</td><td>1744324429000</td></tr><tr><td>dbfs:/mnt/formula1dl2025practice/processed/pit_stops/race_id=1053/</td><td>race_id=1053/</td><td>0</td><td>1744324467000</td></tr><tr><td>dbfs:/mnt/formula1dl2025practice/processed/pit_stops/race_id=841/</td><td>race_id=841/</td><td>0</td><td>1744324206000</td></tr><tr><td>dbfs:/mnt/formula1dl2025practice/processed/pit_stops/race_id=842/</td><td>race_id=842/</td><td>0</td><td>1744324207000</td></tr><tr><td>dbfs:/mnt/formula1dl2025practice/processed/pit_stops/race_id=843/</td><td>race_id=843/</td><td>0</td><td>1744324207000</td></tr><tr><td>dbfs:/mnt/formula1dl2025practice/processed/pit_stops/race_id=844/</td><td>race_id=844/</td><td>0</td><td>1744324207000</td></tr><tr><td>dbfs:/mnt/formula1dl2025practice/processed/pit_stops/race_id=845/</td><td>race_id=845/</td><td>0</td><td>1744324207000</td></tr><tr><td>dbfs:/mnt/formula1dl2025practice/processed/pit_stops/race_id=846/</td><td>race_id=846/</td><td>0</td><td>1744324207000</td></tr><tr><td>dbfs:/mnt/formula1dl2025practice/processed/pit_stops/race_id=847/</td><td>race_id=847/</td><td>0</td><td>1744324207000</td></tr><tr><td>dbfs:/mnt/formula1dl2025practice/processed/pit_stops/race_id=848/</td><td>race_id=848/</td><td>0</td><td>1744324208000</td></tr><tr><td>dbfs:/mnt/formula1dl2025practice/processed/pit_stops/race_id=849/</td><td>race_id=849/</td><td>0</td><td>1744324208000</td></tr><tr><td>dbfs:/mnt/formula1dl2025practice/processed/pit_stops/race_id=850/</td><td>race_id=850/</td><td>0</td><td>1744324208000</td></tr><tr><td>dbfs:/mnt/formula1dl2025practice/processed/pit_stops/race_id=851/</td><td>race_id=851/</td><td>0</td><td>1744324208000</td></tr><tr><td>dbfs:/mnt/formula1dl2025practice/processed/pit_stops/race_id=852/</td><td>race_id=852/</td><td>0</td><td>1744324208000</td></tr><tr><td>dbfs:/mnt/formula1dl2025practice/processed/pit_stops/race_id=853/</td><td>race_id=853/</td><td>0</td><td>1744324208000</td></tr><tr><td>dbfs:/mnt/formula1dl2025practice/processed/pit_stops/race_id=854/</td><td>race_id=854/</td><td>0</td><td>1744324208000</td></tr><tr><td>dbfs:/mnt/formula1dl2025practice/processed/pit_stops/race_id=855/</td><td>race_id=855/</td><td>0</td><td>1744324209000</td></tr><tr><td>dbfs:/mnt/formula1dl2025practice/processed/pit_stops/race_id=856/</td><td>race_id=856/</td><td>0</td><td>1744324209000</td></tr><tr><td>dbfs:/mnt/formula1dl2025practice/processed/pit_stops/race_id=857/</td><td>race_id=857/</td><td>0</td><td>1744324209000</td></tr><tr><td>dbfs:/mnt/formula1dl2025practice/processed/pit_stops/race_id=858/</td><td>race_id=858/</td><td>0</td><td>1744324209000</td></tr><tr><td>dbfs:/mnt/formula1dl2025practice/processed/pit_stops/race_id=859/</td><td>race_id=859/</td><td>0</td><td>1744324209000</td></tr><tr><td>dbfs:/mnt/formula1dl2025practice/processed/pit_stops/race_id=860/</td><td>race_id=860/</td><td>0</td><td>1744324209000</td></tr><tr><td>dbfs:/mnt/formula1dl2025practice/processed/pit_stops/race_id=861/</td><td>race_id=861/</td><td>0</td><td>1744324210000</td></tr><tr><td>dbfs:/mnt/formula1dl2025practice/processed/pit_stops/race_id=862/</td><td>race_id=862/</td><td>0</td><td>1744324210000</td></tr><tr><td>dbfs:/mnt/formula1dl2025practice/processed/pit_stops/race_id=863/</td><td>race_id=863/</td><td>0</td><td>1744324210000</td></tr><tr><td>dbfs:/mnt/formula1dl2025practice/processed/pit_stops/race_id=864/</td><td>race_id=864/</td><td>0</td><td>1744324210000</td></tr><tr><td>dbfs:/mnt/formula1dl2025practice/processed/pit_stops/race_id=865/</td><td>race_id=865/</td><td>0</td><td>1744324210000</td></tr><tr><td>dbfs:/mnt/formula1dl2025practice/processed/pit_stops/race_id=866/</td><td>race_id=866/</td><td>0</td><td>1744324210000</td></tr><tr><td>dbfs:/mnt/formula1dl2025practice/processed/pit_stops/race_id=867/</td><td>race_id=867/</td><td>0</td><td>1744324210000</td></tr><tr><td>dbfs:/mnt/formula1dl2025practice/processed/pit_stops/race_id=868/</td><td>race_id=868/</td><td>0</td><td>1744324211000</td></tr><tr><td>dbfs:/mnt/formula1dl2025practice/processed/pit_stops/race_id=869/</td><td>race_id=869/</td><td>0</td><td>1744324211000</td></tr><tr><td>dbfs:/mnt/formula1dl2025practice/processed/pit_stops/race_id=870/</td><td>race_id=870/</td><td>0</td><td>1744324211000</td></tr><tr><td>dbfs:/mnt/formula1dl2025practice/processed/pit_stops/race_id=871/</td><td>race_id=871/</td><td>0</td><td>1744324211000</td></tr><tr><td>dbfs:/mnt/formula1dl2025practice/processed/pit_stops/race_id=872/</td><td>race_id=872/</td><td>0</td><td>1744324211000</td></tr><tr><td>dbfs:/mnt/formula1dl2025practice/processed/pit_stops/race_id=873/</td><td>race_id=873/</td><td>0</td><td>1744324211000</td></tr><tr><td>dbfs:/mnt/formula1dl2025practice/processed/pit_stops/race_id=874/</td><td>race_id=874/</td><td>0</td><td>1744324212000</td></tr><tr><td>dbfs:/mnt/formula1dl2025practice/processed/pit_stops/race_id=875/</td><td>race_id=875/</td><td>0</td><td>1744324212000</td></tr><tr><td>dbfs:/mnt/formula1dl2025practice/processed/pit_stops/race_id=876/</td><td>race_id=876/</td><td>0</td><td>1744324212000</td></tr><tr><td>dbfs:/mnt/formula1dl2025practice/processed/pit_stops/race_id=877/</td><td>race_id=877/</td><td>0</td><td>1744324260000</td></tr><tr><td>dbfs:/mnt/formula1dl2025practice/processed/pit_stops/race_id=878/</td><td>race_id=878/</td><td>0</td><td>1744324260000</td></tr><tr><td>dbfs:/mnt/formula1dl2025practice/processed/pit_stops/race_id=879/</td><td>race_id=879/</td><td>0</td><td>1744324260000</td></tr><tr><td>dbfs:/mnt/formula1dl2025practice/processed/pit_stops/race_id=880/</td><td>race_id=880/</td><td>0</td><td>1744324261000</td></tr><tr><td>dbfs:/mnt/formula1dl2025practice/processed/pit_stops/race_id=881/</td><td>race_id=881/</td><td>0</td><td>1744324261000</td></tr><tr><td>dbfs:/mnt/formula1dl2025practice/processed/pit_stops/race_id=882/</td><td>race_id=882/</td><td>0</td><td>1744324261000</td></tr><tr><td>dbfs:/mnt/formula1dl2025practice/processed/pit_stops/race_id=883/</td><td>race_id=883/</td><td>0</td><td>1744324261000</td></tr><tr><td>dbfs:/mnt/formula1dl2025practice/processed/pit_stops/race_id=884/</td><td>race_id=884/</td><td>0</td><td>1744324261000</td></tr><tr><td>dbfs:/mnt/formula1dl2025practice/processed/pit_stops/race_id=885/</td><td>race_id=885/</td><td>0</td><td>1744324261000</td></tr><tr><td>dbfs:/mnt/formula1dl2025practice/processed/pit_stops/race_id=886/</td><td>race_id=886/</td><td>0</td><td>1744324261000</td></tr><tr><td>dbfs:/mnt/formula1dl2025practice/processed/pit_stops/race_id=887/</td><td>race_id=887/</td><td>0</td><td>1744324261000</td></tr><tr><td>dbfs:/mnt/formula1dl2025practice/processed/pit_stops/race_id=888/</td><td>race_id=888/</td><td>0</td><td>1744324261000</td></tr><tr><td>dbfs:/mnt/formula1dl2025practice/processed/pit_stops/race_id=890/</td><td>race_id=890/</td><td>0</td><td>1744324262000</td></tr><tr><td>dbfs:/mnt/formula1dl2025practice/processed/pit_stops/race_id=891/</td><td>race_id=891/</td><td>0</td><td>1744324262000</td></tr><tr><td>dbfs:/mnt/formula1dl2025practice/processed/pit_stops/race_id=892/</td><td>race_id=892/</td><td>0</td><td>1744324262000</td></tr><tr><td>dbfs:/mnt/formula1dl2025practice/processed/pit_stops/race_id=893/</td><td>race_id=893/</td><td>0</td><td>1744324262000</td></tr><tr><td>dbfs:/mnt/formula1dl2025practice/processed/pit_stops/race_id=894/</td><td>race_id=894/</td><td>0</td><td>1744324262000</td></tr><tr><td>dbfs:/mnt/formula1dl2025practice/processed/pit_stops/race_id=895/</td><td>race_id=895/</td><td>0</td><td>1744324262000</td></tr><tr><td>dbfs:/mnt/formula1dl2025practice/processed/pit_stops/race_id=896/</td><td>race_id=896/</td><td>0</td><td>1744324262000</td></tr><tr><td>dbfs:/mnt/formula1dl2025practice/processed/pit_stops/race_id=897/</td><td>race_id=897/</td><td>0</td><td>1744324262000</td></tr><tr><td>dbfs:/mnt/formula1dl2025practice/processed/pit_stops/race_id=898/</td><td>race_id=898/</td><td>0</td><td>1744324262000</td></tr><tr><td>dbfs:/mnt/formula1dl2025practice/processed/pit_stops/race_id=899/</td><td>race_id=899/</td><td>0</td><td>1744324262000</td></tr><tr><td>dbfs:/mnt/formula1dl2025practice/processed/pit_stops/race_id=900/</td><td>race_id=900/</td><td>0</td><td>1744324263000</td></tr><tr><td>dbfs:/mnt/formula1dl2025practice/processed/pit_stops/race_id=901/</td><td>race_id=901/</td><td>0</td><td>1744324263000</td></tr><tr><td>dbfs:/mnt/formula1dl2025practice/processed/pit_stops/race_id=902/</td><td>race_id=902/</td><td>0</td><td>1744324263000</td></tr><tr><td>dbfs:/mnt/formula1dl2025practice/processed/pit_stops/race_id=903/</td><td>race_id=903/</td><td>0</td><td>1744324263000</td></tr><tr><td>dbfs:/mnt/formula1dl2025practice/processed/pit_stops/race_id=904/</td><td>race_id=904/</td><td>0</td><td>1744324263000</td></tr><tr><td>dbfs:/mnt/formula1dl2025practice/processed/pit_stops/race_id=905/</td><td>race_id=905/</td><td>0</td><td>1744324263000</td></tr><tr><td>dbfs:/mnt/formula1dl2025practice/processed/pit_stops/race_id=906/</td><td>race_id=906/</td><td>0</td><td>1744324263000</td></tr><tr><td>dbfs:/mnt/formula1dl2025practice/processed/pit_stops/race_id=907/</td><td>race_id=907/</td><td>0</td><td>1744324263000</td></tr><tr><td>dbfs:/mnt/formula1dl2025practice/processed/pit_stops/race_id=908/</td><td>race_id=908/</td><td>0</td><td>1744324263000</td></tr><tr><td>dbfs:/mnt/formula1dl2025practice/processed/pit_stops/race_id=909/</td><td>race_id=909/</td><td>0</td><td>1744324263000</td></tr><tr><td>dbfs:/mnt/formula1dl2025practice/processed/pit_stops/race_id=910/</td><td>race_id=910/</td><td>0</td><td>1744324264000</td></tr><tr><td>dbfs:/mnt/formula1dl2025practice/processed/pit_stops/race_id=911/</td><td>race_id=911/</td><td>0</td><td>1744324264000</td></tr><tr><td>dbfs:/mnt/formula1dl2025practice/processed/pit_stops/race_id=912/</td><td>race_id=912/</td><td>0</td><td>1744324264000</td></tr><tr><td>dbfs:/mnt/formula1dl2025practice/processed/pit_stops/race_id=913/</td><td>race_id=913/</td><td>0</td><td>1744324264000</td></tr><tr><td>dbfs:/mnt/formula1dl2025practice/processed/pit_stops/race_id=914/</td><td>race_id=914/</td><td>0</td><td>1744324264000</td></tr><tr><td>dbfs:/mnt/formula1dl2025practice/processed/pit_stops/race_id=915/</td><td>race_id=915/</td><td>0</td><td>1744324264000</td></tr><tr><td>dbfs:/mnt/formula1dl2025practice/processed/pit_stops/race_id=916/</td><td>race_id=916/</td><td>0</td><td>1744324264000</td></tr><tr><td>dbfs:/mnt/formula1dl2025practice/processed/pit_stops/race_id=917/</td><td>race_id=917/</td><td>0</td><td>1744324264000</td></tr><tr><td>dbfs:/mnt/formula1dl2025practice/processed/pit_stops/race_id=918/</td><td>race_id=918/</td><td>0</td><td>1744324264000</td></tr><tr><td>dbfs:/mnt/formula1dl2025practice/processed/pit_stops/race_id=926/</td><td>race_id=926/</td><td>0</td><td>1744324264000</td></tr><tr><td>dbfs:/mnt/formula1dl2025practice/processed/pit_stops/race_id=927/</td><td>race_id=927/</td><td>0</td><td>1744324265000</td></tr><tr><td>dbfs:/mnt/formula1dl2025practice/processed/pit_stops/race_id=928/</td><td>race_id=928/</td><td>0</td><td>1744324265000</td></tr><tr><td>dbfs:/mnt/formula1dl2025practice/processed/pit_stops/race_id=929/</td><td>race_id=929/</td><td>0</td><td>1744324265000</td></tr><tr><td>dbfs:/mnt/formula1dl2025practice/processed/pit_stops/race_id=930/</td><td>race_id=930/</td><td>0</td><td>1744324265000</td></tr><tr><td>dbfs:/mnt/formula1dl2025practice/processed/pit_stops/race_id=931/</td><td>race_id=931/</td><td>0</td><td>1744324265000</td></tr><tr><td>dbfs:/mnt/formula1dl2025practice/processed/pit_stops/race_id=932/</td><td>race_id=932/</td><td>0</td><td>1744324265000</td></tr><tr><td>dbfs:/mnt/formula1dl2025practice/processed/pit_stops/race_id=933/</td><td>race_id=933/</td><td>0</td><td>1744324265000</td></tr><tr><td>dbfs:/mnt/formula1dl2025practice/processed/pit_stops/race_id=934/</td><td>race_id=934/</td><td>0</td><td>1744324265000</td></tr><tr><td>dbfs:/mnt/formula1dl2025practice/processed/pit_stops/race_id=936/</td><td>race_id=936/</td><td>0</td><td>1744324265000</td></tr><tr><td>dbfs:/mnt/formula1dl2025practice/processed/pit_stops/race_id=937/</td><td>race_id=937/</td><td>0</td><td>1744324266000</td></tr><tr><td>dbfs:/mnt/formula1dl2025practice/processed/pit_stops/race_id=938/</td><td>race_id=938/</td><td>0</td><td>1744324266000</td></tr><tr><td>dbfs:/mnt/formula1dl2025practice/processed/pit_stops/race_id=939/</td><td>race_id=939/</td><td>0</td><td>1744324266000</td></tr><tr><td>dbfs:/mnt/formula1dl2025practice/processed/pit_stops/race_id=940/</td><td>race_id=940/</td><td>0</td><td>1744324266000</td></tr><tr><td>dbfs:/mnt/formula1dl2025practice/processed/pit_stops/race_id=941/</td><td>race_id=941/</td><td>0</td><td>1744324266000</td></tr><tr><td>dbfs:/mnt/formula1dl2025practice/processed/pit_stops/race_id=942/</td><td>race_id=942/</td><td>0</td><td>1744324266000</td></tr><tr><td>dbfs:/mnt/formula1dl2025practice/processed/pit_stops/race_id=943/</td><td>race_id=943/</td><td>0</td><td>1744324266000</td></tr><tr><td>dbfs:/mnt/formula1dl2025practice/processed/pit_stops/race_id=944/</td><td>race_id=944/</td><td>0</td><td>1744324266000</td></tr><tr><td>dbfs:/mnt/formula1dl2025practice/processed/pit_stops/race_id=945/</td><td>race_id=945/</td><td>0</td><td>1744324266000</td></tr><tr><td>dbfs:/mnt/formula1dl2025practice/processed/pit_stops/race_id=948/</td><td>race_id=948/</td><td>0</td><td>1744324266000</td></tr><tr><td>dbfs:/mnt/formula1dl2025practice/processed/pit_stops/race_id=949/</td><td>race_id=949/</td><td>0</td><td>1744324266000</td></tr><tr><td>dbfs:/mnt/formula1dl2025practice/processed/pit_stops/race_id=950/</td><td>race_id=950/</td><td>0</td><td>1744324267000</td></tr><tr><td>dbfs:/mnt/formula1dl2025practice/processed/pit_stops/race_id=951/</td><td>race_id=951/</td><td>0</td><td>1744324267000</td></tr><tr><td>dbfs:/mnt/formula1dl2025practice/processed/pit_stops/race_id=952/</td><td>race_id=952/</td><td>0</td><td>1744324267000</td></tr><tr><td>dbfs:/mnt/formula1dl2025practice/processed/pit_stops/race_id=953/</td><td>race_id=953/</td><td>0</td><td>1744324267000</td></tr><tr><td>dbfs:/mnt/formula1dl2025practice/processed/pit_stops/race_id=954/</td><td>race_id=954/</td><td>0</td><td>1744324267000</td></tr><tr><td>dbfs:/mnt/formula1dl2025practice/processed/pit_stops/race_id=955/</td><td>race_id=955/</td><td>0</td><td>1744324267000</td></tr><tr><td>dbfs:/mnt/formula1dl2025practice/processed/pit_stops/race_id=956/</td><td>race_id=956/</td><td>0</td><td>1744324267000</td></tr><tr><td>dbfs:/mnt/formula1dl2025practice/processed/pit_stops/race_id=957/</td><td>race_id=957/</td><td>0</td><td>1744324267000</td></tr><tr><td>dbfs:/mnt/formula1dl2025practice/processed/pit_stops/race_id=958/</td><td>race_id=958/</td><td>0</td><td>1744324267000</td></tr><tr><td>dbfs:/mnt/formula1dl2025practice/processed/pit_stops/race_id=959/</td><td>race_id=959/</td><td>0</td><td>1744324267000</td></tr><tr><td>dbfs:/mnt/formula1dl2025practice/processed/pit_stops/race_id=960/</td><td>race_id=960/</td><td>0</td><td>1744324268000</td></tr><tr><td>dbfs:/mnt/formula1dl2025practice/processed/pit_stops/race_id=961/</td><td>race_id=961/</td><td>0</td><td>1744324268000</td></tr><tr><td>dbfs:/mnt/formula1dl2025practice/processed/pit_stops/race_id=962/</td><td>race_id=962/</td><td>0</td><td>1744324268000</td></tr><tr><td>dbfs:/mnt/formula1dl2025practice/processed/pit_stops/race_id=963/</td><td>race_id=963/</td><td>0</td><td>1744324268000</td></tr><tr><td>dbfs:/mnt/formula1dl2025practice/processed/pit_stops/race_id=964/</td><td>race_id=964/</td><td>0</td><td>1744324268000</td></tr><tr><td>dbfs:/mnt/formula1dl2025practice/processed/pit_stops/race_id=965/</td><td>race_id=965/</td><td>0</td><td>1744324268000</td></tr><tr><td>dbfs:/mnt/formula1dl2025practice/processed/pit_stops/race_id=966/</td><td>race_id=966/</td><td>0</td><td>1744324268000</td></tr><tr><td>dbfs:/mnt/formula1dl2025practice/processed/pit_stops/race_id=967/</td><td>race_id=967/</td><td>0</td><td>1744324268000</td></tr><tr><td>dbfs:/mnt/formula1dl2025practice/processed/pit_stops/race_id=968/</td><td>race_id=968/</td><td>0</td><td>1744324268000</td></tr><tr><td>dbfs:/mnt/formula1dl2025practice/processed/pit_stops/race_id=969/</td><td>race_id=969/</td><td>0</td><td>1744324268000</td></tr><tr><td>dbfs:/mnt/formula1dl2025practice/processed/pit_stops/race_id=970/</td><td>race_id=970/</td><td>0</td><td>1744324269000</td></tr><tr><td>dbfs:/mnt/formula1dl2025practice/processed/pit_stops/race_id=971/</td><td>race_id=971/</td><td>0</td><td>1744324269000</td></tr><tr><td>dbfs:/mnt/formula1dl2025practice/processed/pit_stops/race_id=972/</td><td>race_id=972/</td><td>0</td><td>1744324269000</td></tr><tr><td>dbfs:/mnt/formula1dl2025practice/processed/pit_stops/race_id=973/</td><td>race_id=973/</td><td>0</td><td>1744324269000</td></tr><tr><td>dbfs:/mnt/formula1dl2025practice/processed/pit_stops/race_id=974/</td><td>race_id=974/</td><td>0</td><td>1744324269000</td></tr><tr><td>dbfs:/mnt/formula1dl2025practice/processed/pit_stops/race_id=975/</td><td>race_id=975/</td><td>0</td><td>1744324269000</td></tr><tr><td>dbfs:/mnt/formula1dl2025practice/processed/pit_stops/race_id=976/</td><td>race_id=976/</td><td>0</td><td>1744324269000</td></tr><tr><td>dbfs:/mnt/formula1dl2025practice/processed/pit_stops/race_id=977/</td><td>race_id=977/</td><td>0</td><td>1744324269000</td></tr><tr><td>dbfs:/mnt/formula1dl2025practice/processed/pit_stops/race_id=978/</td><td>race_id=978/</td><td>0</td><td>1744324269000</td></tr><tr><td>dbfs:/mnt/formula1dl2025practice/processed/pit_stops/race_id=979/</td><td>race_id=979/</td><td>0</td><td>1744324269000</td></tr><tr><td>dbfs:/mnt/formula1dl2025practice/processed/pit_stops/race_id=980/</td><td>race_id=980/</td><td>0</td><td>1744324269000</td></tr><tr><td>dbfs:/mnt/formula1dl2025practice/processed/pit_stops/race_id=981/</td><td>race_id=981/</td><td>0</td><td>1744324269000</td></tr><tr><td>dbfs:/mnt/formula1dl2025practice/processed/pit_stops/race_id=982/</td><td>race_id=982/</td><td>0</td><td>1744324270000</td></tr><tr><td>dbfs:/mnt/formula1dl2025practice/processed/pit_stops/race_id=983/</td><td>race_id=983/</td><td>0</td><td>1744324270000</td></tr><tr><td>dbfs:/mnt/formula1dl2025practice/processed/pit_stops/race_id=984/</td><td>race_id=984/</td><td>0</td><td>1744324270000</td></tr><tr><td>dbfs:/mnt/formula1dl2025practice/processed/pit_stops/race_id=985/</td><td>race_id=985/</td><td>0</td><td>1744324270000</td></tr><tr><td>dbfs:/mnt/formula1dl2025practice/processed/pit_stops/race_id=986/</td><td>race_id=986/</td><td>0</td><td>1744324270000</td></tr><tr><td>dbfs:/mnt/formula1dl2025practice/processed/pit_stops/race_id=987/</td><td>race_id=987/</td><td>0</td><td>1744324270000</td></tr><tr><td>dbfs:/mnt/formula1dl2025practice/processed/pit_stops/race_id=988/</td><td>race_id=988/</td><td>0</td><td>1744324270000</td></tr><tr><td>dbfs:/mnt/formula1dl2025practice/processed/pit_stops/race_id=989/</td><td>race_id=989/</td><td>0</td><td>1744324270000</td></tr><tr><td>dbfs:/mnt/formula1dl2025practice/processed/pit_stops/race_id=990/</td><td>race_id=990/</td><td>0</td><td>1744324270000</td></tr><tr><td>dbfs:/mnt/formula1dl2025practice/processed/pit_stops/race_id=991/</td><td>race_id=991/</td><td>0</td><td>1744324270000</td></tr><tr><td>dbfs:/mnt/formula1dl2025practice/processed/pit_stops/race_id=992/</td><td>race_id=992/</td><td>0</td><td>1744324271000</td></tr><tr><td>dbfs:/mnt/formula1dl2025practice/processed/pit_stops/race_id=993/</td><td>race_id=993/</td><td>0</td><td>1744324271000</td></tr><tr><td>dbfs:/mnt/formula1dl2025practice/processed/pit_stops/race_id=994/</td><td>race_id=994/</td><td>0</td><td>1744324271000</td></tr><tr><td>dbfs:/mnt/formula1dl2025practice/processed/pit_stops/race_id=995/</td><td>race_id=995/</td><td>0</td><td>1744324271000</td></tr><tr><td>dbfs:/mnt/formula1dl2025practice/processed/pit_stops/race_id=996/</td><td>race_id=996/</td><td>0</td><td>1744324271000</td></tr><tr><td>dbfs:/mnt/formula1dl2025practice/processed/pit_stops/race_id=997/</td><td>race_id=997/</td><td>0</td><td>1744324271000</td></tr><tr><td>dbfs:/mnt/formula1dl2025practice/processed/pit_stops/race_id=998/</td><td>race_id=998/</td><td>0</td><td>1744324271000</td></tr><tr><td>dbfs:/mnt/formula1dl2025practice/processed/pit_stops/race_id=999/</td><td>race_id=999/</td><td>0</td><td>1744324271000</td></tr></tbody></table></div>"
      ]
     },
     "metadata": {
      "application/vnd.databricks.v1+output": {
       "addedWidgets": {},
       "aggData": [],
       "aggError": "",
       "aggOverflow": false,
       "aggSchema": [],
       "aggSeriesLimitReached": false,
       "aggType": "",
       "arguments": {},
       "columnCustomDisplayInfos": {},
       "data": [
        [
         "dbfs:/mnt/formula1dl2025practice/processed/pit_stops/_delta_log/",
         "_delta_log/",
         0,
         1744324257000
        ],
        [
         "dbfs:/mnt/formula1dl2025practice/processed/pit_stops/race_id=1000/",
         "race_id=1000/",
         0,
         1744324271000
        ],
        [
         "dbfs:/mnt/formula1dl2025practice/processed/pit_stops/race_id=1001/",
         "race_id=1001/",
         0,
         1744324271000
        ],
        [
         "dbfs:/mnt/formula1dl2025practice/processed/pit_stops/race_id=1002/",
         "race_id=1002/",
         0,
         1744324271000
        ],
        [
         "dbfs:/mnt/formula1dl2025practice/processed/pit_stops/race_id=1003/",
         "race_id=1003/",
         0,
         1744324272000
        ],
        [
         "dbfs:/mnt/formula1dl2025practice/processed/pit_stops/race_id=1004/",
         "race_id=1004/",
         0,
         1744324272000
        ],
        [
         "dbfs:/mnt/formula1dl2025practice/processed/pit_stops/race_id=1005/",
         "race_id=1005/",
         0,
         1744324272000
        ],
        [
         "dbfs:/mnt/formula1dl2025practice/processed/pit_stops/race_id=1006/",
         "race_id=1006/",
         0,
         1744324272000
        ],
        [
         "dbfs:/mnt/formula1dl2025practice/processed/pit_stops/race_id=1007/",
         "race_id=1007/",
         0,
         1744324272000
        ],
        [
         "dbfs:/mnt/formula1dl2025practice/processed/pit_stops/race_id=1008/",
         "race_id=1008/",
         0,
         1744324272000
        ],
        [
         "dbfs:/mnt/formula1dl2025practice/processed/pit_stops/race_id=1009/",
         "race_id=1009/",
         0,
         1744324272000
        ],
        [
         "dbfs:/mnt/formula1dl2025practice/processed/pit_stops/race_id=1010/",
         "race_id=1010/",
         0,
         1744324272000
        ],
        [
         "dbfs:/mnt/formula1dl2025practice/processed/pit_stops/race_id=1011/",
         "race_id=1011/",
         0,
         1744324272000
        ],
        [
         "dbfs:/mnt/formula1dl2025practice/processed/pit_stops/race_id=1012/",
         "race_id=1012/",
         0,
         1744324272000
        ],
        [
         "dbfs:/mnt/formula1dl2025practice/processed/pit_stops/race_id=1013/",
         "race_id=1013/",
         0,
         1744324272000
        ],
        [
         "dbfs:/mnt/formula1dl2025practice/processed/pit_stops/race_id=1014/",
         "race_id=1014/",
         0,
         1744324273000
        ],
        [
         "dbfs:/mnt/formula1dl2025practice/processed/pit_stops/race_id=1015/",
         "race_id=1015/",
         0,
         1744324273000
        ],
        [
         "dbfs:/mnt/formula1dl2025practice/processed/pit_stops/race_id=1016/",
         "race_id=1016/",
         0,
         1744324273000
        ],
        [
         "dbfs:/mnt/formula1dl2025practice/processed/pit_stops/race_id=1017/",
         "race_id=1017/",
         0,
         1744324273000
        ],
        [
         "dbfs:/mnt/formula1dl2025practice/processed/pit_stops/race_id=1018/",
         "race_id=1018/",
         0,
         1744324273000
        ],
        [
         "dbfs:/mnt/formula1dl2025practice/processed/pit_stops/race_id=1019/",
         "race_id=1019/",
         0,
         1744324273000
        ],
        [
         "dbfs:/mnt/formula1dl2025practice/processed/pit_stops/race_id=1020/",
         "race_id=1020/",
         0,
         1744324273000
        ],
        [
         "dbfs:/mnt/formula1dl2025practice/processed/pit_stops/race_id=1021/",
         "race_id=1021/",
         0,
         1744324273000
        ],
        [
         "dbfs:/mnt/formula1dl2025practice/processed/pit_stops/race_id=1022/",
         "race_id=1022/",
         0,
         1744324273000
        ],
        [
         "dbfs:/mnt/formula1dl2025practice/processed/pit_stops/race_id=1023/",
         "race_id=1023/",
         0,
         1744324273000
        ],
        [
         "dbfs:/mnt/formula1dl2025practice/processed/pit_stops/race_id=1024/",
         "race_id=1024/",
         0,
         1744324273000
        ],
        [
         "dbfs:/mnt/formula1dl2025practice/processed/pit_stops/race_id=1025/",
         "race_id=1025/",
         0,
         1744324274000
        ],
        [
         "dbfs:/mnt/formula1dl2025practice/processed/pit_stops/race_id=1026/",
         "race_id=1026/",
         0,
         1744324274000
        ],
        [
         "dbfs:/mnt/formula1dl2025practice/processed/pit_stops/race_id=1027/",
         "race_id=1027/",
         0,
         1744324274000
        ],
        [
         "dbfs:/mnt/formula1dl2025practice/processed/pit_stops/race_id=1028/",
         "race_id=1028/",
         0,
         1744324274000
        ],
        [
         "dbfs:/mnt/formula1dl2025practice/processed/pit_stops/race_id=1029/",
         "race_id=1029/",
         0,
         1744324274000
        ],
        [
         "dbfs:/mnt/formula1dl2025practice/processed/pit_stops/race_id=1030/",
         "race_id=1030/",
         0,
         1744324274000
        ],
        [
         "dbfs:/mnt/formula1dl2025practice/processed/pit_stops/race_id=1031/",
         "race_id=1031/",
         0,
         1744324274000
        ],
        [
         "dbfs:/mnt/formula1dl2025practice/processed/pit_stops/race_id=1032/",
         "race_id=1032/",
         0,
         1744324274000
        ],
        [
         "dbfs:/mnt/formula1dl2025practice/processed/pit_stops/race_id=1033/",
         "race_id=1033/",
         0,
         1744324274000
        ],
        [
         "dbfs:/mnt/formula1dl2025practice/processed/pit_stops/race_id=1034/",
         "race_id=1034/",
         0,
         1744324274000
        ],
        [
         "dbfs:/mnt/formula1dl2025practice/processed/pit_stops/race_id=1035/",
         "race_id=1035/",
         0,
         1744324275000
        ],
        [
         "dbfs:/mnt/formula1dl2025practice/processed/pit_stops/race_id=1036/",
         "race_id=1036/",
         0,
         1744324275000
        ],
        [
         "dbfs:/mnt/formula1dl2025practice/processed/pit_stops/race_id=1037/",
         "race_id=1037/",
         0,
         1744324275000
        ],
        [
         "dbfs:/mnt/formula1dl2025practice/processed/pit_stops/race_id=1038/",
         "race_id=1038/",
         0,
         1744324275000
        ],
        [
         "dbfs:/mnt/formula1dl2025practice/processed/pit_stops/race_id=1039/",
         "race_id=1039/",
         0,
         1744324275000
        ],
        [
         "dbfs:/mnt/formula1dl2025practice/processed/pit_stops/race_id=1040/",
         "race_id=1040/",
         0,
         1744324275000
        ],
        [
         "dbfs:/mnt/formula1dl2025practice/processed/pit_stops/race_id=1041/",
         "race_id=1041/",
         0,
         1744324275000
        ],
        [
         "dbfs:/mnt/formula1dl2025practice/processed/pit_stops/race_id=1042/",
         "race_id=1042/",
         0,
         1744324275000
        ],
        [
         "dbfs:/mnt/formula1dl2025practice/processed/pit_stops/race_id=1043/",
         "race_id=1043/",
         0,
         1744324276000
        ],
        [
         "dbfs:/mnt/formula1dl2025practice/processed/pit_stops/race_id=1044/",
         "race_id=1044/",
         0,
         1744324276000
        ],
        [
         "dbfs:/mnt/formula1dl2025practice/processed/pit_stops/race_id=1045/",
         "race_id=1045/",
         0,
         1744324276000
        ],
        [
         "dbfs:/mnt/formula1dl2025practice/processed/pit_stops/race_id=1046/",
         "race_id=1046/",
         0,
         1744324276000
        ],
        [
         "dbfs:/mnt/formula1dl2025practice/processed/pit_stops/race_id=1047/",
         "race_id=1047/",
         0,
         1744324276000
        ],
        [
         "dbfs:/mnt/formula1dl2025practice/processed/pit_stops/race_id=1052/",
         "race_id=1052/",
         0,
         1744324429000
        ],
        [
         "dbfs:/mnt/formula1dl2025practice/processed/pit_stops/race_id=1053/",
         "race_id=1053/",
         0,
         1744324467000
        ],
        [
         "dbfs:/mnt/formula1dl2025practice/processed/pit_stops/race_id=841/",
         "race_id=841/",
         0,
         1744324206000
        ],
        [
         "dbfs:/mnt/formula1dl2025practice/processed/pit_stops/race_id=842/",
         "race_id=842/",
         0,
         1744324207000
        ],
        [
         "dbfs:/mnt/formula1dl2025practice/processed/pit_stops/race_id=843/",
         "race_id=843/",
         0,
         1744324207000
        ],
        [
         "dbfs:/mnt/formula1dl2025practice/processed/pit_stops/race_id=844/",
         "race_id=844/",
         0,
         1744324207000
        ],
        [
         "dbfs:/mnt/formula1dl2025practice/processed/pit_stops/race_id=845/",
         "race_id=845/",
         0,
         1744324207000
        ],
        [
         "dbfs:/mnt/formula1dl2025practice/processed/pit_stops/race_id=846/",
         "race_id=846/",
         0,
         1744324207000
        ],
        [
         "dbfs:/mnt/formula1dl2025practice/processed/pit_stops/race_id=847/",
         "race_id=847/",
         0,
         1744324207000
        ],
        [
         "dbfs:/mnt/formula1dl2025practice/processed/pit_stops/race_id=848/",
         "race_id=848/",
         0,
         1744324208000
        ],
        [
         "dbfs:/mnt/formula1dl2025practice/processed/pit_stops/race_id=849/",
         "race_id=849/",
         0,
         1744324208000
        ],
        [
         "dbfs:/mnt/formula1dl2025practice/processed/pit_stops/race_id=850/",
         "race_id=850/",
         0,
         1744324208000
        ],
        [
         "dbfs:/mnt/formula1dl2025practice/processed/pit_stops/race_id=851/",
         "race_id=851/",
         0,
         1744324208000
        ],
        [
         "dbfs:/mnt/formula1dl2025practice/processed/pit_stops/race_id=852/",
         "race_id=852/",
         0,
         1744324208000
        ],
        [
         "dbfs:/mnt/formula1dl2025practice/processed/pit_stops/race_id=853/",
         "race_id=853/",
         0,
         1744324208000
        ],
        [
         "dbfs:/mnt/formula1dl2025practice/processed/pit_stops/race_id=854/",
         "race_id=854/",
         0,
         1744324208000
        ],
        [
         "dbfs:/mnt/formula1dl2025practice/processed/pit_stops/race_id=855/",
         "race_id=855/",
         0,
         1744324209000
        ],
        [
         "dbfs:/mnt/formula1dl2025practice/processed/pit_stops/race_id=856/",
         "race_id=856/",
         0,
         1744324209000
        ],
        [
         "dbfs:/mnt/formula1dl2025practice/processed/pit_stops/race_id=857/",
         "race_id=857/",
         0,
         1744324209000
        ],
        [
         "dbfs:/mnt/formula1dl2025practice/processed/pit_stops/race_id=858/",
         "race_id=858/",
         0,
         1744324209000
        ],
        [
         "dbfs:/mnt/formula1dl2025practice/processed/pit_stops/race_id=859/",
         "race_id=859/",
         0,
         1744324209000
        ],
        [
         "dbfs:/mnt/formula1dl2025practice/processed/pit_stops/race_id=860/",
         "race_id=860/",
         0,
         1744324209000
        ],
        [
         "dbfs:/mnt/formula1dl2025practice/processed/pit_stops/race_id=861/",
         "race_id=861/",
         0,
         1744324210000
        ],
        [
         "dbfs:/mnt/formula1dl2025practice/processed/pit_stops/race_id=862/",
         "race_id=862/",
         0,
         1744324210000
        ],
        [
         "dbfs:/mnt/formula1dl2025practice/processed/pit_stops/race_id=863/",
         "race_id=863/",
         0,
         1744324210000
        ],
        [
         "dbfs:/mnt/formula1dl2025practice/processed/pit_stops/race_id=864/",
         "race_id=864/",
         0,
         1744324210000
        ],
        [
         "dbfs:/mnt/formula1dl2025practice/processed/pit_stops/race_id=865/",
         "race_id=865/",
         0,
         1744324210000
        ],
        [
         "dbfs:/mnt/formula1dl2025practice/processed/pit_stops/race_id=866/",
         "race_id=866/",
         0,
         1744324210000
        ],
        [
         "dbfs:/mnt/formula1dl2025practice/processed/pit_stops/race_id=867/",
         "race_id=867/",
         0,
         1744324210000
        ],
        [
         "dbfs:/mnt/formula1dl2025practice/processed/pit_stops/race_id=868/",
         "race_id=868/",
         0,
         1744324211000
        ],
        [
         "dbfs:/mnt/formula1dl2025practice/processed/pit_stops/race_id=869/",
         "race_id=869/",
         0,
         1744324211000
        ],
        [
         "dbfs:/mnt/formula1dl2025practice/processed/pit_stops/race_id=870/",
         "race_id=870/",
         0,
         1744324211000
        ],
        [
         "dbfs:/mnt/formula1dl2025practice/processed/pit_stops/race_id=871/",
         "race_id=871/",
         0,
         1744324211000
        ],
        [
         "dbfs:/mnt/formula1dl2025practice/processed/pit_stops/race_id=872/",
         "race_id=872/",
         0,
         1744324211000
        ],
        [
         "dbfs:/mnt/formula1dl2025practice/processed/pit_stops/race_id=873/",
         "race_id=873/",
         0,
         1744324211000
        ],
        [
         "dbfs:/mnt/formula1dl2025practice/processed/pit_stops/race_id=874/",
         "race_id=874/",
         0,
         1744324212000
        ],
        [
         "dbfs:/mnt/formula1dl2025practice/processed/pit_stops/race_id=875/",
         "race_id=875/",
         0,
         1744324212000
        ],
        [
         "dbfs:/mnt/formula1dl2025practice/processed/pit_stops/race_id=876/",
         "race_id=876/",
         0,
         1744324212000
        ],
        [
         "dbfs:/mnt/formula1dl2025practice/processed/pit_stops/race_id=877/",
         "race_id=877/",
         0,
         1744324260000
        ],
        [
         "dbfs:/mnt/formula1dl2025practice/processed/pit_stops/race_id=878/",
         "race_id=878/",
         0,
         1744324260000
        ],
        [
         "dbfs:/mnt/formula1dl2025practice/processed/pit_stops/race_id=879/",
         "race_id=879/",
         0,
         1744324260000
        ],
        [
         "dbfs:/mnt/formula1dl2025practice/processed/pit_stops/race_id=880/",
         "race_id=880/",
         0,
         1744324261000
        ],
        [
         "dbfs:/mnt/formula1dl2025practice/processed/pit_stops/race_id=881/",
         "race_id=881/",
         0,
         1744324261000
        ],
        [
         "dbfs:/mnt/formula1dl2025practice/processed/pit_stops/race_id=882/",
         "race_id=882/",
         0,
         1744324261000
        ],
        [
         "dbfs:/mnt/formula1dl2025practice/processed/pit_stops/race_id=883/",
         "race_id=883/",
         0,
         1744324261000
        ],
        [
         "dbfs:/mnt/formula1dl2025practice/processed/pit_stops/race_id=884/",
         "race_id=884/",
         0,
         1744324261000
        ],
        [
         "dbfs:/mnt/formula1dl2025practice/processed/pit_stops/race_id=885/",
         "race_id=885/",
         0,
         1744324261000
        ],
        [
         "dbfs:/mnt/formula1dl2025practice/processed/pit_stops/race_id=886/",
         "race_id=886/",
         0,
         1744324261000
        ],
        [
         "dbfs:/mnt/formula1dl2025practice/processed/pit_stops/race_id=887/",
         "race_id=887/",
         0,
         1744324261000
        ],
        [
         "dbfs:/mnt/formula1dl2025practice/processed/pit_stops/race_id=888/",
         "race_id=888/",
         0,
         1744324261000
        ],
        [
         "dbfs:/mnt/formula1dl2025practice/processed/pit_stops/race_id=890/",
         "race_id=890/",
         0,
         1744324262000
        ],
        [
         "dbfs:/mnt/formula1dl2025practice/processed/pit_stops/race_id=891/",
         "race_id=891/",
         0,
         1744324262000
        ],
        [
         "dbfs:/mnt/formula1dl2025practice/processed/pit_stops/race_id=892/",
         "race_id=892/",
         0,
         1744324262000
        ],
        [
         "dbfs:/mnt/formula1dl2025practice/processed/pit_stops/race_id=893/",
         "race_id=893/",
         0,
         1744324262000
        ],
        [
         "dbfs:/mnt/formula1dl2025practice/processed/pit_stops/race_id=894/",
         "race_id=894/",
         0,
         1744324262000
        ],
        [
         "dbfs:/mnt/formula1dl2025practice/processed/pit_stops/race_id=895/",
         "race_id=895/",
         0,
         1744324262000
        ],
        [
         "dbfs:/mnt/formula1dl2025practice/processed/pit_stops/race_id=896/",
         "race_id=896/",
         0,
         1744324262000
        ],
        [
         "dbfs:/mnt/formula1dl2025practice/processed/pit_stops/race_id=897/",
         "race_id=897/",
         0,
         1744324262000
        ],
        [
         "dbfs:/mnt/formula1dl2025practice/processed/pit_stops/race_id=898/",
         "race_id=898/",
         0,
         1744324262000
        ],
        [
         "dbfs:/mnt/formula1dl2025practice/processed/pit_stops/race_id=899/",
         "race_id=899/",
         0,
         1744324262000
        ],
        [
         "dbfs:/mnt/formula1dl2025practice/processed/pit_stops/race_id=900/",
         "race_id=900/",
         0,
         1744324263000
        ],
        [
         "dbfs:/mnt/formula1dl2025practice/processed/pit_stops/race_id=901/",
         "race_id=901/",
         0,
         1744324263000
        ],
        [
         "dbfs:/mnt/formula1dl2025practice/processed/pit_stops/race_id=902/",
         "race_id=902/",
         0,
         1744324263000
        ],
        [
         "dbfs:/mnt/formula1dl2025practice/processed/pit_stops/race_id=903/",
         "race_id=903/",
         0,
         1744324263000
        ],
        [
         "dbfs:/mnt/formula1dl2025practice/processed/pit_stops/race_id=904/",
         "race_id=904/",
         0,
         1744324263000
        ],
        [
         "dbfs:/mnt/formula1dl2025practice/processed/pit_stops/race_id=905/",
         "race_id=905/",
         0,
         1744324263000
        ],
        [
         "dbfs:/mnt/formula1dl2025practice/processed/pit_stops/race_id=906/",
         "race_id=906/",
         0,
         1744324263000
        ],
        [
         "dbfs:/mnt/formula1dl2025practice/processed/pit_stops/race_id=907/",
         "race_id=907/",
         0,
         1744324263000
        ],
        [
         "dbfs:/mnt/formula1dl2025practice/processed/pit_stops/race_id=908/",
         "race_id=908/",
         0,
         1744324263000
        ],
        [
         "dbfs:/mnt/formula1dl2025practice/processed/pit_stops/race_id=909/",
         "race_id=909/",
         0,
         1744324263000
        ],
        [
         "dbfs:/mnt/formula1dl2025practice/processed/pit_stops/race_id=910/",
         "race_id=910/",
         0,
         1744324264000
        ],
        [
         "dbfs:/mnt/formula1dl2025practice/processed/pit_stops/race_id=911/",
         "race_id=911/",
         0,
         1744324264000
        ],
        [
         "dbfs:/mnt/formula1dl2025practice/processed/pit_stops/race_id=912/",
         "race_id=912/",
         0,
         1744324264000
        ],
        [
         "dbfs:/mnt/formula1dl2025practice/processed/pit_stops/race_id=913/",
         "race_id=913/",
         0,
         1744324264000
        ],
        [
         "dbfs:/mnt/formula1dl2025practice/processed/pit_stops/race_id=914/",
         "race_id=914/",
         0,
         1744324264000
        ],
        [
         "dbfs:/mnt/formula1dl2025practice/processed/pit_stops/race_id=915/",
         "race_id=915/",
         0,
         1744324264000
        ],
        [
         "dbfs:/mnt/formula1dl2025practice/processed/pit_stops/race_id=916/",
         "race_id=916/",
         0,
         1744324264000
        ],
        [
         "dbfs:/mnt/formula1dl2025practice/processed/pit_stops/race_id=917/",
         "race_id=917/",
         0,
         1744324264000
        ],
        [
         "dbfs:/mnt/formula1dl2025practice/processed/pit_stops/race_id=918/",
         "race_id=918/",
         0,
         1744324264000
        ],
        [
         "dbfs:/mnt/formula1dl2025practice/processed/pit_stops/race_id=926/",
         "race_id=926/",
         0,
         1744324264000
        ],
        [
         "dbfs:/mnt/formula1dl2025practice/processed/pit_stops/race_id=927/",
         "race_id=927/",
         0,
         1744324265000
        ],
        [
         "dbfs:/mnt/formula1dl2025practice/processed/pit_stops/race_id=928/",
         "race_id=928/",
         0,
         1744324265000
        ],
        [
         "dbfs:/mnt/formula1dl2025practice/processed/pit_stops/race_id=929/",
         "race_id=929/",
         0,
         1744324265000
        ],
        [
         "dbfs:/mnt/formula1dl2025practice/processed/pit_stops/race_id=930/",
         "race_id=930/",
         0,
         1744324265000
        ],
        [
         "dbfs:/mnt/formula1dl2025practice/processed/pit_stops/race_id=931/",
         "race_id=931/",
         0,
         1744324265000
        ],
        [
         "dbfs:/mnt/formula1dl2025practice/processed/pit_stops/race_id=932/",
         "race_id=932/",
         0,
         1744324265000
        ],
        [
         "dbfs:/mnt/formula1dl2025practice/processed/pit_stops/race_id=933/",
         "race_id=933/",
         0,
         1744324265000
        ],
        [
         "dbfs:/mnt/formula1dl2025practice/processed/pit_stops/race_id=934/",
         "race_id=934/",
         0,
         1744324265000
        ],
        [
         "dbfs:/mnt/formula1dl2025practice/processed/pit_stops/race_id=936/",
         "race_id=936/",
         0,
         1744324265000
        ],
        [
         "dbfs:/mnt/formula1dl2025practice/processed/pit_stops/race_id=937/",
         "race_id=937/",
         0,
         1744324266000
        ],
        [
         "dbfs:/mnt/formula1dl2025practice/processed/pit_stops/race_id=938/",
         "race_id=938/",
         0,
         1744324266000
        ],
        [
         "dbfs:/mnt/formula1dl2025practice/processed/pit_stops/race_id=939/",
         "race_id=939/",
         0,
         1744324266000
        ],
        [
         "dbfs:/mnt/formula1dl2025practice/processed/pit_stops/race_id=940/",
         "race_id=940/",
         0,
         1744324266000
        ],
        [
         "dbfs:/mnt/formula1dl2025practice/processed/pit_stops/race_id=941/",
         "race_id=941/",
         0,
         1744324266000
        ],
        [
         "dbfs:/mnt/formula1dl2025practice/processed/pit_stops/race_id=942/",
         "race_id=942/",
         0,
         1744324266000
        ],
        [
         "dbfs:/mnt/formula1dl2025practice/processed/pit_stops/race_id=943/",
         "race_id=943/",
         0,
         1744324266000
        ],
        [
         "dbfs:/mnt/formula1dl2025practice/processed/pit_stops/race_id=944/",
         "race_id=944/",
         0,
         1744324266000
        ],
        [
         "dbfs:/mnt/formula1dl2025practice/processed/pit_stops/race_id=945/",
         "race_id=945/",
         0,
         1744324266000
        ],
        [
         "dbfs:/mnt/formula1dl2025practice/processed/pit_stops/race_id=948/",
         "race_id=948/",
         0,
         1744324266000
        ],
        [
         "dbfs:/mnt/formula1dl2025practice/processed/pit_stops/race_id=949/",
         "race_id=949/",
         0,
         1744324266000
        ],
        [
         "dbfs:/mnt/formula1dl2025practice/processed/pit_stops/race_id=950/",
         "race_id=950/",
         0,
         1744324267000
        ],
        [
         "dbfs:/mnt/formula1dl2025practice/processed/pit_stops/race_id=951/",
         "race_id=951/",
         0,
         1744324267000
        ],
        [
         "dbfs:/mnt/formula1dl2025practice/processed/pit_stops/race_id=952/",
         "race_id=952/",
         0,
         1744324267000
        ],
        [
         "dbfs:/mnt/formula1dl2025practice/processed/pit_stops/race_id=953/",
         "race_id=953/",
         0,
         1744324267000
        ],
        [
         "dbfs:/mnt/formula1dl2025practice/processed/pit_stops/race_id=954/",
         "race_id=954/",
         0,
         1744324267000
        ],
        [
         "dbfs:/mnt/formula1dl2025practice/processed/pit_stops/race_id=955/",
         "race_id=955/",
         0,
         1744324267000
        ],
        [
         "dbfs:/mnt/formula1dl2025practice/processed/pit_stops/race_id=956/",
         "race_id=956/",
         0,
         1744324267000
        ],
        [
         "dbfs:/mnt/formula1dl2025practice/processed/pit_stops/race_id=957/",
         "race_id=957/",
         0,
         1744324267000
        ],
        [
         "dbfs:/mnt/formula1dl2025practice/processed/pit_stops/race_id=958/",
         "race_id=958/",
         0,
         1744324267000
        ],
        [
         "dbfs:/mnt/formula1dl2025practice/processed/pit_stops/race_id=959/",
         "race_id=959/",
         0,
         1744324267000
        ],
        [
         "dbfs:/mnt/formula1dl2025practice/processed/pit_stops/race_id=960/",
         "race_id=960/",
         0,
         1744324268000
        ],
        [
         "dbfs:/mnt/formula1dl2025practice/processed/pit_stops/race_id=961/",
         "race_id=961/",
         0,
         1744324268000
        ],
        [
         "dbfs:/mnt/formula1dl2025practice/processed/pit_stops/race_id=962/",
         "race_id=962/",
         0,
         1744324268000
        ],
        [
         "dbfs:/mnt/formula1dl2025practice/processed/pit_stops/race_id=963/",
         "race_id=963/",
         0,
         1744324268000
        ],
        [
         "dbfs:/mnt/formula1dl2025practice/processed/pit_stops/race_id=964/",
         "race_id=964/",
         0,
         1744324268000
        ],
        [
         "dbfs:/mnt/formula1dl2025practice/processed/pit_stops/race_id=965/",
         "race_id=965/",
         0,
         1744324268000
        ],
        [
         "dbfs:/mnt/formula1dl2025practice/processed/pit_stops/race_id=966/",
         "race_id=966/",
         0,
         1744324268000
        ],
        [
         "dbfs:/mnt/formula1dl2025practice/processed/pit_stops/race_id=967/",
         "race_id=967/",
         0,
         1744324268000
        ],
        [
         "dbfs:/mnt/formula1dl2025practice/processed/pit_stops/race_id=968/",
         "race_id=968/",
         0,
         1744324268000
        ],
        [
         "dbfs:/mnt/formula1dl2025practice/processed/pit_stops/race_id=969/",
         "race_id=969/",
         0,
         1744324268000
        ],
        [
         "dbfs:/mnt/formula1dl2025practice/processed/pit_stops/race_id=970/",
         "race_id=970/",
         0,
         1744324269000
        ],
        [
         "dbfs:/mnt/formula1dl2025practice/processed/pit_stops/race_id=971/",
         "race_id=971/",
         0,
         1744324269000
        ],
        [
         "dbfs:/mnt/formula1dl2025practice/processed/pit_stops/race_id=972/",
         "race_id=972/",
         0,
         1744324269000
        ],
        [
         "dbfs:/mnt/formula1dl2025practice/processed/pit_stops/race_id=973/",
         "race_id=973/",
         0,
         1744324269000
        ],
        [
         "dbfs:/mnt/formula1dl2025practice/processed/pit_stops/race_id=974/",
         "race_id=974/",
         0,
         1744324269000
        ],
        [
         "dbfs:/mnt/formula1dl2025practice/processed/pit_stops/race_id=975/",
         "race_id=975/",
         0,
         1744324269000
        ],
        [
         "dbfs:/mnt/formula1dl2025practice/processed/pit_stops/race_id=976/",
         "race_id=976/",
         0,
         1744324269000
        ],
        [
         "dbfs:/mnt/formula1dl2025practice/processed/pit_stops/race_id=977/",
         "race_id=977/",
         0,
         1744324269000
        ],
        [
         "dbfs:/mnt/formula1dl2025practice/processed/pit_stops/race_id=978/",
         "race_id=978/",
         0,
         1744324269000
        ],
        [
         "dbfs:/mnt/formula1dl2025practice/processed/pit_stops/race_id=979/",
         "race_id=979/",
         0,
         1744324269000
        ],
        [
         "dbfs:/mnt/formula1dl2025practice/processed/pit_stops/race_id=980/",
         "race_id=980/",
         0,
         1744324269000
        ],
        [
         "dbfs:/mnt/formula1dl2025practice/processed/pit_stops/race_id=981/",
         "race_id=981/",
         0,
         1744324269000
        ],
        [
         "dbfs:/mnt/formula1dl2025practice/processed/pit_stops/race_id=982/",
         "race_id=982/",
         0,
         1744324270000
        ],
        [
         "dbfs:/mnt/formula1dl2025practice/processed/pit_stops/race_id=983/",
         "race_id=983/",
         0,
         1744324270000
        ],
        [
         "dbfs:/mnt/formula1dl2025practice/processed/pit_stops/race_id=984/",
         "race_id=984/",
         0,
         1744324270000
        ],
        [
         "dbfs:/mnt/formula1dl2025practice/processed/pit_stops/race_id=985/",
         "race_id=985/",
         0,
         1744324270000
        ],
        [
         "dbfs:/mnt/formula1dl2025practice/processed/pit_stops/race_id=986/",
         "race_id=986/",
         0,
         1744324270000
        ],
        [
         "dbfs:/mnt/formula1dl2025practice/processed/pit_stops/race_id=987/",
         "race_id=987/",
         0,
         1744324270000
        ],
        [
         "dbfs:/mnt/formula1dl2025practice/processed/pit_stops/race_id=988/",
         "race_id=988/",
         0,
         1744324270000
        ],
        [
         "dbfs:/mnt/formula1dl2025practice/processed/pit_stops/race_id=989/",
         "race_id=989/",
         0,
         1744324270000
        ],
        [
         "dbfs:/mnt/formula1dl2025practice/processed/pit_stops/race_id=990/",
         "race_id=990/",
         0,
         1744324270000
        ],
        [
         "dbfs:/mnt/formula1dl2025practice/processed/pit_stops/race_id=991/",
         "race_id=991/",
         0,
         1744324270000
        ],
        [
         "dbfs:/mnt/formula1dl2025practice/processed/pit_stops/race_id=992/",
         "race_id=992/",
         0,
         1744324271000
        ],
        [
         "dbfs:/mnt/formula1dl2025practice/processed/pit_stops/race_id=993/",
         "race_id=993/",
         0,
         1744324271000
        ],
        [
         "dbfs:/mnt/formula1dl2025practice/processed/pit_stops/race_id=994/",
         "race_id=994/",
         0,
         1744324271000
        ],
        [
         "dbfs:/mnt/formula1dl2025practice/processed/pit_stops/race_id=995/",
         "race_id=995/",
         0,
         1744324271000
        ],
        [
         "dbfs:/mnt/formula1dl2025practice/processed/pit_stops/race_id=996/",
         "race_id=996/",
         0,
         1744324271000
        ],
        [
         "dbfs:/mnt/formula1dl2025practice/processed/pit_stops/race_id=997/",
         "race_id=997/",
         0,
         1744324271000
        ],
        [
         "dbfs:/mnt/formula1dl2025practice/processed/pit_stops/race_id=998/",
         "race_id=998/",
         0,
         1744324271000
        ],
        [
         "dbfs:/mnt/formula1dl2025practice/processed/pit_stops/race_id=999/",
         "race_id=999/",
         0,
         1744324271000
        ]
       ],
       "datasetInfos": [],
       "dbfsResultPath": null,
       "isJsonSchema": true,
       "metadata": {},
       "overflow": false,
       "plotOptions": {
        "customPlotOptions": {},
        "displayType": "table",
        "pivotAggregation": null,
        "pivotColumns": null,
        "xColumns": null,
        "yColumns": null
       },
       "removedWidgets": [],
       "schema": [
        {
         "metadata": "{}",
         "name": "path",
         "type": "\"string\""
        },
        {
         "metadata": "{}",
         "name": "name",
         "type": "\"string\""
        },
        {
         "metadata": "{}",
         "name": "size",
         "type": "\"long\""
        },
        {
         "metadata": "{}",
         "name": "modificationTime",
         "type": "\"long\""
        }
       ],
       "type": "table"
      }
     },
     "output_type": "display_data"
    }
   ],
   "source": [
    "%fs\n",
    "ls /mnt/formula1dl2025practice/processed/pit_stops"
   ]
  },
  {
   "cell_type": "code",
   "execution_count": 0,
   "metadata": {
    "application/vnd.databricks.v1+cell": {
     "cellMetadata": {
      "byteLimit": 2048000,
      "rowLimit": 10000
     },
     "inputWidgets": {},
     "nuid": "98372d79-c938-450d-a61d-c9ab96f7ca64",
     "showTitle": false,
     "tableResultSettingsMap": {},
     "title": ""
    }
   },
   "outputs": [],
   "source": [
    "#display(spark.read.parquet(\"/mnt/formula1dl2025practice/processed/pit_stops\"))"
   ]
  },
  {
   "cell_type": "code",
   "execution_count": 0,
   "metadata": {
    "application/vnd.databricks.v1+cell": {
     "cellMetadata": {
      "byteLimit": 2048000,
      "rowLimit": 10000
     },
     "inputWidgets": {},
     "nuid": "7e5a8eda-90e6-4c8b-aeb7-06ee2d77e94e",
     "showTitle": false,
     "tableResultSettingsMap": {},
     "title": ""
    }
   },
   "outputs": [],
   "source": [
    "dbutils.notebook.exit(\"Success\")"
   ]
  },
  {
   "cell_type": "code",
   "execution_count": 0,
   "metadata": {
    "application/vnd.databricks.v1+cell": {
     "cellMetadata": {
      "byteLimit": 2048000,
      "implicitDf": true,
      "rowLimit": 10000
     },
     "inputWidgets": {},
     "nuid": "4bed9115-de25-441f-a21f-c7f7e7aa275d",
     "showTitle": false,
     "tableResultSettingsMap": {},
     "title": ""
    }
   },
   "outputs": [],
   "source": [
    "%sql\n",
    "\n",
    "SELECT race_id, count(1) from f1_processed.pit_stops\n",
    "GROUP BY race_id\n",
    "ORDER BY race_id dESC "
   ]
  },
  {
   "cell_type": "code",
   "execution_count": 0,
   "metadata": {
    "application/vnd.databricks.v1+cell": {
     "cellMetadata": {
      "byteLimit": 2048000,
      "rowLimit": 10000
     },
     "inputWidgets": {},
     "nuid": "c70b8556-4e15-4b3f-b6ca-8f1081f91742",
     "showTitle": false,
     "tableResultSettingsMap": {},
     "title": ""
    }
   },
   "outputs": [],
   "source": []
  }
 ],
 "metadata": {
  "application/vnd.databricks.v1+notebook": {
   "computePreferences": null,
   "dashboards": [],
   "environmentMetadata": {
    "base_environment": "",
    "environment_version": "2"
   },
   "inputWidgetPreferences": null,
   "language": "python",
   "notebookMetadata": {
    "mostRecentlyExecutedCommandWithImplicitDF": {
     "commandId": 5903833475699365,
     "dataframes": [
      "_sqldf"
     ]
    },
    "pythonIndentUnit": 4
   },
   "notebookName": "6.ingest_pit_stops.json_file",
   "widgets": {
    "p_data_source": {
     "currentValue": "test",
     "nuid": "f4f5cb3f-5c8a-40a3-acd2-51cc02e582dc",
     "typedWidgetInfo": {
      "autoCreated": false,
      "defaultValue": "",
      "label": null,
      "name": "p_data_source",
      "options": {
       "widgetDisplayType": "Text",
       "validationRegex": null
      },
      "parameterDataType": "String"
     },
     "widgetInfo": {
      "widgetType": "text",
      "defaultValue": "",
      "label": null,
      "name": "p_data_source",
      "options": {
       "widgetType": "text",
       "autoCreated": null,
       "validationRegex": null
      }
     }
    },
    "p_file_date": {
     "currentValue": "2021-04-18",
     "nuid": "8410937e-1eed-4133-b389-924ace024f42",
     "typedWidgetInfo": {
      "autoCreated": false,
      "defaultValue": "2021-03-28",
      "label": null,
      "name": "p_file_date",
      "options": {
       "widgetDisplayType": "Text",
       "validationRegex": null
      },
      "parameterDataType": "String"
     },
     "widgetInfo": {
      "widgetType": "text",
      "defaultValue": "2021-03-28",
      "label": null,
      "name": "p_file_date",
      "options": {
       "widgetType": "text",
       "autoCreated": null,
       "validationRegex": null
      }
     }
    }
   }
  },
  "language_info": {
   "name": "python"
  }
 },
 "nbformat": 4,
 "nbformat_minor": 0
}
