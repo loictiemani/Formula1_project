{
 "cells": [
  {
   "cell_type": "markdown",
   "metadata": {
    "application/vnd.databricks.v1+cell": {
     "cellMetadata": {
      "byteLimit": 2048000,
      "rowLimit": 10000
     },
     "inputWidgets": {},
     "nuid": "63879f3f-ddd7-42c4-a34c-d89d929f36f6",
     "showTitle": false,
     "tableResultSettingsMap": {},
     "title": ""
    }
   },
   "source": [
    "## Ingest qualifying.json file\n",
    "Step 1- Read the json file using the spark dataframe reader API"
   ]
  },
  {
   "cell_type": "code",
   "execution_count": 0,
   "metadata": {
    "application/vnd.databricks.v1+cell": {
     "cellMetadata": {
      "byteLimit": 2048000,
      "rowLimit": 10000
     },
     "inputWidgets": {},
     "nuid": "c54bcc9c-e18d-4869-abb0-dad3f837038e",
     "showTitle": false,
     "tableResultSettingsMap": {},
     "title": ""
    }
   },
   "outputs": [],
   "source": [
    "dbutils.widgets.text(\"p_data_source\",\"\")\n",
    "v_data_source = dbutils.widgets.get(\"p_data_source\")"
   ]
  },
  {
   "cell_type": "code",
   "execution_count": 0,
   "metadata": {
    "application/vnd.databricks.v1+cell": {
     "cellMetadata": {
      "byteLimit": 2048000,
      "rowLimit": 10000
     },
     "inputWidgets": {},
     "nuid": "8ac50795-7e00-4316-a49b-4f87f7625064",
     "showTitle": false,
     "tableResultSettingsMap": {},
     "title": ""
    }
   },
   "outputs": [],
   "source": [
    "dbutils.widgets.text(\"p_file_date\",\"2021-03-21\")\n",
    "v_file_date = dbutils.widgets.get(\"p_file_date\")"
   ]
  },
  {
   "cell_type": "code",
   "execution_count": 0,
   "metadata": {
    "application/vnd.databricks.v1+cell": {
     "cellMetadata": {
      "byteLimit": 2048000,
      "rowLimit": 10000
     },
     "inputWidgets": {},
     "nuid": "476579b2-e727-4c57-b9d1-457d7ff9a40b",
     "showTitle": false,
     "tableResultSettingsMap": {},
     "title": ""
    }
   },
   "outputs": [],
   "source": [
    "%run \"../includes/configuration\""
   ]
  },
  {
   "cell_type": "code",
   "execution_count": 0,
   "metadata": {
    "application/vnd.databricks.v1+cell": {
     "cellMetadata": {
      "byteLimit": 2048000,
      "rowLimit": 10000
     },
     "inputWidgets": {},
     "nuid": "88b35b9d-2ec8-495f-b3ed-1748e7e8d752",
     "showTitle": false,
     "tableResultSettingsMap": {},
     "title": ""
    }
   },
   "outputs": [],
   "source": [
    "%run \"../includes/common_functions\""
   ]
  },
  {
   "cell_type": "code",
   "execution_count": 0,
   "metadata": {
    "application/vnd.databricks.v1+cell": {
     "cellMetadata": {
      "byteLimit": 2048000,
      "rowLimit": 10000
     },
     "inputWidgets": {},
     "nuid": "99d08efc-d173-4bc5-a072-707da6db2b88",
     "showTitle": false,
     "tableResultSettingsMap": {},
     "title": ""
    }
   },
   "outputs": [],
   "source": [
    "from pyspark.sql.types import StructType, StringType, IntegerType, DoubleType, StructField, TimestampType, DateType, FloatType\n",
    "from pyspark.sql.functions import col, struct,current_timestamp , concat, lit"
   ]
  },
  {
   "cell_type": "code",
   "execution_count": 0,
   "metadata": {
    "application/vnd.databricks.v1+cell": {
     "cellMetadata": {
      "byteLimit": 2048000,
      "rowLimit": 10000
     },
     "inputWidgets": {},
     "nuid": "f02cedee-9ad3-430e-958f-dbb5d56852f8",
     "showTitle": false,
     "tableResultSettingsMap": {},
     "title": ""
    }
   },
   "outputs": [],
   "source": [
    "qualifying_schema = StructType(fields= [StructField(\"qualifyId\", IntegerType(), False),\n",
    "                                         StructField(\"raceId\", IntegerType(), True), \n",
    "                                         StructField(\"driverId\", IntegerType(), True), \n",
    "                                         StructField(\"constructorId\", IntegerType(), True), \n",
    "                                         StructField(\"number\", IntegerType(), True), \n",
    "                                         StructField(\"position\", IntegerType(), True), \n",
    "                                         StructField(\"q1\", StringType(), True), \n",
    "                                         StructField(\"q2\", StringType(), True), \n",
    "                                         StructField(\"q3\", StringType(), True)])  "
   ]
  },
  {
   "cell_type": "code",
   "execution_count": 0,
   "metadata": {
    "application/vnd.databricks.v1+cell": {
     "cellMetadata": {
      "byteLimit": 2048000,
      "rowLimit": 10000
     },
     "inputWidgets": {},
     "nuid": "d45f5532-2d5a-4367-a618-7f1bfe1a06de",
     "showTitle": false,
     "tableResultSettingsMap": {},
     "title": ""
    }
   },
   "outputs": [],
   "source": [
    "# Load the JSON file\n",
    "qualifying_df = spark.read\\\n",
    "    .schema(qualifying_schema)\\\n",
    "        .option(\"multiLine\", True)\\\n",
    "    .json(f\"{raw_folder_path}/{v_file_date}/qualifying\")"
   ]
  },
  {
   "cell_type": "code",
   "execution_count": 0,
   "metadata": {
    "application/vnd.databricks.v1+cell": {
     "cellMetadata": {
      "byteLimit": 2048000,
      "rowLimit": 10000
     },
     "inputWidgets": {},
     "nuid": "aa922290-bb94-4150-b349-376849a09f91",
     "showTitle": false,
     "tableResultSettingsMap": {},
     "title": ""
    }
   },
   "outputs": [
    {
     "output_type": "display_data",
     "data": {
      "text/html": [
       "<style scoped>\n",
       "  .table-result-container {\n",
       "    max-height: 300px;\n",
       "    overflow: auto;\n",
       "  }\n",
       "  table, th, td {\n",
       "    border: 1px solid black;\n",
       "    border-collapse: collapse;\n",
       "  }\n",
       "  th, td {\n",
       "    padding: 5px;\n",
       "  }\n",
       "  th {\n",
       "    text-align: left;\n",
       "  }\n",
       "</style><div class='table-result-container'><table class='table-result'><thead style='background-color: white'><tr><th>qualifyId</th><th>raceId</th><th>driverId</th><th>constructorId</th><th>number</th><th>position</th><th>q1</th><th>q2</th><th>q3</th></tr></thead><tbody><tr><td>8755</td><td>1053</td><td>1</td><td>131</td><td>44</td><td>1</td><td>1:14.823</td><td>1:14.817</td><td>1:14.411</td></tr><tr><td>8756</td><td>1053</td><td>815</td><td>9</td><td>11</td><td>2</td><td>1:15.395</td><td>1:14.716</td><td>1:14.446</td></tr><tr><td>8757</td><td>1053</td><td>830</td><td>9</td><td>33</td><td>3</td><td>1:15.109</td><td>1:14.884</td><td>1:14.498</td></tr><tr><td>8758</td><td>1053</td><td>844</td><td>6</td><td>16</td><td>4</td><td>1:15.413</td><td>1:14.808</td><td>1:14.740</td></tr><tr><td>8759</td><td>1053</td><td>842</td><td>213</td><td>10</td><td>5</td><td>1:15.548</td><td>1:14.927</td><td>1:14.790</td></tr><tr><td>8760</td><td>1053</td><td>817</td><td>1</td><td>3</td><td>6</td><td>1:15.669</td><td>1:15.033</td><td>1:14.826</td></tr><tr><td>8761</td><td>1053</td><td>846</td><td>1</td><td>4</td><td>7</td><td>1:15.009</td><td>1:14.718</td><td>1:14.875</td></tr><tr><td>8762</td><td>1053</td><td>822</td><td>131</td><td>77</td><td>8</td><td>1:14.672</td><td>1:14.905</td><td>1:14.898</td></tr><tr><td>8763</td><td>1053</td><td>839</td><td>214</td><td>31</td><td>9</td><td>1:15.385</td><td>1:15.117</td><td>1:15.210</td></tr><tr><td>8764</td><td>1053</td><td>840</td><td>117</td><td>18</td><td>10</td><td>1:15.522</td><td>1:15.138</td><td>\\N</td></tr><tr><td>8765</td><td>1053</td><td>832</td><td>6</td><td>55</td><td>11</td><td>1:15.406</td><td>1:15.199</td><td>\\N</td></tr><tr><td>8766</td><td>1053</td><td>847</td><td>3</td><td>63</td><td>12</td><td>1:15.826</td><td>1:15.261</td><td>\\N</td></tr><tr><td>8767</td><td>1053</td><td>20</td><td>117</td><td>5</td><td>13</td><td>1:15.459</td><td>1:15.394</td><td>\\N</td></tr><tr><td>8768</td><td>1053</td><td>849</td><td>3</td><td>6</td><td>14</td><td>1:15.653</td><td>1:15.593</td><td>\\N</td></tr><tr><td>8769</td><td>1053</td><td>4</td><td>214</td><td>14</td><td>15</td><td>1:15.832</td><td>1:15.593</td><td>\\N</td></tr><tr><td>8770</td><td>1053</td><td>8</td><td>51</td><td>7</td><td>16</td><td>1:15.974</td><td>\\N</td><td>\\N</td></tr><tr><td>8771</td><td>1053</td><td>841</td><td>51</td><td>99</td><td>17</td><td>1:16.122</td><td>\\N</td><td>\\N</td></tr><tr><td>8772</td><td>1053</td><td>854</td><td>210</td><td>47</td><td>18</td><td>1:16.279</td><td>\\N</td><td>\\N</td></tr><tr><td>8773</td><td>1053</td><td>853</td><td>210</td><td>9</td><td>19</td><td>1:16.797</td><td>\\N</td><td>\\N</td></tr><tr><td>8774</td><td>1053</td><td>852</td><td>213</td><td>22</td><td>20</td><td>\\N</td><td>\\N</td><td>\\N</td></tr></tbody></table></div>"
      ]
     },
     "metadata": {
      "application/vnd.databricks.v1+output": {
       "addedWidgets": {},
       "aggData": [],
       "aggError": "",
       "aggOverflow": false,
       "aggSchema": [],
       "aggSeriesLimitReached": false,
       "aggType": "",
       "arguments": {},
       "columnCustomDisplayInfos": {},
       "data": [
        [
         8755,
         1053,
         1,
         131,
         44,
         1,
         "1:14.823",
         "1:14.817",
         "1:14.411"
        ],
        [
         8756,
         1053,
         815,
         9,
         11,
         2,
         "1:15.395",
         "1:14.716",
         "1:14.446"
        ],
        [
         8757,
         1053,
         830,
         9,
         33,
         3,
         "1:15.109",
         "1:14.884",
         "1:14.498"
        ],
        [
         8758,
         1053,
         844,
         6,
         16,
         4,
         "1:15.413",
         "1:14.808",
         "1:14.740"
        ],
        [
         8759,
         1053,
         842,
         213,
         10,
         5,
         "1:15.548",
         "1:14.927",
         "1:14.790"
        ],
        [
         8760,
         1053,
         817,
         1,
         3,
         6,
         "1:15.669",
         "1:15.033",
         "1:14.826"
        ],
        [
         8761,
         1053,
         846,
         1,
         4,
         7,
         "1:15.009",
         "1:14.718",
         "1:14.875"
        ],
        [
         8762,
         1053,
         822,
         131,
         77,
         8,
         "1:14.672",
         "1:14.905",
         "1:14.898"
        ],
        [
         8763,
         1053,
         839,
         214,
         31,
         9,
         "1:15.385",
         "1:15.117",
         "1:15.210"
        ],
        [
         8764,
         1053,
         840,
         117,
         18,
         10,
         "1:15.522",
         "1:15.138",
         "\\N"
        ],
        [
         8765,
         1053,
         832,
         6,
         55,
         11,
         "1:15.406",
         "1:15.199",
         "\\N"
        ],
        [
         8766,
         1053,
         847,
         3,
         63,
         12,
         "1:15.826",
         "1:15.261",
         "\\N"
        ],
        [
         8767,
         1053,
         20,
         117,
         5,
         13,
         "1:15.459",
         "1:15.394",
         "\\N"
        ],
        [
         8768,
         1053,
         849,
         3,
         6,
         14,
         "1:15.653",
         "1:15.593",
         "\\N"
        ],
        [
         8769,
         1053,
         4,
         214,
         14,
         15,
         "1:15.832",
         "1:15.593",
         "\\N"
        ],
        [
         8770,
         1053,
         8,
         51,
         7,
         16,
         "1:15.974",
         "\\N",
         "\\N"
        ],
        [
         8771,
         1053,
         841,
         51,
         99,
         17,
         "1:16.122",
         "\\N",
         "\\N"
        ],
        [
         8772,
         1053,
         854,
         210,
         47,
         18,
         "1:16.279",
         "\\N",
         "\\N"
        ],
        [
         8773,
         1053,
         853,
         210,
         9,
         19,
         "1:16.797",
         "\\N",
         "\\N"
        ],
        [
         8774,
         1053,
         852,
         213,
         22,
         20,
         "\\N",
         "\\N",
         "\\N"
        ]
       ],
       "datasetInfos": [],
       "dbfsResultPath": null,
       "isJsonSchema": true,
       "metadata": {},
       "overflow": false,
       "plotOptions": {
        "customPlotOptions": {},
        "displayType": "table",
        "pivotAggregation": null,
        "pivotColumns": null,
        "xColumns": null,
        "yColumns": null
       },
       "removedWidgets": [],
       "schema": [
        {
         "metadata": "{}",
         "name": "qualifyId",
         "type": "\"integer\""
        },
        {
         "metadata": "{}",
         "name": "raceId",
         "type": "\"integer\""
        },
        {
         "metadata": "{}",
         "name": "driverId",
         "type": "\"integer\""
        },
        {
         "metadata": "{}",
         "name": "constructorId",
         "type": "\"integer\""
        },
        {
         "metadata": "{}",
         "name": "number",
         "type": "\"integer\""
        },
        {
         "metadata": "{}",
         "name": "position",
         "type": "\"integer\""
        },
        {
         "metadata": "{}",
         "name": "q1",
         "type": "\"string\""
        },
        {
         "metadata": "{}",
         "name": "q2",
         "type": "\"string\""
        },
        {
         "metadata": "{}",
         "name": "q3",
         "type": "\"string\""
        }
       ],
       "type": "table"
      }
     },
     "output_type": "display_data"
    }
   ],
   "source": [
    "display(qualifying_df)"
   ]
  },
  {
   "cell_type": "markdown",
   "metadata": {
    "application/vnd.databricks.v1+cell": {
     "cellMetadata": {
      "byteLimit": 2048000,
      "rowLimit": 10000
     },
     "inputWidgets": {},
     "nuid": "800ad836-e4f5-4fae-89d8-2e378cfbc8af",
     "showTitle": false,
     "tableResultSettingsMap": {},
     "title": ""
    }
   },
   "source": [
    "#### Step 2 - Rename cloumns and add new columns"
   ]
  },
  {
   "cell_type": "code",
   "execution_count": 0,
   "metadata": {
    "application/vnd.databricks.v1+cell": {
     "cellMetadata": {
      "byteLimit": 2048000,
      "rowLimit": 10000
     },
     "inputWidgets": {},
     "nuid": "0583771d-93d0-462d-ba29-61b2cf328604",
     "showTitle": false,
     "tableResultSettingsMap": {},
     "title": ""
    }
   },
   "outputs": [],
   "source": [
    "qualifying_final_df = qualifying_df.withColumnRenamed(\"qualifyId\", \"qualify_id\")\\\n",
    "  .withColumnRenamed(\"driverId\", \"driver_id\")\\\n",
    "  .withColumnRenamed(\"raceId\", \"race_id\")\\\n",
    "  .withColumnRenamed(\"constructorId\", \"constructor_id\")\\\n",
    "  .withColumn(\"data_source\", lit(v_data_source))\n",
    "                                           "
   ]
  },
  {
   "cell_type": "code",
   "execution_count": 0,
   "metadata": {
    "application/vnd.databricks.v1+cell": {
     "cellMetadata": {
      "byteLimit": 2048000,
      "rowLimit": 10000
     },
     "inputWidgets": {},
     "nuid": "20eb8d8c-2d09-489f-aed7-e94caa30cfb0",
     "showTitle": false,
     "tableResultSettingsMap": {},
     "title": ""
    }
   },
   "outputs": [],
   "source": [
    "qualifying_final_df = add_ingestion_date(qualifying_final_df)"
   ]
  },
  {
   "cell_type": "code",
   "execution_count": 0,
   "metadata": {
    "application/vnd.databricks.v1+cell": {
     "cellMetadata": {
      "byteLimit": 2048000,
      "rowLimit": 10000
     },
     "inputWidgets": {},
     "nuid": "a5444565-6616-4523-9046-5bb3b0bf5ba1",
     "showTitle": false,
     "tableResultSettingsMap": {},
     "title": ""
    }
   },
   "outputs": [
    {
     "output_type": "display_data",
     "data": {
      "text/html": [
       "<style scoped>\n",
       "  .table-result-container {\n",
       "    max-height: 300px;\n",
       "    overflow: auto;\n",
       "  }\n",
       "  table, th, td {\n",
       "    border: 1px solid black;\n",
       "    border-collapse: collapse;\n",
       "  }\n",
       "  th, td {\n",
       "    padding: 5px;\n",
       "  }\n",
       "  th {\n",
       "    text-align: left;\n",
       "  }\n",
       "</style><div class='table-result-container'><table class='table-result'><thead style='background-color: white'><tr><th>qualify_id</th><th>race_id</th><th>driver_id</th><th>constructor_id</th><th>number</th><th>position</th><th>q1</th><th>q2</th><th>q3</th><th>data_source</th><th>ingestion_date</th></tr></thead><tbody><tr><td>8755</td><td>1053</td><td>1</td><td>131</td><td>44</td><td>1</td><td>1:14.823</td><td>1:14.817</td><td>1:14.411</td><td></td><td>2025-04-10T22:39:59.607+0000</td></tr><tr><td>8756</td><td>1053</td><td>815</td><td>9</td><td>11</td><td>2</td><td>1:15.395</td><td>1:14.716</td><td>1:14.446</td><td></td><td>2025-04-10T22:39:59.607+0000</td></tr><tr><td>8757</td><td>1053</td><td>830</td><td>9</td><td>33</td><td>3</td><td>1:15.109</td><td>1:14.884</td><td>1:14.498</td><td></td><td>2025-04-10T22:39:59.607+0000</td></tr><tr><td>8758</td><td>1053</td><td>844</td><td>6</td><td>16</td><td>4</td><td>1:15.413</td><td>1:14.808</td><td>1:14.740</td><td></td><td>2025-04-10T22:39:59.607+0000</td></tr><tr><td>8759</td><td>1053</td><td>842</td><td>213</td><td>10</td><td>5</td><td>1:15.548</td><td>1:14.927</td><td>1:14.790</td><td></td><td>2025-04-10T22:39:59.607+0000</td></tr><tr><td>8760</td><td>1053</td><td>817</td><td>1</td><td>3</td><td>6</td><td>1:15.669</td><td>1:15.033</td><td>1:14.826</td><td></td><td>2025-04-10T22:39:59.607+0000</td></tr><tr><td>8761</td><td>1053</td><td>846</td><td>1</td><td>4</td><td>7</td><td>1:15.009</td><td>1:14.718</td><td>1:14.875</td><td></td><td>2025-04-10T22:39:59.607+0000</td></tr><tr><td>8762</td><td>1053</td><td>822</td><td>131</td><td>77</td><td>8</td><td>1:14.672</td><td>1:14.905</td><td>1:14.898</td><td></td><td>2025-04-10T22:39:59.607+0000</td></tr><tr><td>8763</td><td>1053</td><td>839</td><td>214</td><td>31</td><td>9</td><td>1:15.385</td><td>1:15.117</td><td>1:15.210</td><td></td><td>2025-04-10T22:39:59.607+0000</td></tr><tr><td>8764</td><td>1053</td><td>840</td><td>117</td><td>18</td><td>10</td><td>1:15.522</td><td>1:15.138</td><td>\\N</td><td></td><td>2025-04-10T22:39:59.607+0000</td></tr><tr><td>8765</td><td>1053</td><td>832</td><td>6</td><td>55</td><td>11</td><td>1:15.406</td><td>1:15.199</td><td>\\N</td><td></td><td>2025-04-10T22:39:59.607+0000</td></tr><tr><td>8766</td><td>1053</td><td>847</td><td>3</td><td>63</td><td>12</td><td>1:15.826</td><td>1:15.261</td><td>\\N</td><td></td><td>2025-04-10T22:39:59.607+0000</td></tr><tr><td>8767</td><td>1053</td><td>20</td><td>117</td><td>5</td><td>13</td><td>1:15.459</td><td>1:15.394</td><td>\\N</td><td></td><td>2025-04-10T22:39:59.607+0000</td></tr><tr><td>8768</td><td>1053</td><td>849</td><td>3</td><td>6</td><td>14</td><td>1:15.653</td><td>1:15.593</td><td>\\N</td><td></td><td>2025-04-10T22:39:59.607+0000</td></tr><tr><td>8769</td><td>1053</td><td>4</td><td>214</td><td>14</td><td>15</td><td>1:15.832</td><td>1:15.593</td><td>\\N</td><td></td><td>2025-04-10T22:39:59.607+0000</td></tr><tr><td>8770</td><td>1053</td><td>8</td><td>51</td><td>7</td><td>16</td><td>1:15.974</td><td>\\N</td><td>\\N</td><td></td><td>2025-04-10T22:39:59.607+0000</td></tr><tr><td>8771</td><td>1053</td><td>841</td><td>51</td><td>99</td><td>17</td><td>1:16.122</td><td>\\N</td><td>\\N</td><td></td><td>2025-04-10T22:39:59.607+0000</td></tr><tr><td>8772</td><td>1053</td><td>854</td><td>210</td><td>47</td><td>18</td><td>1:16.279</td><td>\\N</td><td>\\N</td><td></td><td>2025-04-10T22:39:59.607+0000</td></tr><tr><td>8773</td><td>1053</td><td>853</td><td>210</td><td>9</td><td>19</td><td>1:16.797</td><td>\\N</td><td>\\N</td><td></td><td>2025-04-10T22:39:59.607+0000</td></tr><tr><td>8774</td><td>1053</td><td>852</td><td>213</td><td>22</td><td>20</td><td>\\N</td><td>\\N</td><td>\\N</td><td></td><td>2025-04-10T22:39:59.607+0000</td></tr></tbody></table></div>"
      ]
     },
     "metadata": {
      "application/vnd.databricks.v1+output": {
       "addedWidgets": {},
       "aggData": [],
       "aggError": "",
       "aggOverflow": false,
       "aggSchema": [],
       "aggSeriesLimitReached": false,
       "aggType": "",
       "arguments": {},
       "columnCustomDisplayInfos": {},
       "data": [
        [
         8755,
         1053,
         1,
         131,
         44,
         1,
         "1:14.823",
         "1:14.817",
         "1:14.411",
         "",
         "2025-04-10T22:39:59.607+0000"
        ],
        [
         8756,
         1053,
         815,
         9,
         11,
         2,
         "1:15.395",
         "1:14.716",
         "1:14.446",
         "",
         "2025-04-10T22:39:59.607+0000"
        ],
        [
         8757,
         1053,
         830,
         9,
         33,
         3,
         "1:15.109",
         "1:14.884",
         "1:14.498",
         "",
         "2025-04-10T22:39:59.607+0000"
        ],
        [
         8758,
         1053,
         844,
         6,
         16,
         4,
         "1:15.413",
         "1:14.808",
         "1:14.740",
         "",
         "2025-04-10T22:39:59.607+0000"
        ],
        [
         8759,
         1053,
         842,
         213,
         10,
         5,
         "1:15.548",
         "1:14.927",
         "1:14.790",
         "",
         "2025-04-10T22:39:59.607+0000"
        ],
        [
         8760,
         1053,
         817,
         1,
         3,
         6,
         "1:15.669",
         "1:15.033",
         "1:14.826",
         "",
         "2025-04-10T22:39:59.607+0000"
        ],
        [
         8761,
         1053,
         846,
         1,
         4,
         7,
         "1:15.009",
         "1:14.718",
         "1:14.875",
         "",
         "2025-04-10T22:39:59.607+0000"
        ],
        [
         8762,
         1053,
         822,
         131,
         77,
         8,
         "1:14.672",
         "1:14.905",
         "1:14.898",
         "",
         "2025-04-10T22:39:59.607+0000"
        ],
        [
         8763,
         1053,
         839,
         214,
         31,
         9,
         "1:15.385",
         "1:15.117",
         "1:15.210",
         "",
         "2025-04-10T22:39:59.607+0000"
        ],
        [
         8764,
         1053,
         840,
         117,
         18,
         10,
         "1:15.522",
         "1:15.138",
         "\\N",
         "",
         "2025-04-10T22:39:59.607+0000"
        ],
        [
         8765,
         1053,
         832,
         6,
         55,
         11,
         "1:15.406",
         "1:15.199",
         "\\N",
         "",
         "2025-04-10T22:39:59.607+0000"
        ],
        [
         8766,
         1053,
         847,
         3,
         63,
         12,
         "1:15.826",
         "1:15.261",
         "\\N",
         "",
         "2025-04-10T22:39:59.607+0000"
        ],
        [
         8767,
         1053,
         20,
         117,
         5,
         13,
         "1:15.459",
         "1:15.394",
         "\\N",
         "",
         "2025-04-10T22:39:59.607+0000"
        ],
        [
         8768,
         1053,
         849,
         3,
         6,
         14,
         "1:15.653",
         "1:15.593",
         "\\N",
         "",
         "2025-04-10T22:39:59.607+0000"
        ],
        [
         8769,
         1053,
         4,
         214,
         14,
         15,
         "1:15.832",
         "1:15.593",
         "\\N",
         "",
         "2025-04-10T22:39:59.607+0000"
        ],
        [
         8770,
         1053,
         8,
         51,
         7,
         16,
         "1:15.974",
         "\\N",
         "\\N",
         "",
         "2025-04-10T22:39:59.607+0000"
        ],
        [
         8771,
         1053,
         841,
         51,
         99,
         17,
         "1:16.122",
         "\\N",
         "\\N",
         "",
         "2025-04-10T22:39:59.607+0000"
        ],
        [
         8772,
         1053,
         854,
         210,
         47,
         18,
         "1:16.279",
         "\\N",
         "\\N",
         "",
         "2025-04-10T22:39:59.607+0000"
        ],
        [
         8773,
         1053,
         853,
         210,
         9,
         19,
         "1:16.797",
         "\\N",
         "\\N",
         "",
         "2025-04-10T22:39:59.607+0000"
        ],
        [
         8774,
         1053,
         852,
         213,
         22,
         20,
         "\\N",
         "\\N",
         "\\N",
         "",
         "2025-04-10T22:39:59.607+0000"
        ]
       ],
       "datasetInfos": [],
       "dbfsResultPath": null,
       "isJsonSchema": true,
       "metadata": {},
       "overflow": false,
       "plotOptions": {
        "customPlotOptions": {},
        "displayType": "table",
        "pivotAggregation": null,
        "pivotColumns": null,
        "xColumns": null,
        "yColumns": null
       },
       "removedWidgets": [],
       "schema": [
        {
         "metadata": "{}",
         "name": "qualify_id",
         "type": "\"integer\""
        },
        {
         "metadata": "{}",
         "name": "race_id",
         "type": "\"integer\""
        },
        {
         "metadata": "{}",
         "name": "driver_id",
         "type": "\"integer\""
        },
        {
         "metadata": "{}",
         "name": "constructor_id",
         "type": "\"integer\""
        },
        {
         "metadata": "{}",
         "name": "number",
         "type": "\"integer\""
        },
        {
         "metadata": "{}",
         "name": "position",
         "type": "\"integer\""
        },
        {
         "metadata": "{}",
         "name": "q1",
         "type": "\"string\""
        },
        {
         "metadata": "{}",
         "name": "q2",
         "type": "\"string\""
        },
        {
         "metadata": "{}",
         "name": "q3",
         "type": "\"string\""
        },
        {
         "metadata": "{}",
         "name": "data_source",
         "type": "\"string\""
        },
        {
         "metadata": "{}",
         "name": "ingestion_date",
         "type": "\"timestamp\""
        }
       ],
       "type": "table"
      }
     },
     "output_type": "display_data"
    }
   ],
   "source": [
    "display(qualifying_final_df)"
   ]
  },
  {
   "cell_type": "markdown",
   "metadata": {
    "application/vnd.databricks.v1+cell": {
     "cellMetadata": {
      "byteLimit": 2048000,
      "rowLimit": 10000
     },
     "inputWidgets": {},
     "nuid": "09b5a1fb-a927-425d-bef4-f92268a6ca9e",
     "showTitle": false,
     "tableResultSettingsMap": {},
     "title": ""
    }
   },
   "source": [
    "\n",
    "#### Step 3 - Write to output to processed container in parquet format"
   ]
  },
  {
   "cell_type": "code",
   "execution_count": 0,
   "metadata": {
    "application/vnd.databricks.v1+cell": {
     "cellMetadata": {
      "byteLimit": 2048000,
      "rowLimit": 10000
     },
     "inputWidgets": {},
     "nuid": "db97b470-7cbc-447c-9cff-64f16b27f354",
     "showTitle": false,
     "tableResultSettingsMap": {},
     "title": ""
    }
   },
   "outputs": [],
   "source": [
    "#qualifying_final_df.write.mode(\"overwrite\").parquet(f\"{processed_folder_path}/qualifying\")\n",
    "#qualifying_final_df.write.mode(\"overwrite\").format(\"parquet\").saveAsTable(\"f1_processed.qualifying\")"
   ]
  },
  {
   "cell_type": "code",
   "execution_count": 0,
   "metadata": {
    "application/vnd.databricks.v1+cell": {
     "cellMetadata": {
      "byteLimit": 2048000,
      "rowLimit": 10000
     },
     "inputWidgets": {},
     "nuid": "634dd5d6-9ef0-4bfe-88c8-333002436ab2",
     "showTitle": false,
     "tableResultSettingsMap": {},
     "title": ""
    }
   },
   "outputs": [],
   "source": [
    "#overwrite_partition(qualifying_final_df, \"f1_processed\", \"qualifying\", \"race_id\")"
   ]
  },
  {
   "cell_type": "code",
   "execution_count": 0,
   "metadata": {
    "application/vnd.databricks.v1+cell": {
     "cellMetadata": {
      "byteLimit": 2048000,
      "rowLimit": 10000
     },
     "inputWidgets": {},
     "nuid": "e6774bb6-23ea-4337-aa61-63baad83db0a",
     "showTitle": false,
     "tableResultSettingsMap": {},
     "title": ""
    }
   },
   "outputs": [],
   "source": [
    "merge_condition =\"tgt.qualify_id =src.qualify_id  AND tgt.race_id = src.race_id\"\n",
    "merge_delta_data (qualifying_final_df,\"f1_processed\", \"qualifying\",processed_folder_path,merge_condition,\"race_id\")"
   ]
  },
  {
   "cell_type": "code",
   "execution_count": 0,
   "metadata": {
    "application/vnd.databricks.v1+cell": {
     "cellMetadata": {
      "byteLimit": 2048000,
      "rowLimit": 10000
     },
     "inputWidgets": {},
     "nuid": "942b560e-b027-46de-910c-0af7ee3f0095",
     "showTitle": false,
     "tableResultSettingsMap": {},
     "title": ""
    }
   },
   "outputs": [
    {
     "output_type": "display_data",
     "data": {
      "text/html": [
       "<style scoped>\n",
       "  .table-result-container {\n",
       "    max-height: 300px;\n",
       "    overflow: auto;\n",
       "  }\n",
       "  table, th, td {\n",
       "    border: 1px solid black;\n",
       "    border-collapse: collapse;\n",
       "  }\n",
       "  th, td {\n",
       "    padding: 5px;\n",
       "  }\n",
       "  th {\n",
       "    text-align: left;\n",
       "  }\n",
       "</style><div class='table-result-container'><table class='table-result'><thead style='background-color: white'><tr><th>path</th><th>name</th><th>size</th><th>modificationTime</th></tr></thead><tbody><tr><td>dbfs:/mnt/formula1dl2025practice/processed/qualifying/_delta_log/</td><td>_delta_log/</td><td>0</td><td>1744324727000</td></tr><tr><td>dbfs:/mnt/formula1dl2025practice/processed/qualifying/race_id=1/</td><td>race_id=1/</td><td>0</td><td>1744324728000</td></tr><tr><td>dbfs:/mnt/formula1dl2025practice/processed/qualifying/race_id=10/</td><td>race_id=10/</td><td>0</td><td>1744324729000</td></tr><tr><td>dbfs:/mnt/formula1dl2025practice/processed/qualifying/race_id=100/</td><td>race_id=100/</td><td>0</td><td>1744324737000</td></tr><tr><td>dbfs:/mnt/formula1dl2025practice/processed/qualifying/race_id=1000/</td><td>race_id=1000/</td><td>0</td><td>1744324741000</td></tr><tr><td>dbfs:/mnt/formula1dl2025practice/processed/qualifying/race_id=1001/</td><td>race_id=1001/</td><td>0</td><td>1744324741000</td></tr><tr><td>dbfs:/mnt/formula1dl2025practice/processed/qualifying/race_id=1002/</td><td>race_id=1002/</td><td>0</td><td>1744324741000</td></tr><tr><td>dbfs:/mnt/formula1dl2025practice/processed/qualifying/race_id=1003/</td><td>race_id=1003/</td><td>0</td><td>1744324741000</td></tr><tr><td>dbfs:/mnt/formula1dl2025practice/processed/qualifying/race_id=1004/</td><td>race_id=1004/</td><td>0</td><td>1744324741000</td></tr><tr><td>dbfs:/mnt/formula1dl2025practice/processed/qualifying/race_id=1005/</td><td>race_id=1005/</td><td>0</td><td>1744324741000</td></tr><tr><td>dbfs:/mnt/formula1dl2025practice/processed/qualifying/race_id=1006/</td><td>race_id=1006/</td><td>0</td><td>1744324741000</td></tr><tr><td>dbfs:/mnt/formula1dl2025practice/processed/qualifying/race_id=1007/</td><td>race_id=1007/</td><td>0</td><td>1744324742000</td></tr><tr><td>dbfs:/mnt/formula1dl2025practice/processed/qualifying/race_id=1008/</td><td>race_id=1008/</td><td>0</td><td>1744324742000</td></tr><tr><td>dbfs:/mnt/formula1dl2025practice/processed/qualifying/race_id=1009/</td><td>race_id=1009/</td><td>0</td><td>1744324742000</td></tr><tr><td>dbfs:/mnt/formula1dl2025practice/processed/qualifying/race_id=101/</td><td>race_id=101/</td><td>0</td><td>1744324737000</td></tr><tr><td>dbfs:/mnt/formula1dl2025practice/processed/qualifying/race_id=1010/</td><td>race_id=1010/</td><td>0</td><td>1744324742000</td></tr><tr><td>dbfs:/mnt/formula1dl2025practice/processed/qualifying/race_id=1011/</td><td>race_id=1011/</td><td>0</td><td>1744324742000</td></tr><tr><td>dbfs:/mnt/formula1dl2025practice/processed/qualifying/race_id=1012/</td><td>race_id=1012/</td><td>0</td><td>1744324742000</td></tr><tr><td>dbfs:/mnt/formula1dl2025practice/processed/qualifying/race_id=1013/</td><td>race_id=1013/</td><td>0</td><td>1744324742000</td></tr><tr><td>dbfs:/mnt/formula1dl2025practice/processed/qualifying/race_id=1014/</td><td>race_id=1014/</td><td>0</td><td>1744324742000</td></tr><tr><td>dbfs:/mnt/formula1dl2025practice/processed/qualifying/race_id=1015/</td><td>race_id=1015/</td><td>0</td><td>1744324742000</td></tr><tr><td>dbfs:/mnt/formula1dl2025practice/processed/qualifying/race_id=1016/</td><td>race_id=1016/</td><td>0</td><td>1744324742000</td></tr><tr><td>dbfs:/mnt/formula1dl2025practice/processed/qualifying/race_id=1017/</td><td>race_id=1017/</td><td>0</td><td>1744324743000</td></tr><tr><td>dbfs:/mnt/formula1dl2025practice/processed/qualifying/race_id=1018/</td><td>race_id=1018/</td><td>0</td><td>1744324743000</td></tr><tr><td>dbfs:/mnt/formula1dl2025practice/processed/qualifying/race_id=1019/</td><td>race_id=1019/</td><td>0</td><td>1744324743000</td></tr><tr><td>dbfs:/mnt/formula1dl2025practice/processed/qualifying/race_id=102/</td><td>race_id=102/</td><td>0</td><td>1744324737000</td></tr><tr><td>dbfs:/mnt/formula1dl2025practice/processed/qualifying/race_id=1020/</td><td>race_id=1020/</td><td>0</td><td>1744324743000</td></tr><tr><td>dbfs:/mnt/formula1dl2025practice/processed/qualifying/race_id=1021/</td><td>race_id=1021/</td><td>0</td><td>1744324743000</td></tr><tr><td>dbfs:/mnt/formula1dl2025practice/processed/qualifying/race_id=1022/</td><td>race_id=1022/</td><td>0</td><td>1744324743000</td></tr><tr><td>dbfs:/mnt/formula1dl2025practice/processed/qualifying/race_id=1023/</td><td>race_id=1023/</td><td>0</td><td>1744324743000</td></tr><tr><td>dbfs:/mnt/formula1dl2025practice/processed/qualifying/race_id=1024/</td><td>race_id=1024/</td><td>0</td><td>1744324743000</td></tr><tr><td>dbfs:/mnt/formula1dl2025practice/processed/qualifying/race_id=1025/</td><td>race_id=1025/</td><td>0</td><td>1744324743000</td></tr><tr><td>dbfs:/mnt/formula1dl2025practice/processed/qualifying/race_id=1026/</td><td>race_id=1026/</td><td>0</td><td>1744324743000</td></tr><tr><td>dbfs:/mnt/formula1dl2025practice/processed/qualifying/race_id=1027/</td><td>race_id=1027/</td><td>0</td><td>1744324743000</td></tr><tr><td>dbfs:/mnt/formula1dl2025practice/processed/qualifying/race_id=1028/</td><td>race_id=1028/</td><td>0</td><td>1744324744000</td></tr><tr><td>dbfs:/mnt/formula1dl2025practice/processed/qualifying/race_id=1029/</td><td>race_id=1029/</td><td>0</td><td>1744324744000</td></tr><tr><td>dbfs:/mnt/formula1dl2025practice/processed/qualifying/race_id=103/</td><td>race_id=103/</td><td>0</td><td>1744324737000</td></tr><tr><td>dbfs:/mnt/formula1dl2025practice/processed/qualifying/race_id=1030/</td><td>race_id=1030/</td><td>0</td><td>1744324744000</td></tr><tr><td>dbfs:/mnt/formula1dl2025practice/processed/qualifying/race_id=1031/</td><td>race_id=1031/</td><td>0</td><td>1744324744000</td></tr><tr><td>dbfs:/mnt/formula1dl2025practice/processed/qualifying/race_id=1032/</td><td>race_id=1032/</td><td>0</td><td>1744324744000</td></tr><tr><td>dbfs:/mnt/formula1dl2025practice/processed/qualifying/race_id=1033/</td><td>race_id=1033/</td><td>0</td><td>1744324744000</td></tr><tr><td>dbfs:/mnt/formula1dl2025practice/processed/qualifying/race_id=1034/</td><td>race_id=1034/</td><td>0</td><td>1744324744000</td></tr><tr><td>dbfs:/mnt/formula1dl2025practice/processed/qualifying/race_id=1035/</td><td>race_id=1035/</td><td>0</td><td>1744324744000</td></tr><tr><td>dbfs:/mnt/formula1dl2025practice/processed/qualifying/race_id=1036/</td><td>race_id=1036/</td><td>0</td><td>1744324744000</td></tr><tr><td>dbfs:/mnt/formula1dl2025practice/processed/qualifying/race_id=1037/</td><td>race_id=1037/</td><td>0</td><td>1744324744000</td></tr><tr><td>dbfs:/mnt/formula1dl2025practice/processed/qualifying/race_id=1038/</td><td>race_id=1038/</td><td>0</td><td>1744324744000</td></tr><tr><td>dbfs:/mnt/formula1dl2025practice/processed/qualifying/race_id=1039/</td><td>race_id=1039/</td><td>0</td><td>1744324745000</td></tr><tr><td>dbfs:/mnt/formula1dl2025practice/processed/qualifying/race_id=104/</td><td>race_id=104/</td><td>0</td><td>1744324738000</td></tr><tr><td>dbfs:/mnt/formula1dl2025practice/processed/qualifying/race_id=1040/</td><td>race_id=1040/</td><td>0</td><td>1744324745000</td></tr><tr><td>dbfs:/mnt/formula1dl2025practice/processed/qualifying/race_id=1041/</td><td>race_id=1041/</td><td>0</td><td>1744324745000</td></tr><tr><td>dbfs:/mnt/formula1dl2025practice/processed/qualifying/race_id=1042/</td><td>race_id=1042/</td><td>0</td><td>1744324745000</td></tr><tr><td>dbfs:/mnt/formula1dl2025practice/processed/qualifying/race_id=1043/</td><td>race_id=1043/</td><td>0</td><td>1744324745000</td></tr><tr><td>dbfs:/mnt/formula1dl2025practice/processed/qualifying/race_id=1044/</td><td>race_id=1044/</td><td>0</td><td>1744324745000</td></tr><tr><td>dbfs:/mnt/formula1dl2025practice/processed/qualifying/race_id=1045/</td><td>race_id=1045/</td><td>0</td><td>1744324745000</td></tr><tr><td>dbfs:/mnt/formula1dl2025practice/processed/qualifying/race_id=1046/</td><td>race_id=1046/</td><td>0</td><td>1744324745000</td></tr><tr><td>dbfs:/mnt/formula1dl2025practice/processed/qualifying/race_id=1047/</td><td>race_id=1047/</td><td>0</td><td>1744324745000</td></tr><tr><td>dbfs:/mnt/formula1dl2025practice/processed/qualifying/race_id=105/</td><td>race_id=105/</td><td>0</td><td>1744324738000</td></tr><tr><td>dbfs:/mnt/formula1dl2025practice/processed/qualifying/race_id=1052/</td><td>race_id=1052/</td><td>0</td><td>1744324782000</td></tr><tr><td>dbfs:/mnt/formula1dl2025practice/processed/qualifying/race_id=1053/</td><td>race_id=1053/</td><td>0</td><td>1744324806000</td></tr><tr><td>dbfs:/mnt/formula1dl2025practice/processed/qualifying/race_id=106/</td><td>race_id=106/</td><td>0</td><td>1744324738000</td></tr><tr><td>dbfs:/mnt/formula1dl2025practice/processed/qualifying/race_id=107/</td><td>race_id=107/</td><td>0</td><td>1744324738000</td></tr><tr><td>dbfs:/mnt/formula1dl2025practice/processed/qualifying/race_id=108/</td><td>race_id=108/</td><td>0</td><td>1744324738000</td></tr><tr><td>dbfs:/mnt/formula1dl2025practice/processed/qualifying/race_id=109/</td><td>race_id=109/</td><td>0</td><td>1744324738000</td></tr><tr><td>dbfs:/mnt/formula1dl2025practice/processed/qualifying/race_id=11/</td><td>race_id=11/</td><td>0</td><td>1744324729000</td></tr><tr><td>dbfs:/mnt/formula1dl2025practice/processed/qualifying/race_id=110/</td><td>race_id=110/</td><td>0</td><td>1744324738000</td></tr><tr><td>dbfs:/mnt/formula1dl2025practice/processed/qualifying/race_id=111/</td><td>race_id=111/</td><td>0</td><td>1744324738000</td></tr><tr><td>dbfs:/mnt/formula1dl2025practice/processed/qualifying/race_id=112/</td><td>race_id=112/</td><td>0</td><td>1744324738000</td></tr><tr><td>dbfs:/mnt/formula1dl2025practice/processed/qualifying/race_id=113/</td><td>race_id=113/</td><td>0</td><td>1744324738000</td></tr><tr><td>dbfs:/mnt/formula1dl2025practice/processed/qualifying/race_id=114/</td><td>race_id=114/</td><td>0</td><td>1744324728000</td></tr><tr><td>dbfs:/mnt/formula1dl2025practice/processed/qualifying/race_id=115/</td><td>race_id=115/</td><td>0</td><td>1744324738000</td></tr><tr><td>dbfs:/mnt/formula1dl2025practice/processed/qualifying/race_id=116/</td><td>race_id=116/</td><td>0</td><td>1744324739000</td></tr><tr><td>dbfs:/mnt/formula1dl2025practice/processed/qualifying/race_id=117/</td><td>race_id=117/</td><td>0</td><td>1744324739000</td></tr><tr><td>dbfs:/mnt/formula1dl2025practice/processed/qualifying/race_id=118/</td><td>race_id=118/</td><td>0</td><td>1744324739000</td></tr><tr><td>dbfs:/mnt/formula1dl2025practice/processed/qualifying/race_id=119/</td><td>race_id=119/</td><td>0</td><td>1744324739000</td></tr><tr><td>dbfs:/mnt/formula1dl2025practice/processed/qualifying/race_id=12/</td><td>race_id=12/</td><td>0</td><td>1744324729000</td></tr><tr><td>dbfs:/mnt/formula1dl2025practice/processed/qualifying/race_id=120/</td><td>race_id=120/</td><td>0</td><td>1744324739000</td></tr><tr><td>dbfs:/mnt/formula1dl2025practice/processed/qualifying/race_id=121/</td><td>race_id=121/</td><td>0</td><td>1744324739000</td></tr><tr><td>dbfs:/mnt/formula1dl2025practice/processed/qualifying/race_id=122/</td><td>race_id=122/</td><td>0</td><td>1744324739000</td></tr><tr><td>dbfs:/mnt/formula1dl2025practice/processed/qualifying/race_id=123/</td><td>race_id=123/</td><td>0</td><td>1744324739000</td></tr><tr><td>dbfs:/mnt/formula1dl2025practice/processed/qualifying/race_id=125/</td><td>race_id=125/</td><td>0</td><td>1744324740000</td></tr><tr><td>dbfs:/mnt/formula1dl2025practice/processed/qualifying/race_id=13/</td><td>race_id=13/</td><td>0</td><td>1744324729000</td></tr><tr><td>dbfs:/mnt/formula1dl2025practice/processed/qualifying/race_id=14/</td><td>race_id=14/</td><td>0</td><td>1744324729000</td></tr><tr><td>dbfs:/mnt/formula1dl2025practice/processed/qualifying/race_id=140/</td><td>race_id=140/</td><td>0</td><td>1744324740000</td></tr><tr><td>dbfs:/mnt/formula1dl2025practice/processed/qualifying/race_id=15/</td><td>race_id=15/</td><td>0</td><td>1744324729000</td></tr><tr><td>dbfs:/mnt/formula1dl2025practice/processed/qualifying/race_id=156/</td><td>race_id=156/</td><td>0</td><td>1744324740000</td></tr><tr><td>dbfs:/mnt/formula1dl2025practice/processed/qualifying/race_id=158/</td><td>race_id=158/</td><td>0</td><td>1744324740000</td></tr><tr><td>dbfs:/mnt/formula1dl2025practice/processed/qualifying/race_id=16/</td><td>race_id=16/</td><td>0</td><td>1744324729000</td></tr><tr><td>dbfs:/mnt/formula1dl2025practice/processed/qualifying/race_id=160/</td><td>race_id=160/</td><td>0</td><td>1744324740000</td></tr><tr><td>dbfs:/mnt/formula1dl2025practice/processed/qualifying/race_id=161/</td><td>race_id=161/</td><td>0</td><td>1744324740000</td></tr><tr><td>dbfs:/mnt/formula1dl2025practice/processed/qualifying/race_id=17/</td><td>race_id=17/</td><td>0</td><td>1744324729000</td></tr><tr><td>dbfs:/mnt/formula1dl2025practice/processed/qualifying/race_id=173/</td><td>race_id=173/</td><td>0</td><td>1744324740000</td></tr><tr><td>dbfs:/mnt/formula1dl2025practice/processed/qualifying/race_id=175/</td><td>race_id=175/</td><td>0</td><td>1744324740000</td></tr><tr><td>dbfs:/mnt/formula1dl2025practice/processed/qualifying/race_id=176/</td><td>race_id=176/</td><td>0</td><td>1744324740000</td></tr><tr><td>dbfs:/mnt/formula1dl2025practice/processed/qualifying/race_id=177/</td><td>race_id=177/</td><td>0</td><td>1744324740000</td></tr><tr><td>dbfs:/mnt/formula1dl2025practice/processed/qualifying/race_id=18/</td><td>race_id=18/</td><td>0</td><td>1744324729000</td></tr><tr><td>dbfs:/mnt/formula1dl2025practice/processed/qualifying/race_id=19/</td><td>race_id=19/</td><td>0</td><td>1744324729000</td></tr><tr><td>dbfs:/mnt/formula1dl2025practice/processed/qualifying/race_id=191/</td><td>race_id=191/</td><td>0</td><td>1744324741000</td></tr><tr><td>dbfs:/mnt/formula1dl2025practice/processed/qualifying/race_id=192/</td><td>race_id=192/</td><td>0</td><td>1744324741000</td></tr><tr><td>dbfs:/mnt/formula1dl2025practice/processed/qualifying/race_id=193/</td><td>race_id=193/</td><td>0</td><td>1744324741000</td></tr><tr><td>dbfs:/mnt/formula1dl2025practice/processed/qualifying/race_id=199/</td><td>race_id=199/</td><td>0</td><td>1744324741000</td></tr><tr><td>dbfs:/mnt/formula1dl2025practice/processed/qualifying/race_id=2/</td><td>race_id=2/</td><td>0</td><td>1744324728000</td></tr><tr><td>dbfs:/mnt/formula1dl2025practice/processed/qualifying/race_id=20/</td><td>race_id=20/</td><td>0</td><td>1744324729000</td></tr><tr><td>dbfs:/mnt/formula1dl2025practice/processed/qualifying/race_id=200/</td><td>race_id=200/</td><td>0</td><td>1744324741000</td></tr><tr><td>dbfs:/mnt/formula1dl2025practice/processed/qualifying/race_id=201/</td><td>race_id=201/</td><td>0</td><td>1744324741000</td></tr><tr><td>dbfs:/mnt/formula1dl2025practice/processed/qualifying/race_id=203/</td><td>race_id=203/</td><td>0</td><td>1744324741000</td></tr><tr><td>dbfs:/mnt/formula1dl2025practice/processed/qualifying/race_id=207/</td><td>race_id=207/</td><td>0</td><td>1744324741000</td></tr><tr><td>dbfs:/mnt/formula1dl2025practice/processed/qualifying/race_id=208/</td><td>race_id=208/</td><td>0</td><td>1744324741000</td></tr><tr><td>dbfs:/mnt/formula1dl2025practice/processed/qualifying/race_id=209/</td><td>race_id=209/</td><td>0</td><td>1744324741000</td></tr><tr><td>dbfs:/mnt/formula1dl2025practice/processed/qualifying/race_id=21/</td><td>race_id=21/</td><td>0</td><td>1744324730000</td></tr><tr><td>dbfs:/mnt/formula1dl2025practice/processed/qualifying/race_id=210/</td><td>race_id=210/</td><td>0</td><td>1744324741000</td></tr><tr><td>dbfs:/mnt/formula1dl2025practice/processed/qualifying/race_id=211/</td><td>race_id=211/</td><td>0</td><td>1744324742000</td></tr><tr><td>dbfs:/mnt/formula1dl2025practice/processed/qualifying/race_id=212/</td><td>race_id=212/</td><td>0</td><td>1744324742000</td></tr><tr><td>dbfs:/mnt/formula1dl2025practice/processed/qualifying/race_id=213/</td><td>race_id=213/</td><td>0</td><td>1744324742000</td></tr><tr><td>dbfs:/mnt/formula1dl2025practice/processed/qualifying/race_id=214/</td><td>race_id=214/</td><td>0</td><td>1744324742000</td></tr><tr><td>dbfs:/mnt/formula1dl2025practice/processed/qualifying/race_id=215/</td><td>race_id=215/</td><td>0</td><td>1744324742000</td></tr><tr><td>dbfs:/mnt/formula1dl2025practice/processed/qualifying/race_id=216/</td><td>race_id=216/</td><td>0</td><td>1744324742000</td></tr><tr><td>dbfs:/mnt/formula1dl2025practice/processed/qualifying/race_id=22/</td><td>race_id=22/</td><td>0</td><td>1744324730000</td></tr><tr><td>dbfs:/mnt/formula1dl2025practice/processed/qualifying/race_id=224/</td><td>race_id=224/</td><td>0</td><td>1744324742000</td></tr><tr><td>dbfs:/mnt/formula1dl2025practice/processed/qualifying/race_id=225/</td><td>race_id=225/</td><td>0</td><td>1744324742000</td></tr><tr><td>dbfs:/mnt/formula1dl2025practice/processed/qualifying/race_id=226/</td><td>race_id=226/</td><td>0</td><td>1744324742000</td></tr><tr><td>dbfs:/mnt/formula1dl2025practice/processed/qualifying/race_id=227/</td><td>race_id=227/</td><td>0</td><td>1744324742000</td></tr><tr><td>dbfs:/mnt/formula1dl2025practice/processed/qualifying/race_id=228/</td><td>race_id=228/</td><td>0</td><td>1744324743000</td></tr><tr><td>dbfs:/mnt/formula1dl2025practice/processed/qualifying/race_id=229/</td><td>race_id=229/</td><td>0</td><td>1744324743000</td></tr><tr><td>dbfs:/mnt/formula1dl2025practice/processed/qualifying/race_id=23/</td><td>race_id=23/</td><td>0</td><td>1744324730000</td></tr><tr><td>dbfs:/mnt/formula1dl2025practice/processed/qualifying/race_id=230/</td><td>race_id=230/</td><td>0</td><td>1744324743000</td></tr><tr><td>dbfs:/mnt/formula1dl2025practice/processed/qualifying/race_id=24/</td><td>race_id=24/</td><td>0</td><td>1744324730000</td></tr><tr><td>dbfs:/mnt/formula1dl2025practice/processed/qualifying/race_id=240/</td><td>race_id=240/</td><td>0</td><td>1744324743000</td></tr><tr><td>dbfs:/mnt/formula1dl2025practice/processed/qualifying/race_id=241/</td><td>race_id=241/</td><td>0</td><td>1744324743000</td></tr><tr><td>dbfs:/mnt/formula1dl2025practice/processed/qualifying/race_id=242/</td><td>race_id=242/</td><td>0</td><td>1744324743000</td></tr><tr><td>dbfs:/mnt/formula1dl2025practice/processed/qualifying/race_id=243/</td><td>race_id=243/</td><td>0</td><td>1744324743000</td></tr><tr><td>dbfs:/mnt/formula1dl2025practice/processed/qualifying/race_id=244/</td><td>race_id=244/</td><td>0</td><td>1744324743000</td></tr><tr><td>dbfs:/mnt/formula1dl2025practice/processed/qualifying/race_id=245/</td><td>race_id=245/</td><td>0</td><td>1744324743000</td></tr><tr><td>dbfs:/mnt/formula1dl2025practice/processed/qualifying/race_id=246/</td><td>race_id=246/</td><td>0</td><td>1744324743000</td></tr><tr><td>dbfs:/mnt/formula1dl2025practice/processed/qualifying/race_id=247/</td><td>race_id=247/</td><td>0</td><td>1744324744000</td></tr><tr><td>dbfs:/mnt/formula1dl2025practice/processed/qualifying/race_id=248/</td><td>race_id=248/</td><td>0</td><td>1744324744000</td></tr><tr><td>dbfs:/mnt/formula1dl2025practice/processed/qualifying/race_id=249/</td><td>race_id=249/</td><td>0</td><td>1744324744000</td></tr><tr><td>dbfs:/mnt/formula1dl2025practice/processed/qualifying/race_id=25/</td><td>race_id=25/</td><td>0</td><td>1744324730000</td></tr><tr><td>dbfs:/mnt/formula1dl2025practice/processed/qualifying/race_id=250/</td><td>race_id=250/</td><td>0</td><td>1744324744000</td></tr><tr><td>dbfs:/mnt/formula1dl2025practice/processed/qualifying/race_id=251/</td><td>race_id=251/</td><td>0</td><td>1744324744000</td></tr><tr><td>dbfs:/mnt/formula1dl2025practice/processed/qualifying/race_id=252/</td><td>race_id=252/</td><td>0</td><td>1744324744000</td></tr><tr><td>dbfs:/mnt/formula1dl2025practice/processed/qualifying/race_id=253/</td><td>race_id=253/</td><td>0</td><td>1744324744000</td></tr><tr><td>dbfs:/mnt/formula1dl2025practice/processed/qualifying/race_id=254/</td><td>race_id=254/</td><td>0</td><td>1744324744000</td></tr><tr><td>dbfs:/mnt/formula1dl2025practice/processed/qualifying/race_id=255/</td><td>race_id=255/</td><td>0</td><td>1744324744000</td></tr><tr><td>dbfs:/mnt/formula1dl2025practice/processed/qualifying/race_id=256/</td><td>race_id=256/</td><td>0</td><td>1744324744000</td></tr><tr><td>dbfs:/mnt/formula1dl2025practice/processed/qualifying/race_id=257/</td><td>race_id=257/</td><td>0</td><td>1744324744000</td></tr><tr><td>dbfs:/mnt/formula1dl2025practice/processed/qualifying/race_id=258/</td><td>race_id=258/</td><td>0</td><td>1744324745000</td></tr><tr><td>dbfs:/mnt/formula1dl2025practice/processed/qualifying/race_id=259/</td><td>race_id=259/</td><td>0</td><td>1744324745000</td></tr><tr><td>dbfs:/mnt/formula1dl2025practice/processed/qualifying/race_id=26/</td><td>race_id=26/</td><td>0</td><td>1744324730000</td></tr><tr><td>dbfs:/mnt/formula1dl2025practice/processed/qualifying/race_id=261/</td><td>race_id=261/</td><td>0</td><td>1744324745000</td></tr><tr><td>dbfs:/mnt/formula1dl2025practice/processed/qualifying/race_id=262/</td><td>race_id=262/</td><td>0</td><td>1744324745000</td></tr><tr><td>dbfs:/mnt/formula1dl2025practice/processed/qualifying/race_id=263/</td><td>race_id=263/</td><td>0</td><td>1744324745000</td></tr><tr><td>dbfs:/mnt/formula1dl2025practice/processed/qualifying/race_id=264/</td><td>race_id=264/</td><td>0</td><td>1744324745000</td></tr><tr><td>dbfs:/mnt/formula1dl2025practice/processed/qualifying/race_id=265/</td><td>race_id=265/</td><td>0</td><td>1744324745000</td></tr><tr><td>dbfs:/mnt/formula1dl2025practice/processed/qualifying/race_id=266/</td><td>race_id=266/</td><td>0</td><td>1744324745000</td></tr><tr><td>dbfs:/mnt/formula1dl2025practice/processed/qualifying/race_id=267/</td><td>race_id=267/</td><td>0</td><td>1744324745000</td></tr><tr><td>dbfs:/mnt/formula1dl2025practice/processed/qualifying/race_id=268/</td><td>race_id=268/</td><td>0</td><td>1744324745000</td></tr><tr><td>dbfs:/mnt/formula1dl2025practice/processed/qualifying/race_id=269/</td><td>race_id=269/</td><td>0</td><td>1744324746000</td></tr><tr><td>dbfs:/mnt/formula1dl2025practice/processed/qualifying/race_id=27/</td><td>race_id=27/</td><td>0</td><td>1744324730000</td></tr><tr><td>dbfs:/mnt/formula1dl2025practice/processed/qualifying/race_id=270/</td><td>race_id=270/</td><td>0</td><td>1744324746000</td></tr><tr><td>dbfs:/mnt/formula1dl2025practice/processed/qualifying/race_id=271/</td><td>race_id=271/</td><td>0</td><td>1744324746000</td></tr><tr><td>dbfs:/mnt/formula1dl2025practice/processed/qualifying/race_id=272/</td><td>race_id=272/</td><td>0</td><td>1744324746000</td></tr><tr><td>dbfs:/mnt/formula1dl2025practice/processed/qualifying/race_id=28/</td><td>race_id=28/</td><td>0</td><td>1744324730000</td></tr><tr><td>dbfs:/mnt/formula1dl2025practice/processed/qualifying/race_id=29/</td><td>race_id=29/</td><td>0</td><td>1744324730000</td></tr><tr><td>dbfs:/mnt/formula1dl2025practice/processed/qualifying/race_id=3/</td><td>race_id=3/</td><td>0</td><td>1744324728000</td></tr><tr><td>dbfs:/mnt/formula1dl2025practice/processed/qualifying/race_id=30/</td><td>race_id=30/</td><td>0</td><td>1744324730000</td></tr><tr><td>dbfs:/mnt/formula1dl2025practice/processed/qualifying/race_id=31/</td><td>race_id=31/</td><td>0</td><td>1744324730000</td></tr><tr><td>dbfs:/mnt/formula1dl2025practice/processed/qualifying/race_id=32/</td><td>race_id=32/</td><td>0</td><td>1744324731000</td></tr><tr><td>dbfs:/mnt/formula1dl2025practice/processed/qualifying/race_id=33/</td><td>race_id=33/</td><td>0</td><td>1744324731000</td></tr><tr><td>dbfs:/mnt/formula1dl2025practice/processed/qualifying/race_id=337/</td><td>race_id=337/</td><td>0</td><td>1744324746000</td></tr><tr><td>dbfs:/mnt/formula1dl2025practice/processed/qualifying/race_id=338/</td><td>race_id=338/</td><td>0</td><td>1744324746000</td></tr><tr><td>dbfs:/mnt/formula1dl2025practice/processed/qualifying/race_id=339/</td><td>race_id=339/</td><td>0</td><td>1744324746000</td></tr><tr><td>dbfs:/mnt/formula1dl2025practice/processed/qualifying/race_id=34/</td><td>race_id=34/</td><td>0</td><td>1744324731000</td></tr><tr><td>dbfs:/mnt/formula1dl2025practice/processed/qualifying/race_id=340/</td><td>race_id=340/</td><td>0</td><td>1744324746000</td></tr><tr><td>dbfs:/mnt/formula1dl2025practice/processed/qualifying/race_id=341/</td><td>race_id=341/</td><td>0</td><td>1744324746000</td></tr><tr><td>dbfs:/mnt/formula1dl2025practice/processed/qualifying/race_id=342/</td><td>race_id=342/</td><td>0</td><td>1744324746000</td></tr><tr><td>dbfs:/mnt/formula1dl2025practice/processed/qualifying/race_id=343/</td><td>race_id=343/</td><td>0</td><td>1744324746000</td></tr><tr><td>dbfs:/mnt/formula1dl2025practice/processed/qualifying/race_id=344/</td><td>race_id=344/</td><td>0</td><td>1744324747000</td></tr><tr><td>dbfs:/mnt/formula1dl2025practice/processed/qualifying/race_id=345/</td><td>race_id=345/</td><td>0</td><td>1744324747000</td></tr><tr><td>dbfs:/mnt/formula1dl2025practice/processed/qualifying/race_id=346/</td><td>race_id=346/</td><td>0</td><td>1744324747000</td></tr><tr><td>dbfs:/mnt/formula1dl2025practice/processed/qualifying/race_id=347/</td><td>race_id=347/</td><td>0</td><td>1744324747000</td></tr><tr><td>dbfs:/mnt/formula1dl2025practice/processed/qualifying/race_id=348/</td><td>race_id=348/</td><td>0</td><td>1744324747000</td></tr><tr><td>dbfs:/mnt/formula1dl2025practice/processed/qualifying/race_id=349/</td><td>race_id=349/</td><td>0</td><td>1744324747000</td></tr><tr><td>dbfs:/mnt/formula1dl2025practice/processed/qualifying/race_id=35/</td><td>race_id=35/</td><td>0</td><td>1744324731000</td></tr><tr><td>dbfs:/mnt/formula1dl2025practice/processed/qualifying/race_id=350/</td><td>race_id=350/</td><td>0</td><td>1744324747000</td></tr><tr><td>dbfs:/mnt/formula1dl2025practice/processed/qualifying/race_id=351/</td><td>race_id=351/</td><td>0</td><td>1744324747000</td></tr><tr><td>dbfs:/mnt/formula1dl2025practice/processed/qualifying/race_id=352/</td><td>race_id=352/</td><td>0</td><td>1744324747000</td></tr><tr><td>dbfs:/mnt/formula1dl2025practice/processed/qualifying/race_id=353/</td><td>race_id=353/</td><td>0</td><td>1744324747000</td></tr><tr><td>dbfs:/mnt/formula1dl2025practice/processed/qualifying/race_id=354/</td><td>race_id=354/</td><td>0</td><td>1744324747000</td></tr><tr><td>dbfs:/mnt/formula1dl2025practice/processed/qualifying/race_id=355/</td><td>race_id=355/</td><td>0</td><td>1744324748000</td></tr><tr><td>dbfs:/mnt/formula1dl2025practice/processed/qualifying/race_id=36/</td><td>race_id=36/</td><td>0</td><td>1744324731000</td></tr><tr><td>dbfs:/mnt/formula1dl2025practice/processed/qualifying/race_id=37/</td><td>race_id=37/</td><td>0</td><td>1744324731000</td></tr><tr><td>dbfs:/mnt/formula1dl2025practice/processed/qualifying/race_id=38/</td><td>race_id=38/</td><td>0</td><td>1744324731000</td></tr><tr><td>dbfs:/mnt/formula1dl2025practice/processed/qualifying/race_id=39/</td><td>race_id=39/</td><td>0</td><td>1744324731000</td></tr><tr><td>dbfs:/mnt/formula1dl2025practice/processed/qualifying/race_id=4/</td><td>race_id=4/</td><td>0</td><td>1744324728000</td></tr><tr><td>dbfs:/mnt/formula1dl2025practice/processed/qualifying/race_id=40/</td><td>race_id=40/</td><td>0</td><td>1744324731000</td></tr><tr><td>dbfs:/mnt/formula1dl2025practice/processed/qualifying/race_id=41/</td><td>race_id=41/</td><td>0</td><td>1744324731000</td></tr><tr><td>dbfs:/mnt/formula1dl2025practice/processed/qualifying/race_id=42/</td><td>race_id=42/</td><td>0</td><td>1744324731000</td></tr><tr><td>dbfs:/mnt/formula1dl2025practice/processed/qualifying/race_id=43/</td><td>race_id=43/</td><td>0</td><td>1744324732000</td></tr><tr><td>dbfs:/mnt/formula1dl2025practice/processed/qualifying/race_id=44/</td><td>race_id=44/</td><td>0</td><td>1744324732000</td></tr><tr><td>dbfs:/mnt/formula1dl2025practice/processed/qualifying/race_id=45/</td><td>race_id=45/</td><td>0</td><td>1744324732000</td></tr><tr><td>dbfs:/mnt/formula1dl2025practice/processed/qualifying/race_id=46/</td><td>race_id=46/</td><td>0</td><td>1744324732000</td></tr><tr><td>dbfs:/mnt/formula1dl2025practice/processed/qualifying/race_id=47/</td><td>race_id=47/</td><td>0</td><td>1744324732000</td></tr><tr><td>dbfs:/mnt/formula1dl2025practice/processed/qualifying/race_id=48/</td><td>race_id=48/</td><td>0</td><td>1744324732000</td></tr><tr><td>dbfs:/mnt/formula1dl2025practice/processed/qualifying/race_id=49/</td><td>race_id=49/</td><td>0</td><td>1744324732000</td></tr><tr><td>dbfs:/mnt/formula1dl2025practice/processed/qualifying/race_id=5/</td><td>race_id=5/</td><td>0</td><td>1744324728000</td></tr><tr><td>dbfs:/mnt/formula1dl2025practice/processed/qualifying/race_id=50/</td><td>race_id=50/</td><td>0</td><td>1744324732000</td></tr><tr><td>dbfs:/mnt/formula1dl2025practice/processed/qualifying/race_id=51/</td><td>race_id=51/</td><td>0</td><td>1744324732000</td></tr><tr><td>dbfs:/mnt/formula1dl2025practice/processed/qualifying/race_id=52/</td><td>race_id=52/</td><td>0</td><td>1744324732000</td></tr><tr><td>dbfs:/mnt/formula1dl2025practice/processed/qualifying/race_id=53/</td><td>race_id=53/</td><td>0</td><td>1744324733000</td></tr><tr><td>dbfs:/mnt/formula1dl2025practice/processed/qualifying/race_id=54/</td><td>race_id=54/</td><td>0</td><td>1744324733000</td></tr><tr><td>dbfs:/mnt/formula1dl2025practice/processed/qualifying/race_id=55/</td><td>race_id=55/</td><td>0</td><td>1744324733000</td></tr><tr><td>dbfs:/mnt/formula1dl2025practice/processed/qualifying/race_id=56/</td><td>race_id=56/</td><td>0</td><td>1744324733000</td></tr><tr><td>dbfs:/mnt/formula1dl2025practice/processed/qualifying/race_id=57/</td><td>race_id=57/</td><td>0</td><td>1744324733000</td></tr><tr><td>dbfs:/mnt/formula1dl2025practice/processed/qualifying/race_id=58/</td><td>race_id=58/</td><td>0</td><td>1744324733000</td></tr><tr><td>dbfs:/mnt/formula1dl2025practice/processed/qualifying/race_id=59/</td><td>race_id=59/</td><td>0</td><td>1744324733000</td></tr><tr><td>dbfs:/mnt/formula1dl2025practice/processed/qualifying/race_id=6/</td><td>race_id=6/</td><td>0</td><td>1744324728000</td></tr><tr><td>dbfs:/mnt/formula1dl2025practice/processed/qualifying/race_id=60/</td><td>race_id=60/</td><td>0</td><td>1744324733000</td></tr><tr><td>dbfs:/mnt/formula1dl2025practice/processed/qualifying/race_id=61/</td><td>race_id=61/</td><td>0</td><td>1744324733000</td></tr><tr><td>dbfs:/mnt/formula1dl2025practice/processed/qualifying/race_id=62/</td><td>race_id=62/</td><td>0</td><td>1744324734000</td></tr><tr><td>dbfs:/mnt/formula1dl2025practice/processed/qualifying/race_id=63/</td><td>race_id=63/</td><td>0</td><td>1744324734000</td></tr><tr><td>dbfs:/mnt/formula1dl2025practice/processed/qualifying/race_id=64/</td><td>race_id=64/</td><td>0</td><td>1744324734000</td></tr><tr><td>dbfs:/mnt/formula1dl2025practice/processed/qualifying/race_id=65/</td><td>race_id=65/</td><td>0</td><td>1744324734000</td></tr><tr><td>dbfs:/mnt/formula1dl2025practice/processed/qualifying/race_id=66/</td><td>race_id=66/</td><td>0</td><td>1744324734000</td></tr><tr><td>dbfs:/mnt/formula1dl2025practice/processed/qualifying/race_id=67/</td><td>race_id=67/</td><td>0</td><td>1744324734000</td></tr><tr><td>dbfs:/mnt/formula1dl2025practice/processed/qualifying/race_id=68/</td><td>race_id=68/</td><td>0</td><td>1744324734000</td></tr><tr><td>dbfs:/mnt/formula1dl2025practice/processed/qualifying/race_id=69/</td><td>race_id=69/</td><td>0</td><td>1744324734000</td></tr><tr><td>dbfs:/mnt/formula1dl2025practice/processed/qualifying/race_id=7/</td><td>race_id=7/</td><td>0</td><td>1744324728000</td></tr><tr><td>dbfs:/mnt/formula1dl2025practice/processed/qualifying/race_id=70/</td><td>race_id=70/</td><td>0</td><td>1744324734000</td></tr><tr><td>dbfs:/mnt/formula1dl2025practice/processed/qualifying/race_id=71/</td><td>race_id=71/</td><td>0</td><td>1744324734000</td></tr><tr><td>dbfs:/mnt/formula1dl2025practice/processed/qualifying/race_id=72/</td><td>race_id=72/</td><td>0</td><td>1744324735000</td></tr><tr><td>dbfs:/mnt/formula1dl2025practice/processed/qualifying/race_id=73/</td><td>race_id=73/</td><td>0</td><td>1744324735000</td></tr><tr><td>dbfs:/mnt/formula1dl2025practice/processed/qualifying/race_id=74/</td><td>race_id=74/</td><td>0</td><td>1744324735000</td></tr><tr><td>dbfs:/mnt/formula1dl2025practice/processed/qualifying/race_id=75/</td><td>race_id=75/</td><td>0</td><td>1744324735000</td></tr><tr><td>dbfs:/mnt/formula1dl2025practice/processed/qualifying/race_id=76/</td><td>race_id=76/</td><td>0</td><td>1744324735000</td></tr><tr><td>dbfs:/mnt/formula1dl2025practice/processed/qualifying/race_id=77/</td><td>race_id=77/</td><td>0</td><td>1744324735000</td></tr><tr><td>dbfs:/mnt/formula1dl2025practice/processed/qualifying/race_id=78/</td><td>race_id=78/</td><td>0</td><td>1744324735000</td></tr><tr><td>dbfs:/mnt/formula1dl2025practice/processed/qualifying/race_id=79/</td><td>race_id=79/</td><td>0</td><td>1744324735000</td></tr><tr><td>dbfs:/mnt/formula1dl2025practice/processed/qualifying/race_id=8/</td><td>race_id=8/</td><td>0</td><td>1744324728000</td></tr><tr><td>dbfs:/mnt/formula1dl2025practice/processed/qualifying/race_id=80/</td><td>race_id=80/</td><td>0</td><td>1744324735000</td></tr><tr><td>dbfs:/mnt/formula1dl2025practice/processed/qualifying/race_id=81/</td><td>race_id=81/</td><td>0</td><td>1744324735000</td></tr><tr><td>dbfs:/mnt/formula1dl2025practice/processed/qualifying/race_id=82/</td><td>race_id=82/</td><td>0</td><td>1744324735000</td></tr><tr><td>dbfs:/mnt/formula1dl2025practice/processed/qualifying/race_id=83/</td><td>race_id=83/</td><td>0</td><td>1744324736000</td></tr><tr><td>dbfs:/mnt/formula1dl2025practice/processed/qualifying/race_id=84/</td><td>race_id=84/</td><td>0</td><td>1744324736000</td></tr><tr><td>dbfs:/mnt/formula1dl2025practice/processed/qualifying/race_id=841/</td><td>race_id=841/</td><td>0</td><td>1744324748000</td></tr><tr><td>dbfs:/mnt/formula1dl2025practice/processed/qualifying/race_id=842/</td><td>race_id=842/</td><td>0</td><td>1744324748000</td></tr><tr><td>dbfs:/mnt/formula1dl2025practice/processed/qualifying/race_id=843/</td><td>race_id=843/</td><td>0</td><td>1744324748000</td></tr><tr><td>dbfs:/mnt/formula1dl2025practice/processed/qualifying/race_id=844/</td><td>race_id=844/</td><td>0</td><td>1744324748000</td></tr><tr><td>dbfs:/mnt/formula1dl2025practice/processed/qualifying/race_id=845/</td><td>race_id=845/</td><td>0</td><td>1744324748000</td></tr><tr><td>dbfs:/mnt/formula1dl2025practice/processed/qualifying/race_id=846/</td><td>race_id=846/</td><td>0</td><td>1744324748000</td></tr><tr><td>dbfs:/mnt/formula1dl2025practice/processed/qualifying/race_id=847/</td><td>race_id=847/</td><td>0</td><td>1744324748000</td></tr><tr><td>dbfs:/mnt/formula1dl2025practice/processed/qualifying/race_id=848/</td><td>race_id=848/</td><td>0</td><td>1744324748000</td></tr><tr><td>dbfs:/mnt/formula1dl2025practice/processed/qualifying/race_id=849/</td><td>race_id=849/</td><td>0</td><td>1744324748000</td></tr><tr><td>dbfs:/mnt/formula1dl2025practice/processed/qualifying/race_id=85/</td><td>race_id=85/</td><td>0</td><td>1744324736000</td></tr><tr><td>dbfs:/mnt/formula1dl2025practice/processed/qualifying/race_id=850/</td><td>race_id=850/</td><td>0</td><td>1744324748000</td></tr><tr><td>dbfs:/mnt/formula1dl2025practice/processed/qualifying/race_id=851/</td><td>race_id=851/</td><td>0</td><td>1744324749000</td></tr><tr><td>dbfs:/mnt/formula1dl2025practice/processed/qualifying/race_id=852/</td><td>race_id=852/</td><td>0</td><td>1744324749000</td></tr><tr><td>dbfs:/mnt/formula1dl2025practice/processed/qualifying/race_id=853/</td><td>race_id=853/</td><td>0</td><td>1744324728000</td></tr><tr><td>dbfs:/mnt/formula1dl2025practice/processed/qualifying/race_id=854/</td><td>race_id=854/</td><td>0</td><td>1744324749000</td></tr><tr><td>dbfs:/mnt/formula1dl2025practice/processed/qualifying/race_id=855/</td><td>race_id=855/</td><td>0</td><td>1744324749000</td></tr><tr><td>dbfs:/mnt/formula1dl2025practice/processed/qualifying/race_id=856/</td><td>race_id=856/</td><td>0</td><td>1744324749000</td></tr><tr><td>dbfs:/mnt/formula1dl2025practice/processed/qualifying/race_id=857/</td><td>race_id=857/</td><td>0</td><td>1744324749000</td></tr><tr><td>dbfs:/mnt/formula1dl2025practice/processed/qualifying/race_id=858/</td><td>race_id=858/</td><td>0</td><td>1744324749000</td></tr><tr><td>dbfs:/mnt/formula1dl2025practice/processed/qualifying/race_id=859/</td><td>race_id=859/</td><td>0</td><td>1744324749000</td></tr><tr><td>dbfs:/mnt/formula1dl2025practice/processed/qualifying/race_id=86/</td><td>race_id=86/</td><td>0</td><td>1744324736000</td></tr><tr><td>dbfs:/mnt/formula1dl2025practice/processed/qualifying/race_id=860/</td><td>race_id=860/</td><td>0</td><td>1744324749000</td></tr><tr><td>dbfs:/mnt/formula1dl2025practice/processed/qualifying/race_id=861/</td><td>race_id=861/</td><td>0</td><td>1744324728000</td></tr><tr><td>dbfs:/mnt/formula1dl2025practice/processed/qualifying/race_id=862/</td><td>race_id=862/</td><td>0</td><td>1744324728000</td></tr><tr><td>dbfs:/mnt/formula1dl2025practice/processed/qualifying/race_id=863/</td><td>race_id=863/</td><td>0</td><td>1744324728000</td></tr><tr><td>dbfs:/mnt/formula1dl2025practice/processed/qualifying/race_id=864/</td><td>race_id=864/</td><td>0</td><td>1744324728000</td></tr><tr><td>dbfs:/mnt/formula1dl2025practice/processed/qualifying/race_id=865/</td><td>race_id=865/</td><td>0</td><td>1744324728000</td></tr><tr><td>dbfs:/mnt/formula1dl2025practice/processed/qualifying/race_id=866/</td><td>race_id=866/</td><td>0</td><td>1744324728000</td></tr><tr><td>dbfs:/mnt/formula1dl2025practice/processed/qualifying/race_id=867/</td><td>race_id=867/</td><td>0</td><td>1744324728000</td></tr><tr><td>dbfs:/mnt/formula1dl2025practice/processed/qualifying/race_id=868/</td><td>race_id=868/</td><td>0</td><td>1744324729000</td></tr><tr><td>dbfs:/mnt/formula1dl2025practice/processed/qualifying/race_id=869/</td><td>race_id=869/</td><td>0</td><td>1744324729000</td></tr><tr><td>dbfs:/mnt/formula1dl2025practice/processed/qualifying/race_id=87/</td><td>race_id=87/</td><td>0</td><td>1744324736000</td></tr><tr><td>dbfs:/mnt/formula1dl2025practice/processed/qualifying/race_id=870/</td><td>race_id=870/</td><td>0</td><td>1744324729000</td></tr><tr><td>dbfs:/mnt/formula1dl2025practice/processed/qualifying/race_id=871/</td><td>race_id=871/</td><td>0</td><td>1744324729000</td></tr><tr><td>dbfs:/mnt/formula1dl2025practice/processed/qualifying/race_id=872/</td><td>race_id=872/</td><td>0</td><td>1744324729000</td></tr><tr><td>dbfs:/mnt/formula1dl2025practice/processed/qualifying/race_id=873/</td><td>race_id=873/</td><td>0</td><td>1744324729000</td></tr><tr><td>dbfs:/mnt/formula1dl2025practice/processed/qualifying/race_id=874/</td><td>race_id=874/</td><td>0</td><td>1744324729000</td></tr><tr><td>dbfs:/mnt/formula1dl2025practice/processed/qualifying/race_id=875/</td><td>race_id=875/</td><td>0</td><td>1744324729000</td></tr><tr><td>dbfs:/mnt/formula1dl2025practice/processed/qualifying/race_id=876/</td><td>race_id=876/</td><td>0</td><td>1744324729000</td></tr><tr><td>dbfs:/mnt/formula1dl2025practice/processed/qualifying/race_id=877/</td><td>race_id=877/</td><td>0</td><td>1744324729000</td></tr><tr><td>dbfs:/mnt/formula1dl2025practice/processed/qualifying/race_id=878/</td><td>race_id=878/</td><td>0</td><td>1744324730000</td></tr><tr><td>dbfs:/mnt/formula1dl2025practice/processed/qualifying/race_id=879/</td><td>race_id=879/</td><td>0</td><td>1744324730000</td></tr><tr><td>dbfs:/mnt/formula1dl2025practice/processed/qualifying/race_id=88/</td><td>race_id=88/</td><td>0</td><td>1744324736000</td></tr><tr><td>dbfs:/mnt/formula1dl2025practice/processed/qualifying/race_id=880/</td><td>race_id=880/</td><td>0</td><td>1744324730000</td></tr><tr><td>dbfs:/mnt/formula1dl2025practice/processed/qualifying/race_id=881/</td><td>race_id=881/</td><td>0</td><td>1744324730000</td></tr><tr><td>dbfs:/mnt/formula1dl2025practice/processed/qualifying/race_id=882/</td><td>race_id=882/</td><td>0</td><td>1744324730000</td></tr><tr><td>dbfs:/mnt/formula1dl2025practice/processed/qualifying/race_id=883/</td><td>race_id=883/</td><td>0</td><td>1744324730000</td></tr><tr><td>dbfs:/mnt/formula1dl2025practice/processed/qualifying/race_id=884/</td><td>race_id=884/</td><td>0</td><td>1744324730000</td></tr><tr><td>dbfs:/mnt/formula1dl2025practice/processed/qualifying/race_id=885/</td><td>race_id=885/</td><td>0</td><td>1744324730000</td></tr><tr><td>dbfs:/mnt/formula1dl2025practice/processed/qualifying/race_id=886/</td><td>race_id=886/</td><td>0</td><td>1744324730000</td></tr><tr><td>dbfs:/mnt/formula1dl2025practice/processed/qualifying/race_id=887/</td><td>race_id=887/</td><td>0</td><td>1744324730000</td></tr><tr><td>dbfs:/mnt/formula1dl2025practice/processed/qualifying/race_id=888/</td><td>race_id=888/</td><td>0</td><td>1744324731000</td></tr><tr><td>dbfs:/mnt/formula1dl2025practice/processed/qualifying/race_id=89/</td><td>race_id=89/</td><td>0</td><td>1744324736000</td></tr><tr><td>dbfs:/mnt/formula1dl2025practice/processed/qualifying/race_id=890/</td><td>race_id=890/</td><td>0</td><td>1744324731000</td></tr><tr><td>dbfs:/mnt/formula1dl2025practice/processed/qualifying/race_id=891/</td><td>race_id=891/</td><td>0</td><td>1744324731000</td></tr><tr><td>dbfs:/mnt/formula1dl2025practice/processed/qualifying/race_id=892/</td><td>race_id=892/</td><td>0</td><td>1744324731000</td></tr><tr><td>dbfs:/mnt/formula1dl2025practice/processed/qualifying/race_id=893/</td><td>race_id=893/</td><td>0</td><td>1744324731000</td></tr><tr><td>dbfs:/mnt/formula1dl2025practice/processed/qualifying/race_id=894/</td><td>race_id=894/</td><td>0</td><td>1744324731000</td></tr><tr><td>dbfs:/mnt/formula1dl2025practice/processed/qualifying/race_id=895/</td><td>race_id=895/</td><td>0</td><td>1744324731000</td></tr><tr><td>dbfs:/mnt/formula1dl2025practice/processed/qualifying/race_id=896/</td><td>race_id=896/</td><td>0</td><td>1744324731000</td></tr><tr><td>dbfs:/mnt/formula1dl2025practice/processed/qualifying/race_id=897/</td><td>race_id=897/</td><td>0</td><td>1744324731000</td></tr><tr><td>dbfs:/mnt/formula1dl2025practice/processed/qualifying/race_id=898/</td><td>race_id=898/</td><td>0</td><td>1744324731000</td></tr><tr><td>dbfs:/mnt/formula1dl2025practice/processed/qualifying/race_id=899/</td><td>race_id=899/</td><td>0</td><td>1744324731000</td></tr><tr><td>dbfs:/mnt/formula1dl2025practice/processed/qualifying/race_id=9/</td><td>race_id=9/</td><td>0</td><td>1744324728000</td></tr><tr><td>dbfs:/mnt/formula1dl2025practice/processed/qualifying/race_id=90/</td><td>race_id=90/</td><td>0</td><td>1744324736000</td></tr><tr><td>dbfs:/mnt/formula1dl2025practice/processed/qualifying/race_id=900/</td><td>race_id=900/</td><td>0</td><td>1744324731000</td></tr><tr><td>dbfs:/mnt/formula1dl2025practice/processed/qualifying/race_id=901/</td><td>race_id=901/</td><td>0</td><td>1744324732000</td></tr><tr><td>dbfs:/mnt/formula1dl2025practice/processed/qualifying/race_id=902/</td><td>race_id=902/</td><td>0</td><td>1744324732000</td></tr><tr><td>dbfs:/mnt/formula1dl2025practice/processed/qualifying/race_id=903/</td><td>race_id=903/</td><td>0</td><td>1744324732000</td></tr><tr><td>dbfs:/mnt/formula1dl2025practice/processed/qualifying/race_id=904/</td><td>race_id=904/</td><td>0</td><td>1744324732000</td></tr><tr><td>dbfs:/mnt/formula1dl2025practice/processed/qualifying/race_id=905/</td><td>race_id=905/</td><td>0</td><td>1744324732000</td></tr><tr><td>dbfs:/mnt/formula1dl2025practice/processed/qualifying/race_id=906/</td><td>race_id=906/</td><td>0</td><td>1744324732000</td></tr><tr><td>dbfs:/mnt/formula1dl2025practice/processed/qualifying/race_id=907/</td><td>race_id=907/</td><td>0</td><td>1744324732000</td></tr><tr><td>dbfs:/mnt/formula1dl2025practice/processed/qualifying/race_id=908/</td><td>race_id=908/</td><td>0</td><td>1744324732000</td></tr><tr><td>dbfs:/mnt/formula1dl2025practice/processed/qualifying/race_id=909/</td><td>race_id=909/</td><td>0</td><td>1744324732000</td></tr><tr><td>dbfs:/mnt/formula1dl2025practice/processed/qualifying/race_id=91/</td><td>race_id=91/</td><td>0</td><td>1744324736000</td></tr><tr><td>dbfs:/mnt/formula1dl2025practice/processed/qualifying/race_id=910/</td><td>race_id=910/</td><td>0</td><td>1744324732000</td></tr><tr><td>dbfs:/mnt/formula1dl2025practice/processed/qualifying/race_id=911/</td><td>race_id=911/</td><td>0</td><td>1744324733000</td></tr><tr><td>dbfs:/mnt/formula1dl2025practice/processed/qualifying/race_id=912/</td><td>race_id=912/</td><td>0</td><td>1744324733000</td></tr><tr><td>dbfs:/mnt/formula1dl2025practice/processed/qualifying/race_id=913/</td><td>race_id=913/</td><td>0</td><td>1744324733000</td></tr><tr><td>dbfs:/mnt/formula1dl2025practice/processed/qualifying/race_id=914/</td><td>race_id=914/</td><td>0</td><td>1744324733000</td></tr><tr><td>dbfs:/mnt/formula1dl2025practice/processed/qualifying/race_id=915/</td><td>race_id=915/</td><td>0</td><td>1744324733000</td></tr><tr><td>dbfs:/mnt/formula1dl2025practice/processed/qualifying/race_id=916/</td><td>race_id=916/</td><td>0</td><td>1744324733000</td></tr><tr><td>dbfs:/mnt/formula1dl2025practice/processed/qualifying/race_id=917/</td><td>race_id=917/</td><td>0</td><td>1744324733000</td></tr><tr><td>dbfs:/mnt/formula1dl2025practice/processed/qualifying/race_id=918/</td><td>race_id=918/</td><td>0</td><td>1744324733000</td></tr><tr><td>dbfs:/mnt/formula1dl2025practice/processed/qualifying/race_id=92/</td><td>race_id=92/</td><td>0</td><td>1744324736000</td></tr><tr><td>dbfs:/mnt/formula1dl2025practice/processed/qualifying/race_id=926/</td><td>race_id=926/</td><td>0</td><td>1744324733000</td></tr><tr><td>dbfs:/mnt/formula1dl2025practice/processed/qualifying/race_id=927/</td><td>race_id=927/</td><td>0</td><td>1744324734000</td></tr><tr><td>dbfs:/mnt/formula1dl2025practice/processed/qualifying/race_id=928/</td><td>race_id=928/</td><td>0</td><td>1744324734000</td></tr><tr><td>dbfs:/mnt/formula1dl2025practice/processed/qualifying/race_id=929/</td><td>race_id=929/</td><td>0</td><td>1744324734000</td></tr><tr><td>dbfs:/mnt/formula1dl2025practice/processed/qualifying/race_id=93/</td><td>race_id=93/</td><td>0</td><td>1744324736000</td></tr><tr><td>dbfs:/mnt/formula1dl2025practice/processed/qualifying/race_id=930/</td><td>race_id=930/</td><td>0</td><td>1744324734000</td></tr><tr><td>dbfs:/mnt/formula1dl2025practice/processed/qualifying/race_id=931/</td><td>race_id=931/</td><td>0</td><td>1744324734000</td></tr><tr><td>dbfs:/mnt/formula1dl2025practice/processed/qualifying/race_id=932/</td><td>race_id=932/</td><td>0</td><td>1744324734000</td></tr><tr><td>dbfs:/mnt/formula1dl2025practice/processed/qualifying/race_id=933/</td><td>race_id=933/</td><td>0</td><td>1744324734000</td></tr><tr><td>dbfs:/mnt/formula1dl2025practice/processed/qualifying/race_id=934/</td><td>race_id=934/</td><td>0</td><td>1744324734000</td></tr><tr><td>dbfs:/mnt/formula1dl2025practice/processed/qualifying/race_id=936/</td><td>race_id=936/</td><td>0</td><td>1744324734000</td></tr><tr><td>dbfs:/mnt/formula1dl2025practice/processed/qualifying/race_id=937/</td><td>race_id=937/</td><td>0</td><td>1744324735000</td></tr><tr><td>dbfs:/mnt/formula1dl2025practice/processed/qualifying/race_id=938/</td><td>race_id=938/</td><td>0</td><td>1744324735000</td></tr><tr><td>dbfs:/mnt/formula1dl2025practice/processed/qualifying/race_id=939/</td><td>race_id=939/</td><td>0</td><td>1744324735000</td></tr><tr><td>dbfs:/mnt/formula1dl2025practice/processed/qualifying/race_id=94/</td><td>race_id=94/</td><td>0</td><td>1744324737000</td></tr><tr><td>dbfs:/mnt/formula1dl2025practice/processed/qualifying/race_id=940/</td><td>race_id=940/</td><td>0</td><td>1744324735000</td></tr><tr><td>dbfs:/mnt/formula1dl2025practice/processed/qualifying/race_id=941/</td><td>race_id=941/</td><td>0</td><td>1744324735000</td></tr><tr><td>dbfs:/mnt/formula1dl2025practice/processed/qualifying/race_id=942/</td><td>race_id=942/</td><td>0</td><td>1744324735000</td></tr><tr><td>dbfs:/mnt/formula1dl2025practice/processed/qualifying/race_id=943/</td><td>race_id=943/</td><td>0</td><td>1744324735000</td></tr><tr><td>dbfs:/mnt/formula1dl2025practice/processed/qualifying/race_id=944/</td><td>race_id=944/</td><td>0</td><td>1744324735000</td></tr><tr><td>dbfs:/mnt/formula1dl2025practice/processed/qualifying/race_id=945/</td><td>race_id=945/</td><td>0</td><td>1744324735000</td></tr><tr><td>dbfs:/mnt/formula1dl2025practice/processed/qualifying/race_id=948/</td><td>race_id=948/</td><td>0</td><td>1744324735000</td></tr><tr><td>dbfs:/mnt/formula1dl2025practice/processed/qualifying/race_id=949/</td><td>race_id=949/</td><td>0</td><td>1744324736000</td></tr><tr><td>dbfs:/mnt/formula1dl2025practice/processed/qualifying/race_id=95/</td><td>race_id=95/</td><td>0</td><td>1744324737000</td></tr><tr><td>dbfs:/mnt/formula1dl2025practice/processed/qualifying/race_id=950/</td><td>race_id=950/</td><td>0</td><td>1744324736000</td></tr><tr><td>dbfs:/mnt/formula1dl2025practice/processed/qualifying/race_id=951/</td><td>race_id=951/</td><td>0</td><td>1744324736000</td></tr><tr><td>dbfs:/mnt/formula1dl2025practice/processed/qualifying/race_id=952/</td><td>race_id=952/</td><td>0</td><td>1744324736000</td></tr><tr><td>dbfs:/mnt/formula1dl2025practice/processed/qualifying/race_id=953/</td><td>race_id=953/</td><td>0</td><td>1744324736000</td></tr><tr><td>dbfs:/mnt/formula1dl2025practice/processed/qualifying/race_id=954/</td><td>race_id=954/</td><td>0</td><td>1744324736000</td></tr><tr><td>dbfs:/mnt/formula1dl2025practice/processed/qualifying/race_id=955/</td><td>race_id=955/</td><td>0</td><td>1744324736000</td></tr><tr><td>dbfs:/mnt/formula1dl2025practice/processed/qualifying/race_id=956/</td><td>race_id=956/</td><td>0</td><td>1744324736000</td></tr><tr><td>dbfs:/mnt/formula1dl2025practice/processed/qualifying/race_id=957/</td><td>race_id=957/</td><td>0</td><td>1744324736000</td></tr><tr><td>dbfs:/mnt/formula1dl2025practice/processed/qualifying/race_id=958/</td><td>race_id=958/</td><td>0</td><td>1744324736000</td></tr><tr><td>dbfs:/mnt/formula1dl2025practice/processed/qualifying/race_id=959/</td><td>race_id=959/</td><td>0</td><td>1744324737000</td></tr><tr><td>dbfs:/mnt/formula1dl2025practice/processed/qualifying/race_id=96/</td><td>race_id=96/</td><td>0</td><td>1744324737000</td></tr><tr><td>dbfs:/mnt/formula1dl2025practice/processed/qualifying/race_id=960/</td><td>race_id=960/</td><td>0</td><td>1744324737000</td></tr><tr><td>dbfs:/mnt/formula1dl2025practice/processed/qualifying/race_id=961/</td><td>race_id=961/</td><td>0</td><td>1744324737000</td></tr><tr><td>dbfs:/mnt/formula1dl2025practice/processed/qualifying/race_id=962/</td><td>race_id=962/</td><td>0</td><td>1744324737000</td></tr><tr><td>dbfs:/mnt/formula1dl2025practice/processed/qualifying/race_id=963/</td><td>race_id=963/</td><td>0</td><td>1744324737000</td></tr><tr><td>dbfs:/mnt/formula1dl2025practice/processed/qualifying/race_id=964/</td><td>race_id=964/</td><td>0</td><td>1744324737000</td></tr><tr><td>dbfs:/mnt/formula1dl2025practice/processed/qualifying/race_id=965/</td><td>race_id=965/</td><td>0</td><td>1744324737000</td></tr><tr><td>dbfs:/mnt/formula1dl2025practice/processed/qualifying/race_id=966/</td><td>race_id=966/</td><td>0</td><td>1744324737000</td></tr><tr><td>dbfs:/mnt/formula1dl2025practice/processed/qualifying/race_id=967/</td><td>race_id=967/</td><td>0</td><td>1744324737000</td></tr><tr><td>dbfs:/mnt/formula1dl2025practice/processed/qualifying/race_id=968/</td><td>race_id=968/</td><td>0</td><td>1744324737000</td></tr><tr><td>dbfs:/mnt/formula1dl2025practice/processed/qualifying/race_id=969/</td><td>race_id=969/</td><td>0</td><td>1744324738000</td></tr><tr><td>dbfs:/mnt/formula1dl2025practice/processed/qualifying/race_id=97/</td><td>race_id=97/</td><td>0</td><td>1744324737000</td></tr><tr><td>dbfs:/mnt/formula1dl2025practice/processed/qualifying/race_id=970/</td><td>race_id=970/</td><td>0</td><td>1744324738000</td></tr><tr><td>dbfs:/mnt/formula1dl2025practice/processed/qualifying/race_id=971/</td><td>race_id=971/</td><td>0</td><td>1744324738000</td></tr><tr><td>dbfs:/mnt/formula1dl2025practice/processed/qualifying/race_id=972/</td><td>race_id=972/</td><td>0</td><td>1744324738000</td></tr><tr><td>dbfs:/mnt/formula1dl2025practice/processed/qualifying/race_id=973/</td><td>race_id=973/</td><td>0</td><td>1744324738000</td></tr><tr><td>dbfs:/mnt/formula1dl2025practice/processed/qualifying/race_id=974/</td><td>race_id=974/</td><td>0</td><td>1744324738000</td></tr><tr><td>dbfs:/mnt/formula1dl2025practice/processed/qualifying/race_id=975/</td><td>race_id=975/</td><td>0</td><td>1744324738000</td></tr><tr><td>dbfs:/mnt/formula1dl2025practice/processed/qualifying/race_id=976/</td><td>race_id=976/</td><td>0</td><td>1744324738000</td></tr><tr><td>dbfs:/mnt/formula1dl2025practice/processed/qualifying/race_id=977/</td><td>race_id=977/</td><td>0</td><td>1744324738000</td></tr><tr><td>dbfs:/mnt/formula1dl2025practice/processed/qualifying/race_id=978/</td><td>race_id=978/</td><td>0</td><td>1744324738000</td></tr><tr><td>dbfs:/mnt/formula1dl2025practice/processed/qualifying/race_id=979/</td><td>race_id=979/</td><td>0</td><td>1744324739000</td></tr><tr><td>dbfs:/mnt/formula1dl2025practice/processed/qualifying/race_id=98/</td><td>race_id=98/</td><td>0</td><td>1744324737000</td></tr><tr><td>dbfs:/mnt/formula1dl2025practice/processed/qualifying/race_id=980/</td><td>race_id=980/</td><td>0</td><td>1744324739000</td></tr><tr><td>dbfs:/mnt/formula1dl2025practice/processed/qualifying/race_id=981/</td><td>race_id=981/</td><td>0</td><td>1744324739000</td></tr><tr><td>dbfs:/mnt/formula1dl2025practice/processed/qualifying/race_id=982/</td><td>race_id=982/</td><td>0</td><td>1744324739000</td></tr><tr><td>dbfs:/mnt/formula1dl2025practice/processed/qualifying/race_id=983/</td><td>race_id=983/</td><td>0</td><td>1744324739000</td></tr><tr><td>dbfs:/mnt/formula1dl2025practice/processed/qualifying/race_id=984/</td><td>race_id=984/</td><td>0</td><td>1744324739000</td></tr><tr><td>dbfs:/mnt/formula1dl2025practice/processed/qualifying/race_id=985/</td><td>race_id=985/</td><td>0</td><td>1744324739000</td></tr><tr><td>dbfs:/mnt/formula1dl2025practice/processed/qualifying/race_id=986/</td><td>race_id=986/</td><td>0</td><td>1744324739000</td></tr><tr><td>dbfs:/mnt/formula1dl2025practice/processed/qualifying/race_id=987/</td><td>race_id=987/</td><td>0</td><td>1744324739000</td></tr><tr><td>dbfs:/mnt/formula1dl2025practice/processed/qualifying/race_id=988/</td><td>race_id=988/</td><td>0</td><td>1744324740000</td></tr><tr><td>dbfs:/mnt/formula1dl2025practice/processed/qualifying/race_id=989/</td><td>race_id=989/</td><td>0</td><td>1744324740000</td></tr><tr><td>dbfs:/mnt/formula1dl2025practice/processed/qualifying/race_id=99/</td><td>race_id=99/</td><td>0</td><td>1744324737000</td></tr><tr><td>dbfs:/mnt/formula1dl2025practice/processed/qualifying/race_id=990/</td><td>race_id=990/</td><td>0</td><td>1744324740000</td></tr><tr><td>dbfs:/mnt/formula1dl2025practice/processed/qualifying/race_id=991/</td><td>race_id=991/</td><td>0</td><td>1744324740000</td></tr><tr><td>dbfs:/mnt/formula1dl2025practice/processed/qualifying/race_id=992/</td><td>race_id=992/</td><td>0</td><td>1744324740000</td></tr><tr><td>dbfs:/mnt/formula1dl2025practice/processed/qualifying/race_id=993/</td><td>race_id=993/</td><td>0</td><td>1744324740000</td></tr><tr><td>dbfs:/mnt/formula1dl2025practice/processed/qualifying/race_id=994/</td><td>race_id=994/</td><td>0</td><td>1744324740000</td></tr><tr><td>dbfs:/mnt/formula1dl2025practice/processed/qualifying/race_id=995/</td><td>race_id=995/</td><td>0</td><td>1744324740000</td></tr><tr><td>dbfs:/mnt/formula1dl2025practice/processed/qualifying/race_id=996/</td><td>race_id=996/</td><td>0</td><td>1744324740000</td></tr><tr><td>dbfs:/mnt/formula1dl2025practice/processed/qualifying/race_id=997/</td><td>race_id=997/</td><td>0</td><td>1744324741000</td></tr><tr><td>dbfs:/mnt/formula1dl2025practice/processed/qualifying/race_id=998/</td><td>race_id=998/</td><td>0</td><td>1744324741000</td></tr><tr><td>dbfs:/mnt/formula1dl2025practice/processed/qualifying/race_id=999/</td><td>race_id=999/</td><td>0</td><td>1744324741000</td></tr></tbody></table></div>"
      ]
     },
     "metadata": {
      "application/vnd.databricks.v1+output": {
       "addedWidgets": {},
       "aggData": [],
       "aggError": "",
       "aggOverflow": false,
       "aggSchema": [],
       "aggSeriesLimitReached": false,
       "aggType": "",
       "arguments": {},
       "columnCustomDisplayInfos": {},
       "data": [
        [
         "dbfs:/mnt/formula1dl2025practice/processed/qualifying/_delta_log/",
         "_delta_log/",
         0,
         1744324727000
        ],
        [
         "dbfs:/mnt/formula1dl2025practice/processed/qualifying/race_id=1/",
         "race_id=1/",
         0,
         1744324728000
        ],
        [
         "dbfs:/mnt/formula1dl2025practice/processed/qualifying/race_id=10/",
         "race_id=10/",
         0,
         1744324729000
        ],
        [
         "dbfs:/mnt/formula1dl2025practice/processed/qualifying/race_id=100/",
         "race_id=100/",
         0,
         1744324737000
        ],
        [
         "dbfs:/mnt/formula1dl2025practice/processed/qualifying/race_id=1000/",
         "race_id=1000/",
         0,
         1744324741000
        ],
        [
         "dbfs:/mnt/formula1dl2025practice/processed/qualifying/race_id=1001/",
         "race_id=1001/",
         0,
         1744324741000
        ],
        [
         "dbfs:/mnt/formula1dl2025practice/processed/qualifying/race_id=1002/",
         "race_id=1002/",
         0,
         1744324741000
        ],
        [
         "dbfs:/mnt/formula1dl2025practice/processed/qualifying/race_id=1003/",
         "race_id=1003/",
         0,
         1744324741000
        ],
        [
         "dbfs:/mnt/formula1dl2025practice/processed/qualifying/race_id=1004/",
         "race_id=1004/",
         0,
         1744324741000
        ],
        [
         "dbfs:/mnt/formula1dl2025practice/processed/qualifying/race_id=1005/",
         "race_id=1005/",
         0,
         1744324741000
        ],
        [
         "dbfs:/mnt/formula1dl2025practice/processed/qualifying/race_id=1006/",
         "race_id=1006/",
         0,
         1744324741000
        ],
        [
         "dbfs:/mnt/formula1dl2025practice/processed/qualifying/race_id=1007/",
         "race_id=1007/",
         0,
         1744324742000
        ],
        [
         "dbfs:/mnt/formula1dl2025practice/processed/qualifying/race_id=1008/",
         "race_id=1008/",
         0,
         1744324742000
        ],
        [
         "dbfs:/mnt/formula1dl2025practice/processed/qualifying/race_id=1009/",
         "race_id=1009/",
         0,
         1744324742000
        ],
        [
         "dbfs:/mnt/formula1dl2025practice/processed/qualifying/race_id=101/",
         "race_id=101/",
         0,
         1744324737000
        ],
        [
         "dbfs:/mnt/formula1dl2025practice/processed/qualifying/race_id=1010/",
         "race_id=1010/",
         0,
         1744324742000
        ],
        [
         "dbfs:/mnt/formula1dl2025practice/processed/qualifying/race_id=1011/",
         "race_id=1011/",
         0,
         1744324742000
        ],
        [
         "dbfs:/mnt/formula1dl2025practice/processed/qualifying/race_id=1012/",
         "race_id=1012/",
         0,
         1744324742000
        ],
        [
         "dbfs:/mnt/formula1dl2025practice/processed/qualifying/race_id=1013/",
         "race_id=1013/",
         0,
         1744324742000
        ],
        [
         "dbfs:/mnt/formula1dl2025practice/processed/qualifying/race_id=1014/",
         "race_id=1014/",
         0,
         1744324742000
        ],
        [
         "dbfs:/mnt/formula1dl2025practice/processed/qualifying/race_id=1015/",
         "race_id=1015/",
         0,
         1744324742000
        ],
        [
         "dbfs:/mnt/formula1dl2025practice/processed/qualifying/race_id=1016/",
         "race_id=1016/",
         0,
         1744324742000
        ],
        [
         "dbfs:/mnt/formula1dl2025practice/processed/qualifying/race_id=1017/",
         "race_id=1017/",
         0,
         1744324743000
        ],
        [
         "dbfs:/mnt/formula1dl2025practice/processed/qualifying/race_id=1018/",
         "race_id=1018/",
         0,
         1744324743000
        ],
        [
         "dbfs:/mnt/formula1dl2025practice/processed/qualifying/race_id=1019/",
         "race_id=1019/",
         0,
         1744324743000
        ],
        [
         "dbfs:/mnt/formula1dl2025practice/processed/qualifying/race_id=102/",
         "race_id=102/",
         0,
         1744324737000
        ],
        [
         "dbfs:/mnt/formula1dl2025practice/processed/qualifying/race_id=1020/",
         "race_id=1020/",
         0,
         1744324743000
        ],
        [
         "dbfs:/mnt/formula1dl2025practice/processed/qualifying/race_id=1021/",
         "race_id=1021/",
         0,
         1744324743000
        ],
        [
         "dbfs:/mnt/formula1dl2025practice/processed/qualifying/race_id=1022/",
         "race_id=1022/",
         0,
         1744324743000
        ],
        [
         "dbfs:/mnt/formula1dl2025practice/processed/qualifying/race_id=1023/",
         "race_id=1023/",
         0,
         1744324743000
        ],
        [
         "dbfs:/mnt/formula1dl2025practice/processed/qualifying/race_id=1024/",
         "race_id=1024/",
         0,
         1744324743000
        ],
        [
         "dbfs:/mnt/formula1dl2025practice/processed/qualifying/race_id=1025/",
         "race_id=1025/",
         0,
         1744324743000
        ],
        [
         "dbfs:/mnt/formula1dl2025practice/processed/qualifying/race_id=1026/",
         "race_id=1026/",
         0,
         1744324743000
        ],
        [
         "dbfs:/mnt/formula1dl2025practice/processed/qualifying/race_id=1027/",
         "race_id=1027/",
         0,
         1744324743000
        ],
        [
         "dbfs:/mnt/formula1dl2025practice/processed/qualifying/race_id=1028/",
         "race_id=1028/",
         0,
         1744324744000
        ],
        [
         "dbfs:/mnt/formula1dl2025practice/processed/qualifying/race_id=1029/",
         "race_id=1029/",
         0,
         1744324744000
        ],
        [
         "dbfs:/mnt/formula1dl2025practice/processed/qualifying/race_id=103/",
         "race_id=103/",
         0,
         1744324737000
        ],
        [
         "dbfs:/mnt/formula1dl2025practice/processed/qualifying/race_id=1030/",
         "race_id=1030/",
         0,
         1744324744000
        ],
        [
         "dbfs:/mnt/formula1dl2025practice/processed/qualifying/race_id=1031/",
         "race_id=1031/",
         0,
         1744324744000
        ],
        [
         "dbfs:/mnt/formula1dl2025practice/processed/qualifying/race_id=1032/",
         "race_id=1032/",
         0,
         1744324744000
        ],
        [
         "dbfs:/mnt/formula1dl2025practice/processed/qualifying/race_id=1033/",
         "race_id=1033/",
         0,
         1744324744000
        ],
        [
         "dbfs:/mnt/formula1dl2025practice/processed/qualifying/race_id=1034/",
         "race_id=1034/",
         0,
         1744324744000
        ],
        [
         "dbfs:/mnt/formula1dl2025practice/processed/qualifying/race_id=1035/",
         "race_id=1035/",
         0,
         1744324744000
        ],
        [
         "dbfs:/mnt/formula1dl2025practice/processed/qualifying/race_id=1036/",
         "race_id=1036/",
         0,
         1744324744000
        ],
        [
         "dbfs:/mnt/formula1dl2025practice/processed/qualifying/race_id=1037/",
         "race_id=1037/",
         0,
         1744324744000
        ],
        [
         "dbfs:/mnt/formula1dl2025practice/processed/qualifying/race_id=1038/",
         "race_id=1038/",
         0,
         1744324744000
        ],
        [
         "dbfs:/mnt/formula1dl2025practice/processed/qualifying/race_id=1039/",
         "race_id=1039/",
         0,
         1744324745000
        ],
        [
         "dbfs:/mnt/formula1dl2025practice/processed/qualifying/race_id=104/",
         "race_id=104/",
         0,
         1744324738000
        ],
        [
         "dbfs:/mnt/formula1dl2025practice/processed/qualifying/race_id=1040/",
         "race_id=1040/",
         0,
         1744324745000
        ],
        [
         "dbfs:/mnt/formula1dl2025practice/processed/qualifying/race_id=1041/",
         "race_id=1041/",
         0,
         1744324745000
        ],
        [
         "dbfs:/mnt/formula1dl2025practice/processed/qualifying/race_id=1042/",
         "race_id=1042/",
         0,
         1744324745000
        ],
        [
         "dbfs:/mnt/formula1dl2025practice/processed/qualifying/race_id=1043/",
         "race_id=1043/",
         0,
         1744324745000
        ],
        [
         "dbfs:/mnt/formula1dl2025practice/processed/qualifying/race_id=1044/",
         "race_id=1044/",
         0,
         1744324745000
        ],
        [
         "dbfs:/mnt/formula1dl2025practice/processed/qualifying/race_id=1045/",
         "race_id=1045/",
         0,
         1744324745000
        ],
        [
         "dbfs:/mnt/formula1dl2025practice/processed/qualifying/race_id=1046/",
         "race_id=1046/",
         0,
         1744324745000
        ],
        [
         "dbfs:/mnt/formula1dl2025practice/processed/qualifying/race_id=1047/",
         "race_id=1047/",
         0,
         1744324745000
        ],
        [
         "dbfs:/mnt/formula1dl2025practice/processed/qualifying/race_id=105/",
         "race_id=105/",
         0,
         1744324738000
        ],
        [
         "dbfs:/mnt/formula1dl2025practice/processed/qualifying/race_id=1052/",
         "race_id=1052/",
         0,
         1744324782000
        ],
        [
         "dbfs:/mnt/formula1dl2025practice/processed/qualifying/race_id=1053/",
         "race_id=1053/",
         0,
         1744324806000
        ],
        [
         "dbfs:/mnt/formula1dl2025practice/processed/qualifying/race_id=106/",
         "race_id=106/",
         0,
         1744324738000
        ],
        [
         "dbfs:/mnt/formula1dl2025practice/processed/qualifying/race_id=107/",
         "race_id=107/",
         0,
         1744324738000
        ],
        [
         "dbfs:/mnt/formula1dl2025practice/processed/qualifying/race_id=108/",
         "race_id=108/",
         0,
         1744324738000
        ],
        [
         "dbfs:/mnt/formula1dl2025practice/processed/qualifying/race_id=109/",
         "race_id=109/",
         0,
         1744324738000
        ],
        [
         "dbfs:/mnt/formula1dl2025practice/processed/qualifying/race_id=11/",
         "race_id=11/",
         0,
         1744324729000
        ],
        [
         "dbfs:/mnt/formula1dl2025practice/processed/qualifying/race_id=110/",
         "race_id=110/",
         0,
         1744324738000
        ],
        [
         "dbfs:/mnt/formula1dl2025practice/processed/qualifying/race_id=111/",
         "race_id=111/",
         0,
         1744324738000
        ],
        [
         "dbfs:/mnt/formula1dl2025practice/processed/qualifying/race_id=112/",
         "race_id=112/",
         0,
         1744324738000
        ],
        [
         "dbfs:/mnt/formula1dl2025practice/processed/qualifying/race_id=113/",
         "race_id=113/",
         0,
         1744324738000
        ],
        [
         "dbfs:/mnt/formula1dl2025practice/processed/qualifying/race_id=114/",
         "race_id=114/",
         0,
         1744324728000
        ],
        [
         "dbfs:/mnt/formula1dl2025practice/processed/qualifying/race_id=115/",
         "race_id=115/",
         0,
         1744324738000
        ],
        [
         "dbfs:/mnt/formula1dl2025practice/processed/qualifying/race_id=116/",
         "race_id=116/",
         0,
         1744324739000
        ],
        [
         "dbfs:/mnt/formula1dl2025practice/processed/qualifying/race_id=117/",
         "race_id=117/",
         0,
         1744324739000
        ],
        [
         "dbfs:/mnt/formula1dl2025practice/processed/qualifying/race_id=118/",
         "race_id=118/",
         0,
         1744324739000
        ],
        [
         "dbfs:/mnt/formula1dl2025practice/processed/qualifying/race_id=119/",
         "race_id=119/",
         0,
         1744324739000
        ],
        [
         "dbfs:/mnt/formula1dl2025practice/processed/qualifying/race_id=12/",
         "race_id=12/",
         0,
         1744324729000
        ],
        [
         "dbfs:/mnt/formula1dl2025practice/processed/qualifying/race_id=120/",
         "race_id=120/",
         0,
         1744324739000
        ],
        [
         "dbfs:/mnt/formula1dl2025practice/processed/qualifying/race_id=121/",
         "race_id=121/",
         0,
         1744324739000
        ],
        [
         "dbfs:/mnt/formula1dl2025practice/processed/qualifying/race_id=122/",
         "race_id=122/",
         0,
         1744324739000
        ],
        [
         "dbfs:/mnt/formula1dl2025practice/processed/qualifying/race_id=123/",
         "race_id=123/",
         0,
         1744324739000
        ],
        [
         "dbfs:/mnt/formula1dl2025practice/processed/qualifying/race_id=125/",
         "race_id=125/",
         0,
         1744324740000
        ],
        [
         "dbfs:/mnt/formula1dl2025practice/processed/qualifying/race_id=13/",
         "race_id=13/",
         0,
         1744324729000
        ],
        [
         "dbfs:/mnt/formula1dl2025practice/processed/qualifying/race_id=14/",
         "race_id=14/",
         0,
         1744324729000
        ],
        [
         "dbfs:/mnt/formula1dl2025practice/processed/qualifying/race_id=140/",
         "race_id=140/",
         0,
         1744324740000
        ],
        [
         "dbfs:/mnt/formula1dl2025practice/processed/qualifying/race_id=15/",
         "race_id=15/",
         0,
         1744324729000
        ],
        [
         "dbfs:/mnt/formula1dl2025practice/processed/qualifying/race_id=156/",
         "race_id=156/",
         0,
         1744324740000
        ],
        [
         "dbfs:/mnt/formula1dl2025practice/processed/qualifying/race_id=158/",
         "race_id=158/",
         0,
         1744324740000
        ],
        [
         "dbfs:/mnt/formula1dl2025practice/processed/qualifying/race_id=16/",
         "race_id=16/",
         0,
         1744324729000
        ],
        [
         "dbfs:/mnt/formula1dl2025practice/processed/qualifying/race_id=160/",
         "race_id=160/",
         0,
         1744324740000
        ],
        [
         "dbfs:/mnt/formula1dl2025practice/processed/qualifying/race_id=161/",
         "race_id=161/",
         0,
         1744324740000
        ],
        [
         "dbfs:/mnt/formula1dl2025practice/processed/qualifying/race_id=17/",
         "race_id=17/",
         0,
         1744324729000
        ],
        [
         "dbfs:/mnt/formula1dl2025practice/processed/qualifying/race_id=173/",
         "race_id=173/",
         0,
         1744324740000
        ],
        [
         "dbfs:/mnt/formula1dl2025practice/processed/qualifying/race_id=175/",
         "race_id=175/",
         0,
         1744324740000
        ],
        [
         "dbfs:/mnt/formula1dl2025practice/processed/qualifying/race_id=176/",
         "race_id=176/",
         0,
         1744324740000
        ],
        [
         "dbfs:/mnt/formula1dl2025practice/processed/qualifying/race_id=177/",
         "race_id=177/",
         0,
         1744324740000
        ],
        [
         "dbfs:/mnt/formula1dl2025practice/processed/qualifying/race_id=18/",
         "race_id=18/",
         0,
         1744324729000
        ],
        [
         "dbfs:/mnt/formula1dl2025practice/processed/qualifying/race_id=19/",
         "race_id=19/",
         0,
         1744324729000
        ],
        [
         "dbfs:/mnt/formula1dl2025practice/processed/qualifying/race_id=191/",
         "race_id=191/",
         0,
         1744324741000
        ],
        [
         "dbfs:/mnt/formula1dl2025practice/processed/qualifying/race_id=192/",
         "race_id=192/",
         0,
         1744324741000
        ],
        [
         "dbfs:/mnt/formula1dl2025practice/processed/qualifying/race_id=193/",
         "race_id=193/",
         0,
         1744324741000
        ],
        [
         "dbfs:/mnt/formula1dl2025practice/processed/qualifying/race_id=199/",
         "race_id=199/",
         0,
         1744324741000
        ],
        [
         "dbfs:/mnt/formula1dl2025practice/processed/qualifying/race_id=2/",
         "race_id=2/",
         0,
         1744324728000
        ],
        [
         "dbfs:/mnt/formula1dl2025practice/processed/qualifying/race_id=20/",
         "race_id=20/",
         0,
         1744324729000
        ],
        [
         "dbfs:/mnt/formula1dl2025practice/processed/qualifying/race_id=200/",
         "race_id=200/",
         0,
         1744324741000
        ],
        [
         "dbfs:/mnt/formula1dl2025practice/processed/qualifying/race_id=201/",
         "race_id=201/",
         0,
         1744324741000
        ],
        [
         "dbfs:/mnt/formula1dl2025practice/processed/qualifying/race_id=203/",
         "race_id=203/",
         0,
         1744324741000
        ],
        [
         "dbfs:/mnt/formula1dl2025practice/processed/qualifying/race_id=207/",
         "race_id=207/",
         0,
         1744324741000
        ],
        [
         "dbfs:/mnt/formula1dl2025practice/processed/qualifying/race_id=208/",
         "race_id=208/",
         0,
         1744324741000
        ],
        [
         "dbfs:/mnt/formula1dl2025practice/processed/qualifying/race_id=209/",
         "race_id=209/",
         0,
         1744324741000
        ],
        [
         "dbfs:/mnt/formula1dl2025practice/processed/qualifying/race_id=21/",
         "race_id=21/",
         0,
         1744324730000
        ],
        [
         "dbfs:/mnt/formula1dl2025practice/processed/qualifying/race_id=210/",
         "race_id=210/",
         0,
         1744324741000
        ],
        [
         "dbfs:/mnt/formula1dl2025practice/processed/qualifying/race_id=211/",
         "race_id=211/",
         0,
         1744324742000
        ],
        [
         "dbfs:/mnt/formula1dl2025practice/processed/qualifying/race_id=212/",
         "race_id=212/",
         0,
         1744324742000
        ],
        [
         "dbfs:/mnt/formula1dl2025practice/processed/qualifying/race_id=213/",
         "race_id=213/",
         0,
         1744324742000
        ],
        [
         "dbfs:/mnt/formula1dl2025practice/processed/qualifying/race_id=214/",
         "race_id=214/",
         0,
         1744324742000
        ],
        [
         "dbfs:/mnt/formula1dl2025practice/processed/qualifying/race_id=215/",
         "race_id=215/",
         0,
         1744324742000
        ],
        [
         "dbfs:/mnt/formula1dl2025practice/processed/qualifying/race_id=216/",
         "race_id=216/",
         0,
         1744324742000
        ],
        [
         "dbfs:/mnt/formula1dl2025practice/processed/qualifying/race_id=22/",
         "race_id=22/",
         0,
         1744324730000
        ],
        [
         "dbfs:/mnt/formula1dl2025practice/processed/qualifying/race_id=224/",
         "race_id=224/",
         0,
         1744324742000
        ],
        [
         "dbfs:/mnt/formula1dl2025practice/processed/qualifying/race_id=225/",
         "race_id=225/",
         0,
         1744324742000
        ],
        [
         "dbfs:/mnt/formula1dl2025practice/processed/qualifying/race_id=226/",
         "race_id=226/",
         0,
         1744324742000
        ],
        [
         "dbfs:/mnt/formula1dl2025practice/processed/qualifying/race_id=227/",
         "race_id=227/",
         0,
         1744324742000
        ],
        [
         "dbfs:/mnt/formula1dl2025practice/processed/qualifying/race_id=228/",
         "race_id=228/",
         0,
         1744324743000
        ],
        [
         "dbfs:/mnt/formula1dl2025practice/processed/qualifying/race_id=229/",
         "race_id=229/",
         0,
         1744324743000
        ],
        [
         "dbfs:/mnt/formula1dl2025practice/processed/qualifying/race_id=23/",
         "race_id=23/",
         0,
         1744324730000
        ],
        [
         "dbfs:/mnt/formula1dl2025practice/processed/qualifying/race_id=230/",
         "race_id=230/",
         0,
         1744324743000
        ],
        [
         "dbfs:/mnt/formula1dl2025practice/processed/qualifying/race_id=24/",
         "race_id=24/",
         0,
         1744324730000
        ],
        [
         "dbfs:/mnt/formula1dl2025practice/processed/qualifying/race_id=240/",
         "race_id=240/",
         0,
         1744324743000
        ],
        [
         "dbfs:/mnt/formula1dl2025practice/processed/qualifying/race_id=241/",
         "race_id=241/",
         0,
         1744324743000
        ],
        [
         "dbfs:/mnt/formula1dl2025practice/processed/qualifying/race_id=242/",
         "race_id=242/",
         0,
         1744324743000
        ],
        [
         "dbfs:/mnt/formula1dl2025practice/processed/qualifying/race_id=243/",
         "race_id=243/",
         0,
         1744324743000
        ],
        [
         "dbfs:/mnt/formula1dl2025practice/processed/qualifying/race_id=244/",
         "race_id=244/",
         0,
         1744324743000
        ],
        [
         "dbfs:/mnt/formula1dl2025practice/processed/qualifying/race_id=245/",
         "race_id=245/",
         0,
         1744324743000
        ],
        [
         "dbfs:/mnt/formula1dl2025practice/processed/qualifying/race_id=246/",
         "race_id=246/",
         0,
         1744324743000
        ],
        [
         "dbfs:/mnt/formula1dl2025practice/processed/qualifying/race_id=247/",
         "race_id=247/",
         0,
         1744324744000
        ],
        [
         "dbfs:/mnt/formula1dl2025practice/processed/qualifying/race_id=248/",
         "race_id=248/",
         0,
         1744324744000
        ],
        [
         "dbfs:/mnt/formula1dl2025practice/processed/qualifying/race_id=249/",
         "race_id=249/",
         0,
         1744324744000
        ],
        [
         "dbfs:/mnt/formula1dl2025practice/processed/qualifying/race_id=25/",
         "race_id=25/",
         0,
         1744324730000
        ],
        [
         "dbfs:/mnt/formula1dl2025practice/processed/qualifying/race_id=250/",
         "race_id=250/",
         0,
         1744324744000
        ],
        [
         "dbfs:/mnt/formula1dl2025practice/processed/qualifying/race_id=251/",
         "race_id=251/",
         0,
         1744324744000
        ],
        [
         "dbfs:/mnt/formula1dl2025practice/processed/qualifying/race_id=252/",
         "race_id=252/",
         0,
         1744324744000
        ],
        [
         "dbfs:/mnt/formula1dl2025practice/processed/qualifying/race_id=253/",
         "race_id=253/",
         0,
         1744324744000
        ],
        [
         "dbfs:/mnt/formula1dl2025practice/processed/qualifying/race_id=254/",
         "race_id=254/",
         0,
         1744324744000
        ],
        [
         "dbfs:/mnt/formula1dl2025practice/processed/qualifying/race_id=255/",
         "race_id=255/",
         0,
         1744324744000
        ],
        [
         "dbfs:/mnt/formula1dl2025practice/processed/qualifying/race_id=256/",
         "race_id=256/",
         0,
         1744324744000
        ],
        [
         "dbfs:/mnt/formula1dl2025practice/processed/qualifying/race_id=257/",
         "race_id=257/",
         0,
         1744324744000
        ],
        [
         "dbfs:/mnt/formula1dl2025practice/processed/qualifying/race_id=258/",
         "race_id=258/",
         0,
         1744324745000
        ],
        [
         "dbfs:/mnt/formula1dl2025practice/processed/qualifying/race_id=259/",
         "race_id=259/",
         0,
         1744324745000
        ],
        [
         "dbfs:/mnt/formula1dl2025practice/processed/qualifying/race_id=26/",
         "race_id=26/",
         0,
         1744324730000
        ],
        [
         "dbfs:/mnt/formula1dl2025practice/processed/qualifying/race_id=261/",
         "race_id=261/",
         0,
         1744324745000
        ],
        [
         "dbfs:/mnt/formula1dl2025practice/processed/qualifying/race_id=262/",
         "race_id=262/",
         0,
         1744324745000
        ],
        [
         "dbfs:/mnt/formula1dl2025practice/processed/qualifying/race_id=263/",
         "race_id=263/",
         0,
         1744324745000
        ],
        [
         "dbfs:/mnt/formula1dl2025practice/processed/qualifying/race_id=264/",
         "race_id=264/",
         0,
         1744324745000
        ],
        [
         "dbfs:/mnt/formula1dl2025practice/processed/qualifying/race_id=265/",
         "race_id=265/",
         0,
         1744324745000
        ],
        [
         "dbfs:/mnt/formula1dl2025practice/processed/qualifying/race_id=266/",
         "race_id=266/",
         0,
         1744324745000
        ],
        [
         "dbfs:/mnt/formula1dl2025practice/processed/qualifying/race_id=267/",
         "race_id=267/",
         0,
         1744324745000
        ],
        [
         "dbfs:/mnt/formula1dl2025practice/processed/qualifying/race_id=268/",
         "race_id=268/",
         0,
         1744324745000
        ],
        [
         "dbfs:/mnt/formula1dl2025practice/processed/qualifying/race_id=269/",
         "race_id=269/",
         0,
         1744324746000
        ],
        [
         "dbfs:/mnt/formula1dl2025practice/processed/qualifying/race_id=27/",
         "race_id=27/",
         0,
         1744324730000
        ],
        [
         "dbfs:/mnt/formula1dl2025practice/processed/qualifying/race_id=270/",
         "race_id=270/",
         0,
         1744324746000
        ],
        [
         "dbfs:/mnt/formula1dl2025practice/processed/qualifying/race_id=271/",
         "race_id=271/",
         0,
         1744324746000
        ],
        [
         "dbfs:/mnt/formula1dl2025practice/processed/qualifying/race_id=272/",
         "race_id=272/",
         0,
         1744324746000
        ],
        [
         "dbfs:/mnt/formula1dl2025practice/processed/qualifying/race_id=28/",
         "race_id=28/",
         0,
         1744324730000
        ],
        [
         "dbfs:/mnt/formula1dl2025practice/processed/qualifying/race_id=29/",
         "race_id=29/",
         0,
         1744324730000
        ],
        [
         "dbfs:/mnt/formula1dl2025practice/processed/qualifying/race_id=3/",
         "race_id=3/",
         0,
         1744324728000
        ],
        [
         "dbfs:/mnt/formula1dl2025practice/processed/qualifying/race_id=30/",
         "race_id=30/",
         0,
         1744324730000
        ],
        [
         "dbfs:/mnt/formula1dl2025practice/processed/qualifying/race_id=31/",
         "race_id=31/",
         0,
         1744324730000
        ],
        [
         "dbfs:/mnt/formula1dl2025practice/processed/qualifying/race_id=32/",
         "race_id=32/",
         0,
         1744324731000
        ],
        [
         "dbfs:/mnt/formula1dl2025practice/processed/qualifying/race_id=33/",
         "race_id=33/",
         0,
         1744324731000
        ],
        [
         "dbfs:/mnt/formula1dl2025practice/processed/qualifying/race_id=337/",
         "race_id=337/",
         0,
         1744324746000
        ],
        [
         "dbfs:/mnt/formula1dl2025practice/processed/qualifying/race_id=338/",
         "race_id=338/",
         0,
         1744324746000
        ],
        [
         "dbfs:/mnt/formula1dl2025practice/processed/qualifying/race_id=339/",
         "race_id=339/",
         0,
         1744324746000
        ],
        [
         "dbfs:/mnt/formula1dl2025practice/processed/qualifying/race_id=34/",
         "race_id=34/",
         0,
         1744324731000
        ],
        [
         "dbfs:/mnt/formula1dl2025practice/processed/qualifying/race_id=340/",
         "race_id=340/",
         0,
         1744324746000
        ],
        [
         "dbfs:/mnt/formula1dl2025practice/processed/qualifying/race_id=341/",
         "race_id=341/",
         0,
         1744324746000
        ],
        [
         "dbfs:/mnt/formula1dl2025practice/processed/qualifying/race_id=342/",
         "race_id=342/",
         0,
         1744324746000
        ],
        [
         "dbfs:/mnt/formula1dl2025practice/processed/qualifying/race_id=343/",
         "race_id=343/",
         0,
         1744324746000
        ],
        [
         "dbfs:/mnt/formula1dl2025practice/processed/qualifying/race_id=344/",
         "race_id=344/",
         0,
         1744324747000
        ],
        [
         "dbfs:/mnt/formula1dl2025practice/processed/qualifying/race_id=345/",
         "race_id=345/",
         0,
         1744324747000
        ],
        [
         "dbfs:/mnt/formula1dl2025practice/processed/qualifying/race_id=346/",
         "race_id=346/",
         0,
         1744324747000
        ],
        [
         "dbfs:/mnt/formula1dl2025practice/processed/qualifying/race_id=347/",
         "race_id=347/",
         0,
         1744324747000
        ],
        [
         "dbfs:/mnt/formula1dl2025practice/processed/qualifying/race_id=348/",
         "race_id=348/",
         0,
         1744324747000
        ],
        [
         "dbfs:/mnt/formula1dl2025practice/processed/qualifying/race_id=349/",
         "race_id=349/",
         0,
         1744324747000
        ],
        [
         "dbfs:/mnt/formula1dl2025practice/processed/qualifying/race_id=35/",
         "race_id=35/",
         0,
         1744324731000
        ],
        [
         "dbfs:/mnt/formula1dl2025practice/processed/qualifying/race_id=350/",
         "race_id=350/",
         0,
         1744324747000
        ],
        [
         "dbfs:/mnt/formula1dl2025practice/processed/qualifying/race_id=351/",
         "race_id=351/",
         0,
         1744324747000
        ],
        [
         "dbfs:/mnt/formula1dl2025practice/processed/qualifying/race_id=352/",
         "race_id=352/",
         0,
         1744324747000
        ],
        [
         "dbfs:/mnt/formula1dl2025practice/processed/qualifying/race_id=353/",
         "race_id=353/",
         0,
         1744324747000
        ],
        [
         "dbfs:/mnt/formula1dl2025practice/processed/qualifying/race_id=354/",
         "race_id=354/",
         0,
         1744324747000
        ],
        [
         "dbfs:/mnt/formula1dl2025practice/processed/qualifying/race_id=355/",
         "race_id=355/",
         0,
         1744324748000
        ],
        [
         "dbfs:/mnt/formula1dl2025practice/processed/qualifying/race_id=36/",
         "race_id=36/",
         0,
         1744324731000
        ],
        [
         "dbfs:/mnt/formula1dl2025practice/processed/qualifying/race_id=37/",
         "race_id=37/",
         0,
         1744324731000
        ],
        [
         "dbfs:/mnt/formula1dl2025practice/processed/qualifying/race_id=38/",
         "race_id=38/",
         0,
         1744324731000
        ],
        [
         "dbfs:/mnt/formula1dl2025practice/processed/qualifying/race_id=39/",
         "race_id=39/",
         0,
         1744324731000
        ],
        [
         "dbfs:/mnt/formula1dl2025practice/processed/qualifying/race_id=4/",
         "race_id=4/",
         0,
         1744324728000
        ],
        [
         "dbfs:/mnt/formula1dl2025practice/processed/qualifying/race_id=40/",
         "race_id=40/",
         0,
         1744324731000
        ],
        [
         "dbfs:/mnt/formula1dl2025practice/processed/qualifying/race_id=41/",
         "race_id=41/",
         0,
         1744324731000
        ],
        [
         "dbfs:/mnt/formula1dl2025practice/processed/qualifying/race_id=42/",
         "race_id=42/",
         0,
         1744324731000
        ],
        [
         "dbfs:/mnt/formula1dl2025practice/processed/qualifying/race_id=43/",
         "race_id=43/",
         0,
         1744324732000
        ],
        [
         "dbfs:/mnt/formula1dl2025practice/processed/qualifying/race_id=44/",
         "race_id=44/",
         0,
         1744324732000
        ],
        [
         "dbfs:/mnt/formula1dl2025practice/processed/qualifying/race_id=45/",
         "race_id=45/",
         0,
         1744324732000
        ],
        [
         "dbfs:/mnt/formula1dl2025practice/processed/qualifying/race_id=46/",
         "race_id=46/",
         0,
         1744324732000
        ],
        [
         "dbfs:/mnt/formula1dl2025practice/processed/qualifying/race_id=47/",
         "race_id=47/",
         0,
         1744324732000
        ],
        [
         "dbfs:/mnt/formula1dl2025practice/processed/qualifying/race_id=48/",
         "race_id=48/",
         0,
         1744324732000
        ],
        [
         "dbfs:/mnt/formula1dl2025practice/processed/qualifying/race_id=49/",
         "race_id=49/",
         0,
         1744324732000
        ],
        [
         "dbfs:/mnt/formula1dl2025practice/processed/qualifying/race_id=5/",
         "race_id=5/",
         0,
         1744324728000
        ],
        [
         "dbfs:/mnt/formula1dl2025practice/processed/qualifying/race_id=50/",
         "race_id=50/",
         0,
         1744324732000
        ],
        [
         "dbfs:/mnt/formula1dl2025practice/processed/qualifying/race_id=51/",
         "race_id=51/",
         0,
         1744324732000
        ],
        [
         "dbfs:/mnt/formula1dl2025practice/processed/qualifying/race_id=52/",
         "race_id=52/",
         0,
         1744324732000
        ],
        [
         "dbfs:/mnt/formula1dl2025practice/processed/qualifying/race_id=53/",
         "race_id=53/",
         0,
         1744324733000
        ],
        [
         "dbfs:/mnt/formula1dl2025practice/processed/qualifying/race_id=54/",
         "race_id=54/",
         0,
         1744324733000
        ],
        [
         "dbfs:/mnt/formula1dl2025practice/processed/qualifying/race_id=55/",
         "race_id=55/",
         0,
         1744324733000
        ],
        [
         "dbfs:/mnt/formula1dl2025practice/processed/qualifying/race_id=56/",
         "race_id=56/",
         0,
         1744324733000
        ],
        [
         "dbfs:/mnt/formula1dl2025practice/processed/qualifying/race_id=57/",
         "race_id=57/",
         0,
         1744324733000
        ],
        [
         "dbfs:/mnt/formula1dl2025practice/processed/qualifying/race_id=58/",
         "race_id=58/",
         0,
         1744324733000
        ],
        [
         "dbfs:/mnt/formula1dl2025practice/processed/qualifying/race_id=59/",
         "race_id=59/",
         0,
         1744324733000
        ],
        [
         "dbfs:/mnt/formula1dl2025practice/processed/qualifying/race_id=6/",
         "race_id=6/",
         0,
         1744324728000
        ],
        [
         "dbfs:/mnt/formula1dl2025practice/processed/qualifying/race_id=60/",
         "race_id=60/",
         0,
         1744324733000
        ],
        [
         "dbfs:/mnt/formula1dl2025practice/processed/qualifying/race_id=61/",
         "race_id=61/",
         0,
         1744324733000
        ],
        [
         "dbfs:/mnt/formula1dl2025practice/processed/qualifying/race_id=62/",
         "race_id=62/",
         0,
         1744324734000
        ],
        [
         "dbfs:/mnt/formula1dl2025practice/processed/qualifying/race_id=63/",
         "race_id=63/",
         0,
         1744324734000
        ],
        [
         "dbfs:/mnt/formula1dl2025practice/processed/qualifying/race_id=64/",
         "race_id=64/",
         0,
         1744324734000
        ],
        [
         "dbfs:/mnt/formula1dl2025practice/processed/qualifying/race_id=65/",
         "race_id=65/",
         0,
         1744324734000
        ],
        [
         "dbfs:/mnt/formula1dl2025practice/processed/qualifying/race_id=66/",
         "race_id=66/",
         0,
         1744324734000
        ],
        [
         "dbfs:/mnt/formula1dl2025practice/processed/qualifying/race_id=67/",
         "race_id=67/",
         0,
         1744324734000
        ],
        [
         "dbfs:/mnt/formula1dl2025practice/processed/qualifying/race_id=68/",
         "race_id=68/",
         0,
         1744324734000
        ],
        [
         "dbfs:/mnt/formula1dl2025practice/processed/qualifying/race_id=69/",
         "race_id=69/",
         0,
         1744324734000
        ],
        [
         "dbfs:/mnt/formula1dl2025practice/processed/qualifying/race_id=7/",
         "race_id=7/",
         0,
         1744324728000
        ],
        [
         "dbfs:/mnt/formula1dl2025practice/processed/qualifying/race_id=70/",
         "race_id=70/",
         0,
         1744324734000
        ],
        [
         "dbfs:/mnt/formula1dl2025practice/processed/qualifying/race_id=71/",
         "race_id=71/",
         0,
         1744324734000
        ],
        [
         "dbfs:/mnt/formula1dl2025practice/processed/qualifying/race_id=72/",
         "race_id=72/",
         0,
         1744324735000
        ],
        [
         "dbfs:/mnt/formula1dl2025practice/processed/qualifying/race_id=73/",
         "race_id=73/",
         0,
         1744324735000
        ],
        [
         "dbfs:/mnt/formula1dl2025practice/processed/qualifying/race_id=74/",
         "race_id=74/",
         0,
         1744324735000
        ],
        [
         "dbfs:/mnt/formula1dl2025practice/processed/qualifying/race_id=75/",
         "race_id=75/",
         0,
         1744324735000
        ],
        [
         "dbfs:/mnt/formula1dl2025practice/processed/qualifying/race_id=76/",
         "race_id=76/",
         0,
         1744324735000
        ],
        [
         "dbfs:/mnt/formula1dl2025practice/processed/qualifying/race_id=77/",
         "race_id=77/",
         0,
         1744324735000
        ],
        [
         "dbfs:/mnt/formula1dl2025practice/processed/qualifying/race_id=78/",
         "race_id=78/",
         0,
         1744324735000
        ],
        [
         "dbfs:/mnt/formula1dl2025practice/processed/qualifying/race_id=79/",
         "race_id=79/",
         0,
         1744324735000
        ],
        [
         "dbfs:/mnt/formula1dl2025practice/processed/qualifying/race_id=8/",
         "race_id=8/",
         0,
         1744324728000
        ],
        [
         "dbfs:/mnt/formula1dl2025practice/processed/qualifying/race_id=80/",
         "race_id=80/",
         0,
         1744324735000
        ],
        [
         "dbfs:/mnt/formula1dl2025practice/processed/qualifying/race_id=81/",
         "race_id=81/",
         0,
         1744324735000
        ],
        [
         "dbfs:/mnt/formula1dl2025practice/processed/qualifying/race_id=82/",
         "race_id=82/",
         0,
         1744324735000
        ],
        [
         "dbfs:/mnt/formula1dl2025practice/processed/qualifying/race_id=83/",
         "race_id=83/",
         0,
         1744324736000
        ],
        [
         "dbfs:/mnt/formula1dl2025practice/processed/qualifying/race_id=84/",
         "race_id=84/",
         0,
         1744324736000
        ],
        [
         "dbfs:/mnt/formula1dl2025practice/processed/qualifying/race_id=841/",
         "race_id=841/",
         0,
         1744324748000
        ],
        [
         "dbfs:/mnt/formula1dl2025practice/processed/qualifying/race_id=842/",
         "race_id=842/",
         0,
         1744324748000
        ],
        [
         "dbfs:/mnt/formula1dl2025practice/processed/qualifying/race_id=843/",
         "race_id=843/",
         0,
         1744324748000
        ],
        [
         "dbfs:/mnt/formula1dl2025practice/processed/qualifying/race_id=844/",
         "race_id=844/",
         0,
         1744324748000
        ],
        [
         "dbfs:/mnt/formula1dl2025practice/processed/qualifying/race_id=845/",
         "race_id=845/",
         0,
         1744324748000
        ],
        [
         "dbfs:/mnt/formula1dl2025practice/processed/qualifying/race_id=846/",
         "race_id=846/",
         0,
         1744324748000
        ],
        [
         "dbfs:/mnt/formula1dl2025practice/processed/qualifying/race_id=847/",
         "race_id=847/",
         0,
         1744324748000
        ],
        [
         "dbfs:/mnt/formula1dl2025practice/processed/qualifying/race_id=848/",
         "race_id=848/",
         0,
         1744324748000
        ],
        [
         "dbfs:/mnt/formula1dl2025practice/processed/qualifying/race_id=849/",
         "race_id=849/",
         0,
         1744324748000
        ],
        [
         "dbfs:/mnt/formula1dl2025practice/processed/qualifying/race_id=85/",
         "race_id=85/",
         0,
         1744324736000
        ],
        [
         "dbfs:/mnt/formula1dl2025practice/processed/qualifying/race_id=850/",
         "race_id=850/",
         0,
         1744324748000
        ],
        [
         "dbfs:/mnt/formula1dl2025practice/processed/qualifying/race_id=851/",
         "race_id=851/",
         0,
         1744324749000
        ],
        [
         "dbfs:/mnt/formula1dl2025practice/processed/qualifying/race_id=852/",
         "race_id=852/",
         0,
         1744324749000
        ],
        [
         "dbfs:/mnt/formula1dl2025practice/processed/qualifying/race_id=853/",
         "race_id=853/",
         0,
         1744324728000
        ],
        [
         "dbfs:/mnt/formula1dl2025practice/processed/qualifying/race_id=854/",
         "race_id=854/",
         0,
         1744324749000
        ],
        [
         "dbfs:/mnt/formula1dl2025practice/processed/qualifying/race_id=855/",
         "race_id=855/",
         0,
         1744324749000
        ],
        [
         "dbfs:/mnt/formula1dl2025practice/processed/qualifying/race_id=856/",
         "race_id=856/",
         0,
         1744324749000
        ],
        [
         "dbfs:/mnt/formula1dl2025practice/processed/qualifying/race_id=857/",
         "race_id=857/",
         0,
         1744324749000
        ],
        [
         "dbfs:/mnt/formula1dl2025practice/processed/qualifying/race_id=858/",
         "race_id=858/",
         0,
         1744324749000
        ],
        [
         "dbfs:/mnt/formula1dl2025practice/processed/qualifying/race_id=859/",
         "race_id=859/",
         0,
         1744324749000
        ],
        [
         "dbfs:/mnt/formula1dl2025practice/processed/qualifying/race_id=86/",
         "race_id=86/",
         0,
         1744324736000
        ],
        [
         "dbfs:/mnt/formula1dl2025practice/processed/qualifying/race_id=860/",
         "race_id=860/",
         0,
         1744324749000
        ],
        [
         "dbfs:/mnt/formula1dl2025practice/processed/qualifying/race_id=861/",
         "race_id=861/",
         0,
         1744324728000
        ],
        [
         "dbfs:/mnt/formula1dl2025practice/processed/qualifying/race_id=862/",
         "race_id=862/",
         0,
         1744324728000
        ],
        [
         "dbfs:/mnt/formula1dl2025practice/processed/qualifying/race_id=863/",
         "race_id=863/",
         0,
         1744324728000
        ],
        [
         "dbfs:/mnt/formula1dl2025practice/processed/qualifying/race_id=864/",
         "race_id=864/",
         0,
         1744324728000
        ],
        [
         "dbfs:/mnt/formula1dl2025practice/processed/qualifying/race_id=865/",
         "race_id=865/",
         0,
         1744324728000
        ],
        [
         "dbfs:/mnt/formula1dl2025practice/processed/qualifying/race_id=866/",
         "race_id=866/",
         0,
         1744324728000
        ],
        [
         "dbfs:/mnt/formula1dl2025practice/processed/qualifying/race_id=867/",
         "race_id=867/",
         0,
         1744324728000
        ],
        [
         "dbfs:/mnt/formula1dl2025practice/processed/qualifying/race_id=868/",
         "race_id=868/",
         0,
         1744324729000
        ],
        [
         "dbfs:/mnt/formula1dl2025practice/processed/qualifying/race_id=869/",
         "race_id=869/",
         0,
         1744324729000
        ],
        [
         "dbfs:/mnt/formula1dl2025practice/processed/qualifying/race_id=87/",
         "race_id=87/",
         0,
         1744324736000
        ],
        [
         "dbfs:/mnt/formula1dl2025practice/processed/qualifying/race_id=870/",
         "race_id=870/",
         0,
         1744324729000
        ],
        [
         "dbfs:/mnt/formula1dl2025practice/processed/qualifying/race_id=871/",
         "race_id=871/",
         0,
         1744324729000
        ],
        [
         "dbfs:/mnt/formula1dl2025practice/processed/qualifying/race_id=872/",
         "race_id=872/",
         0,
         1744324729000
        ],
        [
         "dbfs:/mnt/formula1dl2025practice/processed/qualifying/race_id=873/",
         "race_id=873/",
         0,
         1744324729000
        ],
        [
         "dbfs:/mnt/formula1dl2025practice/processed/qualifying/race_id=874/",
         "race_id=874/",
         0,
         1744324729000
        ],
        [
         "dbfs:/mnt/formula1dl2025practice/processed/qualifying/race_id=875/",
         "race_id=875/",
         0,
         1744324729000
        ],
        [
         "dbfs:/mnt/formula1dl2025practice/processed/qualifying/race_id=876/",
         "race_id=876/",
         0,
         1744324729000
        ],
        [
         "dbfs:/mnt/formula1dl2025practice/processed/qualifying/race_id=877/",
         "race_id=877/",
         0,
         1744324729000
        ],
        [
         "dbfs:/mnt/formula1dl2025practice/processed/qualifying/race_id=878/",
         "race_id=878/",
         0,
         1744324730000
        ],
        [
         "dbfs:/mnt/formula1dl2025practice/processed/qualifying/race_id=879/",
         "race_id=879/",
         0,
         1744324730000
        ],
        [
         "dbfs:/mnt/formula1dl2025practice/processed/qualifying/race_id=88/",
         "race_id=88/",
         0,
         1744324736000
        ],
        [
         "dbfs:/mnt/formula1dl2025practice/processed/qualifying/race_id=880/",
         "race_id=880/",
         0,
         1744324730000
        ],
        [
         "dbfs:/mnt/formula1dl2025practice/processed/qualifying/race_id=881/",
         "race_id=881/",
         0,
         1744324730000
        ],
        [
         "dbfs:/mnt/formula1dl2025practice/processed/qualifying/race_id=882/",
         "race_id=882/",
         0,
         1744324730000
        ],
        [
         "dbfs:/mnt/formula1dl2025practice/processed/qualifying/race_id=883/",
         "race_id=883/",
         0,
         1744324730000
        ],
        [
         "dbfs:/mnt/formula1dl2025practice/processed/qualifying/race_id=884/",
         "race_id=884/",
         0,
         1744324730000
        ],
        [
         "dbfs:/mnt/formula1dl2025practice/processed/qualifying/race_id=885/",
         "race_id=885/",
         0,
         1744324730000
        ],
        [
         "dbfs:/mnt/formula1dl2025practice/processed/qualifying/race_id=886/",
         "race_id=886/",
         0,
         1744324730000
        ],
        [
         "dbfs:/mnt/formula1dl2025practice/processed/qualifying/race_id=887/",
         "race_id=887/",
         0,
         1744324730000
        ],
        [
         "dbfs:/mnt/formula1dl2025practice/processed/qualifying/race_id=888/",
         "race_id=888/",
         0,
         1744324731000
        ],
        [
         "dbfs:/mnt/formula1dl2025practice/processed/qualifying/race_id=89/",
         "race_id=89/",
         0,
         1744324736000
        ],
        [
         "dbfs:/mnt/formula1dl2025practice/processed/qualifying/race_id=890/",
         "race_id=890/",
         0,
         1744324731000
        ],
        [
         "dbfs:/mnt/formula1dl2025practice/processed/qualifying/race_id=891/",
         "race_id=891/",
         0,
         1744324731000
        ],
        [
         "dbfs:/mnt/formula1dl2025practice/processed/qualifying/race_id=892/",
         "race_id=892/",
         0,
         1744324731000
        ],
        [
         "dbfs:/mnt/formula1dl2025practice/processed/qualifying/race_id=893/",
         "race_id=893/",
         0,
         1744324731000
        ],
        [
         "dbfs:/mnt/formula1dl2025practice/processed/qualifying/race_id=894/",
         "race_id=894/",
         0,
         1744324731000
        ],
        [
         "dbfs:/mnt/formula1dl2025practice/processed/qualifying/race_id=895/",
         "race_id=895/",
         0,
         1744324731000
        ],
        [
         "dbfs:/mnt/formula1dl2025practice/processed/qualifying/race_id=896/",
         "race_id=896/",
         0,
         1744324731000
        ],
        [
         "dbfs:/mnt/formula1dl2025practice/processed/qualifying/race_id=897/",
         "race_id=897/",
         0,
         1744324731000
        ],
        [
         "dbfs:/mnt/formula1dl2025practice/processed/qualifying/race_id=898/",
         "race_id=898/",
         0,
         1744324731000
        ],
        [
         "dbfs:/mnt/formula1dl2025practice/processed/qualifying/race_id=899/",
         "race_id=899/",
         0,
         1744324731000
        ],
        [
         "dbfs:/mnt/formula1dl2025practice/processed/qualifying/race_id=9/",
         "race_id=9/",
         0,
         1744324728000
        ],
        [
         "dbfs:/mnt/formula1dl2025practice/processed/qualifying/race_id=90/",
         "race_id=90/",
         0,
         1744324736000
        ],
        [
         "dbfs:/mnt/formula1dl2025practice/processed/qualifying/race_id=900/",
         "race_id=900/",
         0,
         1744324731000
        ],
        [
         "dbfs:/mnt/formula1dl2025practice/processed/qualifying/race_id=901/",
         "race_id=901/",
         0,
         1744324732000
        ],
        [
         "dbfs:/mnt/formula1dl2025practice/processed/qualifying/race_id=902/",
         "race_id=902/",
         0,
         1744324732000
        ],
        [
         "dbfs:/mnt/formula1dl2025practice/processed/qualifying/race_id=903/",
         "race_id=903/",
         0,
         1744324732000
        ],
        [
         "dbfs:/mnt/formula1dl2025practice/processed/qualifying/race_id=904/",
         "race_id=904/",
         0,
         1744324732000
        ],
        [
         "dbfs:/mnt/formula1dl2025practice/processed/qualifying/race_id=905/",
         "race_id=905/",
         0,
         1744324732000
        ],
        [
         "dbfs:/mnt/formula1dl2025practice/processed/qualifying/race_id=906/",
         "race_id=906/",
         0,
         1744324732000
        ],
        [
         "dbfs:/mnt/formula1dl2025practice/processed/qualifying/race_id=907/",
         "race_id=907/",
         0,
         1744324732000
        ],
        [
         "dbfs:/mnt/formula1dl2025practice/processed/qualifying/race_id=908/",
         "race_id=908/",
         0,
         1744324732000
        ],
        [
         "dbfs:/mnt/formula1dl2025practice/processed/qualifying/race_id=909/",
         "race_id=909/",
         0,
         1744324732000
        ],
        [
         "dbfs:/mnt/formula1dl2025practice/processed/qualifying/race_id=91/",
         "race_id=91/",
         0,
         1744324736000
        ],
        [
         "dbfs:/mnt/formula1dl2025practice/processed/qualifying/race_id=910/",
         "race_id=910/",
         0,
         1744324732000
        ],
        [
         "dbfs:/mnt/formula1dl2025practice/processed/qualifying/race_id=911/",
         "race_id=911/",
         0,
         1744324733000
        ],
        [
         "dbfs:/mnt/formula1dl2025practice/processed/qualifying/race_id=912/",
         "race_id=912/",
         0,
         1744324733000
        ],
        [
         "dbfs:/mnt/formula1dl2025practice/processed/qualifying/race_id=913/",
         "race_id=913/",
         0,
         1744324733000
        ],
        [
         "dbfs:/mnt/formula1dl2025practice/processed/qualifying/race_id=914/",
         "race_id=914/",
         0,
         1744324733000
        ],
        [
         "dbfs:/mnt/formula1dl2025practice/processed/qualifying/race_id=915/",
         "race_id=915/",
         0,
         1744324733000
        ],
        [
         "dbfs:/mnt/formula1dl2025practice/processed/qualifying/race_id=916/",
         "race_id=916/",
         0,
         1744324733000
        ],
        [
         "dbfs:/mnt/formula1dl2025practice/processed/qualifying/race_id=917/",
         "race_id=917/",
         0,
         1744324733000
        ],
        [
         "dbfs:/mnt/formula1dl2025practice/processed/qualifying/race_id=918/",
         "race_id=918/",
         0,
         1744324733000
        ],
        [
         "dbfs:/mnt/formula1dl2025practice/processed/qualifying/race_id=92/",
         "race_id=92/",
         0,
         1744324736000
        ],
        [
         "dbfs:/mnt/formula1dl2025practice/processed/qualifying/race_id=926/",
         "race_id=926/",
         0,
         1744324733000
        ],
        [
         "dbfs:/mnt/formula1dl2025practice/processed/qualifying/race_id=927/",
         "race_id=927/",
         0,
         1744324734000
        ],
        [
         "dbfs:/mnt/formula1dl2025practice/processed/qualifying/race_id=928/",
         "race_id=928/",
         0,
         1744324734000
        ],
        [
         "dbfs:/mnt/formula1dl2025practice/processed/qualifying/race_id=929/",
         "race_id=929/",
         0,
         1744324734000
        ],
        [
         "dbfs:/mnt/formula1dl2025practice/processed/qualifying/race_id=93/",
         "race_id=93/",
         0,
         1744324736000
        ],
        [
         "dbfs:/mnt/formula1dl2025practice/processed/qualifying/race_id=930/",
         "race_id=930/",
         0,
         1744324734000
        ],
        [
         "dbfs:/mnt/formula1dl2025practice/processed/qualifying/race_id=931/",
         "race_id=931/",
         0,
         1744324734000
        ],
        [
         "dbfs:/mnt/formula1dl2025practice/processed/qualifying/race_id=932/",
         "race_id=932/",
         0,
         1744324734000
        ],
        [
         "dbfs:/mnt/formula1dl2025practice/processed/qualifying/race_id=933/",
         "race_id=933/",
         0,
         1744324734000
        ],
        [
         "dbfs:/mnt/formula1dl2025practice/processed/qualifying/race_id=934/",
         "race_id=934/",
         0,
         1744324734000
        ],
        [
         "dbfs:/mnt/formula1dl2025practice/processed/qualifying/race_id=936/",
         "race_id=936/",
         0,
         1744324734000
        ],
        [
         "dbfs:/mnt/formula1dl2025practice/processed/qualifying/race_id=937/",
         "race_id=937/",
         0,
         1744324735000
        ],
        [
         "dbfs:/mnt/formula1dl2025practice/processed/qualifying/race_id=938/",
         "race_id=938/",
         0,
         1744324735000
        ],
        [
         "dbfs:/mnt/formula1dl2025practice/processed/qualifying/race_id=939/",
         "race_id=939/",
         0,
         1744324735000
        ],
        [
         "dbfs:/mnt/formula1dl2025practice/processed/qualifying/race_id=94/",
         "race_id=94/",
         0,
         1744324737000
        ],
        [
         "dbfs:/mnt/formula1dl2025practice/processed/qualifying/race_id=940/",
         "race_id=940/",
         0,
         1744324735000
        ],
        [
         "dbfs:/mnt/formula1dl2025practice/processed/qualifying/race_id=941/",
         "race_id=941/",
         0,
         1744324735000
        ],
        [
         "dbfs:/mnt/formula1dl2025practice/processed/qualifying/race_id=942/",
         "race_id=942/",
         0,
         1744324735000
        ],
        [
         "dbfs:/mnt/formula1dl2025practice/processed/qualifying/race_id=943/",
         "race_id=943/",
         0,
         1744324735000
        ],
        [
         "dbfs:/mnt/formula1dl2025practice/processed/qualifying/race_id=944/",
         "race_id=944/",
         0,
         1744324735000
        ],
        [
         "dbfs:/mnt/formula1dl2025practice/processed/qualifying/race_id=945/",
         "race_id=945/",
         0,
         1744324735000
        ],
        [
         "dbfs:/mnt/formula1dl2025practice/processed/qualifying/race_id=948/",
         "race_id=948/",
         0,
         1744324735000
        ],
        [
         "dbfs:/mnt/formula1dl2025practice/processed/qualifying/race_id=949/",
         "race_id=949/",
         0,
         1744324736000
        ],
        [
         "dbfs:/mnt/formula1dl2025practice/processed/qualifying/race_id=95/",
         "race_id=95/",
         0,
         1744324737000
        ],
        [
         "dbfs:/mnt/formula1dl2025practice/processed/qualifying/race_id=950/",
         "race_id=950/",
         0,
         1744324736000
        ],
        [
         "dbfs:/mnt/formula1dl2025practice/processed/qualifying/race_id=951/",
         "race_id=951/",
         0,
         1744324736000
        ],
        [
         "dbfs:/mnt/formula1dl2025practice/processed/qualifying/race_id=952/",
         "race_id=952/",
         0,
         1744324736000
        ],
        [
         "dbfs:/mnt/formula1dl2025practice/processed/qualifying/race_id=953/",
         "race_id=953/",
         0,
         1744324736000
        ],
        [
         "dbfs:/mnt/formula1dl2025practice/processed/qualifying/race_id=954/",
         "race_id=954/",
         0,
         1744324736000
        ],
        [
         "dbfs:/mnt/formula1dl2025practice/processed/qualifying/race_id=955/",
         "race_id=955/",
         0,
         1744324736000
        ],
        [
         "dbfs:/mnt/formula1dl2025practice/processed/qualifying/race_id=956/",
         "race_id=956/",
         0,
         1744324736000
        ],
        [
         "dbfs:/mnt/formula1dl2025practice/processed/qualifying/race_id=957/",
         "race_id=957/",
         0,
         1744324736000
        ],
        [
         "dbfs:/mnt/formula1dl2025practice/processed/qualifying/race_id=958/",
         "race_id=958/",
         0,
         1744324736000
        ],
        [
         "dbfs:/mnt/formula1dl2025practice/processed/qualifying/race_id=959/",
         "race_id=959/",
         0,
         1744324737000
        ],
        [
         "dbfs:/mnt/formula1dl2025practice/processed/qualifying/race_id=96/",
         "race_id=96/",
         0,
         1744324737000
        ],
        [
         "dbfs:/mnt/formula1dl2025practice/processed/qualifying/race_id=960/",
         "race_id=960/",
         0,
         1744324737000
        ],
        [
         "dbfs:/mnt/formula1dl2025practice/processed/qualifying/race_id=961/",
         "race_id=961/",
         0,
         1744324737000
        ],
        [
         "dbfs:/mnt/formula1dl2025practice/processed/qualifying/race_id=962/",
         "race_id=962/",
         0,
         1744324737000
        ],
        [
         "dbfs:/mnt/formula1dl2025practice/processed/qualifying/race_id=963/",
         "race_id=963/",
         0,
         1744324737000
        ],
        [
         "dbfs:/mnt/formula1dl2025practice/processed/qualifying/race_id=964/",
         "race_id=964/",
         0,
         1744324737000
        ],
        [
         "dbfs:/mnt/formula1dl2025practice/processed/qualifying/race_id=965/",
         "race_id=965/",
         0,
         1744324737000
        ],
        [
         "dbfs:/mnt/formula1dl2025practice/processed/qualifying/race_id=966/",
         "race_id=966/",
         0,
         1744324737000
        ],
        [
         "dbfs:/mnt/formula1dl2025practice/processed/qualifying/race_id=967/",
         "race_id=967/",
         0,
         1744324737000
        ],
        [
         "dbfs:/mnt/formula1dl2025practice/processed/qualifying/race_id=968/",
         "race_id=968/",
         0,
         1744324737000
        ],
        [
         "dbfs:/mnt/formula1dl2025practice/processed/qualifying/race_id=969/",
         "race_id=969/",
         0,
         1744324738000
        ],
        [
         "dbfs:/mnt/formula1dl2025practice/processed/qualifying/race_id=97/",
         "race_id=97/",
         0,
         1744324737000
        ],
        [
         "dbfs:/mnt/formula1dl2025practice/processed/qualifying/race_id=970/",
         "race_id=970/",
         0,
         1744324738000
        ],
        [
         "dbfs:/mnt/formula1dl2025practice/processed/qualifying/race_id=971/",
         "race_id=971/",
         0,
         1744324738000
        ],
        [
         "dbfs:/mnt/formula1dl2025practice/processed/qualifying/race_id=972/",
         "race_id=972/",
         0,
         1744324738000
        ],
        [
         "dbfs:/mnt/formula1dl2025practice/processed/qualifying/race_id=973/",
         "race_id=973/",
         0,
         1744324738000
        ],
        [
         "dbfs:/mnt/formula1dl2025practice/processed/qualifying/race_id=974/",
         "race_id=974/",
         0,
         1744324738000
        ],
        [
         "dbfs:/mnt/formula1dl2025practice/processed/qualifying/race_id=975/",
         "race_id=975/",
         0,
         1744324738000
        ],
        [
         "dbfs:/mnt/formula1dl2025practice/processed/qualifying/race_id=976/",
         "race_id=976/",
         0,
         1744324738000
        ],
        [
         "dbfs:/mnt/formula1dl2025practice/processed/qualifying/race_id=977/",
         "race_id=977/",
         0,
         1744324738000
        ],
        [
         "dbfs:/mnt/formula1dl2025practice/processed/qualifying/race_id=978/",
         "race_id=978/",
         0,
         1744324738000
        ],
        [
         "dbfs:/mnt/formula1dl2025practice/processed/qualifying/race_id=979/",
         "race_id=979/",
         0,
         1744324739000
        ],
        [
         "dbfs:/mnt/formula1dl2025practice/processed/qualifying/race_id=98/",
         "race_id=98/",
         0,
         1744324737000
        ],
        [
         "dbfs:/mnt/formula1dl2025practice/processed/qualifying/race_id=980/",
         "race_id=980/",
         0,
         1744324739000
        ],
        [
         "dbfs:/mnt/formula1dl2025practice/processed/qualifying/race_id=981/",
         "race_id=981/",
         0,
         1744324739000
        ],
        [
         "dbfs:/mnt/formula1dl2025practice/processed/qualifying/race_id=982/",
         "race_id=982/",
         0,
         1744324739000
        ],
        [
         "dbfs:/mnt/formula1dl2025practice/processed/qualifying/race_id=983/",
         "race_id=983/",
         0,
         1744324739000
        ],
        [
         "dbfs:/mnt/formula1dl2025practice/processed/qualifying/race_id=984/",
         "race_id=984/",
         0,
         1744324739000
        ],
        [
         "dbfs:/mnt/formula1dl2025practice/processed/qualifying/race_id=985/",
         "race_id=985/",
         0,
         1744324739000
        ],
        [
         "dbfs:/mnt/formula1dl2025practice/processed/qualifying/race_id=986/",
         "race_id=986/",
         0,
         1744324739000
        ],
        [
         "dbfs:/mnt/formula1dl2025practice/processed/qualifying/race_id=987/",
         "race_id=987/",
         0,
         1744324739000
        ],
        [
         "dbfs:/mnt/formula1dl2025practice/processed/qualifying/race_id=988/",
         "race_id=988/",
         0,
         1744324740000
        ],
        [
         "dbfs:/mnt/formula1dl2025practice/processed/qualifying/race_id=989/",
         "race_id=989/",
         0,
         1744324740000
        ],
        [
         "dbfs:/mnt/formula1dl2025practice/processed/qualifying/race_id=99/",
         "race_id=99/",
         0,
         1744324737000
        ],
        [
         "dbfs:/mnt/formula1dl2025practice/processed/qualifying/race_id=990/",
         "race_id=990/",
         0,
         1744324740000
        ],
        [
         "dbfs:/mnt/formula1dl2025practice/processed/qualifying/race_id=991/",
         "race_id=991/",
         0,
         1744324740000
        ],
        [
         "dbfs:/mnt/formula1dl2025practice/processed/qualifying/race_id=992/",
         "race_id=992/",
         0,
         1744324740000
        ],
        [
         "dbfs:/mnt/formula1dl2025practice/processed/qualifying/race_id=993/",
         "race_id=993/",
         0,
         1744324740000
        ],
        [
         "dbfs:/mnt/formula1dl2025practice/processed/qualifying/race_id=994/",
         "race_id=994/",
         0,
         1744324740000
        ],
        [
         "dbfs:/mnt/formula1dl2025practice/processed/qualifying/race_id=995/",
         "race_id=995/",
         0,
         1744324740000
        ],
        [
         "dbfs:/mnt/formula1dl2025practice/processed/qualifying/race_id=996/",
         "race_id=996/",
         0,
         1744324740000
        ],
        [
         "dbfs:/mnt/formula1dl2025practice/processed/qualifying/race_id=997/",
         "race_id=997/",
         0,
         1744324741000
        ],
        [
         "dbfs:/mnt/formula1dl2025practice/processed/qualifying/race_id=998/",
         "race_id=998/",
         0,
         1744324741000
        ],
        [
         "dbfs:/mnt/formula1dl2025practice/processed/qualifying/race_id=999/",
         "race_id=999/",
         0,
         1744324741000
        ]
       ],
       "datasetInfos": [],
       "dbfsResultPath": null,
       "isJsonSchema": true,
       "metadata": {},
       "overflow": false,
       "plotOptions": {
        "customPlotOptions": {},
        "displayType": "table",
        "pivotAggregation": null,
        "pivotColumns": null,
        "xColumns": null,
        "yColumns": null
       },
       "removedWidgets": [],
       "schema": [
        {
         "metadata": "{}",
         "name": "path",
         "type": "\"string\""
        },
        {
         "metadata": "{}",
         "name": "name",
         "type": "\"string\""
        },
        {
         "metadata": "{}",
         "name": "size",
         "type": "\"long\""
        },
        {
         "metadata": "{}",
         "name": "modificationTime",
         "type": "\"long\""
        }
       ],
       "type": "table"
      }
     },
     "output_type": "display_data"
    }
   ],
   "source": [
    "%fs\n",
    "ls /mnt/formula1dl2025practice/processed/qualifying"
   ]
  },
  {
   "cell_type": "code",
   "execution_count": 0,
   "metadata": {
    "application/vnd.databricks.v1+cell": {
     "cellMetadata": {
      "byteLimit": 2048000,
      "rowLimit": 10000
     },
     "inputWidgets": {},
     "nuid": "98372d79-c938-450d-a61d-c9ab96f7ca64",
     "showTitle": false,
     "tableResultSettingsMap": {},
     "title": ""
    }
   },
   "outputs": [],
   "source": [
    "#display(spark.read.parquet(\"/mnt/formula1dl2025practice/processed/qualifying\"))"
   ]
  },
  {
   "cell_type": "code",
   "execution_count": 0,
   "metadata": {
    "application/vnd.databricks.v1+cell": {
     "cellMetadata": {
      "byteLimit": 2048000,
      "rowLimit": 10000
     },
     "inputWidgets": {},
     "nuid": "12564f17-6bd0-48b5-8066-1e8c3bd66101",
     "showTitle": false,
     "tableResultSettingsMap": {},
     "title": ""
    }
   },
   "outputs": [],
   "source": [
    "dbutils.notebook.exit(\"Success\")"
   ]
  }
 ],
 "metadata": {
  "application/vnd.databricks.v1+notebook": {
   "computePreferences": null,
   "dashboards": [],
   "environmentMetadata": {
    "base_environment": "",
    "environment_version": "2"
   },
   "inputWidgetPreferences": null,
   "language": "python",
   "notebookMetadata": {
    "mostRecentlyExecutedCommandWithImplicitDF": {
     "commandId": 3200825393683211,
     "dataframes": [
      "_sqldf"
     ]
    },
    "pythonIndentUnit": 4
   },
   "notebookName": "8.ingest_qualifying.json_file",
   "widgets": {
    "p_data_source": {
     "currentValue": "",
     "nuid": "2fac774b-7060-444f-b928-96b7124ae4ff",
     "typedWidgetInfo": {
      "autoCreated": false,
      "defaultValue": "",
      "label": null,
      "name": "p_data_source",
      "options": {
       "widgetDisplayType": "Text",
       "validationRegex": null
      },
      "parameterDataType": "String"
     },
     "widgetInfo": {
      "widgetType": "text",
      "defaultValue": "",
      "label": null,
      "name": "p_data_source",
      "options": {
       "widgetType": "text",
       "autoCreated": null,
       "validationRegex": null
      }
     }
    },
    "p_file_date": {
     "currentValue": "2021-04-18",
     "nuid": "69bfef3a-1d9a-4d44-81c0-093fef4c37ad",
     "typedWidgetInfo": {
      "autoCreated": false,
      "defaultValue": "2021-03-21",
      "label": null,
      "name": "p_file_date",
      "options": {
       "widgetDisplayType": "Text",
       "validationRegex": null
      },
      "parameterDataType": "String"
     },
     "widgetInfo": {
      "widgetType": "text",
      "defaultValue": "2021-03-21",
      "label": null,
      "name": "p_file_date",
      "options": {
       "widgetType": "text",
       "autoCreated": null,
       "validationRegex": null
      }
     }
    }
   }
  },
  "language_info": {
   "name": "python"
  }
 },
 "nbformat": 4,
 "nbformat_minor": 0
}
