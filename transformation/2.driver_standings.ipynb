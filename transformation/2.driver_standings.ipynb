{
 "cells": [
  {
   "cell_type": "markdown",
   "metadata": {
    "application/vnd.databricks.v1+cell": {
     "cellMetadata": {
      "byteLimit": 2048000,
      "rowLimit": 10000
     },
     "inputWidgets": {},
     "nuid": "fe69db97-0ac3-4ead-bd58-e9ddbdf4a1c4",
     "showTitle": false,
     "tableResultSettingsMap": {},
     "title": ""
    }
   },
   "source": [
    "#### Produce driver standings"
   ]
  },
  {
   "cell_type": "code",
   "execution_count": 0,
   "metadata": {
    "application/vnd.databricks.v1+cell": {
     "cellMetadata": {
      "byteLimit": 2048000,
      "rowLimit": 10000
     },
     "inputWidgets": {},
     "nuid": "6a65974e-61c8-4ea9-a88a-7bd1ec2cf05e",
     "showTitle": false,
     "tableResultSettingsMap": {},
     "title": ""
    }
   },
   "outputs": [],
   "source": [
    "%run \"../includes/configuration\"\n"
   ]
  },
  {
   "cell_type": "code",
   "execution_count": 0,
   "metadata": {
    "application/vnd.databricks.v1+cell": {
     "cellMetadata": {
      "byteLimit": 2048000,
      "rowLimit": 10000
     },
     "inputWidgets": {},
     "nuid": "ce327637-f64a-4e48-ad0a-27ea467521e0",
     "showTitle": false,
     "tableResultSettingsMap": {},
     "title": ""
    }
   },
   "outputs": [],
   "source": [
    "%run \"../includes/common_functions\""
   ]
  },
  {
   "cell_type": "code",
   "execution_count": 0,
   "metadata": {
    "application/vnd.databricks.v1+cell": {
     "cellMetadata": {
      "byteLimit": 2048000,
      "rowLimit": 10000
     },
     "inputWidgets": {},
     "nuid": "cdbf3b5e-afda-46e7-8e47-d577e132799b",
     "showTitle": false,
     "tableResultSettingsMap": {},
     "title": ""
    }
   },
   "outputs": [],
   "source": [
    "dbutils.widgets.text(\"p_file_date\",\"2021-03-21\")\n",
    "v_file_date = dbutils.widgets.get(\"p_file_date\")"
   ]
  },
  {
   "cell_type": "markdown",
   "metadata": {
    "application/vnd.databricks.v1+cell": {
     "cellMetadata": {
      "byteLimit": 2048000,
      "rowLimit": 10000
     },
     "inputWidgets": {},
     "nuid": "b2103a47-d3b2-4a8c-8863-48592bc21bbc",
     "showTitle": false,
     "tableResultSettingsMap": {},
     "title": ""
    }
   },
   "source": [
    "\n",
    "Find the race years for which the data is to be replaced"
   ]
  },
  {
   "cell_type": "code",
   "execution_count": 0,
   "metadata": {
    "application/vnd.databricks.v1+cell": {
     "cellMetadata": {
      "byteLimit": 2048000,
      "rowLimit": 10000
     },
     "inputWidgets": {},
     "nuid": "6f844447-1ee1-4211-bb4d-3c82b96bf70c",
     "showTitle": false,
     "tableResultSettingsMap": {},
     "title": ""
    }
   },
   "outputs": [],
   "source": [
    "race_results_df =spark.read.format(\"delta\").load(F\"{presentation_folder_path}/race_results\")\\\n",
    "    .filter( f\"file_date = '{v_file_date}'\")\n"
   ]
  },
  {
   "cell_type": "code",
   "execution_count": 0,
   "metadata": {
    "application/vnd.databricks.v1+cell": {
     "cellMetadata": {
      "byteLimit": 2048000,
      "rowLimit": 10000
     },
     "inputWidgets": {},
     "nuid": "163380e3-07c5-48a7-8890-0a88fd2c6247",
     "showTitle": false,
     "tableResultSettingsMap": {},
     "title": ""
    }
   },
   "outputs": [
    {
     "output_type": "display_data",
     "data": {
      "text/html": [
       "<style scoped>\n",
       "  .table-result-container {\n",
       "    max-height: 300px;\n",
       "    overflow: auto;\n",
       "  }\n",
       "  table, th, td {\n",
       "    border: 1px solid black;\n",
       "    border-collapse: collapse;\n",
       "  }\n",
       "  th, td {\n",
       "    padding: 5px;\n",
       "  }\n",
       "  th {\n",
       "    text-align: left;\n",
       "  }\n",
       "</style><div class='table-result-container'><table class='table-result'><thead style='background-color: white'><tr><th>race_id</th><th>race_year</th><th>race_name</th><th>race_date</th><th>circuit_location</th><th>driver_name</th><th>driver_id</th><th>driver_number</th><th>driver_nationality</th><th>team</th><th>grid</th><th>fastest_lap</th><th>race_time</th><th>points</th><th>position</th><th>file_date</th><th>current_date</th></tr></thead><tbody><tr><td>1053</td><td>2021</td><td>Emilia Romagna Grand Prix</td><td>2021-04-18</td><td>Imola</td><td>Mick Schumacher</td><td>854</td><td>null</td><td>German</td><td>Haas F1 Team</td><td>18</td><td>58</td><td>\\N</td><td>0.0</td><td>16</td><td>2021-04-18</td><td>2025-04-10T23:40:54.560+0000</td></tr><tr><td>1053</td><td>2021</td><td>Emilia Romagna Grand Prix</td><td>2021-04-18</td><td>Imola</td><td>Nikita Mazepin</td><td>853</td><td>null</td><td>Russian</td><td>Haas F1 Team</td><td>19</td><td>55</td><td>\\N</td><td>0.0</td><td>17</td><td>2021-04-18</td><td>2025-04-10T23:40:54.560+0000</td></tr><tr><td>1053</td><td>2021</td><td>Emilia Romagna Grand Prix</td><td>2021-04-18</td><td>Imola</td><td>Yuki Tsunoda</td><td>852</td><td>null</td><td>Japanese</td><td>AlphaTauri</td><td>20</td><td>49</td><td>+73.184</td><td>0.0</td><td>12</td><td>2021-04-18</td><td>2025-04-10T23:40:54.560+0000</td></tr><tr><td>1053</td><td>2021</td><td>Emilia Romagna Grand Prix</td><td>2021-04-18</td><td>Imola</td><td>Nicholas Latifi</td><td>849</td><td>6</td><td>Canadian</td><td>Williams</td><td>14</td><td>null</td><td>\\N</td><td>0.0</td><td>null</td><td>2021-04-18</td><td>2025-04-10T23:40:54.560+0000</td></tr><tr><td>1053</td><td>2021</td><td>Emilia Romagna Grand Prix</td><td>2021-04-18</td><td>Imola</td><td>George Russell</td><td>847</td><td>63</td><td>British</td><td>Williams</td><td>12</td><td>28</td><td>\\N</td><td>0.0</td><td>null</td><td>2021-04-18</td><td>2025-04-10T23:40:54.560+0000</td></tr><tr><td>1053</td><td>2021</td><td>Emilia Romagna Grand Prix</td><td>2021-04-18</td><td>Imola</td><td>Lando Norris</td><td>846</td><td>4</td><td>British</td><td>McLaren</td><td>7</td><td>63</td><td>+23.702</td><td>15.0</td><td>3</td><td>2021-04-18</td><td>2025-04-10T23:40:54.560+0000</td></tr><tr><td>1053</td><td>2021</td><td>Emilia Romagna Grand Prix</td><td>2021-04-18</td><td>Imola</td><td>Charles Leclerc</td><td>844</td><td>16</td><td>Monegasque</td><td>Ferrari</td><td>4</td><td>60</td><td>+25.579</td><td>12.0</td><td>4</td><td>2021-04-18</td><td>2025-04-10T23:40:54.560+0000</td></tr><tr><td>1053</td><td>2021</td><td>Emilia Romagna Grand Prix</td><td>2021-04-18</td><td>Imola</td><td>Pierre Gasly</td><td>842</td><td>10</td><td>French</td><td>AlphaTauri</td><td>5</td><td>52</td><td>+52.818</td><td>6.0</td><td>7</td><td>2021-04-18</td><td>2025-04-10T23:40:54.560+0000</td></tr><tr><td>1053</td><td>2021</td><td>Emilia Romagna Grand Prix</td><td>2021-04-18</td><td>Imola</td><td>Antonio Giovinazzi</td><td>841</td><td>99</td><td>Italian</td><td>Alfa Romeo</td><td>17</td><td>57</td><td>\\N</td><td>0.0</td><td>14</td><td>2021-04-18</td><td>2025-04-10T23:40:54.560+0000</td></tr><tr><td>1053</td><td>2021</td><td>Emilia Romagna Grand Prix</td><td>2021-04-18</td><td>Imola</td><td>Lance Stroll</td><td>840</td><td>18</td><td>Canadian</td><td>Aston Martin</td><td>10</td><td>59</td><td>+56.909</td><td>4.0</td><td>8</td><td>2021-04-18</td><td>2025-04-10T23:40:54.560+0000</td></tr><tr><td>1053</td><td>2021</td><td>Emilia Romagna Grand Prix</td><td>2021-04-18</td><td>Imola</td><td>Esteban Ocon</td><td>839</td><td>31</td><td>French</td><td>Alpine F1 Team</td><td>9</td><td>62</td><td>+65.704</td><td>2.0</td><td>9</td><td>2021-04-18</td><td>2025-04-10T23:40:54.560+0000</td></tr><tr><td>1053</td><td>2021</td><td>Emilia Romagna Grand Prix</td><td>2021-04-18</td><td>Imola</td><td>Carlos Sainz</td><td>832</td><td>55</td><td>Spanish</td><td>Ferrari</td><td>11</td><td>60</td><td>+27.036</td><td>10.0</td><td>5</td><td>2021-04-18</td><td>2025-04-10T23:40:54.560+0000</td></tr><tr><td>1053</td><td>2021</td><td>Emilia Romagna Grand Prix</td><td>2021-04-18</td><td>Imola</td><td>Max Verstappen</td><td>830</td><td>33</td><td>Dutch</td><td>Red Bull</td><td>3</td><td>60</td><td>2:02:34.598</td><td>25.0</td><td>1</td><td>2021-04-18</td><td>2025-04-10T23:40:54.560+0000</td></tr><tr><td>1053</td><td>2021</td><td>Emilia Romagna Grand Prix</td><td>2021-04-18</td><td>Imola</td><td>Valtteri Bottas</td><td>822</td><td>77</td><td>Finnish</td><td>Mercedes</td><td>8</td><td>30</td><td>\\N</td><td>0.0</td><td>null</td><td>2021-04-18</td><td>2025-04-10T23:40:54.560+0000</td></tr><tr><td>1053</td><td>2021</td><td>Emilia Romagna Grand Prix</td><td>2021-04-18</td><td>Imola</td><td>Daniel Ricciardo</td><td>817</td><td>3</td><td>Australian</td><td>McLaren</td><td>6</td><td>54</td><td>+51.220</td><td>8.0</td><td>6</td><td>2021-04-18</td><td>2025-04-10T23:40:54.560+0000</td></tr><tr><td>1053</td><td>2021</td><td>Emilia Romagna Grand Prix</td><td>2021-04-18</td><td>Imola</td><td>Sergio Pérez</td><td>815</td><td>11</td><td>Mexican</td><td>Red Bull</td><td>2</td><td>62</td><td>+67.151</td><td>0.0</td><td>11</td><td>2021-04-18</td><td>2025-04-10T23:40:54.560+0000</td></tr><tr><td>1053</td><td>2021</td><td>Emilia Romagna Grand Prix</td><td>2021-04-18</td><td>Imola</td><td>Sebastian Vettel</td><td>20</td><td>5</td><td>German</td><td>Aston Martin</td><td>0</td><td>59</td><td>\\N</td><td>0.0</td><td>15</td><td>2021-04-18</td><td>2025-04-10T23:40:54.560+0000</td></tr><tr><td>1053</td><td>2021</td><td>Emilia Romagna Grand Prix</td><td>2021-04-18</td><td>Imola</td><td>Kimi Räikkönen</td><td>8</td><td>7</td><td>Finnish</td><td>Alfa Romeo</td><td>16</td><td>62</td><td>+94.773</td><td>0.0</td><td>13</td><td>2021-04-18</td><td>2025-04-10T23:40:54.560+0000</td></tr><tr><td>1053</td><td>2021</td><td>Emilia Romagna Grand Prix</td><td>2021-04-18</td><td>Imola</td><td>Fernando Alonso</td><td>4</td><td>14</td><td>Spanish</td><td>Alpine F1 Team</td><td>15</td><td>62</td><td>+66.561</td><td>1.0</td><td>10</td><td>2021-04-18</td><td>2025-04-10T23:40:54.560+0000</td></tr><tr><td>1053</td><td>2021</td><td>Emilia Romagna Grand Prix</td><td>2021-04-18</td><td>Imola</td><td>Lewis Hamilton</td><td>1</td><td>44</td><td>British</td><td>Mercedes</td><td>1</td><td>60</td><td>+22.000</td><td>19.0</td><td>2</td><td>2021-04-18</td><td>2025-04-10T23:40:54.560+0000</td></tr></tbody></table></div>"
      ]
     },
     "metadata": {
      "application/vnd.databricks.v1+output": {
       "addedWidgets": {},
       "aggData": [],
       "aggError": "",
       "aggOverflow": false,
       "aggSchema": [],
       "aggSeriesLimitReached": false,
       "aggType": "",
       "arguments": {},
       "columnCustomDisplayInfos": {},
       "data": [
        [
         1053,
         2021,
         "Emilia Romagna Grand Prix",
         "2021-04-18",
         "Imola",
         "Mick Schumacher",
         854,
         null,
         "German",
         "Haas F1 Team",
         18,
         58,
         "\\N",
         0.0,
         16,
         "2021-04-18",
         "2025-04-10T23:40:54.560+0000"
        ],
        [
         1053,
         2021,
         "Emilia Romagna Grand Prix",
         "2021-04-18",
         "Imola",
         "Nikita Mazepin",
         853,
         null,
         "Russian",
         "Haas F1 Team",
         19,
         55,
         "\\N",
         0.0,
         17,
         "2021-04-18",
         "2025-04-10T23:40:54.560+0000"
        ],
        [
         1053,
         2021,
         "Emilia Romagna Grand Prix",
         "2021-04-18",
         "Imola",
         "Yuki Tsunoda",
         852,
         null,
         "Japanese",
         "AlphaTauri",
         20,
         49,
         "+73.184",
         0.0,
         12,
         "2021-04-18",
         "2025-04-10T23:40:54.560+0000"
        ],
        [
         1053,
         2021,
         "Emilia Romagna Grand Prix",
         "2021-04-18",
         "Imola",
         "Nicholas Latifi",
         849,
         6,
         "Canadian",
         "Williams",
         14,
         null,
         "\\N",
         0.0,
         null,
         "2021-04-18",
         "2025-04-10T23:40:54.560+0000"
        ],
        [
         1053,
         2021,
         "Emilia Romagna Grand Prix",
         "2021-04-18",
         "Imola",
         "George Russell",
         847,
         63,
         "British",
         "Williams",
         12,
         28,
         "\\N",
         0.0,
         null,
         "2021-04-18",
         "2025-04-10T23:40:54.560+0000"
        ],
        [
         1053,
         2021,
         "Emilia Romagna Grand Prix",
         "2021-04-18",
         "Imola",
         "Lando Norris",
         846,
         4,
         "British",
         "McLaren",
         7,
         63,
         "+23.702",
         15.0,
         3,
         "2021-04-18",
         "2025-04-10T23:40:54.560+0000"
        ],
        [
         1053,
         2021,
         "Emilia Romagna Grand Prix",
         "2021-04-18",
         "Imola",
         "Charles Leclerc",
         844,
         16,
         "Monegasque",
         "Ferrari",
         4,
         60,
         "+25.579",
         12.0,
         4,
         "2021-04-18",
         "2025-04-10T23:40:54.560+0000"
        ],
        [
         1053,
         2021,
         "Emilia Romagna Grand Prix",
         "2021-04-18",
         "Imola",
         "Pierre Gasly",
         842,
         10,
         "French",
         "AlphaTauri",
         5,
         52,
         "+52.818",
         6.0,
         7,
         "2021-04-18",
         "2025-04-10T23:40:54.560+0000"
        ],
        [
         1053,
         2021,
         "Emilia Romagna Grand Prix",
         "2021-04-18",
         "Imola",
         "Antonio Giovinazzi",
         841,
         99,
         "Italian",
         "Alfa Romeo",
         17,
         57,
         "\\N",
         0.0,
         14,
         "2021-04-18",
         "2025-04-10T23:40:54.560+0000"
        ],
        [
         1053,
         2021,
         "Emilia Romagna Grand Prix",
         "2021-04-18",
         "Imola",
         "Lance Stroll",
         840,
         18,
         "Canadian",
         "Aston Martin",
         10,
         59,
         "+56.909",
         4.0,
         8,
         "2021-04-18",
         "2025-04-10T23:40:54.560+0000"
        ],
        [
         1053,
         2021,
         "Emilia Romagna Grand Prix",
         "2021-04-18",
         "Imola",
         "Esteban Ocon",
         839,
         31,
         "French",
         "Alpine F1 Team",
         9,
         62,
         "+65.704",
         2.0,
         9,
         "2021-04-18",
         "2025-04-10T23:40:54.560+0000"
        ],
        [
         1053,
         2021,
         "Emilia Romagna Grand Prix",
         "2021-04-18",
         "Imola",
         "Carlos Sainz",
         832,
         55,
         "Spanish",
         "Ferrari",
         11,
         60,
         "+27.036",
         10.0,
         5,
         "2021-04-18",
         "2025-04-10T23:40:54.560+0000"
        ],
        [
         1053,
         2021,
         "Emilia Romagna Grand Prix",
         "2021-04-18",
         "Imola",
         "Max Verstappen",
         830,
         33,
         "Dutch",
         "Red Bull",
         3,
         60,
         "2:02:34.598",
         25.0,
         1,
         "2021-04-18",
         "2025-04-10T23:40:54.560+0000"
        ],
        [
         1053,
         2021,
         "Emilia Romagna Grand Prix",
         "2021-04-18",
         "Imola",
         "Valtteri Bottas",
         822,
         77,
         "Finnish",
         "Mercedes",
         8,
         30,
         "\\N",
         0.0,
         null,
         "2021-04-18",
         "2025-04-10T23:40:54.560+0000"
        ],
        [
         1053,
         2021,
         "Emilia Romagna Grand Prix",
         "2021-04-18",
         "Imola",
         "Daniel Ricciardo",
         817,
         3,
         "Australian",
         "McLaren",
         6,
         54,
         "+51.220",
         8.0,
         6,
         "2021-04-18",
         "2025-04-10T23:40:54.560+0000"
        ],
        [
         1053,
         2021,
         "Emilia Romagna Grand Prix",
         "2021-04-18",
         "Imola",
         "Sergio Pérez",
         815,
         11,
         "Mexican",
         "Red Bull",
         2,
         62,
         "+67.151",
         0.0,
         11,
         "2021-04-18",
         "2025-04-10T23:40:54.560+0000"
        ],
        [
         1053,
         2021,
         "Emilia Romagna Grand Prix",
         "2021-04-18",
         "Imola",
         "Sebastian Vettel",
         20,
         5,
         "German",
         "Aston Martin",
         0,
         59,
         "\\N",
         0.0,
         15,
         "2021-04-18",
         "2025-04-10T23:40:54.560+0000"
        ],
        [
         1053,
         2021,
         "Emilia Romagna Grand Prix",
         "2021-04-18",
         "Imola",
         "Kimi Räikkönen",
         8,
         7,
         "Finnish",
         "Alfa Romeo",
         16,
         62,
         "+94.773",
         0.0,
         13,
         "2021-04-18",
         "2025-04-10T23:40:54.560+0000"
        ],
        [
         1053,
         2021,
         "Emilia Romagna Grand Prix",
         "2021-04-18",
         "Imola",
         "Fernando Alonso",
         4,
         14,
         "Spanish",
         "Alpine F1 Team",
         15,
         62,
         "+66.561",
         1.0,
         10,
         "2021-04-18",
         "2025-04-10T23:40:54.560+0000"
        ],
        [
         1053,
         2021,
         "Emilia Romagna Grand Prix",
         "2021-04-18",
         "Imola",
         "Lewis Hamilton",
         1,
         44,
         "British",
         "Mercedes",
         1,
         60,
         "+22.000",
         19.0,
         2,
         "2021-04-18",
         "2025-04-10T23:40:54.560+0000"
        ]
       ],
       "datasetInfos": [],
       "dbfsResultPath": null,
       "isJsonSchema": true,
       "metadata": {},
       "overflow": false,
       "plotOptions": {
        "customPlotOptions": {},
        "displayType": "table",
        "pivotAggregation": null,
        "pivotColumns": null,
        "xColumns": null,
        "yColumns": null
       },
       "removedWidgets": [],
       "schema": [
        {
         "metadata": "{}",
         "name": "race_id",
         "type": "\"integer\""
        },
        {
         "metadata": "{}",
         "name": "race_year",
         "type": "\"integer\""
        },
        {
         "metadata": "{}",
         "name": "race_name",
         "type": "\"string\""
        },
        {
         "metadata": "{}",
         "name": "race_date",
         "type": "\"date\""
        },
        {
         "metadata": "{}",
         "name": "circuit_location",
         "type": "\"string\""
        },
        {
         "metadata": "{}",
         "name": "driver_name",
         "type": "\"string\""
        },
        {
         "metadata": "{}",
         "name": "driver_id",
         "type": "\"integer\""
        },
        {
         "metadata": "{}",
         "name": "driver_number",
         "type": "\"integer\""
        },
        {
         "metadata": "{}",
         "name": "driver_nationality",
         "type": "\"string\""
        },
        {
         "metadata": "{}",
         "name": "team",
         "type": "\"string\""
        },
        {
         "metadata": "{}",
         "name": "grid",
         "type": "\"integer\""
        },
        {
         "metadata": "{}",
         "name": "fastest_lap",
         "type": "\"integer\""
        },
        {
         "metadata": "{}",
         "name": "race_time",
         "type": "\"string\""
        },
        {
         "metadata": "{}",
         "name": "points",
         "type": "\"float\""
        },
        {
         "metadata": "{}",
         "name": "position",
         "type": "\"integer\""
        },
        {
         "metadata": "{}",
         "name": "file_date",
         "type": "\"string\""
        },
        {
         "metadata": "{}",
         "name": "current_date",
         "type": "\"timestamp\""
        }
       ],
       "type": "table"
      }
     },
     "output_type": "display_data"
    }
   ],
   "source": [
    "display(race_results_df)"
   ]
  },
  {
   "cell_type": "code",
   "execution_count": 0,
   "metadata": {
    "application/vnd.databricks.v1+cell": {
     "cellMetadata": {
      "byteLimit": 2048000,
      "rowLimit": 10000
     },
     "inputWidgets": {},
     "nuid": "577cb08f-5f9c-4b27-a948-0dc1e8a72ba4",
     "showTitle": false,
     "tableResultSettingsMap": {},
     "title": ""
    }
   },
   "outputs": [],
   "source": [
    "race_year_list = df_column_to_list(race_results_df, \"race_year\")"
   ]
  },
  {
   "cell_type": "code",
   "execution_count": 0,
   "metadata": {
    "application/vnd.databricks.v1+cell": {
     "cellMetadata": {
      "byteLimit": 2048000,
      "rowLimit": 10000
     },
     "inputWidgets": {},
     "nuid": "389f66cd-4af7-471d-a03b-a6cf520bfa4a",
     "showTitle": false,
     "tableResultSettingsMap": {},
     "title": ""
    }
   },
   "outputs": [
    {
     "output_type": "stream",
     "name": "stdout",
     "output_type": "stream",
     "text": [
      "Out[14]: [2021]"
     ]
    }
   ],
   "source": [
    "race_year_list"
   ]
  },
  {
   "cell_type": "code",
   "execution_count": 0,
   "metadata": {
    "application/vnd.databricks.v1+cell": {
     "cellMetadata": {
      "byteLimit": 2048000,
      "rowLimit": 10000
     },
     "inputWidgets": {},
     "nuid": "e0419c30-e63c-40a8-b18b-7ebdb3d8ddf1",
     "showTitle": false,
     "tableResultSettingsMap": {},
     "title": ""
    }
   },
   "outputs": [],
   "source": [
    "#race_year_list = []\n",
    "\n",
    "#for race_year in race_results_list:\n",
    " ##   race_year_list.append(race_year.race_year)\n",
    "#print(race_year_list)"
   ]
  },
  {
   "cell_type": "code",
   "execution_count": 0,
   "metadata": {
    "application/vnd.databricks.v1+cell": {
     "cellMetadata": {
      "byteLimit": 2048000,
      "rowLimit": 10000
     },
     "inputWidgets": {},
     "nuid": "9b7c43dc-b1bb-4288-9223-b81e585bd4a1",
     "showTitle": false,
     "tableResultSettingsMap": {},
     "title": ""
    }
   },
   "outputs": [],
   "source": [
    "from pyspark.sql.functions import col\n",
    "race_results_df = spark.read.format(\"delta\").load(F\"{presentation_folder_path}/race_results\").filter( col(\"race_year\").isin(race_year_list))"
   ]
  },
  {
   "cell_type": "code",
   "execution_count": 0,
   "metadata": {
    "application/vnd.databricks.v1+cell": {
     "cellMetadata": {
      "byteLimit": 2048000,
      "rowLimit": 10000
     },
     "inputWidgets": {},
     "nuid": "8b0e5b34-f1dd-4d44-918d-bba411bea607",
     "showTitle": false,
     "tableResultSettingsMap": {},
     "title": ""
    }
   },
   "outputs": [
    {
     "output_type": "display_data",
     "data": {
      "text/html": [
       "<style scoped>\n",
       "  .table-result-container {\n",
       "    max-height: 300px;\n",
       "    overflow: auto;\n",
       "  }\n",
       "  table, th, td {\n",
       "    border: 1px solid black;\n",
       "    border-collapse: collapse;\n",
       "  }\n",
       "  th, td {\n",
       "    padding: 5px;\n",
       "  }\n",
       "  th {\n",
       "    text-align: left;\n",
       "  }\n",
       "</style><div class='table-result-container'><table class='table-result'><thead style='background-color: white'><tr><th>race_id</th><th>race_year</th><th>race_name</th><th>race_date</th><th>circuit_location</th><th>driver_name</th><th>driver_id</th><th>driver_number</th><th>driver_nationality</th><th>team</th><th>grid</th><th>fastest_lap</th><th>race_time</th><th>points</th><th>position</th><th>file_date</th><th>current_date</th></tr></thead><tbody><tr><td>1053</td><td>2021</td><td>Emilia Romagna Grand Prix</td><td>2021-04-18</td><td>Imola</td><td>Mick Schumacher</td><td>854</td><td>null</td><td>German</td><td>Haas F1 Team</td><td>18</td><td>58</td><td>\\N</td><td>0.0</td><td>16</td><td>2021-04-18</td><td>2025-04-10T23:40:54.560+0000</td></tr><tr><td>1053</td><td>2021</td><td>Emilia Romagna Grand Prix</td><td>2021-04-18</td><td>Imola</td><td>Nikita Mazepin</td><td>853</td><td>null</td><td>Russian</td><td>Haas F1 Team</td><td>19</td><td>55</td><td>\\N</td><td>0.0</td><td>17</td><td>2021-04-18</td><td>2025-04-10T23:40:54.560+0000</td></tr><tr><td>1053</td><td>2021</td><td>Emilia Romagna Grand Prix</td><td>2021-04-18</td><td>Imola</td><td>Yuki Tsunoda</td><td>852</td><td>null</td><td>Japanese</td><td>AlphaTauri</td><td>20</td><td>49</td><td>+73.184</td><td>0.0</td><td>12</td><td>2021-04-18</td><td>2025-04-10T23:40:54.560+0000</td></tr><tr><td>1053</td><td>2021</td><td>Emilia Romagna Grand Prix</td><td>2021-04-18</td><td>Imola</td><td>Nicholas Latifi</td><td>849</td><td>6</td><td>Canadian</td><td>Williams</td><td>14</td><td>null</td><td>\\N</td><td>0.0</td><td>null</td><td>2021-04-18</td><td>2025-04-10T23:40:54.560+0000</td></tr><tr><td>1053</td><td>2021</td><td>Emilia Romagna Grand Prix</td><td>2021-04-18</td><td>Imola</td><td>George Russell</td><td>847</td><td>63</td><td>British</td><td>Williams</td><td>12</td><td>28</td><td>\\N</td><td>0.0</td><td>null</td><td>2021-04-18</td><td>2025-04-10T23:40:54.560+0000</td></tr><tr><td>1053</td><td>2021</td><td>Emilia Romagna Grand Prix</td><td>2021-04-18</td><td>Imola</td><td>Lando Norris</td><td>846</td><td>4</td><td>British</td><td>McLaren</td><td>7</td><td>63</td><td>+23.702</td><td>15.0</td><td>3</td><td>2021-04-18</td><td>2025-04-10T23:40:54.560+0000</td></tr><tr><td>1053</td><td>2021</td><td>Emilia Romagna Grand Prix</td><td>2021-04-18</td><td>Imola</td><td>Charles Leclerc</td><td>844</td><td>16</td><td>Monegasque</td><td>Ferrari</td><td>4</td><td>60</td><td>+25.579</td><td>12.0</td><td>4</td><td>2021-04-18</td><td>2025-04-10T23:40:54.560+0000</td></tr><tr><td>1053</td><td>2021</td><td>Emilia Romagna Grand Prix</td><td>2021-04-18</td><td>Imola</td><td>Pierre Gasly</td><td>842</td><td>10</td><td>French</td><td>AlphaTauri</td><td>5</td><td>52</td><td>+52.818</td><td>6.0</td><td>7</td><td>2021-04-18</td><td>2025-04-10T23:40:54.560+0000</td></tr><tr><td>1053</td><td>2021</td><td>Emilia Romagna Grand Prix</td><td>2021-04-18</td><td>Imola</td><td>Antonio Giovinazzi</td><td>841</td><td>99</td><td>Italian</td><td>Alfa Romeo</td><td>17</td><td>57</td><td>\\N</td><td>0.0</td><td>14</td><td>2021-04-18</td><td>2025-04-10T23:40:54.560+0000</td></tr><tr><td>1053</td><td>2021</td><td>Emilia Romagna Grand Prix</td><td>2021-04-18</td><td>Imola</td><td>Lance Stroll</td><td>840</td><td>18</td><td>Canadian</td><td>Aston Martin</td><td>10</td><td>59</td><td>+56.909</td><td>4.0</td><td>8</td><td>2021-04-18</td><td>2025-04-10T23:40:54.560+0000</td></tr><tr><td>1053</td><td>2021</td><td>Emilia Romagna Grand Prix</td><td>2021-04-18</td><td>Imola</td><td>Esteban Ocon</td><td>839</td><td>31</td><td>French</td><td>Alpine F1 Team</td><td>9</td><td>62</td><td>+65.704</td><td>2.0</td><td>9</td><td>2021-04-18</td><td>2025-04-10T23:40:54.560+0000</td></tr><tr><td>1053</td><td>2021</td><td>Emilia Romagna Grand Prix</td><td>2021-04-18</td><td>Imola</td><td>Carlos Sainz</td><td>832</td><td>55</td><td>Spanish</td><td>Ferrari</td><td>11</td><td>60</td><td>+27.036</td><td>10.0</td><td>5</td><td>2021-04-18</td><td>2025-04-10T23:40:54.560+0000</td></tr><tr><td>1053</td><td>2021</td><td>Emilia Romagna Grand Prix</td><td>2021-04-18</td><td>Imola</td><td>Max Verstappen</td><td>830</td><td>33</td><td>Dutch</td><td>Red Bull</td><td>3</td><td>60</td><td>2:02:34.598</td><td>25.0</td><td>1</td><td>2021-04-18</td><td>2025-04-10T23:40:54.560+0000</td></tr><tr><td>1053</td><td>2021</td><td>Emilia Romagna Grand Prix</td><td>2021-04-18</td><td>Imola</td><td>Valtteri Bottas</td><td>822</td><td>77</td><td>Finnish</td><td>Mercedes</td><td>8</td><td>30</td><td>\\N</td><td>0.0</td><td>null</td><td>2021-04-18</td><td>2025-04-10T23:40:54.560+0000</td></tr><tr><td>1053</td><td>2021</td><td>Emilia Romagna Grand Prix</td><td>2021-04-18</td><td>Imola</td><td>Daniel Ricciardo</td><td>817</td><td>3</td><td>Australian</td><td>McLaren</td><td>6</td><td>54</td><td>+51.220</td><td>8.0</td><td>6</td><td>2021-04-18</td><td>2025-04-10T23:40:54.560+0000</td></tr><tr><td>1053</td><td>2021</td><td>Emilia Romagna Grand Prix</td><td>2021-04-18</td><td>Imola</td><td>Sergio Pérez</td><td>815</td><td>11</td><td>Mexican</td><td>Red Bull</td><td>2</td><td>62</td><td>+67.151</td><td>0.0</td><td>11</td><td>2021-04-18</td><td>2025-04-10T23:40:54.560+0000</td></tr><tr><td>1053</td><td>2021</td><td>Emilia Romagna Grand Prix</td><td>2021-04-18</td><td>Imola</td><td>Sebastian Vettel</td><td>20</td><td>5</td><td>German</td><td>Aston Martin</td><td>0</td><td>59</td><td>\\N</td><td>0.0</td><td>15</td><td>2021-04-18</td><td>2025-04-10T23:40:54.560+0000</td></tr><tr><td>1053</td><td>2021</td><td>Emilia Romagna Grand Prix</td><td>2021-04-18</td><td>Imola</td><td>Kimi Räikkönen</td><td>8</td><td>7</td><td>Finnish</td><td>Alfa Romeo</td><td>16</td><td>62</td><td>+94.773</td><td>0.0</td><td>13</td><td>2021-04-18</td><td>2025-04-10T23:40:54.560+0000</td></tr><tr><td>1053</td><td>2021</td><td>Emilia Romagna Grand Prix</td><td>2021-04-18</td><td>Imola</td><td>Fernando Alonso</td><td>4</td><td>14</td><td>Spanish</td><td>Alpine F1 Team</td><td>15</td><td>62</td><td>+66.561</td><td>1.0</td><td>10</td><td>2021-04-18</td><td>2025-04-10T23:40:54.560+0000</td></tr><tr><td>1053</td><td>2021</td><td>Emilia Romagna Grand Prix</td><td>2021-04-18</td><td>Imola</td><td>Lewis Hamilton</td><td>1</td><td>44</td><td>British</td><td>Mercedes</td><td>1</td><td>60</td><td>+22.000</td><td>19.0</td><td>2</td><td>2021-04-18</td><td>2025-04-10T23:40:54.560+0000</td></tr><tr><td>1052</td><td>2021</td><td>Bahrain Grand Prix</td><td>2021-03-28</td><td>Sakhir</td><td>Mick Schumacher</td><td>854</td><td>null</td><td>German</td><td>Haas F1 Team</td><td>18</td><td>38</td><td>\\N</td><td>0.0</td><td>16</td><td>2021-03-28</td><td>2025-04-10T23:40:17.658+0000</td></tr><tr><td>1052</td><td>2021</td><td>Bahrain Grand Prix</td><td>2021-03-28</td><td>Sakhir</td><td>Nikita Mazepin</td><td>853</td><td>null</td><td>Russian</td><td>Haas F1 Team</td><td>19</td><td>null</td><td>\\N</td><td>0.0</td><td>null</td><td>2021-03-28</td><td>2025-04-10T23:40:17.658+0000</td></tr><tr><td>1052</td><td>2021</td><td>Bahrain Grand Prix</td><td>2021-03-28</td><td>Sakhir</td><td>Yuki Tsunoda</td><td>852</td><td>null</td><td>Japanese</td><td>AlphaTauri</td><td>13</td><td>38</td><td>+85.692</td><td>2.0</td><td>9</td><td>2021-03-28</td><td>2025-04-10T23:40:17.658+0000</td></tr><tr><td>1052</td><td>2021</td><td>Bahrain Grand Prix</td><td>2021-03-28</td><td>Sakhir</td><td>Nicholas Latifi</td><td>849</td><td>6</td><td>Canadian</td><td>Williams</td><td>17</td><td>16</td><td>\\N</td><td>0.0</td><td>18</td><td>2021-03-28</td><td>2025-04-10T23:40:17.658+0000</td></tr><tr><td>1052</td><td>2021</td><td>Bahrain Grand Prix</td><td>2021-03-28</td><td>Sakhir</td><td>George Russell</td><td>847</td><td>63</td><td>British</td><td>Williams</td><td>15</td><td>40</td><td>\\N</td><td>0.0</td><td>14</td><td>2021-03-28</td><td>2025-04-10T23:40:17.658+0000</td></tr><tr><td>1052</td><td>2021</td><td>Bahrain Grand Prix</td><td>2021-03-28</td><td>Sakhir</td><td>Lando Norris</td><td>846</td><td>4</td><td>British</td><td>McLaren</td><td>7</td><td>38</td><td>+46.466</td><td>12.0</td><td>4</td><td>2021-03-28</td><td>2025-04-10T23:40:17.658+0000</td></tr><tr><td>1052</td><td>2021</td><td>Bahrain Grand Prix</td><td>2021-03-28</td><td>Sakhir</td><td>Charles Leclerc</td><td>844</td><td>16</td><td>Monegasque</td><td>Ferrari</td><td>4</td><td>39</td><td>+59.090</td><td>8.0</td><td>6</td><td>2021-03-28</td><td>2025-04-10T23:40:17.658+0000</td></tr><tr><td>1052</td><td>2021</td><td>Bahrain Grand Prix</td><td>2021-03-28</td><td>Sakhir</td><td>Pierre Gasly</td><td>842</td><td>10</td><td>French</td><td>AlphaTauri</td><td>5</td><td>48</td><td>\\N</td><td>0.0</td><td>17</td><td>2021-03-28</td><td>2025-04-10T23:40:17.658+0000</td></tr><tr><td>1052</td><td>2021</td><td>Bahrain Grand Prix</td><td>2021-03-28</td><td>Sakhir</td><td>Antonio Giovinazzi</td><td>841</td><td>99</td><td>Italian</td><td>Alfa Romeo</td><td>12</td><td>32</td><td>\\N</td><td>0.0</td><td>12</td><td>2021-03-28</td><td>2025-04-10T23:40:17.658+0000</td></tr><tr><td>1052</td><td>2021</td><td>Bahrain Grand Prix</td><td>2021-03-28</td><td>Sakhir</td><td>Lance Stroll</td><td>840</td><td>18</td><td>Canadian</td><td>Aston Martin</td><td>10</td><td>31</td><td>+86.713</td><td>1.0</td><td>10</td><td>2021-03-28</td><td>2025-04-10T23:40:17.658+0000</td></tr><tr><td>1052</td><td>2021</td><td>Bahrain Grand Prix</td><td>2021-03-28</td><td>Sakhir</td><td>Esteban Ocon</td><td>839</td><td>31</td><td>French</td><td>Alpine F1 Team</td><td>16</td><td>33</td><td>\\N</td><td>0.0</td><td>13</td><td>2021-03-28</td><td>2025-04-10T23:40:17.658+0000</td></tr><tr><td>1052</td><td>2021</td><td>Bahrain Grand Prix</td><td>2021-03-28</td><td>Sakhir</td><td>Carlos Sainz</td><td>832</td><td>55</td><td>Spanish</td><td>Ferrari</td><td>8</td><td>48</td><td>+67.100</td><td>4.0</td><td>8</td><td>2021-03-28</td><td>2025-04-10T23:40:17.658+0000</td></tr><tr><td>1052</td><td>2021</td><td>Bahrain Grand Prix</td><td>2021-03-28</td><td>Sakhir</td><td>Max Verstappen</td><td>830</td><td>33</td><td>Dutch</td><td>Red Bull</td><td>1</td><td>41</td><td>+0.745</td><td>18.0</td><td>2</td><td>2021-03-28</td><td>2025-04-10T23:40:17.658+0000</td></tr><tr><td>1052</td><td>2021</td><td>Bahrain Grand Prix</td><td>2021-03-28</td><td>Sakhir</td><td>Valtteri Bottas</td><td>822</td><td>77</td><td>Finnish</td><td>Mercedes</td><td>3</td><td>56</td><td>+37.383</td><td>16.0</td><td>3</td><td>2021-03-28</td><td>2025-04-10T23:40:17.658+0000</td></tr><tr><td>1052</td><td>2021</td><td>Bahrain Grand Prix</td><td>2021-03-28</td><td>Sakhir</td><td>Daniel Ricciardo</td><td>817</td><td>3</td><td>Australian</td><td>McLaren</td><td>6</td><td>36</td><td>+66.004</td><td>6.0</td><td>7</td><td>2021-03-28</td><td>2025-04-10T23:40:17.658+0000</td></tr><tr><td>1052</td><td>2021</td><td>Bahrain Grand Prix</td><td>2021-03-28</td><td>Sakhir</td><td>Sergio Pérez</td><td>815</td><td>11</td><td>Mexican</td><td>Red Bull</td><td>0</td><td>44</td><td>+52.047</td><td>10.0</td><td>5</td><td>2021-03-28</td><td>2025-04-10T23:40:17.658+0000</td></tr><tr><td>1052</td><td>2021</td><td>Bahrain Grand Prix</td><td>2021-03-28</td><td>Sakhir</td><td>Sebastian Vettel</td><td>20</td><td>5</td><td>German</td><td>Aston Martin</td><td>20</td><td>26</td><td>\\N</td><td>0.0</td><td>15</td><td>2021-03-28</td><td>2025-04-10T23:40:17.658+0000</td></tr><tr><td>1052</td><td>2021</td><td>Bahrain Grand Prix</td><td>2021-03-28</td><td>Sakhir</td><td>Kimi Räikkönen</td><td>8</td><td>7</td><td>Finnish</td><td>Alfa Romeo</td><td>14</td><td>45</td><td>+88.864</td><td>0.0</td><td>11</td><td>2021-03-28</td><td>2025-04-10T23:40:17.658+0000</td></tr><tr><td>1052</td><td>2021</td><td>Bahrain Grand Prix</td><td>2021-03-28</td><td>Sakhir</td><td>Fernando Alonso</td><td>4</td><td>14</td><td>Spanish</td><td>Alpine F1 Team</td><td>9</td><td>31</td><td>\\N</td><td>0.0</td><td>null</td><td>2021-03-28</td><td>2025-04-10T23:40:17.658+0000</td></tr><tr><td>1052</td><td>2021</td><td>Bahrain Grand Prix</td><td>2021-03-28</td><td>Sakhir</td><td>Lewis Hamilton</td><td>1</td><td>44</td><td>British</td><td>Mercedes</td><td>2</td><td>44</td><td>1:32:03.897</td><td>25.0</td><td>1</td><td>2021-03-28</td><td>2025-04-10T23:40:17.658+0000</td></tr></tbody></table></div>"
      ]
     },
     "metadata": {
      "application/vnd.databricks.v1+output": {
       "addedWidgets": {},
       "aggData": [],
       "aggError": "",
       "aggOverflow": false,
       "aggSchema": [],
       "aggSeriesLimitReached": false,
       "aggType": "",
       "arguments": {},
       "columnCustomDisplayInfos": {},
       "data": [
        [
         1053,
         2021,
         "Emilia Romagna Grand Prix",
         "2021-04-18",
         "Imola",
         "Mick Schumacher",
         854,
         null,
         "German",
         "Haas F1 Team",
         18,
         58,
         "\\N",
         0.0,
         16,
         "2021-04-18",
         "2025-04-10T23:40:54.560+0000"
        ],
        [
         1053,
         2021,
         "Emilia Romagna Grand Prix",
         "2021-04-18",
         "Imola",
         "Nikita Mazepin",
         853,
         null,
         "Russian",
         "Haas F1 Team",
         19,
         55,
         "\\N",
         0.0,
         17,
         "2021-04-18",
         "2025-04-10T23:40:54.560+0000"
        ],
        [
         1053,
         2021,
         "Emilia Romagna Grand Prix",
         "2021-04-18",
         "Imola",
         "Yuki Tsunoda",
         852,
         null,
         "Japanese",
         "AlphaTauri",
         20,
         49,
         "+73.184",
         0.0,
         12,
         "2021-04-18",
         "2025-04-10T23:40:54.560+0000"
        ],
        [
         1053,
         2021,
         "Emilia Romagna Grand Prix",
         "2021-04-18",
         "Imola",
         "Nicholas Latifi",
         849,
         6,
         "Canadian",
         "Williams",
         14,
         null,
         "\\N",
         0.0,
         null,
         "2021-04-18",
         "2025-04-10T23:40:54.560+0000"
        ],
        [
         1053,
         2021,
         "Emilia Romagna Grand Prix",
         "2021-04-18",
         "Imola",
         "George Russell",
         847,
         63,
         "British",
         "Williams",
         12,
         28,
         "\\N",
         0.0,
         null,
         "2021-04-18",
         "2025-04-10T23:40:54.560+0000"
        ],
        [
         1053,
         2021,
         "Emilia Romagna Grand Prix",
         "2021-04-18",
         "Imola",
         "Lando Norris",
         846,
         4,
         "British",
         "McLaren",
         7,
         63,
         "+23.702",
         15.0,
         3,
         "2021-04-18",
         "2025-04-10T23:40:54.560+0000"
        ],
        [
         1053,
         2021,
         "Emilia Romagna Grand Prix",
         "2021-04-18",
         "Imola",
         "Charles Leclerc",
         844,
         16,
         "Monegasque",
         "Ferrari",
         4,
         60,
         "+25.579",
         12.0,
         4,
         "2021-04-18",
         "2025-04-10T23:40:54.560+0000"
        ],
        [
         1053,
         2021,
         "Emilia Romagna Grand Prix",
         "2021-04-18",
         "Imola",
         "Pierre Gasly",
         842,
         10,
         "French",
         "AlphaTauri",
         5,
         52,
         "+52.818",
         6.0,
         7,
         "2021-04-18",
         "2025-04-10T23:40:54.560+0000"
        ],
        [
         1053,
         2021,
         "Emilia Romagna Grand Prix",
         "2021-04-18",
         "Imola",
         "Antonio Giovinazzi",
         841,
         99,
         "Italian",
         "Alfa Romeo",
         17,
         57,
         "\\N",
         0.0,
         14,
         "2021-04-18",
         "2025-04-10T23:40:54.560+0000"
        ],
        [
         1053,
         2021,
         "Emilia Romagna Grand Prix",
         "2021-04-18",
         "Imola",
         "Lance Stroll",
         840,
         18,
         "Canadian",
         "Aston Martin",
         10,
         59,
         "+56.909",
         4.0,
         8,
         "2021-04-18",
         "2025-04-10T23:40:54.560+0000"
        ],
        [
         1053,
         2021,
         "Emilia Romagna Grand Prix",
         "2021-04-18",
         "Imola",
         "Esteban Ocon",
         839,
         31,
         "French",
         "Alpine F1 Team",
         9,
         62,
         "+65.704",
         2.0,
         9,
         "2021-04-18",
         "2025-04-10T23:40:54.560+0000"
        ],
        [
         1053,
         2021,
         "Emilia Romagna Grand Prix",
         "2021-04-18",
         "Imola",
         "Carlos Sainz",
         832,
         55,
         "Spanish",
         "Ferrari",
         11,
         60,
         "+27.036",
         10.0,
         5,
         "2021-04-18",
         "2025-04-10T23:40:54.560+0000"
        ],
        [
         1053,
         2021,
         "Emilia Romagna Grand Prix",
         "2021-04-18",
         "Imola",
         "Max Verstappen",
         830,
         33,
         "Dutch",
         "Red Bull",
         3,
         60,
         "2:02:34.598",
         25.0,
         1,
         "2021-04-18",
         "2025-04-10T23:40:54.560+0000"
        ],
        [
         1053,
         2021,
         "Emilia Romagna Grand Prix",
         "2021-04-18",
         "Imola",
         "Valtteri Bottas",
         822,
         77,
         "Finnish",
         "Mercedes",
         8,
         30,
         "\\N",
         0.0,
         null,
         "2021-04-18",
         "2025-04-10T23:40:54.560+0000"
        ],
        [
         1053,
         2021,
         "Emilia Romagna Grand Prix",
         "2021-04-18",
         "Imola",
         "Daniel Ricciardo",
         817,
         3,
         "Australian",
         "McLaren",
         6,
         54,
         "+51.220",
         8.0,
         6,
         "2021-04-18",
         "2025-04-10T23:40:54.560+0000"
        ],
        [
         1053,
         2021,
         "Emilia Romagna Grand Prix",
         "2021-04-18",
         "Imola",
         "Sergio Pérez",
         815,
         11,
         "Mexican",
         "Red Bull",
         2,
         62,
         "+67.151",
         0.0,
         11,
         "2021-04-18",
         "2025-04-10T23:40:54.560+0000"
        ],
        [
         1053,
         2021,
         "Emilia Romagna Grand Prix",
         "2021-04-18",
         "Imola",
         "Sebastian Vettel",
         20,
         5,
         "German",
         "Aston Martin",
         0,
         59,
         "\\N",
         0.0,
         15,
         "2021-04-18",
         "2025-04-10T23:40:54.560+0000"
        ],
        [
         1053,
         2021,
         "Emilia Romagna Grand Prix",
         "2021-04-18",
         "Imola",
         "Kimi Räikkönen",
         8,
         7,
         "Finnish",
         "Alfa Romeo",
         16,
         62,
         "+94.773",
         0.0,
         13,
         "2021-04-18",
         "2025-04-10T23:40:54.560+0000"
        ],
        [
         1053,
         2021,
         "Emilia Romagna Grand Prix",
         "2021-04-18",
         "Imola",
         "Fernando Alonso",
         4,
         14,
         "Spanish",
         "Alpine F1 Team",
         15,
         62,
         "+66.561",
         1.0,
         10,
         "2021-04-18",
         "2025-04-10T23:40:54.560+0000"
        ],
        [
         1053,
         2021,
         "Emilia Romagna Grand Prix",
         "2021-04-18",
         "Imola",
         "Lewis Hamilton",
         1,
         44,
         "British",
         "Mercedes",
         1,
         60,
         "+22.000",
         19.0,
         2,
         "2021-04-18",
         "2025-04-10T23:40:54.560+0000"
        ],
        [
         1052,
         2021,
         "Bahrain Grand Prix",
         "2021-03-28",
         "Sakhir",
         "Mick Schumacher",
         854,
         null,
         "German",
         "Haas F1 Team",
         18,
         38,
         "\\N",
         0.0,
         16,
         "2021-03-28",
         "2025-04-10T23:40:17.658+0000"
        ],
        [
         1052,
         2021,
         "Bahrain Grand Prix",
         "2021-03-28",
         "Sakhir",
         "Nikita Mazepin",
         853,
         null,
         "Russian",
         "Haas F1 Team",
         19,
         null,
         "\\N",
         0.0,
         null,
         "2021-03-28",
         "2025-04-10T23:40:17.658+0000"
        ],
        [
         1052,
         2021,
         "Bahrain Grand Prix",
         "2021-03-28",
         "Sakhir",
         "Yuki Tsunoda",
         852,
         null,
         "Japanese",
         "AlphaTauri",
         13,
         38,
         "+85.692",
         2.0,
         9,
         "2021-03-28",
         "2025-04-10T23:40:17.658+0000"
        ],
        [
         1052,
         2021,
         "Bahrain Grand Prix",
         "2021-03-28",
         "Sakhir",
         "Nicholas Latifi",
         849,
         6,
         "Canadian",
         "Williams",
         17,
         16,
         "\\N",
         0.0,
         18,
         "2021-03-28",
         "2025-04-10T23:40:17.658+0000"
        ],
        [
         1052,
         2021,
         "Bahrain Grand Prix",
         "2021-03-28",
         "Sakhir",
         "George Russell",
         847,
         63,
         "British",
         "Williams",
         15,
         40,
         "\\N",
         0.0,
         14,
         "2021-03-28",
         "2025-04-10T23:40:17.658+0000"
        ],
        [
         1052,
         2021,
         "Bahrain Grand Prix",
         "2021-03-28",
         "Sakhir",
         "Lando Norris",
         846,
         4,
         "British",
         "McLaren",
         7,
         38,
         "+46.466",
         12.0,
         4,
         "2021-03-28",
         "2025-04-10T23:40:17.658+0000"
        ],
        [
         1052,
         2021,
         "Bahrain Grand Prix",
         "2021-03-28",
         "Sakhir",
         "Charles Leclerc",
         844,
         16,
         "Monegasque",
         "Ferrari",
         4,
         39,
         "+59.090",
         8.0,
         6,
         "2021-03-28",
         "2025-04-10T23:40:17.658+0000"
        ],
        [
         1052,
         2021,
         "Bahrain Grand Prix",
         "2021-03-28",
         "Sakhir",
         "Pierre Gasly",
         842,
         10,
         "French",
         "AlphaTauri",
         5,
         48,
         "\\N",
         0.0,
         17,
         "2021-03-28",
         "2025-04-10T23:40:17.658+0000"
        ],
        [
         1052,
         2021,
         "Bahrain Grand Prix",
         "2021-03-28",
         "Sakhir",
         "Antonio Giovinazzi",
         841,
         99,
         "Italian",
         "Alfa Romeo",
         12,
         32,
         "\\N",
         0.0,
         12,
         "2021-03-28",
         "2025-04-10T23:40:17.658+0000"
        ],
        [
         1052,
         2021,
         "Bahrain Grand Prix",
         "2021-03-28",
         "Sakhir",
         "Lance Stroll",
         840,
         18,
         "Canadian",
         "Aston Martin",
         10,
         31,
         "+86.713",
         1.0,
         10,
         "2021-03-28",
         "2025-04-10T23:40:17.658+0000"
        ],
        [
         1052,
         2021,
         "Bahrain Grand Prix",
         "2021-03-28",
         "Sakhir",
         "Esteban Ocon",
         839,
         31,
         "French",
         "Alpine F1 Team",
         16,
         33,
         "\\N",
         0.0,
         13,
         "2021-03-28",
         "2025-04-10T23:40:17.658+0000"
        ],
        [
         1052,
         2021,
         "Bahrain Grand Prix",
         "2021-03-28",
         "Sakhir",
         "Carlos Sainz",
         832,
         55,
         "Spanish",
         "Ferrari",
         8,
         48,
         "+67.100",
         4.0,
         8,
         "2021-03-28",
         "2025-04-10T23:40:17.658+0000"
        ],
        [
         1052,
         2021,
         "Bahrain Grand Prix",
         "2021-03-28",
         "Sakhir",
         "Max Verstappen",
         830,
         33,
         "Dutch",
         "Red Bull",
         1,
         41,
         "+0.745",
         18.0,
         2,
         "2021-03-28",
         "2025-04-10T23:40:17.658+0000"
        ],
        [
         1052,
         2021,
         "Bahrain Grand Prix",
         "2021-03-28",
         "Sakhir",
         "Valtteri Bottas",
         822,
         77,
         "Finnish",
         "Mercedes",
         3,
         56,
         "+37.383",
         16.0,
         3,
         "2021-03-28",
         "2025-04-10T23:40:17.658+0000"
        ],
        [
         1052,
         2021,
         "Bahrain Grand Prix",
         "2021-03-28",
         "Sakhir",
         "Daniel Ricciardo",
         817,
         3,
         "Australian",
         "McLaren",
         6,
         36,
         "+66.004",
         6.0,
         7,
         "2021-03-28",
         "2025-04-10T23:40:17.658+0000"
        ],
        [
         1052,
         2021,
         "Bahrain Grand Prix",
         "2021-03-28",
         "Sakhir",
         "Sergio Pérez",
         815,
         11,
         "Mexican",
         "Red Bull",
         0,
         44,
         "+52.047",
         10.0,
         5,
         "2021-03-28",
         "2025-04-10T23:40:17.658+0000"
        ],
        [
         1052,
         2021,
         "Bahrain Grand Prix",
         "2021-03-28",
         "Sakhir",
         "Sebastian Vettel",
         20,
         5,
         "German",
         "Aston Martin",
         20,
         26,
         "\\N",
         0.0,
         15,
         "2021-03-28",
         "2025-04-10T23:40:17.658+0000"
        ],
        [
         1052,
         2021,
         "Bahrain Grand Prix",
         "2021-03-28",
         "Sakhir",
         "Kimi Räikkönen",
         8,
         7,
         "Finnish",
         "Alfa Romeo",
         14,
         45,
         "+88.864",
         0.0,
         11,
         "2021-03-28",
         "2025-04-10T23:40:17.658+0000"
        ],
        [
         1052,
         2021,
         "Bahrain Grand Prix",
         "2021-03-28",
         "Sakhir",
         "Fernando Alonso",
         4,
         14,
         "Spanish",
         "Alpine F1 Team",
         9,
         31,
         "\\N",
         0.0,
         null,
         "2021-03-28",
         "2025-04-10T23:40:17.658+0000"
        ],
        [
         1052,
         2021,
         "Bahrain Grand Prix",
         "2021-03-28",
         "Sakhir",
         "Lewis Hamilton",
         1,
         44,
         "British",
         "Mercedes",
         2,
         44,
         "1:32:03.897",
         25.0,
         1,
         "2021-03-28",
         "2025-04-10T23:40:17.658+0000"
        ]
       ],
       "datasetInfos": [],
       "dbfsResultPath": null,
       "isJsonSchema": true,
       "metadata": {},
       "overflow": false,
       "plotOptions": {
        "customPlotOptions": {},
        "displayType": "table",
        "pivotAggregation": null,
        "pivotColumns": null,
        "xColumns": null,
        "yColumns": null
       },
       "removedWidgets": [],
       "schema": [
        {
         "metadata": "{}",
         "name": "race_id",
         "type": "\"integer\""
        },
        {
         "metadata": "{}",
         "name": "race_year",
         "type": "\"integer\""
        },
        {
         "metadata": "{}",
         "name": "race_name",
         "type": "\"string\""
        },
        {
         "metadata": "{}",
         "name": "race_date",
         "type": "\"date\""
        },
        {
         "metadata": "{}",
         "name": "circuit_location",
         "type": "\"string\""
        },
        {
         "metadata": "{}",
         "name": "driver_name",
         "type": "\"string\""
        },
        {
         "metadata": "{}",
         "name": "driver_id",
         "type": "\"integer\""
        },
        {
         "metadata": "{}",
         "name": "driver_number",
         "type": "\"integer\""
        },
        {
         "metadata": "{}",
         "name": "driver_nationality",
         "type": "\"string\""
        },
        {
         "metadata": "{}",
         "name": "team",
         "type": "\"string\""
        },
        {
         "metadata": "{}",
         "name": "grid",
         "type": "\"integer\""
        },
        {
         "metadata": "{}",
         "name": "fastest_lap",
         "type": "\"integer\""
        },
        {
         "metadata": "{}",
         "name": "race_time",
         "type": "\"string\""
        },
        {
         "metadata": "{}",
         "name": "points",
         "type": "\"float\""
        },
        {
         "metadata": "{}",
         "name": "position",
         "type": "\"integer\""
        },
        {
         "metadata": "{}",
         "name": "file_date",
         "type": "\"string\""
        },
        {
         "metadata": "{}",
         "name": "current_date",
         "type": "\"timestamp\""
        }
       ],
       "type": "table"
      }
     },
     "output_type": "display_data"
    }
   ],
   "source": [
    "display(race_results_df)"
   ]
  },
  {
   "cell_type": "code",
   "execution_count": 0,
   "metadata": {
    "application/vnd.databricks.v1+cell": {
     "cellMetadata": {
      "byteLimit": 2048000,
      "rowLimit": 10000
     },
     "inputWidgets": {},
     "nuid": "cc70bf73-e050-4ff0-997c-449c84e4391b",
     "showTitle": false,
     "tableResultSettingsMap": {},
     "title": ""
    }
   },
   "outputs": [],
   "source": [
    "from pyspark.sql.functions import sum, when, col, count, desc , rank\n",
    "from pyspark.sql.window import Window"
   ]
  },
  {
   "cell_type": "code",
   "execution_count": 0,
   "metadata": {
    "application/vnd.databricks.v1+cell": {
     "cellMetadata": {
      "byteLimit": 2048000,
      "rowLimit": 10000
     },
     "inputWidgets": {},
     "nuid": "cb1ce47f-155f-4da5-837a-51dd263c0988",
     "showTitle": false,
     "tableResultSettingsMap": {},
     "title": ""
    }
   },
   "outputs": [],
   "source": [
    "driver_standings_df = race_results_df\\\n",
    "    .groupBy( \"race_year\",\"driver_name\",\"driver_id\",\"driver_nationality\")\\\n",
    "        .agg(sum(\"points\").alias(\"total_points\"),\n",
    "             count(when(col(\"position\") == 1, True)).alias(\"wins\"))"
   ]
  },
  {
   "cell_type": "code",
   "execution_count": 0,
   "metadata": {
    "application/vnd.databricks.v1+cell": {
     "cellMetadata": {
      "byteLimit": 2048000,
      "rowLimit": 10000
     },
     "inputWidgets": {},
     "nuid": "6a0b5aba-d8a2-49f9-b87a-e008e705ece0",
     "showTitle": false,
     "tableResultSettingsMap": {},
     "title": ""
    }
   },
   "outputs": [
    {
     "output_type": "display_data",
     "data": {
      "text/html": [
       "<style scoped>\n",
       "  .table-result-container {\n",
       "    max-height: 300px;\n",
       "    overflow: auto;\n",
       "  }\n",
       "  table, th, td {\n",
       "    border: 1px solid black;\n",
       "    border-collapse: collapse;\n",
       "  }\n",
       "  th, td {\n",
       "    padding: 5px;\n",
       "  }\n",
       "  th {\n",
       "    text-align: left;\n",
       "  }\n",
       "</style><div class='table-result-container'><table class='table-result'><thead style='background-color: white'><tr><th>race_year</th><th>driver_name</th><th>driver_id</th><th>driver_nationality</th><th>total_points</th><th>wins</th></tr></thead><tbody></tbody></table></div>"
      ]
     },
     "metadata": {
      "application/vnd.databricks.v1+output": {
       "addedWidgets": {},
       "aggData": [],
       "aggError": "",
       "aggOverflow": false,
       "aggSchema": [],
       "aggSeriesLimitReached": false,
       "aggType": "",
       "arguments": {},
       "columnCustomDisplayInfos": {},
       "data": [],
       "datasetInfos": [],
       "dbfsResultPath": null,
       "isJsonSchema": true,
       "metadata": {},
       "overflow": false,
       "plotOptions": {
        "customPlotOptions": {},
        "displayType": "table",
        "pivotAggregation": null,
        "pivotColumns": null,
        "xColumns": null,
        "yColumns": null
       },
       "removedWidgets": [],
       "schema": [
        {
         "metadata": "{}",
         "name": "race_year",
         "type": "\"integer\""
        },
        {
         "metadata": "{}",
         "name": "driver_name",
         "type": "\"string\""
        },
        {
         "metadata": "{}",
         "name": "driver_id",
         "type": "\"integer\""
        },
        {
         "metadata": "{}",
         "name": "driver_nationality",
         "type": "\"string\""
        },
        {
         "metadata": "{}",
         "name": "total_points",
         "type": "\"double\""
        },
        {
         "metadata": "{}",
         "name": "wins",
         "type": "\"long\""
        }
       ],
       "type": "table"
      }
     },
     "output_type": "display_data"
    }
   ],
   "source": [
    "display(driver_standings_df.filter(\"race_year=2020\"))"
   ]
  },
  {
   "cell_type": "code",
   "execution_count": 0,
   "metadata": {
    "application/vnd.databricks.v1+cell": {
     "cellMetadata": {
      "byteLimit": 2048000,
      "rowLimit": 10000
     },
     "inputWidgets": {},
     "nuid": "a40dd2c7-da6b-4686-a04d-da85c8a11a4b",
     "showTitle": false,
     "tableResultSettingsMap": {},
     "title": ""
    }
   },
   "outputs": [],
   "source": [
    "driver_rank_spec = Window.partitionBy(\"race_year\").orderBy(desc(\"total_points\"), desc (\"wins\"))\n",
    "driver_standings_df = driver_standings_df.withColumn(\"driver_rank\", rank().over(driver_rank_spec))  "
   ]
  },
  {
   "cell_type": "code",
   "execution_count": 0,
   "metadata": {
    "application/vnd.databricks.v1+cell": {
     "cellMetadata": {
      "byteLimit": 2048000,
      "rowLimit": 10000
     },
     "inputWidgets": {},
     "nuid": "9ab57b7b-5511-4f2a-82e0-6bf3c07f4809",
     "showTitle": false,
     "tableResultSettingsMap": {},
     "title": ""
    }
   },
   "outputs": [
    {
     "output_type": "display_data",
     "data": {
      "text/html": [
       "<style scoped>\n",
       "  .table-result-container {\n",
       "    max-height: 300px;\n",
       "    overflow: auto;\n",
       "  }\n",
       "  table, th, td {\n",
       "    border: 1px solid black;\n",
       "    border-collapse: collapse;\n",
       "  }\n",
       "  th, td {\n",
       "    padding: 5px;\n",
       "  }\n",
       "  th {\n",
       "    text-align: left;\n",
       "  }\n",
       "</style><div class='table-result-container'><table class='table-result'><thead style='background-color: white'><tr><th>race_year</th><th>driver_name</th><th>driver_id</th><th>driver_nationality</th><th>total_points</th><th>wins</th><th>driver_rank</th></tr></thead><tbody></tbody></table></div>"
      ]
     },
     "metadata": {
      "application/vnd.databricks.v1+output": {
       "addedWidgets": {},
       "aggData": [],
       "aggError": "",
       "aggOverflow": false,
       "aggSchema": [],
       "aggSeriesLimitReached": false,
       "aggType": "",
       "arguments": {},
       "columnCustomDisplayInfos": {},
       "data": [],
       "datasetInfos": [],
       "dbfsResultPath": null,
       "isJsonSchema": true,
       "metadata": {},
       "overflow": false,
       "plotOptions": {
        "customPlotOptions": {},
        "displayType": "table",
        "pivotAggregation": null,
        "pivotColumns": null,
        "xColumns": null,
        "yColumns": null
       },
       "removedWidgets": [],
       "schema": [
        {
         "metadata": "{}",
         "name": "race_year",
         "type": "\"integer\""
        },
        {
         "metadata": "{}",
         "name": "driver_name",
         "type": "\"string\""
        },
        {
         "metadata": "{}",
         "name": "driver_id",
         "type": "\"integer\""
        },
        {
         "metadata": "{}",
         "name": "driver_nationality",
         "type": "\"string\""
        },
        {
         "metadata": "{}",
         "name": "total_points",
         "type": "\"double\""
        },
        {
         "metadata": "{}",
         "name": "wins",
         "type": "\"long\""
        },
        {
         "metadata": "{}",
         "name": "driver_rank",
         "type": "\"integer\""
        }
       ],
       "type": "table"
      }
     },
     "output_type": "display_data"
    }
   ],
   "source": [
    "display(driver_standings_df.filter(\"race_year=2020\"))"
   ]
  },
  {
   "cell_type": "code",
   "execution_count": 0,
   "metadata": {
    "application/vnd.databricks.v1+cell": {
     "cellMetadata": {
      "byteLimit": 2048000,
      "rowLimit": 10000
     },
     "inputWidgets": {},
     "nuid": "c13b546b-f3da-41e4-b701-766ae8d608d7",
     "showTitle": false,
     "tableResultSettingsMap": {},
     "title": ""
    }
   },
   "outputs": [],
   "source": [
    "#1 driver_standings_df.write.mode(\"overwrite\").parquet(F\"{presentation_folder_path}/driver_standings\")\n",
    "##2 driver_standings_df.write.mode(\"overwrite\").format(\"parquet\").saveAsTable(\"f1_presentation.driver_standings\")\n",
    "#3 overwrite_partition(driver_standings_df, \"f1_presentation\", \"driver_standings\", \"race_year\")"
   ]
  },
  {
   "cell_type": "code",
   "execution_count": 0,
   "metadata": {
    "application/vnd.databricks.v1+cell": {
     "cellMetadata": {
      "byteLimit": 2048000,
      "rowLimit": 10000
     },
     "inputWidgets": {},
     "nuid": "0515cf84-e6ca-4ba6-8a71-271d006b7624",
     "showTitle": false,
     "tableResultSettingsMap": {},
     "title": ""
    }
   },
   "outputs": [],
   "source": [
    "merge_condition =\"tgt.driver_id =src.driver_id AND tgt.race_year = src.race_year\"\n",
    "merge_delta_data (driver_standings_df,\"f1_presentation\", \"driver_standings\",presentation_folder_path,merge_condition,\"race_year\")"
   ]
  },
  {
   "cell_type": "code",
   "execution_count": 0,
   "metadata": {
    "application/vnd.databricks.v1+cell": {
     "cellMetadata": {
      "byteLimit": 2048000,
      "implicitDf": true,
      "rowLimit": 10000
     },
     "inputWidgets": {},
     "nuid": "de8b9cc5-f1fb-495c-81b5-8dcb6d2ad1eb",
     "showTitle": false,
     "tableResultSettingsMap": {},
     "title": ""
    }
   },
   "outputs": [
    {
     "output_type": "display_data",
     "data": {
      "text/html": [
       "<style scoped>\n",
       "  .table-result-container {\n",
       "    max-height: 300px;\n",
       "    overflow: auto;\n",
       "  }\n",
       "  table, th, td {\n",
       "    border: 1px solid black;\n",
       "    border-collapse: collapse;\n",
       "  }\n",
       "  th, td {\n",
       "    padding: 5px;\n",
       "  }\n",
       "  th {\n",
       "    text-align: left;\n",
       "  }\n",
       "</style><div class='table-result-container'><table class='table-result'><thead style='background-color: white'><tr><th>race_year</th><th>driver_name</th><th>driver_id</th><th>driver_nationality</th><th>total_points</th><th>wins</th><th>driver_rank</th></tr></thead><tbody><tr><td>1952</td><td>Alberto Ascari</td><td>647</td><td>Italian</td><td>53.5</td><td>6</td><td>1</td></tr><tr><td>1952</td><td>Nino Farina</td><td>642</td><td>Italian</td><td>27.0</td><td>0</td><td>2</td></tr><tr><td>1952</td><td>Piero Taruffi</td><td>641</td><td>Italian</td><td>22.0</td><td>1</td><td>3</td></tr><tr><td>1952</td><td>Rudi Fischer</td><td>723</td><td>Swiss</td><td>10.0</td><td>0</td><td>4</td></tr><tr><td>1952</td><td>Mike Hawthorn</td><td>578</td><td>British</td><td>10.0</td><td>0</td><td>4</td></tr><tr><td>1952</td><td>Robert Manzon</td><td>626</td><td>French</td><td>9.0</td><td>0</td><td>6</td></tr><tr><td>1952</td><td>Troy Ruttman</td><td>526</td><td>American</td><td>8.0</td><td>1</td><td>7</td></tr><tr><td>1952</td><td>Luigi Villoresi</td><td>633</td><td>Italian</td><td>8.0</td><td>0</td><td>8</td></tr><tr><td>1952</td><td>José Froilán González</td><td>498</td><td>Argentine</td><td>6.5</td><td>0</td><td>9</td></tr><tr><td>1952</td><td>Jean Behra</td><td>554</td><td>French</td><td>6.0</td><td>0</td><td>10</td></tr><tr><td>1952</td><td>Jim Rathmann</td><td>509</td><td>American</td><td>6.0</td><td>0</td><td>10</td></tr><tr><td>1952</td><td>Sam Hanks</td><td>611</td><td>American</td><td>4.0</td><td>0</td><td>12</td></tr><tr><td>1952</td><td>Ken Wharton</td><td>663</td><td>British</td><td>3.0</td><td>0</td><td>13</td></tr><tr><td>1952</td><td>Dennis Poore</td><td>742</td><td>British</td><td>3.0</td><td>0</td><td>13</td></tr><tr><td>1952</td><td>Duane Carter</td><td>518</td><td>American</td><td>3.0</td><td>0</td><td>13</td></tr><tr><td>1952</td><td>Alan Brown</td><td>689</td><td>British</td><td>2.0</td><td>0</td><td>16</td></tr><tr><td>1952</td><td>Felice Bonetto</td><td>697</td><td>Italian</td><td>2.0</td><td>0</td><td>16</td></tr><tr><td>1952</td><td>Maurice Trintignant</td><td>427</td><td>French</td><td>2.0</td><td>0</td><td>16</td></tr><tr><td>1952</td><td>Art Cross</td><td>656</td><td>American</td><td>2.0</td><td>0</td><td>16</td></tr><tr><td>1952</td><td>Eric Thompson</td><td>743</td><td>British</td><td>2.0</td><td>0</td><td>16</td></tr><tr><td>1952</td><td>Paul Frère</td><td>632</td><td>Belgian</td><td>2.0</td><td>0</td><td>16</td></tr><tr><td>1952</td><td>Bill Vukovich</td><td>657</td><td>American</td><td>1.0</td><td>0</td><td>22</td></tr><tr><td>1952</td><td>Piero Dusio</td><td>760</td><td>Italian</td><td>0.0</td><td>0</td><td>23</td></tr><tr><td>1952</td><td>Toulo de Graffenried</td><td>640</td><td>Swiss</td><td>0.0</td><td>0</td><td>23</td></tr><tr><td>1952</td><td>Eric Brandon</td><td>688</td><td>British</td><td>0.0</td><td>0</td><td>23</td></tr><tr><td>1952</td><td>Lance Macklin</td><td>651</td><td>British</td><td>0.0</td><td>0</td><td>23</td></tr><tr><td>1952</td><td>Eitel Cantoni</td><td>748</td><td>Uruguayan</td><td>0.0</td><td>0</td><td>23</td></tr><tr><td>1952</td><td>Charles de Tornaco</td><td>735</td><td>Belgian</td><td>0.0</td><td>0</td><td>23</td></tr><tr><td>1952</td><td>Gino Bianco</td><td>746</td><td>Brazilian</td><td>0.0</td><td>0</td><td>23</td></tr><tr><td>1952</td><td>Hans von Stuck</td><td>717</td><td>German</td><td>0.0</td><td>0</td><td>23</td></tr><tr><td>1952</td><td>Louis Rosier</td><td>627</td><td>French</td><td>0.0</td><td>0</td><td>23</td></tr><tr><td>1952</td><td>Élie Bayol</td><td>625</td><td>French</td><td>0.0</td><td>0</td><td>23</td></tr><tr><td>1952</td><td>Peter Whitehead</td><td>687</td><td>British</td><td>0.0</td><td>0</td><td>23</td></tr><tr><td>1952</td><td>Franco Rol</td><td>762</td><td>Italian</td><td>0.0</td><td>0</td><td>23</td></tr><tr><td>1952</td><td>Stirling Moss</td><td>475</td><td>British</td><td>0.0</td><td>0</td><td>23</td></tr><tr><td>1952</td><td>Tony Gaze</td><td>738</td><td>Australian</td><td>0.0</td><td>0</td><td>23</td></tr><tr><td>1952</td><td>André Simon</td><td>609</td><td>French</td><td>0.0</td><td>0</td><td>23</td></tr><tr><td>1952</td><td>Johnny Claes</td><td>660</td><td>Belgian</td><td>0.0</td><td>0</td><td>23</td></tr><tr><td>1952</td><td>Peter Collins</td><td>581</td><td>British</td><td>0.0</td><td>0</td><td>23</td></tr><tr><td>1952</td><td>Alberto Crespo</td><td>761</td><td>Argentine</td><td>0.0</td><td>0</td><td>23</td></tr><tr><td>1952</td><td>Kenneth McAlpine</td><td>664</td><td>British</td><td>0.0</td><td>0</td><td>23</td></tr><tr><td>1952</td><td>Bill Aston</td><td>749</td><td>British</td><td>0.0</td><td>0</td><td>23</td></tr><tr><td>1952</td><td>Chico Landi</td><td>622</td><td>Brazilian</td><td>0.0</td><td>0</td><td>23</td></tr><tr><td>1952</td><td>Bob Sweikert</td><td>628</td><td>American</td><td>0.0</td><td>0</td><td>23</td></tr><tr><td>1952</td><td>Tony Crook</td><td>705</td><td>British</td><td>0.0</td><td>0</td><td>23</td></tr><tr><td>1952</td><td>Chet Miller</td><td>733</td><td>American</td><td>0.0</td><td>0</td><td>23</td></tr><tr><td>1952</td><td>Rodger Ward</td><td>449</td><td>American</td><td>0.0</td><td>0</td><td>23</td></tr><tr><td>1952</td><td>Johnnie Parsons</td><td>593</td><td>American</td><td>0.0</td><td>0</td><td>23</td></tr><tr><td>1952</td><td>Peter Hirt</td><td>721</td><td>Swiss</td><td>0.0</td><td>0</td><td>23</td></tr><tr><td>1952</td><td>Jack McGrath</td><td>658</td><td>American</td><td>0.0</td><td>0</td><td>23</td></tr><tr><td>1952</td><td>Graham Whitehead</td><td>745</td><td>British</td><td>0.0</td><td>0</td><td>23</td></tr><tr><td>1952</td><td>David Murray</td><td>747</td><td>British</td><td>0.0</td><td>0</td><td>23</td></tr><tr><td>1952</td><td>George Connor</td><td>726</td><td>American</td><td>0.0</td><td>0</td><td>23</td></tr><tr><td>1952</td><td>Fred Agabashian</td><td>615</td><td>American</td><td>0.0</td><td>0</td><td>23</td></tr><tr><td>1952</td><td>Chuck Stevenson</td><td>521</td><td>American</td><td>0.0</td><td>0</td><td>23</td></tr><tr><td>1952</td><td>Johnny McDowell</td><td>732</td><td>American</td><td>0.0</td><td>0</td><td>23</td></tr><tr><td>1952</td><td>Joe James</td><td>728</td><td>American</td><td>0.0</td><td>0</td><td>23</td></tr><tr><td>1952</td><td>Duncan Hamilton</td><td>708</td><td>British</td><td>0.0</td><td>0</td><td>23</td></tr><tr><td>1952</td><td>Jimmy Bryan</td><td>525</td><td>American</td><td>0.0</td><td>0</td><td>23</td></tr><tr><td>1952</td><td>Tony Bettenhausen</td><td>529</td><td>American</td><td>0.0</td><td>0</td><td>23</td></tr><tr><td>1952</td><td>Eddie Johnson</td><td>513</td><td>American</td><td>0.0</td><td>0</td><td>23</td></tr><tr><td>1952</td><td>Bill Schindler</td><td>729</td><td>American</td><td>0.0</td><td>0</td><td>23</td></tr><tr><td>1952</td><td>Bobby Ball</td><td>734</td><td>American</td><td>0.0</td><td>0</td><td>23</td></tr><tr><td>1952</td><td>Travis Webb</td><td>677</td><td>American</td><td>0.0</td><td>0</td><td>23</td></tr><tr><td>1952</td><td>Henry Banks</td><td>731</td><td>American</td><td>0.0</td><td>0</td><td>23</td></tr><tr><td>1952</td><td>Cliff Griffith</td><td>629</td><td>American</td><td>0.0</td><td>0</td><td>23</td></tr><tr><td>1952</td><td>Gene Hartley</td><td>520</td><td>American</td><td>0.0</td><td>0</td><td>23</td></tr><tr><td>1952</td><td>Manny Ayulo</td><td>675</td><td>American</td><td>0.0</td><td>0</td><td>23</td></tr><tr><td>1952</td><td>Andy Linden</td><td>612</td><td>American</td><td>0.0</td><td>0</td><td>23</td></tr><tr><td>1952</td><td>Duke Nalon</td><td>699</td><td>American</td><td>0.0</td><td>0</td><td>23</td></tr><tr><td>1952</td><td>George Fonder</td><td>730</td><td>American</td><td>0.0</td><td>0</td><td>23</td></tr><tr><td>1952</td><td>Bob Scott</td><td>702</td><td>American</td><td>0.0</td><td>0</td><td>23</td></tr><tr><td>1952</td><td>Roy Salvadori</td><td>456</td><td>British</td><td>0.0</td><td>0</td><td>23</td></tr><tr><td>1952</td><td>Jim Rigsby</td><td>727</td><td>American</td><td>0.0</td><td>0</td><td>23</td></tr><tr><td>1952</td><td>Prince Bira</td><td>669</td><td>Thai</td><td>0.0</td><td>0</td><td>23</td></tr><tr><td>1952</td><td>Jimmy Reece</td><td>592</td><td>American</td><td>0.0</td><td>0</td><td>23</td></tr><tr><td>1952</td><td>Reg Parnell</td><td>686</td><td>British</td><td>0.0</td><td>0</td><td>23</td></tr><tr><td>1952</td><td>Ken Downing</td><td>744</td><td>British</td><td>0.0</td><td>0</td><td>23</td></tr><tr><td>1952</td><td>Harry Schell</td><td>501</td><td>American</td><td>0.0</td><td>0</td><td>23</td></tr><tr><td>1952</td><td>Paul Pietsch</td><td>756</td><td>German</td><td>0.0</td><td>0</td><td>23</td></tr><tr><td>1952</td><td>Helmut Niedermayr</td><td>752</td><td>German</td><td>0.0</td><td>0</td><td>23</td></tr><tr><td>1952</td><td>Roger Laurent</td><td>736</td><td>Belgian</td><td>0.0</td><td>0</td><td>23</td></tr><tr><td>1952</td><td>Fritz Riess</td><td>751</td><td>German</td><td>0.0</td><td>0</td><td>23</td></tr><tr><td>1952</td><td>Ernst Klodwig</td><td>709</td><td>East German</td><td>0.0</td><td>0</td><td>23</td></tr><tr><td>1952</td><td>Theo Helfrich</td><td>692</td><td>German</td><td>0.0</td><td>0</td><td>23</td></tr><tr><td>1952</td><td>Marcel Balsa</td><td>754</td><td>French</td><td>0.0</td><td>0</td><td>23</td></tr><tr><td>1952</td><td>Adolf Brudes</td><td>750</td><td>German</td><td>0.0</td><td>0</td><td>23</td></tr><tr><td>1952</td><td>Willi Heeks</td><td>712</td><td>German</td><td>0.0</td><td>0</td><td>23</td></tr><tr><td>1952</td><td>Josef Peters</td><td>757</td><td>German</td><td>0.0</td><td>0</td><td>23</td></tr><tr><td>1952</td><td>Rudolf Krause</td><td>710</td><td>East German</td><td>0.0</td><td>0</td><td>23</td></tr><tr><td>1952</td><td>Günther Bechem</td><td>715</td><td>German</td><td>0.0</td><td>0</td><td>23</td></tr><tr><td>1952</td><td>Piero Carini</td><td>722</td><td>Italian</td><td>0.0</td><td>0</td><td>23</td></tr><tr><td>1952</td><td>Toni Ulmen</td><td>724</td><td>German</td><td>0.0</td><td>0</td><td>23</td></tr><tr><td>1952</td><td>Rudolf Schoeller</td><td>755</td><td>Swiss</td><td>0.0</td><td>0</td><td>23</td></tr><tr><td>1952</td><td>Hans Klenk</td><td>753</td><td>German</td><td>0.0</td><td>0</td><td>23</td></tr><tr><td>1952</td><td>Robert O'Brien</td><td>737</td><td>American</td><td>0.0</td><td>0</td><td>23</td></tr><tr><td>1952</td><td>Arthur Legat</td><td>703</td><td>Belgian</td><td>0.0</td><td>0</td><td>23</td></tr><tr><td>1952</td><td>Robin Montgomerie-Charrington</td><td>739</td><td>British</td><td>0.0</td><td>0</td><td>23</td></tr><tr><td>1952</td><td>Franco Comotti</td><td>740</td><td>Italian</td><td>0.0</td><td>0</td><td>23</td></tr><tr><td>1952</td><td>Max de Terra</td><td>720</td><td>Swiss</td><td>0.0</td><td>0</td><td>23</td></tr><tr><td>1952</td><td>Yves Cabantous</td><td>704</td><td>French</td><td>0.0</td><td>0</td><td>23</td></tr><tr><td>1952</td><td>Philippe Étancelin</td><td>741</td><td>French</td><td>0.0</td><td>0</td><td>23</td></tr><tr><td>1952</td><td>Jan Flinterman</td><td>759</td><td>Dutch</td><td>0.0</td><td>0</td><td>23</td></tr><tr><td>1952</td><td>George Abecassis</td><td>725</td><td>British</td><td>0.0</td><td>0</td><td>23</td></tr><tr><td>1952</td><td>Dries van der Lof</td><td>758</td><td>Dutch</td><td>0.0</td><td>0</td><td>23</td></tr><tr><td>1953</td><td>Alberto Ascari</td><td>647</td><td>Italian</td><td>45.5</td><td>5</td><td>1</td></tr><tr><td>1953</td><td>Nino Farina</td><td>642</td><td>Italian</td><td>32.0</td><td>1</td><td>2</td></tr><tr><td>1953</td><td>Juan Fangio</td><td>579</td><td>Argentine</td><td>29.5</td><td>1</td><td>3</td></tr><tr><td>1953</td><td>Mike Hawthorn</td><td>578</td><td>British</td><td>27.0</td><td>1</td><td>4</td></tr><tr><td>1953</td><td>Luigi Villoresi</td><td>633</td><td>Italian</td><td>17.0</td><td>0</td><td>5</td></tr><tr><td>1953</td><td>José Froilán González</td><td>498</td><td>Argentine</td><td>12.5</td><td>0</td><td>6</td></tr><tr><td>1953</td><td>Bill Vukovich</td><td>657</td><td>American</td><td>9.0</td><td>1</td><td>7</td></tr><tr><td>1953</td><td>Toulo de Graffenried</td><td>640</td><td>Swiss</td><td>7.0</td><td>0</td><td>8</td></tr><tr><td>1953</td><td>Art Cross</td><td>656</td><td>American</td><td>6.0</td><td>0</td><td>9</td></tr><tr><td>1953</td><td>Felice Bonetto</td><td>697</td><td>Italian</td><td>5.0</td><td>0</td><td>10</td></tr><tr><td>1953</td><td>Maurice Trintignant</td><td>427</td><td>French</td><td>4.0</td><td>0</td><td>11</td></tr><tr><td>1953</td><td>Onofre Marimón</td><td>670</td><td>Argentine</td><td>4.0</td><td>0</td><td>11</td></tr><tr><td>1953</td><td>Sam Hanks</td><td>611</td><td>American</td><td>2.0</td><td>0</td><td>13</td></tr><tr><td>1953</td><td>Jack McGrath</td><td>658</td><td>American</td><td>2.0</td><td>0</td><td>13</td></tr><tr><td>1953</td><td>Oscar Gálvez</td><td>695</td><td>Argentine</td><td>2.0</td><td>0</td><td>13</td></tr><tr><td>1953</td><td>Hermann Lang</td><td>691</td><td>German</td><td>2.0</td><td>0</td><td>13</td></tr><tr><td>1953</td><td>Fred Agabashian</td><td>615</td><td>American</td><td>1.5</td><td>0</td><td>17</td></tr><tr><td>1953</td><td>Don Freeland</td><td>528</td><td>American</td><td>0.0</td><td>0</td><td>18</td></tr><tr><td>1953</td><td>Travis Webb</td><td>677</td><td>American</td><td>0.0</td><td>0</td><td>18</td></tr><tr><td>1953</td><td>Andy Linden</td><td>612</td><td>American</td><td>0.0</td><td>0</td><td>18</td></tr><tr><td>1953</td><td>Jackie Holmes</td><td>797</td><td>American</td><td>0.0</td><td>0</td><td>18</td></tr><tr><td>1953</td><td>Bob Scott</td><td>702</td><td>American</td><td>0.0</td><td>0</td><td>18</td></tr><tr><td>1953</td><td>Pat Flaherty</td><td>559</td><td>American</td><td>0.0</td><td>0</td><td>18</td></tr><tr><td>1953</td><td>Rodney Nuckey</td><td>690</td><td>British</td><td>0.0</td><td>0</td><td>18</td></tr><tr><td>1953</td><td>Bill Holland</td><td>701</td><td>American</td><td>0.0</td><td>0</td><td>18</td></tr><tr><td>1953</td><td>Kenneth McAlpine</td><td>664</td><td>British</td><td>0.0</td><td>0</td><td>18</td></tr><tr><td>1953</td><td>Jimmy Bryan</td><td>525</td><td>American</td><td>0.0</td><td>0</td><td>18</td></tr><tr><td>1953</td><td>Gene Hartley</td><td>520</td><td>American</td><td>0.0</td><td>0</td><td>18</td></tr><tr><td>1953</td><td>Manny Ayulo</td><td>675</td><td>American</td><td>0.0</td><td>0</td><td>18</td></tr><tr><td>1953</td><td>Johnny Claes</td><td>660</td><td>Belgian</td><td>0.0</td><td>0</td><td>18</td></tr><tr><td>1953</td><td>Jimmy Davies</td><td>653</td><td>American</td><td>0.0</td><td>0</td><td>18</td></tr><tr><td>1953</td><td>Rodger Ward</td><td>449</td><td>American</td><td>0.0</td><td>0</td><td>18</td></tr><tr><td>1953</td><td>Walt Faulkner</td><td>654</td><td>American</td><td>0.0</td><td>0</td><td>18</td></tr><tr><td>1953</td><td>Harry Schell</td><td>501</td><td>American</td><td>0.0</td><td>0</td><td>18</td></tr><tr><td>1953</td><td>Johnny Thomson</td><td>512</td><td>American</td><td>0.0</td><td>0</td><td>18</td></tr><tr><td>1953</td><td>Duane Carter</td><td>518</td><td>American</td><td>0.0</td><td>0</td><td>18</td></tr><tr><td>1953</td><td>Prince Bira</td><td>669</td><td>Thai</td><td>0.0</td><td>0</td><td>18</td></tr><tr><td>1953</td><td>Paul Russo</td><td>555</td><td>American</td><td>0.0</td><td>0</td><td>18</td></tr><tr><td>1953</td><td>Kurt Adolff</td><td>714</td><td>German</td><td>0.0</td><td>0</td><td>18</td></tr><tr><td>1953</td><td>Edgar Barth</td><td>431</td><td>German</td><td>0.0</td><td>0</td><td>18</td></tr><tr><td>1953</td><td>Ernst Klodwig</td><td>709</td><td>East German</td><td>0.0</td><td>0</td><td>18</td></tr><tr><td>1953</td><td>Marshall Teague</td><td>613</td><td>American</td><td>0.0</td><td>0</td><td>18</td></tr><tr><td>1953</td><td>Tony Bettenhausen</td><td>529</td><td>American</td><td>0.0</td><td>0</td><td>18</td></tr><tr><td>1953</td><td>Wolfgang Seidel</td><td>455</td><td>German</td><td>0.0</td><td>0</td><td>18</td></tr><tr><td>1953</td><td>Hans Herrmann</td><td>478</td><td>German</td><td>0.0</td><td>0</td><td>18</td></tr><tr><td>1953</td><td>Jean Behra</td><td>554</td><td>French</td><td>0.0</td><td>0</td><td>18</td></tr><tr><td>1953</td><td>Duke Dinsmore</td><td>630</td><td>American</td><td>0.0</td><td>0</td><td>18</td></tr><tr><td>1953</td><td>Willi Heeks</td><td>712</td><td>German</td><td>0.0</td><td>0</td><td>18</td></tr><tr><td>1953</td><td>Bob Sweikert</td><td>628</td><td>American</td><td>0.0</td><td>0</td><td>18</td></tr><tr><td>1953</td><td>Mike Nazaruk</td><td>673</td><td>American</td><td>0.0</td><td>0</td><td>18</td></tr><tr><td>1953</td><td>Carl Scarborough</td><td>700</td><td>American</td><td>0.0</td><td>0</td><td>18</td></tr><tr><td>1953</td><td>Jim Rathmann</td><td>509</td><td>American</td><td>0.0</td><td>0</td><td>18</td></tr><tr><td>1953</td><td>Theo Helfrich</td><td>692</td><td>German</td><td>0.0</td><td>0</td><td>18</td></tr><tr><td>1953</td><td>Roy Salvadori</td><td>456</td><td>British</td><td>0.0</td><td>0</td><td>18</td></tr><tr><td>1953</td><td>Ernst Loof</td><td>718</td><td>German</td><td>0.0</td><td>0</td><td>18</td></tr><tr><td>1953</td><td>Louis Rosier</td><td>627</td><td>French</td><td>0.0</td><td>0</td><td>18</td></tr><tr><td>1953</td><td>Günther Bechem</td><td>715</td><td>German</td><td>0.0</td><td>0</td><td>18</td></tr><tr><td>1953</td><td>Johnnie Parsons</td><td>593</td><td>American</td><td>0.0</td><td>0</td><td>18</td></tr><tr><td>1953</td><td>Jacques Swaters</td><td>680</td><td>American</td><td>0.0</td><td>0</td><td>18</td></tr><tr><td>1953</td><td>Erwin Bauer</td><td>716</td><td>German</td><td>0.0</td><td>0</td><td>18</td></tr><tr><td>1953</td><td>Jimmy Daywalt</td><td>556</td><td>American</td><td>0.0</td><td>0</td><td>18</td></tr><tr><td>1953</td><td>Oswald Karch</td><td>711</td><td>German</td><td>0.0</td><td>0</td><td>18</td></tr><tr><td>1953</td><td>Hans von Stuck</td><td>717</td><td>German</td><td>0.0</td><td>0</td><td>18</td></tr><tr><td>1953</td><td>Duke Nalon</td><td>699</td><td>American</td><td>0.0</td><td>0</td><td>18</td></tr><tr><td>1953</td><td>Stirling Moss</td><td>475</td><td>British</td><td>0.0</td><td>0</td><td>18</td></tr><tr><td>1953</td><td>Rudolf Krause</td><td>710</td><td>East German</td><td>0.0</td><td>0</td><td>18</td></tr><tr><td>1953</td><td>Johnny Mantz</td><td>804</td><td>American</td><td>0.0</td><td>0</td><td>18</td></tr><tr><td>1953</td><td>Ernie McCoy</td><td>679</td><td>American</td><td>0.0</td><td>0</td><td>18</td></tr><tr><td>1953</td><td>Eddie Johnson</td><td>513</td><td>American</td><td>0.0</td><td>0</td><td>18</td></tr><tr><td>1953</td><td>Alan Brown</td><td>689</td><td>British</td><td>0.0</td><td>0</td><td>18</td></tr><tr><td>1953</td><td>Chuck Stevenson</td><td>521</td><td>American</td><td>0.0</td><td>0</td><td>18</td></tr><tr><td>1953</td><td>Jerry Hoyt</td><td>659</td><td>American</td><td>0.0</td><td>0</td><td>18</td></tr><tr><td>1953</td><td>Cal Niday</td><td>655</td><td>American</td><td>0.0</td><td>0</td><td>18</td></tr><tr><td>1953</td><td>Theo Fitzau</td><td>713</td><td>East German</td><td>0.0</td><td>0</td><td>18</td></tr><tr><td>1953</td><td>Ken Wharton</td><td>663</td><td>British</td><td>0.0</td><td>0</td><td>18</td></tr><tr><td>1953</td><td>Sergio Mantovani</td><td>644</td><td>Italian</td><td>0.0</td><td>0</td><td>18</td></tr><tr><td>1953</td><td>Élie Bayol</td><td>625</td><td>French</td><td>0.0</td><td>0</td><td>18</td></tr><tr><td>1953</td><td>Lance Macklin</td><td>651</td><td>British</td><td>0.0</td><td>0</td><td>18</td></tr><tr><td>1953</td><td>Roberto Mieres</td><td>643</td><td>Argentine</td><td>0.0</td><td>0</td><td>18</td></tr><tr><td>1953</td><td>Chico Landi</td><td>622</td><td>Brazilian</td><td>0.0</td><td>0</td><td>18</td></tr><tr><td>1953</td><td>Piero Carini</td><td>722</td><td>Italian</td><td>0.0</td><td>0</td><td>18</td></tr><tr><td>1953</td><td>Yves Cabantous</td><td>704</td><td>French</td><td>0.0</td><td>0</td><td>18</td></tr><tr><td>1953</td><td>Luigi Musso</td><td>577</td><td>Italian</td><td>0.0</td><td>0</td><td>18</td></tr><tr><td>1953</td><td>Jack Fairman</td><td>486</td><td>British</td><td>0.0</td><td>0</td><td>18</td></tr><tr><td>1953</td><td>John Fitch</td><td>667</td><td>American</td><td>0.0</td><td>0</td><td>18</td></tr><tr><td>1953</td><td>Umberto Maglioli</td><td>620</td><td>Italian</td><td>0.0</td><td>0</td><td>18</td></tr><tr><td>1953</td><td>Louis Chiron</td><td>589</td><td>Monegasque</td><td>0.0</td><td>0</td><td>18</td></tr><tr><td>1953</td><td>Peter Whitehead</td><td>687</td><td>British</td><td>0.0</td><td>0</td><td>18</td></tr><tr><td>1953</td><td>Ian Stewart</td><td>707</td><td>British</td><td>0.0</td><td>0</td><td>18</td></tr><tr><td>1953</td><td>Bob Gerard</td><td>619</td><td>British</td><td>0.0</td><td>0</td><td>18</td></tr><tr><td>1953</td><td>Tony Rolt</td><td>666</td><td>British</td><td>0.0</td><td>0</td><td>18</td></tr><tr><td>1953</td><td>Peter Collins</td><td>581</td><td>British</td><td>0.0</td><td>0</td><td>18</td></tr><tr><td>1953</td><td>Duncan Hamilton</td><td>708</td><td>British</td><td>0.0</td><td>0</td><td>18</td></tr><tr><td>1953</td><td>Tony Crook</td><td>705</td><td>British</td><td>0.0</td><td>0</td><td>18</td></tr><tr><td>1953</td><td>Jimmy Stewart</td><td>706</td><td>British</td><td>0.0</td><td>0</td><td>18</td></tr><tr><td>1953</td><td>Peter Hirt</td><td>721</td><td>Swiss</td><td>0.0</td><td>0</td><td>18</td></tr><tr><td>1953</td><td>Max de Terra</td><td>720</td><td>Swiss</td><td>0.0</td><td>0</td><td>18</td></tr><tr><td>1953</td><td>Paul Frère</td><td>632</td><td>Belgian</td><td>0.0</td><td>0</td><td>18</td></tr><tr><td>1953</td><td>John Barber</td><td>696</td><td>British</td><td>0.0</td><td>0</td><td>18</td></tr><tr><td>1953</td><td>Georges Berger</td><td>681</td><td>Belgian</td><td>0.0</td><td>0</td><td>18</td></tr><tr><td>1953</td><td>Adolfo Cruz</td><td>698</td><td>Argentine</td><td>0.0</td><td>0</td><td>18</td></tr><tr><td>1953</td><td>André Pilette</td><td>429</td><td>Belgian</td><td>0.0</td><td>0</td><td>18</td></tr><tr><td>1953</td><td>Albert Scherrer</td><td>719</td><td>Swiss</td><td>0.0</td><td>0</td><td>18</td></tr><tr><td>1953</td><td>Robert Manzon</td><td>626</td><td>French</td><td>0.0</td><td>0</td><td>18</td></tr><tr><td>1953</td><td>Pablo Birger</td><td>649</td><td>Argentine</td><td>0.0</td><td>0</td><td>18</td></tr><tr><td>1953</td><td>Arthur Legat</td><td>703</td><td>Belgian</td><td>0.0</td><td>0</td><td>18</td></tr><tr><td>1953</td><td>Carlos Menditeguy</td><td>496</td><td>Argentine</td><td>0.0</td><td>0</td><td>18</td></tr><tr><td>1953</td><td>Fred Wacker</td><td>693</td><td>American</td><td>0.0</td><td>0</td><td>18</td></tr><tr><td>1960</td><td>Jack Brabham</td><td>356</td><td>Australian</td><td>43.0</td><td>5</td><td>1</td></tr><tr><td>1960</td><td>Bruce McLaren</td><td>360</td><td>New Zealander</td><td>37.0</td><td>1</td><td>2</td></tr><tr><td>1960</td><td>Stirling Moss</td><td>475</td><td>British</td><td>19.0</td><td>2</td><td>3</td></tr><tr><td>1960</td><td>Innes Ireland</td><td>404</td><td>British</td><td>18.0</td><td>0</td><td>4</td></tr><tr><td>1960</td><td>Phil Hill</td><td>403</td><td>American</td><td>16.0</td><td>1</td><td>5</td></tr><tr><td>1960</td><td>Wolfgang von Trips</td><td>476</td><td>German</td><td>10.0</td><td>0</td><td>6</td></tr><tr><td>1960</td><td>Olivier Gendebien</td><td>482</td><td>Belgian</td><td>10.0</td><td>0</td><td>6</td></tr><tr><td>1960</td><td>Jim Rathmann</td><td>509</td><td>American</td><td>8.0</td><td>1</td><td>8</td></tr><tr><td>1960</td><td>Jim Clark</td><td>373</td><td>British</td><td>8.0</td><td>0</td><td>9</td></tr><tr><td>1960</td><td>Richie Ginther</td><td>386</td><td>American</td><td>8.0</td><td>0</td><td>9</td></tr><tr><td>1960</td><td>Tony Brooks</td><td>479</td><td>British</td><td>7.0</td><td>0</td><td>11</td></tr><tr><td>1960</td><td>Rodger Ward</td><td>449</td><td>American</td><td>6.0</td><td>0</td><td>12</td></tr><tr><td>1960</td><td>Cliff Allison</td><td>477</td><td>British</td><td>6.0</td><td>0</td><td>12</td></tr><tr><td>1960</td><td>John Surtees</td><td>341</td><td>British</td><td>6.0</td><td>0</td><td>12</td></tr><tr><td>1960</td><td>Paul Goldsmith</td><td>510</td><td>American</td><td>4.0</td><td>0</td><td>15</td></tr><tr><td>1960</td><td>Jo Bonnier</td><td>347</td><td>Swedish</td><td>4.0</td><td>0</td><td>15</td></tr><tr><td>1960</td><td>Graham Hill</td><td>289</td><td>British</td><td>4.0</td><td>0</td><td>15</td></tr><tr><td>1960</td><td>Willy Mairesse</td><td>435</td><td>Belgian</td><td>4.0</td><td>0</td><td>15</td></tr><tr><td>1960</td><td>Don Branson</td><td>511</td><td>American</td><td>3.0</td><td>0</td><td>19</td></tr><tr><td>1960</td><td>Henry Taylor</td><td>481</td><td>British</td><td>3.0</td><td>0</td><td>19</td></tr><tr><td>1960</td><td>Carlos Menditeguy</td><td>496</td><td>Argentine</td><td>3.0</td><td>0</td><td>19</td></tr><tr><td>1960</td><td>Giulio Cabianca</td><td>543</td><td>Italian</td><td>3.0</td><td>0</td><td>19</td></tr><tr><td>1960</td><td>Johnny Thomson</td><td>512</td><td>American</td><td>2.0</td><td>0</td><td>23</td></tr><tr><td>1960</td><td>Eddie Johnson</td><td>513</td><td>American</td><td>1.0</td><td>0</td><td>24</td></tr><tr><td>1960</td><td>Lucien Bianchi</td><td>376</td><td>Belgian</td><td>1.0</td><td>0</td><td>24</td></tr><tr><td>1960</td><td>Ron Flockhart</td><td>541</td><td>British</td><td>1.0</td><td>0</td><td>24</td></tr><tr><td>1960</td><td>Hans Herrmann</td><td>478</td><td>German</td><td>1.0</td><td>0</td><td>24</td></tr><tr><td>1960</td><td>Len Sutton</td><td>536</td><td>American</td><td>0.0</td><td>0</td><td>28</td></tr><tr><td>1960</td><td>Tony Bettenhausen</td><td>529</td><td>American</td><td>0.0</td><td>0</td><td>28</td></tr><tr><td>1960</td><td>Bob Christie</td><td>516</td><td>American</td><td>0.0</td><td>0</td><td>28</td></tr><tr><td>1960</td><td>Gene Force</td><td>534</td><td>American</td><td>0.0</td><td>0</td><td>28</td></tr><tr><td>1960</td><td>Dick Rathmann</td><td>537</td><td>American</td><td>0.0</td><td>0</td><td>28</td></tr><tr><td>1960</td><td>Red Amick</td><td>517</td><td>American</td><td>0.0</td><td>0</td><td>28</td></tr><tr><td>1960</td><td>Jimmy Bryan</td><td>525</td><td>American</td><td>0.0</td><td>0</td><td>28</td></tr><tr><td>1960</td><td>Duane Carter</td><td>518</td><td>American</td><td>0.0</td><td>0</td><td>28</td></tr><tr><td>1960</td><td>Wayne Weiler</td><td>530</td><td>American</td><td>0.0</td><td>0</td><td>28</td></tr><tr><td>1960</td><td>Bob Veith</td><td>514</td><td>American</td><td>0.0</td><td>0</td><td>28</td></tr><tr><td>1960</td><td>Lloyd Ruby</td><td>494</td><td>American</td><td>0.0</td><td>0</td><td>28</td></tr><tr><td>1960</td><td>Anthony Foyt</td><td>531</td><td>American</td><td>0.0</td><td>0</td><td>28</td></tr><tr><td>1960</td><td>Shorty Templeman</td><td>523</td><td>American</td><td>0.0</td><td>0</td><td>28</td></tr><tr><td>1960</td><td>Chuck Stevenson</td><td>521</td><td>American</td><td>0.0</td><td>0</td><td>28</td></tr><tr><td>1960</td><td>Troy Ruttman</td><td>526</td><td>American</td><td>0.0</td><td>0</td><td>28</td></tr><tr><td>1960</td><td>Bill Homeier</td><td>519</td><td>American</td><td>0.0</td><td>0</td><td>28</td></tr><tr><td>1960</td><td>Gene Hartley</td><td>520</td><td>American</td><td>0.0</td><td>0</td><td>28</td></tr><tr><td>1960</td><td>Jim Hurtubise</td><td>524</td><td>American</td><td>0.0</td><td>0</td><td>28</td></tr><tr><td>1960</td><td>Dempsey Wilson</td><td>539</td><td>American</td><td>0.0</td><td>0</td><td>28</td></tr><tr><td>1960</td><td>Eddie Sachs</td><td>527</td><td>American</td><td>0.0</td><td>0</td><td>28</td></tr><tr><td>1960</td><td>Jim McWithey</td><td>535</td><td>American</td><td>0.0</td><td>0</td><td>28</td></tr><tr><td>1960</td><td>Al Herman</td><td>538</td><td>American</td><td>0.0</td><td>0</td><td>28</td></tr><tr><td>1960</td><td>Bobby Grim</td><td>522</td><td>American</td><td>0.0</td><td>0</td><td>28</td></tr><tr><td>1960</td><td>Don Freeland</td><td>528</td><td>American</td><td>0.0</td><td>0</td><td>28</td></tr><tr><td>1960</td><td>Johnny Boyd</td><td>533</td><td>American</td><td>0.0</td><td>0</td><td>28</td></tr><tr><td>1960</td><td>Bud Tingelstad</td><td>515</td><td>American</td><td>0.0</td><td>0</td><td>28</td></tr><tr><td>1960</td><td>Eddie Russo</td><td>532</td><td>American</td><td>0.0</td><td>0</td><td>28</td></tr><tr><td>1960</td><td>Brian Naylor</td><td>484</td><td>British</td><td>0.0</td><td>0</td><td>28</td></tr><tr><td>1960</td><td>Harry Schell</td><td>501</td><td>American</td><td>0.0</td><td>0</td><td>28</td></tr><tr><td>1960</td><td>Jack Fairman</td><td>486</td><td>British</td><td>0.0</td><td>0</td><td>28</td></tr><tr><td>1960</td><td>Chuck Daigh</td><td>507</td><td>American</td><td>0.0</td><td>0</td><td>28</td></tr><tr><td>1960</td><td>Masten Gregory</td><td>418</td><td>American</td><td>0.0</td><td>0</td><td>28</td></tr><tr><td>1960</td><td>Dan Gurney</td><td>364</td><td>American</td><td>0.0</td><td>0</td><td>28</td></tr><tr><td>1960</td><td>José Froilán González</td><td>498</td><td>Argentine</td><td>0.0</td><td>0</td><td>28</td></tr><tr><td>1960</td><td>Ettore Chimeri</td><td>503</td><td>Venezuelan</td><td>0.0</td><td>0</td><td>28</td></tr><tr><td>1960</td><td>Lance Reventlow</td><td>508</td><td>American</td><td>0.0</td><td>0</td><td>28</td></tr><tr><td>1960</td><td>David Piper</td><td>542</td><td>British</td><td>0.0</td><td>0</td><td>28</td></tr><tr><td>1960</td><td>Alan Stacey</td><td>502</td><td>British</td><td>0.0</td><td>0</td><td>28</td></tr><tr><td>1960</td><td>Nasif Estéfano</td><td>439</td><td>Argentine</td><td>0.0</td><td>0</td><td>28</td></tr><tr><td>1960</td><td>Roy Salvadori</td><td>456</td><td>British</td><td>0.0</td><td>0</td><td>28</td></tr><tr><td>1960</td><td>Antonio Creus</td><td>504</td><td>Spanish</td><td>0.0</td><td>0</td><td>28</td></tr><tr><td>1960</td><td>Ian Burgess</td><td>437</td><td>British</td><td>0.0</td><td>0</td><td>28</td></tr><tr><td>1960</td><td>Gino Munaron</td><td>500</td><td>Italian</td><td>0.0</td><td>0</td><td>28</td></tr><tr><td>1960</td><td>Alberto Rodriguez Larreta</td><td>497</td><td>Argentine</td><td>0.0</td><td>0</td><td>28</td></tr><tr><td>1960</td><td>Maurice Trintignant</td><td>427</td><td>French</td><td>0.0</td><td>0</td><td>28</td></tr><tr><td>1960</td><td>Keith Greene</td><td>465</td><td>British</td><td>0.0</td><td>0</td><td>28</td></tr><tr><td>1960</td><td>Roberto Bonomi</td><td>499</td><td>Argentine</td><td>0.0</td><td>0</td><td>28</td></tr><tr><td>1960</td><td>Giorgio Scarlatti</td><td>483</td><td>Italian</td><td>0.0</td><td>0</td><td>28</td></tr><tr><td>1960</td><td>Bruce Halford</td><td>506</td><td>British</td><td>0.0</td><td>0</td><td>28</td></tr><tr><td>1960</td><td>Pete Lovely</td><td>353</td><td>American</td><td>0.0</td><td>0</td><td>28</td></tr><tr><td>1960</td><td>Jim Hall</td><td>440</td><td>American</td><td>0.0</td><td>0</td><td>28</td></tr><tr><td>1960</td><td>Carel Godin de Beaufort</td><td>430</td><td>Dutch</td><td>0.0</td><td>0</td><td>28</td></tr><tr><td>1960</td><td>Chris Bristow</td><td>505</td><td>British</td><td>0.0</td><td>0</td><td>28</td></tr><tr><td>1960</td><td>Bob Drake</td><td>548</td><td>American</td><td>0.0</td><td>0</td><td>28</td></tr><tr><td>1960</td><td>Alfonso Thiele</td><td>491</td><td>American-Italian</td><td>0.0</td><td>0</td><td>28</td></tr><tr><td>1960</td><td>Wolfgang Seidel</td><td>455</td><td>German</td><td>0.0</td><td>0</td><td>28</td></tr><tr><td>1960</td><td>Mário de Araújo Cabral</td><td>432</td><td>Portuguese</td><td>0.0</td><td>0</td><td>28</td></tr><tr><td>1960</td><td>Edgar Barth</td><td>431</td><td>German</td><td>0.0</td><td>0</td><td>28</td></tr><tr><td>1960</td><td>Mike Taylor</td><td>540</td><td>British</td><td>0.0</td><td>0</td><td>28</td></tr><tr><td>1960</td><td>Piero Drogo</td><td>544</td><td>Italian</td><td>0.0</td><td>0</td><td>28</td></tr><tr><td>1960</td><td>Arthur Owen</td><td>546</td><td>British</td><td>0.0</td><td>0</td><td>28</td></tr><tr><td>1960</td><td>Vic Wilson</td><td>398</td><td>British</td><td>0.0</td><td>0</td><td>28</td></tr><tr><td>1960</td><td>Horace Gould</td><td>547</td><td>British</td><td>0.0</td><td>0</td><td>28</td></tr><tr><td>1960</td><td>Fred Gamble</td><td>545</td><td>American</td><td>0.0</td><td>0</td><td>28</td></tr><tr><td>1954</td><td>Juan Fangio</td><td>579</td><td>Argentine</td><td>57.140000104904175</td><td>6</td><td>1</td></tr><tr><td>1954</td><td>José Froilán González</td><td>498</td><td>Argentine</td><td>23.640000343322754</td><td>1</td><td>2</td></tr><tr><td>1954</td><td>Mike Hawthorn</td><td>578</td><td>British</td><td>21.639999866485596</td><td>1</td><td>3</td></tr><tr><td>1954</td><td>Maurice Trintignant</td><td>427</td><td>French</td><td>17.0</td><td>0</td><td>4</td></tr><tr><td>1954</td><td>Karl Kling</td><td>648</td><td>German</td><td>12.0</td><td>0</td><td>5</td></tr><tr><td>1954</td><td>Bill Vukovich</td><td>657</td><td>American</td><td>8.0</td><td>1</td><td>6</td></tr><tr><td>1954</td><td>Hans Herrmann</td><td>478</td><td>German</td><td>8.0</td><td>0</td><td>7</td></tr><tr><td>1954</td><td>Jimmy Bryan</td><td>525</td><td>American</td><td>6.0</td><td>0</td><td>8</td></tr><tr><td>1954</td><td>Roberto Mieres</td><td>643</td><td>Argentine</td><td>6.0</td><td>0</td><td>8</td></tr><tr><td>1954</td><td>Luigi Musso</td><td>577</td><td>Italian</td><td>6.0</td><td>0</td><td>8</td></tr><tr><td>1954</td><td>Nino Farina</td><td>642</td><td>Italian</td><td>6.0</td><td>0</td><td>8</td></tr><tr><td>1954</td><td>Jack McGrath</td><td>658</td><td>American</td><td>5.0</td><td>0</td><td>12</td></tr><tr><td>1954</td><td>Onofre Marimón</td><td>670</td><td>Argentine</td><td>4.139999866485596</td><td>0</td><td>13</td></tr><tr><td>1954</td><td>Stirling Moss</td><td>475</td><td>British</td><td>4.0</td><td>0</td><td>14</td></tr><tr><td>1954</td><td>Robert Manzon</td><td>626</td><td>French</td><td>4.0</td><td>0</td><td>14</td></tr><tr><td>1954</td><td>Sergio Mantovani</td><td>644</td><td>Italian</td><td>4.0</td><td>0</td><td>14</td></tr><tr><td>1954</td><td>Prince Bira</td><td>669</td><td>Thai</td><td>3.0</td><td>0</td><td>17</td></tr><tr><td>1954</td><td>Mike Nazaruk</td><td>673</td><td>American</td><td>2.0</td><td>0</td><td>18</td></tr><tr><td>1954</td><td>André Pilette</td><td>429</td><td>Belgian</td><td>2.0</td><td>0</td><td>18</td></tr><tr><td>1954</td><td>Luigi Villoresi</td><td>633</td><td>Italian</td><td>2.0</td><td>0</td><td>18</td></tr><tr><td>1954</td><td>Umberto Maglioli</td><td>620</td><td>Italian</td><td>2.0</td><td>0</td><td>18</td></tr><tr><td>1954</td><td>Élie Bayol</td><td>625</td><td>French</td><td>2.0</td><td>0</td><td>18</td></tr><tr><td>1954</td><td>Troy Ruttman</td><td>526</td><td>American</td><td>1.5</td><td>0</td><td>23</td></tr><tr><td>1954</td><td>Alberto Ascari</td><td>647</td><td>Italian</td><td>1.0</td><td>0</td><td>24</td></tr><tr><td>1954</td><td>Bill Homeier</td><td>519</td><td>American</td><td>0.0</td><td>0</td><td>25</td></tr><tr><td>1954</td><td>Fred Agabashian</td><td>615</td><td>American</td><td>0.0</td><td>0</td><td>25</td></tr><tr><td>1954</td><td>Walt Faulkner</td><td>654</td><td>American</td><td>0.0</td><td>0</td><td>25</td></tr><tr><td>1954</td><td>Jim Rathmann</td><td>509</td><td>American</td><td>0.0</td><td>0</td><td>25</td></tr><tr><td>1954</td><td>Pat O'Connor</td><td>597</td><td>American</td><td>0.0</td><td>0</td><td>25</td></tr><tr><td>1954</td><td>Chuck Stevenson</td><td>521</td><td>American</td><td>0.0</td><td>0</td><td>25</td></tr><tr><td>1954</td><td>Ernie McCoy</td><td>679</td><td>American</td><td>0.0</td><td>0</td><td>25</td></tr><tr><td>1954</td><td>Pat Flaherty</td><td>559</td><td>American</td><td>0.0</td><td>0</td><td>25</td></tr><tr><td>1954</td><td>Don Freeland</td><td>528</td><td>American</td><td>0.0</td><td>0</td><td>25</td></tr><tr><td>1954</td><td>Manny Ayulo</td><td>675</td><td>American</td><td>0.0</td><td>0</td><td>25</td></tr><tr><td>1954</td><td>Jimmy Davies</td><td>653</td><td>American</td><td>0.0</td><td>0</td><td>25</td></tr><tr><td>1954</td><td>Art Cross</td><td>656</td><td>American</td><td>0.0</td><td>0</td><td>25</td></tr><tr><td>1954</td><td>Marshall Teague</td><td>613</td><td>American</td><td>0.0</td><td>0</td><td>25</td></tr><tr><td>1954</td><td>Rodger Ward</td><td>449</td><td>American</td><td>0.0</td><td>0</td><td>25</td></tr><tr><td>1954</td><td>Andy Linden</td><td>612</td><td>American</td><td>0.0</td><td>0</td><td>25</td></tr><tr><td>1954</td><td>Bob Sweikert</td><td>628</td><td>American</td><td>0.0</td><td>0</td><td>25</td></tr><tr><td>1954</td><td>Ed Elisian</td><td>596</td><td>American</td><td>0.0</td><td>0</td><td>25</td></tr><tr><td>1954</td><td>Len Duncan</td><td>678</td><td>American</td><td>0.0</td><td>0</td><td>25</td></tr><tr><td>1954</td><td>Jimmy Daywalt</td><td>556</td><td>American</td><td>0.0</td><td>0</td><td>25</td></tr><tr><td>1954</td><td>Sam Hanks</td><td>611</td><td>American</td><td>0.0</td><td>0</td><td>25</td></tr><tr><td>1954</td><td>George Fonder</td><td>730</td><td>American</td><td>0.0</td><td>0</td><td>25</td></tr><tr><td>1954</td><td>Travis Webb</td><td>677</td><td>American</td><td>0.0</td><td>0</td><td>25</td></tr><tr><td>1954</td><td>Paul Russo</td><td>555</td><td>American</td><td>0.0</td><td>0</td><td>25</td></tr><tr><td>1954</td><td>Eddie Johnson</td><td>513</td><td>American</td><td>0.0</td><td>0</td><td>25</td></tr><tr><td>1954</td><td>Frank Armi</td><td>676</td><td>American</td><td>0.0</td><td>0</td><td>25</td></tr><tr><td>1954</td><td>Larry Crockett</td><td>674</td><td>American</td><td>0.0</td><td>0</td><td>25</td></tr><tr><td>1954</td><td>Jimmy Reece</td><td>592</td><td>American</td><td>0.0</td><td>0</td><td>25</td></tr><tr><td>1954</td><td>Duane Carter</td><td>518</td><td>American</td><td>0.0</td><td>0</td><td>25</td></tr><tr><td>1954</td><td>Gene Hartley</td><td>520</td><td>American</td><td>0.0</td><td>0</td><td>25</td></tr><tr><td>1954</td><td>Jimmy Jackson</td><td>799</td><td>American</td><td>0.0</td><td>0</td><td>25</td></tr><tr><td>1954</td><td>Cal Niday</td><td>655</td><td>American</td><td>0.0</td><td>0</td><td>25</td></tr><tr><td>1954</td><td>Jerry Hoyt</td><td>659</td><td>American</td><td>0.0</td><td>0</td><td>25</td></tr><tr><td>1954</td><td>Johnnie Parsons</td><td>593</td><td>American</td><td>0.0</td><td>0</td><td>25</td></tr><tr><td>1954</td><td>Johnny Thomson</td><td>512</td><td>American</td><td>0.0</td><td>0</td><td>25</td></tr><tr><td>1954</td><td>Bob Scott</td><td>702</td><td>American</td><td>0.0</td><td>0</td><td>25</td></tr><tr><td>1954</td><td>Danny Kladis</td><td>805</td><td>American</td><td>0.0</td><td>0</td><td>25</td></tr><tr><td>1954</td><td>Tony Bettenhausen</td><td>529</td><td>American</td><td>0.0</td><td>0</td><td>25</td></tr><tr><td>1954</td><td>Roy Salvadori</td><td>456</td><td>British</td><td>0.0</td><td>0</td><td>25</td></tr><tr><td>1954</td><td>Louis Rosier</td><td>627</td><td>French</td><td>0.0</td><td>0</td><td>25</td></tr><tr><td>1954</td><td>Ron Flockhart</td><td>541</td><td>British</td><td>0.0</td><td>0</td><td>25</td></tr><tr><td>1954</td><td>Leslie Thorne</td><td>683</td><td>British</td><td>0.0</td><td>0</td><td>25</td></tr><tr><td>1954</td><td>Rodney Nuckey</td><td>690</td><td>British</td><td>0.0</td><td>0</td><td>25</td></tr><tr><td>1954</td><td>Bob Gerard</td><td>619</td><td>British</td><td>0.0</td><td>0</td><td>25</td></tr><tr><td>1954</td><td>Jean Behra</td><td>554</td><td>French</td><td>0.0</td><td>0</td><td>25</td></tr><tr><td>1954</td><td>Don Beauman</td><td>682</td><td>British</td><td>0.0</td><td>0</td><td>25</td></tr><tr><td>1954</td><td>Ken Wharton</td><td>663</td><td>British</td><td>0.0</td><td>0</td><td>25</td></tr><tr><td>1954</td><td>John Riseley-Prichard</td><td>685</td><td>British</td><td>0.0</td><td>0</td><td>25</td></tr><tr><td>1954</td><td>Leslie Marr</td><td>665</td><td>British</td><td>0.0</td><td>0</td><td>25</td></tr><tr><td>1954</td><td>Harry Schell</td><td>501</td><td>American</td><td>0.0</td><td>0</td><td>25</td></tr><tr><td>1954</td><td>Alan Brown</td><td>689</td><td>British</td><td>0.0</td><td>0</td><td>25</td></tr><tr><td>1954</td><td>Horace Gould</td><td>547</td><td>British</td><td>0.0</td><td>0</td><td>25</td></tr><tr><td>1954</td><td>Clemar Bucci</td><td>645</td><td>Argentine</td><td>0.0</td><td>0</td><td>25</td></tr><tr><td>1954</td><td>Eric Brandon</td><td>688</td><td>British</td><td>0.0</td><td>0</td><td>25</td></tr><tr><td>1954</td><td>Bill Whitehouse</td><td>684</td><td>British</td><td>0.0</td><td>0</td><td>25</td></tr><tr><td>1954</td><td>Peter Collins</td><td>581</td><td>British</td><td>0.0</td><td>0</td><td>25</td></tr><tr><td>1954</td><td>Reg Parnell</td><td>686</td><td>British</td><td>0.0</td><td>0</td><td>25</td></tr><tr><td>1954</td><td>Peter Whitehead</td><td>687</td><td>British</td><td>0.0</td><td>0</td><td>25</td></tr><tr><td>1954</td><td>Paul Frère</td><td>632</td><td>Belgian</td><td>0.0</td><td>0</td><td>25</td></tr><tr><td>1954</td><td>Jacques Swaters</td><td>680</td><td>American</td><td>0.0</td><td>0</td><td>25</td></tr><tr><td>1954</td><td>Ottorino Volonterio</td><td>638</td><td>Swiss</td><td>0.0</td><td>0</td><td>25</td></tr><tr><td>1954</td><td>Toulo de Graffenried</td><td>640</td><td>Swiss</td><td>0.0</td><td>0</td><td>25</td></tr><tr><td>1954</td><td>Theo Helfrich</td><td>692</td><td>German</td><td>0.0</td><td>0</td><td>25</td></tr><tr><td>1954</td><td>Hermann Lang</td><td>691</td><td>German</td><td>0.0</td><td>0</td><td>25</td></tr><tr><td>1954</td><td>Jacques Pollet</td><td>650</td><td>French</td><td>0.0</td><td>0</td><td>25</td></tr><tr><td>1954</td><td>Piero Taruffi</td><td>641</td><td>Italian</td><td>0.0</td><td>0</td><td>25</td></tr><tr><td>1954</td><td>Paco Godia</td><td>580</td><td>Spanish</td><td>0.0</td><td>0</td><td>25</td></tr><tr><td>1954</td><td>Lance Macklin</td><td>651</td><td>British</td><td>0.0</td><td>0</td><td>25</td></tr><tr><td>1954</td><td>Fred Wacker</td><td>693</td><td>American</td><td>0.0</td><td>0</td><td>25</td></tr><tr><td>1954</td><td>Jorge Daponte</td><td>672</td><td>Argentine</td><td>0.0</td><td>0</td><td>25</td></tr><tr><td>1954</td><td>Georges Berger</td><td>681</td><td>Belgian</td><td>0.0</td><td>0</td><td>25</td></tr><tr><td>1954</td><td>Carlos Menditeguy</td><td>496</td><td>Argentine</td><td>0.0</td><td>0</td><td>25</td></tr><tr><td>1954</td><td>Giovanni de Riu</td><td>694</td><td>Italian</td><td>0.0</td><td>0</td><td>25</td></tr><tr><td>1954</td><td>Roger Loyer</td><td>671</td><td>French</td><td>0.0</td><td>0</td><td>25</td></tr><tr><td>1959</td><td>Jack Brabham</td><td>356</td><td>Australian</td><td>34.0</td><td>2</td><td>1</td></tr><tr><td>1959</td><td>Tony Brooks</td><td>479</td><td>British</td><td>27.0</td><td>2</td><td>2</td></tr><tr><td>1959</td><td>Stirling Moss</td><td>475</td><td>British</td><td>25.5</td><td>2</td><td>3</td></tr><tr><td>1959</td><td>Phil Hill</td><td>403</td><td>American</td><td>20.0</td><td>0</td><td>4</td></tr><tr><td>1959</td><td>Maurice Trintignant</td><td>427</td><td>French</td><td>19.0</td><td>0</td><td>5</td></tr><tr><td>1959</td><td>Bruce McLaren</td><td>360</td><td>New Zealander</td><td>16.5</td><td>1</td><td>6</td></tr><tr><td>1959</td><td>Dan Gurney</td><td>364</td><td>American</td><td>13.0</td><td>0</td><td>7</td></tr><tr><td>1959</td><td>Jo Bonnier</td><td>347</td><td>Swedish</td><td>10.0</td><td>1</td><td>8</td></tr><tr><td>1959</td><td>Masten Gregory</td><td>418</td><td>American</td><td>10.0</td><td>0</td><td>9</td></tr><tr><td>1959</td><td>Rodger Ward</td><td>449</td><td>American</td><td>8.0</td><td>1</td><td>10</td></tr><tr><td>1959</td><td>Jim Rathmann</td><td>509</td><td>American</td><td>6.0</td><td>0</td><td>11</td></tr><tr><td>1959</td><td>Johnny Thomson</td><td>512</td><td>American</td><td>5.0</td><td>0</td><td>12</td></tr><tr><td>1959</td><td>Harry Schell</td><td>501</td><td>American</td><td>5.0</td><td>0</td><td>12</td></tr><tr><td>1959</td><td>Innes Ireland</td><td>404</td><td>British</td><td>5.0</td><td>0</td><td>12</td></tr><tr><td>1959</td><td>Tony Bettenhausen</td><td>529</td><td>American</td><td>3.0</td><td>0</td><td>15</td></tr><tr><td>1959</td><td>Olivier Gendebien</td><td>482</td><td>Belgian</td><td>3.0</td><td>0</td><td>15</td></tr><tr><td>1959</td><td>Paul Goldsmith</td><td>510</td><td>American</td><td>2.0</td><td>0</td><td>17</td></tr><tr><td>1959</td><td>Cliff Allison</td><td>477</td><td>British</td><td>2.0</td><td>0</td><td>17</td></tr><tr><td>1959</td><td>Jean Behra</td><td>554</td><td>French</td><td>2.0</td><td>0</td><td>17</td></tr><tr><td>1959</td><td>Dick Rathmann</td><td>537</td><td>American</td><td>0.0</td><td>0</td><td>20</td></tr><tr><td>1959</td><td>Anthony Foyt</td><td>531</td><td>American</td><td>0.0</td><td>0</td><td>20</td></tr><tr><td>1959</td><td>Pat Flaherty</td><td>559</td><td>American</td><td>0.0</td><td>0</td><td>20</td></tr><tr><td>1959</td><td>Bob Christie</td><td>516</td><td>American</td><td>0.0</td><td>0</td><td>20</td></tr><tr><td>1959</td><td>Don Freeland</td><td>528</td><td>American</td><td>0.0</td><td>0</td><td>20</td></tr><tr><td>1959</td><td>Jack Turner</td><td>562</td><td>American</td><td>0.0</td><td>0</td><td>20</td></tr><tr><td>1959</td><td>Eddie Johnson</td><td>513</td><td>American</td><td>0.0</td><td>0</td><td>20</td></tr><tr><td>1959</td><td>Don Branson</td><td>511</td><td>American</td><td>0.0</td><td>0</td><td>20</td></tr><tr><td>1959</td><td>Jimmy Daywalt</td><td>556</td><td>American</td><td>0.0</td><td>0</td><td>20</td></tr><tr><td>1959</td><td>Eddie Sachs</td><td>527</td><td>American</td><td>0.0</td><td>0</td><td>20</td></tr><tr><td>1959</td><td>Red Amick</td><td>517</td><td>American</td><td>0.0</td><td>0</td><td>20</td></tr><tr><td>1959</td><td>Chuck Weyant</td><td>563</td><td>American</td><td>0.0</td><td>0</td><td>20</td></tr><tr><td>1959</td><td>Chuck Arnold</td><td>557</td><td>American</td><td>0.0</td><td>0</td><td>20</td></tr><tr><td>1959</td><td>Bobby Grim</td><td>522</td><td>American</td><td>0.0</td><td>0</td><td>20</td></tr><tr><td>1959</td><td>Al Keller</td><td>558</td><td>American</td><td>0.0</td><td>0</td><td>20</td></tr><tr><td>1959</td><td>Jim McWithey</td><td>535</td><td>American</td><td>0.0</td><td>0</td><td>20</td></tr><tr><td>1959</td><td>Paul Russo</td><td>555</td><td>American</td><td>0.0</td><td>0</td><td>20</td></tr><tr><td>1959</td><td>Duane Carter</td><td>518</td><td>American</td><td>0.0</td><td>0</td><td>20</td></tr><tr><td>1959</td><td>Al Herman</td><td>538</td><td>American</td><td>0.0</td><td>0</td><td>20</td></tr><tr><td>1959</td><td>Jud Larson</td><td>564</td><td>American</td><td>0.0</td><td>0</td><td>20</td></tr><tr><td>1959</td><td>Gene Hartley</td><td>520</td><td>American</td><td>0.0</td><td>0</td><td>20</td></tr><tr><td>1959</td><td>Bob Veith</td><td>514</td><td>American</td><td>0.0</td><td>0</td><td>20</td></tr><tr><td>1959</td><td>Len Sutton</td><td>536</td><td>American</td><td>0.0</td><td>0</td><td>20</td></tr><tr><td>1959</td><td>Jimmy Bryan</td><td>525</td><td>American</td><td>0.0</td><td>0</td><td>20</td></tr><tr><td>1959</td><td>Bill Cheesbourg</td><td>560</td><td>American</td><td>0.0</td><td>0</td><td>20</td></tr><tr><td>1959</td><td>Mike Magill</td><td>565</td><td>American</td><td>0.0</td><td>0</td><td>20</td></tr><tr><td>1959</td><td>Ray Crawford</td><td>561</td><td>American</td><td>0.0</td><td>0</td><td>20</td></tr><tr><td>1959</td><td>Johnny Boyd</td><td>533</td><td>American</td><td>0.0</td><td>0</td><td>20</td></tr><tr><td>1959</td><td>Dennis Taylor</td><td>571</td><td>British</td><td>0.0</td><td>0</td><td>20</td></tr><tr><td>1959</td><td>David Piper</td><td>542</td><td>British</td><td>0.0</td><td>0</td><td>20</td></tr><tr><td>1959</td><td>Carroll Shelby</td><td>566</td><td>American</td><td>0.0</td><td>0</td><td>20</td></tr><tr><td>1959</td><td>Hans Herrmann</td><td>478</td><td>German</td><td>0.0</td><td>0</td><td>20</td></tr><tr><td>1959</td><td>Alan Stacey</td><td>502</td><td>British</td><td>0.0</td><td>0</td><td>20</td></tr><tr><td>1959</td><td>Fritz d'Orey</td><td>567</td><td>Brazilian</td><td>0.0</td><td>0</td><td>20</td></tr><tr><td>1959</td><td>Keith Greene</td><td>465</td><td>British</td><td>0.0</td><td>0</td><td>20</td></tr><tr><td>1959</td><td>Jack Fairman</td><td>486</td><td>British</td><td>0.0</td><td>0</td><td>20</td></tr><tr><td>1959</td><td>Mike Parkes</td><td>387</td><td>British</td><td>0.0</td><td>0</td><td>20</td></tr><tr><td>1959</td><td>Chris Bristow</td><td>505</td><td>British</td><td>0.0</td><td>0</td><td>20</td></tr><tr><td>1959</td><td>Graham Hill</td><td>289</td><td>British</td><td>0.0</td><td>0</td><td>20</td></tr><tr><td>1959</td><td>Ian Burgess</td><td>437</td><td>British</td><td>0.0</td><td>0</td><td>20</td></tr><tr><td>1959</td><td>Henry Taylor</td><td>481</td><td>British</td><td>0.0</td><td>0</td><td>20</td></tr><tr><td>1959</td><td>Trevor Taylor</td><td>401</td><td>British</td><td>0.0</td><td>0</td><td>20</td></tr><tr><td>1959</td><td>Bill Moss</td><td>570</td><td>British</td><td>0.0</td><td>0</td><td>20</td></tr><tr><td>1959</td><td>Mike Taylor</td><td>540</td><td>British</td><td>0.0</td><td>0</td><td>20</td></tr><tr><td>1959</td><td>Brian Naylor</td><td>484</td><td>British</td><td>0.0</td><td>0</td><td>20</td></tr><tr><td>1959</td><td>Ron Flockhart</td><td>541</td><td>British</td><td>0.0</td><td>0</td><td>20</td></tr><tr><td>1959</td><td>Peter Ashdown</td><td>569</td><td>British</td><td>0.0</td><td>0</td><td>20</td></tr><tr><td>1959</td><td>Roy Salvadori</td><td>456</td><td>British</td><td>0.0</td><td>0</td><td>20</td></tr><tr><td>1959</td><td>Ivor Bueb</td><td>549</td><td>British</td><td>0.0</td><td>0</td><td>20</td></tr><tr><td>1959</td><td>Tim Parnell</td><td>441</td><td>British</td><td>0.0</td><td>0</td><td>20</td></tr><tr><td>1959</td><td>George Constantine</td><td>574</td><td>American</td><td>0.0</td><td>0</td><td>20</td></tr><tr><td>1959</td><td>Giorgio Scarlatti</td><td>483</td><td>Italian</td><td>0.0</td><td>0</td><td>20</td></tr><tr><td>1959</td><td>Bob Said</td><td>575</td><td>American</td><td>0.0</td><td>0</td><td>20</td></tr><tr><td>1959</td><td>Jean Lucienbonnet</td><td>552</td><td>French</td><td>0.0</td><td>0</td><td>20</td></tr><tr><td>1959</td><td>Carel Godin de Beaufort</td><td>430</td><td>Dutch</td><td>0.0</td><td>0</td><td>20</td></tr><tr><td>1959</td><td>Harry Blanchard</td><td>572</td><td>American</td><td>0.0</td><td>0</td><td>20</td></tr><tr><td>1959</td><td>André Testut</td><td>553</td><td>Monegasque</td><td>0.0</td><td>0</td><td>20</td></tr><tr><td>1959</td><td>Phil Cade</td><td>576</td><td>American</td><td>0.0</td><td>0</td><td>20</td></tr><tr><td>1959</td><td>Colin Davis</td><td>462</td><td>British</td><td>0.0</td><td>0</td><td>20</td></tr><tr><td>1959</td><td>Azdrubal Fontes</td><td>568</td><td>Uruguayan</td><td>0.0</td><td>0</td><td>20</td></tr><tr><td>1959</td><td>Giulio Cabianca</td><td>543</td><td>Italian</td><td>0.0</td><td>0</td><td>20</td></tr><tr><td>1959</td><td>Pete Lovely</td><td>353</td><td>American</td><td>0.0</td><td>0</td><td>20</td></tr><tr><td>1959</td><td>Maria de Filippis</td><td>551</td><td>Italian</td><td>0.0</td><td>0</td><td>20</td></tr><tr><td>1959</td><td>Alessandro de Tomaso</td><td>573</td><td>Argentine-Italian</td><td>0.0</td><td>0</td><td>20</td></tr><tr><td>1959</td><td>Wolfgang von Trips</td><td>476</td><td>German</td><td>0.0</td><td>0</td><td>20</td></tr><tr><td>1959</td><td>Bruce Halford</td><td>506</td><td>British</td><td>0.0</td><td>0</td><td>20</td></tr><tr><td>1959</td><td>Alain de Changy</td><td>550</td><td>Belgian</td><td>0.0</td><td>0</td><td>20</td></tr><tr><td>1959</td><td>Lucien Bianchi</td><td>376</td><td>Belgian</td><td>0.0</td><td>0</td><td>20</td></tr><tr><td>1959</td><td>Mário de Araújo Cabral</td><td>432</td><td>Portuguese</td><td>0.0</td><td>0</td><td>20</td></tr><tr><td>1958</td><td>Mike Hawthorn</td><td>578</td><td>British</td><td>49.0</td><td>1</td><td>1</td></tr><tr><td>1958</td><td>Stirling Moss</td><td>475</td><td>British</td><td>41.0</td><td>4</td><td>2</td></tr><tr><td>1958</td><td>Tony Brooks</td><td>479</td><td>British</td><td>24.0</td><td>3</td><td>3</td></tr><tr><td>1958</td><td>Roy Salvadori</td><td>456</td><td>British</td><td>15.0</td><td>0</td><td>4</td></tr><tr><td>1958</td><td>Peter Collins</td><td>581</td><td>British</td><td>14.0</td><td>1</td><td>5</td></tr><tr><td>1958</td><td>Harry Schell</td><td>501</td><td>American</td><td>14.0</td><td>0</td><td>6</td></tr><tr><td>1958</td><td>Maurice Trintignant</td><td>427</td><td>French</td><td>12.0</td><td>1</td><td>7</td></tr><tr><td>1958</td><td>Luigi Musso</td><td>577</td><td>Italian</td><td>12.0</td><td>0</td><td>8</td></tr><tr><td>1958</td><td>Stuart Lewis-Evans</td><td>590</td><td>British</td><td>11.0</td><td>0</td><td>9</td></tr><tr><td>1958</td><td>Jean Behra</td><td>554</td><td>French</td><td>9.0</td><td>0</td><td>10</td></tr><tr><td>1958</td><td>Wolfgang von Trips</td><td>476</td><td>German</td><td>9.0</td><td>0</td><td>10</td></tr><tr><td>1958</td><td>Phil Hill</td><td>403</td><td>American</td><td>9.0</td><td>0</td><td>10</td></tr><tr><td>1958</td><td>Jimmy Bryan</td><td>525</td><td>American</td><td>8.0</td><td>1</td><td>13</td></tr><tr><td>1958</td><td>Juan Fangio</td><td>579</td><td>Argentine</td><td>7.0</td><td>0</td><td>14</td></tr><tr><td>1958</td><td>George Amick</td><td>591</td><td>American</td><td>6.0</td><td>0</td><td>15</td></tr><tr><td>1958</td><td>Johnny Boyd</td><td>533</td><td>American</td><td>4.0</td><td>0</td><td>16</td></tr><tr><td>1958</td><td>Tony Bettenhausen</td><td>529</td><td>American</td><td>4.0</td><td>0</td><td>16</td></tr><tr><td>1958</td><td>Jo Bonnier</td><td>347</td><td>Swedish</td><td>3.0</td><td>0</td><td>18</td></tr><tr><td>1958</td><td>Jack Brabham</td><td>356</td><td>Australian</td><td>3.0</td><td>0</td><td>18</td></tr><tr><td>1958</td><td>Cliff Allison</td><td>477</td><td>British</td><td>3.0</td><td>0</td><td>18</td></tr><tr><td>1958</td><td>Jim Rathmann</td><td>509</td><td>American</td><td>2.0</td><td>0</td><td>21</td></tr><tr><td>1958</td><td>Anthony Foyt</td><td>531</td><td>American</td><td>0.0</td><td>0</td><td>22</td></tr><tr><td>1958</td><td>Bob Veith</td><td>514</td><td>American</td><td>0.0</td><td>0</td><td>22</td></tr><tr><td>1958</td><td>Jerry Unser</td><td>598</td><td>American</td><td>0.0</td><td>0</td><td>22</td></tr><tr><td>1958</td><td>Johnnie Tolan</td><td>594</td><td>American</td><td>0.0</td><td>0</td><td>22</td></tr><tr><td>1958</td><td>Mike Magill</td><td>565</td><td>American</td><td>0.0</td><td>0</td><td>22</td></tr><tr><td>1958</td><td>Paul Russo</td><td>555</td><td>American</td><td>0.0</td><td>0</td><td>22</td></tr><tr><td>1958</td><td>Eddie Johnson</td><td>513</td><td>American</td><td>0.0</td><td>0</td><td>22</td></tr><tr><td>1958</td><td>Al Keller</td><td>558</td><td>American</td><td>0.0</td><td>0</td><td>22</td></tr><tr><td>1958</td><td>Don Freeland</td><td>528</td><td>American</td><td>0.0</td><td>0</td><td>22</td></tr><tr><td>1958</td><td>Johnnie Parsons</td><td>593</td><td>American</td><td>0.0</td><td>0</td><td>22</td></tr><tr><td>1958</td><td>Pat O'Connor</td><td>597</td><td>American</td><td>0.0</td><td>0</td><td>22</td></tr><tr><td>1958</td><td>Jimmy Reece</td><td>592</td><td>American</td><td>0.0</td><td>0</td><td>22</td></tr><tr><td>1958</td><td>Rodger Ward</td><td>449</td><td>American</td><td>0.0</td><td>0</td><td>22</td></tr><tr><td>1958</td><td>Billy Garrett</td><td>595</td><td>American</td><td>0.0</td><td>0</td><td>22</td></tr><tr><td>1958</td><td>Johnny Thomson</td><td>512</td><td>American</td><td>0.0</td><td>0</td><td>22</td></tr><tr><td>1958</td><td>Ed Elisian</td><td>596</td><td>American</td><td>0.0</td><td>0</td><td>22</td></tr><tr><td>1958</td><td>Art Bisch</td><td>599</td><td>American</td><td>0.0</td><td>0</td><td>22</td></tr><tr><td>1958</td><td>Bill Cheesbourg</td><td>560</td><td>American</td><td>0.0</td><td>0</td><td>22</td></tr><tr><td>1958</td><td>Dick Rathmann</td><td>537</td><td>American</td><td>0.0</td><td>0</td><td>22</td></tr><tr><td>1958</td><td>Chuck Weyant</td><td>563</td><td>American</td><td>0.0</td><td>0</td><td>22</td></tr><tr><td>1958</td><td>Paul Goldsmith</td><td>510</td><td>American</td><td>0.0</td><td>0</td><td>22</td></tr><tr><td>1958</td><td>Len Sutton</td><td>536</td><td>American</td><td>0.0</td><td>0</td><td>22</td></tr><tr><td>1958</td><td>Shorty Templeman</td><td>523</td><td>American</td><td>0.0</td><td>0</td><td>22</td></tr><tr><td>1958</td><td>Jack Turner</td><td>562</td><td>American</td><td>0.0</td><td>0</td><td>22</td></tr><tr><td>1958</td><td>Bob Christie</td><td>516</td><td>American</td><td>0.0</td><td>0</td><td>22</td></tr><tr><td>1958</td><td>Dempsey Wilson</td><td>539</td><td>American</td><td>0.0</td><td>0</td><td>22</td></tr><tr><td>1958</td><td>Jud Larson</td><td>564</td><td>American</td><td>0.0</td><td>0</td><td>22</td></tr><tr><td>1958</td><td>Eddie Sachs</td><td>527</td><td>American</td><td>0.0</td><td>0</td><td>22</td></tr><tr><td>1958</td><td>Luigi Taramazzo</td><td>588</td><td>Italian</td><td>0.0</td><td>0</td><td>22</td></tr><tr><td>1958</td><td>Giulio Cabianca</td><td>543</td><td>Italian</td><td>0.0</td><td>0</td><td>22</td></tr><tr><td>1958</td><td>Bernie Ecclestone</td><td>587</td><td>British</td><td>0.0</td><td>0</td><td>22</td></tr><tr><td>1958</td><td>Paco Godia</td><td>580</td><td>Spanish</td><td>0.0</td><td>0</td><td>22</td></tr><tr><td>1958</td><td>Maria de Filippis</td><td>551</td><td>Italian</td><td>0.0</td><td>0</td><td>22</td></tr><tr><td>1958</td><td>Giorgio Scarlatti</td><td>483</td><td>Italian</td><td>0.0</td><td>0</td><td>22</td></tr><tr><td>1958</td><td>Louis Chiron</td><td>589</td><td>Monegasque</td><td>0.0</td><td>0</td><td>22</td></tr><tr><td>1958</td><td>Luigi Piotti</td><td>586</td><td>Italian</td><td>0.0</td><td>0</td><td>22</td></tr><tr><td>1958</td><td>Gerino Gerini</td><td>583</td><td>Italian</td><td>0.0</td><td>0</td><td>22</td></tr><tr><td>1958</td><td>Ken Kavanagh</td><td>582</td><td>Australian</td><td>0.0</td><td>0</td><td>22</td></tr><tr><td>1958</td><td>André Testut</td><td>553</td><td>Monegasque</td><td>0.0</td><td>0</td><td>22</td></tr><tr><td>1958</td><td>Paul Emery</td><td>585</td><td>British</td><td>0.0</td><td>0</td><td>22</td></tr><tr><td>1958</td><td>Bruce Kessler</td><td>584</td><td>American</td><td>0.0</td><td>0</td><td>22</td></tr><tr><td>1958</td><td>Graham Hill</td><td>289</td><td>British</td><td>0.0</td><td>0</td><td>22</td></tr><tr><td>1958</td><td>Ron Flockhart</td><td>541</td><td>British</td><td>0.0</td><td>0</td><td>22</td></tr><tr><td>1958</td><td>Horace Gould</td><td>547</td><td>British</td><td>0.0</td><td>0</td><td>22</td></tr><tr><td>1958</td><td>Hans Herrmann</td><td>478</td><td>German</td><td>0.0</td><td>0</td><td>22</td></tr><tr><td>1958</td><td>Edgar Barth</td><td>431</td><td>German</td><td>0.0</td><td>0</td><td>22</td></tr><tr><td>1958</td><td>Wolfgang Seidel</td><td>455</td><td>German</td><td>0.0</td><td>0</td><td>22</td></tr><tr><td>1958</td><td>André Guelfi</td><td>603</td><td>French</td><td>0.0</td><td>0</td><td>22</td></tr><tr><td>1958</td><td>Olivier Gendebien</td><td>482</td><td>Belgian</td><td>0.0</td><td>0</td><td>22</td></tr><tr><td>1958</td><td>Brian Naylor</td><td>484</td><td>British</td><td>0.0</td><td>0</td><td>22</td></tr><tr><td>1958</td><td>Jack Fairman</td><td>486</td><td>British</td><td>0.0</td><td>0</td><td>22</td></tr><tr><td>1958</td><td>Masten Gregory</td><td>418</td><td>American</td><td>0.0</td><td>0</td><td>22</td></tr><tr><td>1958</td><td>Christian Goethals</td><td>600</td><td>Belgian</td><td>0.0</td><td>0</td><td>22</td></tr><tr><td>1958</td><td>Tony Marsh</td><td>459</td><td>British</td><td>0.0</td><td>0</td><td>22</td></tr><tr><td>1958</td><td>Ian Burgess</td><td>437</td><td>British</td><td>0.0</td><td>0</td><td>22</td></tr><tr><td>1958</td><td>Carel Godin de Beaufort</td><td>430</td><td>Dutch</td><td>0.0</td><td>0</td><td>22</td></tr><tr><td>1958</td><td>François Picard</td><td>604</td><td>French</td><td>0.0</td><td>0</td><td>22</td></tr><tr><td>1958</td><td>Dick Gibson</td><td>601</td><td>British</td><td>0.0</td><td>0</td><td>22</td></tr><tr><td>1958</td><td>Troy Ruttman</td><td>526</td><td>American</td><td>0.0</td><td>0</td><td>22</td></tr><tr><td>1958</td><td>Bruce McLaren</td><td>360</td><td>New Zealander</td><td>0.0</td><td>0</td><td>22</td></tr><tr><td>1958</td><td>Robert La Caze</td><td>602</td><td>French</td><td>0.0</td><td>0</td><td>22</td></tr><tr><td>1958</td><td>Ivor Bueb</td><td>549</td><td>British</td><td>0.0</td><td>0</td><td>22</td></tr><tr><td>1958</td><td>Tom Bridger</td><td>605</td><td>British</td><td>0.0</td><td>0</td><td>22</td></tr><tr><td>1958</td><td>Alan Stacey</td><td>502</td><td>British</td><td>0.0</td><td>0</td><td>22</td></tr><tr><td>1958</td><td>Carroll Shelby</td><td>566</td><td>American</td><td>0.0</td><td>0</td><td>22</td></tr><tr><td>1958</td><td>Carlos Menditeguy</td><td>496</td><td>Argentine</td><td>0.0</td><td>0</td><td>22</td></tr><tr><td>1956</td><td>Stirling Moss</td><td>475</td><td>British</td><td>24.0</td><td>2</td><td>1</td></tr><tr><td>1956</td><td>Juan Fangio</td><td>579</td><td>Argentine</td><td>22.5</td><td>2</td><td>2</td></tr><tr><td>1956</td><td>Peter Collins</td><td>581</td><td>British</td><td>22.0</td><td>2</td><td>3</td></tr><tr><td>1956</td><td>Jean Behra</td><td>554</td><td>French</td><td>22.0</td><td>0</td><td>4</td></tr><tr><td>1956</td><td>Pat Flaherty</td><td>559</td><td>American</td><td>8.0</td><td>1</td><td>5</td></tr><tr><td>1956</td><td>Sam Hanks</td><td>611</td><td>American</td><td>6.0</td><td>0</td><td>6</td></tr><tr><td>1956</td><td>Eugenio Castellotti</td><td>608</td><td>Italian</td><td>6.0</td><td>0</td><td>6</td></tr><tr><td>1956</td><td>Paco Godia</td><td>580</td><td>Spanish</td><td>6.0</td><td>0</td><td>6</td></tr><tr><td>1956</td><td>Paul Frère</td><td>632</td><td>Belgian</td><td>6.0</td><td>0</td><td>6</td></tr><tr><td>1956</td><td>Luigi Musso</td><td>577</td><td>Italian</td><td>5.0</td><td>1</td><td>10</td></tr><tr><td>1956</td><td>Jack Fairman</td><td>486</td><td>British</td><td>5.0</td><td>0</td><td>11</td></tr><tr><td>1956</td><td>Don Freeland</td><td>528</td><td>American</td><td>4.0</td><td>0</td><td>12</td></tr><tr><td>1956</td><td>Mike Hawthorn</td><td>578</td><td>British</td><td>4.0</td><td>0</td><td>12</td></tr><tr><td>1956</td><td>Ron Flockhart</td><td>541</td><td>British</td><td>4.0</td><td>0</td><td>12</td></tr><tr><td>1956</td><td>Johnnie Parsons</td><td>593</td><td>American</td><td>3.0</td><td>0</td><td>15</td></tr><tr><td>1956</td><td>Cesare Perdisa</td><td>607</td><td>Italian</td><td>3.0</td><td>0</td><td>15</td></tr><tr><td>1956</td><td>Alfonso de Portago</td><td>606</td><td>Spanish</td><td>3.0</td><td>0</td><td>15</td></tr><tr><td>1956</td><td>Harry Schell</td><td>501</td><td>American</td><td>3.0</td><td>0</td><td>15</td></tr><tr><td>1956</td><td>Dick Rathmann</td><td>537</td><td>American</td><td>2.0</td><td>0</td><td>19</td></tr><tr><td>1956</td><td>Horace Gould</td><td>547</td><td>British</td><td>2.0</td><td>0</td><td>19</td></tr><tr><td>1956</td><td>Hernando da Silva Ramos</td><td>624</td><td>Brazilian</td><td>2.0</td><td>0</td><td>19</td></tr><tr><td>1956</td><td>Luigi Villoresi</td><td>633</td><td>Italian</td><td>2.0</td><td>0</td><td>19</td></tr><tr><td>1956</td><td>Louis Rosier</td><td>627</td><td>French</td><td>2.0</td><td>0</td><td>19</td></tr><tr><td>1956</td><td>Olivier Gendebien</td><td>482</td><td>Belgian</td><td>2.0</td><td>0</td><td>19</td></tr><tr><td>1956</td><td>Gerino Gerini</td><td>583</td><td>Italian</td><td>1.5</td><td>0</td><td>25</td></tr><tr><td>1956</td><td>Chico Landi</td><td>622</td><td>Brazilian</td><td>1.5</td><td>0</td><td>25</td></tr><tr><td>1956</td><td>Paul Russo</td><td>555</td><td>American</td><td>1.0</td><td>0</td><td>27</td></tr><tr><td>1956</td><td>Troy Ruttman</td><td>526</td><td>American</td><td>0.0</td><td>0</td><td>28</td></tr><tr><td>1956</td><td>Keith Andrews</td><td>631</td><td>American</td><td>0.0</td><td>0</td><td>28</td></tr><tr><td>1956</td><td>Rodger Ward</td><td>449</td><td>American</td><td>0.0</td><td>0</td><td>28</td></tr><tr><td>1956</td><td>Johnnie Tolan</td><td>594</td><td>American</td><td>0.0</td><td>0</td><td>28</td></tr><tr><td>1956</td><td>Ray Crawford</td><td>561</td><td>American</td><td>0.0</td><td>0</td><td>28</td></tr><tr><td>1956</td><td>Jimmy Daywalt</td><td>556</td><td>American</td><td>0.0</td><td>0</td><td>28</td></tr><tr><td>1956</td><td>Tony Bettenhausen</td><td>529</td><td>American</td><td>0.0</td><td>0</td><td>28</td></tr><tr><td>1956</td><td>Pat O'Connor</td><td>597</td><td>American</td><td>0.0</td><td>0</td><td>28</td></tr><tr><td>1956</td><td>Ed Elisian</td><td>596</td><td>American</td><td>0.0</td><td>0</td><td>28</td></tr><tr><td>1956</td><td>Bob Sweikert</td><td>628</td><td>American</td><td>0.0</td><td>0</td><td>28</td></tr><tr><td>1956</td><td>Fred Agabashian</td><td>615</td><td>American</td><td>0.0</td><td>0</td><td>28</td></tr><tr><td>1956</td><td>Andy Linden</td><td>612</td><td>American</td><td>0.0</td><td>0</td><td>28</td></tr><tr><td>1956</td><td>Eddie Johnson</td><td>513</td><td>American</td><td>0.0</td><td>0</td><td>28</td></tr><tr><td>1956</td><td>Eddie Russo</td><td>532</td><td>American</td><td>0.0</td><td>0</td><td>28</td></tr><tr><td>1956</td><td>Jimmy Bryan</td><td>525</td><td>American</td><td>0.0</td><td>0</td><td>28</td></tr><tr><td>1956</td><td>Jack Turner</td><td>562</td><td>American</td><td>0.0</td><td>0</td><td>28</td></tr><tr><td>1956</td><td>Al Keller</td><td>558</td><td>American</td><td>0.0</td><td>0</td><td>28</td></tr><tr><td>1956</td><td>Bob Veith</td><td>514</td><td>American</td><td>0.0</td><td>0</td><td>28</td></tr><tr><td>1956</td><td>Duke Dinsmore</td><td>630</td><td>American</td><td>0.0</td><td>0</td><td>28</td></tr><tr><td>1956</td><td>Billy Garrett</td><td>595</td><td>American</td><td>0.0</td><td>0</td><td>28</td></tr><tr><td>1956</td><td>Johnny Boyd</td><td>533</td><td>American</td><td>0.0</td><td>0</td><td>28</td></tr><tr><td>1956</td><td>Johnny Thomson</td><td>512</td><td>American</td><td>0.0</td><td>0</td><td>28</td></tr><tr><td>1956</td><td>Jim Rathmann</td><td>509</td><td>American</td><td>0.0</td><td>0</td><td>28</td></tr><tr><td>1956</td><td>Al Herman</td><td>538</td><td>American</td><td>0.0</td><td>0</td><td>28</td></tr><tr><td>1956</td><td>Cliff Griffith</td><td>629</td><td>American</td><td>0.0</td><td>0</td><td>28</td></tr><tr><td>1956</td><td>Bob Christie</td><td>516</td><td>American</td><td>0.0</td><td>0</td><td>28</td></tr><tr><td>1956</td><td>Gene Hartley</td><td>520</td><td>American</td><td>0.0</td><td>0</td><td>28</td></tr><tr><td>1956</td><td>Jimmy Reece</td><td>592</td><td>American</td><td>0.0</td><td>0</td><td>28</td></tr><tr><td>1956</td><td>Maurice Trintignant</td><td>427</td><td>French</td><td>0.0</td><td>0</td><td>28</td></tr><tr><td>1956</td><td>Jack Brabham</td><td>356</td><td>Australian</td><td>0.0</td><td>0</td><td>28</td></tr><tr><td>1956</td><td>Archie Scott Brown</td><td>637</td><td>British</td><td>0.0</td><td>0</td><td>28</td></tr><tr><td>1956</td><td>Bruce Halford</td><td>506</td><td>British</td><td>0.0</td><td>0</td><td>28</td></tr><tr><td>1956</td><td>José Froilán González</td><td>498</td><td>Argentine</td><td>0.0</td><td>0</td><td>28</td></tr><tr><td>1956</td><td>Desmond Titterington</td><td>636</td><td>British</td><td>0.0</td><td>0</td><td>28</td></tr><tr><td>1956</td><td>Paul Emery</td><td>585</td><td>British</td><td>0.0</td><td>0</td><td>28</td></tr><tr><td>1956</td><td>Robert Manzon</td><td>626</td><td>French</td><td>0.0</td><td>0</td><td>28</td></tr><tr><td>1956</td><td>Umberto Maglioli</td><td>620</td><td>Italian</td><td>0.0</td><td>0</td><td>28</td></tr><tr><td>1956</td><td>Tony Brooks</td><td>479</td><td>British</td><td>0.0</td><td>0</td><td>28</td></tr><tr><td>1956</td><td>Bob Gerard</td><td>619</td><td>British</td><td>0.0</td><td>0</td><td>28</td></tr><tr><td>1956</td><td>Roy Salvadori</td><td>456</td><td>British</td><td>0.0</td><td>0</td><td>28</td></tr><tr><td>1956</td><td>Jo Bonnier</td><td>347</td><td>Swedish</td><td>0.0</td><td>0</td><td>28</td></tr><tr><td>1956</td><td>Toulo de Graffenried</td><td>640</td><td>Swiss</td><td>0.0</td><td>0</td><td>28</td></tr><tr><td>1956</td><td>André Simon</td><td>609</td><td>French</td><td>0.0</td><td>0</td><td>28</td></tr><tr><td>1956</td><td>Piero Taruffi</td><td>641</td><td>Italian</td><td>0.0</td><td>0</td><td>28</td></tr><tr><td>1956</td><td>Les Leston</td><td>610</td><td>British</td><td>0.0</td><td>0</td><td>28</td></tr><tr><td>1956</td><td>Luigi Piotti</td><td>586</td><td>Italian</td><td>0.0</td><td>0</td><td>28</td></tr><tr><td>1956</td><td>Wolfgang von Trips</td><td>476</td><td>German</td><td>0.0</td><td>0</td><td>28</td></tr><tr><td>1956</td><td>Élie Bayol</td><td>625</td><td>French</td><td>0.0</td><td>0</td><td>28</td></tr><tr><td>1956</td><td>Carlos Menditeguy</td><td>496</td><td>Argentine</td><td>0.0</td><td>0</td><td>28</td></tr><tr><td>1956</td><td>Alberto Uria</td><td>623</td><td>Uruguayan</td><td>0.0</td><td>0</td><td>28</td></tr><tr><td>1956</td><td>André Pilette</td><td>429</td><td>Belgian</td><td>0.0</td><td>0</td><td>28</td></tr><tr><td>1956</td><td>Giorgio Scarlatti</td><td>483</td><td>Italian</td><td>0.0</td><td>0</td><td>28</td></tr><tr><td>1956</td><td>Óscar González</td><td>806</td><td>Uruguayan</td><td>0.0</td><td>0</td><td>28</td></tr><tr><td>1956</td><td>André Milhoux</td><td>639</td><td>Belgian</td><td>0.0</td><td>0</td><td>28</td></tr><tr><td>1956</td><td>Louis Chiron</td><td>589</td><td>Monegasque</td><td>0.0</td><td>0</td><td>28</td></tr><tr><td>1956</td><td>Piero Scotti</td><td>634</td><td>Italian</td><td>0.0</td><td>0</td><td>28</td></tr><tr><td>1956</td><td>Ottorino Volonterio</td><td>638</td><td>Swiss</td><td>0.0</td><td>0</td><td>28</td></tr><tr><td>1956</td><td>Colin Chapman</td><td>635</td><td>British</td><td>0.0</td><td>0</td><td>28</td></tr><tr><td>1951</td><td>Juan Fangio</td><td>579</td><td>Argentine</td><td>32.0</td><td>2</td><td>1</td></tr><tr><td>1951</td><td>Alberto Ascari</td><td>647</td><td>Italian</td><td>28.0</td><td>2</td><td>2</td></tr><tr><td>1951</td><td>José Froilán González</td><td>498</td><td>Argentine</td><td>27.0</td><td>1</td><td>3</td></tr><tr><td>1951</td><td>Nino Farina</td><td>642</td><td>Italian</td><td>19.0</td><td>1</td><td>4</td></tr><tr><td>1951</td><td>Luigi Villoresi</td><td>633</td><td>Italian</td><td>18.0</td><td>0</td><td>5</td></tr><tr><td>1951</td><td>Piero Taruffi</td><td>641</td><td>Italian</td><td>10.0</td><td>0</td><td>6</td></tr><tr><td>1951</td><td>Lee Wallard</td><td>766</td><td>American</td><td>9.0</td><td>1</td><td>7</td></tr><tr><td>1951</td><td>Felice Bonetto</td><td>697</td><td>Italian</td><td>7.0</td><td>0</td><td>8</td></tr><tr><td>1951</td><td>Mike Nazaruk</td><td>673</td><td>American</td><td>6.0</td><td>0</td><td>9</td></tr><tr><td>1951</td><td>Reg Parnell</td><td>686</td><td>British</td><td>5.0</td><td>0</td><td>10</td></tr><tr><td>1951</td><td>Luigi Fagioli</td><td>786</td><td>Italian</td><td>4.0</td><td>1</td><td>11</td></tr><tr><td>1951</td><td>Andy Linden</td><td>612</td><td>American</td><td>3.0</td><td>0</td><td>12</td></tr><tr><td>1951</td><td>Louis Rosier</td><td>627</td><td>French</td><td>3.0</td><td>0</td><td>12</td></tr><tr><td>1951</td><td>Consalvo Sanesi</td><td>763</td><td>Italian</td><td>3.0</td><td>0</td><td>12</td></tr><tr><td>1951</td><td>Bobby Ball</td><td>734</td><td>American</td><td>2.0</td><td>0</td><td>15</td></tr><tr><td>1951</td><td>Manny Ayulo</td><td>675</td><td>American</td><td>2.0</td><td>0</td><td>15</td></tr><tr><td>1951</td><td>Jack McGrath</td><td>658</td><td>American</td><td>2.0</td><td>0</td><td>15</td></tr><tr><td>1951</td><td>Toulo de Graffenried</td><td>640</td><td>Swiss</td><td>2.0</td><td>0</td><td>15</td></tr><tr><td>1951</td><td>Yves Cabantous</td><td>704</td><td>French</td><td>2.0</td><td>0</td><td>15</td></tr><tr><td>1951</td><td>Mack Hellings</td><td>772</td><td>American</td><td>0.0</td><td>0</td><td>20</td></tr><tr><td>1951</td><td>Walt Brown</td><td>771</td><td>American</td><td>0.0</td><td>0</td><td>20</td></tr><tr><td>1951</td><td>Duke Nalon</td><td>699</td><td>American</td><td>0.0</td><td>0</td><td>20</td></tr><tr><td>1951</td><td>Walt Faulkner</td><td>654</td><td>American</td><td>0.0</td><td>0</td><td>20</td></tr><tr><td>1951</td><td>Troy Ruttman</td><td>526</td><td>American</td><td>0.0</td><td>0</td><td>20</td></tr><tr><td>1951</td><td>Gene Force</td><td>534</td><td>American</td><td>0.0</td><td>0</td><td>20</td></tr><tr><td>1951</td><td>Cliff Griffith</td><td>629</td><td>American</td><td>0.0</td><td>0</td><td>20</td></tr><tr><td>1951</td><td>Joe James</td><td>728</td><td>American</td><td>0.0</td><td>0</td><td>20</td></tr><tr><td>1951</td><td>Bill Vukovich</td><td>657</td><td>American</td><td>0.0</td><td>0</td><td>20</td></tr><tr><td>1951</td><td>Carl Scarborough</td><td>700</td><td>American</td><td>0.0</td><td>0</td><td>20</td></tr><tr><td>1951</td><td>Chet Miller</td><td>733</td><td>American</td><td>0.0</td><td>0</td><td>20</td></tr><tr><td>1951</td><td>Chuck Stevenson</td><td>521</td><td>American</td><td>0.0</td><td>0</td><td>20</td></tr><tr><td>1951</td><td>Bill Schindler</td><td>729</td><td>American</td><td>0.0</td><td>0</td><td>20</td></tr><tr><td>1951</td><td>Johnny McDowell</td><td>732</td><td>American</td><td>0.0</td><td>0</td><td>20</td></tr><tr><td>1951</td><td>Fred Agabashian</td><td>615</td><td>American</td><td>0.0</td><td>0</td><td>20</td></tr><tr><td>1951</td><td>Johnnie Parsons</td><td>593</td><td>American</td><td>0.0</td><td>0</td><td>20</td></tr><tr><td>1951</td><td>Mauri Rose</td><td>768</td><td>American</td><td>0.0</td><td>0</td><td>20</td></tr><tr><td>1951</td><td>Rodger Ward</td><td>449</td><td>American</td><td>0.0</td><td>0</td><td>20</td></tr><tr><td>1951</td><td>Carl Forberg</td><td>767</td><td>American</td><td>0.0</td><td>0</td><td>20</td></tr><tr><td>1951</td><td>Duke Dinsmore</td><td>630</td><td>American</td><td>0.0</td><td>0</td><td>20</td></tr><tr><td>1951</td><td>Jimmy Davies</td><td>653</td><td>American</td><td>0.0</td><td>0</td><td>20</td></tr><tr><td>1951</td><td>George Connor</td><td>726</td><td>American</td><td>0.0</td><td>0</td><td>20</td></tr><tr><td>1951</td><td>Bill Mackey</td><td>769</td><td>American</td><td>0.0</td><td>0</td><td>20</td></tr><tr><td>1951</td><td>Sam Hanks</td><td>611</td><td>American</td><td>0.0</td><td>0</td><td>20</td></tr><tr><td>1951</td><td>Tony Bettenhausen</td><td>529</td><td>American</td><td>0.0</td><td>0</td><td>20</td></tr><tr><td>1951</td><td>Duane Carter</td><td>518</td><td>American</td><td>0.0</td><td>0</td><td>20</td></tr><tr><td>1951</td><td>Cecil Green</td><td>770</td><td>American</td><td>0.0</td><td>0</td><td>20</td></tr><tr><td>1951</td><td>Henry Banks</td><td>731</td><td>American</td><td>0.0</td><td>0</td><td>20</td></tr><tr><td>1951</td><td>Paul Pietsch</td><td>756</td><td>German</td><td>0.0</td><td>0</td><td>20</td></tr><tr><td>1951</td><td>Pierre Levegh</td><td>773</td><td>French</td><td>0.0</td><td>0</td><td>20</td></tr><tr><td>1951</td><td>André Simon</td><td>609</td><td>French</td><td>0.0</td><td>0</td><td>20</td></tr><tr><td>1951</td><td>Ken Richardson</td><td>781</td><td>British</td><td>0.0</td><td>0</td><td>20</td></tr><tr><td>1951</td><td>Georges Grignard</td><td>783</td><td>French</td><td>0.0</td><td>0</td><td>20</td></tr><tr><td>1951</td><td>Rudi Fischer</td><td>723</td><td>Swiss</td><td>0.0</td><td>0</td><td>20</td></tr><tr><td>1951</td><td>Onofre Marimón</td><td>670</td><td>Argentine</td><td>0.0</td><td>0</td><td>20</td></tr><tr><td>1951</td><td>Eugène Chaboud</td><td>774</td><td>French</td><td>0.0</td><td>0</td><td>20</td></tr><tr><td>1951</td><td>Bob Gerard</td><td>619</td><td>British</td><td>0.0</td><td>0</td><td>20</td></tr><tr><td>1951</td><td>Jacques Swaters</td><td>680</td><td>American</td><td>0.0</td><td>0</td><td>20</td></tr><tr><td>1951</td><td>Johnny Claes</td><td>660</td><td>Belgian</td><td>0.0</td><td>0</td><td>20</td></tr><tr><td>1951</td><td>Philippe Étancelin</td><td>741</td><td>French</td><td>0.0</td><td>0</td><td>20</td></tr><tr><td>1951</td><td>David Murray</td><td>747</td><td>British</td><td>0.0</td><td>0</td><td>20</td></tr><tr><td>1951</td><td>Guy Mairesse</td><td>764</td><td>French</td><td>0.0</td><td>0</td><td>20</td></tr><tr><td>1951</td><td>Brian Shawe Taylor</td><td>778</td><td>British</td><td>0.0</td><td>0</td><td>20</td></tr><tr><td>1951</td><td>Louis Chiron</td><td>589</td><td>Monegasque</td><td>0.0</td><td>0</td><td>20</td></tr><tr><td>1951</td><td>Peter Walker</td><td>661</td><td>British</td><td>0.0</td><td>0</td><td>20</td></tr><tr><td>1951</td><td>Harry Schell</td><td>501</td><td>American</td><td>0.0</td><td>0</td><td>20</td></tr><tr><td>1951</td><td>Philip Fotheringham-Parker</td><td>777</td><td>British</td><td>0.0</td><td>0</td><td>20</td></tr><tr><td>1951</td><td>Duncan Hamilton</td><td>708</td><td>British</td><td>0.0</td><td>0</td><td>20</td></tr><tr><td>1951</td><td>Joe Kelly</td><td>776</td><td>Irish</td><td>0.0</td><td>0</td><td>20</td></tr><tr><td>1951</td><td>Paco Godia</td><td>580</td><td>Spanish</td><td>0.0</td><td>0</td><td>20</td></tr><tr><td>1951</td><td>Toni Branca</td><td>780</td><td>Swiss</td><td>0.0</td><td>0</td><td>20</td></tr><tr><td>1951</td><td>Juan Jover</td><td>782</td><td>Spanish</td><td>0.0</td><td>0</td><td>20</td></tr><tr><td>1951</td><td>Robert Manzon</td><td>626</td><td>French</td><td>0.0</td><td>0</td><td>20</td></tr><tr><td>1951</td><td>John James</td><td>779</td><td>British</td><td>0.0</td><td>0</td><td>20</td></tr><tr><td>1951</td><td>Aldo Gordini</td><td>775</td><td>French</td><td>0.0</td><td>0</td><td>20</td></tr><tr><td>1951</td><td>Peter Whitehead</td><td>687</td><td>British</td><td>0.0</td><td>0</td><td>20</td></tr><tr><td>1951</td><td>Prince Bira</td><td>669</td><td>Thai</td><td>0.0</td><td>0</td><td>20</td></tr><tr><td>1951</td><td>Franco Rol</td><td>762</td><td>Italian</td><td>0.0</td><td>0</td><td>20</td></tr><tr><td>1951</td><td>Chico Landi</td><td>622</td><td>Brazilian</td><td>0.0</td><td>0</td><td>20</td></tr><tr><td>1951</td><td>Maurice Trintignant</td><td>427</td><td>French</td><td>0.0</td><td>0</td><td>20</td></tr><tr><td>1951</td><td>André Pilette</td><td>429</td><td>Belgian</td><td>0.0</td><td>0</td><td>20</td></tr><tr><td>1951</td><td>Henri Louveau</td><td>765</td><td>French</td><td>0.0</td><td>0</td><td>20</td></tr><tr><td>1951</td><td>Peter Hirt</td><td>721</td><td>Swiss</td><td>0.0</td><td>0</td><td>20</td></tr><tr><td>1951</td><td>George Abecassis</td><td>725</td><td>British</td><td>0.0</td><td>0</td><td>20</td></tr><tr><td>1951</td><td>Stirling Moss</td><td>475</td><td>British</td><td>0.0</td><td>0</td><td>20</td></tr><tr><td>1955</td><td>Juan Fangio</td><td>579</td><td>Argentine</td><td>41.0</td><td>4</td><td>1</td></tr><tr><td>1955</td><td>Stirling Moss</td><td>475</td><td>British</td><td>22.0</td><td>1</td><td>2</td></tr><tr><td>1955</td><td>Eugenio Castellotti</td><td>608</td><td>Italian</td><td>12.0</td><td>0</td><td>3</td></tr><tr><td>1955</td><td>Piero Taruffi</td><td>641</td><td>Italian</td><td>9.0</td><td>0</td><td>4</td></tr><tr><td>1955</td><td>Nino Farina</td><td>642</td><td>Italian</td><td>8.330000042915344</td><td>0</td><td>5</td></tr><tr><td>1955</td><td>Bob Sweikert</td><td>628</td><td>American</td><td>8.0</td><td>1</td><td>6</td></tr><tr><td>1955</td><td>Maurice Trintignant</td><td>427</td><td>French</td><td>8.0</td><td>1</td><td>6</td></tr><tr><td>1955</td><td>Roberto Mieres</td><td>643</td><td>Argentine</td><td>7.0</td><td>0</td><td>8</td></tr><tr><td>1955</td><td>Luigi Musso</td><td>577</td><td>Italian</td><td>6.0</td><td>0</td><td>9</td></tr><tr><td>1955</td><td>Jean Behra</td><td>554</td><td>French</td><td>5.0</td><td>0</td><td>10</td></tr><tr><td>1955</td><td>Jimmy Davies</td><td>653</td><td>American</td><td>4.0</td><td>0</td><td>11</td></tr><tr><td>1955</td><td>Karl Kling</td><td>648</td><td>German</td><td>4.0</td><td>0</td><td>11</td></tr><tr><td>1955</td><td>Tony Bettenhausen</td><td>529</td><td>American</td><td>3.0</td><td>0</td><td>13</td></tr><tr><td>1955</td><td>Johnny Thomson</td><td>512</td><td>American</td><td>3.0</td><td>0</td><td>13</td></tr><tr><td>1955</td><td>Paul Russo</td><td>555</td><td>American</td><td>3.0</td><td>0</td><td>13</td></tr><tr><td>1955</td><td>Paul Frère</td><td>632</td><td>Belgian</td><td>3.0</td><td>0</td><td>13</td></tr><tr><td>1955</td><td>Luigi Villoresi</td><td>633</td><td>Italian</td><td>2.0</td><td>0</td><td>17</td></tr><tr><td>1955</td><td>José Froilán González</td><td>498</td><td>Argentine</td><td>2.0</td><td>0</td><td>17</td></tr><tr><td>1955</td><td>Carlos Menditeguy</td><td>496</td><td>Argentine</td><td>2.0</td><td>0</td><td>17</td></tr><tr><td>1955</td><td>Umberto Maglioli</td><td>620</td><td>Italian</td><td>1.3300000429153442</td><td>0</td><td>20</td></tr><tr><td>1955</td><td>Bill Homeier</td><td>519</td><td>American</td><td>1.0</td><td>0</td><td>21</td></tr><tr><td>1955</td><td>Bill Vukovich</td><td>657</td><td>American</td><td>1.0</td><td>0</td><td>21</td></tr><tr><td>1955</td><td>Walt Faulkner</td><td>654</td><td>American</td><td>1.0</td><td>0</td><td>21</td></tr><tr><td>1955</td><td>Hans Herrmann</td><td>478</td><td>German</td><td>1.0</td><td>0</td><td>21</td></tr><tr><td>1955</td><td>Jim Rathmann</td><td>509</td><td>American</td><td>0.0</td><td>0</td><td>25</td></tr><tr><td>1955</td><td>Al Herman</td><td>538</td><td>American</td><td>0.0</td><td>0</td><td>25</td></tr><tr><td>1955</td><td>Johnnie Parsons</td><td>593</td><td>American</td><td>0.0</td><td>0</td><td>25</td></tr><tr><td>1955</td><td>Jerry Hoyt</td><td>659</td><td>American</td><td>0.0</td><td>0</td><td>25</td></tr><tr><td>1955</td><td>Jack McGrath</td><td>658</td><td>American</td><td>0.0</td><td>0</td><td>25</td></tr><tr><td>1955</td><td>Eddie Johnson</td><td>513</td><td>American</td><td>0.0</td><td>0</td><td>25</td></tr><tr><td>1955</td><td>Pat Flaherty</td><td>559</td><td>American</td><td>0.0</td><td>0</td><td>25</td></tr><tr><td>1955</td><td>Art Cross</td><td>656</td><td>American</td><td>0.0</td><td>0</td><td>25</td></tr><tr><td>1955</td><td>Sam Hanks</td><td>611</td><td>American</td><td>0.0</td><td>0</td><td>25</td></tr><tr><td>1955</td><td>Chuck Weyant</td><td>563</td><td>American</td><td>0.0</td><td>0</td><td>25</td></tr><tr><td>1955</td><td>Fred Agabashian</td><td>615</td><td>American</td><td>0.0</td><td>0</td><td>25</td></tr><tr><td>1955</td><td>Ray Crawford</td><td>561</td><td>American</td><td>0.0</td><td>0</td><td>25</td></tr><tr><td>1955</td><td>Al Keller</td><td>558</td><td>American</td><td>0.0</td><td>0</td><td>25</td></tr><tr><td>1955</td><td>Jimmy Reece</td><td>592</td><td>American</td><td>0.0</td><td>0</td><td>25</td></tr><tr><td>1955</td><td>Rodger Ward</td><td>449</td><td>American</td><td>0.0</td><td>0</td><td>25</td></tr><tr><td>1955</td><td>Don Freeland</td><td>528</td><td>American</td><td>0.0</td><td>0</td><td>25</td></tr><tr><td>1955</td><td>Eddie Russo</td><td>532</td><td>American</td><td>0.0</td><td>0</td><td>25</td></tr><tr><td>1955</td><td>Pat O'Connor</td><td>597</td><td>American</td><td>0.0</td><td>0</td><td>25</td></tr><tr><td>1955</td><td>Jimmy Bryan</td><td>525</td><td>American</td><td>0.0</td><td>0</td><td>25</td></tr><tr><td>1955</td><td>Cal Niday</td><td>655</td><td>American</td><td>0.0</td><td>0</td><td>25</td></tr><tr><td>1955</td><td>Johnny Boyd</td><td>533</td><td>American</td><td>0.0</td><td>0</td><td>25</td></tr><tr><td>1955</td><td>Keith Andrews</td><td>631</td><td>American</td><td>0.0</td><td>0</td><td>25</td></tr><tr><td>1955</td><td>Shorty Templeman</td><td>523</td><td>American</td><td>0.0</td><td>0</td><td>25</td></tr><tr><td>1955</td><td>Duane Carter</td><td>518</td><td>American</td><td>0.0</td><td>0</td><td>25</td></tr><tr><td>1955</td><td>Andy Linden</td><td>612</td><td>American</td><td>0.0</td><td>0</td><td>25</td></tr><tr><td>1955</td><td>Ed Elisian</td><td>596</td><td>American</td><td>0.0</td><td>0</td><td>25</td></tr><tr><td>1955</td><td>Jimmy Daywalt</td><td>556</td><td>American</td><td>0.0</td><td>0</td><td>25</td></tr><tr><td>1955</td><td>Jean Lucas</td><td>668</td><td>French</td><td>0.0</td><td>0</td><td>25</td></tr><tr><td>1955</td><td>Jack Brabham</td><td>356</td><td>Australian</td><td>0.0</td><td>0</td><td>25</td></tr><tr><td>1955</td><td>Pablo Birger</td><td>649</td><td>Argentine</td><td>0.0</td><td>0</td><td>25</td></tr><tr><td>1955</td><td>Harry Schell</td><td>501</td><td>American</td><td>0.0</td><td>0</td><td>25</td></tr><tr><td>1955</td><td>Jack Fairman</td><td>486</td><td>British</td><td>0.0</td><td>0</td><td>25</td></tr><tr><td>1955</td><td>Mike Hawthorn</td><td>578</td><td>British</td><td>0.0</td><td>0</td><td>25</td></tr><tr><td>1955</td><td>Horace Gould</td><td>547</td><td>British</td><td>0.0</td><td>0</td><td>25</td></tr><tr><td>1955</td><td>Clemar Bucci</td><td>645</td><td>Argentine</td><td>0.0</td><td>0</td><td>25</td></tr><tr><td>1955</td><td>Jesús Iglesias</td><td>646</td><td>Argentine</td><td>0.0</td><td>0</td><td>25</td></tr><tr><td>1955</td><td>Ken Wharton</td><td>663</td><td>British</td><td>0.0</td><td>0</td><td>25</td></tr><tr><td>1955</td><td>Hernando da Silva Ramos</td><td>624</td><td>Brazilian</td><td>0.0</td><td>0</td><td>25</td></tr><tr><td>1955</td><td>Cesare Perdisa</td><td>607</td><td>Italian</td><td>0.0</td><td>0</td><td>25</td></tr><tr><td>1955</td><td>Luigi Piotti</td><td>586</td><td>Italian</td><td>0.0</td><td>0</td><td>25</td></tr><tr><td>1955</td><td>Élie Bayol</td><td>625</td><td>French</td><td>0.0</td><td>0</td><td>25</td></tr><tr><td>1955</td><td>Mike Sparken</td><td>662</td><td>French</td><td>0.0</td><td>0</td><td>25</td></tr><tr><td>1955</td><td>Lance Macklin</td><td>651</td><td>British</td><td>0.0</td><td>0</td><td>25</td></tr><tr><td>1955</td><td>Louis Chiron</td><td>589</td><td>Monegasque</td><td>0.0</td><td>0</td><td>25</td></tr><tr><td>1955</td><td>Alberto Uria</td><td>623</td><td>Uruguayan</td><td>0.0</td><td>0</td><td>25</td></tr><tr><td>1955</td><td>André Simon</td><td>609</td><td>French</td><td>0.0</td><td>0</td><td>25</td></tr><tr><td>1955</td><td>Ted Whiteaway</td><td>652</td><td>British</td><td>0.0</td><td>0</td><td>25</td></tr><tr><td>1955</td><td>Tony Rolt</td><td>666</td><td>British</td><td>0.0</td><td>0</td><td>25</td></tr><tr><td>1955</td><td>Sergio Mantovani</td><td>644</td><td>Italian</td><td>0.0</td><td>0</td><td>25</td></tr><tr><td>1955</td><td>Kenneth McAlpine</td><td>664</td><td>British</td><td>0.0</td><td>0</td><td>25</td></tr><tr><td>1955</td><td>Robert Manzon</td><td>626</td><td>French</td><td>0.0</td><td>0</td><td>25</td></tr><tr><td>1955</td><td>Peter Walker</td><td>661</td><td>British</td><td>0.0</td><td>0</td><td>25</td></tr><tr><td>1955</td><td>Roy Salvadori</td><td>456</td><td>British</td><td>0.0</td><td>0</td><td>25</td></tr><tr><td>1955</td><td>Louis Rosier</td><td>627</td><td>French</td><td>0.0</td><td>0</td><td>25</td></tr><tr><td>1955</td><td>Peter Collins</td><td>581</td><td>British</td><td>0.0</td><td>0</td><td>25</td></tr><tr><td>1955</td><td>John Fitch</td><td>667</td><td>American</td><td>0.0</td><td>0</td><td>25</td></tr><tr><td>1955</td><td>Jacques Pollet</td><td>650</td><td>French</td><td>0.0</td><td>0</td><td>25</td></tr><tr><td>1955</td><td>Leslie Marr</td><td>665</td><td>British</td><td>0.0</td><td>0</td><td>25</td></tr><tr><td>1955</td><td>Alberto Ascari</td><td>647</td><td>Italian</td><td>0.0</td><td>0</td><td>25</td></tr><tr><td>1955</td><td>Johnny Claes</td><td>660</td><td>Belgian</td><td>0.0</td><td>0</td><td>25</td></tr><tr><td>1950</td><td>Nino Farina</td><td>642</td><td>Italian</td><td>30.0</td><td>3</td><td>1</td></tr><tr><td>1950</td><td>Luigi Fagioli</td><td>786</td><td>Italian</td><td>28.0</td><td>0</td><td>2</td></tr><tr><td>1950</td><td>Juan Fangio</td><td>579</td><td>Argentine</td><td>27.0</td><td>3</td><td>3</td></tr><tr><td>1950</td><td>Louis Rosier</td><td>627</td><td>French</td><td>13.0</td><td>0</td><td>4</td></tr><tr><td>1950</td><td>Johnnie Parsons</td><td>593</td><td>American</td><td>9.0</td><td>1</td><td>5</td></tr><tr><td>1950</td><td>Alberto Ascari</td><td>647</td><td>Italian</td><td>8.0</td><td>0</td><td>6</td></tr><tr><td>1950</td><td>Bill Holland</td><td>701</td><td>American</td><td>6.0</td><td>0</td><td>7</td></tr><tr><td>1950</td><td>Prince Bira</td><td>669</td><td>Thai</td><td>5.0</td><td>0</td><td>8</td></tr><tr><td>1950</td><td>Mauri Rose</td><td>768</td><td>American</td><td>4.0</td><td>0</td><td>9</td></tr><tr><td>1950</td><td>Peter Whitehead</td><td>687</td><td>British</td><td>4.0</td><td>0</td><td>9</td></tr><tr><td>1950</td><td>Louis Chiron</td><td>589</td><td>Monegasque</td><td>4.0</td><td>0</td><td>9</td></tr><tr><td>1950</td><td>Reg Parnell</td><td>686</td><td>British</td><td>4.0</td><td>0</td><td>9</td></tr><tr><td>1950</td><td>Cecil Green</td><td>770</td><td>American</td><td>3.0</td><td>0</td><td>13</td></tr><tr><td>1950</td><td>Raymond Sommer</td><td>793</td><td>French</td><td>3.0</td><td>0</td><td>13</td></tr><tr><td>1950</td><td>Philippe Étancelin</td><td>741</td><td>French</td><td>3.0</td><td>0</td><td>13</td></tr><tr><td>1950</td><td>Dorino Serafini</td><td>802</td><td>Italian</td><td>3.0</td><td>0</td><td>13</td></tr><tr><td>1950</td><td>Robert Manzon</td><td>626</td><td>French</td><td>3.0</td><td>0</td><td>13</td></tr><tr><td>1950</td><td>Yves Cabantous</td><td>704</td><td>French</td><td>3.0</td><td>0</td><td>13</td></tr><tr><td>1950</td><td>Felice Bonetto</td><td>697</td><td>Italian</td><td>2.0</td><td>0</td><td>19</td></tr><tr><td>1950</td><td>Joie Chitwood</td><td>794</td><td>American</td><td>1.0</td><td>0</td><td>20</td></tr><tr><td>1950</td><td>Eugène Chaboud</td><td>774</td><td>French</td><td>1.0</td><td>0</td><td>20</td></tr><tr><td>1950</td><td>Myron Fohr</td><td>795</td><td>American</td><td>0.0</td><td>0</td><td>22</td></tr><tr><td>1950</td><td>Duane Carter</td><td>518</td><td>American</td><td>0.0</td><td>0</td><td>22</td></tr><tr><td>1950</td><td>Walt Ader</td><td>796</td><td>American</td><td>0.0</td><td>0</td><td>22</td></tr><tr><td>1950</td><td>Walt Faulkner</td><td>654</td><td>American</td><td>0.0</td><td>0</td><td>22</td></tr><tr><td>1950</td><td>Johnny McDowell</td><td>732</td><td>American</td><td>0.0</td><td>0</td><td>22</td></tr><tr><td>1950</td><td>Henry Banks</td><td>731</td><td>American</td><td>0.0</td><td>0</td><td>22</td></tr><tr><td>1950</td><td>Jerry Hoyt</td><td>659</td><td>American</td><td>0.0</td><td>0</td><td>22</td></tr><tr><td>1950</td><td>Jimmy Jackson</td><td>799</td><td>American</td><td>0.0</td><td>0</td><td>22</td></tr><tr><td>1950</td><td>Travis Webb</td><td>677</td><td>American</td><td>0.0</td><td>0</td><td>22</td></tr><tr><td>1950</td><td>Paul Russo</td><td>555</td><td>American</td><td>0.0</td><td>0</td><td>22</td></tr><tr><td>1950</td><td>Pat Flaherty</td><td>559</td><td>American</td><td>0.0</td><td>0</td><td>22</td></tr><tr><td>1950</td><td>Mack Hellings</td><td>772</td><td>American</td><td>0.0</td><td>0</td><td>22</td></tr><tr><td>1950</td><td>Sam Hanks</td><td>611</td><td>American</td><td>0.0</td><td>0</td><td>22</td></tr><tr><td>1950</td><td>Lee Wallard</td><td>766</td><td>American</td><td>0.0</td><td>0</td><td>22</td></tr><tr><td>1950</td><td>Fred Agabashian</td><td>615</td><td>American</td><td>0.0</td><td>0</td><td>22</td></tr><tr><td>1950</td><td>Tony Bettenhausen</td><td>529</td><td>American</td><td>0.0</td><td>0</td><td>22</td></tr><tr><td>1950</td><td>Jackie Holmes</td><td>797</td><td>American</td><td>0.0</td><td>0</td><td>22</td></tr><tr><td>1950</td><td>Dick Rathmann</td><td>537</td><td>American</td><td>0.0</td><td>0</td><td>22</td></tr><tr><td>1950</td><td>Gene Hartley</td><td>520</td><td>American</td><td>0.0</td><td>0</td><td>22</td></tr><tr><td>1950</td><td>George Connor</td><td>726</td><td>American</td><td>0.0</td><td>0</td><td>22</td></tr><tr><td>1950</td><td>Bayliss Levrett</td><td>798</td><td>American</td><td>0.0</td><td>0</td><td>22</td></tr><tr><td>1950</td><td>Bill Schindler</td><td>729</td><td>American</td><td>0.0</td><td>0</td><td>22</td></tr><tr><td>1950</td><td>Jimmy Davies</td><td>653</td><td>American</td><td>0.0</td><td>0</td><td>22</td></tr><tr><td>1950</td><td>Duke Dinsmore</td><td>630</td><td>American</td><td>0.0</td><td>0</td><td>22</td></tr><tr><td>1950</td><td>Bill Cantrell</td><td>803</td><td>American</td><td>0.0</td><td>0</td><td>22</td></tr><tr><td>1950</td><td>Walt Brown</td><td>771</td><td>American</td><td>0.0</td><td>0</td><td>22</td></tr><tr><td>1950</td><td>Jack McGrath</td><td>658</td><td>American</td><td>0.0</td><td>0</td><td>22</td></tr><tr><td>1950</td><td>Jim Rathmann</td><td>509</td><td>American</td><td>0.0</td><td>0</td><td>22</td></tr><tr><td>1950</td><td>Troy Ruttman</td><td>526</td><td>American</td><td>0.0</td><td>0</td><td>22</td></tr><tr><td>1950</td><td>David Murray</td><td>747</td><td>British</td><td>0.0</td><td>0</td><td>22</td></tr><tr><td>1950</td><td>Henri Louveau</td><td>765</td><td>French</td><td>0.0</td><td>0</td><td>22</td></tr><tr><td>1950</td><td>Johnny Claes</td><td>660</td><td>Belgian</td><td>0.0</td><td>0</td><td>22</td></tr><tr><td>1950</td><td>Clemente Biondetti</td><td>791</td><td>Italian</td><td>0.0</td><td>0</td><td>22</td></tr><tr><td>1950</td><td>Franco Comotti</td><td>740</td><td>Italian</td><td>0.0</td><td>0</td><td>22</td></tr><tr><td>1950</td><td>Maurice Trintignant</td><td>427</td><td>French</td><td>0.0</td><td>0</td><td>22</td></tr><tr><td>1950</td><td>Pierre Levegh</td><td>773</td><td>French</td><td>0.0</td><td>0</td><td>22</td></tr><tr><td>1950</td><td>Paul Pietsch</td><td>756</td><td>German</td><td>0.0</td><td>0</td><td>22</td></tr><tr><td>1950</td><td>Toulo de Graffenried</td><td>640</td><td>Swiss</td><td>0.0</td><td>0</td><td>22</td></tr><tr><td>1950</td><td>Piero Taruffi</td><td>641</td><td>Italian</td><td>0.0</td><td>0</td><td>22</td></tr><tr><td>1950</td><td>Cuth Harrison</td><td>787</td><td>British</td><td>0.0</td><td>0</td><td>22</td></tr><tr><td>1950</td><td>Consalvo Sanesi</td><td>763</td><td>Italian</td><td>0.0</td><td>0</td><td>22</td></tr><tr><td>1950</td><td>Franco Rol</td><td>762</td><td>Italian</td><td>0.0</td><td>0</td><td>22</td></tr><tr><td>1950</td><td>Guy Mairesse</td><td>764</td><td>French</td><td>0.0</td><td>0</td><td>22</td></tr><tr><td>1950</td><td>Eugène Martin</td><td>789</td><td>French</td><td>0.0</td><td>0</td><td>22</td></tr><tr><td>1950</td><td>Alfredo Pián</td><td>792</td><td>Argentine</td><td>0.0</td><td>0</td><td>22</td></tr><tr><td>1950</td><td>Luigi Villoresi</td><td>633</td><td>Italian</td><td>0.0</td><td>0</td><td>22</td></tr><tr><td>1950</td><td>Joe Fry</td><td>788</td><td>British</td><td>0.0</td><td>0</td><td>22</td></tr><tr><td>1950</td><td>Bob Gerard</td><td>619</td><td>British</td><td>0.0</td><td>0</td><td>22</td></tr><tr><td>1950</td><td>David Hampshire</td><td>784</td><td>British</td><td>0.0</td><td>0</td><td>22</td></tr><tr><td>1950</td><td>Brian Shawe Taylor</td><td>778</td><td>British</td><td>0.0</td><td>0</td><td>22</td></tr><tr><td>1950</td><td>Tony Rolt</td><td>666</td><td>British</td><td>0.0</td><td>0</td><td>22</td></tr><tr><td>1950</td><td>Geoff Crossley</td><td>785</td><td>British</td><td>0.0</td><td>0</td><td>22</td></tr><tr><td>1950</td><td>Peter Walker</td><td>661</td><td>British</td><td>0.0</td><td>0</td><td>22</td></tr><tr><td>1950</td><td>Joe Kelly</td><td>776</td><td>Irish</td><td>0.0</td><td>0</td><td>22</td></tr><tr><td>1950</td><td>Harry Schell</td><td>501</td><td>American</td><td>0.0</td><td>0</td><td>22</td></tr><tr><td>1950</td><td>Leslie Johnson</td><td>790</td><td>British</td><td>0.0</td><td>0</td><td>22</td></tr><tr><td>1950</td><td>José Froilán González</td><td>498</td><td>Argentine</td><td>0.0</td><td>0</td><td>22</td></tr><tr><td>1950</td><td>Toni Branca</td><td>780</td><td>Swiss</td><td>0.0</td><td>0</td><td>22</td></tr><tr><td>1950</td><td>Charles Pozzi</td><td>801</td><td>French</td><td>0.0</td><td>0</td><td>22</td></tr><tr><td>1950</td><td>Nello Pagani</td><td>800</td><td>Italian</td><td>0.0</td><td>0</td><td>22</td></tr><tr><td>1957</td><td>Juan Fangio</td><td>579</td><td>Argentine</td><td>46.0</td><td>4</td><td>1</td></tr><tr><td>1957</td><td>Stirling Moss</td><td>475</td><td>British</td><td>20.0</td><td>2</td><td>2</td></tr><tr><td>1957</td><td>Luigi Musso</td><td>577</td><td>Italian</td><td>16.0</td><td>0</td><td>3</td></tr><tr><td>1957</td><td>Mike Hawthorn</td><td>578</td><td>British</td><td>13.0</td><td>0</td><td>4</td></tr><tr><td>1957</td><td>Tony Brooks</td><td>479</td><td>British</td><td>11.0</td><td>1</td><td>5</td></tr><tr><td>1957</td><td>Masten Gregory</td><td>418</td><td>American</td><td>10.0</td><td>0</td><td>6</td></tr><tr><td>1957</td><td>Harry Schell</td><td>501</td><td>American</td><td>9.0</td><td>0</td><td>7</td></tr><tr><td>1957</td><td>Sam Hanks</td><td>611</td><td>American</td><td>8.0</td><td>1</td><td>8</td></tr><tr><td>1957</td><td>Peter Collins</td><td>581</td><td>British</td><td>8.0</td><td>0</td><td>9</td></tr><tr><td>1957</td><td>Jim Rathmann</td><td>509</td><td>American</td><td>7.0</td><td>0</td><td>10</td></tr><tr><td>1957</td><td>Jean Behra</td><td>554</td><td>French</td><td>6.0</td><td>0</td><td>11</td></tr><tr><td>1957</td><td>Stuart Lewis-Evans</td><td>590</td><td>British</td><td>5.0</td><td>0</td><td>12</td></tr><tr><td>1957</td><td>Maurice Trintignant</td><td>427</td><td>French</td><td>5.0</td><td>0</td><td>12</td></tr><tr><td>1957</td><td>Jimmy Bryan</td><td>525</td><td>American</td><td>4.0</td><td>0</td><td>14</td></tr><tr><td>1957</td><td>Wolfgang von Trips</td><td>476</td><td>German</td><td>4.0</td><td>0</td><td>14</td></tr><tr><td>1957</td><td>Carlos Menditeguy</td><td>496</td><td>Argentine</td><td>4.0</td><td>0</td><td>14</td></tr><tr><td>1957</td><td>Paul Russo</td><td>555</td><td>American</td><td>3.0</td><td>0</td><td>17</td></tr><tr><td>1957</td><td>Andy Linden</td><td>612</td><td>American</td><td>2.0</td><td>0</td><td>18</td></tr><tr><td>1957</td><td>Roy Salvadori</td><td>456</td><td>British</td><td>2.0</td><td>0</td><td>18</td></tr><tr><td>1957</td><td>Giorgio Scarlatti</td><td>483</td><td>Italian</td><td>1.0</td><td>0</td><td>20</td></tr><tr><td>1957</td><td>José Froilán González</td><td>498</td><td>Argentine</td><td>1.0</td><td>0</td><td>20</td></tr><tr><td>1957</td><td>Alfonso de Portago</td><td>606</td><td>Spanish</td><td>1.0</td><td>0</td><td>20</td></tr><tr><td>1957</td><td>Chuck Weyant</td><td>563</td><td>American</td><td>0.0</td><td>0</td><td>23</td></tr><tr><td>1957</td><td>Al Keller</td><td>558</td><td>American</td><td>0.0</td><td>0</td><td>23</td></tr><tr><td>1957</td><td>Johnnie Tolan</td><td>594</td><td>American</td><td>0.0</td><td>0</td><td>23</td></tr><tr><td>1957</td><td>Johnny Boyd</td><td>533</td><td>American</td><td>0.0</td><td>0</td><td>23</td></tr><tr><td>1957</td><td>Jimmy Daywalt</td><td>556</td><td>American</td><td>0.0</td><td>0</td><td>23</td></tr><tr><td>1957</td><td>Eddie Johnson</td><td>513</td><td>American</td><td>0.0</td><td>0</td><td>23</td></tr><tr><td>1957</td><td>Johnny Thomson</td><td>512</td><td>American</td><td>0.0</td><td>0</td><td>23</td></tr><tr><td>1957</td><td>Pat O'Connor</td><td>597</td><td>American</td><td>0.0</td><td>0</td><td>23</td></tr><tr><td>1957</td><td>Jack Turner</td><td>562</td><td>American</td><td>0.0</td><td>0</td><td>23</td></tr><tr><td>1957</td><td>Bob Christie</td><td>516</td><td>American</td><td>0.0</td><td>0</td><td>23</td></tr><tr><td>1957</td><td>Eddie Russo</td><td>532</td><td>American</td><td>0.0</td><td>0</td><td>23</td></tr><tr><td>1957</td><td>Jimmy Reece</td><td>592</td><td>American</td><td>0.0</td><td>0</td><td>23</td></tr><tr><td>1957</td><td>Rodger Ward</td><td>449</td><td>American</td><td>0.0</td><td>0</td><td>23</td></tr><tr><td>1957</td><td>Gene Hartley</td><td>520</td><td>American</td><td>0.0</td><td>0</td><td>23</td></tr><tr><td>1957</td><td>Al Herman</td><td>538</td><td>American</td><td>0.0</td><td>0</td><td>23</td></tr><tr><td>1957</td><td>Mike Magill</td><td>565</td><td>American</td><td>0.0</td><td>0</td><td>23</td></tr><tr><td>1957</td><td>Eddie Sachs</td><td>527</td><td>American</td><td>0.0</td><td>0</td><td>23</td></tr><tr><td>1957</td><td>Tony Bettenhausen</td><td>529</td><td>American</td><td>0.0</td><td>0</td><td>23</td></tr><tr><td>1957</td><td>Elmer George</td><td>616</td><td>American</td><td>0.0</td><td>0</td><td>23</td></tr><tr><td>1957</td><td>Johnnie Parsons</td><td>593</td><td>American</td><td>0.0</td><td>0</td><td>23</td></tr><tr><td>1957</td><td>Don Edmunds</td><td>614</td><td>American</td><td>0.0</td><td>0</td><td>23</td></tr><tr><td>1957</td><td>Marshall Teague</td><td>613</td><td>American</td><td>0.0</td><td>0</td><td>23</td></tr><tr><td>1957</td><td>Bob Veith</td><td>514</td><td>American</td><td>0.0</td><td>0</td><td>23</td></tr><tr><td>1957</td><td>Troy Ruttman</td><td>526</td><td>American</td><td>0.0</td><td>0</td><td>23</td></tr><tr><td>1957</td><td>Don Freeland</td><td>528</td><td>American</td><td>0.0</td><td>0</td><td>23</td></tr><tr><td>1957</td><td>Fred Agabashian</td><td>615</td><td>American</td><td>0.0</td><td>0</td><td>23</td></tr><tr><td>1957</td><td>Bill Cheesbourg</td><td>560</td><td>American</td><td>0.0</td><td>0</td><td>23</td></tr><tr><td>1957</td><td>Ed Elisian</td><td>596</td><td>American</td><td>0.0</td><td>0</td><td>23</td></tr><tr><td>1957</td><td>Hans Herrmann</td><td>478</td><td>German</td><td>0.0</td><td>0</td><td>23</td></tr><tr><td>1957</td><td>Paco Godia</td><td>580</td><td>Spanish</td><td>0.0</td><td>0</td><td>23</td></tr><tr><td>1957</td><td>Tony Marsh</td><td>459</td><td>British</td><td>0.0</td><td>0</td><td>23</td></tr><tr><td>1957</td><td>Brian Naylor</td><td>484</td><td>British</td><td>0.0</td><td>0</td><td>23</td></tr><tr><td>1957</td><td>Edgar Barth</td><td>431</td><td>German</td><td>0.0</td><td>0</td><td>23</td></tr><tr><td>1957</td><td>Bruce Halford</td><td>506</td><td>British</td><td>0.0</td><td>0</td><td>23</td></tr><tr><td>1957</td><td>Umberto Maglioli</td><td>620</td><td>Italian</td><td>0.0</td><td>0</td><td>23</td></tr><tr><td>1957</td><td>Paul England</td><td>621</td><td>Australian</td><td>0.0</td><td>0</td><td>23</td></tr><tr><td>1957</td><td>Horace Gould</td><td>547</td><td>British</td><td>0.0</td><td>0</td><td>23</td></tr><tr><td>1957</td><td>Jack Brabham</td><td>356</td><td>Australian</td><td>0.0</td><td>0</td><td>23</td></tr><tr><td>1957</td><td>Dick Gibson</td><td>601</td><td>British</td><td>0.0</td><td>0</td><td>23</td></tr><tr><td>1957</td><td>Carel Godin de Beaufort</td><td>430</td><td>Dutch</td><td>0.0</td><td>0</td><td>23</td></tr><tr><td>1957</td><td>Ron Flockhart</td><td>541</td><td>British</td><td>0.0</td><td>0</td><td>23</td></tr><tr><td>1957</td><td>Alessandro de Tomaso</td><td>573</td><td>Argentine-Italian</td><td>0.0</td><td>0</td><td>23</td></tr><tr><td>1957</td><td>Ivor Bueb</td><td>549</td><td>British</td><td>0.0</td><td>0</td><td>23</td></tr><tr><td>1957</td><td>Eugenio Castellotti</td><td>608</td><td>Italian</td><td>0.0</td><td>0</td><td>23</td></tr><tr><td>1957</td><td>Herbert MacKay-Fraser</td><td>618</td><td>American</td><td>0.0</td><td>0</td><td>23</td></tr><tr><td>1957</td><td>Jack Fairman</td><td>486</td><td>British</td><td>0.0</td><td>0</td><td>23</td></tr><tr><td>1957</td><td>Mike MacDowel</td><td>617</td><td>British</td><td>0.0</td><td>0</td><td>23</td></tr><tr><td>1957</td><td>Bob Gerard</td><td>619</td><td>British</td><td>0.0</td><td>0</td><td>23</td></tr><tr><td>1957</td><td>Cesare Perdisa</td><td>607</td><td>Italian</td><td>0.0</td><td>0</td><td>23</td></tr><tr><td>1957</td><td>Luigi Piotti</td><td>586</td><td>Italian</td><td>0.0</td><td>0</td><td>23</td></tr><tr><td>1957</td><td>André Simon</td><td>609</td><td>French</td><td>0.0</td><td>0</td><td>23</td></tr><tr><td>1957</td><td>Ottorino Volonterio</td><td>638</td><td>Swiss</td><td>0.0</td><td>0</td><td>23</td></tr><tr><td>1957</td><td>Les Leston</td><td>610</td><td>British</td><td>0.0</td><td>0</td><td>23</td></tr><tr><td>1957</td><td>Jo Bonnier</td><td>347</td><td>Swedish</td><td>0.0</td><td>0</td><td>23</td></tr><tr><td>1974</td><td>Emerson Fittipaldi</td><td>224</td><td>Brazilian</td><td>55.0</td><td>3</td><td>1</td></tr><tr><td>1974</td><td>Clay Regazzoni</td><td>223</td><td>Swiss</td><td>52.0</td><td>1</td><td>2</td></tr><tr><td>1974</td><td>Jody Scheckter</td><td>222</td><td>South African</td><td>45.0</td><td>2</td><td>3</td></tr><tr><td>1974</td><td>Niki Lauda</td><td>182</td><td>Austrian</td><td>38.0</td><td>2</td><td>4</td></tr><tr><td>1974</td><td>Ronnie Peterson</td><td>238</td><td>Swedish</td><td>35.0</td><td>3</td><td>5</td></tr><tr><td>1974</td><td>Carlos Reutemann</td><td>199</td><td>Argentine</td><td>32.0</td><td>3</td><td>6</td></tr><tr><td>1974</td><td>Denny Hulme</td><td>304</td><td>New Zealander</td><td>20.0</td><td>1</td><td>7</td></tr><tr><td>1974</td><td>James Hunt</td><td>231</td><td>British</td><td>15.0</td><td>0</td><td>8</td></tr><tr><td>1974</td><td>Patrick Depailler</td><td>221</td><td>French</td><td>14.0</td><td>0</td><td>9</td></tr><tr><td>1974</td><td>Jacky Ickx</td><td>235</td><td>Belgian</td><td>12.0</td><td>0</td><td>10</td></tr><tr><td>1974</td><td>Mike Hailwood</td><td>305</td><td>British</td><td>12.0</td><td>0</td><td>10</td></tr><tr><td>1974</td><td>Carlos Pace</td><td>250</td><td>Brazilian</td><td>11.0</td><td>0</td><td>12</td></tr><tr><td>1974</td><td>Jean-Pierre Beltoise</td><td>306</td><td>French</td><td>10.0</td><td>0</td><td>13</td></tr><tr><td>1974</td><td>Jean-Pierre Jarier</td><td>197</td><td>French</td><td>6.0</td><td>0</td><td>14</td></tr><tr><td>1974</td><td>John Watson</td><td>187</td><td>British</td><td>6.0</td><td>0</td><td>14</td></tr><tr><td>1974</td><td>Hans-Joachim Stuck</td><td>233</td><td>German</td><td>5.0</td><td>0</td><td>16</td></tr><tr><td>1974</td><td>Arturo Merzario</td><td>232</td><td>Italian</td><td>4.0</td><td>0</td><td>17</td></tr><tr><td>1974</td><td>Graham Hill</td><td>289</td><td>British</td><td>1.0</td><td>0</td><td>18</td></tr><tr><td>1974</td><td>Tom Pryce</td><td>252</td><td>British</td><td>1.0</td><td>0</td><td>18</td></tr><tr><td>1974</td><td>Vittorio Brambilla</td><td>230</td><td>Italian</td><td>1.0</td><td>0</td><td>18</td></tr><tr><td>1974</td><td>Guy Edwards</td><td>265</td><td>British</td><td>0.0</td><td>0</td><td>21</td></tr><tr><td>1974</td><td>Chris Amon</td><td>278</td><td>New Zealander</td><td>0.0</td><td>0</td><td>21</td></tr><tr><td>1974</td><td>Larry Perkins</td><td>256</td><td>Australian</td><td>0.0</td><td>0</td><td>21</td></tr><tr><td>1974</td><td>Henri Pescarolo</td><td>280</td><td>French</td><td>0.0</td><td>0</td><td>21</td></tr><tr><td>1974</td><td>Howden Ganley</td><td>307</td><td>New Zealander</td><td>0.0</td><td>0</td><td>21</td></tr><tr><td>1974</td><td>Ian Ashley</td><td>270</td><td>British</td><td>0.0</td><td>0</td><td>21</td></tr><tr><td>1974</td><td>François Migault</td><td>296</td><td>French</td><td>0.0</td><td>0</td><td>21</td></tr><tr><td>1974</td><td>Tim Schenken</td><td>314</td><td>Australian</td><td>0.0</td><td>0</td><td>21</td></tr><tr><td>1974</td><td>Jacques Laffite</td><td>172</td><td>French</td><td>0.0</td><td>0</td><td>21</td></tr><tr><td>1974</td><td>Vern Schuppan</td><td>267</td><td>Australian</td><td>0.0</td><td>0</td><td>21</td></tr><tr><td>1974</td><td>Derek Bell</td><td>321</td><td>British</td><td>0.0</td><td>0</td><td>21</td></tr><tr><td>1974</td><td>Jochen Mass</td><td>200</td><td>German</td><td>0.0</td><td>0</td><td>21</td></tr><tr><td>1974</td><td>Mark Donohue</td><td>288</td><td>American</td><td>0.0</td><td>0</td><td>21</td></tr><tr><td>1974</td><td>Rolf Stommelen</td><td>243</td><td>German</td><td>0.0</td><td>0</td><td>21</td></tr><tr><td>1974</td><td>Lella Lombardi</td><td>275</td><td>Italian</td><td>0.0</td><td>0</td><td>21</td></tr><tr><td>1974</td><td>Peter Gethin</td><td>320</td><td>British</td><td>0.0</td><td>0</td><td>21</td></tr><tr><td>1974</td><td>Helmuth Koinigg</td><td>324</td><td>Austrian</td><td>0.0</td><td>0</td><td>21</td></tr><tr><td>1974</td><td>Mike Wilds</td><td>283</td><td>British</td><td>0.0</td><td>0</td><td>21</td></tr><tr><td>1974</td><td>David Purley</td><td>259</td><td>British</td><td>0.0</td><td>0</td><td>21</td></tr><tr><td>1974</td><td>José Dolhem</td><td>319</td><td>French</td><td>0.0</td><td>0</td><td>21</td></tr><tr><td>1974</td><td>Teddy Pilette</td><td>269</td><td>Belgian</td><td>0.0</td><td>0</td><td>21</td></tr><tr><td>1974</td><td>Tom Belsø</td><td>311</td><td>Danish</td><td>0.0</td><td>0</td><td>21</td></tr><tr><td>1974</td><td>Gérard Larrousse</td><td>315</td><td>French</td><td>0.0</td><td>0</td><td>21</td></tr><tr><td>1974</td><td>Gijs van Lennep</td><td>298</td><td>Dutch</td><td>0.0</td><td>0</td><td>21</td></tr><tr><td>1974</td><td>Rikky von Opel</td><td>313</td><td>Liechtensteiner</td><td>0.0</td><td>0</td><td>21</td></tr><tr><td>1974</td><td>Leo Kinnunen</td><td>316</td><td>Finnish</td><td>0.0</td><td>0</td><td>21</td></tr><tr><td>1974</td><td>Mario Andretti</td><td>207</td><td>American</td><td>0.0</td><td>0</td><td>21</td></tr><tr><td>1974</td><td>Brian Redman</td><td>312</td><td>British</td><td>0.0</td><td>0</td><td>21</td></tr><tr><td>1974</td><td>John Nicholson</td><td>300</td><td>New Zealander</td><td>0.0</td><td>0</td><td>21</td></tr><tr><td>1974</td><td>Jean-Pierre Jabouille</td><td>219</td><td>French</td><td>0.0</td><td>0</td><td>21</td></tr><tr><td>1974</td><td>Eppie Wietzes</td><td>326</td><td>Canadian</td><td>0.0</td><td>0</td><td>21</td></tr><tr><td>1974</td><td>Richard Robarts</td><td>308</td><td>British</td><td>0.0</td><td>0</td><td>21</td></tr><tr><td>1974</td><td>David Hobbs</td><td>322</td><td>British</td><td>0.0</td><td>0</td><td>21</td></tr><tr><td>1974</td><td>Eddie Keizan</td><td>292</td><td>South African</td><td>0.0</td><td>0</td><td>21</td></tr><tr><td>1974</td><td>Carlo Facetti</td><td>325</td><td>Italian</td><td>0.0</td><td>0</td><td>21</td></tr><tr><td>1974</td><td>Dieter Quester</td><td>323</td><td>Austrian</td><td>0.0</td><td>0</td><td>21</td></tr><tr><td>1974</td><td>Dave Charlton</td><td>293</td><td>South African</td><td>0.0</td><td>0</td><td>21</td></tr><tr><td>1974</td><td>Ian Scheckter</td><td>251</td><td>South African</td><td>0.0</td><td>0</td><td>21</td></tr><tr><td>1974</td><td>Reine Wisell</td><td>317</td><td>Swedish</td><td>0.0</td><td>0</td><td>21</td></tr><tr><td>1974</td><td>Bertil Roos</td><td>318</td><td>Swedish</td><td>0.0</td><td>0</td><td>21</td></tr><tr><td>1974</td><td>Paddy Driver</td><td>310</td><td>South African</td><td>0.0</td><td>0</td><td>21</td></tr><tr><td>1974</td><td>Peter Revson</td><td>309</td><td>American</td><td>0.0</td><td>0</td><td>21</td></tr><tr><td>1977</td><td>Niki Lauda</td><td>182</td><td>Austrian</td><td>72.0</td><td>3</td><td>1</td></tr><tr><td>1977</td><td>Jody Scheckter</td><td>222</td><td>South African</td><td>55.0</td><td>3</td><td>2</td></tr><tr><td>1977</td><td>Mario Andretti</td><td>207</td><td>American</td><td>47.0</td><td>4</td><td>3</td></tr><tr><td>1977</td><td>Carlos Reutemann</td><td>199</td><td>Argentine</td><td>42.0</td><td>1</td><td>4</td></tr><tr><td>1977</td><td>James Hunt</td><td>231</td><td>British</td><td>40.0</td><td>3</td><td>5</td></tr><tr><td>1977</td><td>Jochen Mass</td><td>200</td><td>German</td><td>25.0</td><td>0</td><td>6</td></tr><tr><td>1977</td><td>Alan Jones</td><td>178</td><td>Australian</td><td>22.0</td><td>1</td><td>7</td></tr><tr><td>1977</td><td>Gunnar Nilsson</td><td>255</td><td>Swedish</td><td>20.0</td><td>1</td><td>8</td></tr><tr><td>1977</td><td>Patrick Depailler</td><td>221</td><td>French</td><td>20.0</td><td>0</td><td>9</td></tr><tr><td>1977</td><td>Jacques Laffite</td><td>172</td><td>French</td><td>18.0</td><td>1</td><td>10</td></tr><tr><td>1977</td><td>Hans-Joachim Stuck</td><td>233</td><td>German</td><td>12.0</td><td>0</td><td>11</td></tr><tr><td>1977</td><td>Emerson Fittipaldi</td><td>224</td><td>Brazilian</td><td>11.0</td><td>0</td><td>12</td></tr><tr><td>1977</td><td>John Watson</td><td>187</td><td>British</td><td>9.0</td><td>0</td><td>13</td></tr><tr><td>1977</td><td>Ronnie Peterson</td><td>238</td><td>Swedish</td><td>7.0</td><td>0</td><td>14</td></tr><tr><td>1977</td><td>Vittorio Brambilla</td><td>230</td><td>Italian</td><td>6.0</td><td>0</td><td>15</td></tr><tr><td>1977</td><td>Carlos Pace</td><td>250</td><td>Brazilian</td><td>6.0</td><td>0</td><td>15</td></tr><tr><td>1977</td><td>Clay Regazzoni</td><td>223</td><td>Swiss</td><td>5.0</td><td>0</td><td>17</td></tr><tr><td>1977</td><td>Patrick Tambay</td><td>175</td><td>French</td><td>5.0</td><td>0</td><td>17</td></tr><tr><td>1977</td><td>Riccardo Patrese</td><td>119</td><td>Italian</td><td>1.0</td><td>0</td><td>19</td></tr><tr><td>1977</td><td>Jean-Pierre Jarier</td><td>197</td><td>French</td><td>1.0</td><td>0</td><td>19</td></tr><tr><td>1977</td><td>Renzo Zorzi</td><td>254</td><td>Italian</td><td>1.0</td><td>0</td><td>19</td></tr><tr><td>1977</td><td>Brian Henton</td><td>205</td><td>British</td><td>0.0</td><td>0</td><td>22</td></tr><tr><td>1977</td><td>Vern Schuppan</td><td>267</td><td>Australian</td><td>0.0</td><td>0</td><td>22</td></tr><tr><td>1977</td><td>Brett Lunger</td><td>239</td><td>American</td><td>0.0</td><td>0</td><td>22</td></tr><tr><td>1977</td><td>Patrick Nève</td><td>258</td><td>Belgian</td><td>0.0</td><td>0</td><td>22</td></tr><tr><td>1977</td><td>Gilles Villeneuve</td><td>203</td><td>Canadian</td><td>0.0</td><td>0</td><td>22</td></tr><tr><td>1977</td><td>Guy Edwards</td><td>265</td><td>British</td><td>0.0</td><td>0</td><td>22</td></tr><tr><td>1977</td><td>Alex Ribeiro</td><td>237</td><td>Brazilian</td><td>0.0</td><td>0</td><td>22</td></tr><tr><td>1977</td><td>Emilio de Villota</td><td>208</td><td>Spanish</td><td>0.0</td><td>0</td><td>22</td></tr><tr><td>1977</td><td>Ian Scheckter</td><td>251</td><td>South African</td><td>0.0</td><td>0</td><td>22</td></tr><tr><td>1977</td><td>Arturo Merzario</td><td>232</td><td>Italian</td><td>0.0</td><td>0</td><td>22</td></tr><tr><td>1977</td><td>Tony Trimmer</td><td>245</td><td>British</td><td>0.0</td><td>0</td><td>22</td></tr><tr><td>1977</td><td>Rupert Keegan</td><td>211</td><td>British</td><td>0.0</td><td>0</td><td>22</td></tr><tr><td>1977</td><td>Jean-Pierre Jabouille</td><td>219</td><td>French</td><td>0.0</td><td>0</td><td>22</td></tr><tr><td>1977</td><td>Brian McGuire</td><td>266</td><td>Australian</td><td>0.0</td><td>0</td><td>22</td></tr><tr><td>1977</td><td>Andy Sutcliffe</td><td>264</td><td>British</td><td>0.0</td><td>0</td><td>22</td></tr><tr><td>1977</td><td>Mikko Kozarowitzky</td><td>263</td><td>Finnish</td><td>0.0</td><td>0</td><td>22</td></tr><tr><td>1977</td><td>David Purley</td><td>259</td><td>British</td><td>0.0</td><td>0</td><td>22</td></tr><tr><td>1977</td><td>Jackie Oliver</td><td>262</td><td>British</td><td>0.0</td><td>0</td><td>22</td></tr><tr><td>1977</td><td>Boy Lunger</td><td>257</td><td>Dutch</td><td>0.0</td><td>0</td><td>22</td></tr><tr><td>1977</td><td>Harald Ertl</td><td>229</td><td>Austrian</td><td>0.0</td><td>0</td><td>22</td></tr><tr><td>1977</td><td>Hector Rebaque</td><td>212</td><td>Mexican</td><td>0.0</td><td>0</td><td>22</td></tr><tr><td>1977</td><td>Larry Perkins</td><td>256</td><td>Australian</td><td>0.0</td><td>0</td><td>22</td></tr><tr><td>1977</td><td>Conny Andersson</td><td>260</td><td>Swedish</td><td>0.0</td><td>0</td><td>22</td></tr><tr><td>1977</td><td>Bernard de Dryver</td><td>261</td><td>Belgian</td><td>0.0</td><td>0</td><td>22</td></tr><tr><td>1977</td><td>Teddy Pilette</td><td>269</td><td>Belgian</td><td>0.0</td><td>0</td><td>22</td></tr><tr><td>1977</td><td>Giorgio Francia</td><td>220</td><td>Italian</td><td>0.0</td><td>0</td><td>22</td></tr><tr><td>1977</td><td>Loris Kessel</td><td>271</td><td>Swiss</td><td>0.0</td><td>0</td><td>22</td></tr><tr><td>1977</td><td>Ian Ashley</td><td>270</td><td>British</td><td>0.0</td><td>0</td><td>22</td></tr><tr><td>1977</td><td>Lamberto Leoni</td><td>241</td><td>Italian</td><td>0.0</td><td>0</td><td>22</td></tr><tr><td>1977</td><td>Bruno Giacomelli</td><td>152</td><td>Italian</td><td>0.0</td><td>0</td><td>22</td></tr><tr><td>1977</td><td>Hans Binder</td><td>246</td><td>Austrian</td><td>0.0</td><td>0</td><td>22</td></tr><tr><td>1977</td><td>Danny Ongais</td><td>240</td><td>American</td><td>0.0</td><td>0</td><td>22</td></tr><tr><td>1977</td><td>Michael Bleekemolen</td><td>247</td><td>Dutch</td><td>0.0</td><td>0</td><td>22</td></tr><tr><td>1977</td><td>Hans Heyer</td><td>268</td><td>German</td><td>0.0</td><td>0</td><td>22</td></tr><tr><td>1977</td><td>Jacky Ickx</td><td>235</td><td>Belgian</td><td>0.0</td><td>0</td><td>22</td></tr><tr><td>1977</td><td>Tom Pryce</td><td>252</td><td>British</td><td>0.0</td><td>0</td><td>22</td></tr><tr><td>1977</td><td>Kunimitsu Takahashi</td><td>272</td><td>Japanese</td><td>0.0</td><td>0</td><td>22</td></tr><tr><td>1977</td><td>Noritake Takahara</td><td>274</td><td>Japanese</td><td>0.0</td><td>0</td><td>22</td></tr><tr><td>1977</td><td>Kazuyoshi Hoshino</td><td>273</td><td>Japanese</td><td>0.0</td><td>0</td><td>22</td></tr><tr><td>1977</td><td>Ingo Hoffmann</td><td>253</td><td>Brazilian</td><td>0.0</td><td>0</td><td>22</td></tr><tr><td>1963</td><td>Jim Clark</td><td>373</td><td>British</td><td>73.0</td><td>7</td><td>1</td></tr><tr><td>1963</td><td>Richie Ginther</td><td>386</td><td>American</td><td>34.0</td><td>0</td><td>2</td></tr><tr><td>1963</td><td>Graham Hill</td><td>289</td><td>British</td><td>29.0</td><td>2</td><td>3</td></tr><tr><td>1963</td><td>John Surtees</td><td>341</td><td>British</td><td>22.0</td><td>1</td><td>4</td></tr><tr><td>1963</td><td>Dan Gurney</td><td>364</td><td>American</td><td>19.0</td><td>0</td><td>5</td></tr><tr><td>1963</td><td>Bruce McLaren</td><td>360</td><td>New Zealander</td><td>17.0</td><td>0</td><td>6</td></tr><tr><td>1963</td><td>Jack Brabham</td><td>356</td><td>Australian</td><td>14.0</td><td>0</td><td>7</td></tr><tr><td>1963</td><td>Tony Maggs</td><td>408</td><td>South African</td><td>9.0</td><td>0</td><td>8</td></tr><tr><td>1963</td><td>Jo Bonnier</td><td>347</td><td>Swedish</td><td>6.0</td><td>0</td><td>9</td></tr><tr><td>1963</td><td>Innes Ireland</td><td>404</td><td>British</td><td>6.0</td><td>0</td><td>9</td></tr><tr><td>1963</td><td>Lorenzo Bandini</td><td>385</td><td>Italian</td><td>6.0</td><td>0</td><td>9</td></tr><tr><td>1963</td><td>Jim Hall</td><td>440</td><td>American</td><td>3.0</td><td>0</td><td>12</td></tr><tr><td>1963</td><td>Gerhard Mitter</td><td>423</td><td>German</td><td>3.0</td><td>0</td><td>12</td></tr><tr><td>1963</td><td>Carel Godin de Beaufort</td><td>430</td><td>Dutch</td><td>2.0</td><td>0</td><td>14</td></tr><tr><td>1963</td><td>Jo Siffert</td><td>346</td><td>Swiss</td><td>1.0</td><td>0</td><td>15</td></tr><tr><td>1963</td><td>Trevor Taylor</td><td>401</td><td>British</td><td>1.0</td><td>0</td><td>15</td></tr><tr><td>1963</td><td>Ludovico Scarfiotti</td><td>375</td><td>Italian</td><td>1.0</td><td>0</td><td>15</td></tr><tr><td>1963</td><td>Carlo Abate</td><td>446</td><td>Italian</td><td>0.0</td><td>0</td><td>18</td></tr><tr><td>1963</td><td>Ian Raby</td><td>420</td><td>British</td><td>0.0</td><td>0</td><td>18</td></tr><tr><td>1963</td><td>Maurice Trintignant</td><td>427</td><td>French</td><td>0.0</td><td>0</td><td>18</td></tr><tr><td>1963</td><td>Ian Burgess</td><td>437</td><td>British</td><td>0.0</td><td>0</td><td>18</td></tr><tr><td>1963</td><td>Mike Spence</td><td>374</td><td>British</td><td>0.0</td><td>0</td><td>18</td></tr><tr><td>1963</td><td>Günther Seiffert</td><td>445</td><td>German</td><td>0.0</td><td>0</td><td>18</td></tr><tr><td>1963</td><td>Ernesto Brambilla</td><td>443</td><td>Italian</td><td>0.0</td><td>0</td><td>18</td></tr><tr><td>1963</td><td>Masten Gregory</td><td>418</td><td>American</td><td>0.0</td><td>0</td><td>18</td></tr><tr><td>1963</td><td>Bob Anderson</td><td>383</td><td>British</td><td>0.0</td><td>0</td><td>18</td></tr><tr><td>1963</td><td>Roberto Lippi</td><td>444</td><td>Italian</td><td>0.0</td><td>0</td><td>18</td></tr><tr><td>1963</td><td>Chris Amon</td><td>278</td><td>New Zealander</td><td>0.0</td><td>0</td><td>18</td></tr><tr><td>1963</td><td>Mike Hailwood</td><td>305</td><td>British</td><td>0.0</td><td>0</td><td>18</td></tr><tr><td>1963</td><td>Tony Settember</td><td>438</td><td>American</td><td>0.0</td><td>0</td><td>18</td></tr><tr><td>1963</td><td>Mário de Araújo Cabral</td><td>432</td><td>Portuguese</td><td>0.0</td><td>0</td><td>18</td></tr><tr><td>1963</td><td>Phil Hill</td><td>403</td><td>American</td><td>0.0</td><td>0</td><td>18</td></tr><tr><td>1963</td><td>Gaetano Starrabba</td><td>447</td><td>Italian</td><td>0.0</td><td>0</td><td>18</td></tr><tr><td>1963</td><td>André Pilette</td><td>429</td><td>Belgian</td><td>0.0</td><td>0</td><td>18</td></tr><tr><td>1963</td><td>Giancarlo Baghetti</td><td>394</td><td>Italian</td><td>0.0</td><td>0</td><td>18</td></tr><tr><td>1963</td><td>Willy Mairesse</td><td>435</td><td>Belgian</td><td>0.0</td><td>0</td><td>18</td></tr><tr><td>1963</td><td>Kurt Kuhnke</td><td>442</td><td>German</td><td>0.0</td><td>0</td><td>18</td></tr><tr><td>1963</td><td>Tim Parnell</td><td>441</td><td>British</td><td>0.0</td><td>0</td><td>18</td></tr><tr><td>1963</td><td>Bernard Collomb</td><td>428</td><td>French</td><td>0.0</td><td>0</td><td>18</td></tr><tr><td>1963</td><td>Neville Lederle</td><td>410</td><td>South African</td><td>0.0</td><td>0</td><td>18</td></tr><tr><td>1963</td><td>Sam Tingle</td><td>368</td><td>Rhodesian</td><td>0.0</td><td>0</td><td>18</td></tr><tr><td>1963</td><td>John Love</td><td>340</td><td>Rhodesian</td><td>0.0</td><td>0</td><td>18</td></tr><tr><td>1963</td><td>Doug Serrurier</td><td>411</td><td>South African</td><td>0.0</td><td>0</td><td>18</td></tr><tr><td>1963</td><td>Trevor Blokdyk</td><td>409</td><td>South African</td><td>0.0</td><td>0</td><td>18</td></tr><tr><td>1963</td><td>Ernie Pieterse</td><td>413</td><td>South African</td><td>0.0</td><td>0</td><td>18</td></tr><tr><td>1963</td><td>Peter de Klerk</td><td>362</td><td>South African</td><td>0.0</td><td>0</td><td>18</td></tr><tr><td>1963</td><td>Paddy Driver</td><td>310</td><td>South African</td><td>0.0</td><td>0</td><td>18</td></tr><tr><td>1963</td><td>Brausch Niemann</td><td>412</td><td>South African</td><td>0.0</td><td>0</td><td>18</td></tr><tr><td>1963</td><td>David Prophet</td><td>407</td><td>British</td><td>0.0</td><td>0</td><td>18</td></tr><tr><td>1963</td><td>Nasif Estéfano</td><td>439</td><td>Argentine</td><td>0.0</td><td>0</td><td>18</td></tr><tr><td>1963</td><td>Moisés Solana</td><td>382</td><td>Mexican</td><td>0.0</td><td>0</td><td>18</td></tr><tr><td>1963</td><td>John Campbell-Jones</td><td>436</td><td>British</td><td>0.0</td><td>0</td><td>18</td></tr><tr><td>1963</td><td>Pedro Rodríguez</td><td>345</td><td>Mexican</td><td>0.0</td><td>0</td><td>18</td></tr><tr><td>1963</td><td>Ernie de Vos</td><td>450</td><td>Dutch</td><td>0.0</td><td>0</td><td>18</td></tr><tr><td>1963</td><td>Peter Broeker</td><td>448</td><td>Canadian</td><td>0.0</td><td>0</td><td>18</td></tr><tr><td>1963</td><td>Rodger Ward</td><td>449</td><td>American</td><td>0.0</td><td>0</td><td>18</td></tr><tr><td>1963</td><td>Walt Hansgen</td><td>433</td><td>American</td><td>0.0</td><td>0</td><td>18</td></tr><tr><td>1963</td><td>Hap Sharp</td><td>434</td><td>American</td><td>0.0</td><td>0</td><td>18</td></tr><tr><td>1963</td><td>Frank Dochnal</td><td>451</td><td>American</td><td>0.0</td><td>0</td><td>18</td></tr><tr><td>1963</td><td>Thomas Monarch</td><td>452</td><td>American</td><td>0.0</td><td>0</td><td>18</td></tr><tr><td>1963</td><td>Peter Arundell</td><td>397</td><td>British</td><td>0.0</td><td>0</td><td>18</td></tr><tr><td>1963</td><td>Lucien Bianchi</td><td>376</td><td>Belgian</td><td>0.0</td><td>0</td><td>18</td></tr><tr><td>1961</td><td>Phil Hill</td><td>403</td><td>American</td><td>38.0</td><td>2</td><td>1</td></tr><tr><td>1961</td><td>Wolfgang von Trips</td><td>476</td><td>German</td><td>33.0</td><td>2</td><td>2</td></tr><tr><td>1961</td><td>Stirling Moss</td><td>475</td><td>British</td><td>21.0</td><td>2</td><td>3</td></tr><tr><td>1961</td><td>Dan Gurney</td><td>364</td><td>American</td><td>21.0</td><td>0</td><td>4</td></tr><tr><td>1961</td><td>Richie Ginther</td><td>386</td><td>American</td><td>16.0</td><td>0</td><td>5</td></tr><tr><td>1961</td><td>Innes Ireland</td><td>404</td><td>British</td><td>12.0</td><td>1</td><td>6</td></tr><tr><td>1961</td><td>Bruce McLaren</td><td>360</td><td>New Zealander</td><td>11.0</td><td>0</td><td>7</td></tr><tr><td>1961</td><td>Jim Clark</td><td>373</td><td>British</td><td>11.0</td><td>0</td><td>7</td></tr><tr><td>1961</td><td>Giancarlo Baghetti</td><td>394</td><td>Italian</td><td>9.0</td><td>1</td><td>9</td></tr><tr><td>1961</td><td>Tony Brooks</td><td>479</td><td>British</td><td>6.0</td><td>0</td><td>10</td></tr><tr><td>1961</td><td>John Surtees</td><td>341</td><td>British</td><td>4.0</td><td>0</td><td>11</td></tr><tr><td>1961</td><td>Jack Brabham</td><td>356</td><td>Australian</td><td>4.0</td><td>0</td><td>11</td></tr><tr><td>1961</td><td>Graham Hill</td><td>289</td><td>British</td><td>3.0</td><td>0</td><td>13</td></tr><tr><td>1961</td><td>Jo Bonnier</td><td>347</td><td>Swedish</td><td>3.0</td><td>0</td><td>13</td></tr><tr><td>1961</td><td>Jackie Lewis</td><td>453</td><td>British</td><td>3.0</td><td>0</td><td>13</td></tr><tr><td>1961</td><td>Olivier Gendebien</td><td>482</td><td>Belgian</td><td>3.0</td><td>0</td><td>13</td></tr><tr><td>1961</td><td>Roy Salvadori</td><td>456</td><td>British</td><td>2.0</td><td>0</td><td>17</td></tr><tr><td>1961</td><td>Masten Gregory</td><td>418</td><td>American</td><td>0.0</td><td>0</td><td>18</td></tr><tr><td>1961</td><td>Jack Fairman</td><td>486</td><td>British</td><td>0.0</td><td>0</td><td>18</td></tr><tr><td>1961</td><td>Brian Naylor</td><td>484</td><td>British</td><td>0.0</td><td>0</td><td>18</td></tr><tr><td>1961</td><td>Wolfgang Seidel</td><td>455</td><td>German</td><td>0.0</td><td>0</td><td>18</td></tr><tr><td>1961</td><td>André Pilette</td><td>429</td><td>Belgian</td><td>0.0</td><td>0</td><td>18</td></tr><tr><td>1961</td><td>Gerry Ashmore</td><td>460</td><td>British</td><td>0.0</td><td>0</td><td>18</td></tr><tr><td>1961</td><td>Ernesto Prinoth</td><td>467</td><td>Italian</td><td>0.0</td><td>0</td><td>18</td></tr><tr><td>1961</td><td>Massimo Natili</td><td>487</td><td>Italian</td><td>0.0</td><td>0</td><td>18</td></tr><tr><td>1961</td><td>Roberto Lippi</td><td>444</td><td>Italian</td><td>0.0</td><td>0</td><td>18</td></tr><tr><td>1961</td><td>Carel Godin de Beaufort</td><td>430</td><td>Dutch</td><td>0.0</td><td>0</td><td>18</td></tr><tr><td>1961</td><td>Alfonso Thiele</td><td>491</td><td>American-Italian</td><td>0.0</td><td>0</td><td>18</td></tr><tr><td>1961</td><td>Renato Pirocchi</td><td>489</td><td>Italian</td><td>0.0</td><td>0</td><td>18</td></tr><tr><td>1961</td><td>Gaetano Starrabba</td><td>447</td><td>Italian</td><td>0.0</td><td>0</td><td>18</td></tr><tr><td>1961</td><td>Nino Vaccarella</td><td>425</td><td>Italian</td><td>0.0</td><td>0</td><td>18</td></tr><tr><td>1961</td><td>Menato Boffa</td><td>492</td><td>Italian</td><td>0.0</td><td>0</td><td>18</td></tr><tr><td>1961</td><td>Maurice Trintignant</td><td>427</td><td>French</td><td>0.0</td><td>0</td><td>18</td></tr><tr><td>1961</td><td>Roberto Bussinello</td><td>424</td><td>Italian</td><td>0.0</td><td>0</td><td>18</td></tr><tr><td>1961</td><td>Michael May</td><td>480</td><td>Swiss</td><td>0.0</td><td>0</td><td>18</td></tr><tr><td>1961</td><td>Edgar Barth</td><td>431</td><td>German</td><td>0.0</td><td>0</td><td>18</td></tr><tr><td>1961</td><td>Tim Parnell</td><td>441</td><td>British</td><td>0.0</td><td>0</td><td>18</td></tr><tr><td>1961</td><td>Ricardo Rodríguez</td><td>454</td><td>Mexican</td><td>0.0</td><td>0</td><td>18</td></tr><tr><td>1961</td><td>Henry Taylor</td><td>481</td><td>British</td><td>0.0</td><td>0</td><td>18</td></tr><tr><td>1961</td><td>Lorenzo Bandini</td><td>385</td><td>Italian</td><td>0.0</td><td>0</td><td>18</td></tr><tr><td>1961</td><td>Ian Burgess</td><td>437</td><td>British</td><td>0.0</td><td>0</td><td>18</td></tr><tr><td>1961</td><td>Bernard Collomb</td><td>428</td><td>French</td><td>0.0</td><td>0</td><td>18</td></tr><tr><td>1961</td><td>Peter Monteverdi</td><td>488</td><td>Swiss</td><td>0.0</td><td>0</td><td>18</td></tr><tr><td>1961</td><td>Willy Mairesse</td><td>435</td><td>Belgian</td><td>0.0</td><td>0</td><td>18</td></tr><tr><td>1961</td><td>Lucien Bianchi</td><td>376</td><td>Belgian</td><td>0.0</td><td>0</td><td>18</td></tr><tr><td>1961</td><td>Geoff Duke</td><td>490</td><td>British</td><td>0.0</td><td>0</td><td>18</td></tr><tr><td>1961</td><td>Tony Maggs</td><td>408</td><td>South African</td><td>0.0</td><td>0</td><td>18</td></tr><tr><td>1961</td><td>Tony Marsh</td><td>459</td><td>British</td><td>0.0</td><td>0</td><td>18</td></tr><tr><td>1961</td><td>Juan Manuel Bordeu</td><td>485</td><td>Argentine</td><td>0.0</td><td>0</td><td>18</td></tr><tr><td>1961</td><td>Hans Herrmann</td><td>478</td><td>German</td><td>0.0</td><td>0</td><td>18</td></tr><tr><td>1961</td><td>John Campbell-Jones</td><td>436</td><td>British</td><td>0.0</td><td>0</td><td>18</td></tr><tr><td>1961</td><td>Giorgio Scarlatti</td><td>483</td><td>Italian</td><td>0.0</td><td>0</td><td>18</td></tr><tr><td>1961</td><td>Keith Greene</td><td>465</td><td>British</td><td>0.0</td><td>0</td><td>18</td></tr><tr><td>1961</td><td>Cliff Allison</td><td>477</td><td>British</td><td>0.0</td><td>0</td><td>18</td></tr><tr><td>1961</td><td>Walt Hansgen</td><td>433</td><td>American</td><td>0.0</td><td>0</td><td>18</td></tr><tr><td>1961</td><td>Jim Hall</td><td>440</td><td>American</td><td>0.0</td><td>0</td><td>18</td></tr><tr><td>1961</td><td>Peter Ryan</td><td>493</td><td>Canadian</td><td>0.0</td><td>0</td><td>18</td></tr><tr><td>1961</td><td>Roger Penske</td><td>468</td><td>American</td><td>0.0</td><td>0</td><td>18</td></tr><tr><td>1961</td><td>Lloyd Ruby</td><td>494</td><td>American</td><td>0.0</td><td>0</td><td>18</td></tr><tr><td>1961</td><td>Ken Miles</td><td>495</td><td>British</td><td>0.0</td><td>0</td><td>18</td></tr><tr><td>1961</td><td>Trevor Taylor</td><td>401</td><td>British</td><td>0.0</td><td>0</td><td>18</td></tr><tr><td>1961</td><td>Hap Sharp</td><td>434</td><td>American</td><td>0.0</td><td>0</td><td>18</td></tr><tr><td>1962</td><td>Graham Hill</td><td>289</td><td>British</td><td>52.0</td><td>4</td><td>1</td></tr><tr><td>1962</td><td>Bruce McLaren</td><td>360</td><td>New Zealander</td><td>32.0</td><td>1</td><td>2</td></tr><tr><td>1962</td><td>Jim Clark</td><td>373</td><td>British</td><td>30.0</td><td>3</td><td>3</td></tr><tr><td>1962</td><td>John Surtees</td><td>341</td><td>British</td><td>19.0</td><td>0</td><td>4</td></tr><tr><td>1962</td><td>Dan Gurney</td><td>364</td><td>American</td><td>15.0</td><td>1</td><td>5</td></tr><tr><td>1962</td><td>Phil Hill</td><td>403</td><td>American</td><td>14.0</td><td>0</td><td>6</td></tr><tr><td>1962</td><td>Tony Maggs</td><td>408</td><td>South African</td><td>13.0</td><td>0</td><td>7</td></tr><tr><td>1962</td><td>Richie Ginther</td><td>386</td><td>American</td><td>10.0</td><td>0</td><td>8</td></tr><tr><td>1962</td><td>Jack Brabham</td><td>356</td><td>Australian</td><td>9.0</td><td>0</td><td>9</td></tr><tr><td>1962</td><td>Trevor Taylor</td><td>401</td><td>British</td><td>6.0</td><td>0</td><td>10</td></tr><tr><td>1962</td><td>Giancarlo Baghetti</td><td>394</td><td>Italian</td><td>5.0</td><td>0</td><td>11</td></tr><tr><td>1962</td><td>Ricardo Rodríguez</td><td>454</td><td>Mexican</td><td>4.0</td><td>0</td><td>12</td></tr><tr><td>1962</td><td>Lorenzo Bandini</td><td>385</td><td>Italian</td><td>4.0</td><td>0</td><td>12</td></tr><tr><td>1962</td><td>Jo Bonnier</td><td>347</td><td>Swedish</td><td>3.0</td><td>0</td><td>14</td></tr><tr><td>1962</td><td>Willy Mairesse</td><td>435</td><td>Belgian</td><td>3.0</td><td>0</td><td>14</td></tr><tr><td>1962</td><td>Carel Godin de Beaufort</td><td>430</td><td>Dutch</td><td>2.0</td><td>0</td><td>16</td></tr><tr><td>1962</td><td>Innes Ireland</td><td>404</td><td>British</td><td>2.0</td><td>0</td><td>16</td></tr><tr><td>1962</td><td>Masten Gregory</td><td>418</td><td>American</td><td>1.0</td><td>0</td><td>18</td></tr><tr><td>1962</td><td>Neville Lederle</td><td>410</td><td>South African</td><td>1.0</td><td>0</td><td>18</td></tr><tr><td>1962</td><td>Ian Burgess</td><td>437</td><td>British</td><td>0.0</td><td>0</td><td>20</td></tr><tr><td>1962</td><td>Günther Seiffert</td><td>445</td><td>German</td><td>0.0</td><td>0</td><td>20</td></tr><tr><td>1962</td><td>Bernard Collomb</td><td>428</td><td>French</td><td>0.0</td><td>0</td><td>20</td></tr><tr><td>1962</td><td>Jay Chamberlain</td><td>463</td><td>American</td><td>0.0</td><td>0</td><td>20</td></tr><tr><td>1962</td><td>Maurice Trintignant</td><td>427</td><td>French</td><td>0.0</td><td>0</td><td>20</td></tr><tr><td>1962</td><td>Nino Vaccarella</td><td>425</td><td>Italian</td><td>0.0</td><td>0</td><td>20</td></tr><tr><td>1962</td><td>Lucien Bianchi</td><td>376</td><td>Belgian</td><td>0.0</td><td>0</td><td>20</td></tr><tr><td>1962</td><td>Wolfgang Seidel</td><td>455</td><td>German</td><td>0.0</td><td>0</td><td>20</td></tr><tr><td>1962</td><td>Jackie Lewis</td><td>453</td><td>British</td><td>0.0</td><td>0</td><td>20</td></tr><tr><td>1962</td><td>Keith Greene</td><td>465</td><td>British</td><td>0.0</td><td>0</td><td>20</td></tr><tr><td>1962</td><td>Tony Marsh</td><td>459</td><td>British</td><td>0.0</td><td>0</td><td>20</td></tr><tr><td>1962</td><td>Roy Salvadori</td><td>456</td><td>British</td><td>0.0</td><td>0</td><td>20</td></tr><tr><td>1962</td><td>Tony Shelly</td><td>464</td><td>New Zealander</td><td>0.0</td><td>0</td><td>20</td></tr><tr><td>1962</td><td>Heinz Schiller</td><td>461</td><td>Swiss</td><td>0.0</td><td>0</td><td>20</td></tr><tr><td>1962</td><td>Jo Siffert</td><td>346</td><td>Swiss</td><td>0.0</td><td>0</td><td>20</td></tr><tr><td>1962</td><td>Heini Walter</td><td>466</td><td>Swiss</td><td>0.0</td><td>0</td><td>20</td></tr><tr><td>1962</td><td>Tony Settember</td><td>438</td><td>American</td><td>0.0</td><td>0</td><td>20</td></tr><tr><td>1962</td><td>Kurt Kuhnke</td><td>442</td><td>German</td><td>0.0</td><td>0</td><td>20</td></tr><tr><td>1962</td><td>Nasif Estéfano</td><td>439</td><td>Argentine</td><td>0.0</td><td>0</td><td>20</td></tr><tr><td>1962</td><td>Roberto Lippi</td><td>444</td><td>Italian</td><td>0.0</td><td>0</td><td>20</td></tr><tr><td>1962</td><td>Ernesto Prinoth</td><td>467</td><td>Italian</td><td>0.0</td><td>0</td><td>20</td></tr><tr><td>1962</td><td>Gerry Ashmore</td><td>460</td><td>British</td><td>0.0</td><td>0</td><td>20</td></tr><tr><td>1962</td><td>John Campbell-Jones</td><td>436</td><td>British</td><td>0.0</td><td>0</td><td>20</td></tr><tr><td>1962</td><td>Gary Hocking</td><td>473</td><td>Rhodesian</td><td>0.0</td><td>0</td><td>20</td></tr><tr><td>1962</td><td>Ernie Pieterse</td><td>413</td><td>South African</td><td>0.0</td><td>0</td><td>20</td></tr><tr><td>1962</td><td>Mike Harris</td><td>472</td><td>South African</td><td>0.0</td><td>0</td><td>20</td></tr><tr><td>1962</td><td>Bruce Johnstone</td><td>471</td><td>South African</td><td>0.0</td><td>0</td><td>20</td></tr><tr><td>1962</td><td>Syd van der Vyver</td><td>474</td><td>South African</td><td>0.0</td><td>0</td><td>20</td></tr><tr><td>1962</td><td>Doug Serrurier</td><td>411</td><td>South African</td><td>0.0</td><td>0</td><td>20</td></tr><tr><td>1962</td><td>John Love</td><td>340</td><td>Rhodesian</td><td>0.0</td><td>0</td><td>20</td></tr><tr><td>1962</td><td>Sam Tingle</td><td>368</td><td>Rhodesian</td><td>0.0</td><td>0</td><td>20</td></tr><tr><td>1962</td><td>Ben Pon</td><td>457</td><td>Dutch</td><td>0.0</td><td>0</td><td>20</td></tr><tr><td>1962</td><td>Hap Sharp</td><td>434</td><td>American</td><td>0.0</td><td>0</td><td>20</td></tr><tr><td>1962</td><td>Roger Penske</td><td>468</td><td>American</td><td>0.0</td><td>0</td><td>20</td></tr><tr><td>1962</td><td>Rob Schroeder</td><td>469</td><td>British</td><td>0.0</td><td>0</td><td>20</td></tr><tr><td>1962</td><td>Rob Slotemaker</td><td>458</td><td>Dutch</td><td>0.0</td><td>0</td><td>20</td></tr><tr><td>1962</td><td>Roberto Bussinello</td><td>424</td><td>Italian</td><td>0.0</td><td>0</td><td>20</td></tr><tr><td>1962</td><td>Jim Hall</td><td>440</td><td>American</td><td>0.0</td><td>0</td><td>20</td></tr><tr><td>1962</td><td>Timmy Mayer</td><td>470</td><td>American</td><td>0.0</td><td>0</td><td>20</td></tr><tr><td>1962</td><td>Carlo Abate</td><td>446</td><td>Italian</td><td>0.0</td><td>0</td><td>20</td></tr><tr><td>1962</td><td>Peter Arundell</td><td>397</td><td>British</td><td>0.0</td><td>0</td><td>20</td></tr><tr><td>1962</td><td>Colin Davis</td><td>462</td><td>British</td><td>0.0</td><td>0</td><td>20</td></tr><tr><td>1976</td><td>James Hunt</td><td>231</td><td>British</td><td>69.0</td><td>6</td><td>1</td></tr><tr><td>1976</td><td>Niki Lauda</td><td>182</td><td>Austrian</td><td>68.0</td><td>5</td><td>2</td></tr><tr><td>1976</td><td>Jody Scheckter</td><td>222</td><td>South African</td><td>49.0</td><td>1</td><td>3</td></tr><tr><td>1976</td><td>Patrick Depailler</td><td>221</td><td>French</td><td>39.0</td><td>0</td><td>4</td></tr><tr><td>1976</td><td>Clay Regazzoni</td><td>223</td><td>Swiss</td><td>31.0</td><td>1</td><td>5</td></tr><tr><td>1976</td><td>Mario Andretti</td><td>207</td><td>American</td><td>22.0</td><td>1</td><td>6</td></tr><tr><td>1976</td><td>John Watson</td><td>187</td><td>British</td><td>20.0</td><td>1</td><td>7</td></tr><tr><td>1976</td><td>Jacques Laffite</td><td>172</td><td>French</td><td>20.0</td><td>0</td><td>8</td></tr><tr><td>1976</td><td>Jochen Mass</td><td>200</td><td>German</td><td>19.0</td><td>0</td><td>9</td></tr><tr><td>1976</td><td>Gunnar Nilsson</td><td>255</td><td>Swedish</td><td>11.0</td><td>0</td><td>10</td></tr><tr><td>1976</td><td>Ronnie Peterson</td><td>238</td><td>Swedish</td><td>10.0</td><td>1</td><td>11</td></tr><tr><td>1976</td><td>Tom Pryce</td><td>252</td><td>British</td><td>10.0</td><td>0</td><td>12</td></tr><tr><td>1976</td><td>Hans-Joachim Stuck</td><td>233</td><td>German</td><td>8.0</td><td>0</td><td>13</td></tr><tr><td>1976</td><td>Carlos Pace</td><td>250</td><td>Brazilian</td><td>7.0</td><td>0</td><td>14</td></tr><tr><td>1976</td><td>Alan Jones</td><td>178</td><td>Australian</td><td>7.0</td><td>0</td><td>14</td></tr><tr><td>1976</td><td>Carlos Reutemann</td><td>199</td><td>Argentine</td><td>3.0</td><td>0</td><td>16</td></tr><tr><td>1976</td><td>Emerson Fittipaldi</td><td>224</td><td>Brazilian</td><td>3.0</td><td>0</td><td>16</td></tr><tr><td>1976</td><td>Chris Amon</td><td>278</td><td>New Zealander</td><td>2.0</td><td>0</td><td>18</td></tr><tr><td>1976</td><td>Vittorio Brambilla</td><td>230</td><td>Italian</td><td>1.0</td><td>0</td><td>19</td></tr><tr><td>1976</td><td>Rolf Stommelen</td><td>243</td><td>German</td><td>1.0</td><td>0</td><td>19</td></tr><tr><td>1976</td><td>Bob Evans</td><td>276</td><td>British</td><td>0.0</td><td>0</td><td>21</td></tr><tr><td>1976</td><td>Loris Kessel</td><td>271</td><td>Swiss</td><td>0.0</td><td>0</td><td>21</td></tr><tr><td>1976</td><td>Damien Magee</td><td>282</td><td>British</td><td>0.0</td><td>0</td><td>21</td></tr><tr><td>1976</td><td>Otto Stuppacher</td><td>285</td><td>Austrian</td><td>0.0</td><td>0</td><td>21</td></tr><tr><td>1976</td><td>Arturo Merzario</td><td>232</td><td>Italian</td><td>0.0</td><td>0</td><td>21</td></tr><tr><td>1976</td><td>Warwick Brown</td><td>286</td><td>Australian</td><td>0.0</td><td>0</td><td>21</td></tr><tr><td>1976</td><td>Alessandro Pesenti-Rossi</td><td>284</td><td>Italian</td><td>0.0</td><td>0</td><td>21</td></tr><tr><td>1976</td><td>Brett Lunger</td><td>239</td><td>American</td><td>0.0</td><td>0</td><td>21</td></tr><tr><td>1976</td><td>Jac Nelleman</td><td>281</td><td>Danish</td><td>0.0</td><td>0</td><td>21</td></tr><tr><td>1976</td><td>Jean-Pierre Jarier</td><td>197</td><td>French</td><td>0.0</td><td>0</td><td>21</td></tr><tr><td>1976</td><td>Patrick Nève</td><td>258</td><td>Belgian</td><td>0.0</td><td>0</td><td>21</td></tr><tr><td>1976</td><td>Lella Lombardi</td><td>275</td><td>Italian</td><td>0.0</td><td>0</td><td>21</td></tr><tr><td>1976</td><td>Larry Perkins</td><td>256</td><td>Australian</td><td>0.0</td><td>0</td><td>21</td></tr><tr><td>1976</td><td>Jacky Ickx</td><td>235</td><td>Belgian</td><td>0.0</td><td>0</td><td>21</td></tr><tr><td>1976</td><td>Alex Ribeiro</td><td>237</td><td>Brazilian</td><td>0.0</td><td>0</td><td>21</td></tr><tr><td>1976</td><td>Ingo Hoffmann</td><td>253</td><td>Brazilian</td><td>0.0</td><td>0</td><td>21</td></tr><tr><td>1976</td><td>Harald Ertl</td><td>229</td><td>Austrian</td><td>0.0</td><td>0</td><td>21</td></tr><tr><td>1976</td><td>Guy Edwards</td><td>265</td><td>British</td><td>0.0</td><td>0</td><td>21</td></tr><tr><td>1976</td><td>Henri Pescarolo</td><td>280</td><td>French</td><td>0.0</td><td>0</td><td>21</td></tr><tr><td>1976</td><td>Michel Leclère</td><td>277</td><td>French</td><td>0.0</td><td>0</td><td>21</td></tr><tr><td>1976</td><td>Emilio Zapico</td><td>279</td><td>Spanish</td><td>0.0</td><td>0</td><td>21</td></tr><tr><td>1976</td><td>Emilio de Villota</td><td>208</td><td>Spanish</td><td>0.0</td><td>0</td><td>21</td></tr><tr><td>1976</td><td>Hans Binder</td><td>246</td><td>Austrian</td><td>0.0</td><td>0</td><td>21</td></tr><tr><td>1976</td><td>Boy Lunger</td><td>257</td><td>Dutch</td><td>0.0</td><td>0</td><td>21</td></tr><tr><td>1976</td><td>Conny Andersson</td><td>260</td><td>Swedish</td><td>0.0</td><td>0</td><td>21</td></tr><tr><td>1976</td><td>Mike Wilds</td><td>283</td><td>British</td><td>0.0</td><td>0</td><td>21</td></tr><tr><td>1976</td><td>Divina Galica</td><td>242</td><td>British</td><td>0.0</td><td>0</td><td>21</td></tr><tr><td>1976</td><td>Ian Scheckter</td><td>251</td><td>South African</td><td>0.0</td><td>0</td><td>21</td></tr><tr><td>1976</td><td>Tony Trimmer</td><td>245</td><td>British</td><td>0.0</td><td>0</td><td>21</td></tr><tr><td>1976</td><td>Ian Ashley</td><td>270</td><td>British</td><td>0.0</td><td>0</td><td>21</td></tr><tr><td>1976</td><td>Renzo Zorzi</td><td>254</td><td>Italian</td><td>0.0</td><td>0</td><td>21</td></tr><tr><td>1976</td><td>Noritake Takahara</td><td>274</td><td>Japanese</td><td>0.0</td><td>0</td><td>21</td></tr><tr><td>1976</td><td>Kazuyoshi Hoshino</td><td>273</td><td>Japanese</td><td>0.0</td><td>0</td><td>21</td></tr><tr><td>1976</td><td>Masahiro Hasemi</td><td>287</td><td>Japanese</td><td>0.0</td><td>0</td><td>21</td></tr><tr><td>1975</td><td>Niki Lauda</td><td>182</td><td>Austrian</td><td>64.5</td><td>5</td><td>1</td></tr><tr><td>1975</td><td>Emerson Fittipaldi</td><td>224</td><td>Brazilian</td><td>45.0</td><td>2</td><td>2</td></tr><tr><td>1975</td><td>Carlos Reutemann</td><td>199</td><td>Argentine</td><td>37.0</td><td>1</td><td>3</td></tr><tr><td>1975</td><td>James Hunt</td><td>231</td><td>British</td><td>33.0</td><td>1</td><td>4</td></tr><tr><td>1975</td><td>Clay Regazzoni</td><td>223</td><td>Swiss</td><td>25.0</td><td>1</td><td>5</td></tr><tr><td>1975</td><td>Carlos Pace</td><td>250</td><td>Brazilian</td><td>24.0</td><td>1</td><td>6</td></tr><tr><td>1975</td><td>Jody Scheckter</td><td>222</td><td>South African</td><td>20.0</td><td>1</td><td>7</td></tr><tr><td>1975</td><td>Jochen Mass</td><td>200</td><td>German</td><td>20.0</td><td>1</td><td>7</td></tr><tr><td>1975</td><td>Patrick Depailler</td><td>221</td><td>French</td><td>12.0</td><td>0</td><td>9</td></tr><tr><td>1975</td><td>Tom Pryce</td><td>252</td><td>British</td><td>8.0</td><td>0</td><td>10</td></tr><tr><td>1975</td><td>Vittorio Brambilla</td><td>230</td><td>Italian</td><td>6.5</td><td>1</td><td>11</td></tr><tr><td>1975</td><td>Jacques Laffite</td><td>172</td><td>French</td><td>6.0</td><td>0</td><td>12</td></tr><tr><td>1975</td><td>Ronnie Peterson</td><td>238</td><td>Swedish</td><td>6.0</td><td>0</td><td>12</td></tr><tr><td>1975</td><td>Mario Andretti</td><td>207</td><td>American</td><td>5.0</td><td>0</td><td>14</td></tr><tr><td>1975</td><td>Mark Donohue</td><td>288</td><td>American</td><td>4.0</td><td>0</td><td>15</td></tr><tr><td>1975</td><td>Jacky Ickx</td><td>235</td><td>Belgian</td><td>3.0</td><td>0</td><td>16</td></tr><tr><td>1975</td><td>Alan Jones</td><td>178</td><td>Australian</td><td>2.0</td><td>0</td><td>17</td></tr><tr><td>1975</td><td>Jean-Pierre Jarier</td><td>197</td><td>French</td><td>1.5</td><td>0</td><td>18</td></tr><tr><td>1975</td><td>Tony Brise</td><td>294</td><td>British</td><td>1.0</td><td>0</td><td>19</td></tr><tr><td>1975</td><td>Gijs van Lennep</td><td>298</td><td>Dutch</td><td>1.0</td><td>0</td><td>19</td></tr><tr><td>1975</td><td>Lella Lombardi</td><td>275</td><td>Italian</td><td>0.5</td><td>0</td><td>21</td></tr><tr><td>1975</td><td>François Migault</td><td>296</td><td>French</td><td>0.0</td><td>0</td><td>22</td></tr><tr><td>1975</td><td>Brian Henton</td><td>205</td><td>British</td><td>0.0</td><td>0</td><td>22</td></tr><tr><td>1975</td><td>Wilson Fittipaldi</td><td>290</td><td>Brazilian</td><td>0.0</td><td>0</td><td>22</td></tr><tr><td>1975</td><td>John Watson</td><td>187</td><td>British</td><td>0.0</td><td>0</td><td>22</td></tr><tr><td>1975</td><td>Jean-Pierre Jabouille</td><td>219</td><td>French</td><td>0.0</td><td>0</td><td>22</td></tr><tr><td>1975</td><td>Tony Trimmer</td><td>245</td><td>British</td><td>0.0</td><td>0</td><td>22</td></tr><tr><td>1975</td><td>Rolf Stommelen</td><td>243</td><td>German</td><td>0.0</td><td>0</td><td>22</td></tr><tr><td>1975</td><td>Harald Ertl</td><td>229</td><td>Austrian</td><td>0.0</td><td>0</td><td>22</td></tr><tr><td>1975</td><td>Bob Evans</td><td>276</td><td>British</td><td>0.0</td><td>0</td><td>22</td></tr><tr><td>1975</td><td>Jo Vonlanthen</td><td>303</td><td>Swiss</td><td>0.0</td><td>0</td><td>22</td></tr><tr><td>1975</td><td>Chris Amon</td><td>278</td><td>New Zealander</td><td>0.0</td><td>0</td><td>22</td></tr><tr><td>1975</td><td>Brett Lunger</td><td>239</td><td>American</td><td>0.0</td><td>0</td><td>22</td></tr><tr><td>1975</td><td>Roelof Wunderink</td><td>295</td><td>Dutch</td><td>0.0</td><td>0</td><td>22</td></tr><tr><td>1975</td><td>Hans-Joachim Stuck</td><td>233</td><td>German</td><td>0.0</td><td>0</td><td>22</td></tr><tr><td>1975</td><td>Graham Hill</td><td>289</td><td>British</td><td>0.0</td><td>0</td><td>22</td></tr><tr><td>1975</td><td>Arturo Merzario</td><td>232</td><td>Italian</td><td>0.0</td><td>0</td><td>22</td></tr><tr><td>1975</td><td>Jim Crawford</td><td>302</td><td>British</td><td>0.0</td><td>0</td><td>22</td></tr><tr><td>1975</td><td>Dave Charlton</td><td>293</td><td>South African</td><td>0.0</td><td>0</td><td>22</td></tr><tr><td>1975</td><td>Renzo Zorzi</td><td>254</td><td>Italian</td><td>0.0</td><td>0</td><td>22</td></tr><tr><td>1975</td><td>Guy Tunmer</td><td>291</td><td>South African</td><td>0.0</td><td>0</td><td>22</td></tr><tr><td>1975</td><td>Hiroshi Fushida</td><td>299</td><td>Japanese</td><td>0.0</td><td>0</td><td>22</td></tr><tr><td>1975</td><td>John Nicholson</td><td>300</td><td>New Zealander</td><td>0.0</td><td>0</td><td>22</td></tr><tr><td>1975</td><td>Eddie Keizan</td><td>292</td><td>South African</td><td>0.0</td><td>0</td><td>22</td></tr><tr><td>1975</td><td>Dave Morgan</td><td>301</td><td>British</td><td>0.0</td><td>0</td><td>22</td></tr><tr><td>1975</td><td>Ian Scheckter</td><td>251</td><td>South African</td><td>0.0</td><td>0</td><td>22</td></tr><tr><td>1975</td><td>Michel Leclère</td><td>277</td><td>French</td><td>0.0</td><td>0</td><td>22</td></tr><tr><td>1975</td><td>Mike Wilds</td><td>283</td><td>British</td><td>0.0</td><td>0</td><td>22</td></tr><tr><td>1975</td><td>Vern Schuppan</td><td>267</td><td>Australian</td><td>0.0</td><td>0</td><td>22</td></tr><tr><td>1975</td><td>Torsten Palm</td><td>297</td><td>Swedish</td><td>0.0</td><td>0</td><td>22</td></tr><tr><td>1975</td><td>Ian Ashley</td><td>270</td><td>British</td><td>0.0</td><td>0</td><td>22</td></tr><tr><td>1975</td><td>Damien Magee</td><td>282</td><td>British</td><td>0.0</td><td>0</td><td>22</td></tr><tr><td>1978</td><td>Mario Andretti</td><td>207</td><td>American</td><td>64.0</td><td>6</td><td>1</td></tr><tr><td>1978</td><td>Ronnie Peterson</td><td>238</td><td>Swedish</td><td>51.0</td><td>2</td><td>2</td></tr><tr><td>1978</td><td>Carlos Reutemann</td><td>199</td><td>Argentine</td><td>48.0</td><td>4</td><td>3</td></tr><tr><td>1978</td><td>Niki Lauda</td><td>182</td><td>Austrian</td><td>44.0</td><td>2</td><td>4</td></tr><tr><td>1978</td><td>Patrick Depailler</td><td>221</td><td>French</td><td>34.0</td><td>1</td><td>5</td></tr><tr><td>1978</td><td>John Watson</td><td>187</td><td>British</td><td>25.0</td><td>0</td><td>6</td></tr><tr><td>1978</td><td>Jody Scheckter</td><td>222</td><td>South African</td><td>24.0</td><td>0</td><td>7</td></tr><tr><td>1978</td><td>Jacques Laffite</td><td>172</td><td>French</td><td>19.0</td><td>0</td><td>8</td></tr><tr><td>1978</td><td>Gilles Villeneuve</td><td>203</td><td>Canadian</td><td>17.0</td><td>1</td><td>9</td></tr><tr><td>1978</td><td>Emerson Fittipaldi</td><td>224</td><td>Brazilian</td><td>17.0</td><td>0</td><td>10</td></tr><tr><td>1978</td><td>Riccardo Patrese</td><td>119</td><td>Italian</td><td>11.0</td><td>0</td><td>11</td></tr><tr><td>1978</td><td>Alan Jones</td><td>178</td><td>Australian</td><td>11.0</td><td>0</td><td>11</td></tr><tr><td>1978</td><td>James Hunt</td><td>231</td><td>British</td><td>8.0</td><td>0</td><td>13</td></tr><tr><td>1978</td><td>Patrick Tambay</td><td>175</td><td>French</td><td>8.0</td><td>0</td><td>13</td></tr><tr><td>1978</td><td>Didier Pironi</td><td>202</td><td>French</td><td>7.0</td><td>0</td><td>15</td></tr><tr><td>1978</td><td>Clay Regazzoni</td><td>223</td><td>Swiss</td><td>4.0</td><td>0</td><td>16</td></tr><tr><td>1978</td><td>Jean-Pierre Jabouille</td><td>219</td><td>French</td><td>3.0</td><td>0</td><td>17</td></tr><tr><td>1978</td><td>Hans-Joachim Stuck</td><td>233</td><td>German</td><td>2.0</td><td>0</td><td>18</td></tr><tr><td>1978</td><td>Vittorio Brambilla</td><td>230</td><td>Italian</td><td>1.0</td><td>0</td><td>19</td></tr><tr><td>1978</td><td>Hector Rebaque</td><td>212</td><td>Mexican</td><td>1.0</td><td>0</td><td>19</td></tr><tr><td>1978</td><td>Derek Daly</td><td>206</td><td>Irish</td><td>1.0</td><td>0</td><td>19</td></tr><tr><td>1978</td><td>Jean-Pierre Jarier</td><td>197</td><td>French</td><td>0.0</td><td>0</td><td>22</td></tr><tr><td>1978</td><td>Lamberto Leoni</td><td>241</td><td>Italian</td><td>0.0</td><td>0</td><td>22</td></tr><tr><td>1978</td><td>Arturo Merzario</td><td>232</td><td>Italian</td><td>0.0</td><td>0</td><td>22</td></tr><tr><td>1978</td><td>Brett Lunger</td><td>239</td><td>American</td><td>0.0</td><td>0</td><td>22</td></tr><tr><td>1978</td><td>Rupert Keegan</td><td>211</td><td>British</td><td>0.0</td><td>0</td><td>22</td></tr><tr><td>1978</td><td>Danny Ongais</td><td>240</td><td>American</td><td>0.0</td><td>0</td><td>22</td></tr><tr><td>1978</td><td>Rolf Stommelen</td><td>243</td><td>German</td><td>0.0</td><td>0</td><td>22</td></tr><tr><td>1978</td><td>Jochen Mass</td><td>200</td><td>German</td><td>0.0</td><td>0</td><td>22</td></tr><tr><td>1978</td><td>Keke Rosberg</td><td>177</td><td>Finnish</td><td>0.0</td><td>0</td><td>22</td></tr><tr><td>1978</td><td>Bruno Giacomelli</td><td>152</td><td>Italian</td><td>0.0</td><td>0</td><td>22</td></tr><tr><td>1978</td><td>Harald Ertl</td><td>229</td><td>Austrian</td><td>0.0</td><td>0</td><td>22</td></tr><tr><td>1978</td><td>Jacky Ickx</td><td>235</td><td>Belgian</td><td>0.0</td><td>0</td><td>22</td></tr><tr><td>1978</td><td>René Arnoux</td><td>163</td><td>French</td><td>0.0</td><td>0</td><td>22</td></tr><tr><td>1978</td><td>Nelson Piquet</td><td>137</td><td>Brazilian</td><td>0.0</td><td>0</td><td>22</td></tr><tr><td>1978</td><td>Carlo Franchi</td><td>248</td><td>Italian</td><td>0.0</td><td>0</td><td>22</td></tr><tr><td>1978</td><td>Michael Bleekemolen</td><td>247</td><td>Dutch</td><td>0.0</td><td>0</td><td>22</td></tr><tr><td>1978</td><td>Alberto Colombo</td><td>244</td><td>Italian</td><td>0.0</td><td>0</td><td>22</td></tr><tr><td>1978</td><td>Eddie Cheever</td><td>158</td><td>American</td><td>0.0</td><td>0</td><td>22</td></tr><tr><td>1978</td><td>Bobby Rahal</td><td>249</td><td>American</td><td>0.0</td><td>0</td><td>22</td></tr><tr><td>1978</td><td>Beppe Gabbiani</td><td>213</td><td>Italian</td><td>0.0</td><td>0</td><td>22</td></tr><tr><td>1978</td><td>Divina Galica</td><td>242</td><td>British</td><td>0.0</td><td>0</td><td>22</td></tr><tr><td>1978</td><td>Hans Binder</td><td>246</td><td>Austrian</td><td>0.0</td><td>0</td><td>22</td></tr><tr><td>1978</td><td>Tony Trimmer</td><td>245</td><td>British</td><td>0.0</td><td>0</td><td>22</td></tr><tr><td>1978</td><td>Emilio de Villota</td><td>208</td><td>Spanish</td><td>0.0</td><td>0</td><td>22</td></tr><tr><td>1978</td><td>Geoff Lees</td><td>209</td><td>British</td><td>0.0</td><td>0</td><td>22</td></tr><tr><td>1989</td><td>Alain Prost</td><td>117</td><td>French</td><td>81.0</td><td>4</td><td>1</td></tr><tr><td>1989</td><td>Ayrton Senna</td><td>102</td><td>Brazilian</td><td>60.0</td><td>6</td><td>2</td></tr><tr><td>1989</td><td>Riccardo Patrese</td><td>119</td><td>Italian</td><td>40.0</td><td>0</td><td>3</td></tr><tr><td>1989</td><td>Nigel Mansell</td><td>95</td><td>British</td><td>38.0</td><td>2</td><td>4</td></tr><tr><td>1989</td><td>Thierry Boutsen</td><td>123</td><td>Belgian</td><td>37.0</td><td>2</td><td>5</td></tr><tr><td>1989</td><td>Alessandro Nannini</td><td>145</td><td>Italian</td><td>32.0</td><td>1</td><td>6</td></tr><tr><td>1989</td><td>Gerhard Berger</td><td>77</td><td>Austrian</td><td>21.0</td><td>1</td><td>7</td></tr><tr><td>1989</td><td>Nelson Piquet</td><td>137</td><td>Brazilian</td><td>12.0</td><td>0</td><td>8</td></tr><tr><td>1989</td><td>Jean Alesi</td><td>55</td><td>French</td><td>8.0</td><td>0</td><td>9</td></tr><tr><td>1989</td><td>Derek Warwick</td><td>118</td><td>British</td><td>7.0</td><td>0</td><td>10</td></tr><tr><td>1989</td><td>Stefan Johansson</td><td>140</td><td>Swedish</td><td>6.0</td><td>0</td><td>11</td></tr><tr><td>1989</td><td>Michele Alboreto</td><td>105</td><td>Italian</td><td>6.0</td><td>0</td><td>11</td></tr><tr><td>1989</td><td>Eddie Cheever</td><td>158</td><td>American</td><td>6.0</td><td>0</td><td>11</td></tr><tr><td>1989</td><td>Pierluigi Martini</td><td>94</td><td>Italian</td><td>5.0</td><td>0</td><td>14</td></tr><tr><td>1989</td><td>Johnny Herbert</td><td>65</td><td>British</td><td>5.0</td><td>0</td><td>14</td></tr><tr><td>1989</td><td>Stefano Modena</td><td>131</td><td>Italian</td><td>4.0</td><td>0</td><td>16</td></tr><tr><td>1989</td><td>Alex Caffi</td><td>133</td><td>Italian</td><td>4.0</td><td>0</td><td>16</td></tr><tr><td>1989</td><td>Andrea de Cesaris</td><td>110</td><td>Italian</td><td>4.0</td><td>0</td><td>16</td></tr><tr><td>1989</td><td>Martin Brundle</td><td>84</td><td>British</td><td>4.0</td><td>0</td><td>16</td></tr><tr><td>1989</td><td>Maurício Gugelmin</td><td>127</td><td>Brazilian</td><td>4.0</td><td>0</td><td>16</td></tr><tr><td>1989</td><td>Christian Danner</td><td>157</td><td>German</td><td>3.0</td><td>0</td><td>21</td></tr><tr><td>1989</td><td>Satoru Nakajima</td><td>138</td><td>Japanese</td><td>3.0</td><td>0</td><td>21</td></tr><tr><td>1989</td><td>René Arnoux</td><td>163</td><td>French</td><td>2.0</td><td>0</td><td>23</td></tr><tr><td>1989</td><td>Jonathan Palmer</td><td>156</td><td>British</td><td>2.0</td><td>0</td><td>23</td></tr><tr><td>1989</td><td>Emanuele Pirro</td><td>139</td><td>Italian</td><td>2.0</td><td>0</td><td>23</td></tr><tr><td>1989</td><td>Olivier Grouillard</td><td>129</td><td>French</td><td>1.0</td><td>0</td><td>26</td></tr><tr><td>1989</td><td>Luis Pérez-Sala</td><td>159</td><td>Spanish</td><td>1.0</td><td>0</td><td>26</td></tr><tr><td>1989</td><td>Philippe Alliot</td><td>112</td><td>French</td><td>1.0</td><td>0</td><td>26</td></tr><tr><td>1989</td><td>Gabriele Tarquini</td><td>99</td><td>Italian</td><td>1.0</td><td>0</td><td>26</td></tr><tr><td>1989</td><td>Jyrki Järvilehto</td><td>109</td><td>Finnish</td><td>0.0</td><td>0</td><td>30</td></tr><tr><td>1989</td><td>Volker Weidler</td><td>161</td><td>German</td><td>0.0</td><td>0</td><td>30</td></tr><tr><td>1989</td><td>Enrico Bertaggia</td><td>134</td><td>Italian</td><td>0.0</td><td>0</td><td>30</td></tr><tr><td>1989</td><td>Ivan Capelli</td><td>122</td><td>Italian</td><td>0.0</td><td>0</td><td>30</td></tr><tr><td>1989</td><td>Éric Bernard</td><td>103</td><td>French</td><td>0.0</td><td>0</td><td>30</td></tr><tr><td>1989</td><td>Gregor Foitek</td><td>148</td><td>Swiss</td><td>0.0</td><td>0</td><td>30</td></tr><tr><td>1989</td><td>Pierre-Henri Raphanel</td><td>162</td><td>French</td><td>0.0</td><td>0</td><td>30</td></tr><tr><td>1989</td><td>Aguri Suzuki</td><td>88</td><td>Japanese</td><td>0.0</td><td>0</td><td>30</td></tr><tr><td>1989</td><td>Bernd Schneider</td><td>146</td><td>German</td><td>0.0</td><td>0</td><td>30</td></tr><tr><td>1989</td><td>Roberto Moreno</td><td>90</td><td>Brazilian</td><td>0.0</td><td>0</td><td>30</td></tr><tr><td>1989</td><td>Oscar Larrauri</td><td>165</td><td>Argentine</td><td>0.0</td><td>0</td><td>30</td></tr><tr><td>1989</td><td>Yannick Dalmas</td><td>114</td><td>French</td><td>0.0</td><td>0</td><td>30</td></tr><tr><td>1989</td><td>Joachim Winkelhock</td><td>164</td><td>German</td><td>0.0</td><td>0</td><td>30</td></tr><tr><td>1989</td><td>Piercarlo Ghinzani</td><td>160</td><td>Italian</td><td>0.0</td><td>0</td><td>30</td></tr><tr><td>1989</td><td>Bertrand Gachot</td><td>92</td><td>Belgian</td><td>0.0</td><td>0</td><td>30</td></tr><tr><td>1989</td><td>Martin Donnelly</td><td>151</td><td>British</td><td>0.0</td><td>0</td><td>30</td></tr><tr><td>1989</td><td>Nicola Larini</td><td>78</td><td>Italian</td><td>0.0</td><td>0</td><td>30</td></tr><tr><td>1989</td><td>Paolo Barilla</td><td>147</td><td>Italian</td><td>0.0</td><td>0</td><td>30</td></tr><tr><td>1994</td><td>Michael Schumacher</td><td>30</td><td>German</td><td>92.0</td><td>8</td><td>1</td></tr><tr><td>1994</td><td>Damon Hill</td><td>71</td><td>British</td><td>91.0</td><td>6</td><td>2</td></tr><tr><td>1994</td><td>Gerhard Berger</td><td>77</td><td>Austrian</td><td>41.0</td><td>1</td><td>3</td></tr><tr><td>1994</td><td>Mika Häkkinen</td><td>57</td><td>Finnish</td><td>26.0</td><td>0</td><td>4</td></tr><tr><td>1994</td><td>Jean Alesi</td><td>55</td><td>French</td><td>24.0</td><td>0</td><td>5</td></tr><tr><td>1994</td><td>Rubens Barrichello</td><td>22</td><td>Brazilian</td><td>19.0</td><td>0</td><td>6</td></tr><tr><td>1994</td><td>Martin Brundle</td><td>84</td><td>British</td><td>16.0</td><td>0</td><td>7</td></tr><tr><td>1994</td><td>David Coulthard</td><td>14</td><td>British</td><td>14.0</td><td>0</td><td>8</td></tr><tr><td>1994</td><td>Nigel Mansell</td><td>95</td><td>British</td><td>13.0</td><td>1</td><td>9</td></tr><tr><td>1994</td><td>Jos Verstappen</td><td>50</td><td>Dutch</td><td>10.0</td><td>0</td><td>10</td></tr><tr><td>1994</td><td>Olivier Panis</td><td>44</td><td>French</td><td>9.0</td><td>0</td><td>11</td></tr><tr><td>1994</td><td>Mark Blundell</td><td>87</td><td>British</td><td>8.0</td><td>0</td><td>12</td></tr><tr><td>1994</td><td>Heinz-Harald Frentzen</td><td>49</td><td>German</td><td>7.0</td><td>0</td><td>13</td></tr><tr><td>1994</td><td>Eddie Irvine</td><td>56</td><td>British</td><td>6.0</td><td>0</td><td>14</td></tr><tr><td>1994</td><td>Christian Fittipaldi</td><td>104</td><td>Brazilian</td><td>6.0</td><td>0</td><td>14</td></tr><tr><td>1994</td><td>Nicola Larini</td><td>78</td><td>Italian</td><td>6.0</td><td>0</td><td>14</td></tr><tr><td>1994</td><td>Ukyo Katayama</td><td>79</td><td>Japanese</td><td>5.0</td><td>0</td><td>17</td></tr><tr><td>1994</td><td>Éric Bernard</td><td>103</td><td>French</td><td>4.0</td><td>0</td><td>18</td></tr><tr><td>1994</td><td>Andrea de Cesaris</td><td>110</td><td>Italian</td><td>4.0</td><td>0</td><td>18</td></tr><tr><td>1994</td><td>Pierluigi Martini</td><td>94</td><td>Italian</td><td>4.0</td><td>0</td><td>18</td></tr><tr><td>1994</td><td>Karl Wendlinger</td><td>91</td><td>Austrian</td><td>4.0</td><td>0</td><td>18</td></tr><tr><td>1994</td><td>Gianni Morbidelli</td><td>81</td><td>Italian</td><td>3.0</td><td>0</td><td>22</td></tr><tr><td>1994</td><td>Érik Comas</td><td>100</td><td>French</td><td>2.0</td><td>0</td><td>23</td></tr><tr><td>1994</td><td>Michele Alboreto</td><td>105</td><td>Italian</td><td>1.0</td><td>0</td><td>24</td></tr><tr><td>1994</td><td>Jyrki Järvilehto</td><td>109</td><td>Finnish</td><td>1.0</td><td>0</td><td>24</td></tr><tr><td>1994</td><td>Paul Belmondo</td><td>108</td><td>French</td><td>0.0</td><td>0</td><td>26</td></tr><tr><td>1994</td><td>Bertrand Gachot</td><td>92</td><td>Belgian</td><td>0.0</td><td>0</td><td>26</td></tr><tr><td>1994</td><td>David Brabham</td><td>101</td><td>Australian</td><td>0.0</td><td>0</td><td>26</td></tr><tr><td>1994</td><td>Johnny Herbert</td><td>65</td><td>British</td><td>0.0</td><td>0</td><td>26</td></tr><tr><td>1994</td><td>Domenico Schiattarella</td><td>93</td><td>Italian</td><td>0.0</td><td>0</td><td>26</td></tr><tr><td>1994</td><td>Alessandro Zanardi</td><td>70</td><td>Italian</td><td>0.0</td><td>0</td><td>26</td></tr><tr><td>1994</td><td>Hideki Noda</td><td>115</td><td>Japanese</td><td>0.0</td><td>0</td><td>26</td></tr><tr><td>1994</td><td>Philippe Alliot</td><td>112</td><td>French</td><td>0.0</td><td>0</td><td>26</td></tr><tr><td>1994</td><td>Yannick Dalmas</td><td>114</td><td>French</td><td>0.0</td><td>0</td><td>26</td></tr><tr><td>1994</td><td>Olivier Beretta</td><td>106</td><td>Monegasque</td><td>0.0</td><td>0</td><td>26</td></tr><tr><td>1994</td><td>Philippe Adams</td><td>113</td><td>Belgian</td><td>0.0</td><td>0</td><td>26</td></tr><tr><td>1994</td><td>Mika Salo</td><td>63</td><td>Finnish</td><td>0.0</td><td>0</td><td>26</td></tr><tr><td>1994</td><td>Jean-Marc Gounon</td><td>111</td><td>French</td><td>0.0</td><td>0</td><td>26</td></tr><tr><td>1994</td><td>Ayrton Senna</td><td>102</td><td>Brazilian</td><td>0.0</td><td>0</td><td>26</td></tr><tr><td>1994</td><td>Pedro Lamy</td><td>83</td><td>Portuguese</td><td>0.0</td><td>0</td><td>26</td></tr><tr><td>1994</td><td>Taki Inoue</td><td>89</td><td>Japanese</td><td>0.0</td><td>0</td><td>26</td></tr><tr><td>1994</td><td>Jean-Denis Délétraz</td><td>98</td><td>Swiss</td><td>0.0</td><td>0</td><td>26</td></tr><tr><td>1994</td><td>Franck Lagorce</td><td>116</td><td>French</td><td>0.0</td><td>0</td><td>26</td></tr><tr><td>1994</td><td>Roland Ratzenberger</td><td>107</td><td>Austrian</td><td>0.0</td><td>0</td><td>26</td></tr><tr><td>1994</td><td>Andrea Montermini</td><td>85</td><td>Italian</td><td>0.0</td><td>0</td><td>26</td></tr><tr><td>1994</td><td>Aguri Suzuki</td><td>88</td><td>Japanese</td><td>0.0</td><td>0</td><td>26</td></tr><tr><td>1965</td><td>Jim Clark</td><td>373</td><td>British</td><td>54.0</td><td>6</td><td>1</td></tr><tr><td>1965</td><td>Graham Hill</td><td>289</td><td>British</td><td>47.0</td><td>2</td><td>2</td></tr><tr><td>1965</td><td>Jackie Stewart</td><td>328</td><td>British</td><td>34.0</td><td>1</td><td>3</td></tr><tr><td>1965</td><td>Dan Gurney</td><td>364</td><td>American</td><td>25.0</td><td>0</td><td>4</td></tr><tr><td>1965</td><td>John Surtees</td><td>341</td><td>British</td><td>17.0</td><td>0</td><td>5</td></tr><tr><td>1965</td><td>Lorenzo Bandini</td><td>385</td><td>Italian</td><td>13.0</td><td>0</td><td>6</td></tr><tr><td>1965</td><td>Richie Ginther</td><td>386</td><td>American</td><td>11.0</td><td>1</td><td>7</td></tr><tr><td>1965</td><td>Mike Spence</td><td>374</td><td>British</td><td>10.0</td><td>0</td><td>8</td></tr><tr><td>1965</td><td>Bruce McLaren</td><td>360</td><td>New Zealander</td><td>10.0</td><td>0</td><td>8</td></tr><tr><td>1965</td><td>Jack Brabham</td><td>356</td><td>Australian</td><td>9.0</td><td>0</td><td>10</td></tr><tr><td>1965</td><td>Jo Siffert</td><td>346</td><td>Swiss</td><td>5.0</td><td>0</td><td>11</td></tr><tr><td>1965</td><td>Denny Hulme</td><td>304</td><td>New Zealander</td><td>5.0</td><td>0</td><td>11</td></tr><tr><td>1965</td><td>Jochen Rindt</td><td>358</td><td>Austrian</td><td>4.0</td><td>0</td><td>13</td></tr><tr><td>1965</td><td>Pedro Rodríguez</td><td>345</td><td>Mexican</td><td>2.0</td><td>0</td><td>14</td></tr><tr><td>1965</td><td>Ronnie Bucknum</td><td>405</td><td>American</td><td>2.0</td><td>0</td><td>14</td></tr><tr><td>1965</td><td>Richard Attwood</td><td>370</td><td>British</td><td>2.0</td><td>0</td><td>14</td></tr><tr><td>1965</td><td>Brausch Niemann</td><td>412</td><td>South African</td><td>0.0</td><td>0</td><td>17</td></tr><tr><td>1965</td><td>Paul Hawkins</td><td>406</td><td>Australian</td><td>0.0</td><td>0</td><td>17</td></tr><tr><td>1965</td><td>Doug Serrurier</td><td>411</td><td>South African</td><td>0.0</td><td>0</td><td>17</td></tr><tr><td>1965</td><td>Tony Maggs</td><td>408</td><td>South African</td><td>0.0</td><td>0</td><td>17</td></tr><tr><td>1965</td><td>David Clapham</td><td>416</td><td>South African</td><td>0.0</td><td>0</td><td>17</td></tr><tr><td>1965</td><td>Dave Charlton</td><td>293</td><td>South African</td><td>0.0</td><td>0</td><td>17</td></tr><tr><td>1965</td><td>Bob Anderson</td><td>383</td><td>British</td><td>0.0</td><td>0</td><td>17</td></tr><tr><td>1965</td><td>Peter de Klerk</td><td>362</td><td>South African</td><td>0.0</td><td>0</td><td>17</td></tr><tr><td>1965</td><td>Frank Gardner</td><td>380</td><td>Australian</td><td>0.0</td><td>0</td><td>17</td></tr><tr><td>1965</td><td>Ernie Pieterse</td><td>413</td><td>South African</td><td>0.0</td><td>0</td><td>17</td></tr><tr><td>1965</td><td>John Love</td><td>340</td><td>Rhodesian</td><td>0.0</td><td>0</td><td>17</td></tr><tr><td>1965</td><td>David Prophet</td><td>407</td><td>British</td><td>0.0</td><td>0</td><td>17</td></tr><tr><td>1965</td><td>Trevor Blokdyk</td><td>409</td><td>South African</td><td>0.0</td><td>0</td><td>17</td></tr><tr><td>1965</td><td>Sam Tingle</td><td>368</td><td>Rhodesian</td><td>0.0</td><td>0</td><td>17</td></tr><tr><td>1965</td><td>Clive Puzey</td><td>414</td><td>Rhodesian</td><td>0.0</td><td>0</td><td>17</td></tr><tr><td>1965</td><td>Ray Reed</td><td>415</td><td>South African</td><td>0.0</td><td>0</td><td>17</td></tr><tr><td>1965</td><td>Jo Bonnier</td><td>347</td><td>Swedish</td><td>0.0</td><td>0</td><td>17</td></tr><tr><td>1965</td><td>Alex Blignaut</td><td>417</td><td>South African</td><td>0.0</td><td>0</td><td>17</td></tr><tr><td>1965</td><td>Jackie Pretorius</td><td>334</td><td>South African</td><td>0.0</td><td>0</td><td>17</td></tr><tr><td>1965</td><td>Neville Lederle</td><td>410</td><td>South African</td><td>0.0</td><td>0</td><td>17</td></tr><tr><td>1965</td><td>Bob Bondurant</td><td>396</td><td>American</td><td>0.0</td><td>0</td><td>17</td></tr><tr><td>1965</td><td>Alan Rollinson</td><td>421</td><td>British</td><td>0.0</td><td>0</td><td>17</td></tr><tr><td>1965</td><td>Giorgio Bassi</td><td>426</td><td>Italian</td><td>0.0</td><td>0</td><td>17</td></tr><tr><td>1965</td><td>John Rhodes</td><td>419</td><td>British</td><td>0.0</td><td>0</td><td>17</td></tr><tr><td>1965</td><td>Roberto Bussinello</td><td>424</td><td>Italian</td><td>0.0</td><td>0</td><td>17</td></tr><tr><td>1965</td><td>Ian Raby</td><td>420</td><td>British</td><td>0.0</td><td>0</td><td>17</td></tr><tr><td>1965</td><td>Chris Amon</td><td>278</td><td>New Zealander</td><td>0.0</td><td>0</td><td>17</td></tr><tr><td>1965</td><td>Gerhard Mitter</td><td>423</td><td>German</td><td>0.0</td><td>0</td><td>17</td></tr><tr><td>1965</td><td>Nino Vaccarella</td><td>425</td><td>Italian</td><td>0.0</td><td>0</td><td>17</td></tr><tr><td>1965</td><td>Brian Gubby</td><td>422</td><td>British</td><td>0.0</td><td>0</td><td>17</td></tr><tr><td>1965</td><td>Masten Gregory</td><td>418</td><td>American</td><td>0.0</td><td>0</td><td>17</td></tr><tr><td>1965</td><td>Moisés Solana</td><td>382</td><td>Mexican</td><td>0.0</td><td>0</td><td>17</td></tr><tr><td>1965</td><td>Innes Ireland</td><td>404</td><td>British</td><td>0.0</td><td>0</td><td>17</td></tr><tr><td>1965</td><td>Giancarlo Baghetti</td><td>394</td><td>Italian</td><td>0.0</td><td>0</td><td>17</td></tr><tr><td>1965</td><td>Giacomo Russo</td><td>402</td><td>Italian</td><td>0.0</td><td>0</td><td>17</td></tr><tr><td>1965</td><td>Ludovico Scarfiotti</td><td>375</td><td>Italian</td><td>0.0</td><td>0</td><td>17</td></tr><tr><td>1965</td><td>Mike Hailwood</td><td>305</td><td>British</td><td>0.0</td><td>0</td><td>17</td></tr><tr><td>1965</td><td>Lucien Bianchi</td><td>376</td><td>Belgian</td><td>0.0</td><td>0</td><td>17</td></tr><tr><td>1971</td><td>Jackie Stewart</td><td>328</td><td>British</td><td>62.0</td><td>6</td><td>1</td></tr><tr><td>1971</td><td>Ronnie Peterson</td><td>238</td><td>Swedish</td><td>33.0</td><td>0</td><td>2</td></tr><tr><td>1971</td><td>François Cevert</td><td>327</td><td>French</td><td>26.0</td><td>1</td><td>3</td></tr><tr><td>1971</td><td>Jacky Ickx</td><td>235</td><td>Belgian</td><td>19.0</td><td>1</td><td>4</td></tr><tr><td>1971</td><td>Jo Siffert</td><td>346</td><td>Swiss</td><td>19.0</td><td>1</td><td>4</td></tr><tr><td>1971</td><td>Emerson Fittipaldi</td><td>224</td><td>Brazilian</td><td>16.0</td><td>0</td><td>6</td></tr><tr><td>1971</td><td>Clay Regazzoni</td><td>223</td><td>Swiss</td><td>13.0</td><td>0</td><td>7</td></tr><tr><td>1971</td><td>Mario Andretti</td><td>207</td><td>American</td><td>12.0</td><td>1</td><td>8</td></tr><tr><td>1971</td><td>Peter Gethin</td><td>320</td><td>British</td><td>9.0</td><td>1</td><td>9</td></tr><tr><td>1971</td><td>Reine Wisell</td><td>317</td><td>Swedish</td><td>9.0</td><td>0</td><td>10</td></tr><tr><td>1971</td><td>Denny Hulme</td><td>304</td><td>New Zealander</td><td>9.0</td><td>0</td><td>10</td></tr><tr><td>1971</td><td>Chris Amon</td><td>278</td><td>New Zealander</td><td>9.0</td><td>0</td><td>10</td></tr><tr><td>1971</td><td>Pedro Rodríguez</td><td>345</td><td>Mexican</td><td>9.0</td><td>0</td><td>10</td></tr><tr><td>1971</td><td>Tim Schenken</td><td>314</td><td>Australian</td><td>5.0</td><td>0</td><td>14</td></tr><tr><td>1971</td><td>Howden Ganley</td><td>307</td><td>New Zealander</td><td>5.0</td><td>0</td><td>14</td></tr><tr><td>1971</td><td>Henri Pescarolo</td><td>280</td><td>French</td><td>4.0</td><td>0</td><td>16</td></tr><tr><td>1971</td><td>Mark Donohue</td><td>288</td><td>American</td><td>4.0</td><td>0</td><td>16</td></tr><tr><td>1971</td><td>John Surtees</td><td>341</td><td>British</td><td>3.0</td><td>0</td><td>18</td></tr><tr><td>1971</td><td>Mike Hailwood</td><td>305</td><td>British</td><td>3.0</td><td>0</td><td>18</td></tr><tr><td>1971</td><td>Rolf Stommelen</td><td>243</td><td>German</td><td>3.0</td><td>0</td><td>18</td></tr><tr><td>1971</td><td>Graham Hill</td><td>289</td><td>British</td><td>2.0</td><td>0</td><td>21</td></tr><tr><td>1971</td><td>Jean-Pierre Beltoise</td><td>306</td><td>French</td><td>1.0</td><td>0</td><td>22</td></tr><tr><td>1971</td><td>Sam Posey</td><td>344</td><td>American</td><td>0.0</td><td>0</td><td>23</td></tr><tr><td>1971</td><td>John Cannon</td><td>355</td><td>Canadian</td><td>0.0</td><td>0</td><td>23</td></tr><tr><td>1971</td><td>Pete Lovely</td><td>353</td><td>American</td><td>0.0</td><td>0</td><td>23</td></tr><tr><td>1971</td><td>Jo Bonnier</td><td>347</td><td>Swedish</td><td>0.0</td><td>0</td><td>23</td></tr><tr><td>1971</td><td>David Hobbs</td><td>322</td><td>British</td><td>0.0</td><td>0</td><td>23</td></tr><tr><td>1971</td><td>Chris Craft</td><td>354</td><td>British</td><td>0.0</td><td>0</td><td>23</td></tr><tr><td>1971</td><td>Peter Revson</td><td>309</td><td>American</td><td>0.0</td><td>0</td><td>23</td></tr><tr><td>1971</td><td>Helmut Marko</td><td>337</td><td>Austrian</td><td>0.0</td><td>0</td><td>23</td></tr><tr><td>1971</td><td>Andrea de Adamich</td><td>333</td><td>Italian</td><td>0.0</td><td>0</td><td>23</td></tr><tr><td>1971</td><td>Nanni Galli</td><td>330</td><td>Italian</td><td>0.0</td><td>0</td><td>23</td></tr><tr><td>1971</td><td>Skip Barber</td><td>342</td><td>American</td><td>0.0</td><td>0</td><td>23</td></tr><tr><td>1971</td><td>Jackie Pretorius</td><td>334</td><td>South African</td><td>0.0</td><td>0</td><td>23</td></tr><tr><td>1971</td><td>Alex Soler-Roig</td><td>339</td><td>Spanish</td><td>0.0</td><td>0</td><td>23</td></tr><tr><td>1971</td><td>Brian Redman</td><td>312</td><td>British</td><td>0.0</td><td>0</td><td>23</td></tr><tr><td>1971</td><td>John Love</td><td>340</td><td>Rhodesian</td><td>0.0</td><td>0</td><td>23</td></tr><tr><td>1971</td><td>Dave Charlton</td><td>293</td><td>South African</td><td>0.0</td><td>0</td><td>23</td></tr><tr><td>1971</td><td>George Eaton</td><td>352</td><td>Canadian</td><td>0.0</td><td>0</td><td>23</td></tr><tr><td>1971</td><td>Mike Beuttler</td><td>329</td><td>British</td><td>0.0</td><td>0</td><td>23</td></tr><tr><td>1971</td><td>Jackie Oliver</td><td>262</td><td>British</td><td>0.0</td><td>0</td><td>23</td></tr><tr><td>1971</td><td>Max Jean</td><td>349</td><td>French</td><td>0.0</td><td>0</td><td>23</td></tr><tr><td>1971</td><td>Derek Bell</td><td>321</td><td>British</td><td>0.0</td><td>0</td><td>23</td></tr><tr><td>1971</td><td>François Mazet</td><td>348</td><td>French</td><td>0.0</td><td>0</td><td>23</td></tr><tr><td>1971</td><td>Gijs van Lennep</td><td>298</td><td>Dutch</td><td>0.0</td><td>0</td><td>23</td></tr><tr><td>1971</td><td>David Walker</td><td>338</td><td>Australian</td><td>0.0</td><td>0</td><td>23</td></tr><tr><td>1971</td><td>Niki Lauda</td><td>182</td><td>Austrian</td><td>0.0</td><td>0</td><td>23</td></tr><tr><td>1971</td><td>Silvio Moser</td><td>351</td><td>Swiss</td><td>0.0</td><td>0</td><td>23</td></tr><tr><td>1971</td><td>Jean-Pierre Jarier</td><td>197</td><td>French</td><td>0.0</td><td>0</td><td>23</td></tr><tr><td>1971</td><td>Vic Elford</td><td>350</td><td>British</td><td>0.0</td><td>0</td><td>23</td></tr><tr><td>1973</td><td>Jackie Stewart</td><td>328</td><td>British</td><td>71.0</td><td>5</td><td>1</td></tr><tr><td>1973</td><td>Emerson Fittipaldi</td><td>224</td><td>Brazilian</td><td>55.0</td><td>3</td><td>2</td></tr><tr><td>1973</td><td>Ronnie Peterson</td><td>238</td><td>Swedish</td><td>52.0</td><td>4</td><td>3</td></tr><tr><td>1973</td><td>François Cevert</td><td>327</td><td>French</td><td>47.0</td><td>0</td><td>4</td></tr><tr><td>1973</td><td>Peter Revson</td><td>309</td><td>American</td><td>38.0</td><td>2</td><td>5</td></tr><tr><td>1973</td><td>Denny Hulme</td><td>304</td><td>New Zealander</td><td>26.0</td><td>1</td><td>6</td></tr><tr><td>1973</td><td>Carlos Reutemann</td><td>199</td><td>Argentine</td><td>16.0</td><td>0</td><td>7</td></tr><tr><td>1973</td><td>James Hunt</td><td>231</td><td>British</td><td>14.0</td><td>0</td><td>8</td></tr><tr><td>1973</td><td>Jacky Ickx</td><td>235</td><td>Belgian</td><td>12.0</td><td>0</td><td>9</td></tr><tr><td>1973</td><td>Jean-Pierre Beltoise</td><td>306</td><td>French</td><td>9.0</td><td>0</td><td>10</td></tr><tr><td>1973</td><td>Carlos Pace</td><td>250</td><td>Brazilian</td><td>7.0</td><td>0</td><td>11</td></tr><tr><td>1973</td><td>Arturo Merzario</td><td>232</td><td>Italian</td><td>6.0</td><td>0</td><td>12</td></tr><tr><td>1973</td><td>George Follmer</td><td>332</td><td>American</td><td>5.0</td><td>0</td><td>13</td></tr><tr><td>1973</td><td>Jackie Oliver</td><td>262</td><td>British</td><td>4.0</td><td>0</td><td>14</td></tr><tr><td>1973</td><td>Wilson Fittipaldi</td><td>290</td><td>Brazilian</td><td>3.0</td><td>0</td><td>15</td></tr><tr><td>1973</td><td>Andrea de Adamich</td><td>333</td><td>Italian</td><td>3.0</td><td>0</td><td>15</td></tr><tr><td>1973</td><td>Clay Regazzoni</td><td>223</td><td>Swiss</td><td>2.0</td><td>0</td><td>17</td></tr><tr><td>1973</td><td>Niki Lauda</td><td>182</td><td>Austrian</td><td>2.0</td><td>0</td><td>17</td></tr><tr><td>1973</td><td>Chris Amon</td><td>278</td><td>New Zealander</td><td>1.0</td><td>0</td><td>19</td></tr><tr><td>1973</td><td>Howden Ganley</td><td>307</td><td>New Zealander</td><td>1.0</td><td>0</td><td>19</td></tr><tr><td>1973</td><td>Gijs van Lennep</td><td>298</td><td>Dutch</td><td>1.0</td><td>0</td><td>19</td></tr><tr><td>1973</td><td>Jody Scheckter</td><td>222</td><td>South African</td><td>0.0</td><td>0</td><td>22</td></tr><tr><td>1973</td><td>Jochen Mass</td><td>200</td><td>German</td><td>0.0</td><td>0</td><td>22</td></tr><tr><td>1973</td><td>Graham Hill</td><td>289</td><td>British</td><td>0.0</td><td>0</td><td>22</td></tr><tr><td>1973</td><td>Rikky von Opel</td><td>313</td><td>Liechtensteiner</td><td>0.0</td><td>0</td><td>22</td></tr><tr><td>1973</td><td>Roger Williamson</td><td>335</td><td>British</td><td>0.0</td><td>0</td><td>22</td></tr><tr><td>1973</td><td>David Purley</td><td>259</td><td>British</td><td>0.0</td><td>0</td><td>22</td></tr><tr><td>1973</td><td>John Watson</td><td>187</td><td>British</td><td>0.0</td><td>0</td><td>22</td></tr><tr><td>1973</td><td>Brian Redman</td><td>312</td><td>British</td><td>0.0</td><td>0</td><td>22</td></tr><tr><td>1973</td><td>Mike Hailwood</td><td>305</td><td>British</td><td>0.0</td><td>0</td><td>22</td></tr><tr><td>1973</td><td>Mike Beuttler</td><td>329</td><td>British</td><td>0.0</td><td>0</td><td>22</td></tr><tr><td>1973</td><td>Graham McRae</td><td>336</td><td>New Zealander</td><td>0.0</td><td>0</td><td>22</td></tr><tr><td>1973</td><td>Jean-Pierre Jarier</td><td>197</td><td>French</td><td>0.0</td><td>0</td><td>22</td></tr><tr><td>1973</td><td>Reine Wisell</td><td>317</td><td>Swedish</td><td>0.0</td><td>0</td><td>22</td></tr><tr><td>1973</td><td>Henri Pescarolo</td><td>280</td><td>French</td><td>0.0</td><td>0</td><td>22</td></tr><tr><td>1973</td><td>Rolf Stommelen</td><td>243</td><td>German</td><td>0.0</td><td>0</td><td>22</td></tr><tr><td>1973</td><td>Tim Schenken</td><td>314</td><td>Australian</td><td>0.0</td><td>0</td><td>22</td></tr><tr><td>1973</td><td>Peter Gethin</td><td>320</td><td>British</td><td>0.0</td><td>0</td><td>22</td></tr><tr><td>1973</td><td>Jackie Pretorius</td><td>334</td><td>South African</td><td>0.0</td><td>0</td><td>22</td></tr><tr><td>1973</td><td>Nanni Galli</td><td>330</td><td>Italian</td><td>0.0</td><td>0</td><td>22</td></tr><tr><td>1973</td><td>Dave Charlton</td><td>293</td><td>South African</td><td>0.0</td><td>0</td><td>22</td></tr><tr><td>1973</td><td>Eddie Keizan</td><td>292</td><td>South African</td><td>0.0</td><td>0</td><td>22</td></tr><tr><td>1973</td><td>Luiz Bueno</td><td>331</td><td>Brazilian</td><td>0.0</td><td>0</td><td>22</td></tr><tr><td>1970</td><td>Jochen Rindt</td><td>358</td><td>Austrian</td><td>45.0</td><td>5</td><td>1</td></tr><tr><td>1970</td><td>Jacky Ickx</td><td>235</td><td>Belgian</td><td>40.0</td><td>3</td><td>2</td></tr><tr><td>1970</td><td>Clay Regazzoni</td><td>223</td><td>Swiss</td><td>33.0</td><td>1</td><td>3</td></tr><tr><td>1970</td><td>Denny Hulme</td><td>304</td><td>New Zealander</td><td>27.0</td><td>0</td><td>4</td></tr><tr><td>1970</td><td>Jackie Stewart</td><td>328</td><td>British</td><td>25.0</td><td>1</td><td>5</td></tr><tr><td>1970</td><td>Jack Brabham</td><td>356</td><td>Australian</td><td>25.0</td><td>1</td><td>5</td></tr><tr><td>1970</td><td>Pedro Rodríguez</td><td>345</td><td>Mexican</td><td>23.0</td><td>1</td><td>7</td></tr><tr><td>1970</td><td>Chris Amon</td><td>278</td><td>New Zealander</td><td>23.0</td><td>0</td><td>8</td></tr><tr><td>1970</td><td>Jean-Pierre Beltoise</td><td>306</td><td>French</td><td>16.0</td><td>0</td><td>9</td></tr><tr><td>1970</td><td>Emerson Fittipaldi</td><td>224</td><td>Brazilian</td><td>12.0</td><td>1</td><td>10</td></tr><tr><td>1970</td><td>Rolf Stommelen</td><td>243</td><td>German</td><td>10.0</td><td>0</td><td>11</td></tr><tr><td>1970</td><td>Henri Pescarolo</td><td>280</td><td>French</td><td>8.0</td><td>0</td><td>12</td></tr><tr><td>1970</td><td>Graham Hill</td><td>289</td><td>British</td><td>7.0</td><td>0</td><td>13</td></tr><tr><td>1970</td><td>Bruce McLaren</td><td>360</td><td>New Zealander</td><td>6.0</td><td>0</td><td>14</td></tr><tr><td>1970</td><td>Reine Wisell</td><td>317</td><td>Swedish</td><td>4.0</td><td>0</td><td>15</td></tr><tr><td>1970</td><td>Mario Andretti</td><td>207</td><td>American</td><td>4.0</td><td>0</td><td>15</td></tr><tr><td>1970</td><td>John Surtees</td><td>341</td><td>British</td><td>3.0</td><td>0</td><td>17</td></tr><tr><td>1970</td><td>Ignazio Giunti</td><td>363</td><td>Italian</td><td>3.0</td><td>0</td><td>17</td></tr><tr><td>1970</td><td>Jackie Oliver</td><td>262</td><td>British</td><td>2.0</td><td>0</td><td>19</td></tr><tr><td>1970</td><td>John Miles</td><td>357</td><td>British</td><td>2.0</td><td>0</td><td>19</td></tr><tr><td>1970</td><td>Johnny Servoz-Gavin</td><td>359</td><td>French</td><td>2.0</td><td>0</td><td>19</td></tr><tr><td>1970</td><td>Peter Gethin</td><td>320</td><td>British</td><td>1.0</td><td>0</td><td>22</td></tr><tr><td>1970</td><td>Derek Bell</td><td>321</td><td>British</td><td>1.0</td><td>0</td><td>22</td></tr><tr><td>1970</td><td>François Cevert</td><td>327</td><td>French</td><td>1.0</td><td>0</td><td>22</td></tr><tr><td>1970</td><td>Dan Gurney</td><td>364</td><td>American</td><td>1.0</td><td>0</td><td>22</td></tr><tr><td>1970</td><td>Pete Lovely</td><td>353</td><td>American</td><td>0.0</td><td>0</td><td>26</td></tr><tr><td>1970</td><td>Tim Schenken</td><td>314</td><td>Australian</td><td>0.0</td><td>0</td><td>26</td></tr><tr><td>1970</td><td>Gus Hutchison</td><td>366</td><td>American</td><td>0.0</td><td>0</td><td>26</td></tr><tr><td>1970</td><td>Ronnie Peterson</td><td>238</td><td>Swedish</td><td>0.0</td><td>0</td><td>26</td></tr><tr><td>1970</td><td>Jo Siffert</td><td>346</td><td>Swiss</td><td>0.0</td><td>0</td><td>26</td></tr><tr><td>1970</td><td>George Eaton</td><td>352</td><td>Canadian</td><td>0.0</td><td>0</td><td>26</td></tr><tr><td>1970</td><td>Peter Westbury</td><td>367</td><td>British</td><td>0.0</td><td>0</td><td>26</td></tr><tr><td>1970</td><td>Andrea de Adamich</td><td>333</td><td>Italian</td><td>0.0</td><td>0</td><td>26</td></tr><tr><td>1970</td><td>Jo Bonnier</td><td>347</td><td>Swedish</td><td>0.0</td><td>0</td><td>26</td></tr><tr><td>1970</td><td>Silvio Moser</td><td>351</td><td>Swiss</td><td>0.0</td><td>0</td><td>26</td></tr><tr><td>1970</td><td>Alex Soler-Roig</td><td>339</td><td>Spanish</td><td>0.0</td><td>0</td><td>26</td></tr><tr><td>1970</td><td>Nanni Galli</td><td>330</td><td>Italian</td><td>0.0</td><td>0</td><td>26</td></tr><tr><td>1970</td><td>Brian Redman</td><td>312</td><td>British</td><td>0.0</td><td>0</td><td>26</td></tr><tr><td>1970</td><td>Hubert Hahne</td><td>365</td><td>German</td><td>0.0</td><td>0</td><td>26</td></tr><tr><td>1970</td><td>Peter de Klerk</td><td>362</td><td>South African</td><td>0.0</td><td>0</td><td>26</td></tr><tr><td>1970</td><td>Piers Courage</td><td>361</td><td>British</td><td>0.0</td><td>0</td><td>26</td></tr><tr><td>1970</td><td>Dave Charlton</td><td>293</td><td>South African</td><td>0.0</td><td>0</td><td>26</td></tr><tr><td>1970</td><td>John Love</td><td>340</td><td>Rhodesian</td><td>0.0</td><td>0</td><td>26</td></tr><tr><td>1980</td><td>Alan Jones</td><td>178</td><td>Australian</td><td>71.0</td><td>5</td><td>1</td></tr><tr><td>1980</td><td>Nelson Piquet</td><td>137</td><td>Brazilian</td><td>54.0</td><td>3</td><td>2</td></tr><tr><td>1980</td><td>Carlos Reutemann</td><td>199</td><td>Argentine</td><td>49.0</td><td>1</td><td>3</td></tr><tr><td>1980</td><td>Jacques Laffite</td><td>172</td><td>French</td><td>34.0</td><td>1</td><td>4</td></tr><tr><td>1980</td><td>Didier Pironi</td><td>202</td><td>French</td><td>32.0</td><td>1</td><td>5</td></tr><tr><td>1980</td><td>René Arnoux</td><td>163</td><td>French</td><td>29.0</td><td>2</td><td>6</td></tr><tr><td>1980</td><td>Elio de Angelis</td><td>173</td><td>Italian</td><td>13.0</td><td>0</td><td>7</td></tr><tr><td>1980</td><td>Jean-Pierre Jabouille</td><td>219</td><td>French</td><td>9.0</td><td>1</td><td>8</td></tr><tr><td>1980</td><td>Riccardo Patrese</td><td>119</td><td>Italian</td><td>7.0</td><td>0</td><td>9</td></tr><tr><td>1980</td><td>Derek Daly</td><td>206</td><td>Irish</td><td>6.0</td><td>0</td><td>10</td></tr><tr><td>1980</td><td>Keke Rosberg</td><td>177</td><td>Finnish</td><td>6.0</td><td>0</td><td>10</td></tr><tr><td>1980</td><td>Gilles Villeneuve</td><td>203</td><td>Canadian</td><td>6.0</td><td>0</td><td>10</td></tr><tr><td>1980</td><td>John Watson</td><td>187</td><td>British</td><td>6.0</td><td>0</td><td>10</td></tr><tr><td>1980</td><td>Jean-Pierre Jarier</td><td>197</td><td>French</td><td>6.0</td><td>0</td><td>10</td></tr><tr><td>1980</td><td>Alain Prost</td><td>117</td><td>French</td><td>5.0</td><td>0</td><td>15</td></tr><tr><td>1980</td><td>Emerson Fittipaldi</td><td>224</td><td>Brazilian</td><td>5.0</td><td>0</td><td>15</td></tr><tr><td>1980</td><td>Bruno Giacomelli</td><td>152</td><td>Italian</td><td>4.0</td><td>0</td><td>17</td></tr><tr><td>1980</td><td>Jochen Mass</td><td>200</td><td>German</td><td>4.0</td><td>0</td><td>17</td></tr><tr><td>1980</td><td>Jody Scheckter</td><td>222</td><td>South African</td><td>2.0</td><td>0</td><td>19</td></tr><tr><td>1980</td><td>Hector Rebaque</td><td>212</td><td>Mexican</td><td>1.0</td><td>0</td><td>20</td></tr><tr><td>1980</td><td>Mario Andretti</td><td>207</td><td>American</td><td>1.0</td><td>0</td><td>20</td></tr><tr><td>1980</td><td>Clay Regazzoni</td><td>223</td><td>Swiss</td><td>0.0</td><td>0</td><td>22</td></tr><tr><td>1980</td><td>Patrick Depailler</td><td>221</td><td>French</td><td>0.0</td><td>0</td><td>22</td></tr><tr><td>1980</td><td>Dave Kennedy</td><td>225</td><td>Irish</td><td>0.0</td><td>0</td><td>22</td></tr><tr><td>1980</td><td>Marc Surer</td><td>176</td><td>Swiss</td><td>0.0</td><td>0</td><td>22</td></tr><tr><td>1980</td><td>Geoff Lees</td><td>209</td><td>British</td><td>0.0</td><td>0</td><td>22</td></tr><tr><td>1980</td><td>Mike Thackwell</td><td>191</td><td>New Zealander</td><td>0.0</td><td>0</td><td>22</td></tr><tr><td>1980</td><td>Ricardo Zunino</td><td>217</td><td>Argentine</td><td>0.0</td><td>0</td><td>22</td></tr><tr><td>1980</td><td>Rupert Keegan</td><td>211</td><td>British</td><td>0.0</td><td>0</td><td>22</td></tr><tr><td>1980</td><td>Jan Lammers</td><td>136</td><td>Dutch</td><td>0.0</td><td>0</td><td>22</td></tr><tr><td>1980</td><td>Nigel Mansell</td><td>95</td><td>British</td><td>0.0</td><td>0</td><td>22</td></tr><tr><td>1980</td><td>Stephen South</td><td>226</td><td>British</td><td>0.0</td><td>0</td><td>22</td></tr><tr><td>1980</td><td>Eddie Cheever</td><td>158</td><td>American</td><td>0.0</td><td>0</td><td>22</td></tr><tr><td>1980</td><td>Andrea de Cesaris</td><td>110</td><td>Italian</td><td>0.0</td><td>0</td><td>22</td></tr><tr><td>1980</td><td>Vittorio Brambilla</td><td>230</td><td>Italian</td><td>0.0</td><td>0</td><td>22</td></tr><tr><td>1980</td><td>Stefan Johansson</td><td>140</td><td>Swedish</td><td>0.0</td><td>0</td><td>22</td></tr><tr><td>1980</td><td>Harald Ertl</td><td>229</td><td>Austrian</td><td>0.0</td><td>0</td><td>22</td></tr><tr><td>1980</td><td>Manfred Winkelhock</td><td>181</td><td>German</td><td>0.0</td><td>0</td><td>22</td></tr><tr><td>1980</td><td>Desiré Wilson</td><td>228</td><td>South African</td><td>0.0</td><td>0</td><td>22</td></tr><tr><td>1980</td><td>Kevin Cogan</td><td>214</td><td>American</td><td>0.0</td><td>0</td><td>22</td></tr><tr><td>1980</td><td>Tiff Needell</td><td>227</td><td>British</td><td>0.0</td><td>0</td><td>22</td></tr><tr><td>1972</td><td>Emerson Fittipaldi</td><td>224</td><td>Brazilian</td><td>61.0</td><td>5</td><td>1</td></tr><tr><td>1972</td><td>Jackie Stewart</td><td>328</td><td>British</td><td>45.0</td><td>4</td><td>2</td></tr><tr><td>1972</td><td>Denny Hulme</td><td>304</td><td>New Zealander</td><td>39.0</td><td>1</td><td>3</td></tr><tr><td>1972</td><td>Jacky Ickx</td><td>235</td><td>Belgian</td><td>27.0</td><td>1</td><td>4</td></tr><tr><td>1972</td><td>Peter Revson</td><td>309</td><td>American</td><td>23.0</td><td>0</td><td>5</td></tr><tr><td>1972</td><td>François Cevert</td><td>327</td><td>French</td><td>15.0</td><td>0</td><td>6</td></tr><tr><td>1972</td><td>Clay Regazzoni</td><td>223</td><td>Swiss</td><td>15.0</td><td>0</td><td>6</td></tr><tr><td>1972</td><td>Mike Hailwood</td><td>305</td><td>British</td><td>13.0</td><td>0</td><td>8</td></tr><tr><td>1972</td><td>Ronnie Peterson</td><td>238</td><td>Swedish</td><td>12.0</td><td>0</td><td>9</td></tr><tr><td>1972</td><td>Chris Amon</td><td>278</td><td>New Zealander</td><td>12.0</td><td>0</td><td>9</td></tr><tr><td>1972</td><td>Jean-Pierre Beltoise</td><td>306</td><td>French</td><td>9.0</td><td>1</td><td>11</td></tr><tr><td>1972</td><td>Mario Andretti</td><td>207</td><td>American</td><td>4.0</td><td>0</td><td>12</td></tr><tr><td>1972</td><td>Brian Redman</td><td>312</td><td>British</td><td>4.0</td><td>0</td><td>12</td></tr><tr><td>1972</td><td>Howden Ganley</td><td>307</td><td>New Zealander</td><td>4.0</td><td>0</td><td>12</td></tr><tr><td>1972</td><td>Graham Hill</td><td>289</td><td>British</td><td>4.0</td><td>0</td><td>12</td></tr><tr><td>1972</td><td>Andrea de Adamich</td><td>333</td><td>Italian</td><td>3.0</td><td>0</td><td>16</td></tr><tr><td>1972</td><td>Carlos Reutemann</td><td>199</td><td>Argentine</td><td>3.0</td><td>0</td><td>16</td></tr><tr><td>1972</td><td>Carlos Pace</td><td>250</td><td>Brazilian</td><td>3.0</td><td>0</td><td>16</td></tr><tr><td>1972</td><td>Tim Schenken</td><td>314</td><td>Australian</td><td>2.0</td><td>0</td><td>19</td></tr><tr><td>1972</td><td>Peter Gethin</td><td>320</td><td>British</td><td>1.0</td><td>0</td><td>20</td></tr><tr><td>1972</td><td>Arturo Merzario</td><td>232</td><td>Italian</td><td>1.0</td><td>0</td><td>20</td></tr><tr><td>1972</td><td>Sam Posey</td><td>344</td><td>American</td><td>0.0</td><td>0</td><td>22</td></tr><tr><td>1972</td><td>Henri Pescarolo</td><td>280</td><td>French</td><td>0.0</td><td>0</td><td>22</td></tr><tr><td>1972</td><td>Skip Barber</td><td>342</td><td>American</td><td>0.0</td><td>0</td><td>22</td></tr><tr><td>1972</td><td>Patrick Depailler</td><td>221</td><td>French</td><td>0.0</td><td>0</td><td>22</td></tr><tr><td>1972</td><td>Reine Wisell</td><td>317</td><td>Swedish</td><td>0.0</td><td>0</td><td>22</td></tr><tr><td>1972</td><td>David Walker</td><td>338</td><td>Australian</td><td>0.0</td><td>0</td><td>22</td></tr><tr><td>1972</td><td>Wilson Fittipaldi</td><td>290</td><td>Brazilian</td><td>0.0</td><td>0</td><td>22</td></tr><tr><td>1972</td><td>Niki Lauda</td><td>182</td><td>Austrian</td><td>0.0</td><td>0</td><td>22</td></tr><tr><td>1972</td><td>Derek Bell</td><td>321</td><td>British</td><td>0.0</td><td>0</td><td>22</td></tr><tr><td>1972</td><td>Mike Beuttler</td><td>329</td><td>British</td><td>0.0</td><td>0</td><td>22</td></tr><tr><td>1972</td><td>Jody Scheckter</td><td>222</td><td>South African</td><td>0.0</td><td>0</td><td>22</td></tr><tr><td>1972</td><td>Dave Charlton</td><td>293</td><td>South African</td><td>0.0</td><td>0</td><td>22</td></tr><tr><td>1972</td><td>John Love</td><td>340</td><td>Rhodesian</td><td>0.0</td><td>0</td><td>22</td></tr><tr><td>1972</td><td>Rolf Stommelen</td><td>243</td><td>German</td><td>0.0</td><td>0</td><td>22</td></tr><tr><td>1972</td><td>Helmut Marko</td><td>337</td><td>Austrian</td><td>0.0</td><td>0</td><td>22</td></tr><tr><td>1972</td><td>Nanni Galli</td><td>330</td><td>Italian</td><td>0.0</td><td>0</td><td>22</td></tr><tr><td>1972</td><td>John Surtees</td><td>341</td><td>British</td><td>0.0</td><td>0</td><td>22</td></tr><tr><td>1972</td><td>François Migault</td><td>296</td><td>French</td><td>0.0</td><td>0</td><td>22</td></tr><tr><td>1972</td><td>Jackie Oliver</td><td>262</td><td>British</td><td>0.0</td><td>0</td><td>22</td></tr><tr><td>1972</td><td>Alex Soler-Roig</td><td>339</td><td>Spanish</td><td>0.0</td><td>0</td><td>22</td></tr><tr><td>1972</td><td>Bill Brack</td><td>343</td><td>Canadian</td><td>0.0</td><td>0</td><td>22</td></tr><tr><td>1968</td><td>Graham Hill</td><td>289</td><td>British</td><td>48.0</td><td>3</td><td>1</td></tr><tr><td>1968</td><td>Jackie Stewart</td><td>328</td><td>British</td><td>36.0</td><td>3</td><td>2</td></tr><tr><td>1968</td><td>Denny Hulme</td><td>304</td><td>New Zealander</td><td>33.0</td><td>2</td><td>3</td></tr><tr><td>1968</td><td>Jacky Ickx</td><td>235</td><td>Belgian</td><td>27.0</td><td>1</td><td>4</td></tr><tr><td>1968</td><td>Bruce McLaren</td><td>360</td><td>New Zealander</td><td>22.0</td><td>1</td><td>5</td></tr><tr><td>1968</td><td>Pedro Rodríguez</td><td>345</td><td>Mexican</td><td>18.0</td><td>0</td><td>6</td></tr><tr><td>1968</td><td>Jo Siffert</td><td>346</td><td>Swiss</td><td>12.0</td><td>1</td><td>7</td></tr><tr><td>1968</td><td>John Surtees</td><td>341</td><td>British</td><td>12.0</td><td>0</td><td>8</td></tr><tr><td>1968</td><td>Jean-Pierre Beltoise</td><td>306</td><td>French</td><td>11.0</td><td>0</td><td>9</td></tr><tr><td>1968</td><td>Chris Amon</td><td>278</td><td>New Zealander</td><td>10.0</td><td>0</td><td>10</td></tr><tr><td>1968</td><td>Jim Clark</td><td>373</td><td>British</td><td>9.0</td><td>1</td><td>11</td></tr><tr><td>1968</td><td>Jochen Rindt</td><td>358</td><td>Austrian</td><td>8.0</td><td>0</td><td>12</td></tr><tr><td>1968</td><td>Ludovico Scarfiotti</td><td>375</td><td>Italian</td><td>6.0</td><td>0</td><td>13</td></tr><tr><td>1968</td><td>Richard Attwood</td><td>370</td><td>British</td><td>6.0</td><td>0</td><td>13</td></tr><tr><td>1968</td><td>Johnny Servoz-Gavin</td><td>359</td><td>French</td><td>6.0</td><td>0</td><td>13</td></tr><tr><td>1968</td><td>Jackie Oliver</td><td>262</td><td>British</td><td>6.0</td><td>0</td><td>13</td></tr><tr><td>1968</td><td>Lucien Bianchi</td><td>376</td><td>Belgian</td><td>5.0</td><td>0</td><td>17</td></tr><tr><td>1968</td><td>Vic Elford</td><td>350</td><td>British</td><td>5.0</td><td>0</td><td>17</td></tr><tr><td>1968</td><td>Brian Redman</td><td>312</td><td>British</td><td>4.0</td><td>0</td><td>19</td></tr><tr><td>1968</td><td>Piers Courage</td><td>361</td><td>British</td><td>4.0</td><td>0</td><td>19</td></tr><tr><td>1968</td><td>Jo Bonnier</td><td>347</td><td>Swedish</td><td>3.0</td><td>0</td><td>21</td></tr><tr><td>1968</td><td>Dan Gurney</td><td>364</td><td>American</td><td>3.0</td><td>0</td><td>21</td></tr><tr><td>1968</td><td>Jack Brabham</td><td>356</td><td>Australian</td><td>2.0</td><td>0</td><td>23</td></tr><tr><td>1968</td><td>Silvio Moser</td><td>351</td><td>Swiss</td><td>2.0</td><td>0</td><td>23</td></tr><tr><td>1968</td><td>John Love</td><td>340</td><td>Rhodesian</td><td>0.0</td><td>0</td><td>25</td></tr><tr><td>1968</td><td>Basil van Rooyen</td><td>369</td><td>South African</td><td>0.0</td><td>0</td><td>25</td></tr><tr><td>1968</td><td>Dave Charlton</td><td>293</td><td>South African</td><td>0.0</td><td>0</td><td>25</td></tr><tr><td>1968</td><td>Sam Tingle</td><td>368</td><td>Rhodesian</td><td>0.0</td><td>0</td><td>25</td></tr><tr><td>1968</td><td>Jackie Pretorius</td><td>334</td><td>South African</td><td>0.0</td><td>0</td><td>25</td></tr><tr><td>1968</td><td>Mike Spence</td><td>374</td><td>British</td><td>0.0</td><td>0</td><td>25</td></tr><tr><td>1968</td><td>Andrea de Adamich</td><td>333</td><td>Italian</td><td>0.0</td><td>0</td><td>25</td></tr><tr><td>1968</td><td>Moisés Solana</td><td>382</td><td>Mexican</td><td>0.0</td><td>0</td><td>25</td></tr><tr><td>1968</td><td>Henri Pescarolo</td><td>280</td><td>French</td><td>0.0</td><td>0</td><td>25</td></tr><tr><td>1968</td><td>Derek Bell</td><td>321</td><td>British</td><td>0.0</td><td>0</td><td>25</td></tr><tr><td>1968</td><td>Frank Gardner</td><td>380</td><td>Australian</td><td>0.0</td><td>0</td><td>25</td></tr><tr><td>1968</td><td>Bobby Unser</td><td>381</td><td>American</td><td>0.0</td><td>0</td><td>25</td></tr><tr><td>1968</td><td>David Hobbs</td><td>322</td><td>British</td><td>0.0</td><td>0</td><td>25</td></tr><tr><td>1968</td><td>Mario Andretti</td><td>207</td><td>American</td><td>0.0</td><td>0</td><td>25</td></tr><tr><td>1968</td><td>Hubert Hahne</td><td>365</td><td>German</td><td>0.0</td><td>0</td><td>25</td></tr><tr><td>1968</td><td>Kurt Ahrens</td><td>379</td><td>German</td><td>0.0</td><td>0</td><td>25</td></tr><tr><td>1968</td><td>Jo Schlesser</td><td>377</td><td>French</td><td>0.0</td><td>0</td><td>25</td></tr><tr><td>1968</td><td>Robin Widdows</td><td>378</td><td>British</td><td>0.0</td><td>0</td><td>25</td></tr><tr><td>1968</td><td>Bill Brack</td><td>343</td><td>Canadian</td><td>0.0</td><td>0</td><td>25</td></tr><tr><td>1982</td><td>Keke Rosberg</td><td>177</td><td>Finnish</td><td>44.0</td><td>1</td><td>1</td></tr><tr><td>1982</td><td>John Watson</td><td>187</td><td>British</td><td>39.0</td><td>2</td><td>2</td></tr><tr><td>1982</td><td>Didier Pironi</td><td>202</td><td>French</td><td>39.0</td><td>2</td><td>2</td></tr><tr><td>1982</td><td>Alain Prost</td><td>117</td><td>French</td><td>34.0</td><td>2</td><td>4</td></tr><tr><td>1982</td><td>Niki Lauda</td><td>182</td><td>Austrian</td><td>30.0</td><td>2</td><td>5</td></tr><tr><td>1982</td><td>René Arnoux</td><td>163</td><td>French</td><td>28.0</td><td>2</td><td>6</td></tr><tr><td>1982</td><td>Michele Alboreto</td><td>105</td><td>Italian</td><td>25.0</td><td>1</td><td>7</td></tr><tr><td>1982</td><td>Patrick Tambay</td><td>175</td><td>French</td><td>25.0</td><td>1</td><td>7</td></tr><tr><td>1982</td><td>Elio de Angelis</td><td>173</td><td>Italian</td><td>23.0</td><td>1</td><td>9</td></tr><tr><td>1982</td><td>Riccardo Patrese</td><td>119</td><td>Italian</td><td>21.0</td><td>1</td><td>10</td></tr><tr><td>1982</td><td>Nelson Piquet</td><td>137</td><td>Brazilian</td><td>20.0</td><td>1</td><td>11</td></tr><tr><td>1982</td><td>Eddie Cheever</td><td>158</td><td>American</td><td>15.0</td><td>0</td><td>12</td></tr><tr><td>1982</td><td>Derek Daly</td><td>206</td><td>Irish</td><td>8.0</td><td>0</td><td>13</td></tr><tr><td>1982</td><td>Nigel Mansell</td><td>95</td><td>British</td><td>7.0</td><td>0</td><td>14</td></tr><tr><td>1982</td><td>Gilles Villeneuve</td><td>203</td><td>Canadian</td><td>6.0</td><td>0</td><td>15</td></tr><tr><td>1982</td><td>Carlos Reutemann</td><td>199</td><td>Argentine</td><td>6.0</td><td>0</td><td>15</td></tr><tr><td>1982</td><td>Andrea de Cesaris</td><td>110</td><td>Italian</td><td>5.0</td><td>0</td><td>17</td></tr><tr><td>1982</td><td>Jacques Laffite</td><td>172</td><td>French</td><td>5.0</td><td>0</td><td>17</td></tr><tr><td>1982</td><td>Mario Andretti</td><td>207</td><td>American</td><td>4.0</td><td>0</td><td>19</td></tr><tr><td>1982</td><td>Marc Surer</td><td>176</td><td>Swiss</td><td>3.0</td><td>0</td><td>20</td></tr><tr><td>1982</td><td>Jean-Pierre Jarier</td><td>197</td><td>French</td><td>3.0</td><td>0</td><td>20</td></tr><tr><td>1982</td><td>Mauro Baldi</td><td>184</td><td>Italian</td><td>2.0</td><td>0</td><td>22</td></tr><tr><td>1982</td><td>Eliseo Salazar</td><td>194</td><td>Chilean</td><td>2.0</td><td>0</td><td>22</td></tr><tr><td>1982</td><td>Bruno Giacomelli</td><td>152</td><td>Italian</td><td>2.0</td><td>0</td><td>22</td></tr><tr><td>1982</td><td>Manfred Winkelhock</td><td>181</td><td>German</td><td>2.0</td><td>0</td><td>22</td></tr><tr><td>1982</td><td>Chico Serra</td><td>192</td><td>Brazilian</td><td>1.0</td><td>0</td><td>26</td></tr><tr><td>1982</td><td>Tommy Byrne</td><td>210</td><td>Irish</td><td>0.0</td><td>0</td><td>27</td></tr><tr><td>1982</td><td>Slim Borgudd</td><td>201</td><td>Swedish</td><td>0.0</td><td>0</td><td>27</td></tr><tr><td>1982</td><td>Riccardo Paletti</td><td>204</td><td>Italian</td><td>0.0</td><td>0</td><td>27</td></tr><tr><td>1982</td><td>Brian Henton</td><td>205</td><td>British</td><td>0.0</td><td>0</td><td>27</td></tr><tr><td>1982</td><td>Derek Warwick</td><td>118</td><td>British</td><td>0.0</td><td>0</td><td>27</td></tr><tr><td>1982</td><td>Jochen Mass</td><td>200</td><td>German</td><td>0.0</td><td>0</td><td>27</td></tr><tr><td>1982</td><td>Raul Boesel</td><td>196</td><td>Brazilian</td><td>0.0</td><td>0</td><td>27</td></tr><tr><td>1982</td><td>Emilio de Villota</td><td>208</td><td>Spanish</td><td>0.0</td><td>0</td><td>27</td></tr><tr><td>1982</td><td>Teo Fabi</td><td>170</td><td>Italian</td><td>0.0</td><td>0</td><td>27</td></tr><tr><td>1982</td><td>Jan Lammers</td><td>136</td><td>Dutch</td><td>0.0</td><td>0</td><td>27</td></tr><tr><td>1982</td><td>Rupert Keegan</td><td>211</td><td>British</td><td>0.0</td><td>0</td><td>27</td></tr><tr><td>1982</td><td>Roberto Guerrero</td><td>195</td><td>Colombian</td><td>0.0</td><td>0</td><td>27</td></tr><tr><td>1982</td><td>Roberto Moreno</td><td>90</td><td>Brazilian</td><td>0.0</td><td>0</td><td>27</td></tr><tr><td>1982</td><td>Geoff Lees</td><td>209</td><td>British</td><td>0.0</td><td>0</td><td>27</td></tr><tr><td>1991</td><td>Ayrton Senna</td><td>102</td><td>Brazilian</td><td>96.0</td><td>7</td><td>1</td></tr><tr><td>1991</td><td>Nigel Mansell</td><td>95</td><td>British</td><td>72.0</td><td>5</td><td>2</td></tr><tr><td>1991</td><td>Riccardo Patrese</td><td>119</td><td>Italian</td><td>53.0</td><td>2</td><td>3</td></tr><tr><td>1991</td><td>Gerhard Berger</td><td>77</td><td>Austrian</td><td>43.0</td><td>1</td><td>4</td></tr><tr><td>1991</td><td>Alain Prost</td><td>117</td><td>French</td><td>34.0</td><td>0</td><td>5</td></tr><tr><td>1991</td><td>Nelson Piquet</td><td>137</td><td>Brazilian</td><td>26.5</td><td>1</td><td>6</td></tr><tr><td>1991</td><td>Jean Alesi</td><td>55</td><td>French</td><td>21.0</td><td>0</td><td>7</td></tr><tr><td>1991</td><td>Stefano Modena</td><td>131</td><td>Italian</td><td>10.0</td><td>0</td><td>8</td></tr><tr><td>1991</td><td>Andrea de Cesaris</td><td>110</td><td>Italian</td><td>9.0</td><td>0</td><td>9</td></tr><tr><td>1991</td><td>Roberto Moreno</td><td>90</td><td>Brazilian</td><td>8.0</td><td>0</td><td>10</td></tr><tr><td>1991</td><td>Pierluigi Martini</td><td>94</td><td>Italian</td><td>6.0</td><td>0</td><td>11</td></tr><tr><td>1991</td><td>Michael Schumacher</td><td>30</td><td>German</td><td>4.0</td><td>0</td><td>12</td></tr><tr><td>1991</td><td>Jyrki Järvilehto</td><td>109</td><td>Finnish</td><td>4.0</td><td>0</td><td>12</td></tr><tr><td>1991</td><td>Bertrand Gachot</td><td>92</td><td>Belgian</td><td>4.0</td><td>0</td><td>12</td></tr><tr><td>1991</td><td>Satoru Nakajima</td><td>138</td><td>Japanese</td><td>2.0</td><td>0</td><td>15</td></tr><tr><td>1991</td><td>Mika Häkkinen</td><td>57</td><td>Finnish</td><td>2.0</td><td>0</td><td>15</td></tr><tr><td>1991</td><td>Martin Brundle</td><td>84</td><td>British</td><td>2.0</td><td>0</td><td>15</td></tr><tr><td>1991</td><td>Ivan Capelli</td><td>122</td><td>Italian</td><td>1.0</td><td>0</td><td>18</td></tr><tr><td>1991</td><td>Éric Bernard</td><td>103</td><td>French</td><td>1.0</td><td>0</td><td>18</td></tr><tr><td>1991</td><td>Aguri Suzuki</td><td>88</td><td>Japanese</td><td>1.0</td><td>0</td><td>18</td></tr><tr><td>1991</td><td>Emanuele Pirro</td><td>139</td><td>Italian</td><td>1.0</td><td>0</td><td>18</td></tr><tr><td>1991</td><td>Mark Blundell</td><td>87</td><td>British</td><td>1.0</td><td>0</td><td>18</td></tr><tr><td>1991</td><td>Julian Bailey</td><td>141</td><td>British</td><td>1.0</td><td>0</td><td>18</td></tr><tr><td>1991</td><td>Gianni Morbidelli</td><td>81</td><td>Italian</td><td>0.5</td><td>0</td><td>24</td></tr><tr><td>1991</td><td>Pedro Chaves</td><td>142</td><td>Portuguese</td><td>0.0</td><td>0</td><td>25</td></tr><tr><td>1991</td><td>Alex Caffi</td><td>133</td><td>Italian</td><td>0.0</td><td>0</td><td>25</td></tr><tr><td>1991</td><td>Johnny Herbert</td><td>65</td><td>British</td><td>0.0</td><td>0</td><td>25</td></tr><tr><td>1991</td><td>Fabrizio Barbazza</td><td>120</td><td>Italian</td><td>0.0</td><td>0</td><td>25</td></tr><tr><td>1991</td><td>Olivier Grouillard</td><td>129</td><td>French</td><td>0.0</td><td>0</td><td>25</td></tr><tr><td>1991</td><td>Gabriele Tarquini</td><td>99</td><td>Italian</td><td>0.0</td><td>0</td><td>25</td></tr><tr><td>1991</td><td>Eric van de Poele</td><td>128</td><td>Belgian</td><td>0.0</td><td>0</td><td>25</td></tr><tr><td>1991</td><td>Michele Alboreto</td><td>105</td><td>Italian</td><td>0.0</td><td>0</td><td>25</td></tr><tr><td>1991</td><td>Thierry Boutsen</td><td>123</td><td>Belgian</td><td>0.0</td><td>0</td><td>25</td></tr><tr><td>1991</td><td>Nicola Larini</td><td>78</td><td>Italian</td><td>0.0</td><td>0</td><td>25</td></tr><tr><td>1991</td><td>Maurício Gugelmin</td><td>127</td><td>Brazilian</td><td>0.0</td><td>0</td><td>25</td></tr><tr><td>1991</td><td>Érik Comas</td><td>100</td><td>French</td><td>0.0</td><td>0</td><td>25</td></tr><tr><td>1991</td><td>Stefan Johansson</td><td>140</td><td>Swedish</td><td>0.0</td><td>0</td><td>25</td></tr><tr><td>1991</td><td>Karl Wendlinger</td><td>91</td><td>Austrian</td><td>0.0</td><td>0</td><td>25</td></tr><tr><td>1991</td><td>Naoki Hattori</td><td>144</td><td>Japanese</td><td>0.0</td><td>0</td><td>25</td></tr><tr><td>1991</td><td>Michael Bartels</td><td>143</td><td>German</td><td>0.0</td><td>0</td><td>25</td></tr><tr><td>1991</td><td>Alessandro Zanardi</td><td>70</td><td>Italian</td><td>0.0</td><td>0</td><td>25</td></tr><tr><td>1964</td><td>Graham Hill</td><td>289</td><td>British</td><td>41.0</td><td>2</td><td>1</td></tr><tr><td>1964</td><td>John Surtees</td><td>341</td><td>British</td><td>40.0</td><td>2</td><td>2</td></tr><tr><td>1964</td><td>Jim Clark</td><td>373</td><td>British</td><td>32.0</td><td>3</td><td>3</td></tr><tr><td>1964</td><td>Lorenzo Bandini</td><td>385</td><td>Italian</td><td>23.0</td><td>1</td><td>4</td></tr><tr><td>1964</td><td>Richie Ginther</td><td>386</td><td>American</td><td>23.0</td><td>0</td><td>5</td></tr><tr><td>1964</td><td>Dan Gurney</td><td>364</td><td>American</td><td>19.0</td><td>2</td><td>6</td></tr><tr><td>1964</td><td>Bruce McLaren</td><td>360</td><td>New Zealander</td><td>13.0</td><td>0</td><td>7</td></tr><tr><td>1964</td><td>Jack Brabham</td><td>356</td><td>Australian</td><td>11.0</td><td>0</td><td>8</td></tr><tr><td>1964</td><td>Peter Arundell</td><td>397</td><td>British</td><td>11.0</td><td>0</td><td>8</td></tr><tr><td>1964</td><td>Jo Siffert</td><td>346</td><td>Swiss</td><td>7.0</td><td>0</td><td>10</td></tr><tr><td>1964</td><td>Bob Anderson</td><td>383</td><td>British</td><td>5.0</td><td>0</td><td>11</td></tr><tr><td>1964</td><td>Innes Ireland</td><td>404</td><td>British</td><td>4.0</td><td>0</td><td>12</td></tr><tr><td>1964</td><td>Mike Spence</td><td>374</td><td>British</td><td>4.0</td><td>0</td><td>12</td></tr><tr><td>1964</td><td>Tony Maggs</td><td>408</td><td>South African</td><td>4.0</td><td>0</td><td>12</td></tr><tr><td>1964</td><td>Jo Bonnier</td><td>347</td><td>Swedish</td><td>3.0</td><td>0</td><td>15</td></tr><tr><td>1964</td><td>Maurice Trintignant</td><td>427</td><td>French</td><td>2.0</td><td>0</td><td>16</td></tr><tr><td>1964</td><td>Chris Amon</td><td>278</td><td>New Zealander</td><td>2.0</td><td>0</td><td>16</td></tr><tr><td>1964</td><td>Walt Hansgen</td><td>433</td><td>American</td><td>2.0</td><td>0</td><td>16</td></tr><tr><td>1964</td><td>Mike Hailwood</td><td>305</td><td>British</td><td>1.0</td><td>0</td><td>19</td></tr><tr><td>1964</td><td>Phil Hill</td><td>403</td><td>American</td><td>1.0</td><td>0</td><td>19</td></tr><tr><td>1964</td><td>Trevor Taylor</td><td>401</td><td>British</td><td>1.0</td><td>0</td><td>19</td></tr><tr><td>1964</td><td>Pedro Rodríguez</td><td>345</td><td>Mexican</td><td>1.0</td><td>0</td><td>19</td></tr><tr><td>1964</td><td>Mário de Araújo Cabral</td><td>432</td><td>Portuguese</td><td>0.0</td><td>0</td><td>23</td></tr><tr><td>1964</td><td>Ian Raby</td><td>420</td><td>British</td><td>0.0</td><td>0</td><td>23</td></tr><tr><td>1964</td><td>Gerhard Mitter</td><td>423</td><td>German</td><td>0.0</td><td>0</td><td>23</td></tr><tr><td>1964</td><td>Peter Revson</td><td>309</td><td>American</td><td>0.0</td><td>0</td><td>23</td></tr><tr><td>1964</td><td>Frank Gardner</td><td>380</td><td>Australian</td><td>0.0</td><td>0</td><td>23</td></tr><tr><td>1964</td><td>Edgar Barth</td><td>431</td><td>German</td><td>0.0</td><td>0</td><td>23</td></tr><tr><td>1964</td><td>Giacomo Russo</td><td>402</td><td>Italian</td><td>0.0</td><td>0</td><td>23</td></tr><tr><td>1964</td><td>Bernard Collomb</td><td>428</td><td>French</td><td>0.0</td><td>0</td><td>23</td></tr><tr><td>1964</td><td>Ludovico Scarfiotti</td><td>375</td><td>Italian</td><td>0.0</td><td>0</td><td>23</td></tr><tr><td>1964</td><td>John Love</td><td>340</td><td>Rhodesian</td><td>0.0</td><td>0</td><td>23</td></tr><tr><td>1964</td><td>John Taylor</td><td>399</td><td>British</td><td>0.0</td><td>0</td><td>23</td></tr><tr><td>1964</td><td>Ronnie Bucknum</td><td>405</td><td>American</td><td>0.0</td><td>0</td><td>23</td></tr><tr><td>1964</td><td>André Pilette</td><td>429</td><td>Belgian</td><td>0.0</td><td>0</td><td>23</td></tr><tr><td>1964</td><td>Richard Attwood</td><td>370</td><td>British</td><td>0.0</td><td>0</td><td>23</td></tr><tr><td>1964</td><td>Giancarlo Baghetti</td><td>394</td><td>Italian</td><td>0.0</td><td>0</td><td>23</td></tr><tr><td>1964</td><td>Moisés Solana</td><td>382</td><td>Mexican</td><td>0.0</td><td>0</td><td>23</td></tr><tr><td>1964</td><td>Jochen Rindt</td><td>358</td><td>Austrian</td><td>0.0</td><td>0</td><td>23</td></tr><tr><td>1964</td><td>Carel Godin de Beaufort</td><td>430</td><td>Dutch</td><td>0.0</td><td>0</td><td>23</td></tr><tr><td>1964</td><td>Hap Sharp</td><td>434</td><td>American</td><td>0.0</td><td>0</td><td>23</td></tr><tr><td>1967</td><td>Denny Hulme</td><td>304</td><td>New Zealander</td><td>51.0</td><td>2</td><td>1</td></tr><tr><td>1967</td><td>Jack Brabham</td><td>356</td><td>Australian</td><td>48.0</td><td>2</td><td>2</td></tr><tr><td>1967</td><td>Jim Clark</td><td>373</td><td>British</td><td>41.0</td><td>4</td><td>3</td></tr><tr><td>1967</td><td>John Surtees</td><td>341</td><td>British</td><td>20.0</td><td>1</td><td>4</td></tr><tr><td>1967</td><td>Chris Amon</td><td>278</td><td>New Zealander</td><td>20.0</td><td>0</td><td>5</td></tr><tr><td>1967</td><td>Pedro Rodríguez</td><td>345</td><td>Mexican</td><td>15.0</td><td>1</td><td>6</td></tr><tr><td>1967</td><td>Graham Hill</td><td>289</td><td>British</td><td>15.0</td><td>0</td><td>7</td></tr><tr><td>1967</td><td>Dan Gurney</td><td>364</td><td>American</td><td>13.0</td><td>1</td><td>8</td></tr><tr><td>1967</td><td>Jackie Stewart</td><td>328</td><td>British</td><td>10.0</td><td>0</td><td>9</td></tr><tr><td>1967</td><td>Mike Spence</td><td>374</td><td>British</td><td>9.0</td><td>0</td><td>10</td></tr><tr><td>1967</td><td>Jo Siffert</td><td>346</td><td>Swiss</td><td>6.0</td><td>0</td><td>11</td></tr><tr><td>1967</td><td>Jochen Rindt</td><td>358</td><td>Austrian</td><td>6.0</td><td>0</td><td>11</td></tr><tr><td>1967</td><td>John Love</td><td>340</td><td>Rhodesian</td><td>6.0</td><td>0</td><td>11</td></tr><tr><td>1967</td><td>Jo Bonnier</td><td>347</td><td>Swedish</td><td>3.0</td><td>0</td><td>14</td></tr><tr><td>1967</td><td>Bruce McLaren</td><td>360</td><td>New Zealander</td><td>3.0</td><td>0</td><td>14</td></tr><tr><td>1967</td><td>Chris Irwin</td><td>388</td><td>British</td><td>2.0</td><td>0</td><td>16</td></tr><tr><td>1967</td><td>Bob Anderson</td><td>383</td><td>British</td><td>2.0</td><td>0</td><td>16</td></tr><tr><td>1967</td><td>Mike Parkes</td><td>387</td><td>British</td><td>2.0</td><td>0</td><td>16</td></tr><tr><td>1967</td><td>Guy Ligier</td><td>389</td><td>French</td><td>1.0</td><td>0</td><td>19</td></tr><tr><td>1967</td><td>Jacky Ickx</td><td>235</td><td>Belgian</td><td>1.0</td><td>0</td><td>19</td></tr><tr><td>1967</td><td>Ludovico Scarfiotti</td><td>375</td><td>Italian</td><td>1.0</td><td>0</td><td>19</td></tr><tr><td>1967</td><td>Piers Courage</td><td>361</td><td>British</td><td>0.0</td><td>0</td><td>22</td></tr><tr><td>1967</td><td>Brian Hart</td><td>391</td><td>British</td><td>0.0</td><td>0</td><td>22</td></tr><tr><td>1967</td><td>Lorenzo Bandini</td><td>385</td><td>Italian</td><td>0.0</td><td>0</td><td>22</td></tr><tr><td>1967</td><td>Jean-Pierre Beltoise</td><td>306</td><td>French</td><td>0.0</td><td>0</td><td>22</td></tr><tr><td>1967</td><td>Richie Ginther</td><td>386</td><td>American</td><td>0.0</td><td>0</td><td>22</td></tr><tr><td>1967</td><td>Kurt Ahrens</td><td>379</td><td>German</td><td>0.0</td><td>0</td><td>22</td></tr><tr><td>1967</td><td>Silvio Moser</td><td>351</td><td>Swiss</td><td>0.0</td><td>0</td><td>22</td></tr><tr><td>1967</td><td>Jonathan Williams</td><td>395</td><td>British</td><td>0.0</td><td>0</td><td>22</td></tr><tr><td>1967</td><td>Hubert Hahne</td><td>365</td><td>German</td><td>0.0</td><td>0</td><td>22</td></tr><tr><td>1967</td><td>Alan Rees</td><td>390</td><td>British</td><td>0.0</td><td>0</td><td>22</td></tr><tr><td>1967</td><td>Jackie Oliver</td><td>262</td><td>British</td><td>0.0</td><td>0</td><td>22</td></tr><tr><td>1967</td><td>Johnny Servoz-Gavin</td><td>359</td><td>French</td><td>0.0</td><td>0</td><td>22</td></tr><tr><td>1967</td><td>Mike Fisher</td><td>392</td><td>American</td><td>0.0</td><td>0</td><td>22</td></tr><tr><td>1967</td><td>Moisés Solana</td><td>382</td><td>Mexican</td><td>0.0</td><td>0</td><td>22</td></tr><tr><td>1967</td><td>David Hobbs</td><td>322</td><td>British</td><td>0.0</td><td>0</td><td>22</td></tr><tr><td>1967</td><td>Jo Schlesser</td><td>377</td><td>French</td><td>0.0</td><td>0</td><td>22</td></tr><tr><td>1967</td><td>Dave Charlton</td><td>293</td><td>South African</td><td>0.0</td><td>0</td><td>22</td></tr><tr><td>1967</td><td>Giancarlo Baghetti</td><td>394</td><td>Italian</td><td>0.0</td><td>0</td><td>22</td></tr><tr><td>1967</td><td>Tom Jones</td><td>393</td><td>American</td><td>0.0</td><td>0</td><td>22</td></tr><tr><td>1967</td><td>Luki Botha</td><td>384</td><td>South African</td><td>0.0</td><td>0</td><td>22</td></tr><tr><td>1967</td><td>Richard Attwood</td><td>370</td><td>British</td><td>0.0</td><td>0</td><td>22</td></tr><tr><td>1967</td><td>Al Pease</td><td>371</td><td>Canadian</td><td>0.0</td><td>0</td><td>22</td></tr><tr><td>1967</td><td>Sam Tingle</td><td>368</td><td>Rhodesian</td><td>0.0</td><td>0</td><td>22</td></tr><tr><td>1967</td><td>Eppie Wietzes</td><td>326</td><td>Canadian</td><td>0.0</td><td>0</td><td>22</td></tr><tr><td>1981</td><td>Nelson Piquet</td><td>137</td><td>Brazilian</td><td>50.0</td><td>3</td><td>1</td></tr><tr><td>1981</td><td>Carlos Reutemann</td><td>199</td><td>Argentine</td><td>49.0</td><td>2</td><td>2</td></tr><tr><td>1981</td><td>Alan Jones</td><td>178</td><td>Australian</td><td>46.0</td><td>2</td><td>3</td></tr><tr><td>1981</td><td>Jacques Laffite</td><td>172</td><td>French</td><td>44.0</td><td>2</td><td>4</td></tr><tr><td>1981</td><td>Alain Prost</td><td>117</td><td>French</td><td>43.0</td><td>3</td><td>5</td></tr><tr><td>1981</td><td>John Watson</td><td>187</td><td>British</td><td>27.0</td><td>1</td><td>6</td></tr><tr><td>1981</td><td>Gilles Villeneuve</td><td>203</td><td>Canadian</td><td>25.0</td><td>2</td><td>7</td></tr><tr><td>1981</td><td>Elio de Angelis</td><td>173</td><td>Italian</td><td>14.0</td><td>0</td><td>8</td></tr><tr><td>1981</td><td>Hector Rebaque</td><td>212</td><td>Mexican</td><td>11.0</td><td>0</td><td>9</td></tr><tr><td>1981</td><td>René Arnoux</td><td>163</td><td>French</td><td>11.0</td><td>0</td><td>9</td></tr><tr><td>1981</td><td>Eddie Cheever</td><td>158</td><td>American</td><td>10.0</td><td>0</td><td>11</td></tr><tr><td>1981</td><td>Riccardo Patrese</td><td>119</td><td>Italian</td><td>10.0</td><td>0</td><td>11</td></tr><tr><td>1981</td><td>Didier Pironi</td><td>202</td><td>French</td><td>9.0</td><td>0</td><td>13</td></tr><tr><td>1981</td><td>Nigel Mansell</td><td>95</td><td>British</td><td>8.0</td><td>0</td><td>14</td></tr><tr><td>1981</td><td>Bruno Giacomelli</td><td>152</td><td>Italian</td><td>7.0</td><td>0</td><td>15</td></tr><tr><td>1981</td><td>Marc Surer</td><td>176</td><td>Swiss</td><td>4.0</td><td>0</td><td>16</td></tr><tr><td>1981</td><td>Mario Andretti</td><td>207</td><td>American</td><td>3.0</td><td>0</td><td>17</td></tr><tr><td>1981</td><td>Eliseo Salazar</td><td>194</td><td>Chilean</td><td>1.0</td><td>0</td><td>18</td></tr><tr><td>1981</td><td>Andrea de Cesaris</td><td>110</td><td>Italian</td><td>1.0</td><td>0</td><td>18</td></tr><tr><td>1981</td><td>Slim Borgudd</td><td>201</td><td>Swedish</td><td>1.0</td><td>0</td><td>18</td></tr><tr><td>1981</td><td>Patrick Tambay</td><td>175</td><td>French</td><td>1.0</td><td>0</td><td>18</td></tr><tr><td>1981</td><td>Keke Rosberg</td><td>177</td><td>Finnish</td><td>0.0</td><td>0</td><td>22</td></tr><tr><td>1981</td><td>Michele Alboreto</td><td>105</td><td>Italian</td><td>0.0</td><td>0</td><td>22</td></tr><tr><td>1981</td><td>Derek Warwick</td><td>118</td><td>British</td><td>0.0</td><td>0</td><td>22</td></tr><tr><td>1981</td><td>Siegfried Stohr</td><td>216</td><td>Italian</td><td>0.0</td><td>0</td><td>22</td></tr><tr><td>1981</td><td>Piercarlo Ghinzani</td><td>160</td><td>Italian</td><td>0.0</td><td>0</td><td>22</td></tr><tr><td>1981</td><td>Derek Daly</td><td>206</td><td>Irish</td><td>0.0</td><td>0</td><td>22</td></tr><tr><td>1981</td><td>Chico Serra</td><td>192</td><td>Brazilian</td><td>0.0</td><td>0</td><td>22</td></tr><tr><td>1981</td><td>Beppe Gabbiani</td><td>213</td><td>Italian</td><td>0.0</td><td>0</td><td>22</td></tr><tr><td>1981</td><td>Jean-Pierre Jabouille</td><td>219</td><td>French</td><td>0.0</td><td>0</td><td>22</td></tr><tr><td>1981</td><td>Brian Henton</td><td>205</td><td>British</td><td>0.0</td><td>0</td><td>22</td></tr><tr><td>1981</td><td>Ricardo Zunino</td><td>217</td><td>Argentine</td><td>0.0</td><td>0</td><td>22</td></tr><tr><td>1981</td><td>Jan Lammers</td><td>136</td><td>Dutch</td><td>0.0</td><td>0</td><td>22</td></tr><tr><td>1981</td><td>Jean-Pierre Jarier</td><td>197</td><td>French</td><td>0.0</td><td>0</td><td>22</td></tr><tr><td>1981</td><td>Ricardo Londoño</td><td>218</td><td>Colombian</td><td>0.0</td><td>0</td><td>22</td></tr><tr><td>1981</td><td>Miguel Ángel Guerra</td><td>215</td><td>Argentine</td><td>0.0</td><td>0</td><td>22</td></tr><tr><td>1981</td><td>Jacques Villeneuve Sr.</td><td>198</td><td>Canadian</td><td>0.0</td><td>0</td><td>22</td></tr><tr><td>1981</td><td>Kevin Cogan</td><td>214</td><td>American</td><td>0.0</td><td>0</td><td>22</td></tr><tr><td>1981</td><td>Giorgio Francia</td><td>220</td><td>Italian</td><td>0.0</td><td>0</td><td>22</td></tr><tr><td>1983</td><td>Nelson Piquet</td><td>137</td><td>Brazilian</td><td>59.0</td><td>3</td><td>1</td></tr><tr><td>1983</td><td>Alain Prost</td><td>117</td><td>French</td><td>57.0</td><td>4</td><td>2</td></tr><tr><td>1983</td><td>René Arnoux</td><td>163</td><td>French</td><td>49.0</td><td>3</td><td>3</td></tr><tr><td>1983</td><td>Patrick Tambay</td><td>175</td><td>French</td><td>40.0</td><td>1</td><td>4</td></tr><tr><td>1983</td><td>Keke Rosberg</td><td>177</td><td>Finnish</td><td>27.0</td><td>1</td><td>5</td></tr><tr><td>1983</td><td>John Watson</td><td>187</td><td>British</td><td>22.0</td><td>1</td><td>6</td></tr><tr><td>1983</td><td>Eddie Cheever</td><td>158</td><td>American</td><td>22.0</td><td>0</td><td>7</td></tr><tr><td>1983</td><td>Andrea de Cesaris</td><td>110</td><td>Italian</td><td>15.0</td><td>0</td><td>8</td></tr><tr><td>1983</td><td>Riccardo Patrese</td><td>119</td><td>Italian</td><td>13.0</td><td>1</td><td>9</td></tr><tr><td>1983</td><td>Niki Lauda</td><td>182</td><td>Austrian</td><td>12.0</td><td>0</td><td>10</td></tr><tr><td>1983</td><td>Jacques Laffite</td><td>172</td><td>French</td><td>11.0</td><td>0</td><td>11</td></tr><tr><td>1983</td><td>Michele Alboreto</td><td>105</td><td>Italian</td><td>10.0</td><td>1</td><td>12</td></tr><tr><td>1983</td><td>Nigel Mansell</td><td>95</td><td>British</td><td>10.0</td><td>0</td><td>13</td></tr><tr><td>1983</td><td>Derek Warwick</td><td>118</td><td>British</td><td>9.0</td><td>0</td><td>14</td></tr><tr><td>1983</td><td>Marc Surer</td><td>176</td><td>Swiss</td><td>4.0</td><td>0</td><td>15</td></tr><tr><td>1983</td><td>Mauro Baldi</td><td>184</td><td>Italian</td><td>3.0</td><td>0</td><td>16</td></tr><tr><td>1983</td><td>Danny Sullivan</td><td>193</td><td>American</td><td>2.0</td><td>0</td><td>17</td></tr><tr><td>1983</td><td>Elio de Angelis</td><td>173</td><td>Italian</td><td>2.0</td><td>0</td><td>17</td></tr><tr><td>1983</td><td>Bruno Giacomelli</td><td>152</td><td>Italian</td><td>1.0</td><td>0</td><td>19</td></tr><tr><td>1983</td><td>Johnny Cecotto</td><td>188</td><td>Venezuelan</td><td>1.0</td><td>0</td><td>19</td></tr><tr><td>1983</td><td>Alan Jones</td><td>178</td><td>Australian</td><td>0.0</td><td>0</td><td>21</td></tr><tr><td>1983</td><td>Eliseo Salazar</td><td>194</td><td>Chilean</td><td>0.0</td><td>0</td><td>21</td></tr><tr><td>1983</td><td>Raul Boesel</td><td>196</td><td>Brazilian</td><td>0.0</td><td>0</td><td>21</td></tr><tr><td>1983</td><td>Manfred Winkelhock</td><td>181</td><td>German</td><td>0.0</td><td>0</td><td>21</td></tr><tr><td>1983</td><td>Piercarlo Ghinzani</td><td>160</td><td>Italian</td><td>0.0</td><td>0</td><td>21</td></tr><tr><td>1983</td><td>Jean-Pierre Jarier</td><td>197</td><td>French</td><td>0.0</td><td>0</td><td>21</td></tr><tr><td>1983</td><td>Roberto Guerrero</td><td>195</td><td>Colombian</td><td>0.0</td><td>0</td><td>21</td></tr><tr><td>1983</td><td>Corrado Fabi</td><td>190</td><td>Italian</td><td>0.0</td><td>0</td><td>21</td></tr><tr><td>1983</td><td>Jacques Villeneuve Sr.</td><td>198</td><td>Canadian</td><td>0.0</td><td>0</td><td>21</td></tr><tr><td>1983</td><td>Jean-Louis Schlesser</td><td>168</td><td>French</td><td>0.0</td><td>0</td><td>21</td></tr><tr><td>1983</td><td>Kenny Acheson</td><td>186</td><td>British</td><td>0.0</td><td>0</td><td>21</td></tr><tr><td>1983</td><td>Stefan Johansson</td><td>140</td><td>Swedish</td><td>0.0</td><td>0</td><td>21</td></tr><tr><td>1983</td><td>Thierry Boutsen</td><td>123</td><td>Belgian</td><td>0.0</td><td>0</td><td>21</td></tr><tr><td>1983</td><td>Jonathan Palmer</td><td>156</td><td>British</td><td>0.0</td><td>0</td><td>21</td></tr><tr><td>1983</td><td>Chico Serra</td><td>192</td><td>Brazilian</td><td>0.0</td><td>0</td><td>21</td></tr><tr><td>1990</td><td>Ayrton Senna</td><td>102</td><td>Brazilian</td><td>78.0</td><td>6</td><td>1</td></tr><tr><td>1990</td><td>Alain Prost</td><td>117</td><td>French</td><td>73.0</td><td>5</td><td>2</td></tr><tr><td>1990</td><td>Nelson Piquet</td><td>137</td><td>Brazilian</td><td>44.0</td><td>2</td><td>3</td></tr><tr><td>1990</td><td>Gerhard Berger</td><td>77</td><td>Austrian</td><td>43.0</td><td>0</td><td>4</td></tr><tr><td>1990</td><td>Nigel Mansell</td><td>95</td><td>British</td><td>37.0</td><td>1</td><td>5</td></tr><tr><td>1990</td><td>Thierry Boutsen</td><td>123</td><td>Belgian</td><td>34.0</td><td>1</td><td>6</td></tr><tr><td>1990</td><td>Riccardo Patrese</td><td>119</td><td>Italian</td><td>23.0</td><td>1</td><td>7</td></tr><tr><td>1990</td><td>Alessandro Nannini</td><td>145</td><td>Italian</td><td>21.0</td><td>0</td><td>8</td></tr><tr><td>1990</td><td>Jean Alesi</td><td>55</td><td>French</td><td>13.0</td><td>0</td><td>9</td></tr><tr><td>1990</td><td>Roberto Moreno</td><td>90</td><td>Brazilian</td><td>6.0</td><td>0</td><td>10</td></tr><tr><td>1990</td><td>Aguri Suzuki</td><td>88</td><td>Japanese</td><td>6.0</td><td>0</td><td>10</td></tr><tr><td>1990</td><td>Ivan Capelli</td><td>122</td><td>Italian</td><td>6.0</td><td>0</td><td>10</td></tr><tr><td>1990</td><td>Éric Bernard</td><td>103</td><td>French</td><td>5.0</td><td>0</td><td>13</td></tr><tr><td>1990</td><td>Satoru Nakajima</td><td>138</td><td>Japanese</td><td>3.0</td><td>0</td><td>14</td></tr><tr><td>1990</td><td>Derek Warwick</td><td>118</td><td>British</td><td>3.0</td><td>0</td><td>14</td></tr><tr><td>1990</td><td>Alex Caffi</td><td>133</td><td>Italian</td><td>2.0</td><td>0</td><td>16</td></tr><tr><td>1990</td><td>Stefano Modena</td><td>131</td><td>Italian</td><td>2.0</td><td>0</td><td>16</td></tr><tr><td>1990</td><td>Maurício Gugelmin</td><td>127</td><td>Brazilian</td><td>1.0</td><td>0</td><td>18</td></tr><tr><td>1990</td><td>Martin Donnelly</td><td>151</td><td>British</td><td>0.0</td><td>0</td><td>19</td></tr><tr><td>1990</td><td>Bruno Giacomelli</td><td>152</td><td>Italian</td><td>0.0</td><td>0</td><td>19</td></tr><tr><td>1990</td><td>Yannick Dalmas</td><td>114</td><td>French</td><td>0.0</td><td>0</td><td>19</td></tr><tr><td>1990</td><td>Gregor Foitek</td><td>148</td><td>Swiss</td><td>0.0</td><td>0</td><td>19</td></tr><tr><td>1990</td><td>Nicola Larini</td><td>78</td><td>Italian</td><td>0.0</td><td>0</td><td>19</td></tr><tr><td>1990</td><td>David Brabham</td><td>101</td><td>Australian</td><td>0.0</td><td>0</td><td>19</td></tr><tr><td>1990</td><td>Claudio Langes</td><td>149</td><td>Italian</td><td>0.0</td><td>0</td><td>19</td></tr><tr><td>1990</td><td>Gianni Morbidelli</td><td>81</td><td>Italian</td><td>0.0</td><td>0</td><td>19</td></tr><tr><td>1990</td><td>Stefan Johansson</td><td>140</td><td>Swedish</td><td>0.0</td><td>0</td><td>19</td></tr><tr><td>1990</td><td>Gabriele Tarquini</td><td>99</td><td>Italian</td><td>0.0</td><td>0</td><td>19</td></tr><tr><td>1990</td><td>Jyrki Järvilehto</td><td>109</td><td>Finnish</td><td>0.0</td><td>0</td><td>19</td></tr><tr><td>1990</td><td>Philippe Alliot</td><td>112</td><td>French</td><td>0.0</td><td>0</td><td>19</td></tr><tr><td>1990</td><td>Bernd Schneider</td><td>146</td><td>German</td><td>0.0</td><td>0</td><td>19</td></tr><tr><td>1990</td><td>Michele Alboreto</td><td>105</td><td>Italian</td><td>0.0</td><td>0</td><td>19</td></tr><tr><td>1990</td><td>Paolo Barilla</td><td>147</td><td>Italian</td><td>0.0</td><td>0</td><td>19</td></tr><tr><td>1990</td><td>Emanuele Pirro</td><td>139</td><td>Italian</td><td>0.0</td><td>0</td><td>19</td></tr><tr><td>1990</td><td>Olivier Grouillard</td><td>129</td><td>French</td><td>0.0</td><td>0</td><td>19</td></tr><tr><td>1990</td><td>Pierluigi Martini</td><td>94</td><td>Italian</td><td>0.0</td><td>0</td><td>19</td></tr><tr><td>1990</td><td>Bertrand Gachot</td><td>92</td><td>Belgian</td><td>0.0</td><td>0</td><td>19</td></tr><tr><td>1990</td><td>Andrea de Cesaris</td><td>110</td><td>Italian</td><td>0.0</td><td>0</td><td>19</td></tr><tr><td>1990</td><td>Gary Brabham</td><td>150</td><td>Australian</td><td>0.0</td><td>0</td><td>19</td></tr><tr><td>1990</td><td>Johnny Herbert</td><td>65</td><td>British</td><td>0.0</td><td>0</td><td>19</td></tr><tr><td>1979</td><td>Jody Scheckter</td><td>222</td><td>South African</td><td>60.0</td><td>3</td><td>1</td></tr><tr><td>1979</td><td>Gilles Villeneuve</td><td>203</td><td>Canadian</td><td>53.0</td><td>3</td><td>2</td></tr><tr><td>1979</td><td>Alan Jones</td><td>178</td><td>Australian</td><td>43.0</td><td>4</td><td>3</td></tr><tr><td>1979</td><td>Jacques Laffite</td><td>172</td><td>French</td><td>36.0</td><td>2</td><td>4</td></tr><tr><td>1979</td><td>Clay Regazzoni</td><td>223</td><td>Swiss</td><td>32.0</td><td>1</td><td>5</td></tr><tr><td>1979</td><td>Carlos Reutemann</td><td>199</td><td>Argentine</td><td>25.0</td><td>0</td><td>6</td></tr><tr><td>1979</td><td>Patrick Depailler</td><td>221</td><td>French</td><td>22.0</td><td>1</td><td>7</td></tr><tr><td>1979</td><td>René Arnoux</td><td>163</td><td>French</td><td>17.0</td><td>0</td><td>8</td></tr><tr><td>1979</td><td>John Watson</td><td>187</td><td>British</td><td>15.0</td><td>0</td><td>9</td></tr><tr><td>1979</td><td>Didier Pironi</td><td>202</td><td>French</td><td>14.0</td><td>0</td><td>10</td></tr><tr><td>1979</td><td>Jean-Pierre Jarier</td><td>197</td><td>French</td><td>14.0</td><td>0</td><td>10</td></tr><tr><td>1979</td><td>Mario Andretti</td><td>207</td><td>American</td><td>14.0</td><td>0</td><td>10</td></tr><tr><td>1979</td><td>Jean-Pierre Jabouille</td><td>219</td><td>French</td><td>9.0</td><td>1</td><td>13</td></tr><tr><td>1979</td><td>Niki Lauda</td><td>182</td><td>Austrian</td><td>4.0</td><td>0</td><td>14</td></tr><tr><td>1979</td><td>Jochen Mass</td><td>200</td><td>German</td><td>3.0</td><td>0</td><td>15</td></tr><tr><td>1979</td><td>Jacky Ickx</td><td>235</td><td>Belgian</td><td>3.0</td><td>0</td><td>15</td></tr><tr><td>1979</td><td>Nelson Piquet</td><td>137</td><td>Brazilian</td><td>3.0</td><td>0</td><td>15</td></tr><tr><td>1979</td><td>Elio de Angelis</td><td>173</td><td>Italian</td><td>3.0</td><td>0</td><td>15</td></tr><tr><td>1979</td><td>Hans-Joachim Stuck</td><td>233</td><td>German</td><td>2.0</td><td>0</td><td>19</td></tr><tr><td>1979</td><td>Riccardo Patrese</td><td>119</td><td>Italian</td><td>2.0</td><td>0</td><td>19</td></tr><tr><td>1979</td><td>Emerson Fittipaldi</td><td>224</td><td>Brazilian</td><td>1.0</td><td>0</td><td>21</td></tr><tr><td>1979</td><td>Arturo Merzario</td><td>232</td><td>Italian</td><td>0.0</td><td>0</td><td>22</td></tr><tr><td>1979</td><td>Vittorio Brambilla</td><td>230</td><td>Italian</td><td>0.0</td><td>0</td><td>22</td></tr><tr><td>1979</td><td>Ricardo Zunino</td><td>217</td><td>Argentine</td><td>0.0</td><td>0</td><td>22</td></tr><tr><td>1979</td><td>Bruno Giacomelli</td><td>152</td><td>Italian</td><td>0.0</td><td>0</td><td>22</td></tr><tr><td>1979</td><td>Alex Ribeiro</td><td>237</td><td>Brazilian</td><td>0.0</td><td>0</td><td>22</td></tr><tr><td>1979</td><td>Hector Rebaque</td><td>212</td><td>Mexican</td><td>0.0</td><td>0</td><td>22</td></tr><tr><td>1979</td><td>Keke Rosberg</td><td>177</td><td>Finnish</td><td>0.0</td><td>0</td><td>22</td></tr><tr><td>1979</td><td>Derek Daly</td><td>206</td><td>Irish</td><td>0.0</td><td>0</td><td>22</td></tr><tr><td>1979</td><td>Patrick Tambay</td><td>175</td><td>French</td><td>0.0</td><td>0</td><td>22</td></tr><tr><td>1979</td><td>Marc Surer</td><td>176</td><td>Swiss</td><td>0.0</td><td>0</td><td>22</td></tr><tr><td>1979</td><td>Jan Lammers</td><td>136</td><td>Dutch</td><td>0.0</td><td>0</td><td>22</td></tr><tr><td>1979</td><td>Gianfranco Brancatelli</td><td>234</td><td>Italian</td><td>0.0</td><td>0</td><td>22</td></tr><tr><td>1979</td><td>James Hunt</td><td>231</td><td>British</td><td>0.0</td><td>0</td><td>22</td></tr><tr><td>1979</td><td>Patrick Gaillard</td><td>236</td><td>French</td><td>0.0</td><td>0</td><td>22</td></tr><tr><td>1979</td><td>Geoff Lees</td><td>209</td><td>British</td><td>0.0</td><td>0</td><td>22</td></tr><tr><td>1984</td><td>Niki Lauda</td><td>182</td><td>Austrian</td><td>72.0</td><td>5</td><td>1</td></tr><tr><td>1984</td><td>Alain Prost</td><td>117</td><td>French</td><td>71.5</td><td>7</td><td>2</td></tr><tr><td>1984</td><td>Elio de Angelis</td><td>173</td><td>Italian</td><td>34.0</td><td>0</td><td>3</td></tr><tr><td>1984</td><td>Michele Alboreto</td><td>105</td><td>Italian</td><td>30.5</td><td>1</td><td>4</td></tr><tr><td>1984</td><td>Nelson Piquet</td><td>137</td><td>Brazilian</td><td>29.0</td><td>2</td><td>5</td></tr><tr><td>1984</td><td>René Arnoux</td><td>163</td><td>French</td><td>27.0</td><td>0</td><td>6</td></tr><tr><td>1984</td><td>Derek Warwick</td><td>118</td><td>British</td><td>23.0</td><td>0</td><td>7</td></tr><tr><td>1984</td><td>Keke Rosberg</td><td>177</td><td>Finnish</td><td>20.5</td><td>1</td><td>8</td></tr><tr><td>1984</td><td>Nigel Mansell</td><td>95</td><td>British</td><td>13.0</td><td>0</td><td>9</td></tr><tr><td>1984</td><td>Ayrton Senna</td><td>102</td><td>Brazilian</td><td>13.0</td><td>0</td><td>9</td></tr><tr><td>1984</td><td>Patrick Tambay</td><td>175</td><td>French</td><td>11.0</td><td>0</td><td>11</td></tr><tr><td>1984</td><td>Teo Fabi</td><td>170</td><td>Italian</td><td>9.0</td><td>0</td><td>12</td></tr><tr><td>1984</td><td>Riccardo Patrese</td><td>119</td><td>Italian</td><td>8.0</td><td>0</td><td>13</td></tr><tr><td>1984</td><td>Thierry Boutsen</td><td>123</td><td>Belgian</td><td>5.0</td><td>0</td><td>14</td></tr><tr><td>1984</td><td>Jacques Laffite</td><td>172</td><td>French</td><td>5.0</td><td>0</td><td>14</td></tr><tr><td>1984</td><td>Eddie Cheever</td><td>158</td><td>American</td><td>3.0</td><td>0</td><td>16</td></tr><tr><td>1984</td><td>Andrea de Cesaris</td><td>110</td><td>Italian</td><td>3.0</td><td>0</td><td>16</td></tr><tr><td>1984</td><td>Stefan Johansson</td><td>140</td><td>Swedish</td><td>3.0</td><td>0</td><td>16</td></tr><tr><td>1984</td><td>Piercarlo Ghinzani</td><td>160</td><td>Italian</td><td>2.0</td><td>0</td><td>19</td></tr><tr><td>1984</td><td>Marc Surer</td><td>176</td><td>Swiss</td><td>1.0</td><td>0</td><td>20</td></tr><tr><td>1984</td><td>François Hesnault</td><td>183</td><td>French</td><td>0.0</td><td>0</td><td>21</td></tr><tr><td>1984</td><td>Stefan Bellof</td><td>185</td><td>German</td><td>0.0</td><td>0</td><td>21</td></tr><tr><td>1984</td><td>Manfred Winkelhock</td><td>181</td><td>German</td><td>0.0</td><td>0</td><td>21</td></tr><tr><td>1984</td><td>Philippe Alliot</td><td>112</td><td>French</td><td>0.0</td><td>0</td><td>21</td></tr><tr><td>1984</td><td>Jonathan Palmer</td><td>156</td><td>British</td><td>0.0</td><td>0</td><td>21</td></tr><tr><td>1984</td><td>Mauro Baldi</td><td>184</td><td>Italian</td><td>0.0</td><td>0</td><td>21</td></tr><tr><td>1984</td><td>Johnny Cecotto</td><td>188</td><td>Venezuelan</td><td>0.0</td><td>0</td><td>21</td></tr><tr><td>1984</td><td>Corrado Fabi</td><td>190</td><td>Italian</td><td>0.0</td><td>0</td><td>21</td></tr><tr><td>1984</td><td>Martin Brundle</td><td>84</td><td>British</td><td>0.0</td><td>0</td><td>21</td></tr><tr><td>1984</td><td>Gerhard Berger</td><td>77</td><td>Austrian</td><td>0.0</td><td>0</td><td>21</td></tr><tr><td>1984</td><td>Jo Gartner</td><td>189</td><td>Austrian</td><td>0.0</td><td>0</td><td>21</td></tr><tr><td>1984</td><td>Huub Rothengatter</td><td>179</td><td>Dutch</td><td>0.0</td><td>0</td><td>21</td></tr><tr><td>1984</td><td>Mike Thackwell</td><td>191</td><td>New Zealander</td><td>0.0</td><td>0</td><td>21</td></tr><tr><td>1984</td><td>Philippe Streiff</td><td>166</td><td>French</td><td>0.0</td><td>0</td><td>21</td></tr><tr><td>1984</td><td>Pierluigi Martini</td><td>94</td><td>Italian</td><td>0.0</td><td>0</td><td>21</td></tr><tr><td>1992</td><td>Nigel Mansell</td><td>95</td><td>British</td><td>108.0</td><td>9</td><td>1</td></tr><tr><td>1992</td><td>Riccardo Patrese</td><td>119</td><td>Italian</td><td>56.0</td><td>1</td><td>2</td></tr><tr><td>1992</td><td>Michael Schumacher</td><td>30</td><td>German</td><td>53.0</td><td>1</td><td>3</td></tr><tr><td>1992</td><td>Ayrton Senna</td><td>102</td><td>Brazilian</td><td>50.0</td><td>3</td><td>4</td></tr><tr><td>1992</td><td>Gerhard Berger</td><td>77</td><td>Austrian</td><td>49.0</td><td>2</td><td>5</td></tr><tr><td>1992</td><td>Martin Brundle</td><td>84</td><td>British</td><td>38.0</td><td>0</td><td>6</td></tr><tr><td>1992</td><td>Jean Alesi</td><td>55</td><td>French</td><td>18.0</td><td>0</td><td>7</td></tr><tr><td>1992</td><td>Mika Häkkinen</td><td>57</td><td>Finnish</td><td>11.0</td><td>0</td><td>8</td></tr><tr><td>1992</td><td>Andrea de Cesaris</td><td>110</td><td>Italian</td><td>8.0</td><td>0</td><td>9</td></tr><tr><td>1992</td><td>Michele Alboreto</td><td>105</td><td>Italian</td><td>6.0</td><td>0</td><td>10</td></tr><tr><td>1992</td><td>Érik Comas</td><td>100</td><td>French</td><td>4.0</td><td>0</td><td>11</td></tr><tr><td>1992</td><td>Karl Wendlinger</td><td>91</td><td>Austrian</td><td>3.0</td><td>0</td><td>12</td></tr><tr><td>1992</td><td>Ivan Capelli</td><td>122</td><td>Italian</td><td>3.0</td><td>0</td><td>12</td></tr><tr><td>1992</td><td>Thierry Boutsen</td><td>123</td><td>Belgian</td><td>2.0</td><td>0</td><td>14</td></tr><tr><td>1992</td><td>Pierluigi Martini</td><td>94</td><td>Italian</td><td>2.0</td><td>0</td><td>14</td></tr><tr><td>1992</td><td>Johnny Herbert</td><td>65</td><td>British</td><td>2.0</td><td>0</td><td>14</td></tr><tr><td>1992</td><td>Bertrand Gachot</td><td>92</td><td>Belgian</td><td>1.0</td><td>0</td><td>17</td></tr><tr><td>1992</td><td>Christian Fittipaldi</td><td>104</td><td>Brazilian</td><td>1.0</td><td>0</td><td>17</td></tr><tr><td>1992</td><td>Stefano Modena</td><td>131</td><td>Italian</td><td>1.0</td><td>0</td><td>17</td></tr><tr><td>1992</td><td>Gabriele Tarquini</td><td>99</td><td>Italian</td><td>0.0</td><td>0</td><td>20</td></tr><tr><td>1992</td><td>Jyrki Järvilehto</td><td>109</td><td>Finnish</td><td>0.0</td><td>0</td><td>20</td></tr><tr><td>1992</td><td>Paul Belmondo</td><td>108</td><td>French</td><td>0.0</td><td>0</td><td>20</td></tr><tr><td>1992</td><td>Roberto Moreno</td><td>90</td><td>Brazilian</td><td>0.0</td><td>0</td><td>20</td></tr><tr><td>1992</td><td>Damon Hill</td><td>71</td><td>British</td><td>0.0</td><td>0</td><td>20</td></tr><tr><td>1992</td><td>Gianni Morbidelli</td><td>81</td><td>Italian</td><td>0.0</td><td>0</td><td>20</td></tr><tr><td>1992</td><td>Eric van de Poele</td><td>128</td><td>Belgian</td><td>0.0</td><td>0</td><td>20</td></tr><tr><td>1992</td><td>Aguri Suzuki</td><td>88</td><td>Japanese</td><td>0.0</td><td>0</td><td>20</td></tr><tr><td>1992</td><td>Ukyo Katayama</td><td>79</td><td>Japanese</td><td>0.0</td><td>0</td><td>20</td></tr><tr><td>1992</td><td>Maurício Gugelmin</td><td>127</td><td>Brazilian</td><td>0.0</td><td>0</td><td>20</td></tr><tr><td>1992</td><td>Andrea Chiesa</td><td>130</td><td>Swiss</td><td>0.0</td><td>0</td><td>20</td></tr><tr><td>1992</td><td>Perry McCarthy</td><td>135</td><td>British</td><td>0.0</td><td>0</td><td>20</td></tr><tr><td>1992</td><td>Alessandro Zanardi</td><td>70</td><td>Italian</td><td>0.0</td><td>0</td><td>20</td></tr><tr><td>1992</td><td>Olivier Grouillard</td><td>129</td><td>French</td><td>0.0</td><td>0</td><td>20</td></tr><tr><td>1992</td><td>Giovanna Amati</td><td>132</td><td>Italian</td><td>0.0</td><td>0</td><td>20</td></tr><tr><td>1992</td><td>Emanuele Naspetti</td><td>125</td><td>Italian</td><td>0.0</td><td>0</td><td>20</td></tr><tr><td>1992</td><td>Jan Lammers</td><td>136</td><td>Dutch</td><td>0.0</td><td>0</td><td>20</td></tr><tr><td>1992</td><td>Nicola Larini</td><td>78</td><td>Italian</td><td>0.0</td><td>0</td><td>20</td></tr><tr><td>1995</td><td>Michael Schumacher</td><td>30</td><td>German</td><td>102.0</td><td>9</td><td>1</td></tr><tr><td>1995</td><td>Damon Hill</td><td>71</td><td>British</td><td>69.0</td><td>4</td><td>2</td></tr><tr><td>1995</td><td>David Coulthard</td><td>14</td><td>British</td><td>49.0</td><td>1</td><td>3</td></tr><tr><td>1995</td><td>Johnny Herbert</td><td>65</td><td>British</td><td>45.0</td><td>2</td><td>4</td></tr><tr><td>1995</td><td>Jean Alesi</td><td>55</td><td>French</td><td>42.0</td><td>1</td><td>5</td></tr><tr><td>1995</td><td>Gerhard Berger</td><td>77</td><td>Austrian</td><td>31.0</td><td>0</td><td>6</td></tr><tr><td>1995</td><td>Mika Häkkinen</td><td>57</td><td>Finnish</td><td>17.0</td><td>0</td><td>7</td></tr><tr><td>1995</td><td>Olivier Panis</td><td>44</td><td>French</td><td>16.0</td><td>0</td><td>8</td></tr><tr><td>1995</td><td>Heinz-Harald Frentzen</td><td>49</td><td>German</td><td>15.0</td><td>0</td><td>9</td></tr><tr><td>1995</td><td>Mark Blundell</td><td>87</td><td>British</td><td>13.0</td><td>0</td><td>10</td></tr><tr><td>1995</td><td>Rubens Barrichello</td><td>22</td><td>Brazilian</td><td>11.0</td><td>0</td><td>11</td></tr><tr><td>1995</td><td>Eddie Irvine</td><td>56</td><td>British</td><td>10.0</td><td>0</td><td>12</td></tr><tr><td>1995</td><td>Martin Brundle</td><td>84</td><td>British</td><td>7.0</td><td>0</td><td>13</td></tr><tr><td>1995</td><td>Gianni Morbidelli</td><td>81</td><td>Italian</td><td>5.0</td><td>0</td><td>14</td></tr><tr><td>1995</td><td>Mika Salo</td><td>63</td><td>Finnish</td><td>5.0</td><td>0</td><td>14</td></tr><tr><td>1995</td><td>Jean-Christophe Boullion</td><td>96</td><td>French</td><td>3.0</td><td>0</td><td>16</td></tr><tr><td>1995</td><td>Aguri Suzuki</td><td>88</td><td>Japanese</td><td>1.0</td><td>0</td><td>17</td></tr><tr><td>1995</td><td>Pedro Lamy</td><td>83</td><td>Portuguese</td><td>1.0</td><td>0</td><td>17</td></tr><tr><td>1995</td><td>Jos Verstappen</td><td>50</td><td>Dutch</td><td>0.0</td><td>0</td><td>19</td></tr><tr><td>1995</td><td>Pierluigi Martini</td><td>94</td><td>Italian</td><td>0.0</td><td>0</td><td>19</td></tr><tr><td>1995</td><td>Taki Inoue</td><td>89</td><td>Japanese</td><td>0.0</td><td>0</td><td>19</td></tr><tr><td>1995</td><td>Domenico Schiattarella</td><td>93</td><td>Italian</td><td>0.0</td><td>0</td><td>19</td></tr><tr><td>1995</td><td>Andrea Montermini</td><td>85</td><td>Italian</td><td>0.0</td><td>0</td><td>19</td></tr><tr><td>1995</td><td>Roberto Moreno</td><td>90</td><td>Brazilian</td><td>0.0</td><td>0</td><td>19</td></tr><tr><td>1995</td><td>Ukyo Katayama</td><td>79</td><td>Japanese</td><td>0.0</td><td>0</td><td>19</td></tr><tr><td>1995</td><td>Nigel Mansell</td><td>95</td><td>British</td><td>0.0</td><td>0</td><td>19</td></tr><tr><td>1995</td><td>Pedro Diniz</td><td>64</td><td>Brazilian</td><td>0.0</td><td>0</td><td>19</td></tr><tr><td>1995</td><td>Bertrand Gachot</td><td>92</td><td>Belgian</td><td>0.0</td><td>0</td><td>19</td></tr><tr><td>1995</td><td>Luca Badoer</td><td>69</td><td>Italian</td><td>0.0</td><td>0</td><td>19</td></tr><tr><td>1995</td><td>Karl Wendlinger</td><td>91</td><td>Austrian</td><td>0.0</td><td>0</td><td>19</td></tr><tr><td>1995</td><td>Jean-Denis Délétraz</td><td>98</td><td>Swiss</td><td>0.0</td><td>0</td><td>19</td></tr><tr><td>1995</td><td>Massimiliano Papis</td><td>97</td><td>Italian</td><td>0.0</td><td>0</td><td>19</td></tr><tr><td>1995</td><td>Giovanni Lavaggi</td><td>86</td><td>Italian</td><td>0.0</td><td>0</td><td>19</td></tr><tr><td>1995</td><td>Gabriele Tarquini</td><td>99</td><td>Italian</td><td>0.0</td><td>0</td><td>19</td></tr><tr><td>1995</td><td>Jan Magnussen</td><td>76</td><td>Danish</td><td>0.0</td><td>0</td><td>19</td></tr><tr><td>1988</td><td>Alain Prost</td><td>117</td><td>French</td><td>105.0</td><td>7</td><td>1</td></tr><tr><td>1988</td><td>Ayrton Senna</td><td>102</td><td>Brazilian</td><td>94.0</td><td>8</td><td>2</td></tr><tr><td>1988</td><td>Gerhard Berger</td><td>77</td><td>Austrian</td><td>41.0</td><td>1</td><td>3</td></tr><tr><td>1988</td><td>Thierry Boutsen</td><td>123</td><td>Belgian</td><td>27.0</td><td>0</td><td>4</td></tr><tr><td>1988</td><td>Michele Alboreto</td><td>105</td><td>Italian</td><td>24.0</td><td>0</td><td>5</td></tr><tr><td>1988</td><td>Nelson Piquet</td><td>137</td><td>Brazilian</td><td>22.0</td><td>0</td><td>6</td></tr><tr><td>1988</td><td>Ivan Capelli</td><td>122</td><td>Italian</td><td>17.0</td><td>0</td><td>7</td></tr><tr><td>1988</td><td>Derek Warwick</td><td>118</td><td>British</td><td>17.0</td><td>0</td><td>7</td></tr><tr><td>1988</td><td>Nigel Mansell</td><td>95</td><td>British</td><td>12.0</td><td>0</td><td>9</td></tr><tr><td>1988</td><td>Alessandro Nannini</td><td>145</td><td>Italian</td><td>12.0</td><td>0</td><td>9</td></tr><tr><td>1988</td><td>Riccardo Patrese</td><td>119</td><td>Italian</td><td>8.0</td><td>0</td><td>11</td></tr><tr><td>1988</td><td>Eddie Cheever</td><td>158</td><td>American</td><td>6.0</td><td>0</td><td>12</td></tr><tr><td>1988</td><td>Jonathan Palmer</td><td>156</td><td>British</td><td>5.0</td><td>0</td><td>13</td></tr><tr><td>1988</td><td>Maurício Gugelmin</td><td>127</td><td>Brazilian</td><td>5.0</td><td>0</td><td>13</td></tr><tr><td>1988</td><td>Andrea de Cesaris</td><td>110</td><td>Italian</td><td>3.0</td><td>0</td><td>15</td></tr><tr><td>1988</td><td>Pierluigi Martini</td><td>94</td><td>Italian</td><td>1.0</td><td>0</td><td>16</td></tr><tr><td>1988</td><td>Satoru Nakajima</td><td>138</td><td>Japanese</td><td>1.0</td><td>0</td><td>16</td></tr><tr><td>1988</td><td>Luis Pérez-Sala</td><td>159</td><td>Spanish</td><td>0.0</td><td>0</td><td>18</td></tr><tr><td>1988</td><td>René Arnoux</td><td>163</td><td>French</td><td>0.0</td><td>0</td><td>18</td></tr><tr><td>1988</td><td>Philippe Streiff</td><td>166</td><td>French</td><td>0.0</td><td>0</td><td>18</td></tr><tr><td>1988</td><td>Stefano Modena</td><td>131</td><td>Italian</td><td>0.0</td><td>0</td><td>18</td></tr><tr><td>1988</td><td>Gabriele Tarquini</td><td>99</td><td>Italian</td><td>0.0</td><td>0</td><td>18</td></tr><tr><td>1988</td><td>Bernd Schneider</td><td>146</td><td>German</td><td>0.0</td><td>0</td><td>18</td></tr><tr><td>1988</td><td>Piercarlo Ghinzani</td><td>160</td><td>Italian</td><td>0.0</td><td>0</td><td>18</td></tr><tr><td>1988</td><td>Alex Caffi</td><td>133</td><td>Italian</td><td>0.0</td><td>0</td><td>18</td></tr><tr><td>1988</td><td>Nicola Larini</td><td>78</td><td>Italian</td><td>0.0</td><td>0</td><td>18</td></tr><tr><td>1988</td><td>Yannick Dalmas</td><td>114</td><td>French</td><td>0.0</td><td>0</td><td>18</td></tr><tr><td>1988</td><td>Oscar Larrauri</td><td>165</td><td>Argentine</td><td>0.0</td><td>0</td><td>18</td></tr><tr><td>1988</td><td>Stefan Johansson</td><td>140</td><td>Swedish</td><td>0.0</td><td>0</td><td>18</td></tr><tr><td>1988</td><td>Julian Bailey</td><td>141</td><td>British</td><td>0.0</td><td>0</td><td>18</td></tr><tr><td>1988</td><td>Philippe Alliot</td><td>112</td><td>French</td><td>0.0</td><td>0</td><td>18</td></tr><tr><td>1988</td><td>Adrián Campos</td><td>167</td><td>Spanish</td><td>0.0</td><td>0</td><td>18</td></tr><tr><td>1988</td><td>Aguri Suzuki</td><td>88</td><td>Japanese</td><td>0.0</td><td>0</td><td>18</td></tr><tr><td>1988</td><td>Jean-Louis Schlesser</td><td>168</td><td>French</td><td>0.0</td><td>0</td><td>18</td></tr><tr><td>1988</td><td>Martin Brundle</td><td>84</td><td>British</td><td>0.0</td><td>0</td><td>18</td></tr><tr><td>1988</td><td>Pierre-Henri Raphanel</td><td>162</td><td>French</td><td>0.0</td><td>0</td><td>18</td></tr><tr><td>1993</td><td>Alain Prost</td><td>117</td><td>French</td><td>99.0</td><td>7</td><td>1</td></tr><tr><td>1993</td><td>Ayrton Senna</td><td>102</td><td>Brazilian</td><td>73.0</td><td>5</td><td>2</td></tr><tr><td>1993</td><td>Damon Hill</td><td>71</td><td>British</td><td>69.0</td><td>3</td><td>3</td></tr><tr><td>1993</td><td>Michael Schumacher</td><td>30</td><td>German</td><td>52.0</td><td>1</td><td>4</td></tr><tr><td>1993</td><td>Riccardo Patrese</td><td>119</td><td>Italian</td><td>20.0</td><td>0</td><td>5</td></tr><tr><td>1993</td><td>Jean Alesi</td><td>55</td><td>French</td><td>16.0</td><td>0</td><td>6</td></tr><tr><td>1993</td><td>Martin Brundle</td><td>84</td><td>British</td><td>13.0</td><td>0</td><td>7</td></tr><tr><td>1993</td><td>Gerhard Berger</td><td>77</td><td>Austrian</td><td>12.0</td><td>0</td><td>8</td></tr><tr><td>1993</td><td>Johnny Herbert</td><td>65</td><td>British</td><td>11.0</td><td>0</td><td>9</td></tr><tr><td>1993</td><td>Mark Blundell</td><td>87</td><td>British</td><td>10.0</td><td>0</td><td>10</td></tr><tr><td>1993</td><td>Michael Andretti</td><td>121</td><td>American</td><td>7.0</td><td>0</td><td>11</td></tr><tr><td>1993</td><td>Karl Wendlinger</td><td>91</td><td>Austrian</td><td>7.0</td><td>0</td><td>11</td></tr><tr><td>1993</td><td>Christian Fittipaldi</td><td>104</td><td>Brazilian</td><td>5.0</td><td>0</td><td>13</td></tr><tr><td>1993</td><td>Jyrki Järvilehto</td><td>109</td><td>Finnish</td><td>5.0</td><td>0</td><td>13</td></tr><tr><td>1993</td><td>Derek Warwick</td><td>118</td><td>British</td><td>4.0</td><td>0</td><td>15</td></tr><tr><td>1993</td><td>Mika Häkkinen</td><td>57</td><td>Finnish</td><td>4.0</td><td>0</td><td>15</td></tr><tr><td>1993</td><td>Fabrizio Barbazza</td><td>120</td><td>Italian</td><td>2.0</td><td>0</td><td>17</td></tr><tr><td>1993</td><td>Rubens Barrichello</td><td>22</td><td>Brazilian</td><td>2.0</td><td>0</td><td>17</td></tr><tr><td>1993</td><td>Philippe Alliot</td><td>112</td><td>French</td><td>2.0</td><td>0</td><td>17</td></tr><tr><td>1993</td><td>Érik Comas</td><td>100</td><td>French</td><td>1.0</td><td>0</td><td>20</td></tr><tr><td>1993</td><td>Alessandro Zanardi</td><td>70</td><td>Italian</td><td>1.0</td><td>0</td><td>20</td></tr><tr><td>1993</td><td>Eddie Irvine</td><td>56</td><td>British</td><td>1.0</td><td>0</td><td>20</td></tr><tr><td>1993</td><td>Michele Alboreto</td><td>105</td><td>Italian</td><td>0.0</td><td>0</td><td>23</td></tr><tr><td>1993</td><td>Aguri Suzuki</td><td>88</td><td>Japanese</td><td>0.0</td><td>0</td><td>23</td></tr><tr><td>1993</td><td>Thierry Boutsen</td><td>123</td><td>Belgian</td><td>0.0</td><td>0</td><td>23</td></tr><tr><td>1993</td><td>Pedro Lamy</td><td>83</td><td>Portuguese</td><td>0.0</td><td>0</td><td>23</td></tr><tr><td>1993</td><td>Pierluigi Martini</td><td>94</td><td>Italian</td><td>0.0</td><td>0</td><td>23</td></tr><tr><td>1993</td><td>Andrea de Cesaris</td><td>110</td><td>Italian</td><td>0.0</td><td>0</td><td>23</td></tr><tr><td>1993</td><td>Emanuele Naspetti</td><td>125</td><td>Italian</td><td>0.0</td><td>0</td><td>23</td></tr><tr><td>1993</td><td>Ivan Capelli</td><td>122</td><td>Italian</td><td>0.0</td><td>0</td><td>23</td></tr><tr><td>1993</td><td>Luca Badoer</td><td>69</td><td>Italian</td><td>0.0</td><td>0</td><td>23</td></tr><tr><td>1993</td><td>Ukyo Katayama</td><td>79</td><td>Japanese</td><td>0.0</td><td>0</td><td>23</td></tr><tr><td>1993</td><td>Marco Apicella</td><td>124</td><td>Italian</td><td>0.0</td><td>0</td><td>23</td></tr><tr><td>1993</td><td>Jean-Marc Gounon</td><td>111</td><td>French</td><td>0.0</td><td>0</td><td>23</td></tr><tr><td>1993</td><td>Toshio Suzuki</td><td>126</td><td>Japanese</td><td>0.0</td><td>0</td><td>23</td></tr><tr><td>1985</td><td>Alain Prost</td><td>117</td><td>French</td><td>76.0</td><td>5</td><td>1</td></tr><tr><td>1985</td><td>Michele Alboreto</td><td>105</td><td>Italian</td><td>53.0</td><td>2</td><td>2</td></tr><tr><td>1985</td><td>Keke Rosberg</td><td>177</td><td>Finnish</td><td>40.0</td><td>2</td><td>3</td></tr><tr><td>1985</td><td>Ayrton Senna</td><td>102</td><td>Brazilian</td><td>38.0</td><td>2</td><td>4</td></tr><tr><td>1985</td><td>Elio de Angelis</td><td>173</td><td>Italian</td><td>33.0</td><td>1</td><td>5</td></tr><tr><td>1985</td><td>Nigel Mansell</td><td>95</td><td>British</td><td>31.0</td><td>2</td><td>6</td></tr><tr><td>1985</td><td>Stefan Johansson</td><td>140</td><td>Swedish</td><td>26.0</td><td>0</td><td>7</td></tr><tr><td>1985</td><td>Nelson Piquet</td><td>137</td><td>Brazilian</td><td>21.0</td><td>1</td><td>8</td></tr><tr><td>1985</td><td>Jacques Laffite</td><td>172</td><td>French</td><td>16.0</td><td>0</td><td>9</td></tr><tr><td>1985</td><td>Niki Lauda</td><td>182</td><td>Austrian</td><td>14.0</td><td>1</td><td>10</td></tr><tr><td>1985</td><td>Thierry Boutsen</td><td>123</td><td>Belgian</td><td>11.0</td><td>0</td><td>11</td></tr><tr><td>1985</td><td>Patrick Tambay</td><td>175</td><td>French</td><td>11.0</td><td>0</td><td>11</td></tr><tr><td>1985</td><td>Derek Warwick</td><td>118</td><td>British</td><td>5.0</td><td>0</td><td>13</td></tr><tr><td>1985</td><td>Marc Surer</td><td>176</td><td>Swiss</td><td>5.0</td><td>0</td><td>13</td></tr><tr><td>1985</td><td>Stefan Bellof</td><td>185</td><td>German</td><td>4.0</td><td>0</td><td>15</td></tr><tr><td>1985</td><td>Philippe Streiff</td><td>166</td><td>French</td><td>4.0</td><td>0</td><td>15</td></tr><tr><td>1985</td><td>Andrea de Cesaris</td><td>110</td><td>Italian</td><td>3.0</td><td>0</td><td>17</td></tr><tr><td>1985</td><td>Gerhard Berger</td><td>77</td><td>Austrian</td><td>3.0</td><td>0</td><td>17</td></tr><tr><td>1985</td><td>René Arnoux</td><td>163</td><td>French</td><td>3.0</td><td>0</td><td>17</td></tr><tr><td>1985</td><td>Ivan Capelli</td><td>122</td><td>Italian</td><td>3.0</td><td>0</td><td>17</td></tr><tr><td>1985</td><td>François Hesnault</td><td>183</td><td>French</td><td>0.0</td><td>0</td><td>21</td></tr><tr><td>1985</td><td>Manfred Winkelhock</td><td>181</td><td>German</td><td>0.0</td><td>0</td><td>21</td></tr><tr><td>1985</td><td>Teo Fabi</td><td>170</td><td>Italian</td><td>0.0</td><td>0</td><td>21</td></tr><tr><td>1985</td><td>Huub Rothengatter</td><td>179</td><td>Dutch</td><td>0.0</td><td>0</td><td>21</td></tr><tr><td>1985</td><td>Kenny Acheson</td><td>186</td><td>British</td><td>0.0</td><td>0</td><td>21</td></tr><tr><td>1985</td><td>Riccardo Patrese</td><td>119</td><td>Italian</td><td>0.0</td><td>0</td><td>21</td></tr><tr><td>1985</td><td>Jonathan Palmer</td><td>156</td><td>British</td><td>0.0</td><td>0</td><td>21</td></tr><tr><td>1985</td><td>Martin Brundle</td><td>84</td><td>British</td><td>0.0</td><td>0</td><td>21</td></tr><tr><td>1985</td><td>Pierluigi Martini</td><td>94</td><td>Italian</td><td>0.0</td><td>0</td><td>21</td></tr><tr><td>1985</td><td>Eddie Cheever</td><td>158</td><td>American</td><td>0.0</td><td>0</td><td>21</td></tr><tr><td>1985</td><td>Piercarlo Ghinzani</td><td>160</td><td>Italian</td><td>0.0</td><td>0</td><td>21</td></tr><tr><td>1985</td><td>Mauro Baldi</td><td>184</td><td>Italian</td><td>0.0</td><td>0</td><td>21</td></tr><tr><td>1985</td><td>Philippe Alliot</td><td>112</td><td>French</td><td>0.0</td><td>0</td><td>21</td></tr><tr><td>1985</td><td>Alan Jones</td><td>178</td><td>Australian</td><td>0.0</td><td>0</td><td>21</td></tr><tr><td>1985</td><td>John Watson</td><td>187</td><td>British</td><td>0.0</td><td>0</td><td>21</td></tr><tr><td>1985</td><td>Christian Danner</td><td>157</td><td>German</td><td>0.0</td><td>0</td><td>21</td></tr><tr><td>2011</td><td>Sebastian Vettel</td><td>20</td><td>German</td><td>392.0</td><td>11</td><td>1</td></tr><tr><td>2011</td><td>Jenson Button</td><td>18</td><td>British</td><td>270.0</td><td>3</td><td>2</td></tr><tr><td>2011</td><td>Mark Webber</td><td>17</td><td>Australian</td><td>258.0</td><td>1</td><td>3</td></tr><tr><td>2011</td><td>Fernando Alonso</td><td>4</td><td>Spanish</td><td>257.0</td><td>1</td><td>4</td></tr><tr><td>2011</td><td>Lewis Hamilton</td><td>1</td><td>British</td><td>227.0</td><td>3</td><td>5</td></tr><tr><td>2011</td><td>Felipe Massa</td><td>13</td><td>Brazilian</td><td>118.0</td><td>0</td><td>6</td></tr><tr><td>2011</td><td>Nico Rosberg</td><td>3</td><td>German</td><td>89.0</td><td>0</td><td>7</td></tr><tr><td>2011</td><td>Michael Schumacher</td><td>30</td><td>German</td><td>76.0</td><td>0</td><td>8</td></tr><tr><td>2011</td><td>Adrian Sutil</td><td>16</td><td>German</td><td>42.0</td><td>0</td><td>9</td></tr><tr><td>2011</td><td>Vitaly Petrov</td><td>808</td><td>Russian</td><td>37.0</td><td>0</td><td>10</td></tr><tr><td>2011</td><td>Nick Heidfeld</td><td>2</td><td>German</td><td>34.0</td><td>0</td><td>11</td></tr><tr><td>2011</td><td>Kamui Kobayashi</td><td>155</td><td>Japanese</td><td>30.0</td><td>0</td><td>12</td></tr><tr><td>2011</td><td>Paul di Resta</td><td>814</td><td>British</td><td>27.0</td><td>0</td><td>13</td></tr><tr><td>2011</td><td>Jaime Alguersuari</td><td>153</td><td>Spanish</td><td>26.0</td><td>0</td><td>14</td></tr><tr><td>2011</td><td>Sébastien Buemi</td><td>67</td><td>Swiss</td><td>15.0</td><td>0</td><td>15</td></tr><tr><td>2011</td><td>Sergio Pérez</td><td>815</td><td>Mexican</td><td>14.0</td><td>0</td><td>16</td></tr><tr><td>2011</td><td>Rubens Barrichello</td><td>22</td><td>Brazilian</td><td>4.0</td><td>0</td><td>17</td></tr><tr><td>2011</td><td>Bruno Senna</td><td>811</td><td>Brazilian</td><td>2.0</td><td>0</td><td>18</td></tr><tr><td>2011</td><td>Pastor Maldonado</td><td>813</td><td>Venezuelan</td><td>1.0</td><td>0</td><td>19</td></tr><tr><td>2011</td><td>Daniel Ricciardo</td><td>817</td><td>Australian</td><td>0.0</td><td>0</td><td>20</td></tr><tr><td>2011</td><td>Heikki Kovalainen</td><td>5</td><td>Finnish</td><td>0.0</td><td>0</td><td>20</td></tr><tr><td>2011</td><td>Jarno Trulli</td><td>15</td><td>Italian</td><td>0.0</td><td>0</td><td>20</td></tr><tr><td>2011</td><td>Timo Glock</td><td>10</td><td>German</td><td>0.0</td><td>0</td><td>20</td></tr><tr><td>2011</td><td>Karun Chandhok</td><td>812</td><td>Indian</td><td>0.0</td><td>0</td><td>20</td></tr><tr><td>2011</td><td>Jérôme d'Ambrosio</td><td>816</td><td>Belgian</td><td>0.0</td><td>0</td><td>20</td></tr><tr><td>2011</td><td>Vitantonio Liuzzi</td><td>24</td><td>Italian</td><td>0.0</td><td>0</td><td>20</td></tr><tr><td>2011</td><td>Pedro de la Rosa</td><td>37</td><td>Spanish</td><td>0.0</td><td>0</td><td>20</td></tr><tr><td>2011</td><td>Narain Karthikeyan</td><td>39</td><td>Indian</td><td>0.0</td><td>0</td><td>20</td></tr><tr><td>1987</td><td>Nelson Piquet</td><td>137</td><td>Brazilian</td><td>76.0</td><td>3</td><td>1</td></tr><tr><td>1987</td><td>Nigel Mansell</td><td>95</td><td>British</td><td>61.0</td><td>6</td><td>2</td></tr><tr><td>1987</td><td>Ayrton Senna</td><td>102</td><td>Brazilian</td><td>57.0</td><td>2</td><td>3</td></tr><tr><td>1987</td><td>Alain Prost</td><td>117</td><td>French</td><td>46.0</td><td>3</td><td>4</td></tr><tr><td>1987</td><td>Gerhard Berger</td><td>77</td><td>Austrian</td><td>36.0</td><td>2</td><td>5</td></tr><tr><td>1987</td><td>Stefan Johansson</td><td>140</td><td>Swedish</td><td>30.0</td><td>0</td><td>6</td></tr><tr><td>1987</td><td>Michele Alboreto</td><td>105</td><td>Italian</td><td>17.0</td><td>0</td><td>7</td></tr><tr><td>1987</td><td>Thierry Boutsen</td><td>123</td><td>Belgian</td><td>16.0</td><td>0</td><td>8</td></tr><tr><td>1987</td><td>Teo Fabi</td><td>170</td><td>Italian</td><td>12.0</td><td>0</td><td>9</td></tr><tr><td>1987</td><td>Eddie Cheever</td><td>158</td><td>American</td><td>8.0</td><td>0</td><td>10</td></tr><tr><td>1987</td><td>Satoru Nakajima</td><td>138</td><td>Japanese</td><td>7.0</td><td>0</td><td>11</td></tr><tr><td>1987</td><td>Jonathan Palmer</td><td>156</td><td>British</td><td>7.0</td><td>0</td><td>11</td></tr><tr><td>1987</td><td>Riccardo Patrese</td><td>119</td><td>Italian</td><td>6.0</td><td>0</td><td>13</td></tr><tr><td>1987</td><td>Philippe Streiff</td><td>166</td><td>French</td><td>4.0</td><td>0</td><td>14</td></tr><tr><td>1987</td><td>Andrea de Cesaris</td><td>110</td><td>Italian</td><td>4.0</td><td>0</td><td>14</td></tr><tr><td>1987</td><td>Derek Warwick</td><td>118</td><td>British</td><td>3.0</td><td>0</td><td>16</td></tr><tr><td>1987</td><td>Philippe Alliot</td><td>112</td><td>French</td><td>3.0</td><td>0</td><td>16</td></tr><tr><td>1987</td><td>Martin Brundle</td><td>84</td><td>British</td><td>2.0</td><td>0</td><td>18</td></tr><tr><td>1987</td><td>Ivan Capelli</td><td>122</td><td>Italian</td><td>1.0</td><td>0</td><td>19</td></tr><tr><td>1987</td><td>René Arnoux</td><td>163</td><td>French</td><td>1.0</td><td>0</td><td>19</td></tr><tr><td>1987</td><td>Roberto Moreno</td><td>90</td><td>Brazilian</td><td>1.0</td><td>0</td><td>19</td></tr><tr><td>1987</td><td>Alessandro Nannini</td><td>145</td><td>Italian</td><td>0.0</td><td>0</td><td>22</td></tr><tr><td>1987</td><td>Adrián Campos</td><td>167</td><td>Spanish</td><td>0.0</td><td>0</td><td>22</td></tr><tr><td>1987</td><td>Piercarlo Ghinzani</td><td>160</td><td>Italian</td><td>0.0</td><td>0</td><td>22</td></tr><tr><td>1987</td><td>Alex Caffi</td><td>133</td><td>Italian</td><td>0.0</td><td>0</td><td>22</td></tr><tr><td>1987</td><td>Nicola Larini</td><td>78</td><td>Italian</td><td>0.0</td><td>0</td><td>22</td></tr><tr><td>1987</td><td>Christian Danner</td><td>157</td><td>German</td><td>0.0</td><td>0</td><td>22</td></tr><tr><td>1987</td><td>Pascal Fabre</td><td>169</td><td>French</td><td>0.0</td><td>0</td><td>22</td></tr><tr><td>1987</td><td>Franco Forini</td><td>171</td><td>Swiss</td><td>0.0</td><td>0</td><td>22</td></tr><tr><td>1987</td><td>Stefano Modena</td><td>131</td><td>Italian</td><td>0.0</td><td>0</td><td>22</td></tr><tr><td>1987</td><td>Gabriele Tarquini</td><td>99</td><td>Italian</td><td>0.0</td><td>0</td><td>22</td></tr><tr><td>1987</td><td>Yannick Dalmas</td><td>114</td><td>French</td><td>0.0</td><td>0</td><td>22</td></tr><tr><td>2006</td><td>Fernando Alonso</td><td>4</td><td>Spanish</td><td>134.0</td><td>7</td><td>1</td></tr><tr><td>2006</td><td>Michael Schumacher</td><td>30</td><td>German</td><td>121.0</td><td>7</td><td>2</td></tr><tr><td>2006</td><td>Felipe Massa</td><td>13</td><td>Brazilian</td><td>80.0</td><td>2</td><td>3</td></tr><tr><td>2006</td><td>Giancarlo Fisichella</td><td>21</td><td>Italian</td><td>72.0</td><td>1</td><td>4</td></tr><tr><td>2006</td><td>Kimi Räikkönen</td><td>8</td><td>Finnish</td><td>65.0</td><td>0</td><td>5</td></tr><tr><td>2006</td><td>Jenson Button</td><td>18</td><td>British</td><td>56.0</td><td>1</td><td>6</td></tr><tr><td>2006</td><td>Rubens Barrichello</td><td>22</td><td>Brazilian</td><td>30.0</td><td>0</td><td>7</td></tr><tr><td>2006</td><td>Juan Pablo Montoya</td><td>31</td><td>Colombian</td><td>26.0</td><td>0</td><td>8</td></tr><tr><td>2006</td><td>Nick Heidfeld</td><td>2</td><td>German</td><td>23.0</td><td>0</td><td>9</td></tr><tr><td>2006</td><td>Ralf Schumacher</td><td>23</td><td>German</td><td>20.0</td><td>0</td><td>10</td></tr><tr><td>2006</td><td>Pedro de la Rosa</td><td>37</td><td>Spanish</td><td>19.0</td><td>0</td><td>11</td></tr><tr><td>2006</td><td>Jarno Trulli</td><td>15</td><td>Italian</td><td>15.0</td><td>0</td><td>12</td></tr><tr><td>2006</td><td>David Coulthard</td><td>14</td><td>British</td><td>14.0</td><td>0</td><td>13</td></tr><tr><td>2006</td><td>Mark Webber</td><td>17</td><td>Australian</td><td>7.0</td><td>0</td><td>14</td></tr><tr><td>2006</td><td>Jacques Villeneuve</td><td>35</td><td>Canadian</td><td>7.0</td><td>0</td><td>14</td></tr><tr><td>2006</td><td>Robert Kubica</td><td>9</td><td>Polish</td><td>6.0</td><td>0</td><td>16</td></tr><tr><td>2006</td><td>Nico Rosberg</td><td>3</td><td>German</td><td>4.0</td><td>0</td><td>17</td></tr><tr><td>2006</td><td>Christian Klien</td><td>32</td><td>Austrian</td><td>2.0</td><td>0</td><td>18</td></tr><tr><td>2006</td><td>Vitantonio Liuzzi</td><td>24</td><td>Italian</td><td>1.0</td><td>0</td><td>19</td></tr><tr><td>2006</td><td>Tiago Monteiro</td><td>33</td><td>Portuguese</td><td>0.0</td><td>0</td><td>20</td></tr><tr><td>2006</td><td>Scott Speed</td><td>26</td><td>American</td><td>0.0</td><td>0</td><td>20</td></tr><tr><td>2006</td><td>Robert Doornbos</td><td>38</td><td>Dutch</td><td>0.0</td><td>0</td><td>20</td></tr><tr><td>2006</td><td>Sakon Yamamoto</td><td>29</td><td>Japanese</td><td>0.0</td><td>0</td><td>20</td></tr><tr><td>2006</td><td>Christijan Albers</td><td>27</td><td>Dutch</td><td>0.0</td><td>0</td><td>20</td></tr><tr><td>2006</td><td>Yuji Ide</td><td>34</td><td>Japanese</td><td>0.0</td><td>0</td><td>20</td></tr><tr><td>2006</td><td>Takuma Sato</td><td>11</td><td>Japanese</td><td>0.0</td><td>0</td><td>20</td></tr><tr><td>2006</td><td>Franck Montagny</td><td>36</td><td>French</td><td>0.0</td><td>0</td><td>20</td></tr><tr><td>2005</td><td>Fernando Alonso</td><td>4</td><td>Spanish</td><td>133.0</td><td>7</td><td>1</td></tr><tr><td>2005</td><td>Kimi Räikkönen</td><td>8</td><td>Finnish</td><td>112.0</td><td>7</td><td>2</td></tr><tr><td>2005</td><td>Michael Schumacher</td><td>30</td><td>German</td><td>62.0</td><td>1</td><td>3</td></tr><tr><td>2005</td><td>Juan Pablo Montoya</td><td>31</td><td>Colombian</td><td>60.0</td><td>3</td><td>4</td></tr><tr><td>2005</td><td>Giancarlo Fisichella</td><td>21</td><td>Italian</td><td>58.0</td><td>1</td><td>5</td></tr><tr><td>2005</td><td>Ralf Schumacher</td><td>23</td><td>German</td><td>45.0</td><td>0</td><td>6</td></tr><tr><td>2005</td><td>Jarno Trulli</td><td>15</td><td>Italian</td><td>43.0</td><td>0</td><td>7</td></tr><tr><td>2005</td><td>Rubens Barrichello</td><td>22</td><td>Brazilian</td><td>38.0</td><td>0</td><td>8</td></tr><tr><td>2005</td><td>Jenson Button</td><td>18</td><td>British</td><td>37.0</td><td>0</td><td>9</td></tr><tr><td>2005</td><td>Mark Webber</td><td>17</td><td>Australian</td><td>36.0</td><td>0</td><td>10</td></tr><tr><td>2005</td><td>Nick Heidfeld</td><td>2</td><td>German</td><td>28.0</td><td>0</td><td>11</td></tr><tr><td>2005</td><td>David Coulthard</td><td>14</td><td>British</td><td>24.0</td><td>0</td><td>12</td></tr><tr><td>2005</td><td>Felipe Massa</td><td>13</td><td>Brazilian</td><td>11.0</td><td>0</td><td>13</td></tr><tr><td>2005</td><td>Jacques Villeneuve</td><td>35</td><td>Canadian</td><td>9.0</td><td>0</td><td>14</td></tr><tr><td>2005</td><td>Christian Klien</td><td>32</td><td>Austrian</td><td>9.0</td><td>0</td><td>14</td></tr><tr><td>2005</td><td>Tiago Monteiro</td><td>33</td><td>Portuguese</td><td>7.0</td><td>0</td><td>16</td></tr><tr><td>2005</td><td>Alexander Wurz</td><td>25</td><td>Austrian</td><td>6.0</td><td>0</td><td>17</td></tr><tr><td>2005</td><td>Narain Karthikeyan</td><td>39</td><td>Indian</td><td>5.0</td><td>0</td><td>18</td></tr><tr><td>2005</td><td>Christijan Albers</td><td>27</td><td>Dutch</td><td>4.0</td><td>0</td><td>19</td></tr><tr><td>2005</td><td>Pedro de la Rosa</td><td>37</td><td>Spanish</td><td>4.0</td><td>0</td><td>19</td></tr><tr><td>2005</td><td>Patrick Friesacher</td><td>40</td><td>Austrian</td><td>3.0</td><td>0</td><td>21</td></tr><tr><td>2005</td><td>Antônio Pizzonia</td><td>42</td><td>Brazilian</td><td>2.0</td><td>0</td><td>22</td></tr><tr><td>2005</td><td>Vitantonio Liuzzi</td><td>24</td><td>Italian</td><td>1.0</td><td>0</td><td>23</td></tr><tr><td>2005</td><td>Takuma Sato</td><td>11</td><td>Japanese</td><td>1.0</td><td>0</td><td>23</td></tr><tr><td>2005</td><td>Robert Doornbos</td><td>38</td><td>Dutch</td><td>0.0</td><td>0</td><td>25</td></tr><tr><td>2005</td><td>Anthony Davidson</td><td>19</td><td>British</td><td>0.0</td><td>0</td><td>25</td></tr><tr><td>2005</td><td>Ricardo Zonta</td><td>41</td><td>Brazilian</td><td>0.0</td><td>0</td><td>25</td></tr><tr><td>1986</td><td>Alain Prost</td><td>117</td><td>French</td><td>74.0</td><td>4</td><td>1</td></tr><tr><td>1986</td><td>Nigel Mansell</td><td>95</td><td>British</td><td>72.0</td><td>5</td><td>2</td></tr><tr><td>1986</td><td>Nelson Piquet</td><td>137</td><td>Brazilian</td><td>69.0</td><td>4</td><td>3</td></tr><tr><td>1986</td><td>Ayrton Senna</td><td>102</td><td>Brazilian</td><td>55.0</td><td>2</td><td>4</td></tr><tr><td>1986</td><td>Stefan Johansson</td><td>140</td><td>Swedish</td><td>23.0</td><td>0</td><td>5</td></tr><tr><td>1986</td><td>Keke Rosberg</td><td>177</td><td>Finnish</td><td>22.0</td><td>0</td><td>6</td></tr><tr><td>1986</td><td>Gerhard Berger</td><td>77</td><td>Austrian</td><td>17.0</td><td>1</td><td>7</td></tr><tr><td>1986</td><td>René Arnoux</td><td>163</td><td>French</td><td>14.0</td><td>0</td><td>8</td></tr><tr><td>1986</td><td>Michele Alboreto</td><td>105</td><td>Italian</td><td>14.0</td><td>0</td><td>8</td></tr><tr><td>1986</td><td>Jacques Laffite</td><td>172</td><td>French</td><td>14.0</td><td>0</td><td>8</td></tr><tr><td>1986</td><td>Martin Brundle</td><td>84</td><td>British</td><td>8.0</td><td>0</td><td>11</td></tr><tr><td>1986</td><td>Alan Jones</td><td>178</td><td>Australian</td><td>4.0</td><td>0</td><td>12</td></tr><tr><td>1986</td><td>Philippe Streiff</td><td>166</td><td>French</td><td>3.0</td><td>0</td><td>13</td></tr><tr><td>1986</td><td>Johnny Dumfries</td><td>174</td><td>British</td><td>3.0</td><td>0</td><td>13</td></tr><tr><td>1986</td><td>Patrick Tambay</td><td>175</td><td>French</td><td>2.0</td><td>0</td><td>15</td></tr><tr><td>1986</td><td>Riccardo Patrese</td><td>119</td><td>Italian</td><td>2.0</td><td>0</td><td>15</td></tr><tr><td>1986</td><td>Teo Fabi</td><td>170</td><td>Italian</td><td>2.0</td><td>0</td><td>15</td></tr><tr><td>1986</td><td>Christian Danner</td><td>157</td><td>German</td><td>1.0</td><td>0</td><td>18</td></tr><tr><td>1986</td><td>Philippe Alliot</td><td>112</td><td>French</td><td>1.0</td><td>0</td><td>18</td></tr><tr><td>1986</td><td>Jonathan Palmer</td><td>156</td><td>British</td><td>0.0</td><td>0</td><td>20</td></tr><tr><td>1986</td><td>Ivan Capelli</td><td>122</td><td>Italian</td><td>0.0</td><td>0</td><td>20</td></tr><tr><td>1986</td><td>Huub Rothengatter</td><td>179</td><td>Dutch</td><td>0.0</td><td>0</td><td>20</td></tr><tr><td>1986</td><td>Andrea de Cesaris</td><td>110</td><td>Italian</td><td>0.0</td><td>0</td><td>20</td></tr><tr><td>1986</td><td>Thierry Boutsen</td><td>123</td><td>Belgian</td><td>0.0</td><td>0</td><td>20</td></tr><tr><td>1986</td><td>Marc Surer</td><td>176</td><td>Swiss</td><td>0.0</td><td>0</td><td>20</td></tr><tr><td>1986</td><td>Piercarlo Ghinzani</td><td>160</td><td>Italian</td><td>0.0</td><td>0</td><td>20</td></tr><tr><td>1986</td><td>Elio de Angelis</td><td>173</td><td>Italian</td><td>0.0</td><td>0</td><td>20</td></tr><tr><td>1986</td><td>Derek Warwick</td><td>118</td><td>British</td><td>0.0</td><td>0</td><td>20</td></tr><tr><td>1986</td><td>Allen Berg</td><td>180</td><td>Canadian</td><td>0.0</td><td>0</td><td>20</td></tr><tr><td>1986</td><td>Alessandro Nannini</td><td>145</td><td>Italian</td><td>0.0</td><td>0</td><td>20</td></tr><tr><td>1986</td><td>Alex Caffi</td><td>133</td><td>Italian</td><td>0.0</td><td>0</td><td>20</td></tr><tr><td>1986</td><td>Eddie Cheever</td><td>158</td><td>American</td><td>0.0</td><td>0</td><td>20</td></tr><tr><td>2010</td><td>Sebastian Vettel</td><td>20</td><td>German</td><td>256.0</td><td>5</td><td>1</td></tr><tr><td>2010</td><td>Fernando Alonso</td><td>4</td><td>Spanish</td><td>252.0</td><td>5</td><td>2</td></tr><tr><td>2010</td><td>Mark Webber</td><td>17</td><td>Australian</td><td>242.0</td><td>4</td><td>3</td></tr><tr><td>2010</td><td>Lewis Hamilton</td><td>1</td><td>British</td><td>240.0</td><td>3</td><td>4</td></tr><tr><td>2010</td><td>Jenson Button</td><td>18</td><td>British</td><td>214.0</td><td>2</td><td>5</td></tr><tr><td>2010</td><td>Felipe Massa</td><td>13</td><td>Brazilian</td><td>144.0</td><td>0</td><td>6</td></tr><tr><td>2010</td><td>Nico Rosberg</td><td>3</td><td>German</td><td>142.0</td><td>0</td><td>7</td></tr><tr><td>2010</td><td>Robert Kubica</td><td>9</td><td>Polish</td><td>136.0</td><td>0</td><td>8</td></tr><tr><td>2010</td><td>Michael Schumacher</td><td>30</td><td>German</td><td>72.0</td><td>0</td><td>9</td></tr><tr><td>2010</td><td>Adrian Sutil</td><td>16</td><td>German</td><td>47.0</td><td>0</td><td>10</td></tr><tr><td>2010</td><td>Rubens Barrichello</td><td>22</td><td>Brazilian</td><td>47.0</td><td>0</td><td>10</td></tr><tr><td>2010</td><td>Kamui Kobayashi</td><td>155</td><td>Japanese</td><td>32.0</td><td>0</td><td>12</td></tr><tr><td>2010</td><td>Vitaly Petrov</td><td>808</td><td>Russian</td><td>27.0</td><td>0</td><td>13</td></tr><tr><td>2010</td><td>Nico Hülkenberg</td><td>807</td><td>German</td><td>22.0</td><td>0</td><td>14</td></tr><tr><td>2010</td><td>Vitantonio Liuzzi</td><td>24</td><td>Italian</td><td>21.0</td><td>0</td><td>15</td></tr><tr><td>2010</td><td>Sébastien Buemi</td><td>67</td><td>Swiss</td><td>8.0</td><td>0</td><td>16</td></tr><tr><td>2010</td><td>Nick Heidfeld</td><td>2</td><td>German</td><td>6.0</td><td>0</td><td>17</td></tr><tr><td>2010</td><td>Pedro de la Rosa</td><td>37</td><td>Spanish</td><td>6.0</td><td>0</td><td>17</td></tr><tr><td>2010</td><td>Jaime Alguersuari</td><td>153</td><td>Spanish</td><td>5.0</td><td>0</td><td>19</td></tr><tr><td>2010</td><td>Sakon Yamamoto</td><td>29</td><td>Japanese</td><td>0.0</td><td>0</td><td>20</td></tr><tr><td>2010</td><td>Karun Chandhok</td><td>812</td><td>Indian</td><td>0.0</td><td>0</td><td>20</td></tr><tr><td>2010</td><td>Bruno Senna</td><td>811</td><td>Brazilian</td><td>0.0</td><td>0</td><td>20</td></tr><tr><td>2010</td><td>Jarno Trulli</td><td>15</td><td>Italian</td><td>0.0</td><td>0</td><td>20</td></tr><tr><td>2010</td><td>Timo Glock</td><td>10</td><td>German</td><td>0.0</td><td>0</td><td>20</td></tr><tr><td>2010</td><td>Heikki Kovalainen</td><td>5</td><td>Finnish</td><td>0.0</td><td>0</td><td>20</td></tr><tr><td>2010</td><td>Lucas di Grassi</td><td>810</td><td>Brazilian</td><td>0.0</td><td>0</td><td>20</td></tr><tr><td>2010</td><td>Christian Klien</td><td>32</td><td>Austrian</td><td>0.0</td><td>0</td><td>20</td></tr><tr><td>2017</td><td>Lewis Hamilton</td><td>1</td><td>British</td><td>363.0</td><td>9</td><td>1</td></tr><tr><td>2017</td><td>Sebastian Vettel</td><td>20</td><td>German</td><td>317.0</td><td>5</td><td>2</td></tr><tr><td>2017</td><td>Valtteri Bottas</td><td>822</td><td>Finnish</td><td>305.0</td><td>3</td><td>3</td></tr><tr><td>2017</td><td>Kimi Räikkönen</td><td>8</td><td>Finnish</td><td>205.0</td><td>0</td><td>4</td></tr><tr><td>2017</td><td>Daniel Ricciardo</td><td>817</td><td>Australian</td><td>200.0</td><td>1</td><td>5</td></tr><tr><td>2017</td><td>Max Verstappen</td><td>830</td><td>Dutch</td><td>168.0</td><td>2</td><td>6</td></tr><tr><td>2017</td><td>Sergio Pérez</td><td>815</td><td>Mexican</td><td>100.0</td><td>0</td><td>7</td></tr><tr><td>2017</td><td>Esteban Ocon</td><td>839</td><td>French</td><td>87.0</td><td>0</td><td>8</td></tr><tr><td>2017</td><td>Carlos Sainz</td><td>832</td><td>Spanish</td><td>54.0</td><td>0</td><td>9</td></tr><tr><td>2017</td><td>Nico Hülkenberg</td><td>807</td><td>German</td><td>43.0</td><td>0</td><td>10</td></tr><tr><td>2017</td><td>Felipe Massa</td><td>13</td><td>Brazilian</td><td>43.0</td><td>0</td><td>10</td></tr><tr><td>2017</td><td>Lance Stroll</td><td>840</td><td>Canadian</td><td>40.0</td><td>0</td><td>12</td></tr><tr><td>2017</td><td>Romain Grosjean</td><td>154</td><td>French</td><td>28.0</td><td>0</td><td>13</td></tr><tr><td>2017</td><td>Kevin Magnussen</td><td>825</td><td>Danish</td><td>19.0</td><td>0</td><td>14</td></tr><tr><td>2017</td><td>Fernando Alonso</td><td>4</td><td>Spanish</td><td>17.0</td><td>0</td><td>15</td></tr><tr><td>2017</td><td>Stoffel Vandoorne</td><td>838</td><td>Belgian</td><td>13.0</td><td>0</td><td>16</td></tr><tr><td>2017</td><td>Jolyon Palmer</td><td>835</td><td>British</td><td>8.0</td><td>0</td><td>17</td></tr><tr><td>2017</td><td>Daniil Kvyat</td><td>826</td><td>Russian</td><td>5.0</td><td>0</td><td>18</td></tr><tr><td>2017</td><td>Pascal Wehrlein</td><td>836</td><td>German</td><td>5.0</td><td>0</td><td>18</td></tr><tr><td>2017</td><td>Brendon Hartley</td><td>843</td><td>New Zealander</td><td>0.0</td><td>0</td><td>20</td></tr><tr><td>2017</td><td>Marcus Ericsson</td><td>828</td><td>Swedish</td><td>0.0</td><td>0</td><td>20</td></tr><tr><td>2017</td><td>Pierre Gasly</td><td>842</td><td>French</td><td>0.0</td><td>0</td><td>20</td></tr><tr><td>2017</td><td>Jenson Button</td><td>18</td><td>British</td><td>0.0</td><td>0</td><td>20</td></tr><tr><td>2017</td><td>Antonio Giovinazzi</td><td>841</td><td>Italian</td><td>0.0</td><td>0</td><td>20</td></tr><tr><td>2017</td><td>Paul di Resta</td><td>814</td><td>British</td><td>0.0</td><td>0</td><td>20</td></tr><tr><td>2012</td><td>Sebastian Vettel</td><td>20</td><td>German</td><td>281.0</td><td>5</td><td>1</td></tr><tr><td>2012</td><td>Fernando Alonso</td><td>4</td><td>Spanish</td><td>278.0</td><td>3</td><td>2</td></tr><tr><td>2012</td><td>Kimi Räikkönen</td><td>8</td><td>Finnish</td><td>207.0</td><td>1</td><td>3</td></tr><tr><td>2012</td><td>Lewis Hamilton</td><td>1</td><td>British</td><td>190.0</td><td>4</td><td>4</td></tr><tr><td>2012</td><td>Jenson Button</td><td>18</td><td>British</td><td>188.0</td><td>3</td><td>5</td></tr><tr><td>2012</td><td>Mark Webber</td><td>17</td><td>Australian</td><td>179.0</td><td>2</td><td>6</td></tr><tr><td>2012</td><td>Felipe Massa</td><td>13</td><td>Brazilian</td><td>122.0</td><td>0</td><td>7</td></tr><tr><td>2012</td><td>Romain Grosjean</td><td>154</td><td>French</td><td>96.0</td><td>0</td><td>8</td></tr><tr><td>2012</td><td>Nico Rosberg</td><td>3</td><td>German</td><td>93.0</td><td>1</td><td>9</td></tr><tr><td>2012</td><td>Sergio Pérez</td><td>815</td><td>Mexican</td><td>66.0</td><td>0</td><td>10</td></tr><tr><td>2012</td><td>Nico Hülkenberg</td><td>807</td><td>German</td><td>63.0</td><td>0</td><td>11</td></tr><tr><td>2012</td><td>Kamui Kobayashi</td><td>155</td><td>Japanese</td><td>60.0</td><td>0</td><td>12</td></tr><tr><td>2012</td><td>Michael Schumacher</td><td>30</td><td>German</td><td>49.0</td><td>0</td><td>13</td></tr><tr><td>2012</td><td>Paul di Resta</td><td>814</td><td>British</td><td>46.0</td><td>0</td><td>14</td></tr><tr><td>2012</td><td>Pastor Maldonado</td><td>813</td><td>Venezuelan</td><td>45.0</td><td>1</td><td>15</td></tr><tr><td>2012</td><td>Bruno Senna</td><td>811</td><td>Brazilian</td><td>31.0</td><td>0</td><td>16</td></tr><tr><td>2012</td><td>Jean-Éric Vergne</td><td>818</td><td>French</td><td>16.0</td><td>0</td><td>17</td></tr><tr><td>2012</td><td>Daniel Ricciardo</td><td>817</td><td>Australian</td><td>10.0</td><td>0</td><td>18</td></tr><tr><td>2012</td><td>Jérôme d'Ambrosio</td><td>816</td><td>Belgian</td><td>0.0</td><td>0</td><td>19</td></tr><tr><td>2012</td><td>Charles Pic</td><td>819</td><td>French</td><td>0.0</td><td>0</td><td>19</td></tr><tr><td>2012</td><td>Heikki Kovalainen</td><td>5</td><td>Finnish</td><td>0.0</td><td>0</td><td>19</td></tr><tr><td>2012</td><td>Pedro de la Rosa</td><td>37</td><td>Spanish</td><td>0.0</td><td>0</td><td>19</td></tr><tr><td>2012</td><td>Timo Glock</td><td>10</td><td>German</td><td>0.0</td><td>0</td><td>19</td></tr><tr><td>2012</td><td>Narain Karthikeyan</td><td>39</td><td>Indian</td><td>0.0</td><td>0</td><td>19</td></tr><tr><td>2012</td><td>Vitaly Petrov</td><td>808</td><td>Russian</td><td>0.0</td><td>0</td><td>19</td></tr><tr><td>1997</td><td>Jacques Villeneuve</td><td>35</td><td>Canadian</td><td>81.0</td><td>7</td><td>1</td></tr><tr><td>1997</td><td>Michael Schumacher</td><td>30</td><td>German</td><td>78.0</td><td>5</td><td>2</td></tr><tr><td>1997</td><td>Heinz-Harald Frentzen</td><td>49</td><td>German</td><td>42.0</td><td>1</td><td>3</td></tr><tr><td>1997</td><td>David Coulthard</td><td>14</td><td>British</td><td>36.0</td><td>2</td><td>4</td></tr><tr><td>1997</td><td>Jean Alesi</td><td>55</td><td>French</td><td>36.0</td><td>0</td><td>5</td></tr><tr><td>1997</td><td>Mika Häkkinen</td><td>57</td><td>Finnish</td><td>27.0</td><td>1</td><td>6</td></tr><tr><td>1997</td><td>Gerhard Berger</td><td>77</td><td>Austrian</td><td>27.0</td><td>1</td><td>6</td></tr><tr><td>1997</td><td>Eddie Irvine</td><td>56</td><td>British</td><td>24.0</td><td>0</td><td>8</td></tr><tr><td>1997</td><td>Giancarlo Fisichella</td><td>21</td><td>Italian</td><td>20.0</td><td>0</td><td>9</td></tr><tr><td>1997</td><td>Olivier Panis</td><td>44</td><td>French</td><td>16.0</td><td>0</td><td>10</td></tr><tr><td>1997</td><td>Johnny Herbert</td><td>65</td><td>British</td><td>15.0</td><td>0</td><td>11</td></tr><tr><td>1997</td><td>Ralf Schumacher</td><td>23</td><td>German</td><td>13.0</td><td>0</td><td>12</td></tr><tr><td>1997</td><td>Damon Hill</td><td>71</td><td>British</td><td>7.0</td><td>0</td><td>13</td></tr><tr><td>1997</td><td>Rubens Barrichello</td><td>22</td><td>Brazilian</td><td>6.0</td><td>0</td><td>14</td></tr><tr><td>1997</td><td>Alexander Wurz</td><td>25</td><td>Austrian</td><td>4.0</td><td>0</td><td>15</td></tr><tr><td>1997</td><td>Jarno Trulli</td><td>15</td><td>Italian</td><td>3.0</td><td>0</td><td>16</td></tr><tr><td>1997</td><td>Mika Salo</td><td>63</td><td>Finnish</td><td>2.0</td><td>0</td><td>17</td></tr><tr><td>1997</td><td>Shinji Nakano</td><td>75</td><td>Japanese</td><td>2.0</td><td>0</td><td>17</td></tr><tr><td>1997</td><td>Pedro Diniz</td><td>64</td><td>Brazilian</td><td>2.0</td><td>0</td><td>17</td></tr><tr><td>1997</td><td>Nicola Larini</td><td>78</td><td>Italian</td><td>1.0</td><td>0</td><td>20</td></tr><tr><td>1997</td><td>Norberto Fontana</td><td>82</td><td>Argentine</td><td>0.0</td><td>0</td><td>21</td></tr><tr><td>1997</td><td>Tarso Marques</td><td>58</td><td>Brazilian</td><td>0.0</td><td>0</td><td>21</td></tr><tr><td>1997</td><td>Ukyo Katayama</td><td>79</td><td>Japanese</td><td>0.0</td><td>0</td><td>21</td></tr><tr><td>1997</td><td>Jos Verstappen</td><td>50</td><td>Dutch</td><td>0.0</td><td>0</td><td>21</td></tr><tr><td>1997</td><td>Jan Magnussen</td><td>76</td><td>Danish</td><td>0.0</td><td>0</td><td>21</td></tr><tr><td>1997</td><td>Ricardo Rosset</td><td>73</td><td>Brazilian</td><td>0.0</td><td>0</td><td>21</td></tr><tr><td>1997</td><td>Vincenzo Sospiri</td><td>80</td><td>Italian</td><td>0.0</td><td>0</td><td>21</td></tr><tr><td>1997</td><td>Gianni Morbidelli</td><td>81</td><td>Italian</td><td>0.0</td><td>0</td><td>21</td></tr><tr><td>2003</td><td>Michael Schumacher</td><td>30</td><td>German</td><td>93.0</td><td>6</td><td>1</td></tr><tr><td>2003</td><td>Kimi Räikkönen</td><td>8</td><td>Finnish</td><td>91.0</td><td>1</td><td>2</td></tr><tr><td>2003</td><td>Juan Pablo Montoya</td><td>31</td><td>Colombian</td><td>82.0</td><td>2</td><td>3</td></tr><tr><td>2003</td><td>Rubens Barrichello</td><td>22</td><td>Brazilian</td><td>65.0</td><td>2</td><td>4</td></tr><tr><td>2003</td><td>Ralf Schumacher</td><td>23</td><td>German</td><td>58.0</td><td>2</td><td>5</td></tr><tr><td>2003</td><td>Fernando Alonso</td><td>4</td><td>Spanish</td><td>55.0</td><td>1</td><td>6</td></tr><tr><td>2003</td><td>David Coulthard</td><td>14</td><td>British</td><td>51.0</td><td>1</td><td>7</td></tr><tr><td>2003</td><td>Jarno Trulli</td><td>15</td><td>Italian</td><td>33.0</td><td>0</td><td>8</td></tr><tr><td>2003</td><td>Jenson Button</td><td>18</td><td>British</td><td>17.0</td><td>0</td><td>9</td></tr><tr><td>2003</td><td>Mark Webber</td><td>17</td><td>Australian</td><td>17.0</td><td>0</td><td>9</td></tr><tr><td>2003</td><td>Heinz-Harald Frentzen</td><td>49</td><td>German</td><td>13.0</td><td>0</td><td>11</td></tr><tr><td>2003</td><td>Giancarlo Fisichella</td><td>21</td><td>Italian</td><td>12.0</td><td>1</td><td>12</td></tr><tr><td>2003</td><td>Cristiano da Matta</td><td>43</td><td>Brazilian</td><td>10.0</td><td>0</td><td>13</td></tr><tr><td>2003</td><td>Jacques Villeneuve</td><td>35</td><td>Canadian</td><td>6.0</td><td>0</td><td>14</td></tr><tr><td>2003</td><td>Nick Heidfeld</td><td>2</td><td>German</td><td>6.0</td><td>0</td><td>14</td></tr><tr><td>2003</td><td>Olivier Panis</td><td>44</td><td>French</td><td>6.0</td><td>0</td><td>14</td></tr><tr><td>2003</td><td>Marc Gené</td><td>48</td><td>Spanish</td><td>4.0</td><td>0</td><td>17</td></tr><tr><td>2003</td><td>Takuma Sato</td><td>11</td><td>Japanese</td><td>3.0</td><td>0</td><td>18</td></tr><tr><td>2003</td><td>Justin Wilson</td><td>51</td><td>British</td><td>1.0</td><td>0</td><td>19</td></tr><tr><td>2003</td><td>Ralph Firman</td><td>52</td><td>Irish</td><td>1.0</td><td>0</td><td>19</td></tr><tr><td>2003</td><td>Jos Verstappen</td><td>50</td><td>Dutch</td><td>0.0</td><td>0</td><td>21</td></tr><tr><td>2003</td><td>Antônio Pizzonia</td><td>42</td><td>Brazilian</td><td>0.0</td><td>0</td><td>21</td></tr><tr><td>2003</td><td>Zsolt Baumgartner</td><td>47</td><td>Hungarian</td><td>0.0</td><td>0</td><td>21</td></tr><tr><td>2003</td><td>Nicolas Kiesa</td><td>53</td><td>Danish</td><td>0.0</td><td>0</td><td>21</td></tr><tr><td>2007</td><td>Kimi Räikkönen</td><td>8</td><td>Finnish</td><td>110.0</td><td>6</td><td>1</td></tr><tr><td>2007</td><td>Fernando Alonso</td><td>4</td><td>Spanish</td><td>109.0</td><td>4</td><td>2</td></tr><tr><td>2007</td><td>Lewis Hamilton</td><td>1</td><td>British</td><td>109.0</td><td>4</td><td>2</td></tr><tr><td>2007</td><td>Felipe Massa</td><td>13</td><td>Brazilian</td><td>94.0</td><td>3</td><td>4</td></tr><tr><td>2007</td><td>Nick Heidfeld</td><td>2</td><td>German</td><td>61.0</td><td>0</td><td>5</td></tr><tr><td>2007</td><td>Robert Kubica</td><td>9</td><td>Polish</td><td>39.0</td><td>0</td><td>6</td></tr><tr><td>2007</td><td>Heikki Kovalainen</td><td>5</td><td>Finnish</td><td>30.0</td><td>0</td><td>7</td></tr><tr><td>2007</td><td>Giancarlo Fisichella</td><td>21</td><td>Italian</td><td>21.0</td><td>0</td><td>8</td></tr><tr><td>2007</td><td>Nico Rosberg</td><td>3</td><td>German</td><td>20.0</td><td>0</td><td>9</td></tr><tr><td>2007</td><td>David Coulthard</td><td>14</td><td>British</td><td>14.0</td><td>0</td><td>10</td></tr><tr><td>2007</td><td>Alexander Wurz</td><td>25</td><td>Austrian</td><td>13.0</td><td>0</td><td>11</td></tr><tr><td>2007</td><td>Mark Webber</td><td>17</td><td>Australian</td><td>10.0</td><td>0</td><td>12</td></tr><tr><td>2007</td><td>Jarno Trulli</td><td>15</td><td>Italian</td><td>8.0</td><td>0</td><td>13</td></tr><tr><td>2007</td><td>Sebastian Vettel</td><td>20</td><td>German</td><td>6.0</td><td>0</td><td>14</td></tr><tr><td>2007</td><td>Jenson Button</td><td>18</td><td>British</td><td>6.0</td><td>0</td><td>14</td></tr><tr><td>2007</td><td>Ralf Schumacher</td><td>23</td><td>German</td><td>5.0</td><td>0</td><td>16</td></tr><tr><td>2007</td><td>Takuma Sato</td><td>11</td><td>Japanese</td><td>4.0</td><td>0</td><td>17</td></tr><tr><td>2007</td><td>Vitantonio Liuzzi</td><td>24</td><td>Italian</td><td>3.0</td><td>0</td><td>18</td></tr><tr><td>2007</td><td>Adrian Sutil</td><td>16</td><td>German</td><td>1.0</td><td>0</td><td>19</td></tr><tr><td>2007</td><td>Sakon Yamamoto</td><td>29</td><td>Japanese</td><td>0.0</td><td>0</td><td>20</td></tr><tr><td>2007</td><td>Rubens Barrichello</td><td>22</td><td>Brazilian</td><td>0.0</td><td>0</td><td>20</td></tr><tr><td>2007</td><td>Anthony Davidson</td><td>19</td><td>British</td><td>0.0</td><td>0</td><td>20</td></tr><tr><td>2007</td><td>Christijan Albers</td><td>27</td><td>Dutch</td><td>0.0</td><td>0</td><td>20</td></tr><tr><td>2007</td><td>Scott Speed</td><td>26</td><td>American</td><td>0.0</td><td>0</td><td>20</td></tr><tr><td>2007</td><td>Kazuki Nakajima</td><td>6</td><td>Japanese</td><td>0.0</td><td>0</td><td>20</td></tr><tr><td>2007</td><td>Markus Winkelhock</td><td>28</td><td>German</td><td>0.0</td><td>0</td><td>20</td></tr><tr><td>2004</td><td>Michael Schumacher</td><td>30</td><td>German</td><td>148.0</td><td>13</td><td>1</td></tr><tr><td>2004</td><td>Rubens Barrichello</td><td>22</td><td>Brazilian</td><td>114.0</td><td>2</td><td>2</td></tr><tr><td>2004</td><td>Jenson Button</td><td>18</td><td>British</td><td>85.0</td><td>0</td><td>3</td></tr><tr><td>2004</td><td>Fernando Alonso</td><td>4</td><td>Spanish</td><td>59.0</td><td>0</td><td>4</td></tr><tr><td>2004</td><td>Juan Pablo Montoya</td><td>31</td><td>Colombian</td><td>58.0</td><td>1</td><td>5</td></tr><tr><td>2004</td><td>Jarno Trulli</td><td>15</td><td>Italian</td><td>46.0</td><td>1</td><td>6</td></tr><tr><td>2004</td><td>Kimi Räikkönen</td><td>8</td><td>Finnish</td><td>45.0</td><td>1</td><td>7</td></tr><tr><td>2004</td><td>Takuma Sato</td><td>11</td><td>Japanese</td><td>34.0</td><td>0</td><td>8</td></tr><tr><td>2004</td><td>David Coulthard</td><td>14</td><td>British</td><td>24.0</td><td>0</td><td>9</td></tr><tr><td>2004</td><td>Ralf Schumacher</td><td>23</td><td>German</td><td>24.0</td><td>0</td><td>9</td></tr><tr><td>2004</td><td>Giancarlo Fisichella</td><td>21</td><td>Italian</td><td>22.0</td><td>0</td><td>11</td></tr><tr><td>2004</td><td>Felipe Massa</td><td>13</td><td>Brazilian</td><td>12.0</td><td>0</td><td>12</td></tr><tr><td>2004</td><td>Mark Webber</td><td>17</td><td>Australian</td><td>7.0</td><td>0</td><td>13</td></tr><tr><td>2004</td><td>Antônio Pizzonia</td><td>42</td><td>Brazilian</td><td>6.0</td><td>0</td><td>14</td></tr><tr><td>2004</td><td>Olivier Panis</td><td>44</td><td>French</td><td>6.0</td><td>0</td><td>14</td></tr><tr><td>2004</td><td>Nick Heidfeld</td><td>2</td><td>German</td><td>3.0</td><td>0</td><td>16</td></tr><tr><td>2004</td><td>Cristiano da Matta</td><td>43</td><td>Brazilian</td><td>3.0</td><td>0</td><td>16</td></tr><tr><td>2004</td><td>Christian Klien</td><td>32</td><td>Austrian</td><td>3.0</td><td>0</td><td>16</td></tr><tr><td>2004</td><td>Timo Glock</td><td>10</td><td>German</td><td>2.0</td><td>0</td><td>19</td></tr><tr><td>2004</td><td>Zsolt Baumgartner</td><td>47</td><td>Hungarian</td><td>1.0</td><td>0</td><td>20</td></tr><tr><td>2004</td><td>Gianmaria Bruni</td><td>46</td><td>Italian</td><td>0.0</td><td>0</td><td>21</td></tr><tr><td>2004</td><td>Ricardo Zonta</td><td>41</td><td>Brazilian</td><td>0.0</td><td>0</td><td>21</td></tr><tr><td>2004</td><td>Marc Gené</td><td>48</td><td>Spanish</td><td>0.0</td><td>0</td><td>21</td></tr><tr><td>2004</td><td>Jacques Villeneuve</td><td>35</td><td>Canadian</td><td>0.0</td><td>0</td><td>21</td></tr><tr><td>2004</td><td>Giorgio Pantano</td><td>45</td><td>Italian</td><td>0.0</td><td>0</td><td>21</td></tr><tr><td>2009</td><td>Jenson Button</td><td>18</td><td>British</td><td>95.0</td><td>6</td><td>1</td></tr><tr><td>2009</td><td>Sebastian Vettel</td><td>20</td><td>German</td><td>84.0</td><td>4</td><td>2</td></tr><tr><td>2009</td><td>Rubens Barrichello</td><td>22</td><td>Brazilian</td><td>77.0</td><td>2</td><td>3</td></tr><tr><td>2009</td><td>Mark Webber</td><td>17</td><td>Australian</td><td>69.5</td><td>2</td><td>4</td></tr><tr><td>2009</td><td>Lewis Hamilton</td><td>1</td><td>British</td><td>49.0</td><td>2</td><td>5</td></tr><tr><td>2009</td><td>Kimi Räikkönen</td><td>8</td><td>Finnish</td><td>48.0</td><td>1</td><td>6</td></tr><tr><td>2009</td><td>Nico Rosberg</td><td>3</td><td>German</td><td>34.5</td><td>0</td><td>7</td></tr><tr><td>2009</td><td>Jarno Trulli</td><td>15</td><td>Italian</td><td>32.5</td><td>0</td><td>8</td></tr><tr><td>2009</td><td>Fernando Alonso</td><td>4</td><td>Spanish</td><td>26.0</td><td>0</td><td>9</td></tr><tr><td>2009</td><td>Timo Glock</td><td>10</td><td>German</td><td>24.0</td><td>0</td><td>10</td></tr><tr><td>2009</td><td>Heikki Kovalainen</td><td>5</td><td>Finnish</td><td>22.0</td><td>0</td><td>11</td></tr><tr><td>2009</td><td>Felipe Massa</td><td>13</td><td>Brazilian</td><td>22.0</td><td>0</td><td>11</td></tr><tr><td>2009</td><td>Nick Heidfeld</td><td>2</td><td>German</td><td>19.0</td><td>0</td><td>13</td></tr><tr><td>2009</td><td>Robert Kubica</td><td>9</td><td>Polish</td><td>17.0</td><td>0</td><td>14</td></tr><tr><td>2009</td><td>Giancarlo Fisichella</td><td>21</td><td>Italian</td><td>8.0</td><td>0</td><td>15</td></tr><tr><td>2009</td><td>Sébastien Buemi</td><td>67</td><td>Swiss</td><td>6.0</td><td>0</td><td>16</td></tr><tr><td>2009</td><td>Adrian Sutil</td><td>16</td><td>German</td><td>5.0</td><td>0</td><td>17</td></tr><tr><td>2009</td><td>Kamui Kobayashi</td><td>155</td><td>Japanese</td><td>3.0</td><td>0</td><td>18</td></tr><tr><td>2009</td><td>Sébastien Bourdais</td><td>7</td><td>French</td><td>2.0</td><td>0</td><td>19</td></tr><tr><td>2009</td><td>Nelson Piquet Jr.</td><td>12</td><td>Brazilian</td><td>0.0</td><td>0</td><td>20</td></tr><tr><td>2009</td><td>Luca Badoer</td><td>69</td><td>Italian</td><td>0.0</td><td>0</td><td>20</td></tr><tr><td>2009</td><td>Romain Grosjean</td><td>154</td><td>French</td><td>0.0</td><td>0</td><td>20</td></tr><tr><td>2009</td><td>Jaime Alguersuari</td><td>153</td><td>Spanish</td><td>0.0</td><td>0</td><td>20</td></tr><tr><td>2009</td><td>Vitantonio Liuzzi</td><td>24</td><td>Italian</td><td>0.0</td><td>0</td><td>20</td></tr><tr><td>2009</td><td>Kazuki Nakajima</td><td>6</td><td>Japanese</td><td>0.0</td><td>0</td><td>20</td></tr><tr><td>2001</td><td>Michael Schumacher</td><td>30</td><td>German</td><td>123.0</td><td>9</td><td>1</td></tr><tr><td>2001</td><td>David Coulthard</td><td>14</td><td>British</td><td>65.0</td><td>2</td><td>2</td></tr><tr><td>2001</td><td>Rubens Barrichello</td><td>22</td><td>Brazilian</td><td>56.0</td><td>0</td><td>3</td></tr><tr><td>2001</td><td>Ralf Schumacher</td><td>23</td><td>German</td><td>49.0</td><td>3</td><td>4</td></tr><tr><td>2001</td><td>Mika Häkkinen</td><td>57</td><td>Finnish</td><td>37.0</td><td>2</td><td>5</td></tr><tr><td>2001</td><td>Juan Pablo Montoya</td><td>31</td><td>Colombian</td><td>31.0</td><td>1</td><td>6</td></tr><tr><td>2001</td><td>Jacques Villeneuve</td><td>35</td><td>Canadian</td><td>12.0</td><td>0</td><td>7</td></tr><tr><td>2001</td><td>Nick Heidfeld</td><td>2</td><td>German</td><td>12.0</td><td>0</td><td>7</td></tr><tr><td>2001</td><td>Jarno Trulli</td><td>15</td><td>Italian</td><td>12.0</td><td>0</td><td>7</td></tr><tr><td>2001</td><td>Kimi Räikkönen</td><td>8</td><td>Finnish</td><td>9.0</td><td>0</td><td>10</td></tr><tr><td>2001</td><td>Giancarlo Fisichella</td><td>21</td><td>Italian</td><td>8.0</td><td>0</td><td>11</td></tr><tr><td>2001</td><td>Eddie Irvine</td><td>56</td><td>British</td><td>6.0</td><td>0</td><td>12</td></tr><tr><td>2001</td><td>Heinz-Harald Frentzen</td><td>49</td><td>German</td><td>6.0</td><td>0</td><td>12</td></tr><tr><td>2001</td><td>Jean Alesi</td><td>55</td><td>French</td><td>5.0</td><td>0</td><td>14</td></tr><tr><td>2001</td><td>Olivier Panis</td><td>44</td><td>French</td><td>5.0</td><td>0</td><td>14</td></tr><tr><td>2001</td><td>Pedro de la Rosa</td><td>37</td><td>Spanish</td><td>3.0</td><td>0</td><td>16</td></tr><tr><td>2001</td><td>Jenson Button</td><td>18</td><td>British</td><td>2.0</td><td>0</td><td>17</td></tr><tr><td>2001</td><td>Jos Verstappen</td><td>50</td><td>Dutch</td><td>1.0</td><td>0</td><td>18</td></tr><tr><td>2001</td><td>Tomáš Enge</td><td>61</td><td>Czech</td><td>0.0</td><td>0</td><td>19</td></tr><tr><td>2001</td><td>Gastón Mazzacane</td><td>60</td><td>Argentine</td><td>0.0</td><td>0</td><td>19</td></tr><tr><td>2001</td><td>Tarso Marques</td><td>58</td><td>Brazilian</td><td>0.0</td><td>0</td><td>19</td></tr><tr><td>2001</td><td>Fernando Alonso</td><td>4</td><td>Spanish</td><td>0.0</td><td>0</td><td>19</td></tr><tr><td>2001</td><td>Enrique Bernoldi</td><td>59</td><td>Brazilian</td><td>0.0</td><td>0</td><td>19</td></tr><tr><td>2001</td><td>Alex Yoong</td><td>62</td><td>Malaysian</td><td>0.0</td><td>0</td><td>19</td></tr><tr><td>2001</td><td>Luciano Burti</td><td>54</td><td>Brazilian</td><td>0.0</td><td>0</td><td>19</td></tr><tr><td>2001</td><td>Ricardo Zonta</td><td>41</td><td>Brazilian</td><td>0.0</td><td>0</td><td>19</td></tr><tr><td>1969</td><td>Jackie Stewart</td><td>328</td><td>British</td><td>63.0</td><td>6</td><td>1</td></tr><tr><td>1969</td><td>Jacky Ickx</td><td>235</td><td>Belgian</td><td>37.0</td><td>2</td><td>2</td></tr><tr><td>1969</td><td>Bruce McLaren</td><td>360</td><td>New Zealander</td><td>26.0</td><td>0</td><td>3</td></tr><tr><td>1969</td><td>Jochen Rindt</td><td>358</td><td>Austrian</td><td>22.0</td><td>1</td><td>4</td></tr><tr><td>1969</td><td>Jean-Pierre Beltoise</td><td>306</td><td>French</td><td>21.0</td><td>0</td><td>5</td></tr><tr><td>1969</td><td>Denny Hulme</td><td>304</td><td>New Zealander</td><td>20.0</td><td>1</td><td>6</td></tr><tr><td>1969</td><td>Graham Hill</td><td>289</td><td>British</td><td>19.0</td><td>1</td><td>7</td></tr><tr><td>1969</td><td>Piers Courage</td><td>361</td><td>British</td><td>16.0</td><td>0</td><td>8</td></tr><tr><td>1969</td><td>Jo Siffert</td><td>346</td><td>Swiss</td><td>15.0</td><td>0</td><td>9</td></tr><tr><td>1969</td><td>Jack Brabham</td><td>356</td><td>Australian</td><td>14.0</td><td>0</td><td>10</td></tr><tr><td>1969</td><td>John Surtees</td><td>341</td><td>British</td><td>6.0</td><td>0</td><td>11</td></tr><tr><td>1969</td><td>Chris Amon</td><td>278</td><td>New Zealander</td><td>4.0</td><td>0</td><td>12</td></tr><tr><td>1969</td><td>Pedro Rodríguez</td><td>345</td><td>Mexican</td><td>3.0</td><td>0</td><td>13</td></tr><tr><td>1969</td><td>Vic Elford</td><td>350</td><td>British</td><td>3.0</td><td>0</td><td>13</td></tr><tr><td>1969</td><td>Richard Attwood</td><td>370</td><td>British</td><td>3.0</td><td>0</td><td>13</td></tr><tr><td>1969</td><td>Jackie Oliver</td><td>262</td><td>British</td><td>1.0</td><td>0</td><td>16</td></tr><tr><td>1969</td><td>Johnny Servoz-Gavin</td><td>359</td><td>French</td><td>1.0</td><td>0</td><td>16</td></tr><tr><td>1969</td><td>Silvio Moser</td><td>351</td><td>Swiss</td><td>1.0</td><td>0</td><td>16</td></tr><tr><td>1969</td><td>Sam Tingle</td><td>368</td><td>Rhodesian</td><td>0.0</td><td>0</td><td>19</td></tr><tr><td>1969</td><td>Peter de Klerk</td><td>362</td><td>South African</td><td>0.0</td><td>0</td><td>19</td></tr><tr><td>1969</td><td>Mario Andretti</td><td>207</td><td>American</td><td>0.0</td><td>0</td><td>19</td></tr><tr><td>1969</td><td>John Love</td><td>340</td><td>Rhodesian</td><td>0.0</td><td>0</td><td>19</td></tr><tr><td>1969</td><td>Basil van Rooyen</td><td>369</td><td>South African</td><td>0.0</td><td>0</td><td>19</td></tr><tr><td>1969</td><td>John Miles</td><td>357</td><td>British</td><td>0.0</td><td>0</td><td>19</td></tr><tr><td>1969</td><td>Al Pease</td><td>371</td><td>Canadian</td><td>0.0</td><td>0</td><td>19</td></tr><tr><td>1969</td><td>George Eaton</td><td>352</td><td>Canadian</td><td>0.0</td><td>0</td><td>19</td></tr><tr><td>1969</td><td>Jo Bonnier</td><td>347</td><td>Swedish</td><td>0.0</td><td>0</td><td>19</td></tr><tr><td>1969</td><td>Derek Bell</td><td>321</td><td>British</td><td>0.0</td><td>0</td><td>19</td></tr><tr><td>1969</td><td>Bill Brack</td><td>343</td><td>Canadian</td><td>0.0</td><td>0</td><td>19</td></tr><tr><td>1969</td><td>Pete Lovely</td><td>353</td><td>American</td><td>0.0</td><td>0</td><td>19</td></tr><tr><td>1969</td><td>John Cordts</td><td>372</td><td>Canadian</td><td>0.0</td><td>0</td><td>19</td></tr><tr><td>1966</td><td>Jack Brabham</td><td>356</td><td>Australian</td><td>45.0</td><td>4</td><td>1</td></tr><tr><td>1966</td><td>John Surtees</td><td>341</td><td>British</td><td>28.0</td><td>2</td><td>2</td></tr><tr><td>1966</td><td>Jochen Rindt</td><td>358</td><td>Austrian</td><td>24.0</td><td>0</td><td>3</td></tr><tr><td>1966</td><td>Denny Hulme</td><td>304</td><td>New Zealander</td><td>18.0</td><td>0</td><td>4</td></tr><tr><td>1966</td><td>Graham Hill</td><td>289</td><td>British</td><td>17.0</td><td>0</td><td>5</td></tr><tr><td>1966</td><td>Jim Clark</td><td>373</td><td>British</td><td>16.0</td><td>1</td><td>6</td></tr><tr><td>1966</td><td>Jackie Stewart</td><td>328</td><td>British</td><td>14.0</td><td>1</td><td>7</td></tr><tr><td>1966</td><td>Lorenzo Bandini</td><td>385</td><td>Italian</td><td>12.0</td><td>0</td><td>8</td></tr><tr><td>1966</td><td>Mike Parkes</td><td>387</td><td>British</td><td>12.0</td><td>0</td><td>8</td></tr><tr><td>1966</td><td>Ludovico Scarfiotti</td><td>375</td><td>Italian</td><td>9.0</td><td>1</td><td>10</td></tr><tr><td>1966</td><td>Richie Ginther</td><td>386</td><td>American</td><td>5.0</td><td>0</td><td>11</td></tr><tr><td>1966</td><td>Mike Spence</td><td>374</td><td>British</td><td>4.0</td><td>0</td><td>12</td></tr><tr><td>1966</td><td>Dan Gurney</td><td>364</td><td>American</td><td>4.0</td><td>0</td><td>12</td></tr><tr><td>1966</td><td>Bob Bondurant</td><td>396</td><td>American</td><td>3.0</td><td>0</td><td>14</td></tr><tr><td>1966</td><td>Bruce McLaren</td><td>360</td><td>New Zealander</td><td>3.0</td><td>0</td><td>14</td></tr><tr><td>1966</td><td>Jo Siffert</td><td>346</td><td>Swiss</td><td>3.0</td><td>0</td><td>14</td></tr><tr><td>1966</td><td>Peter Arundell</td><td>397</td><td>British</td><td>1.0</td><td>0</td><td>17</td></tr><tr><td>1966</td><td>Bob Anderson</td><td>383</td><td>British</td><td>1.0</td><td>0</td><td>17</td></tr><tr><td>1966</td><td>Jo Bonnier</td><td>347</td><td>Swedish</td><td>1.0</td><td>0</td><td>17</td></tr><tr><td>1966</td><td>John Taylor</td><td>399</td><td>British</td><td>1.0</td><td>0</td><td>17</td></tr><tr><td>1966</td><td>Pedro Rodríguez</td><td>345</td><td>Mexican</td><td>0.0</td><td>0</td><td>21</td></tr><tr><td>1966</td><td>Phil Hill</td><td>403</td><td>American</td><td>0.0</td><td>0</td><td>21</td></tr><tr><td>1966</td><td>Ronnie Bucknum</td><td>405</td><td>American</td><td>0.0</td><td>0</td><td>21</td></tr><tr><td>1966</td><td>Innes Ireland</td><td>404</td><td>British</td><td>0.0</td><td>0</td><td>21</td></tr><tr><td>1966</td><td>Giacomo Russo</td><td>402</td><td>Italian</td><td>0.0</td><td>0</td><td>21</td></tr><tr><td>1966</td><td>Giancarlo Baghetti</td><td>394</td><td>Italian</td><td>0.0</td><td>0</td><td>21</td></tr><tr><td>1966</td><td>Chris Amon</td><td>278</td><td>New Zealander</td><td>0.0</td><td>0</td><td>21</td></tr><tr><td>1966</td><td>Moisés Solana</td><td>382</td><td>Mexican</td><td>0.0</td><td>0</td><td>21</td></tr><tr><td>1966</td><td>Chris Irwin</td><td>388</td><td>British</td><td>0.0</td><td>0</td><td>21</td></tr><tr><td>1966</td><td>Chris Lawrence</td><td>400</td><td>British</td><td>0.0</td><td>0</td><td>21</td></tr><tr><td>1966</td><td>Trevor Taylor</td><td>401</td><td>British</td><td>0.0</td><td>0</td><td>21</td></tr><tr><td>1966</td><td>Guy Ligier</td><td>389</td><td>French</td><td>0.0</td><td>0</td><td>21</td></tr><tr><td>1966</td><td>Vic Wilson</td><td>398</td><td>British</td><td>0.0</td><td>0</td><td>21</td></tr><tr><td>2016</td><td>Nico Rosberg</td><td>3</td><td>German</td><td>385.0</td><td>9</td><td>1</td></tr><tr><td>2016</td><td>Lewis Hamilton</td><td>1</td><td>British</td><td>380.0</td><td>10</td><td>2</td></tr><tr><td>2016</td><td>Daniel Ricciardo</td><td>817</td><td>Australian</td><td>256.0</td><td>1</td><td>3</td></tr><tr><td>2016</td><td>Sebastian Vettel</td><td>20</td><td>German</td><td>212.0</td><td>0</td><td>4</td></tr><tr><td>2016</td><td>Max Verstappen</td><td>830</td><td>Dutch</td><td>204.0</td><td>1</td><td>5</td></tr><tr><td>2016</td><td>Kimi Räikkönen</td><td>8</td><td>Finnish</td><td>186.0</td><td>0</td><td>6</td></tr><tr><td>2016</td><td>Sergio Pérez</td><td>815</td><td>Mexican</td><td>101.0</td><td>0</td><td>7</td></tr><tr><td>2016</td><td>Valtteri Bottas</td><td>822</td><td>Finnish</td><td>85.0</td><td>0</td><td>8</td></tr><tr><td>2016</td><td>Nico Hülkenberg</td><td>807</td><td>German</td><td>72.0</td><td>0</td><td>9</td></tr><tr><td>2016</td><td>Fernando Alonso</td><td>4</td><td>Spanish</td><td>54.0</td><td>0</td><td>10</td></tr><tr><td>2016</td><td>Felipe Massa</td><td>13</td><td>Brazilian</td><td>53.0</td><td>0</td><td>11</td></tr><tr><td>2016</td><td>Carlos Sainz</td><td>832</td><td>Spanish</td><td>46.0</td><td>0</td><td>12</td></tr><tr><td>2016</td><td>Romain Grosjean</td><td>154</td><td>French</td><td>29.0</td><td>0</td><td>13</td></tr><tr><td>2016</td><td>Daniil Kvyat</td><td>826</td><td>Russian</td><td>25.0</td><td>0</td><td>14</td></tr><tr><td>2016</td><td>Jenson Button</td><td>18</td><td>British</td><td>21.0</td><td>0</td><td>15</td></tr><tr><td>2016</td><td>Kevin Magnussen</td><td>825</td><td>Danish</td><td>7.0</td><td>0</td><td>16</td></tr><tr><td>2016</td><td>Felipe Nasr</td><td>831</td><td>Brazilian</td><td>2.0</td><td>0</td><td>17</td></tr><tr><td>2016</td><td>Pascal Wehrlein</td><td>836</td><td>German</td><td>1.0</td><td>0</td><td>18</td></tr><tr><td>2016</td><td>Jolyon Palmer</td><td>835</td><td>British</td><td>1.0</td><td>0</td><td>18</td></tr><tr><td>2016</td><td>Stoffel Vandoorne</td><td>838</td><td>Belgian</td><td>1.0</td><td>0</td><td>18</td></tr><tr><td>2016</td><td>Rio Haryanto</td><td>837</td><td>Indonesian</td><td>0.0</td><td>0</td><td>21</td></tr><tr><td>2016</td><td>Marcus Ericsson</td><td>828</td><td>Swedish</td><td>0.0</td><td>0</td><td>21</td></tr><tr><td>2016</td><td>Esteban Gutiérrez</td><td>821</td><td>Mexican</td><td>0.0</td><td>0</td><td>21</td></tr><tr><td>2016</td><td>Esteban Ocon</td><td>839</td><td>French</td><td>0.0</td><td>0</td><td>21</td></tr><tr><td>2020</td><td>Lewis Hamilton</td><td>1</td><td>British</td><td>347.0</td><td>11</td><td>1</td></tr><tr><td>2020</td><td>Valtteri Bottas</td><td>822</td><td>Finnish</td><td>223.0</td><td>2</td><td>2</td></tr><tr><td>2020</td><td>Max Verstappen</td><td>830</td><td>Dutch</td><td>214.0</td><td>2</td><td>3</td></tr><tr><td>2020</td><td>Sergio Pérez</td><td>815</td><td>Mexican</td><td>125.0</td><td>1</td><td>4</td></tr><tr><td>2020</td><td>Daniel Ricciardo</td><td>817</td><td>Australian</td><td>119.0</td><td>0</td><td>5</td></tr><tr><td>2020</td><td>Alexander Albon</td><td>848</td><td>Thai</td><td>105.0</td><td>0</td><td>6</td></tr><tr><td>2020</td><td>Carlos Sainz</td><td>832</td><td>Spanish</td><td>105.0</td><td>0</td><td>6</td></tr><tr><td>2020</td><td>Charles Leclerc</td><td>844</td><td>Monegasque</td><td>98.0</td><td>0</td><td>8</td></tr><tr><td>2020</td><td>Lando Norris</td><td>846</td><td>British</td><td>97.0</td><td>0</td><td>9</td></tr><tr><td>2020</td><td>Pierre Gasly</td><td>842</td><td>French</td><td>75.0</td><td>1</td><td>10</td></tr><tr><td>2020</td><td>Lance Stroll</td><td>840</td><td>Canadian</td><td>75.0</td><td>0</td><td>11</td></tr><tr><td>2020</td><td>Esteban Ocon</td><td>839</td><td>French</td><td>62.0</td><td>0</td><td>12</td></tr><tr><td>2020</td><td>Sebastian Vettel</td><td>20</td><td>German</td><td>33.0</td><td>0</td><td>13</td></tr><tr><td>2020</td><td>Daniil Kvyat</td><td>826</td><td>Russian</td><td>32.0</td><td>0</td><td>14</td></tr><tr><td>2020</td><td>Nico Hülkenberg</td><td>807</td><td>German</td><td>10.0</td><td>0</td><td>15</td></tr><tr><td>2020</td><td>Antonio Giovinazzi</td><td>841</td><td>Italian</td><td>4.0</td><td>0</td><td>16</td></tr><tr><td>2020</td><td>Kimi Räikkönen</td><td>8</td><td>Finnish</td><td>4.0</td><td>0</td><td>16</td></tr><tr><td>2020</td><td>George Russell</td><td>847</td><td>British</td><td>3.0</td><td>0</td><td>18</td></tr><tr><td>2020</td><td>Romain Grosjean</td><td>154</td><td>French</td><td>2.0</td><td>0</td><td>19</td></tr><tr><td>2020</td><td>Kevin Magnussen</td><td>825</td><td>Danish</td><td>1.0</td><td>0</td><td>20</td></tr><tr><td>2020</td><td>Nicholas Latifi</td><td>849</td><td>Canadian</td><td>0.0</td><td>0</td><td>21</td></tr><tr><td>2020</td><td>Pietro Fittipaldi</td><td>850</td><td>Brazilian</td><td>0.0</td><td>0</td><td>21</td></tr><tr><td>2020</td><td>Jack Aitken</td><td>851</td><td>British</td><td>0.0</td><td>0</td><td>21</td></tr><tr><td>1996</td><td>Damon Hill</td><td>71</td><td>British</td><td>97.0</td><td>8</td><td>1</td></tr><tr><td>1996</td><td>Jacques Villeneuve</td><td>35</td><td>Canadian</td><td>78.0</td><td>4</td><td>2</td></tr><tr><td>1996</td><td>Michael Schumacher</td><td>30</td><td>German</td><td>59.0</td><td>3</td><td>3</td></tr><tr><td>1996</td><td>Jean Alesi</td><td>55</td><td>French</td><td>47.0</td><td>0</td><td>4</td></tr><tr><td>1996</td><td>Mika Häkkinen</td><td>57</td><td>Finnish</td><td>31.0</td><td>0</td><td>5</td></tr><tr><td>1996</td><td>Gerhard Berger</td><td>77</td><td>Austrian</td><td>21.0</td><td>0</td><td>6</td></tr><tr><td>1996</td><td>David Coulthard</td><td>14</td><td>British</td><td>18.0</td><td>0</td><td>7</td></tr><tr><td>1996</td><td>Rubens Barrichello</td><td>22</td><td>Brazilian</td><td>14.0</td><td>0</td><td>8</td></tr><tr><td>1996</td><td>Olivier Panis</td><td>44</td><td>French</td><td>13.0</td><td>1</td><td>9</td></tr><tr><td>1996</td><td>Eddie Irvine</td><td>56</td><td>British</td><td>11.0</td><td>0</td><td>10</td></tr><tr><td>1996</td><td>Martin Brundle</td><td>84</td><td>British</td><td>8.0</td><td>0</td><td>11</td></tr><tr><td>1996</td><td>Heinz-Harald Frentzen</td><td>49</td><td>German</td><td>7.0</td><td>0</td><td>12</td></tr><tr><td>1996</td><td>Mika Salo</td><td>63</td><td>Finnish</td><td>5.0</td><td>0</td><td>13</td></tr><tr><td>1996</td><td>Johnny Herbert</td><td>65</td><td>British</td><td>4.0</td><td>0</td><td>14</td></tr><tr><td>1996</td><td>Pedro Diniz</td><td>64</td><td>Brazilian</td><td>2.0</td><td>0</td><td>15</td></tr><tr><td>1996</td><td>Jos Verstappen</td><td>50</td><td>Dutch</td><td>1.0</td><td>0</td><td>16</td></tr><tr><td>1996</td><td>Ukyo Katayama</td><td>79</td><td>Japanese</td><td>0.0</td><td>0</td><td>17</td></tr><tr><td>1996</td><td>Tarso Marques</td><td>58</td><td>Brazilian</td><td>0.0</td><td>0</td><td>17</td></tr><tr><td>1996</td><td>Luca Badoer</td><td>69</td><td>Italian</td><td>0.0</td><td>0</td><td>17</td></tr><tr><td>1996</td><td>Andrea Montermini</td><td>85</td><td>Italian</td><td>0.0</td><td>0</td><td>17</td></tr><tr><td>1996</td><td>Ricardo Rosset</td><td>73</td><td>Brazilian</td><td>0.0</td><td>0</td><td>17</td></tr><tr><td>1996</td><td>Pedro Lamy</td><td>83</td><td>Portuguese</td><td>0.0</td><td>0</td><td>17</td></tr><tr><td>1996</td><td>Giancarlo Fisichella</td><td>21</td><td>Italian</td><td>0.0</td><td>0</td><td>17</td></tr><tr><td>1996</td><td>Giovanni Lavaggi</td><td>86</td><td>Italian</td><td>0.0</td><td>0</td><td>17</td></tr><tr><td>2014</td><td>Lewis Hamilton</td><td>1</td><td>British</td><td>384.0</td><td>11</td><td>1</td></tr><tr><td>2014</td><td>Nico Rosberg</td><td>3</td><td>German</td><td>317.0</td><td>5</td><td>2</td></tr><tr><td>2014</td><td>Daniel Ricciardo</td><td>817</td><td>Australian</td><td>238.0</td><td>3</td><td>3</td></tr><tr><td>2014</td><td>Valtteri Bottas</td><td>822</td><td>Finnish</td><td>186.0</td><td>0</td><td>4</td></tr><tr><td>2014</td><td>Sebastian Vettel</td><td>20</td><td>German</td><td>167.0</td><td>0</td><td>5</td></tr><tr><td>2014</td><td>Fernando Alonso</td><td>4</td><td>Spanish</td><td>161.0</td><td>0</td><td>6</td></tr><tr><td>2014</td><td>Felipe Massa</td><td>13</td><td>Brazilian</td><td>134.0</td><td>0</td><td>7</td></tr><tr><td>2014</td><td>Jenson Button</td><td>18</td><td>British</td><td>126.0</td><td>0</td><td>8</td></tr><tr><td>2014</td><td>Nico Hülkenberg</td><td>807</td><td>German</td><td>96.0</td><td>0</td><td>9</td></tr><tr><td>2014</td><td>Sergio Pérez</td><td>815</td><td>Mexican</td><td>59.0</td><td>0</td><td>10</td></tr><tr><td>2014</td><td>Kimi Räikkönen</td><td>8</td><td>Finnish</td><td>55.0</td><td>0</td><td>11</td></tr><tr><td>2014</td><td>Kevin Magnussen</td><td>825</td><td>Danish</td><td>55.0</td><td>0</td><td>11</td></tr><tr><td>2014</td><td>Jean-Éric Vergne</td><td>818</td><td>French</td><td>22.0</td><td>0</td><td>13</td></tr><tr><td>2014</td><td>Daniil Kvyat</td><td>826</td><td>Russian</td><td>8.0</td><td>0</td><td>14</td></tr><tr><td>2014</td><td>Romain Grosjean</td><td>154</td><td>French</td><td>8.0</td><td>0</td><td>14</td></tr><tr><td>2014</td><td>Jules Bianchi</td><td>824</td><td>French</td><td>2.0</td><td>0</td><td>16</td></tr><tr><td>2014</td><td>Pastor Maldonado</td><td>813</td><td>Venezuelan</td><td>2.0</td><td>0</td><td>16</td></tr><tr><td>2014</td><td>Esteban Gutiérrez</td><td>821</td><td>Mexican</td><td>0.0</td><td>0</td><td>18</td></tr><tr><td>2014</td><td>André Lotterer</td><td>827</td><td>German</td><td>0.0</td><td>0</td><td>18</td></tr><tr><td>2014</td><td>Marcus Ericsson</td><td>828</td><td>Swedish</td><td>0.0</td><td>0</td><td>18</td></tr><tr><td>2014</td><td>Adrian Sutil</td><td>16</td><td>German</td><td>0.0</td><td>0</td><td>18</td></tr><tr><td>2014</td><td>Kamui Kobayashi</td><td>155</td><td>Japanese</td><td>0.0</td><td>0</td><td>18</td></tr><tr><td>2014</td><td>Max Chilton</td><td>820</td><td>British</td><td>0.0</td><td>0</td><td>18</td></tr><tr><td>2014</td><td>Will Stevens</td><td>829</td><td>British</td><td>0.0</td><td>0</td><td>18</td></tr><tr><td>1999</td><td>Mika Häkkinen</td><td>57</td><td>Finnish</td><td>76.0</td><td>5</td><td>1</td></tr><tr><td>1999</td><td>Eddie Irvine</td><td>56</td><td>British</td><td>74.0</td><td>4</td><td>2</td></tr><tr><td>1999</td><td>Heinz-Harald Frentzen</td><td>49</td><td>German</td><td>54.0</td><td>2</td><td>3</td></tr><tr><td>1999</td><td>David Coulthard</td><td>14</td><td>British</td><td>48.0</td><td>2</td><td>4</td></tr><tr><td>1999</td><td>Michael Schumacher</td><td>30</td><td>German</td><td>44.0</td><td>2</td><td>5</td></tr><tr><td>1999</td><td>Ralf Schumacher</td><td>23</td><td>German</td><td>35.0</td><td>0</td><td>6</td></tr><tr><td>1999</td><td>Rubens Barrichello</td><td>22</td><td>Brazilian</td><td>21.0</td><td>0</td><td>7</td></tr><tr><td>1999</td><td>Johnny Herbert</td><td>65</td><td>British</td><td>15.0</td><td>1</td><td>8</td></tr><tr><td>1999</td><td>Giancarlo Fisichella</td><td>21</td><td>Italian</td><td>13.0</td><td>0</td><td>9</td></tr><tr><td>1999</td><td>Mika Salo</td><td>63</td><td>Finnish</td><td>10.0</td><td>0</td><td>10</td></tr><tr><td>1999</td><td>Jarno Trulli</td><td>15</td><td>Italian</td><td>7.0</td><td>0</td><td>11</td></tr><tr><td>1999</td><td>Damon Hill</td><td>71</td><td>British</td><td>7.0</td><td>0</td><td>11</td></tr><tr><td>1999</td><td>Alexander Wurz</td><td>25</td><td>Austrian</td><td>3.0</td><td>0</td><td>13</td></tr><tr><td>1999</td><td>Pedro Diniz</td><td>64</td><td>Brazilian</td><td>3.0</td><td>0</td><td>13</td></tr><tr><td>1999</td><td>Olivier Panis</td><td>44</td><td>French</td><td>2.0</td><td>0</td><td>15</td></tr><tr><td>1999</td><td>Jean Alesi</td><td>55</td><td>French</td><td>2.0</td><td>0</td><td>15</td></tr><tr><td>1999</td><td>Pedro de la Rosa</td><td>37</td><td>Spanish</td><td>1.0</td><td>0</td><td>17</td></tr><tr><td>1999</td><td>Marc Gené</td><td>48</td><td>Spanish</td><td>1.0</td><td>0</td><td>17</td></tr><tr><td>1999</td><td>Jacques Villeneuve</td><td>35</td><td>Canadian</td><td>0.0</td><td>0</td><td>19</td></tr><tr><td>1999</td><td>Toranosuke Takagi</td><td>68</td><td>Japanese</td><td>0.0</td><td>0</td><td>19</td></tr><tr><td>1999</td><td>Ricardo Zonta</td><td>41</td><td>Brazilian</td><td>0.0</td><td>0</td><td>19</td></tr><tr><td>1999</td><td>Alessandro Zanardi</td><td>70</td><td>Italian</td><td>0.0</td><td>0</td><td>19</td></tr><tr><td>1999</td><td>Luca Badoer</td><td>69</td><td>Italian</td><td>0.0</td><td>0</td><td>19</td></tr><tr><td>1999</td><td>Stéphane Sarrazin</td><td>72</td><td>French</td><td>0.0</td><td>0</td><td>19</td></tr><tr><td>2015</td><td>Lewis Hamilton</td><td>1</td><td>British</td><td>381.0</td><td>10</td><td>1</td></tr><tr><td>2015</td><td>Nico Rosberg</td><td>3</td><td>German</td><td>322.0</td><td>6</td><td>2</td></tr><tr><td>2015</td><td>Sebastian Vettel</td><td>20</td><td>German</td><td>278.0</td><td>3</td><td>3</td></tr><tr><td>2015</td><td>Kimi Räikkönen</td><td>8</td><td>Finnish</td><td>150.0</td><td>0</td><td>4</td></tr><tr><td>2015</td><td>Valtteri Bottas</td><td>822</td><td>Finnish</td><td>136.0</td><td>0</td><td>5</td></tr><tr><td>2015</td><td>Felipe Massa</td><td>13</td><td>Brazilian</td><td>121.0</td><td>0</td><td>6</td></tr><tr><td>2015</td><td>Daniil Kvyat</td><td>826</td><td>Russian</td><td>95.0</td><td>0</td><td>7</td></tr><tr><td>2015</td><td>Daniel Ricciardo</td><td>817</td><td>Australian</td><td>92.0</td><td>0</td><td>8</td></tr><tr><td>2015</td><td>Sergio Pérez</td><td>815</td><td>Mexican</td><td>78.0</td><td>0</td><td>9</td></tr><tr><td>2015</td><td>Nico Hülkenberg</td><td>807</td><td>German</td><td>58.0</td><td>0</td><td>10</td></tr><tr><td>2015</td><td>Romain Grosjean</td><td>154</td><td>French</td><td>51.0</td><td>0</td><td>11</td></tr><tr><td>2015</td><td>Max Verstappen</td><td>830</td><td>Dutch</td><td>49.0</td><td>0</td><td>12</td></tr><tr><td>2015</td><td>Pastor Maldonado</td><td>813</td><td>Venezuelan</td><td>27.0</td><td>0</td><td>13</td></tr><tr><td>2015</td><td>Felipe Nasr</td><td>831</td><td>Brazilian</td><td>27.0</td><td>0</td><td>13</td></tr><tr><td>2015</td><td>Carlos Sainz</td><td>832</td><td>Spanish</td><td>18.0</td><td>0</td><td>15</td></tr><tr><td>2015</td><td>Jenson Button</td><td>18</td><td>British</td><td>16.0</td><td>0</td><td>16</td></tr><tr><td>2015</td><td>Fernando Alonso</td><td>4</td><td>Spanish</td><td>11.0</td><td>0</td><td>17</td></tr><tr><td>2015</td><td>Marcus Ericsson</td><td>828</td><td>Swedish</td><td>9.0</td><td>0</td><td>18</td></tr><tr><td>2015</td><td>Will Stevens</td><td>829</td><td>British</td><td>0.0</td><td>0</td><td>19</td></tr><tr><td>2015</td><td>Roberto Merhi</td><td>833</td><td>Spanish</td><td>0.0</td><td>0</td><td>19</td></tr><tr><td>2015</td><td>Alexander Rossi</td><td>834</td><td>American</td><td>0.0</td><td>0</td><td>19</td></tr><tr><td>2015</td><td>Kevin Magnussen</td><td>825</td><td>Danish</td><td>0.0</td><td>0</td><td>19</td></tr><tr><td>1998</td><td>Mika Häkkinen</td><td>57</td><td>Finnish</td><td>100.0</td><td>8</td><td>1</td></tr><tr><td>1998</td><td>Michael Schumacher</td><td>30</td><td>German</td><td>86.0</td><td>6</td><td>2</td></tr><tr><td>1998</td><td>David Coulthard</td><td>14</td><td>British</td><td>56.0</td><td>1</td><td>3</td></tr><tr><td>1998</td><td>Eddie Irvine</td><td>56</td><td>British</td><td>47.0</td><td>0</td><td>4</td></tr><tr><td>1998</td><td>Jacques Villeneuve</td><td>35</td><td>Canadian</td><td>21.0</td><td>0</td><td>5</td></tr><tr><td>1998</td><td>Damon Hill</td><td>71</td><td>British</td><td>20.0</td><td>1</td><td>6</td></tr><tr><td>1998</td><td>Heinz-Harald Frentzen</td><td>49</td><td>German</td><td>17.0</td><td>0</td><td>7</td></tr><tr><td>1998</td><td>Alexander Wurz</td><td>25</td><td>Austrian</td><td>17.0</td><td>0</td><td>7</td></tr><tr><td>1998</td><td>Giancarlo Fisichella</td><td>21</td><td>Italian</td><td>16.0</td><td>0</td><td>9</td></tr><tr><td>1998</td><td>Ralf Schumacher</td><td>23</td><td>German</td><td>14.0</td><td>0</td><td>10</td></tr><tr><td>1998</td><td>Jean Alesi</td><td>55</td><td>French</td><td>9.0</td><td>0</td><td>11</td></tr><tr><td>1998</td><td>Rubens Barrichello</td><td>22</td><td>Brazilian</td><td>4.0</td><td>0</td><td>12</td></tr><tr><td>1998</td><td>Mika Salo</td><td>63</td><td>Finnish</td><td>3.0</td><td>0</td><td>13</td></tr><tr><td>1998</td><td>Pedro Diniz</td><td>64</td><td>Brazilian</td><td>3.0</td><td>0</td><td>13</td></tr><tr><td>1998</td><td>Jarno Trulli</td><td>15</td><td>Italian</td><td>1.0</td><td>0</td><td>15</td></tr><tr><td>1998</td><td>Jan Magnussen</td><td>76</td><td>Danish</td><td>1.0</td><td>0</td><td>15</td></tr><tr><td>1998</td><td>Johnny Herbert</td><td>65</td><td>British</td><td>1.0</td><td>0</td><td>15</td></tr><tr><td>1998</td><td>Esteban Tuero</td><td>74</td><td>Argentine</td><td>0.0</td><td>0</td><td>18</td></tr><tr><td>1998</td><td>Shinji Nakano</td><td>75</td><td>Japanese</td><td>0.0</td><td>0</td><td>18</td></tr><tr><td>1998</td><td>Olivier Panis</td><td>44</td><td>French</td><td>0.0</td><td>0</td><td>18</td></tr><tr><td>1998</td><td>Ricardo Rosset</td><td>73</td><td>Brazilian</td><td>0.0</td><td>0</td><td>18</td></tr><tr><td>1998</td><td>Toranosuke Takagi</td><td>68</td><td>Japanese</td><td>0.0</td><td>0</td><td>18</td></tr><tr><td>1998</td><td>Jos Verstappen</td><td>50</td><td>Dutch</td><td>0.0</td><td>0</td><td>18</td></tr><tr><td>2000</td><td>Michael Schumacher</td><td>30</td><td>German</td><td>108.0</td><td>9</td><td>1</td></tr><tr><td>2000</td><td>Mika Häkkinen</td><td>57</td><td>Finnish</td><td>89.0</td><td>4</td><td>2</td></tr><tr><td>2000</td><td>David Coulthard</td><td>14</td><td>British</td><td>73.0</td><td>3</td><td>3</td></tr><tr><td>2000</td><td>Rubens Barrichello</td><td>22</td><td>Brazilian</td><td>62.0</td><td>1</td><td>4</td></tr><tr><td>2000</td><td>Ralf Schumacher</td><td>23</td><td>German</td><td>24.0</td><td>0</td><td>5</td></tr><tr><td>2000</td><td>Giancarlo Fisichella</td><td>21</td><td>Italian</td><td>18.0</td><td>0</td><td>6</td></tr><tr><td>2000</td><td>Jacques Villeneuve</td><td>35</td><td>Canadian</td><td>17.0</td><td>0</td><td>7</td></tr><tr><td>2000</td><td>Jenson Button</td><td>18</td><td>British</td><td>12.0</td><td>0</td><td>8</td></tr><tr><td>2000</td><td>Heinz-Harald Frentzen</td><td>49</td><td>German</td><td>11.0</td><td>0</td><td>9</td></tr><tr><td>2000</td><td>Mika Salo</td><td>63</td><td>Finnish</td><td>6.0</td><td>0</td><td>10</td></tr><tr><td>2000</td><td>Jarno Trulli</td><td>15</td><td>Italian</td><td>6.0</td><td>0</td><td>10</td></tr><tr><td>2000</td><td>Jos Verstappen</td><td>50</td><td>Dutch</td><td>5.0</td><td>0</td><td>12</td></tr><tr><td>2000</td><td>Eddie Irvine</td><td>56</td><td>British</td><td>4.0</td><td>0</td><td>13</td></tr><tr><td>2000</td><td>Ricardo Zonta</td><td>41</td><td>Brazilian</td><td>3.0</td><td>0</td><td>14</td></tr><tr><td>2000</td><td>Pedro de la Rosa</td><td>37</td><td>Spanish</td><td>2.0</td><td>0</td><td>15</td></tr><tr><td>2000</td><td>Alexander Wurz</td><td>25</td><td>Austrian</td><td>2.0</td><td>0</td><td>15</td></tr><tr><td>2000</td><td>Pedro Diniz</td><td>64</td><td>Brazilian</td><td>0.0</td><td>0</td><td>17</td></tr><tr><td>2000</td><td>Nick Heidfeld</td><td>2</td><td>German</td><td>0.0</td><td>0</td><td>17</td></tr><tr><td>2000</td><td>Johnny Herbert</td><td>65</td><td>British</td><td>0.0</td><td>0</td><td>17</td></tr><tr><td>2000</td><td>Marc Gené</td><td>48</td><td>Spanish</td><td>0.0</td><td>0</td><td>17</td></tr><tr><td>2000</td><td>Gastón Mazzacane</td><td>60</td><td>Argentine</td><td>0.0</td><td>0</td><td>17</td></tr><tr><td>2000</td><td>Jean Alesi</td><td>55</td><td>French</td><td>0.0</td><td>0</td><td>17</td></tr><tr><td>2000</td><td>Luciano Burti</td><td>54</td><td>Brazilian</td><td>0.0</td><td>0</td><td>17</td></tr><tr><td>2013</td><td>Sebastian Vettel</td><td>20</td><td>German</td><td>397.0</td><td>13</td><td>1</td></tr><tr><td>2013</td><td>Fernando Alonso</td><td>4</td><td>Spanish</td><td>242.0</td><td>2</td><td>2</td></tr><tr><td>2013</td><td>Mark Webber</td><td>17</td><td>Australian</td><td>199.0</td><td>0</td><td>3</td></tr><tr><td>2013</td><td>Lewis Hamilton</td><td>1</td><td>British</td><td>189.0</td><td>1</td><td>4</td></tr><tr><td>2013</td><td>Kimi Räikkönen</td><td>8</td><td>Finnish</td><td>183.0</td><td>1</td><td>5</td></tr><tr><td>2013</td><td>Nico Rosberg</td><td>3</td><td>German</td><td>171.0</td><td>2</td><td>6</td></tr><tr><td>2013</td><td>Romain Grosjean</td><td>154</td><td>French</td><td>132.0</td><td>0</td><td>7</td></tr><tr><td>2013</td><td>Felipe Massa</td><td>13</td><td>Brazilian</td><td>112.0</td><td>0</td><td>8</td></tr><tr><td>2013</td><td>Jenson Button</td><td>18</td><td>British</td><td>73.0</td><td>0</td><td>9</td></tr><tr><td>2013</td><td>Nico Hülkenberg</td><td>807</td><td>German</td><td>51.0</td><td>0</td><td>10</td></tr><tr><td>2013</td><td>Sergio Pérez</td><td>815</td><td>Mexican</td><td>49.0</td><td>0</td><td>11</td></tr><tr><td>2013</td><td>Paul di Resta</td><td>814</td><td>British</td><td>48.0</td><td>0</td><td>12</td></tr><tr><td>2013</td><td>Adrian Sutil</td><td>16</td><td>German</td><td>29.0</td><td>0</td><td>13</td></tr><tr><td>2013</td><td>Daniel Ricciardo</td><td>817</td><td>Australian</td><td>20.0</td><td>0</td><td>14</td></tr><tr><td>2013</td><td>Jean-Éric Vergne</td><td>818</td><td>French</td><td>13.0</td><td>0</td><td>15</td></tr><tr><td>2013</td><td>Esteban Gutiérrez</td><td>821</td><td>Mexican</td><td>6.0</td><td>0</td><td>16</td></tr><tr><td>2013</td><td>Valtteri Bottas</td><td>822</td><td>Finnish</td><td>4.0</td><td>0</td><td>17</td></tr><tr><td>2013</td><td>Pastor Maldonado</td><td>813</td><td>Venezuelan</td><td>1.0</td><td>0</td><td>18</td></tr><tr><td>2013</td><td>Heikki Kovalainen</td><td>5</td><td>Finnish</td><td>0.0</td><td>0</td><td>19</td></tr><tr><td>2013</td><td>Jules Bianchi</td><td>824</td><td>French</td><td>0.0</td><td>0</td><td>19</td></tr><tr><td>2013</td><td>Charles Pic</td><td>819</td><td>French</td><td>0.0</td><td>0</td><td>19</td></tr><tr><td>2013</td><td>Giedo van der Garde</td><td>823</td><td>Dutch</td><td>0.0</td><td>0</td><td>19</td></tr><tr><td>2013</td><td>Max Chilton</td><td>820</td><td>British</td><td>0.0</td><td>0</td><td>19</td></tr><tr><td>2002</td><td>Michael Schumacher</td><td>30</td><td>German</td><td>144.0</td><td>11</td><td>1</td></tr><tr><td>2002</td><td>Rubens Barrichello</td><td>22</td><td>Brazilian</td><td>77.0</td><td>4</td><td>2</td></tr><tr><td>2002</td><td>Juan Pablo Montoya</td><td>31</td><td>Colombian</td><td>50.0</td><td>0</td><td>3</td></tr><tr><td>2002</td><td>Ralf Schumacher</td><td>23</td><td>German</td><td>42.0</td><td>1</td><td>4</td></tr><tr><td>2002</td><td>David Coulthard</td><td>14</td><td>British</td><td>41.0</td><td>1</td><td>5</td></tr><tr><td>2002</td><td>Kimi Räikkönen</td><td>8</td><td>Finnish</td><td>24.0</td><td>0</td><td>6</td></tr><tr><td>2002</td><td>Jenson Button</td><td>18</td><td>British</td><td>14.0</td><td>0</td><td>7</td></tr><tr><td>2002</td><td>Jarno Trulli</td><td>15</td><td>Italian</td><td>9.0</td><td>0</td><td>8</td></tr><tr><td>2002</td><td>Eddie Irvine</td><td>56</td><td>British</td><td>8.0</td><td>0</td><td>9</td></tr><tr><td>2002</td><td>Giancarlo Fisichella</td><td>21</td><td>Italian</td><td>7.0</td><td>0</td><td>10</td></tr><tr><td>2002</td><td>Nick Heidfeld</td><td>2</td><td>German</td><td>7.0</td><td>0</td><td>10</td></tr><tr><td>2002</td><td>Jacques Villeneuve</td><td>35</td><td>Canadian</td><td>4.0</td><td>0</td><td>12</td></tr><tr><td>2002</td><td>Felipe Massa</td><td>13</td><td>Brazilian</td><td>4.0</td><td>0</td><td>12</td></tr><tr><td>2002</td><td>Olivier Panis</td><td>44</td><td>French</td><td>3.0</td><td>0</td><td>14</td></tr><tr><td>2002</td><td>Mika Salo</td><td>63</td><td>Finnish</td><td>2.0</td><td>0</td><td>15</td></tr><tr><td>2002</td><td>Takuma Sato</td><td>11</td><td>Japanese</td><td>2.0</td><td>0</td><td>15</td></tr><tr><td>2002</td><td>Heinz-Harald Frentzen</td><td>49</td><td>German</td><td>2.0</td><td>0</td><td>15</td></tr><tr><td>2002</td><td>Mark Webber</td><td>17</td><td>Australian</td><td>2.0</td><td>0</td><td>15</td></tr><tr><td>2002</td><td>Allan McNish</td><td>66</td><td>British</td><td>0.0</td><td>0</td><td>19</td></tr><tr><td>2002</td><td>Enrique Bernoldi</td><td>59</td><td>Brazilian</td><td>0.0</td><td>0</td><td>19</td></tr><tr><td>2002</td><td>Pedro de la Rosa</td><td>37</td><td>Spanish</td><td>0.0</td><td>0</td><td>19</td></tr><tr><td>2002</td><td>Alex Yoong</td><td>62</td><td>Malaysian</td><td>0.0</td><td>0</td><td>19</td></tr><tr><td>2002</td><td>Anthony Davidson</td><td>19</td><td>British</td><td>0.0</td><td>0</td><td>19</td></tr><tr><td>2008</td><td>Lewis Hamilton</td><td>1</td><td>British</td><td>98.0</td><td>5</td><td>1</td></tr><tr><td>2008</td><td>Felipe Massa</td><td>13</td><td>Brazilian</td><td>97.0</td><td>6</td><td>2</td></tr><tr><td>2008</td><td>Kimi Räikkönen</td><td>8</td><td>Finnish</td><td>75.0</td><td>2</td><td>3</td></tr><tr><td>2008</td><td>Robert Kubica</td><td>9</td><td>Polish</td><td>75.0</td><td>1</td><td>4</td></tr><tr><td>2008</td><td>Fernando Alonso</td><td>4</td><td>Spanish</td><td>61.0</td><td>2</td><td>5</td></tr><tr><td>2008</td><td>Nick Heidfeld</td><td>2</td><td>German</td><td>60.0</td><td>0</td><td>6</td></tr><tr><td>2008</td><td>Heikki Kovalainen</td><td>5</td><td>Finnish</td><td>53.0</td><td>1</td><td>7</td></tr><tr><td>2008</td><td>Sebastian Vettel</td><td>20</td><td>German</td><td>35.0</td><td>1</td><td>8</td></tr><tr><td>2008</td><td>Jarno Trulli</td><td>15</td><td>Italian</td><td>31.0</td><td>0</td><td>9</td></tr><tr><td>2008</td><td>Timo Glock</td><td>10</td><td>German</td><td>25.0</td><td>0</td><td>10</td></tr><tr><td>2008</td><td>Mark Webber</td><td>17</td><td>Australian</td><td>21.0</td><td>0</td><td>11</td></tr><tr><td>2008</td><td>Nelson Piquet Jr.</td><td>12</td><td>Brazilian</td><td>19.0</td><td>0</td><td>12</td></tr><tr><td>2008</td><td>Nico Rosberg</td><td>3</td><td>German</td><td>17.0</td><td>0</td><td>13</td></tr><tr><td>2008</td><td>Rubens Barrichello</td><td>22</td><td>Brazilian</td><td>11.0</td><td>0</td><td>14</td></tr><tr><td>2008</td><td>Kazuki Nakajima</td><td>6</td><td>Japanese</td><td>9.0</td><td>0</td><td>15</td></tr><tr><td>2008</td><td>David Coulthard</td><td>14</td><td>British</td><td>8.0</td><td>0</td><td>16</td></tr><tr><td>2008</td><td>Sébastien Bourdais</td><td>7</td><td>French</td><td>4.0</td><td>0</td><td>17</td></tr><tr><td>2008</td><td>Jenson Button</td><td>18</td><td>British</td><td>3.0</td><td>0</td><td>18</td></tr><tr><td>2008</td><td>Anthony Davidson</td><td>19</td><td>British</td><td>0.0</td><td>0</td><td>19</td></tr><tr><td>2008</td><td>Adrian Sutil</td><td>16</td><td>German</td><td>0.0</td><td>0</td><td>19</td></tr><tr><td>2008</td><td>Giancarlo Fisichella</td><td>21</td><td>Italian</td><td>0.0</td><td>0</td><td>19</td></tr><tr><td>2008</td><td>Takuma Sato</td><td>11</td><td>Japanese</td><td>0.0</td><td>0</td><td>19</td></tr><tr><td>2018</td><td>Lewis Hamilton</td><td>1</td><td>British</td><td>408.0</td><td>11</td><td>1</td></tr><tr><td>2018</td><td>Sebastian Vettel</td><td>20</td><td>German</td><td>320.0</td><td>5</td><td>2</td></tr><tr><td>2018</td><td>Kimi Räikkönen</td><td>8</td><td>Finnish</td><td>251.0</td><td>1</td><td>3</td></tr><tr><td>2018</td><td>Max Verstappen</td><td>830</td><td>Dutch</td><td>249.0</td><td>2</td><td>4</td></tr><tr><td>2018</td><td>Valtteri Bottas</td><td>822</td><td>Finnish</td><td>247.0</td><td>0</td><td>5</td></tr><tr><td>2018</td><td>Daniel Ricciardo</td><td>817</td><td>Australian</td><td>170.0</td><td>2</td><td>6</td></tr><tr><td>2018</td><td>Nico Hülkenberg</td><td>807</td><td>German</td><td>69.0</td><td>0</td><td>7</td></tr><tr><td>2018</td><td>Sergio Pérez</td><td>815</td><td>Mexican</td><td>62.0</td><td>0</td><td>8</td></tr><tr><td>2018</td><td>Kevin Magnussen</td><td>825</td><td>Danish</td><td>56.0</td><td>0</td><td>9</td></tr><tr><td>2018</td><td>Carlos Sainz</td><td>832</td><td>Spanish</td><td>53.0</td><td>0</td><td>10</td></tr><tr><td>2018</td><td>Fernando Alonso</td><td>4</td><td>Spanish</td><td>50.0</td><td>0</td><td>11</td></tr><tr><td>2018</td><td>Esteban Ocon</td><td>839</td><td>French</td><td>49.0</td><td>0</td><td>12</td></tr><tr><td>2018</td><td>Charles Leclerc</td><td>844</td><td>Monegasque</td><td>39.0</td><td>0</td><td>13</td></tr><tr><td>2018</td><td>Romain Grosjean</td><td>154</td><td>French</td><td>37.0</td><td>0</td><td>14</td></tr><tr><td>2018</td><td>Pierre Gasly</td><td>842</td><td>French</td><td>29.0</td><td>0</td><td>15</td></tr><tr><td>2018</td><td>Stoffel Vandoorne</td><td>838</td><td>Belgian</td><td>12.0</td><td>0</td><td>16</td></tr><tr><td>2018</td><td>Marcus Ericsson</td><td>828</td><td>Swedish</td><td>9.0</td><td>0</td><td>17</td></tr><tr><td>2018</td><td>Lance Stroll</td><td>840</td><td>Canadian</td><td>6.0</td><td>0</td><td>18</td></tr><tr><td>2018</td><td>Brendon Hartley</td><td>843</td><td>New Zealander</td><td>4.0</td><td>0</td><td>19</td></tr><tr><td>2018</td><td>Sergey Sirotkin</td><td>845</td><td>Russian</td><td>1.0</td><td>0</td><td>20</td></tr><tr><td>2019</td><td>Lewis Hamilton</td><td>1</td><td>British</td><td>413.0</td><td>11</td><td>1</td></tr><tr><td>2019</td><td>Valtteri Bottas</td><td>822</td><td>Finnish</td><td>326.0</td><td>4</td><td>2</td></tr><tr><td>2019</td><td>Max Verstappen</td><td>830</td><td>Dutch</td><td>278.0</td><td>3</td><td>3</td></tr><tr><td>2019</td><td>Charles Leclerc</td><td>844</td><td>Monegasque</td><td>264.0</td><td>2</td><td>4</td></tr><tr><td>2019</td><td>Sebastian Vettel</td><td>20</td><td>German</td><td>240.0</td><td>1</td><td>5</td></tr><tr><td>2019</td><td>Carlos Sainz</td><td>832</td><td>Spanish</td><td>96.0</td><td>0</td><td>6</td></tr><tr><td>2019</td><td>Pierre Gasly</td><td>842</td><td>French</td><td>95.0</td><td>0</td><td>7</td></tr><tr><td>2019</td><td>Alexander Albon</td><td>848</td><td>Thai</td><td>92.0</td><td>0</td><td>8</td></tr><tr><td>2019</td><td>Daniel Ricciardo</td><td>817</td><td>Australian</td><td>54.0</td><td>0</td><td>9</td></tr><tr><td>2019</td><td>Sergio Pérez</td><td>815</td><td>Mexican</td><td>52.0</td><td>0</td><td>10</td></tr><tr><td>2019</td><td>Lando Norris</td><td>846</td><td>British</td><td>49.0</td><td>0</td><td>11</td></tr><tr><td>2019</td><td>Kimi Räikkönen</td><td>8</td><td>Finnish</td><td>43.0</td><td>0</td><td>12</td></tr><tr><td>2019</td><td>Daniil Kvyat</td><td>826</td><td>Russian</td><td>37.0</td><td>0</td><td>13</td></tr><tr><td>2019</td><td>Nico Hülkenberg</td><td>807</td><td>German</td><td>37.0</td><td>0</td><td>13</td></tr><tr><td>2019</td><td>Lance Stroll</td><td>840</td><td>Canadian</td><td>21.0</td><td>0</td><td>15</td></tr><tr><td>2019</td><td>Kevin Magnussen</td><td>825</td><td>Danish</td><td>20.0</td><td>0</td><td>16</td></tr><tr><td>2019</td><td>Antonio Giovinazzi</td><td>841</td><td>Italian</td><td>14.0</td><td>0</td><td>17</td></tr><tr><td>2019</td><td>Romain Grosjean</td><td>154</td><td>French</td><td>8.0</td><td>0</td><td>18</td></tr><tr><td>2019</td><td>Robert Kubica</td><td>9</td><td>Polish</td><td>1.0</td><td>0</td><td>19</td></tr><tr><td>2019</td><td>George Russell</td><td>847</td><td>British</td><td>0.0</td><td>0</td><td>20</td></tr><tr><td>2021</td><td>Lewis Hamilton</td><td>1</td><td>British</td><td>44.0</td><td>1</td><td>1</td></tr><tr><td>2021</td><td>Max Verstappen</td><td>830</td><td>Dutch</td><td>43.0</td><td>1</td><td>2</td></tr><tr><td>2021</td><td>Lando Norris</td><td>846</td><td>British</td><td>27.0</td><td>0</td><td>3</td></tr><tr><td>2021</td><td>Charles Leclerc</td><td>844</td><td>Monegasque</td><td>20.0</td><td>0</td><td>4</td></tr><tr><td>2021</td><td>Valtteri Bottas</td><td>822</td><td>Finnish</td><td>16.0</td><td>0</td><td>5</td></tr><tr><td>2021</td><td>Carlos Sainz</td><td>832</td><td>Spanish</td><td>14.0</td><td>0</td><td>6</td></tr><tr><td>2021</td><td>Daniel Ricciardo</td><td>817</td><td>Australian</td><td>14.0</td><td>0</td><td>6</td></tr><tr><td>2021</td><td>Sergio Pérez</td><td>815</td><td>Mexican</td><td>10.0</td><td>0</td><td>8</td></tr><tr><td>2021</td><td>Pierre Gasly</td><td>842</td><td>French</td><td>6.0</td><td>0</td><td>9</td></tr><tr><td>2021</td><td>Lance Stroll</td><td>840</td><td>Canadian</td><td>5.0</td><td>0</td><td>10</td></tr><tr><td>2021</td><td>Yuki Tsunoda</td><td>852</td><td>Japanese</td><td>2.0</td><td>0</td><td>11</td></tr><tr><td>2021</td><td>Esteban Ocon</td><td>839</td><td>French</td><td>2.0</td><td>0</td><td>11</td></tr><tr><td>2021</td><td>Fernando Alonso</td><td>4</td><td>Spanish</td><td>1.0</td><td>0</td><td>13</td></tr><tr><td>2021</td><td>Nikita Mazepin</td><td>853</td><td>Russian</td><td>0.0</td><td>0</td><td>14</td></tr><tr><td>2021</td><td>Antonio Giovinazzi</td><td>841</td><td>Italian</td><td>0.0</td><td>0</td><td>14</td></tr><tr><td>2021</td><td>Kimi Räikkönen</td><td>8</td><td>Finnish</td><td>0.0</td><td>0</td><td>14</td></tr><tr><td>2021</td><td>Sebastian Vettel</td><td>20</td><td>German</td><td>0.0</td><td>0</td><td>14</td></tr><tr><td>2021</td><td>Nicholas Latifi</td><td>849</td><td>Canadian</td><td>0.0</td><td>0</td><td>14</td></tr><tr><td>2021</td><td>Mick Schumacher</td><td>854</td><td>German</td><td>0.0</td><td>0</td><td>14</td></tr><tr><td>2021</td><td>George Russell</td><td>847</td><td>British</td><td>0.0</td><td>0</td><td>14</td></tr></tbody></table></div>"
      ]
     },
     "metadata": {
      "application/vnd.databricks.v1+output": {
       "addedWidgets": {},
       "aggData": [],
       "aggError": "",
       "aggOverflow": false,
       "aggSchema": [],
       "aggSeriesLimitReached": false,
       "aggType": "",
       "arguments": {},
       "columnCustomDisplayInfos": {},
       "data": [
        [
         1952,
         "Alberto Ascari",
         647,
         "Italian",
         53.5,
         6,
         1
        ],
        [
         1952,
         "Nino Farina",
         642,
         "Italian",
         27.0,
         0,
         2
        ],
        [
         1952,
         "Piero Taruffi",
         641,
         "Italian",
         22.0,
         1,
         3
        ],
        [
         1952,
         "Rudi Fischer",
         723,
         "Swiss",
         10.0,
         0,
         4
        ],
        [
         1952,
         "Mike Hawthorn",
         578,
         "British",
         10.0,
         0,
         4
        ],
        [
         1952,
         "Robert Manzon",
         626,
         "French",
         9.0,
         0,
         6
        ],
        [
         1952,
         "Troy Ruttman",
         526,
         "American",
         8.0,
         1,
         7
        ],
        [
         1952,
         "Luigi Villoresi",
         633,
         "Italian",
         8.0,
         0,
         8
        ],
        [
         1952,
         "José Froilán González",
         498,
         "Argentine",
         6.5,
         0,
         9
        ],
        [
         1952,
         "Jean Behra",
         554,
         "French",
         6.0,
         0,
         10
        ],
        [
         1952,
         "Jim Rathmann",
         509,
         "American",
         6.0,
         0,
         10
        ],
        [
         1952,
         "Sam Hanks",
         611,
         "American",
         4.0,
         0,
         12
        ],
        [
         1952,
         "Ken Wharton",
         663,
         "British",
         3.0,
         0,
         13
        ],
        [
         1952,
         "Dennis Poore",
         742,
         "British",
         3.0,
         0,
         13
        ],
        [
         1952,
         "Duane Carter",
         518,
         "American",
         3.0,
         0,
         13
        ],
        [
         1952,
         "Alan Brown",
         689,
         "British",
         2.0,
         0,
         16
        ],
        [
         1952,
         "Felice Bonetto",
         697,
         "Italian",
         2.0,
         0,
         16
        ],
        [
         1952,
         "Maurice Trintignant",
         427,
         "French",
         2.0,
         0,
         16
        ],
        [
         1952,
         "Art Cross",
         656,
         "American",
         2.0,
         0,
         16
        ],
        [
         1952,
         "Eric Thompson",
         743,
         "British",
         2.0,
         0,
         16
        ],
        [
         1952,
         "Paul Frère",
         632,
         "Belgian",
         2.0,
         0,
         16
        ],
        [
         1952,
         "Bill Vukovich",
         657,
         "American",
         1.0,
         0,
         22
        ],
        [
         1952,
         "Piero Dusio",
         760,
         "Italian",
         0.0,
         0,
         23
        ],
        [
         1952,
         "Toulo de Graffenried",
         640,
         "Swiss",
         0.0,
         0,
         23
        ],
        [
         1952,
         "Eric Brandon",
         688,
         "British",
         0.0,
         0,
         23
        ],
        [
         1952,
         "Lance Macklin",
         651,
         "British",
         0.0,
         0,
         23
        ],
        [
         1952,
         "Eitel Cantoni",
         748,
         "Uruguayan",
         0.0,
         0,
         23
        ],
        [
         1952,
         "Charles de Tornaco",
         735,
         "Belgian",
         0.0,
         0,
         23
        ],
        [
         1952,
         "Gino Bianco",
         746,
         "Brazilian",
         0.0,
         0,
         23
        ],
        [
         1952,
         "Hans von Stuck",
         717,
         "German",
         0.0,
         0,
         23
        ],
        [
         1952,
         "Louis Rosier",
         627,
         "French",
         0.0,
         0,
         23
        ],
        [
         1952,
         "Élie Bayol",
         625,
         "French",
         0.0,
         0,
         23
        ],
        [
         1952,
         "Peter Whitehead",
         687,
         "British",
         0.0,
         0,
         23
        ],
        [
         1952,
         "Franco Rol",
         762,
         "Italian",
         0.0,
         0,
         23
        ],
        [
         1952,
         "Stirling Moss",
         475,
         "British",
         0.0,
         0,
         23
        ],
        [
         1952,
         "Tony Gaze",
         738,
         "Australian",
         0.0,
         0,
         23
        ],
        [
         1952,
         "André Simon",
         609,
         "French",
         0.0,
         0,
         23
        ],
        [
         1952,
         "Johnny Claes",
         660,
         "Belgian",
         0.0,
         0,
         23
        ],
        [
         1952,
         "Peter Collins",
         581,
         "British",
         0.0,
         0,
         23
        ],
        [
         1952,
         "Alberto Crespo",
         761,
         "Argentine",
         0.0,
         0,
         23
        ],
        [
         1952,
         "Kenneth McAlpine",
         664,
         "British",
         0.0,
         0,
         23
        ],
        [
         1952,
         "Bill Aston",
         749,
         "British",
         0.0,
         0,
         23
        ],
        [
         1952,
         "Chico Landi",
         622,
         "Brazilian",
         0.0,
         0,
         23
        ],
        [
         1952,
         "Bob Sweikert",
         628,
         "American",
         0.0,
         0,
         23
        ],
        [
         1952,
         "Tony Crook",
         705,
         "British",
         0.0,
         0,
         23
        ],
        [
         1952,
         "Chet Miller",
         733,
         "American",
         0.0,
         0,
         23
        ],
        [
         1952,
         "Rodger Ward",
         449,
         "American",
         0.0,
         0,
         23
        ],
        [
         1952,
         "Johnnie Parsons",
         593,
         "American",
         0.0,
         0,
         23
        ],
        [
         1952,
         "Peter Hirt",
         721,
         "Swiss",
         0.0,
         0,
         23
        ],
        [
         1952,
         "Jack McGrath",
         658,
         "American",
         0.0,
         0,
         23
        ],
        [
         1952,
         "Graham Whitehead",
         745,
         "British",
         0.0,
         0,
         23
        ],
        [
         1952,
         "David Murray",
         747,
         "British",
         0.0,
         0,
         23
        ],
        [
         1952,
         "George Connor",
         726,
         "American",
         0.0,
         0,
         23
        ],
        [
         1952,
         "Fred Agabashian",
         615,
         "American",
         0.0,
         0,
         23
        ],
        [
         1952,
         "Chuck Stevenson",
         521,
         "American",
         0.0,
         0,
         23
        ],
        [
         1952,
         "Johnny McDowell",
         732,
         "American",
         0.0,
         0,
         23
        ],
        [
         1952,
         "Joe James",
         728,
         "American",
         0.0,
         0,
         23
        ],
        [
         1952,
         "Duncan Hamilton",
         708,
         "British",
         0.0,
         0,
         23
        ],
        [
         1952,
         "Jimmy Bryan",
         525,
         "American",
         0.0,
         0,
         23
        ],
        [
         1952,
         "Tony Bettenhausen",
         529,
         "American",
         0.0,
         0,
         23
        ],
        [
         1952,
         "Eddie Johnson",
         513,
         "American",
         0.0,
         0,
         23
        ],
        [
         1952,
         "Bill Schindler",
         729,
         "American",
         0.0,
         0,
         23
        ],
        [
         1952,
         "Bobby Ball",
         734,
         "American",
         0.0,
         0,
         23
        ],
        [
         1952,
         "Travis Webb",
         677,
         "American",
         0.0,
         0,
         23
        ],
        [
         1952,
         "Henry Banks",
         731,
         "American",
         0.0,
         0,
         23
        ],
        [
         1952,
         "Cliff Griffith",
         629,
         "American",
         0.0,
         0,
         23
        ],
        [
         1952,
         "Gene Hartley",
         520,
         "American",
         0.0,
         0,
         23
        ],
        [
         1952,
         "Manny Ayulo",
         675,
         "American",
         0.0,
         0,
         23
        ],
        [
         1952,
         "Andy Linden",
         612,
         "American",
         0.0,
         0,
         23
        ],
        [
         1952,
         "Duke Nalon",
         699,
         "American",
         0.0,
         0,
         23
        ],
        [
         1952,
         "George Fonder",
         730,
         "American",
         0.0,
         0,
         23
        ],
        [
         1952,
         "Bob Scott",
         702,
         "American",
         0.0,
         0,
         23
        ],
        [
         1952,
         "Roy Salvadori",
         456,
         "British",
         0.0,
         0,
         23
        ],
        [
         1952,
         "Jim Rigsby",
         727,
         "American",
         0.0,
         0,
         23
        ],
        [
         1952,
         "Prince Bira",
         669,
         "Thai",
         0.0,
         0,
         23
        ],
        [
         1952,
         "Jimmy Reece",
         592,
         "American",
         0.0,
         0,
         23
        ],
        [
         1952,
         "Reg Parnell",
         686,
         "British",
         0.0,
         0,
         23
        ],
        [
         1952,
         "Ken Downing",
         744,
         "British",
         0.0,
         0,
         23
        ],
        [
         1952,
         "Harry Schell",
         501,
         "American",
         0.0,
         0,
         23
        ],
        [
         1952,
         "Paul Pietsch",
         756,
         "German",
         0.0,
         0,
         23
        ],
        [
         1952,
         "Helmut Niedermayr",
         752,
         "German",
         0.0,
         0,
         23
        ],
        [
         1952,
         "Roger Laurent",
         736,
         "Belgian",
         0.0,
         0,
         23
        ],
        [
         1952,
         "Fritz Riess",
         751,
         "German",
         0.0,
         0,
         23
        ],
        [
         1952,
         "Ernst Klodwig",
         709,
         "East German",
         0.0,
         0,
         23
        ],
        [
         1952,
         "Theo Helfrich",
         692,
         "German",
         0.0,
         0,
         23
        ],
        [
         1952,
         "Marcel Balsa",
         754,
         "French",
         0.0,
         0,
         23
        ],
        [
         1952,
         "Adolf Brudes",
         750,
         "German",
         0.0,
         0,
         23
        ],
        [
         1952,
         "Willi Heeks",
         712,
         "German",
         0.0,
         0,
         23
        ],
        [
         1952,
         "Josef Peters",
         757,
         "German",
         0.0,
         0,
         23
        ],
        [
         1952,
         "Rudolf Krause",
         710,
         "East German",
         0.0,
         0,
         23
        ],
        [
         1952,
         "Günther Bechem",
         715,
         "German",
         0.0,
         0,
         23
        ],
        [
         1952,
         "Piero Carini",
         722,
         "Italian",
         0.0,
         0,
         23
        ],
        [
         1952,
         "Toni Ulmen",
         724,
         "German",
         0.0,
         0,
         23
        ],
        [
         1952,
         "Rudolf Schoeller",
         755,
         "Swiss",
         0.0,
         0,
         23
        ],
        [
         1952,
         "Hans Klenk",
         753,
         "German",
         0.0,
         0,
         23
        ],
        [
         1952,
         "Robert O'Brien",
         737,
         "American",
         0.0,
         0,
         23
        ],
        [
         1952,
         "Arthur Legat",
         703,
         "Belgian",
         0.0,
         0,
         23
        ],
        [
         1952,
         "Robin Montgomerie-Charrington",
         739,
         "British",
         0.0,
         0,
         23
        ],
        [
         1952,
         "Franco Comotti",
         740,
         "Italian",
         0.0,
         0,
         23
        ],
        [
         1952,
         "Max de Terra",
         720,
         "Swiss",
         0.0,
         0,
         23
        ],
        [
         1952,
         "Yves Cabantous",
         704,
         "French",
         0.0,
         0,
         23
        ],
        [
         1952,
         "Philippe Étancelin",
         741,
         "French",
         0.0,
         0,
         23
        ],
        [
         1952,
         "Jan Flinterman",
         759,
         "Dutch",
         0.0,
         0,
         23
        ],
        [
         1952,
         "George Abecassis",
         725,
         "British",
         0.0,
         0,
         23
        ],
        [
         1952,
         "Dries van der Lof",
         758,
         "Dutch",
         0.0,
         0,
         23
        ],
        [
         1953,
         "Alberto Ascari",
         647,
         "Italian",
         45.5,
         5,
         1
        ],
        [
         1953,
         "Nino Farina",
         642,
         "Italian",
         32.0,
         1,
         2
        ],
        [
         1953,
         "Juan Fangio",
         579,
         "Argentine",
         29.5,
         1,
         3
        ],
        [
         1953,
         "Mike Hawthorn",
         578,
         "British",
         27.0,
         1,
         4
        ],
        [
         1953,
         "Luigi Villoresi",
         633,
         "Italian",
         17.0,
         0,
         5
        ],
        [
         1953,
         "José Froilán González",
         498,
         "Argentine",
         12.5,
         0,
         6
        ],
        [
         1953,
         "Bill Vukovich",
         657,
         "American",
         9.0,
         1,
         7
        ],
        [
         1953,
         "Toulo de Graffenried",
         640,
         "Swiss",
         7.0,
         0,
         8
        ],
        [
         1953,
         "Art Cross",
         656,
         "American",
         6.0,
         0,
         9
        ],
        [
         1953,
         "Felice Bonetto",
         697,
         "Italian",
         5.0,
         0,
         10
        ],
        [
         1953,
         "Maurice Trintignant",
         427,
         "French",
         4.0,
         0,
         11
        ],
        [
         1953,
         "Onofre Marimón",
         670,
         "Argentine",
         4.0,
         0,
         11
        ],
        [
         1953,
         "Sam Hanks",
         611,
         "American",
         2.0,
         0,
         13
        ],
        [
         1953,
         "Jack McGrath",
         658,
         "American",
         2.0,
         0,
         13
        ],
        [
         1953,
         "Oscar Gálvez",
         695,
         "Argentine",
         2.0,
         0,
         13
        ],
        [
         1953,
         "Hermann Lang",
         691,
         "German",
         2.0,
         0,
         13
        ],
        [
         1953,
         "Fred Agabashian",
         615,
         "American",
         1.5,
         0,
         17
        ],
        [
         1953,
         "Don Freeland",
         528,
         "American",
         0.0,
         0,
         18
        ],
        [
         1953,
         "Travis Webb",
         677,
         "American",
         0.0,
         0,
         18
        ],
        [
         1953,
         "Andy Linden",
         612,
         "American",
         0.0,
         0,
         18
        ],
        [
         1953,
         "Jackie Holmes",
         797,
         "American",
         0.0,
         0,
         18
        ],
        [
         1953,
         "Bob Scott",
         702,
         "American",
         0.0,
         0,
         18
        ],
        [
         1953,
         "Pat Flaherty",
         559,
         "American",
         0.0,
         0,
         18
        ],
        [
         1953,
         "Rodney Nuckey",
         690,
         "British",
         0.0,
         0,
         18
        ],
        [
         1953,
         "Bill Holland",
         701,
         "American",
         0.0,
         0,
         18
        ],
        [
         1953,
         "Kenneth McAlpine",
         664,
         "British",
         0.0,
         0,
         18
        ],
        [
         1953,
         "Jimmy Bryan",
         525,
         "American",
         0.0,
         0,
         18
        ],
        [
         1953,
         "Gene Hartley",
         520,
         "American",
         0.0,
         0,
         18
        ],
        [
         1953,
         "Manny Ayulo",
         675,
         "American",
         0.0,
         0,
         18
        ],
        [
         1953,
         "Johnny Claes",
         660,
         "Belgian",
         0.0,
         0,
         18
        ],
        [
         1953,
         "Jimmy Davies",
         653,
         "American",
         0.0,
         0,
         18
        ],
        [
         1953,
         "Rodger Ward",
         449,
         "American",
         0.0,
         0,
         18
        ],
        [
         1953,
         "Walt Faulkner",
         654,
         "American",
         0.0,
         0,
         18
        ],
        [
         1953,
         "Harry Schell",
         501,
         "American",
         0.0,
         0,
         18
        ],
        [
         1953,
         "Johnny Thomson",
         512,
         "American",
         0.0,
         0,
         18
        ],
        [
         1953,
         "Duane Carter",
         518,
         "American",
         0.0,
         0,
         18
        ],
        [
         1953,
         "Prince Bira",
         669,
         "Thai",
         0.0,
         0,
         18
        ],
        [
         1953,
         "Paul Russo",
         555,
         "American",
         0.0,
         0,
         18
        ],
        [
         1953,
         "Kurt Adolff",
         714,
         "German",
         0.0,
         0,
         18
        ],
        [
         1953,
         "Edgar Barth",
         431,
         "German",
         0.0,
         0,
         18
        ],
        [
         1953,
         "Ernst Klodwig",
         709,
         "East German",
         0.0,
         0,
         18
        ],
        [
         1953,
         "Marshall Teague",
         613,
         "American",
         0.0,
         0,
         18
        ],
        [
         1953,
         "Tony Bettenhausen",
         529,
         "American",
         0.0,
         0,
         18
        ],
        [
         1953,
         "Wolfgang Seidel",
         455,
         "German",
         0.0,
         0,
         18
        ],
        [
         1953,
         "Hans Herrmann",
         478,
         "German",
         0.0,
         0,
         18
        ],
        [
         1953,
         "Jean Behra",
         554,
         "French",
         0.0,
         0,
         18
        ],
        [
         1953,
         "Duke Dinsmore",
         630,
         "American",
         0.0,
         0,
         18
        ],
        [
         1953,
         "Willi Heeks",
         712,
         "German",
         0.0,
         0,
         18
        ],
        [
         1953,
         "Bob Sweikert",
         628,
         "American",
         0.0,
         0,
         18
        ],
        [
         1953,
         "Mike Nazaruk",
         673,
         "American",
         0.0,
         0,
         18
        ],
        [
         1953,
         "Carl Scarborough",
         700,
         "American",
         0.0,
         0,
         18
        ],
        [
         1953,
         "Jim Rathmann",
         509,
         "American",
         0.0,
         0,
         18
        ],
        [
         1953,
         "Theo Helfrich",
         692,
         "German",
         0.0,
         0,
         18
        ],
        [
         1953,
         "Roy Salvadori",
         456,
         "British",
         0.0,
         0,
         18
        ],
        [
         1953,
         "Ernst Loof",
         718,
         "German",
         0.0,
         0,
         18
        ],
        [
         1953,
         "Louis Rosier",
         627,
         "French",
         0.0,
         0,
         18
        ],
        [
         1953,
         "Günther Bechem",
         715,
         "German",
         0.0,
         0,
         18
        ],
        [
         1953,
         "Johnnie Parsons",
         593,
         "American",
         0.0,
         0,
         18
        ],
        [
         1953,
         "Jacques Swaters",
         680,
         "American",
         0.0,
         0,
         18
        ],
        [
         1953,
         "Erwin Bauer",
         716,
         "German",
         0.0,
         0,
         18
        ],
        [
         1953,
         "Jimmy Daywalt",
         556,
         "American",
         0.0,
         0,
         18
        ],
        [
         1953,
         "Oswald Karch",
         711,
         "German",
         0.0,
         0,
         18
        ],
        [
         1953,
         "Hans von Stuck",
         717,
         "German",
         0.0,
         0,
         18
        ],
        [
         1953,
         "Duke Nalon",
         699,
         "American",
         0.0,
         0,
         18
        ],
        [
         1953,
         "Stirling Moss",
         475,
         "British",
         0.0,
         0,
         18
        ],
        [
         1953,
         "Rudolf Krause",
         710,
         "East German",
         0.0,
         0,
         18
        ],
        [
         1953,
         "Johnny Mantz",
         804,
         "American",
         0.0,
         0,
         18
        ],
        [
         1953,
         "Ernie McCoy",
         679,
         "American",
         0.0,
         0,
         18
        ],
        [
         1953,
         "Eddie Johnson",
         513,
         "American",
         0.0,
         0,
         18
        ],
        [
         1953,
         "Alan Brown",
         689,
         "British",
         0.0,
         0,
         18
        ],
        [
         1953,
         "Chuck Stevenson",
         521,
         "American",
         0.0,
         0,
         18
        ],
        [
         1953,
         "Jerry Hoyt",
         659,
         "American",
         0.0,
         0,
         18
        ],
        [
         1953,
         "Cal Niday",
         655,
         "American",
         0.0,
         0,
         18
        ],
        [
         1953,
         "Theo Fitzau",
         713,
         "East German",
         0.0,
         0,
         18
        ],
        [
         1953,
         "Ken Wharton",
         663,
         "British",
         0.0,
         0,
         18
        ],
        [
         1953,
         "Sergio Mantovani",
         644,
         "Italian",
         0.0,
         0,
         18
        ],
        [
         1953,
         "Élie Bayol",
         625,
         "French",
         0.0,
         0,
         18
        ],
        [
         1953,
         "Lance Macklin",
         651,
         "British",
         0.0,
         0,
         18
        ],
        [
         1953,
         "Roberto Mieres",
         643,
         "Argentine",
         0.0,
         0,
         18
        ],
        [
         1953,
         "Chico Landi",
         622,
         "Brazilian",
         0.0,
         0,
         18
        ],
        [
         1953,
         "Piero Carini",
         722,
         "Italian",
         0.0,
         0,
         18
        ],
        [
         1953,
         "Yves Cabantous",
         704,
         "French",
         0.0,
         0,
         18
        ],
        [
         1953,
         "Luigi Musso",
         577,
         "Italian",
         0.0,
         0,
         18
        ],
        [
         1953,
         "Jack Fairman",
         486,
         "British",
         0.0,
         0,
         18
        ],
        [
         1953,
         "John Fitch",
         667,
         "American",
         0.0,
         0,
         18
        ],
        [
         1953,
         "Umberto Maglioli",
         620,
         "Italian",
         0.0,
         0,
         18
        ],
        [
         1953,
         "Louis Chiron",
         589,
         "Monegasque",
         0.0,
         0,
         18
        ],
        [
         1953,
         "Peter Whitehead",
         687,
         "British",
         0.0,
         0,
         18
        ],
        [
         1953,
         "Ian Stewart",
         707,
         "British",
         0.0,
         0,
         18
        ],
        [
         1953,
         "Bob Gerard",
         619,
         "British",
         0.0,
         0,
         18
        ],
        [
         1953,
         "Tony Rolt",
         666,
         "British",
         0.0,
         0,
         18
        ],
        [
         1953,
         "Peter Collins",
         581,
         "British",
         0.0,
         0,
         18
        ],
        [
         1953,
         "Duncan Hamilton",
         708,
         "British",
         0.0,
         0,
         18
        ],
        [
         1953,
         "Tony Crook",
         705,
         "British",
         0.0,
         0,
         18
        ],
        [
         1953,
         "Jimmy Stewart",
         706,
         "British",
         0.0,
         0,
         18
        ],
        [
         1953,
         "Peter Hirt",
         721,
         "Swiss",
         0.0,
         0,
         18
        ],
        [
         1953,
         "Max de Terra",
         720,
         "Swiss",
         0.0,
         0,
         18
        ],
        [
         1953,
         "Paul Frère",
         632,
         "Belgian",
         0.0,
         0,
         18
        ],
        [
         1953,
         "John Barber",
         696,
         "British",
         0.0,
         0,
         18
        ],
        [
         1953,
         "Georges Berger",
         681,
         "Belgian",
         0.0,
         0,
         18
        ],
        [
         1953,
         "Adolfo Cruz",
         698,
         "Argentine",
         0.0,
         0,
         18
        ],
        [
         1953,
         "André Pilette",
         429,
         "Belgian",
         0.0,
         0,
         18
        ],
        [
         1953,
         "Albert Scherrer",
         719,
         "Swiss",
         0.0,
         0,
         18
        ],
        [
         1953,
         "Robert Manzon",
         626,
         "French",
         0.0,
         0,
         18
        ],
        [
         1953,
         "Pablo Birger",
         649,
         "Argentine",
         0.0,
         0,
         18
        ],
        [
         1953,
         "Arthur Legat",
         703,
         "Belgian",
         0.0,
         0,
         18
        ],
        [
         1953,
         "Carlos Menditeguy",
         496,
         "Argentine",
         0.0,
         0,
         18
        ],
        [
         1953,
         "Fred Wacker",
         693,
         "American",
         0.0,
         0,
         18
        ],
        [
         1960,
         "Jack Brabham",
         356,
         "Australian",
         43.0,
         5,
         1
        ],
        [
         1960,
         "Bruce McLaren",
         360,
         "New Zealander",
         37.0,
         1,
         2
        ],
        [
         1960,
         "Stirling Moss",
         475,
         "British",
         19.0,
         2,
         3
        ],
        [
         1960,
         "Innes Ireland",
         404,
         "British",
         18.0,
         0,
         4
        ],
        [
         1960,
         "Phil Hill",
         403,
         "American",
         16.0,
         1,
         5
        ],
        [
         1960,
         "Wolfgang von Trips",
         476,
         "German",
         10.0,
         0,
         6
        ],
        [
         1960,
         "Olivier Gendebien",
         482,
         "Belgian",
         10.0,
         0,
         6
        ],
        [
         1960,
         "Jim Rathmann",
         509,
         "American",
         8.0,
         1,
         8
        ],
        [
         1960,
         "Jim Clark",
         373,
         "British",
         8.0,
         0,
         9
        ],
        [
         1960,
         "Richie Ginther",
         386,
         "American",
         8.0,
         0,
         9
        ],
        [
         1960,
         "Tony Brooks",
         479,
         "British",
         7.0,
         0,
         11
        ],
        [
         1960,
         "Rodger Ward",
         449,
         "American",
         6.0,
         0,
         12
        ],
        [
         1960,
         "Cliff Allison",
         477,
         "British",
         6.0,
         0,
         12
        ],
        [
         1960,
         "John Surtees",
         341,
         "British",
         6.0,
         0,
         12
        ],
        [
         1960,
         "Paul Goldsmith",
         510,
         "American",
         4.0,
         0,
         15
        ],
        [
         1960,
         "Jo Bonnier",
         347,
         "Swedish",
         4.0,
         0,
         15
        ],
        [
         1960,
         "Graham Hill",
         289,
         "British",
         4.0,
         0,
         15
        ],
        [
         1960,
         "Willy Mairesse",
         435,
         "Belgian",
         4.0,
         0,
         15
        ],
        [
         1960,
         "Don Branson",
         511,
         "American",
         3.0,
         0,
         19
        ],
        [
         1960,
         "Henry Taylor",
         481,
         "British",
         3.0,
         0,
         19
        ],
        [
         1960,
         "Carlos Menditeguy",
         496,
         "Argentine",
         3.0,
         0,
         19
        ],
        [
         1960,
         "Giulio Cabianca",
         543,
         "Italian",
         3.0,
         0,
         19
        ],
        [
         1960,
         "Johnny Thomson",
         512,
         "American",
         2.0,
         0,
         23
        ],
        [
         1960,
         "Eddie Johnson",
         513,
         "American",
         1.0,
         0,
         24
        ],
        [
         1960,
         "Lucien Bianchi",
         376,
         "Belgian",
         1.0,
         0,
         24
        ],
        [
         1960,
         "Ron Flockhart",
         541,
         "British",
         1.0,
         0,
         24
        ],
        [
         1960,
         "Hans Herrmann",
         478,
         "German",
         1.0,
         0,
         24
        ],
        [
         1960,
         "Len Sutton",
         536,
         "American",
         0.0,
         0,
         28
        ],
        [
         1960,
         "Tony Bettenhausen",
         529,
         "American",
         0.0,
         0,
         28
        ],
        [
         1960,
         "Bob Christie",
         516,
         "American",
         0.0,
         0,
         28
        ],
        [
         1960,
         "Gene Force",
         534,
         "American",
         0.0,
         0,
         28
        ],
        [
         1960,
         "Dick Rathmann",
         537,
         "American",
         0.0,
         0,
         28
        ],
        [
         1960,
         "Red Amick",
         517,
         "American",
         0.0,
         0,
         28
        ],
        [
         1960,
         "Jimmy Bryan",
         525,
         "American",
         0.0,
         0,
         28
        ],
        [
         1960,
         "Duane Carter",
         518,
         "American",
         0.0,
         0,
         28
        ],
        [
         1960,
         "Wayne Weiler",
         530,
         "American",
         0.0,
         0,
         28
        ],
        [
         1960,
         "Bob Veith",
         514,
         "American",
         0.0,
         0,
         28
        ],
        [
         1960,
         "Lloyd Ruby",
         494,
         "American",
         0.0,
         0,
         28
        ],
        [
         1960,
         "Anthony Foyt",
         531,
         "American",
         0.0,
         0,
         28
        ],
        [
         1960,
         "Shorty Templeman",
         523,
         "American",
         0.0,
         0,
         28
        ],
        [
         1960,
         "Chuck Stevenson",
         521,
         "American",
         0.0,
         0,
         28
        ],
        [
         1960,
         "Troy Ruttman",
         526,
         "American",
         0.0,
         0,
         28
        ],
        [
         1960,
         "Bill Homeier",
         519,
         "American",
         0.0,
         0,
         28
        ],
        [
         1960,
         "Gene Hartley",
         520,
         "American",
         0.0,
         0,
         28
        ],
        [
         1960,
         "Jim Hurtubise",
         524,
         "American",
         0.0,
         0,
         28
        ],
        [
         1960,
         "Dempsey Wilson",
         539,
         "American",
         0.0,
         0,
         28
        ],
        [
         1960,
         "Eddie Sachs",
         527,
         "American",
         0.0,
         0,
         28
        ],
        [
         1960,
         "Jim McWithey",
         535,
         "American",
         0.0,
         0,
         28
        ],
        [
         1960,
         "Al Herman",
         538,
         "American",
         0.0,
         0,
         28
        ],
        [
         1960,
         "Bobby Grim",
         522,
         "American",
         0.0,
         0,
         28
        ],
        [
         1960,
         "Don Freeland",
         528,
         "American",
         0.0,
         0,
         28
        ],
        [
         1960,
         "Johnny Boyd",
         533,
         "American",
         0.0,
         0,
         28
        ],
        [
         1960,
         "Bud Tingelstad",
         515,
         "American",
         0.0,
         0,
         28
        ],
        [
         1960,
         "Eddie Russo",
         532,
         "American",
         0.0,
         0,
         28
        ],
        [
         1960,
         "Brian Naylor",
         484,
         "British",
         0.0,
         0,
         28
        ],
        [
         1960,
         "Harry Schell",
         501,
         "American",
         0.0,
         0,
         28
        ],
        [
         1960,
         "Jack Fairman",
         486,
         "British",
         0.0,
         0,
         28
        ],
        [
         1960,
         "Chuck Daigh",
         507,
         "American",
         0.0,
         0,
         28
        ],
        [
         1960,
         "Masten Gregory",
         418,
         "American",
         0.0,
         0,
         28
        ],
        [
         1960,
         "Dan Gurney",
         364,
         "American",
         0.0,
         0,
         28
        ],
        [
         1960,
         "José Froilán González",
         498,
         "Argentine",
         0.0,
         0,
         28
        ],
        [
         1960,
         "Ettore Chimeri",
         503,
         "Venezuelan",
         0.0,
         0,
         28
        ],
        [
         1960,
         "Lance Reventlow",
         508,
         "American",
         0.0,
         0,
         28
        ],
        [
         1960,
         "David Piper",
         542,
         "British",
         0.0,
         0,
         28
        ],
        [
         1960,
         "Alan Stacey",
         502,
         "British",
         0.0,
         0,
         28
        ],
        [
         1960,
         "Nasif Estéfano",
         439,
         "Argentine",
         0.0,
         0,
         28
        ],
        [
         1960,
         "Roy Salvadori",
         456,
         "British",
         0.0,
         0,
         28
        ],
        [
         1960,
         "Antonio Creus",
         504,
         "Spanish",
         0.0,
         0,
         28
        ],
        [
         1960,
         "Ian Burgess",
         437,
         "British",
         0.0,
         0,
         28
        ],
        [
         1960,
         "Gino Munaron",
         500,
         "Italian",
         0.0,
         0,
         28
        ],
        [
         1960,
         "Alberto Rodriguez Larreta",
         497,
         "Argentine",
         0.0,
         0,
         28
        ],
        [
         1960,
         "Maurice Trintignant",
         427,
         "French",
         0.0,
         0,
         28
        ],
        [
         1960,
         "Keith Greene",
         465,
         "British",
         0.0,
         0,
         28
        ],
        [
         1960,
         "Roberto Bonomi",
         499,
         "Argentine",
         0.0,
         0,
         28
        ],
        [
         1960,
         "Giorgio Scarlatti",
         483,
         "Italian",
         0.0,
         0,
         28
        ],
        [
         1960,
         "Bruce Halford",
         506,
         "British",
         0.0,
         0,
         28
        ],
        [
         1960,
         "Pete Lovely",
         353,
         "American",
         0.0,
         0,
         28
        ],
        [
         1960,
         "Jim Hall",
         440,
         "American",
         0.0,
         0,
         28
        ],
        [
         1960,
         "Carel Godin de Beaufort",
         430,
         "Dutch",
         0.0,
         0,
         28
        ],
        [
         1960,
         "Chris Bristow",
         505,
         "British",
         0.0,
         0,
         28
        ],
        [
         1960,
         "Bob Drake",
         548,
         "American",
         0.0,
         0,
         28
        ],
        [
         1960,
         "Alfonso Thiele",
         491,
         "American-Italian",
         0.0,
         0,
         28
        ],
        [
         1960,
         "Wolfgang Seidel",
         455,
         "German",
         0.0,
         0,
         28
        ],
        [
         1960,
         "Mário de Araújo Cabral",
         432,
         "Portuguese",
         0.0,
         0,
         28
        ],
        [
         1960,
         "Edgar Barth",
         431,
         "German",
         0.0,
         0,
         28
        ],
        [
         1960,
         "Mike Taylor",
         540,
         "British",
         0.0,
         0,
         28
        ],
        [
         1960,
         "Piero Drogo",
         544,
         "Italian",
         0.0,
         0,
         28
        ],
        [
         1960,
         "Arthur Owen",
         546,
         "British",
         0.0,
         0,
         28
        ],
        [
         1960,
         "Vic Wilson",
         398,
         "British",
         0.0,
         0,
         28
        ],
        [
         1960,
         "Horace Gould",
         547,
         "British",
         0.0,
         0,
         28
        ],
        [
         1960,
         "Fred Gamble",
         545,
         "American",
         0.0,
         0,
         28
        ],
        [
         1954,
         "Juan Fangio",
         579,
         "Argentine",
         57.140000104904175,
         6,
         1
        ],
        [
         1954,
         "José Froilán González",
         498,
         "Argentine",
         23.640000343322754,
         1,
         2
        ],
        [
         1954,
         "Mike Hawthorn",
         578,
         "British",
         21.639999866485596,
         1,
         3
        ],
        [
         1954,
         "Maurice Trintignant",
         427,
         "French",
         17.0,
         0,
         4
        ],
        [
         1954,
         "Karl Kling",
         648,
         "German",
         12.0,
         0,
         5
        ],
        [
         1954,
         "Bill Vukovich",
         657,
         "American",
         8.0,
         1,
         6
        ],
        [
         1954,
         "Hans Herrmann",
         478,
         "German",
         8.0,
         0,
         7
        ],
        [
         1954,
         "Jimmy Bryan",
         525,
         "American",
         6.0,
         0,
         8
        ],
        [
         1954,
         "Roberto Mieres",
         643,
         "Argentine",
         6.0,
         0,
         8
        ],
        [
         1954,
         "Luigi Musso",
         577,
         "Italian",
         6.0,
         0,
         8
        ],
        [
         1954,
         "Nino Farina",
         642,
         "Italian",
         6.0,
         0,
         8
        ],
        [
         1954,
         "Jack McGrath",
         658,
         "American",
         5.0,
         0,
         12
        ],
        [
         1954,
         "Onofre Marimón",
         670,
         "Argentine",
         4.139999866485596,
         0,
         13
        ],
        [
         1954,
         "Stirling Moss",
         475,
         "British",
         4.0,
         0,
         14
        ],
        [
         1954,
         "Robert Manzon",
         626,
         "French",
         4.0,
         0,
         14
        ],
        [
         1954,
         "Sergio Mantovani",
         644,
         "Italian",
         4.0,
         0,
         14
        ],
        [
         1954,
         "Prince Bira",
         669,
         "Thai",
         3.0,
         0,
         17
        ],
        [
         1954,
         "Mike Nazaruk",
         673,
         "American",
         2.0,
         0,
         18
        ],
        [
         1954,
         "André Pilette",
         429,
         "Belgian",
         2.0,
         0,
         18
        ],
        [
         1954,
         "Luigi Villoresi",
         633,
         "Italian",
         2.0,
         0,
         18
        ],
        [
         1954,
         "Umberto Maglioli",
         620,
         "Italian",
         2.0,
         0,
         18
        ],
        [
         1954,
         "Élie Bayol",
         625,
         "French",
         2.0,
         0,
         18
        ],
        [
         1954,
         "Troy Ruttman",
         526,
         "American",
         1.5,
         0,
         23
        ],
        [
         1954,
         "Alberto Ascari",
         647,
         "Italian",
         1.0,
         0,
         24
        ],
        [
         1954,
         "Bill Homeier",
         519,
         "American",
         0.0,
         0,
         25
        ],
        [
         1954,
         "Fred Agabashian",
         615,
         "American",
         0.0,
         0,
         25
        ],
        [
         1954,
         "Walt Faulkner",
         654,
         "American",
         0.0,
         0,
         25
        ],
        [
         1954,
         "Jim Rathmann",
         509,
         "American",
         0.0,
         0,
         25
        ],
        [
         1954,
         "Pat O'Connor",
         597,
         "American",
         0.0,
         0,
         25
        ],
        [
         1954,
         "Chuck Stevenson",
         521,
         "American",
         0.0,
         0,
         25
        ],
        [
         1954,
         "Ernie McCoy",
         679,
         "American",
         0.0,
         0,
         25
        ],
        [
         1954,
         "Pat Flaherty",
         559,
         "American",
         0.0,
         0,
         25
        ],
        [
         1954,
         "Don Freeland",
         528,
         "American",
         0.0,
         0,
         25
        ],
        [
         1954,
         "Manny Ayulo",
         675,
         "American",
         0.0,
         0,
         25
        ],
        [
         1954,
         "Jimmy Davies",
         653,
         "American",
         0.0,
         0,
         25
        ],
        [
         1954,
         "Art Cross",
         656,
         "American",
         0.0,
         0,
         25
        ],
        [
         1954,
         "Marshall Teague",
         613,
         "American",
         0.0,
         0,
         25
        ],
        [
         1954,
         "Rodger Ward",
         449,
         "American",
         0.0,
         0,
         25
        ],
        [
         1954,
         "Andy Linden",
         612,
         "American",
         0.0,
         0,
         25
        ],
        [
         1954,
         "Bob Sweikert",
         628,
         "American",
         0.0,
         0,
         25
        ],
        [
         1954,
         "Ed Elisian",
         596,
         "American",
         0.0,
         0,
         25
        ],
        [
         1954,
         "Len Duncan",
         678,
         "American",
         0.0,
         0,
         25
        ],
        [
         1954,
         "Jimmy Daywalt",
         556,
         "American",
         0.0,
         0,
         25
        ],
        [
         1954,
         "Sam Hanks",
         611,
         "American",
         0.0,
         0,
         25
        ],
        [
         1954,
         "George Fonder",
         730,
         "American",
         0.0,
         0,
         25
        ],
        [
         1954,
         "Travis Webb",
         677,
         "American",
         0.0,
         0,
         25
        ],
        [
         1954,
         "Paul Russo",
         555,
         "American",
         0.0,
         0,
         25
        ],
        [
         1954,
         "Eddie Johnson",
         513,
         "American",
         0.0,
         0,
         25
        ],
        [
         1954,
         "Frank Armi",
         676,
         "American",
         0.0,
         0,
         25
        ],
        [
         1954,
         "Larry Crockett",
         674,
         "American",
         0.0,
         0,
         25
        ],
        [
         1954,
         "Jimmy Reece",
         592,
         "American",
         0.0,
         0,
         25
        ],
        [
         1954,
         "Duane Carter",
         518,
         "American",
         0.0,
         0,
         25
        ],
        [
         1954,
         "Gene Hartley",
         520,
         "American",
         0.0,
         0,
         25
        ],
        [
         1954,
         "Jimmy Jackson",
         799,
         "American",
         0.0,
         0,
         25
        ],
        [
         1954,
         "Cal Niday",
         655,
         "American",
         0.0,
         0,
         25
        ],
        [
         1954,
         "Jerry Hoyt",
         659,
         "American",
         0.0,
         0,
         25
        ],
        [
         1954,
         "Johnnie Parsons",
         593,
         "American",
         0.0,
         0,
         25
        ],
        [
         1954,
         "Johnny Thomson",
         512,
         "American",
         0.0,
         0,
         25
        ],
        [
         1954,
         "Bob Scott",
         702,
         "American",
         0.0,
         0,
         25
        ],
        [
         1954,
         "Danny Kladis",
         805,
         "American",
         0.0,
         0,
         25
        ],
        [
         1954,
         "Tony Bettenhausen",
         529,
         "American",
         0.0,
         0,
         25
        ],
        [
         1954,
         "Roy Salvadori",
         456,
         "British",
         0.0,
         0,
         25
        ],
        [
         1954,
         "Louis Rosier",
         627,
         "French",
         0.0,
         0,
         25
        ],
        [
         1954,
         "Ron Flockhart",
         541,
         "British",
         0.0,
         0,
         25
        ],
        [
         1954,
         "Leslie Thorne",
         683,
         "British",
         0.0,
         0,
         25
        ],
        [
         1954,
         "Rodney Nuckey",
         690,
         "British",
         0.0,
         0,
         25
        ],
        [
         1954,
         "Bob Gerard",
         619,
         "British",
         0.0,
         0,
         25
        ],
        [
         1954,
         "Jean Behra",
         554,
         "French",
         0.0,
         0,
         25
        ],
        [
         1954,
         "Don Beauman",
         682,
         "British",
         0.0,
         0,
         25
        ],
        [
         1954,
         "Ken Wharton",
         663,
         "British",
         0.0,
         0,
         25
        ],
        [
         1954,
         "John Riseley-Prichard",
         685,
         "British",
         0.0,
         0,
         25
        ],
        [
         1954,
         "Leslie Marr",
         665,
         "British",
         0.0,
         0,
         25
        ],
        [
         1954,
         "Harry Schell",
         501,
         "American",
         0.0,
         0,
         25
        ],
        [
         1954,
         "Alan Brown",
         689,
         "British",
         0.0,
         0,
         25
        ],
        [
         1954,
         "Horace Gould",
         547,
         "British",
         0.0,
         0,
         25
        ],
        [
         1954,
         "Clemar Bucci",
         645,
         "Argentine",
         0.0,
         0,
         25
        ],
        [
         1954,
         "Eric Brandon",
         688,
         "British",
         0.0,
         0,
         25
        ],
        [
         1954,
         "Bill Whitehouse",
         684,
         "British",
         0.0,
         0,
         25
        ],
        [
         1954,
         "Peter Collins",
         581,
         "British",
         0.0,
         0,
         25
        ],
        [
         1954,
         "Reg Parnell",
         686,
         "British",
         0.0,
         0,
         25
        ],
        [
         1954,
         "Peter Whitehead",
         687,
         "British",
         0.0,
         0,
         25
        ],
        [
         1954,
         "Paul Frère",
         632,
         "Belgian",
         0.0,
         0,
         25
        ],
        [
         1954,
         "Jacques Swaters",
         680,
         "American",
         0.0,
         0,
         25
        ],
        [
         1954,
         "Ottorino Volonterio",
         638,
         "Swiss",
         0.0,
         0,
         25
        ],
        [
         1954,
         "Toulo de Graffenried",
         640,
         "Swiss",
         0.0,
         0,
         25
        ],
        [
         1954,
         "Theo Helfrich",
         692,
         "German",
         0.0,
         0,
         25
        ],
        [
         1954,
         "Hermann Lang",
         691,
         "German",
         0.0,
         0,
         25
        ],
        [
         1954,
         "Jacques Pollet",
         650,
         "French",
         0.0,
         0,
         25
        ],
        [
         1954,
         "Piero Taruffi",
         641,
         "Italian",
         0.0,
         0,
         25
        ],
        [
         1954,
         "Paco Godia",
         580,
         "Spanish",
         0.0,
         0,
         25
        ],
        [
         1954,
         "Lance Macklin",
         651,
         "British",
         0.0,
         0,
         25
        ],
        [
         1954,
         "Fred Wacker",
         693,
         "American",
         0.0,
         0,
         25
        ],
        [
         1954,
         "Jorge Daponte",
         672,
         "Argentine",
         0.0,
         0,
         25
        ],
        [
         1954,
         "Georges Berger",
         681,
         "Belgian",
         0.0,
         0,
         25
        ],
        [
         1954,
         "Carlos Menditeguy",
         496,
         "Argentine",
         0.0,
         0,
         25
        ],
        [
         1954,
         "Giovanni de Riu",
         694,
         "Italian",
         0.0,
         0,
         25
        ],
        [
         1954,
         "Roger Loyer",
         671,
         "French",
         0.0,
         0,
         25
        ],
        [
         1959,
         "Jack Brabham",
         356,
         "Australian",
         34.0,
         2,
         1
        ],
        [
         1959,
         "Tony Brooks",
         479,
         "British",
         27.0,
         2,
         2
        ],
        [
         1959,
         "Stirling Moss",
         475,
         "British",
         25.5,
         2,
         3
        ],
        [
         1959,
         "Phil Hill",
         403,
         "American",
         20.0,
         0,
         4
        ],
        [
         1959,
         "Maurice Trintignant",
         427,
         "French",
         19.0,
         0,
         5
        ],
        [
         1959,
         "Bruce McLaren",
         360,
         "New Zealander",
         16.5,
         1,
         6
        ],
        [
         1959,
         "Dan Gurney",
         364,
         "American",
         13.0,
         0,
         7
        ],
        [
         1959,
         "Jo Bonnier",
         347,
         "Swedish",
         10.0,
         1,
         8
        ],
        [
         1959,
         "Masten Gregory",
         418,
         "American",
         10.0,
         0,
         9
        ],
        [
         1959,
         "Rodger Ward",
         449,
         "American",
         8.0,
         1,
         10
        ],
        [
         1959,
         "Jim Rathmann",
         509,
         "American",
         6.0,
         0,
         11
        ],
        [
         1959,
         "Johnny Thomson",
         512,
         "American",
         5.0,
         0,
         12
        ],
        [
         1959,
         "Harry Schell",
         501,
         "American",
         5.0,
         0,
         12
        ],
        [
         1959,
         "Innes Ireland",
         404,
         "British",
         5.0,
         0,
         12
        ],
        [
         1959,
         "Tony Bettenhausen",
         529,
         "American",
         3.0,
         0,
         15
        ],
        [
         1959,
         "Olivier Gendebien",
         482,
         "Belgian",
         3.0,
         0,
         15
        ],
        [
         1959,
         "Paul Goldsmith",
         510,
         "American",
         2.0,
         0,
         17
        ],
        [
         1959,
         "Cliff Allison",
         477,
         "British",
         2.0,
         0,
         17
        ],
        [
         1959,
         "Jean Behra",
         554,
         "French",
         2.0,
         0,
         17
        ],
        [
         1959,
         "Dick Rathmann",
         537,
         "American",
         0.0,
         0,
         20
        ],
        [
         1959,
         "Anthony Foyt",
         531,
         "American",
         0.0,
         0,
         20
        ],
        [
         1959,
         "Pat Flaherty",
         559,
         "American",
         0.0,
         0,
         20
        ],
        [
         1959,
         "Bob Christie",
         516,
         "American",
         0.0,
         0,
         20
        ],
        [
         1959,
         "Don Freeland",
         528,
         "American",
         0.0,
         0,
         20
        ],
        [
         1959,
         "Jack Turner",
         562,
         "American",
         0.0,
         0,
         20
        ],
        [
         1959,
         "Eddie Johnson",
         513,
         "American",
         0.0,
         0,
         20
        ],
        [
         1959,
         "Don Branson",
         511,
         "American",
         0.0,
         0,
         20
        ],
        [
         1959,
         "Jimmy Daywalt",
         556,
         "American",
         0.0,
         0,
         20
        ],
        [
         1959,
         "Eddie Sachs",
         527,
         "American",
         0.0,
         0,
         20
        ],
        [
         1959,
         "Red Amick",
         517,
         "American",
         0.0,
         0,
         20
        ],
        [
         1959,
         "Chuck Weyant",
         563,
         "American",
         0.0,
         0,
         20
        ],
        [
         1959,
         "Chuck Arnold",
         557,
         "American",
         0.0,
         0,
         20
        ],
        [
         1959,
         "Bobby Grim",
         522,
         "American",
         0.0,
         0,
         20
        ],
        [
         1959,
         "Al Keller",
         558,
         "American",
         0.0,
         0,
         20
        ],
        [
         1959,
         "Jim McWithey",
         535,
         "American",
         0.0,
         0,
         20
        ],
        [
         1959,
         "Paul Russo",
         555,
         "American",
         0.0,
         0,
         20
        ],
        [
         1959,
         "Duane Carter",
         518,
         "American",
         0.0,
         0,
         20
        ],
        [
         1959,
         "Al Herman",
         538,
         "American",
         0.0,
         0,
         20
        ],
        [
         1959,
         "Jud Larson",
         564,
         "American",
         0.0,
         0,
         20
        ],
        [
         1959,
         "Gene Hartley",
         520,
         "American",
         0.0,
         0,
         20
        ],
        [
         1959,
         "Bob Veith",
         514,
         "American",
         0.0,
         0,
         20
        ],
        [
         1959,
         "Len Sutton",
         536,
         "American",
         0.0,
         0,
         20
        ],
        [
         1959,
         "Jimmy Bryan",
         525,
         "American",
         0.0,
         0,
         20
        ],
        [
         1959,
         "Bill Cheesbourg",
         560,
         "American",
         0.0,
         0,
         20
        ],
        [
         1959,
         "Mike Magill",
         565,
         "American",
         0.0,
         0,
         20
        ],
        [
         1959,
         "Ray Crawford",
         561,
         "American",
         0.0,
         0,
         20
        ],
        [
         1959,
         "Johnny Boyd",
         533,
         "American",
         0.0,
         0,
         20
        ],
        [
         1959,
         "Dennis Taylor",
         571,
         "British",
         0.0,
         0,
         20
        ],
        [
         1959,
         "David Piper",
         542,
         "British",
         0.0,
         0,
         20
        ],
        [
         1959,
         "Carroll Shelby",
         566,
         "American",
         0.0,
         0,
         20
        ],
        [
         1959,
         "Hans Herrmann",
         478,
         "German",
         0.0,
         0,
         20
        ],
        [
         1959,
         "Alan Stacey",
         502,
         "British",
         0.0,
         0,
         20
        ],
        [
         1959,
         "Fritz d'Orey",
         567,
         "Brazilian",
         0.0,
         0,
         20
        ],
        [
         1959,
         "Keith Greene",
         465,
         "British",
         0.0,
         0,
         20
        ],
        [
         1959,
         "Jack Fairman",
         486,
         "British",
         0.0,
         0,
         20
        ],
        [
         1959,
         "Mike Parkes",
         387,
         "British",
         0.0,
         0,
         20
        ],
        [
         1959,
         "Chris Bristow",
         505,
         "British",
         0.0,
         0,
         20
        ],
        [
         1959,
         "Graham Hill",
         289,
         "British",
         0.0,
         0,
         20
        ],
        [
         1959,
         "Ian Burgess",
         437,
         "British",
         0.0,
         0,
         20
        ],
        [
         1959,
         "Henry Taylor",
         481,
         "British",
         0.0,
         0,
         20
        ],
        [
         1959,
         "Trevor Taylor",
         401,
         "British",
         0.0,
         0,
         20
        ],
        [
         1959,
         "Bill Moss",
         570,
         "British",
         0.0,
         0,
         20
        ],
        [
         1959,
         "Mike Taylor",
         540,
         "British",
         0.0,
         0,
         20
        ],
        [
         1959,
         "Brian Naylor",
         484,
         "British",
         0.0,
         0,
         20
        ],
        [
         1959,
         "Ron Flockhart",
         541,
         "British",
         0.0,
         0,
         20
        ],
        [
         1959,
         "Peter Ashdown",
         569,
         "British",
         0.0,
         0,
         20
        ],
        [
         1959,
         "Roy Salvadori",
         456,
         "British",
         0.0,
         0,
         20
        ],
        [
         1959,
         "Ivor Bueb",
         549,
         "British",
         0.0,
         0,
         20
        ],
        [
         1959,
         "Tim Parnell",
         441,
         "British",
         0.0,
         0,
         20
        ],
        [
         1959,
         "George Constantine",
         574,
         "American",
         0.0,
         0,
         20
        ],
        [
         1959,
         "Giorgio Scarlatti",
         483,
         "Italian",
         0.0,
         0,
         20
        ],
        [
         1959,
         "Bob Said",
         575,
         "American",
         0.0,
         0,
         20
        ],
        [
         1959,
         "Jean Lucienbonnet",
         552,
         "French",
         0.0,
         0,
         20
        ],
        [
         1959,
         "Carel Godin de Beaufort",
         430,
         "Dutch",
         0.0,
         0,
         20
        ],
        [
         1959,
         "Harry Blanchard",
         572,
         "American",
         0.0,
         0,
         20
        ],
        [
         1959,
         "André Testut",
         553,
         "Monegasque",
         0.0,
         0,
         20
        ],
        [
         1959,
         "Phil Cade",
         576,
         "American",
         0.0,
         0,
         20
        ],
        [
         1959,
         "Colin Davis",
         462,
         "British",
         0.0,
         0,
         20
        ],
        [
         1959,
         "Azdrubal Fontes",
         568,
         "Uruguayan",
         0.0,
         0,
         20
        ],
        [
         1959,
         "Giulio Cabianca",
         543,
         "Italian",
         0.0,
         0,
         20
        ],
        [
         1959,
         "Pete Lovely",
         353,
         "American",
         0.0,
         0,
         20
        ],
        [
         1959,
         "Maria de Filippis",
         551,
         "Italian",
         0.0,
         0,
         20
        ],
        [
         1959,
         "Alessandro de Tomaso",
         573,
         "Argentine-Italian",
         0.0,
         0,
         20
        ],
        [
         1959,
         "Wolfgang von Trips",
         476,
         "German",
         0.0,
         0,
         20
        ],
        [
         1959,
         "Bruce Halford",
         506,
         "British",
         0.0,
         0,
         20
        ],
        [
         1959,
         "Alain de Changy",
         550,
         "Belgian",
         0.0,
         0,
         20
        ],
        [
         1959,
         "Lucien Bianchi",
         376,
         "Belgian",
         0.0,
         0,
         20
        ],
        [
         1959,
         "Mário de Araújo Cabral",
         432,
         "Portuguese",
         0.0,
         0,
         20
        ],
        [
         1958,
         "Mike Hawthorn",
         578,
         "British",
         49.0,
         1,
         1
        ],
        [
         1958,
         "Stirling Moss",
         475,
         "British",
         41.0,
         4,
         2
        ],
        [
         1958,
         "Tony Brooks",
         479,
         "British",
         24.0,
         3,
         3
        ],
        [
         1958,
         "Roy Salvadori",
         456,
         "British",
         15.0,
         0,
         4
        ],
        [
         1958,
         "Peter Collins",
         581,
         "British",
         14.0,
         1,
         5
        ],
        [
         1958,
         "Harry Schell",
         501,
         "American",
         14.0,
         0,
         6
        ],
        [
         1958,
         "Maurice Trintignant",
         427,
         "French",
         12.0,
         1,
         7
        ],
        [
         1958,
         "Luigi Musso",
         577,
         "Italian",
         12.0,
         0,
         8
        ],
        [
         1958,
         "Stuart Lewis-Evans",
         590,
         "British",
         11.0,
         0,
         9
        ],
        [
         1958,
         "Jean Behra",
         554,
         "French",
         9.0,
         0,
         10
        ],
        [
         1958,
         "Wolfgang von Trips",
         476,
         "German",
         9.0,
         0,
         10
        ],
        [
         1958,
         "Phil Hill",
         403,
         "American",
         9.0,
         0,
         10
        ],
        [
         1958,
         "Jimmy Bryan",
         525,
         "American",
         8.0,
         1,
         13
        ],
        [
         1958,
         "Juan Fangio",
         579,
         "Argentine",
         7.0,
         0,
         14
        ],
        [
         1958,
         "George Amick",
         591,
         "American",
         6.0,
         0,
         15
        ],
        [
         1958,
         "Johnny Boyd",
         533,
         "American",
         4.0,
         0,
         16
        ],
        [
         1958,
         "Tony Bettenhausen",
         529,
         "American",
         4.0,
         0,
         16
        ],
        [
         1958,
         "Jo Bonnier",
         347,
         "Swedish",
         3.0,
         0,
         18
        ],
        [
         1958,
         "Jack Brabham",
         356,
         "Australian",
         3.0,
         0,
         18
        ],
        [
         1958,
         "Cliff Allison",
         477,
         "British",
         3.0,
         0,
         18
        ],
        [
         1958,
         "Jim Rathmann",
         509,
         "American",
         2.0,
         0,
         21
        ],
        [
         1958,
         "Anthony Foyt",
         531,
         "American",
         0.0,
         0,
         22
        ],
        [
         1958,
         "Bob Veith",
         514,
         "American",
         0.0,
         0,
         22
        ],
        [
         1958,
         "Jerry Unser",
         598,
         "American",
         0.0,
         0,
         22
        ],
        [
         1958,
         "Johnnie Tolan",
         594,
         "American",
         0.0,
         0,
         22
        ],
        [
         1958,
         "Mike Magill",
         565,
         "American",
         0.0,
         0,
         22
        ],
        [
         1958,
         "Paul Russo",
         555,
         "American",
         0.0,
         0,
         22
        ],
        [
         1958,
         "Eddie Johnson",
         513,
         "American",
         0.0,
         0,
         22
        ],
        [
         1958,
         "Al Keller",
         558,
         "American",
         0.0,
         0,
         22
        ],
        [
         1958,
         "Don Freeland",
         528,
         "American",
         0.0,
         0,
         22
        ],
        [
         1958,
         "Johnnie Parsons",
         593,
         "American",
         0.0,
         0,
         22
        ],
        [
         1958,
         "Pat O'Connor",
         597,
         "American",
         0.0,
         0,
         22
        ],
        [
         1958,
         "Jimmy Reece",
         592,
         "American",
         0.0,
         0,
         22
        ],
        [
         1958,
         "Rodger Ward",
         449,
         "American",
         0.0,
         0,
         22
        ],
        [
         1958,
         "Billy Garrett",
         595,
         "American",
         0.0,
         0,
         22
        ],
        [
         1958,
         "Johnny Thomson",
         512,
         "American",
         0.0,
         0,
         22
        ],
        [
         1958,
         "Ed Elisian",
         596,
         "American",
         0.0,
         0,
         22
        ],
        [
         1958,
         "Art Bisch",
         599,
         "American",
         0.0,
         0,
         22
        ],
        [
         1958,
         "Bill Cheesbourg",
         560,
         "American",
         0.0,
         0,
         22
        ],
        [
         1958,
         "Dick Rathmann",
         537,
         "American",
         0.0,
         0,
         22
        ],
        [
         1958,
         "Chuck Weyant",
         563,
         "American",
         0.0,
         0,
         22
        ],
        [
         1958,
         "Paul Goldsmith",
         510,
         "American",
         0.0,
         0,
         22
        ],
        [
         1958,
         "Len Sutton",
         536,
         "American",
         0.0,
         0,
         22
        ],
        [
         1958,
         "Shorty Templeman",
         523,
         "American",
         0.0,
         0,
         22
        ],
        [
         1958,
         "Jack Turner",
         562,
         "American",
         0.0,
         0,
         22
        ],
        [
         1958,
         "Bob Christie",
         516,
         "American",
         0.0,
         0,
         22
        ],
        [
         1958,
         "Dempsey Wilson",
         539,
         "American",
         0.0,
         0,
         22
        ],
        [
         1958,
         "Jud Larson",
         564,
         "American",
         0.0,
         0,
         22
        ],
        [
         1958,
         "Eddie Sachs",
         527,
         "American",
         0.0,
         0,
         22
        ],
        [
         1958,
         "Luigi Taramazzo",
         588,
         "Italian",
         0.0,
         0,
         22
        ],
        [
         1958,
         "Giulio Cabianca",
         543,
         "Italian",
         0.0,
         0,
         22
        ],
        [
         1958,
         "Bernie Ecclestone",
         587,
         "British",
         0.0,
         0,
         22
        ],
        [
         1958,
         "Paco Godia",
         580,
         "Spanish",
         0.0,
         0,
         22
        ],
        [
         1958,
         "Maria de Filippis",
         551,
         "Italian",
         0.0,
         0,
         22
        ],
        [
         1958,
         "Giorgio Scarlatti",
         483,
         "Italian",
         0.0,
         0,
         22
        ],
        [
         1958,
         "Louis Chiron",
         589,
         "Monegasque",
         0.0,
         0,
         22
        ],
        [
         1958,
         "Luigi Piotti",
         586,
         "Italian",
         0.0,
         0,
         22
        ],
        [
         1958,
         "Gerino Gerini",
         583,
         "Italian",
         0.0,
         0,
         22
        ],
        [
         1958,
         "Ken Kavanagh",
         582,
         "Australian",
         0.0,
         0,
         22
        ],
        [
         1958,
         "André Testut",
         553,
         "Monegasque",
         0.0,
         0,
         22
        ],
        [
         1958,
         "Paul Emery",
         585,
         "British",
         0.0,
         0,
         22
        ],
        [
         1958,
         "Bruce Kessler",
         584,
         "American",
         0.0,
         0,
         22
        ],
        [
         1958,
         "Graham Hill",
         289,
         "British",
         0.0,
         0,
         22
        ],
        [
         1958,
         "Ron Flockhart",
         541,
         "British",
         0.0,
         0,
         22
        ],
        [
         1958,
         "Horace Gould",
         547,
         "British",
         0.0,
         0,
         22
        ],
        [
         1958,
         "Hans Herrmann",
         478,
         "German",
         0.0,
         0,
         22
        ],
        [
         1958,
         "Edgar Barth",
         431,
         "German",
         0.0,
         0,
         22
        ],
        [
         1958,
         "Wolfgang Seidel",
         455,
         "German",
         0.0,
         0,
         22
        ],
        [
         1958,
         "André Guelfi",
         603,
         "French",
         0.0,
         0,
         22
        ],
        [
         1958,
         "Olivier Gendebien",
         482,
         "Belgian",
         0.0,
         0,
         22
        ],
        [
         1958,
         "Brian Naylor",
         484,
         "British",
         0.0,
         0,
         22
        ],
        [
         1958,
         "Jack Fairman",
         486,
         "British",
         0.0,
         0,
         22
        ],
        [
         1958,
         "Masten Gregory",
         418,
         "American",
         0.0,
         0,
         22
        ],
        [
         1958,
         "Christian Goethals",
         600,
         "Belgian",
         0.0,
         0,
         22
        ],
        [
         1958,
         "Tony Marsh",
         459,
         "British",
         0.0,
         0,
         22
        ],
        [
         1958,
         "Ian Burgess",
         437,
         "British",
         0.0,
         0,
         22
        ],
        [
         1958,
         "Carel Godin de Beaufort",
         430,
         "Dutch",
         0.0,
         0,
         22
        ],
        [
         1958,
         "François Picard",
         604,
         "French",
         0.0,
         0,
         22
        ],
        [
         1958,
         "Dick Gibson",
         601,
         "British",
         0.0,
         0,
         22
        ],
        [
         1958,
         "Troy Ruttman",
         526,
         "American",
         0.0,
         0,
         22
        ],
        [
         1958,
         "Bruce McLaren",
         360,
         "New Zealander",
         0.0,
         0,
         22
        ],
        [
         1958,
         "Robert La Caze",
         602,
         "French",
         0.0,
         0,
         22
        ],
        [
         1958,
         "Ivor Bueb",
         549,
         "British",
         0.0,
         0,
         22
        ],
        [
         1958,
         "Tom Bridger",
         605,
         "British",
         0.0,
         0,
         22
        ],
        [
         1958,
         "Alan Stacey",
         502,
         "British",
         0.0,
         0,
         22
        ],
        [
         1958,
         "Carroll Shelby",
         566,
         "American",
         0.0,
         0,
         22
        ],
        [
         1958,
         "Carlos Menditeguy",
         496,
         "Argentine",
         0.0,
         0,
         22
        ],
        [
         1956,
         "Stirling Moss",
         475,
         "British",
         24.0,
         2,
         1
        ],
        [
         1956,
         "Juan Fangio",
         579,
         "Argentine",
         22.5,
         2,
         2
        ],
        [
         1956,
         "Peter Collins",
         581,
         "British",
         22.0,
         2,
         3
        ],
        [
         1956,
         "Jean Behra",
         554,
         "French",
         22.0,
         0,
         4
        ],
        [
         1956,
         "Pat Flaherty",
         559,
         "American",
         8.0,
         1,
         5
        ],
        [
         1956,
         "Sam Hanks",
         611,
         "American",
         6.0,
         0,
         6
        ],
        [
         1956,
         "Eugenio Castellotti",
         608,
         "Italian",
         6.0,
         0,
         6
        ],
        [
         1956,
         "Paco Godia",
         580,
         "Spanish",
         6.0,
         0,
         6
        ],
        [
         1956,
         "Paul Frère",
         632,
         "Belgian",
         6.0,
         0,
         6
        ],
        [
         1956,
         "Luigi Musso",
         577,
         "Italian",
         5.0,
         1,
         10
        ],
        [
         1956,
         "Jack Fairman",
         486,
         "British",
         5.0,
         0,
         11
        ],
        [
         1956,
         "Don Freeland",
         528,
         "American",
         4.0,
         0,
         12
        ],
        [
         1956,
         "Mike Hawthorn",
         578,
         "British",
         4.0,
         0,
         12
        ],
        [
         1956,
         "Ron Flockhart",
         541,
         "British",
         4.0,
         0,
         12
        ],
        [
         1956,
         "Johnnie Parsons",
         593,
         "American",
         3.0,
         0,
         15
        ],
        [
         1956,
         "Cesare Perdisa",
         607,
         "Italian",
         3.0,
         0,
         15
        ],
        [
         1956,
         "Alfonso de Portago",
         606,
         "Spanish",
         3.0,
         0,
         15
        ],
        [
         1956,
         "Harry Schell",
         501,
         "American",
         3.0,
         0,
         15
        ],
        [
         1956,
         "Dick Rathmann",
         537,
         "American",
         2.0,
         0,
         19
        ],
        [
         1956,
         "Horace Gould",
         547,
         "British",
         2.0,
         0,
         19
        ],
        [
         1956,
         "Hernando da Silva Ramos",
         624,
         "Brazilian",
         2.0,
         0,
         19
        ],
        [
         1956,
         "Luigi Villoresi",
         633,
         "Italian",
         2.0,
         0,
         19
        ],
        [
         1956,
         "Louis Rosier",
         627,
         "French",
         2.0,
         0,
         19
        ],
        [
         1956,
         "Olivier Gendebien",
         482,
         "Belgian",
         2.0,
         0,
         19
        ],
        [
         1956,
         "Gerino Gerini",
         583,
         "Italian",
         1.5,
         0,
         25
        ],
        [
         1956,
         "Chico Landi",
         622,
         "Brazilian",
         1.5,
         0,
         25
        ],
        [
         1956,
         "Paul Russo",
         555,
         "American",
         1.0,
         0,
         27
        ],
        [
         1956,
         "Troy Ruttman",
         526,
         "American",
         0.0,
         0,
         28
        ],
        [
         1956,
         "Keith Andrews",
         631,
         "American",
         0.0,
         0,
         28
        ],
        [
         1956,
         "Rodger Ward",
         449,
         "American",
         0.0,
         0,
         28
        ],
        [
         1956,
         "Johnnie Tolan",
         594,
         "American",
         0.0,
         0,
         28
        ],
        [
         1956,
         "Ray Crawford",
         561,
         "American",
         0.0,
         0,
         28
        ],
        [
         1956,
         "Jimmy Daywalt",
         556,
         "American",
         0.0,
         0,
         28
        ],
        [
         1956,
         "Tony Bettenhausen",
         529,
         "American",
         0.0,
         0,
         28
        ],
        [
         1956,
         "Pat O'Connor",
         597,
         "American",
         0.0,
         0,
         28
        ],
        [
         1956,
         "Ed Elisian",
         596,
         "American",
         0.0,
         0,
         28
        ],
        [
         1956,
         "Bob Sweikert",
         628,
         "American",
         0.0,
         0,
         28
        ],
        [
         1956,
         "Fred Agabashian",
         615,
         "American",
         0.0,
         0,
         28
        ],
        [
         1956,
         "Andy Linden",
         612,
         "American",
         0.0,
         0,
         28
        ],
        [
         1956,
         "Eddie Johnson",
         513,
         "American",
         0.0,
         0,
         28
        ],
        [
         1956,
         "Eddie Russo",
         532,
         "American",
         0.0,
         0,
         28
        ],
        [
         1956,
         "Jimmy Bryan",
         525,
         "American",
         0.0,
         0,
         28
        ],
        [
         1956,
         "Jack Turner",
         562,
         "American",
         0.0,
         0,
         28
        ],
        [
         1956,
         "Al Keller",
         558,
         "American",
         0.0,
         0,
         28
        ],
        [
         1956,
         "Bob Veith",
         514,
         "American",
         0.0,
         0,
         28
        ],
        [
         1956,
         "Duke Dinsmore",
         630,
         "American",
         0.0,
         0,
         28
        ],
        [
         1956,
         "Billy Garrett",
         595,
         "American",
         0.0,
         0,
         28
        ],
        [
         1956,
         "Johnny Boyd",
         533,
         "American",
         0.0,
         0,
         28
        ],
        [
         1956,
         "Johnny Thomson",
         512,
         "American",
         0.0,
         0,
         28
        ],
        [
         1956,
         "Jim Rathmann",
         509,
         "American",
         0.0,
         0,
         28
        ],
        [
         1956,
         "Al Herman",
         538,
         "American",
         0.0,
         0,
         28
        ],
        [
         1956,
         "Cliff Griffith",
         629,
         "American",
         0.0,
         0,
         28
        ],
        [
         1956,
         "Bob Christie",
         516,
         "American",
         0.0,
         0,
         28
        ],
        [
         1956,
         "Gene Hartley",
         520,
         "American",
         0.0,
         0,
         28
        ],
        [
         1956,
         "Jimmy Reece",
         592,
         "American",
         0.0,
         0,
         28
        ],
        [
         1956,
         "Maurice Trintignant",
         427,
         "French",
         0.0,
         0,
         28
        ],
        [
         1956,
         "Jack Brabham",
         356,
         "Australian",
         0.0,
         0,
         28
        ],
        [
         1956,
         "Archie Scott Brown",
         637,
         "British",
         0.0,
         0,
         28
        ],
        [
         1956,
         "Bruce Halford",
         506,
         "British",
         0.0,
         0,
         28
        ],
        [
         1956,
         "José Froilán González",
         498,
         "Argentine",
         0.0,
         0,
         28
        ],
        [
         1956,
         "Desmond Titterington",
         636,
         "British",
         0.0,
         0,
         28
        ],
        [
         1956,
         "Paul Emery",
         585,
         "British",
         0.0,
         0,
         28
        ],
        [
         1956,
         "Robert Manzon",
         626,
         "French",
         0.0,
         0,
         28
        ],
        [
         1956,
         "Umberto Maglioli",
         620,
         "Italian",
         0.0,
         0,
         28
        ],
        [
         1956,
         "Tony Brooks",
         479,
         "British",
         0.0,
         0,
         28
        ],
        [
         1956,
         "Bob Gerard",
         619,
         "British",
         0.0,
         0,
         28
        ],
        [
         1956,
         "Roy Salvadori",
         456,
         "British",
         0.0,
         0,
         28
        ],
        [
         1956,
         "Jo Bonnier",
         347,
         "Swedish",
         0.0,
         0,
         28
        ],
        [
         1956,
         "Toulo de Graffenried",
         640,
         "Swiss",
         0.0,
         0,
         28
        ],
        [
         1956,
         "André Simon",
         609,
         "French",
         0.0,
         0,
         28
        ],
        [
         1956,
         "Piero Taruffi",
         641,
         "Italian",
         0.0,
         0,
         28
        ],
        [
         1956,
         "Les Leston",
         610,
         "British",
         0.0,
         0,
         28
        ],
        [
         1956,
         "Luigi Piotti",
         586,
         "Italian",
         0.0,
         0,
         28
        ],
        [
         1956,
         "Wolfgang von Trips",
         476,
         "German",
         0.0,
         0,
         28
        ],
        [
         1956,
         "Élie Bayol",
         625,
         "French",
         0.0,
         0,
         28
        ],
        [
         1956,
         "Carlos Menditeguy",
         496,
         "Argentine",
         0.0,
         0,
         28
        ],
        [
         1956,
         "Alberto Uria",
         623,
         "Uruguayan",
         0.0,
         0,
         28
        ],
        [
         1956,
         "André Pilette",
         429,
         "Belgian",
         0.0,
         0,
         28
        ],
        [
         1956,
         "Giorgio Scarlatti",
         483,
         "Italian",
         0.0,
         0,
         28
        ],
        [
         1956,
         "Óscar González",
         806,
         "Uruguayan",
         0.0,
         0,
         28
        ],
        [
         1956,
         "André Milhoux",
         639,
         "Belgian",
         0.0,
         0,
         28
        ],
        [
         1956,
         "Louis Chiron",
         589,
         "Monegasque",
         0.0,
         0,
         28
        ],
        [
         1956,
         "Piero Scotti",
         634,
         "Italian",
         0.0,
         0,
         28
        ],
        [
         1956,
         "Ottorino Volonterio",
         638,
         "Swiss",
         0.0,
         0,
         28
        ],
        [
         1956,
         "Colin Chapman",
         635,
         "British",
         0.0,
         0,
         28
        ],
        [
         1951,
         "Juan Fangio",
         579,
         "Argentine",
         32.0,
         2,
         1
        ],
        [
         1951,
         "Alberto Ascari",
         647,
         "Italian",
         28.0,
         2,
         2
        ],
        [
         1951,
         "José Froilán González",
         498,
         "Argentine",
         27.0,
         1,
         3
        ],
        [
         1951,
         "Nino Farina",
         642,
         "Italian",
         19.0,
         1,
         4
        ],
        [
         1951,
         "Luigi Villoresi",
         633,
         "Italian",
         18.0,
         0,
         5
        ],
        [
         1951,
         "Piero Taruffi",
         641,
         "Italian",
         10.0,
         0,
         6
        ],
        [
         1951,
         "Lee Wallard",
         766,
         "American",
         9.0,
         1,
         7
        ],
        [
         1951,
         "Felice Bonetto",
         697,
         "Italian",
         7.0,
         0,
         8
        ],
        [
         1951,
         "Mike Nazaruk",
         673,
         "American",
         6.0,
         0,
         9
        ],
        [
         1951,
         "Reg Parnell",
         686,
         "British",
         5.0,
         0,
         10
        ],
        [
         1951,
         "Luigi Fagioli",
         786,
         "Italian",
         4.0,
         1,
         11
        ],
        [
         1951,
         "Andy Linden",
         612,
         "American",
         3.0,
         0,
         12
        ],
        [
         1951,
         "Louis Rosier",
         627,
         "French",
         3.0,
         0,
         12
        ],
        [
         1951,
         "Consalvo Sanesi",
         763,
         "Italian",
         3.0,
         0,
         12
        ],
        [
         1951,
         "Bobby Ball",
         734,
         "American",
         2.0,
         0,
         15
        ],
        [
         1951,
         "Manny Ayulo",
         675,
         "American",
         2.0,
         0,
         15
        ],
        [
         1951,
         "Jack McGrath",
         658,
         "American",
         2.0,
         0,
         15
        ],
        [
         1951,
         "Toulo de Graffenried",
         640,
         "Swiss",
         2.0,
         0,
         15
        ],
        [
         1951,
         "Yves Cabantous",
         704,
         "French",
         2.0,
         0,
         15
        ],
        [
         1951,
         "Mack Hellings",
         772,
         "American",
         0.0,
         0,
         20
        ],
        [
         1951,
         "Walt Brown",
         771,
         "American",
         0.0,
         0,
         20
        ],
        [
         1951,
         "Duke Nalon",
         699,
         "American",
         0.0,
         0,
         20
        ],
        [
         1951,
         "Walt Faulkner",
         654,
         "American",
         0.0,
         0,
         20
        ],
        [
         1951,
         "Troy Ruttman",
         526,
         "American",
         0.0,
         0,
         20
        ],
        [
         1951,
         "Gene Force",
         534,
         "American",
         0.0,
         0,
         20
        ],
        [
         1951,
         "Cliff Griffith",
         629,
         "American",
         0.0,
         0,
         20
        ],
        [
         1951,
         "Joe James",
         728,
         "American",
         0.0,
         0,
         20
        ],
        [
         1951,
         "Bill Vukovich",
         657,
         "American",
         0.0,
         0,
         20
        ],
        [
         1951,
         "Carl Scarborough",
         700,
         "American",
         0.0,
         0,
         20
        ],
        [
         1951,
         "Chet Miller",
         733,
         "American",
         0.0,
         0,
         20
        ],
        [
         1951,
         "Chuck Stevenson",
         521,
         "American",
         0.0,
         0,
         20
        ],
        [
         1951,
         "Bill Schindler",
         729,
         "American",
         0.0,
         0,
         20
        ],
        [
         1951,
         "Johnny McDowell",
         732,
         "American",
         0.0,
         0,
         20
        ],
        [
         1951,
         "Fred Agabashian",
         615,
         "American",
         0.0,
         0,
         20
        ],
        [
         1951,
         "Johnnie Parsons",
         593,
         "American",
         0.0,
         0,
         20
        ],
        [
         1951,
         "Mauri Rose",
         768,
         "American",
         0.0,
         0,
         20
        ],
        [
         1951,
         "Rodger Ward",
         449,
         "American",
         0.0,
         0,
         20
        ],
        [
         1951,
         "Carl Forberg",
         767,
         "American",
         0.0,
         0,
         20
        ],
        [
         1951,
         "Duke Dinsmore",
         630,
         "American",
         0.0,
         0,
         20
        ],
        [
         1951,
         "Jimmy Davies",
         653,
         "American",
         0.0,
         0,
         20
        ],
        [
         1951,
         "George Connor",
         726,
         "American",
         0.0,
         0,
         20
        ],
        [
         1951,
         "Bill Mackey",
         769,
         "American",
         0.0,
         0,
         20
        ],
        [
         1951,
         "Sam Hanks",
         611,
         "American",
         0.0,
         0,
         20
        ],
        [
         1951,
         "Tony Bettenhausen",
         529,
         "American",
         0.0,
         0,
         20
        ],
        [
         1951,
         "Duane Carter",
         518,
         "American",
         0.0,
         0,
         20
        ],
        [
         1951,
         "Cecil Green",
         770,
         "American",
         0.0,
         0,
         20
        ],
        [
         1951,
         "Henry Banks",
         731,
         "American",
         0.0,
         0,
         20
        ],
        [
         1951,
         "Paul Pietsch",
         756,
         "German",
         0.0,
         0,
         20
        ],
        [
         1951,
         "Pierre Levegh",
         773,
         "French",
         0.0,
         0,
         20
        ],
        [
         1951,
         "André Simon",
         609,
         "French",
         0.0,
         0,
         20
        ],
        [
         1951,
         "Ken Richardson",
         781,
         "British",
         0.0,
         0,
         20
        ],
        [
         1951,
         "Georges Grignard",
         783,
         "French",
         0.0,
         0,
         20
        ],
        [
         1951,
         "Rudi Fischer",
         723,
         "Swiss",
         0.0,
         0,
         20
        ],
        [
         1951,
         "Onofre Marimón",
         670,
         "Argentine",
         0.0,
         0,
         20
        ],
        [
         1951,
         "Eugène Chaboud",
         774,
         "French",
         0.0,
         0,
         20
        ],
        [
         1951,
         "Bob Gerard",
         619,
         "British",
         0.0,
         0,
         20
        ],
        [
         1951,
         "Jacques Swaters",
         680,
         "American",
         0.0,
         0,
         20
        ],
        [
         1951,
         "Johnny Claes",
         660,
         "Belgian",
         0.0,
         0,
         20
        ],
        [
         1951,
         "Philippe Étancelin",
         741,
         "French",
         0.0,
         0,
         20
        ],
        [
         1951,
         "David Murray",
         747,
         "British",
         0.0,
         0,
         20
        ],
        [
         1951,
         "Guy Mairesse",
         764,
         "French",
         0.0,
         0,
         20
        ],
        [
         1951,
         "Brian Shawe Taylor",
         778,
         "British",
         0.0,
         0,
         20
        ],
        [
         1951,
         "Louis Chiron",
         589,
         "Monegasque",
         0.0,
         0,
         20
        ],
        [
         1951,
         "Peter Walker",
         661,
         "British",
         0.0,
         0,
         20
        ],
        [
         1951,
         "Harry Schell",
         501,
         "American",
         0.0,
         0,
         20
        ],
        [
         1951,
         "Philip Fotheringham-Parker",
         777,
         "British",
         0.0,
         0,
         20
        ],
        [
         1951,
         "Duncan Hamilton",
         708,
         "British",
         0.0,
         0,
         20
        ],
        [
         1951,
         "Joe Kelly",
         776,
         "Irish",
         0.0,
         0,
         20
        ],
        [
         1951,
         "Paco Godia",
         580,
         "Spanish",
         0.0,
         0,
         20
        ],
        [
         1951,
         "Toni Branca",
         780,
         "Swiss",
         0.0,
         0,
         20
        ],
        [
         1951,
         "Juan Jover",
         782,
         "Spanish",
         0.0,
         0,
         20
        ],
        [
         1951,
         "Robert Manzon",
         626,
         "French",
         0.0,
         0,
         20
        ],
        [
         1951,
         "John James",
         779,
         "British",
         0.0,
         0,
         20
        ],
        [
         1951,
         "Aldo Gordini",
         775,
         "French",
         0.0,
         0,
         20
        ],
        [
         1951,
         "Peter Whitehead",
         687,
         "British",
         0.0,
         0,
         20
        ],
        [
         1951,
         "Prince Bira",
         669,
         "Thai",
         0.0,
         0,
         20
        ],
        [
         1951,
         "Franco Rol",
         762,
         "Italian",
         0.0,
         0,
         20
        ],
        [
         1951,
         "Chico Landi",
         622,
         "Brazilian",
         0.0,
         0,
         20
        ],
        [
         1951,
         "Maurice Trintignant",
         427,
         "French",
         0.0,
         0,
         20
        ],
        [
         1951,
         "André Pilette",
         429,
         "Belgian",
         0.0,
         0,
         20
        ],
        [
         1951,
         "Henri Louveau",
         765,
         "French",
         0.0,
         0,
         20
        ],
        [
         1951,
         "Peter Hirt",
         721,
         "Swiss",
         0.0,
         0,
         20
        ],
        [
         1951,
         "George Abecassis",
         725,
         "British",
         0.0,
         0,
         20
        ],
        [
         1951,
         "Stirling Moss",
         475,
         "British",
         0.0,
         0,
         20
        ],
        [
         1955,
         "Juan Fangio",
         579,
         "Argentine",
         41.0,
         4,
         1
        ],
        [
         1955,
         "Stirling Moss",
         475,
         "British",
         22.0,
         1,
         2
        ],
        [
         1955,
         "Eugenio Castellotti",
         608,
         "Italian",
         12.0,
         0,
         3
        ],
        [
         1955,
         "Piero Taruffi",
         641,
         "Italian",
         9.0,
         0,
         4
        ],
        [
         1955,
         "Nino Farina",
         642,
         "Italian",
         8.330000042915344,
         0,
         5
        ],
        [
         1955,
         "Bob Sweikert",
         628,
         "American",
         8.0,
         1,
         6
        ],
        [
         1955,
         "Maurice Trintignant",
         427,
         "French",
         8.0,
         1,
         6
        ],
        [
         1955,
         "Roberto Mieres",
         643,
         "Argentine",
         7.0,
         0,
         8
        ],
        [
         1955,
         "Luigi Musso",
         577,
         "Italian",
         6.0,
         0,
         9
        ],
        [
         1955,
         "Jean Behra",
         554,
         "French",
         5.0,
         0,
         10
        ],
        [
         1955,
         "Jimmy Davies",
         653,
         "American",
         4.0,
         0,
         11
        ],
        [
         1955,
         "Karl Kling",
         648,
         "German",
         4.0,
         0,
         11
        ],
        [
         1955,
         "Tony Bettenhausen",
         529,
         "American",
         3.0,
         0,
         13
        ],
        [
         1955,
         "Johnny Thomson",
         512,
         "American",
         3.0,
         0,
         13
        ],
        [
         1955,
         "Paul Russo",
         555,
         "American",
         3.0,
         0,
         13
        ],
        [
         1955,
         "Paul Frère",
         632,
         "Belgian",
         3.0,
         0,
         13
        ],
        [
         1955,
         "Luigi Villoresi",
         633,
         "Italian",
         2.0,
         0,
         17
        ],
        [
         1955,
         "José Froilán González",
         498,
         "Argentine",
         2.0,
         0,
         17
        ],
        [
         1955,
         "Carlos Menditeguy",
         496,
         "Argentine",
         2.0,
         0,
         17
        ],
        [
         1955,
         "Umberto Maglioli",
         620,
         "Italian",
         1.3300000429153442,
         0,
         20
        ],
        [
         1955,
         "Bill Homeier",
         519,
         "American",
         1.0,
         0,
         21
        ],
        [
         1955,
         "Bill Vukovich",
         657,
         "American",
         1.0,
         0,
         21
        ],
        [
         1955,
         "Walt Faulkner",
         654,
         "American",
         1.0,
         0,
         21
        ],
        [
         1955,
         "Hans Herrmann",
         478,
         "German",
         1.0,
         0,
         21
        ],
        [
         1955,
         "Jim Rathmann",
         509,
         "American",
         0.0,
         0,
         25
        ],
        [
         1955,
         "Al Herman",
         538,
         "American",
         0.0,
         0,
         25
        ],
        [
         1955,
         "Johnnie Parsons",
         593,
         "American",
         0.0,
         0,
         25
        ],
        [
         1955,
         "Jerry Hoyt",
         659,
         "American",
         0.0,
         0,
         25
        ],
        [
         1955,
         "Jack McGrath",
         658,
         "American",
         0.0,
         0,
         25
        ],
        [
         1955,
         "Eddie Johnson",
         513,
         "American",
         0.0,
         0,
         25
        ],
        [
         1955,
         "Pat Flaherty",
         559,
         "American",
         0.0,
         0,
         25
        ],
        [
         1955,
         "Art Cross",
         656,
         "American",
         0.0,
         0,
         25
        ],
        [
         1955,
         "Sam Hanks",
         611,
         "American",
         0.0,
         0,
         25
        ],
        [
         1955,
         "Chuck Weyant",
         563,
         "American",
         0.0,
         0,
         25
        ],
        [
         1955,
         "Fred Agabashian",
         615,
         "American",
         0.0,
         0,
         25
        ],
        [
         1955,
         "Ray Crawford",
         561,
         "American",
         0.0,
         0,
         25
        ],
        [
         1955,
         "Al Keller",
         558,
         "American",
         0.0,
         0,
         25
        ],
        [
         1955,
         "Jimmy Reece",
         592,
         "American",
         0.0,
         0,
         25
        ],
        [
         1955,
         "Rodger Ward",
         449,
         "American",
         0.0,
         0,
         25
        ],
        [
         1955,
         "Don Freeland",
         528,
         "American",
         0.0,
         0,
         25
        ],
        [
         1955,
         "Eddie Russo",
         532,
         "American",
         0.0,
         0,
         25
        ],
        [
         1955,
         "Pat O'Connor",
         597,
         "American",
         0.0,
         0,
         25
        ],
        [
         1955,
         "Jimmy Bryan",
         525,
         "American",
         0.0,
         0,
         25
        ],
        [
         1955,
         "Cal Niday",
         655,
         "American",
         0.0,
         0,
         25
        ],
        [
         1955,
         "Johnny Boyd",
         533,
         "American",
         0.0,
         0,
         25
        ],
        [
         1955,
         "Keith Andrews",
         631,
         "American",
         0.0,
         0,
         25
        ],
        [
         1955,
         "Shorty Templeman",
         523,
         "American",
         0.0,
         0,
         25
        ],
        [
         1955,
         "Duane Carter",
         518,
         "American",
         0.0,
         0,
         25
        ],
        [
         1955,
         "Andy Linden",
         612,
         "American",
         0.0,
         0,
         25
        ],
        [
         1955,
         "Ed Elisian",
         596,
         "American",
         0.0,
         0,
         25
        ],
        [
         1955,
         "Jimmy Daywalt",
         556,
         "American",
         0.0,
         0,
         25
        ],
        [
         1955,
         "Jean Lucas",
         668,
         "French",
         0.0,
         0,
         25
        ],
        [
         1955,
         "Jack Brabham",
         356,
         "Australian",
         0.0,
         0,
         25
        ],
        [
         1955,
         "Pablo Birger",
         649,
         "Argentine",
         0.0,
         0,
         25
        ],
        [
         1955,
         "Harry Schell",
         501,
         "American",
         0.0,
         0,
         25
        ],
        [
         1955,
         "Jack Fairman",
         486,
         "British",
         0.0,
         0,
         25
        ],
        [
         1955,
         "Mike Hawthorn",
         578,
         "British",
         0.0,
         0,
         25
        ],
        [
         1955,
         "Horace Gould",
         547,
         "British",
         0.0,
         0,
         25
        ],
        [
         1955,
         "Clemar Bucci",
         645,
         "Argentine",
         0.0,
         0,
         25
        ],
        [
         1955,
         "Jesús Iglesias",
         646,
         "Argentine",
         0.0,
         0,
         25
        ],
        [
         1955,
         "Ken Wharton",
         663,
         "British",
         0.0,
         0,
         25
        ],
        [
         1955,
         "Hernando da Silva Ramos",
         624,
         "Brazilian",
         0.0,
         0,
         25
        ],
        [
         1955,
         "Cesare Perdisa",
         607,
         "Italian",
         0.0,
         0,
         25
        ],
        [
         1955,
         "Luigi Piotti",
         586,
         "Italian",
         0.0,
         0,
         25
        ],
        [
         1955,
         "Élie Bayol",
         625,
         "French",
         0.0,
         0,
         25
        ],
        [
         1955,
         "Mike Sparken",
         662,
         "French",
         0.0,
         0,
         25
        ],
        [
         1955,
         "Lance Macklin",
         651,
         "British",
         0.0,
         0,
         25
        ],
        [
         1955,
         "Louis Chiron",
         589,
         "Monegasque",
         0.0,
         0,
         25
        ],
        [
         1955,
         "Alberto Uria",
         623,
         "Uruguayan",
         0.0,
         0,
         25
        ],
        [
         1955,
         "André Simon",
         609,
         "French",
         0.0,
         0,
         25
        ],
        [
         1955,
         "Ted Whiteaway",
         652,
         "British",
         0.0,
         0,
         25
        ],
        [
         1955,
         "Tony Rolt",
         666,
         "British",
         0.0,
         0,
         25
        ],
        [
         1955,
         "Sergio Mantovani",
         644,
         "Italian",
         0.0,
         0,
         25
        ],
        [
         1955,
         "Kenneth McAlpine",
         664,
         "British",
         0.0,
         0,
         25
        ],
        [
         1955,
         "Robert Manzon",
         626,
         "French",
         0.0,
         0,
         25
        ],
        [
         1955,
         "Peter Walker",
         661,
         "British",
         0.0,
         0,
         25
        ],
        [
         1955,
         "Roy Salvadori",
         456,
         "British",
         0.0,
         0,
         25
        ],
        [
         1955,
         "Louis Rosier",
         627,
         "French",
         0.0,
         0,
         25
        ],
        [
         1955,
         "Peter Collins",
         581,
         "British",
         0.0,
         0,
         25
        ],
        [
         1955,
         "John Fitch",
         667,
         "American",
         0.0,
         0,
         25
        ],
        [
         1955,
         "Jacques Pollet",
         650,
         "French",
         0.0,
         0,
         25
        ],
        [
         1955,
         "Leslie Marr",
         665,
         "British",
         0.0,
         0,
         25
        ],
        [
         1955,
         "Alberto Ascari",
         647,
         "Italian",
         0.0,
         0,
         25
        ],
        [
         1955,
         "Johnny Claes",
         660,
         "Belgian",
         0.0,
         0,
         25
        ],
        [
         1950,
         "Nino Farina",
         642,
         "Italian",
         30.0,
         3,
         1
        ],
        [
         1950,
         "Luigi Fagioli",
         786,
         "Italian",
         28.0,
         0,
         2
        ],
        [
         1950,
         "Juan Fangio",
         579,
         "Argentine",
         27.0,
         3,
         3
        ],
        [
         1950,
         "Louis Rosier",
         627,
         "French",
         13.0,
         0,
         4
        ],
        [
         1950,
         "Johnnie Parsons",
         593,
         "American",
         9.0,
         1,
         5
        ],
        [
         1950,
         "Alberto Ascari",
         647,
         "Italian",
         8.0,
         0,
         6
        ],
        [
         1950,
         "Bill Holland",
         701,
         "American",
         6.0,
         0,
         7
        ],
        [
         1950,
         "Prince Bira",
         669,
         "Thai",
         5.0,
         0,
         8
        ],
        [
         1950,
         "Mauri Rose",
         768,
         "American",
         4.0,
         0,
         9
        ],
        [
         1950,
         "Peter Whitehead",
         687,
         "British",
         4.0,
         0,
         9
        ],
        [
         1950,
         "Louis Chiron",
         589,
         "Monegasque",
         4.0,
         0,
         9
        ],
        [
         1950,
         "Reg Parnell",
         686,
         "British",
         4.0,
         0,
         9
        ],
        [
         1950,
         "Cecil Green",
         770,
         "American",
         3.0,
         0,
         13
        ],
        [
         1950,
         "Raymond Sommer",
         793,
         "French",
         3.0,
         0,
         13
        ],
        [
         1950,
         "Philippe Étancelin",
         741,
         "French",
         3.0,
         0,
         13
        ],
        [
         1950,
         "Dorino Serafini",
         802,
         "Italian",
         3.0,
         0,
         13
        ],
        [
         1950,
         "Robert Manzon",
         626,
         "French",
         3.0,
         0,
         13
        ],
        [
         1950,
         "Yves Cabantous",
         704,
         "French",
         3.0,
         0,
         13
        ],
        [
         1950,
         "Felice Bonetto",
         697,
         "Italian",
         2.0,
         0,
         19
        ],
        [
         1950,
         "Joie Chitwood",
         794,
         "American",
         1.0,
         0,
         20
        ],
        [
         1950,
         "Eugène Chaboud",
         774,
         "French",
         1.0,
         0,
         20
        ],
        [
         1950,
         "Myron Fohr",
         795,
         "American",
         0.0,
         0,
         22
        ],
        [
         1950,
         "Duane Carter",
         518,
         "American",
         0.0,
         0,
         22
        ],
        [
         1950,
         "Walt Ader",
         796,
         "American",
         0.0,
         0,
         22
        ],
        [
         1950,
         "Walt Faulkner",
         654,
         "American",
         0.0,
         0,
         22
        ],
        [
         1950,
         "Johnny McDowell",
         732,
         "American",
         0.0,
         0,
         22
        ],
        [
         1950,
         "Henry Banks",
         731,
         "American",
         0.0,
         0,
         22
        ],
        [
         1950,
         "Jerry Hoyt",
         659,
         "American",
         0.0,
         0,
         22
        ],
        [
         1950,
         "Jimmy Jackson",
         799,
         "American",
         0.0,
         0,
         22
        ],
        [
         1950,
         "Travis Webb",
         677,
         "American",
         0.0,
         0,
         22
        ],
        [
         1950,
         "Paul Russo",
         555,
         "American",
         0.0,
         0,
         22
        ],
        [
         1950,
         "Pat Flaherty",
         559,
         "American",
         0.0,
         0,
         22
        ],
        [
         1950,
         "Mack Hellings",
         772,
         "American",
         0.0,
         0,
         22
        ],
        [
         1950,
         "Sam Hanks",
         611,
         "American",
         0.0,
         0,
         22
        ],
        [
         1950,
         "Lee Wallard",
         766,
         "American",
         0.0,
         0,
         22
        ],
        [
         1950,
         "Fred Agabashian",
         615,
         "American",
         0.0,
         0,
         22
        ],
        [
         1950,
         "Tony Bettenhausen",
         529,
         "American",
         0.0,
         0,
         22
        ],
        [
         1950,
         "Jackie Holmes",
         797,
         "American",
         0.0,
         0,
         22
        ],
        [
         1950,
         "Dick Rathmann",
         537,
         "American",
         0.0,
         0,
         22
        ],
        [
         1950,
         "Gene Hartley",
         520,
         "American",
         0.0,
         0,
         22
        ],
        [
         1950,
         "George Connor",
         726,
         "American",
         0.0,
         0,
         22
        ],
        [
         1950,
         "Bayliss Levrett",
         798,
         "American",
         0.0,
         0,
         22
        ],
        [
         1950,
         "Bill Schindler",
         729,
         "American",
         0.0,
         0,
         22
        ],
        [
         1950,
         "Jimmy Davies",
         653,
         "American",
         0.0,
         0,
         22
        ],
        [
         1950,
         "Duke Dinsmore",
         630,
         "American",
         0.0,
         0,
         22
        ],
        [
         1950,
         "Bill Cantrell",
         803,
         "American",
         0.0,
         0,
         22
        ],
        [
         1950,
         "Walt Brown",
         771,
         "American",
         0.0,
         0,
         22
        ],
        [
         1950,
         "Jack McGrath",
         658,
         "American",
         0.0,
         0,
         22
        ],
        [
         1950,
         "Jim Rathmann",
         509,
         "American",
         0.0,
         0,
         22
        ],
        [
         1950,
         "Troy Ruttman",
         526,
         "American",
         0.0,
         0,
         22
        ],
        [
         1950,
         "David Murray",
         747,
         "British",
         0.0,
         0,
         22
        ],
        [
         1950,
         "Henri Louveau",
         765,
         "French",
         0.0,
         0,
         22
        ],
        [
         1950,
         "Johnny Claes",
         660,
         "Belgian",
         0.0,
         0,
         22
        ],
        [
         1950,
         "Clemente Biondetti",
         791,
         "Italian",
         0.0,
         0,
         22
        ],
        [
         1950,
         "Franco Comotti",
         740,
         "Italian",
         0.0,
         0,
         22
        ],
        [
         1950,
         "Maurice Trintignant",
         427,
         "French",
         0.0,
         0,
         22
        ],
        [
         1950,
         "Pierre Levegh",
         773,
         "French",
         0.0,
         0,
         22
        ],
        [
         1950,
         "Paul Pietsch",
         756,
         "German",
         0.0,
         0,
         22
        ],
        [
         1950,
         "Toulo de Graffenried",
         640,
         "Swiss",
         0.0,
         0,
         22
        ],
        [
         1950,
         "Piero Taruffi",
         641,
         "Italian",
         0.0,
         0,
         22
        ],
        [
         1950,
         "Cuth Harrison",
         787,
         "British",
         0.0,
         0,
         22
        ],
        [
         1950,
         "Consalvo Sanesi",
         763,
         "Italian",
         0.0,
         0,
         22
        ],
        [
         1950,
         "Franco Rol",
         762,
         "Italian",
         0.0,
         0,
         22
        ],
        [
         1950,
         "Guy Mairesse",
         764,
         "French",
         0.0,
         0,
         22
        ],
        [
         1950,
         "Eugène Martin",
         789,
         "French",
         0.0,
         0,
         22
        ],
        [
         1950,
         "Alfredo Pián",
         792,
         "Argentine",
         0.0,
         0,
         22
        ],
        [
         1950,
         "Luigi Villoresi",
         633,
         "Italian",
         0.0,
         0,
         22
        ],
        [
         1950,
         "Joe Fry",
         788,
         "British",
         0.0,
         0,
         22
        ],
        [
         1950,
         "Bob Gerard",
         619,
         "British",
         0.0,
         0,
         22
        ],
        [
         1950,
         "David Hampshire",
         784,
         "British",
         0.0,
         0,
         22
        ],
        [
         1950,
         "Brian Shawe Taylor",
         778,
         "British",
         0.0,
         0,
         22
        ],
        [
         1950,
         "Tony Rolt",
         666,
         "British",
         0.0,
         0,
         22
        ],
        [
         1950,
         "Geoff Crossley",
         785,
         "British",
         0.0,
         0,
         22
        ],
        [
         1950,
         "Peter Walker",
         661,
         "British",
         0.0,
         0,
         22
        ],
        [
         1950,
         "Joe Kelly",
         776,
         "Irish",
         0.0,
         0,
         22
        ],
        [
         1950,
         "Harry Schell",
         501,
         "American",
         0.0,
         0,
         22
        ],
        [
         1950,
         "Leslie Johnson",
         790,
         "British",
         0.0,
         0,
         22
        ],
        [
         1950,
         "José Froilán González",
         498,
         "Argentine",
         0.0,
         0,
         22
        ],
        [
         1950,
         "Toni Branca",
         780,
         "Swiss",
         0.0,
         0,
         22
        ],
        [
         1950,
         "Charles Pozzi",
         801,
         "French",
         0.0,
         0,
         22
        ],
        [
         1950,
         "Nello Pagani",
         800,
         "Italian",
         0.0,
         0,
         22
        ],
        [
         1957,
         "Juan Fangio",
         579,
         "Argentine",
         46.0,
         4,
         1
        ],
        [
         1957,
         "Stirling Moss",
         475,
         "British",
         20.0,
         2,
         2
        ],
        [
         1957,
         "Luigi Musso",
         577,
         "Italian",
         16.0,
         0,
         3
        ],
        [
         1957,
         "Mike Hawthorn",
         578,
         "British",
         13.0,
         0,
         4
        ],
        [
         1957,
         "Tony Brooks",
         479,
         "British",
         11.0,
         1,
         5
        ],
        [
         1957,
         "Masten Gregory",
         418,
         "American",
         10.0,
         0,
         6
        ],
        [
         1957,
         "Harry Schell",
         501,
         "American",
         9.0,
         0,
         7
        ],
        [
         1957,
         "Sam Hanks",
         611,
         "American",
         8.0,
         1,
         8
        ],
        [
         1957,
         "Peter Collins",
         581,
         "British",
         8.0,
         0,
         9
        ],
        [
         1957,
         "Jim Rathmann",
         509,
         "American",
         7.0,
         0,
         10
        ],
        [
         1957,
         "Jean Behra",
         554,
         "French",
         6.0,
         0,
         11
        ],
        [
         1957,
         "Stuart Lewis-Evans",
         590,
         "British",
         5.0,
         0,
         12
        ],
        [
         1957,
         "Maurice Trintignant",
         427,
         "French",
         5.0,
         0,
         12
        ],
        [
         1957,
         "Jimmy Bryan",
         525,
         "American",
         4.0,
         0,
         14
        ],
        [
         1957,
         "Wolfgang von Trips",
         476,
         "German",
         4.0,
         0,
         14
        ],
        [
         1957,
         "Carlos Menditeguy",
         496,
         "Argentine",
         4.0,
         0,
         14
        ],
        [
         1957,
         "Paul Russo",
         555,
         "American",
         3.0,
         0,
         17
        ],
        [
         1957,
         "Andy Linden",
         612,
         "American",
         2.0,
         0,
         18
        ],
        [
         1957,
         "Roy Salvadori",
         456,
         "British",
         2.0,
         0,
         18
        ],
        [
         1957,
         "Giorgio Scarlatti",
         483,
         "Italian",
         1.0,
         0,
         20
        ],
        [
         1957,
         "José Froilán González",
         498,
         "Argentine",
         1.0,
         0,
         20
        ],
        [
         1957,
         "Alfonso de Portago",
         606,
         "Spanish",
         1.0,
         0,
         20
        ],
        [
         1957,
         "Chuck Weyant",
         563,
         "American",
         0.0,
         0,
         23
        ],
        [
         1957,
         "Al Keller",
         558,
         "American",
         0.0,
         0,
         23
        ],
        [
         1957,
         "Johnnie Tolan",
         594,
         "American",
         0.0,
         0,
         23
        ],
        [
         1957,
         "Johnny Boyd",
         533,
         "American",
         0.0,
         0,
         23
        ],
        [
         1957,
         "Jimmy Daywalt",
         556,
         "American",
         0.0,
         0,
         23
        ],
        [
         1957,
         "Eddie Johnson",
         513,
         "American",
         0.0,
         0,
         23
        ],
        [
         1957,
         "Johnny Thomson",
         512,
         "American",
         0.0,
         0,
         23
        ],
        [
         1957,
         "Pat O'Connor",
         597,
         "American",
         0.0,
         0,
         23
        ],
        [
         1957,
         "Jack Turner",
         562,
         "American",
         0.0,
         0,
         23
        ],
        [
         1957,
         "Bob Christie",
         516,
         "American",
         0.0,
         0,
         23
        ],
        [
         1957,
         "Eddie Russo",
         532,
         "American",
         0.0,
         0,
         23
        ],
        [
         1957,
         "Jimmy Reece",
         592,
         "American",
         0.0,
         0,
         23
        ],
        [
         1957,
         "Rodger Ward",
         449,
         "American",
         0.0,
         0,
         23
        ],
        [
         1957,
         "Gene Hartley",
         520,
         "American",
         0.0,
         0,
         23
        ],
        [
         1957,
         "Al Herman",
         538,
         "American",
         0.0,
         0,
         23
        ],
        [
         1957,
         "Mike Magill",
         565,
         "American",
         0.0,
         0,
         23
        ],
        [
         1957,
         "Eddie Sachs",
         527,
         "American",
         0.0,
         0,
         23
        ],
        [
         1957,
         "Tony Bettenhausen",
         529,
         "American",
         0.0,
         0,
         23
        ],
        [
         1957,
         "Elmer George",
         616,
         "American",
         0.0,
         0,
         23
        ],
        [
         1957,
         "Johnnie Parsons",
         593,
         "American",
         0.0,
         0,
         23
        ],
        [
         1957,
         "Don Edmunds",
         614,
         "American",
         0.0,
         0,
         23
        ],
        [
         1957,
         "Marshall Teague",
         613,
         "American",
         0.0,
         0,
         23
        ],
        [
         1957,
         "Bob Veith",
         514,
         "American",
         0.0,
         0,
         23
        ],
        [
         1957,
         "Troy Ruttman",
         526,
         "American",
         0.0,
         0,
         23
        ],
        [
         1957,
         "Don Freeland",
         528,
         "American",
         0.0,
         0,
         23
        ],
        [
         1957,
         "Fred Agabashian",
         615,
         "American",
         0.0,
         0,
         23
        ],
        [
         1957,
         "Bill Cheesbourg",
         560,
         "American",
         0.0,
         0,
         23
        ],
        [
         1957,
         "Ed Elisian",
         596,
         "American",
         0.0,
         0,
         23
        ],
        [
         1957,
         "Hans Herrmann",
         478,
         "German",
         0.0,
         0,
         23
        ],
        [
         1957,
         "Paco Godia",
         580,
         "Spanish",
         0.0,
         0,
         23
        ],
        [
         1957,
         "Tony Marsh",
         459,
         "British",
         0.0,
         0,
         23
        ],
        [
         1957,
         "Brian Naylor",
         484,
         "British",
         0.0,
         0,
         23
        ],
        [
         1957,
         "Edgar Barth",
         431,
         "German",
         0.0,
         0,
         23
        ],
        [
         1957,
         "Bruce Halford",
         506,
         "British",
         0.0,
         0,
         23
        ],
        [
         1957,
         "Umberto Maglioli",
         620,
         "Italian",
         0.0,
         0,
         23
        ],
        [
         1957,
         "Paul England",
         621,
         "Australian",
         0.0,
         0,
         23
        ],
        [
         1957,
         "Horace Gould",
         547,
         "British",
         0.0,
         0,
         23
        ],
        [
         1957,
         "Jack Brabham",
         356,
         "Australian",
         0.0,
         0,
         23
        ],
        [
         1957,
         "Dick Gibson",
         601,
         "British",
         0.0,
         0,
         23
        ],
        [
         1957,
         "Carel Godin de Beaufort",
         430,
         "Dutch",
         0.0,
         0,
         23
        ],
        [
         1957,
         "Ron Flockhart",
         541,
         "British",
         0.0,
         0,
         23
        ],
        [
         1957,
         "Alessandro de Tomaso",
         573,
         "Argentine-Italian",
         0.0,
         0,
         23
        ],
        [
         1957,
         "Ivor Bueb",
         549,
         "British",
         0.0,
         0,
         23
        ],
        [
         1957,
         "Eugenio Castellotti",
         608,
         "Italian",
         0.0,
         0,
         23
        ],
        [
         1957,
         "Herbert MacKay-Fraser",
         618,
         "American",
         0.0,
         0,
         23
        ],
        [
         1957,
         "Jack Fairman",
         486,
         "British",
         0.0,
         0,
         23
        ],
        [
         1957,
         "Mike MacDowel",
         617,
         "British",
         0.0,
         0,
         23
        ],
        [
         1957,
         "Bob Gerard",
         619,
         "British",
         0.0,
         0,
         23
        ],
        [
         1957,
         "Cesare Perdisa",
         607,
         "Italian",
         0.0,
         0,
         23
        ],
        [
         1957,
         "Luigi Piotti",
         586,
         "Italian",
         0.0,
         0,
         23
        ],
        [
         1957,
         "André Simon",
         609,
         "French",
         0.0,
         0,
         23
        ],
        [
         1957,
         "Ottorino Volonterio",
         638,
         "Swiss",
         0.0,
         0,
         23
        ],
        [
         1957,
         "Les Leston",
         610,
         "British",
         0.0,
         0,
         23
        ],
        [
         1957,
         "Jo Bonnier",
         347,
         "Swedish",
         0.0,
         0,
         23
        ],
        [
         1974,
         "Emerson Fittipaldi",
         224,
         "Brazilian",
         55.0,
         3,
         1
        ],
        [
         1974,
         "Clay Regazzoni",
         223,
         "Swiss",
         52.0,
         1,
         2
        ],
        [
         1974,
         "Jody Scheckter",
         222,
         "South African",
         45.0,
         2,
         3
        ],
        [
         1974,
         "Niki Lauda",
         182,
         "Austrian",
         38.0,
         2,
         4
        ],
        [
         1974,
         "Ronnie Peterson",
         238,
         "Swedish",
         35.0,
         3,
         5
        ],
        [
         1974,
         "Carlos Reutemann",
         199,
         "Argentine",
         32.0,
         3,
         6
        ],
        [
         1974,
         "Denny Hulme",
         304,
         "New Zealander",
         20.0,
         1,
         7
        ],
        [
         1974,
         "James Hunt",
         231,
         "British",
         15.0,
         0,
         8
        ],
        [
         1974,
         "Patrick Depailler",
         221,
         "French",
         14.0,
         0,
         9
        ],
        [
         1974,
         "Jacky Ickx",
         235,
         "Belgian",
         12.0,
         0,
         10
        ],
        [
         1974,
         "Mike Hailwood",
         305,
         "British",
         12.0,
         0,
         10
        ],
        [
         1974,
         "Carlos Pace",
         250,
         "Brazilian",
         11.0,
         0,
         12
        ],
        [
         1974,
         "Jean-Pierre Beltoise",
         306,
         "French",
         10.0,
         0,
         13
        ],
        [
         1974,
         "Jean-Pierre Jarier",
         197,
         "French",
         6.0,
         0,
         14
        ],
        [
         1974,
         "John Watson",
         187,
         "British",
         6.0,
         0,
         14
        ],
        [
         1974,
         "Hans-Joachim Stuck",
         233,
         "German",
         5.0,
         0,
         16
        ],
        [
         1974,
         "Arturo Merzario",
         232,
         "Italian",
         4.0,
         0,
         17
        ],
        [
         1974,
         "Graham Hill",
         289,
         "British",
         1.0,
         0,
         18
        ],
        [
         1974,
         "Tom Pryce",
         252,
         "British",
         1.0,
         0,
         18
        ],
        [
         1974,
         "Vittorio Brambilla",
         230,
         "Italian",
         1.0,
         0,
         18
        ],
        [
         1974,
         "Guy Edwards",
         265,
         "British",
         0.0,
         0,
         21
        ],
        [
         1974,
         "Chris Amon",
         278,
         "New Zealander",
         0.0,
         0,
         21
        ],
        [
         1974,
         "Larry Perkins",
         256,
         "Australian",
         0.0,
         0,
         21
        ],
        [
         1974,
         "Henri Pescarolo",
         280,
         "French",
         0.0,
         0,
         21
        ],
        [
         1974,
         "Howden Ganley",
         307,
         "New Zealander",
         0.0,
         0,
         21
        ],
        [
         1974,
         "Ian Ashley",
         270,
         "British",
         0.0,
         0,
         21
        ],
        [
         1974,
         "François Migault",
         296,
         "French",
         0.0,
         0,
         21
        ],
        [
         1974,
         "Tim Schenken",
         314,
         "Australian",
         0.0,
         0,
         21
        ],
        [
         1974,
         "Jacques Laffite",
         172,
         "French",
         0.0,
         0,
         21
        ],
        [
         1974,
         "Vern Schuppan",
         267,
         "Australian",
         0.0,
         0,
         21
        ],
        [
         1974,
         "Derek Bell",
         321,
         "British",
         0.0,
         0,
         21
        ],
        [
         1974,
         "Jochen Mass",
         200,
         "German",
         0.0,
         0,
         21
        ],
        [
         1974,
         "Mark Donohue",
         288,
         "American",
         0.0,
         0,
         21
        ],
        [
         1974,
         "Rolf Stommelen",
         243,
         "German",
         0.0,
         0,
         21
        ],
        [
         1974,
         "Lella Lombardi",
         275,
         "Italian",
         0.0,
         0,
         21
        ],
        [
         1974,
         "Peter Gethin",
         320,
         "British",
         0.0,
         0,
         21
        ],
        [
         1974,
         "Helmuth Koinigg",
         324,
         "Austrian",
         0.0,
         0,
         21
        ],
        [
         1974,
         "Mike Wilds",
         283,
         "British",
         0.0,
         0,
         21
        ],
        [
         1974,
         "David Purley",
         259,
         "British",
         0.0,
         0,
         21
        ],
        [
         1974,
         "José Dolhem",
         319,
         "French",
         0.0,
         0,
         21
        ],
        [
         1974,
         "Teddy Pilette",
         269,
         "Belgian",
         0.0,
         0,
         21
        ],
        [
         1974,
         "Tom Belsø",
         311,
         "Danish",
         0.0,
         0,
         21
        ],
        [
         1974,
         "Gérard Larrousse",
         315,
         "French",
         0.0,
         0,
         21
        ],
        [
         1974,
         "Gijs van Lennep",
         298,
         "Dutch",
         0.0,
         0,
         21
        ],
        [
         1974,
         "Rikky von Opel",
         313,
         "Liechtensteiner",
         0.0,
         0,
         21
        ],
        [
         1974,
         "Leo Kinnunen",
         316,
         "Finnish",
         0.0,
         0,
         21
        ],
        [
         1974,
         "Mario Andretti",
         207,
         "American",
         0.0,
         0,
         21
        ],
        [
         1974,
         "Brian Redman",
         312,
         "British",
         0.0,
         0,
         21
        ],
        [
         1974,
         "John Nicholson",
         300,
         "New Zealander",
         0.0,
         0,
         21
        ],
        [
         1974,
         "Jean-Pierre Jabouille",
         219,
         "French",
         0.0,
         0,
         21
        ],
        [
         1974,
         "Eppie Wietzes",
         326,
         "Canadian",
         0.0,
         0,
         21
        ],
        [
         1974,
         "Richard Robarts",
         308,
         "British",
         0.0,
         0,
         21
        ],
        [
         1974,
         "David Hobbs",
         322,
         "British",
         0.0,
         0,
         21
        ],
        [
         1974,
         "Eddie Keizan",
         292,
         "South African",
         0.0,
         0,
         21
        ],
        [
         1974,
         "Carlo Facetti",
         325,
         "Italian",
         0.0,
         0,
         21
        ],
        [
         1974,
         "Dieter Quester",
         323,
         "Austrian",
         0.0,
         0,
         21
        ],
        [
         1974,
         "Dave Charlton",
         293,
         "South African",
         0.0,
         0,
         21
        ],
        [
         1974,
         "Ian Scheckter",
         251,
         "South African",
         0.0,
         0,
         21
        ],
        [
         1974,
         "Reine Wisell",
         317,
         "Swedish",
         0.0,
         0,
         21
        ],
        [
         1974,
         "Bertil Roos",
         318,
         "Swedish",
         0.0,
         0,
         21
        ],
        [
         1974,
         "Paddy Driver",
         310,
         "South African",
         0.0,
         0,
         21
        ],
        [
         1974,
         "Peter Revson",
         309,
         "American",
         0.0,
         0,
         21
        ],
        [
         1977,
         "Niki Lauda",
         182,
         "Austrian",
         72.0,
         3,
         1
        ],
        [
         1977,
         "Jody Scheckter",
         222,
         "South African",
         55.0,
         3,
         2
        ],
        [
         1977,
         "Mario Andretti",
         207,
         "American",
         47.0,
         4,
         3
        ],
        [
         1977,
         "Carlos Reutemann",
         199,
         "Argentine",
         42.0,
         1,
         4
        ],
        [
         1977,
         "James Hunt",
         231,
         "British",
         40.0,
         3,
         5
        ],
        [
         1977,
         "Jochen Mass",
         200,
         "German",
         25.0,
         0,
         6
        ],
        [
         1977,
         "Alan Jones",
         178,
         "Australian",
         22.0,
         1,
         7
        ],
        [
         1977,
         "Gunnar Nilsson",
         255,
         "Swedish",
         20.0,
         1,
         8
        ],
        [
         1977,
         "Patrick Depailler",
         221,
         "French",
         20.0,
         0,
         9
        ],
        [
         1977,
         "Jacques Laffite",
         172,
         "French",
         18.0,
         1,
         10
        ],
        [
         1977,
         "Hans-Joachim Stuck",
         233,
         "German",
         12.0,
         0,
         11
        ],
        [
         1977,
         "Emerson Fittipaldi",
         224,
         "Brazilian",
         11.0,
         0,
         12
        ],
        [
         1977,
         "John Watson",
         187,
         "British",
         9.0,
         0,
         13
        ],
        [
         1977,
         "Ronnie Peterson",
         238,
         "Swedish",
         7.0,
         0,
         14
        ],
        [
         1977,
         "Vittorio Brambilla",
         230,
         "Italian",
         6.0,
         0,
         15
        ],
        [
         1977,
         "Carlos Pace",
         250,
         "Brazilian",
         6.0,
         0,
         15
        ],
        [
         1977,
         "Clay Regazzoni",
         223,
         "Swiss",
         5.0,
         0,
         17
        ],
        [
         1977,
         "Patrick Tambay",
         175,
         "French",
         5.0,
         0,
         17
        ],
        [
         1977,
         "Riccardo Patrese",
         119,
         "Italian",
         1.0,
         0,
         19
        ],
        [
         1977,
         "Jean-Pierre Jarier",
         197,
         "French",
         1.0,
         0,
         19
        ],
        [
         1977,
         "Renzo Zorzi",
         254,
         "Italian",
         1.0,
         0,
         19
        ],
        [
         1977,
         "Brian Henton",
         205,
         "British",
         0.0,
         0,
         22
        ],
        [
         1977,
         "Vern Schuppan",
         267,
         "Australian",
         0.0,
         0,
         22
        ],
        [
         1977,
         "Brett Lunger",
         239,
         "American",
         0.0,
         0,
         22
        ],
        [
         1977,
         "Patrick Nève",
         258,
         "Belgian",
         0.0,
         0,
         22
        ],
        [
         1977,
         "Gilles Villeneuve",
         203,
         "Canadian",
         0.0,
         0,
         22
        ],
        [
         1977,
         "Guy Edwards",
         265,
         "British",
         0.0,
         0,
         22
        ],
        [
         1977,
         "Alex Ribeiro",
         237,
         "Brazilian",
         0.0,
         0,
         22
        ],
        [
         1977,
         "Emilio de Villota",
         208,
         "Spanish",
         0.0,
         0,
         22
        ],
        [
         1977,
         "Ian Scheckter",
         251,
         "South African",
         0.0,
         0,
         22
        ],
        [
         1977,
         "Arturo Merzario",
         232,
         "Italian",
         0.0,
         0,
         22
        ],
        [
         1977,
         "Tony Trimmer",
         245,
         "British",
         0.0,
         0,
         22
        ],
        [
         1977,
         "Rupert Keegan",
         211,
         "British",
         0.0,
         0,
         22
        ],
        [
         1977,
         "Jean-Pierre Jabouille",
         219,
         "French",
         0.0,
         0,
         22
        ],
        [
         1977,
         "Brian McGuire",
         266,
         "Australian",
         0.0,
         0,
         22
        ],
        [
         1977,
         "Andy Sutcliffe",
         264,
         "British",
         0.0,
         0,
         22
        ],
        [
         1977,
         "Mikko Kozarowitzky",
         263,
         "Finnish",
         0.0,
         0,
         22
        ],
        [
         1977,
         "David Purley",
         259,
         "British",
         0.0,
         0,
         22
        ],
        [
         1977,
         "Jackie Oliver",
         262,
         "British",
         0.0,
         0,
         22
        ],
        [
         1977,
         "Boy Lunger",
         257,
         "Dutch",
         0.0,
         0,
         22
        ],
        [
         1977,
         "Harald Ertl",
         229,
         "Austrian",
         0.0,
         0,
         22
        ],
        [
         1977,
         "Hector Rebaque",
         212,
         "Mexican",
         0.0,
         0,
         22
        ],
        [
         1977,
         "Larry Perkins",
         256,
         "Australian",
         0.0,
         0,
         22
        ],
        [
         1977,
         "Conny Andersson",
         260,
         "Swedish",
         0.0,
         0,
         22
        ],
        [
         1977,
         "Bernard de Dryver",
         261,
         "Belgian",
         0.0,
         0,
         22
        ],
        [
         1977,
         "Teddy Pilette",
         269,
         "Belgian",
         0.0,
         0,
         22
        ],
        [
         1977,
         "Giorgio Francia",
         220,
         "Italian",
         0.0,
         0,
         22
        ],
        [
         1977,
         "Loris Kessel",
         271,
         "Swiss",
         0.0,
         0,
         22
        ],
        [
         1977,
         "Ian Ashley",
         270,
         "British",
         0.0,
         0,
         22
        ],
        [
         1977,
         "Lamberto Leoni",
         241,
         "Italian",
         0.0,
         0,
         22
        ],
        [
         1977,
         "Bruno Giacomelli",
         152,
         "Italian",
         0.0,
         0,
         22
        ],
        [
         1977,
         "Hans Binder",
         246,
         "Austrian",
         0.0,
         0,
         22
        ],
        [
         1977,
         "Danny Ongais",
         240,
         "American",
         0.0,
         0,
         22
        ],
        [
         1977,
         "Michael Bleekemolen",
         247,
         "Dutch",
         0.0,
         0,
         22
        ],
        [
         1977,
         "Hans Heyer",
         268,
         "German",
         0.0,
         0,
         22
        ],
        [
         1977,
         "Jacky Ickx",
         235,
         "Belgian",
         0.0,
         0,
         22
        ],
        [
         1977,
         "Tom Pryce",
         252,
         "British",
         0.0,
         0,
         22
        ],
        [
         1977,
         "Kunimitsu Takahashi",
         272,
         "Japanese",
         0.0,
         0,
         22
        ],
        [
         1977,
         "Noritake Takahara",
         274,
         "Japanese",
         0.0,
         0,
         22
        ],
        [
         1977,
         "Kazuyoshi Hoshino",
         273,
         "Japanese",
         0.0,
         0,
         22
        ],
        [
         1977,
         "Ingo Hoffmann",
         253,
         "Brazilian",
         0.0,
         0,
         22
        ],
        [
         1963,
         "Jim Clark",
         373,
         "British",
         73.0,
         7,
         1
        ],
        [
         1963,
         "Richie Ginther",
         386,
         "American",
         34.0,
         0,
         2
        ],
        [
         1963,
         "Graham Hill",
         289,
         "British",
         29.0,
         2,
         3
        ],
        [
         1963,
         "John Surtees",
         341,
         "British",
         22.0,
         1,
         4
        ],
        [
         1963,
         "Dan Gurney",
         364,
         "American",
         19.0,
         0,
         5
        ],
        [
         1963,
         "Bruce McLaren",
         360,
         "New Zealander",
         17.0,
         0,
         6
        ],
        [
         1963,
         "Jack Brabham",
         356,
         "Australian",
         14.0,
         0,
         7
        ],
        [
         1963,
         "Tony Maggs",
         408,
         "South African",
         9.0,
         0,
         8
        ],
        [
         1963,
         "Jo Bonnier",
         347,
         "Swedish",
         6.0,
         0,
         9
        ],
        [
         1963,
         "Innes Ireland",
         404,
         "British",
         6.0,
         0,
         9
        ],
        [
         1963,
         "Lorenzo Bandini",
         385,
         "Italian",
         6.0,
         0,
         9
        ],
        [
         1963,
         "Jim Hall",
         440,
         "American",
         3.0,
         0,
         12
        ],
        [
         1963,
         "Gerhard Mitter",
         423,
         "German",
         3.0,
         0,
         12
        ],
        [
         1963,
         "Carel Godin de Beaufort",
         430,
         "Dutch",
         2.0,
         0,
         14
        ],
        [
         1963,
         "Jo Siffert",
         346,
         "Swiss",
         1.0,
         0,
         15
        ],
        [
         1963,
         "Trevor Taylor",
         401,
         "British",
         1.0,
         0,
         15
        ],
        [
         1963,
         "Ludovico Scarfiotti",
         375,
         "Italian",
         1.0,
         0,
         15
        ],
        [
         1963,
         "Carlo Abate",
         446,
         "Italian",
         0.0,
         0,
         18
        ],
        [
         1963,
         "Ian Raby",
         420,
         "British",
         0.0,
         0,
         18
        ],
        [
         1963,
         "Maurice Trintignant",
         427,
         "French",
         0.0,
         0,
         18
        ],
        [
         1963,
         "Ian Burgess",
         437,
         "British",
         0.0,
         0,
         18
        ],
        [
         1963,
         "Mike Spence",
         374,
         "British",
         0.0,
         0,
         18
        ],
        [
         1963,
         "Günther Seiffert",
         445,
         "German",
         0.0,
         0,
         18
        ],
        [
         1963,
         "Ernesto Brambilla",
         443,
         "Italian",
         0.0,
         0,
         18
        ],
        [
         1963,
         "Masten Gregory",
         418,
         "American",
         0.0,
         0,
         18
        ],
        [
         1963,
         "Bob Anderson",
         383,
         "British",
         0.0,
         0,
         18
        ],
        [
         1963,
         "Roberto Lippi",
         444,
         "Italian",
         0.0,
         0,
         18
        ],
        [
         1963,
         "Chris Amon",
         278,
         "New Zealander",
         0.0,
         0,
         18
        ],
        [
         1963,
         "Mike Hailwood",
         305,
         "British",
         0.0,
         0,
         18
        ],
        [
         1963,
         "Tony Settember",
         438,
         "American",
         0.0,
         0,
         18
        ],
        [
         1963,
         "Mário de Araújo Cabral",
         432,
         "Portuguese",
         0.0,
         0,
         18
        ],
        [
         1963,
         "Phil Hill",
         403,
         "American",
         0.0,
         0,
         18
        ],
        [
         1963,
         "Gaetano Starrabba",
         447,
         "Italian",
         0.0,
         0,
         18
        ],
        [
         1963,
         "André Pilette",
         429,
         "Belgian",
         0.0,
         0,
         18
        ],
        [
         1963,
         "Giancarlo Baghetti",
         394,
         "Italian",
         0.0,
         0,
         18
        ],
        [
         1963,
         "Willy Mairesse",
         435,
         "Belgian",
         0.0,
         0,
         18
        ],
        [
         1963,
         "Kurt Kuhnke",
         442,
         "German",
         0.0,
         0,
         18
        ],
        [
         1963,
         "Tim Parnell",
         441,
         "British",
         0.0,
         0,
         18
        ],
        [
         1963,
         "Bernard Collomb",
         428,
         "French",
         0.0,
         0,
         18
        ],
        [
         1963,
         "Neville Lederle",
         410,
         "South African",
         0.0,
         0,
         18
        ],
        [
         1963,
         "Sam Tingle",
         368,
         "Rhodesian",
         0.0,
         0,
         18
        ],
        [
         1963,
         "John Love",
         340,
         "Rhodesian",
         0.0,
         0,
         18
        ],
        [
         1963,
         "Doug Serrurier",
         411,
         "South African",
         0.0,
         0,
         18
        ],
        [
         1963,
         "Trevor Blokdyk",
         409,
         "South African",
         0.0,
         0,
         18
        ],
        [
         1963,
         "Ernie Pieterse",
         413,
         "South African",
         0.0,
         0,
         18
        ],
        [
         1963,
         "Peter de Klerk",
         362,
         "South African",
         0.0,
         0,
         18
        ],
        [
         1963,
         "Paddy Driver",
         310,
         "South African",
         0.0,
         0,
         18
        ],
        [
         1963,
         "Brausch Niemann",
         412,
         "South African",
         0.0,
         0,
         18
        ],
        [
         1963,
         "David Prophet",
         407,
         "British",
         0.0,
         0,
         18
        ],
        [
         1963,
         "Nasif Estéfano",
         439,
         "Argentine",
         0.0,
         0,
         18
        ],
        [
         1963,
         "Moisés Solana",
         382,
         "Mexican",
         0.0,
         0,
         18
        ],
        [
         1963,
         "John Campbell-Jones",
         436,
         "British",
         0.0,
         0,
         18
        ],
        [
         1963,
         "Pedro Rodríguez",
         345,
         "Mexican",
         0.0,
         0,
         18
        ],
        [
         1963,
         "Ernie de Vos",
         450,
         "Dutch",
         0.0,
         0,
         18
        ],
        [
         1963,
         "Peter Broeker",
         448,
         "Canadian",
         0.0,
         0,
         18
        ],
        [
         1963,
         "Rodger Ward",
         449,
         "American",
         0.0,
         0,
         18
        ],
        [
         1963,
         "Walt Hansgen",
         433,
         "American",
         0.0,
         0,
         18
        ],
        [
         1963,
         "Hap Sharp",
         434,
         "American",
         0.0,
         0,
         18
        ],
        [
         1963,
         "Frank Dochnal",
         451,
         "American",
         0.0,
         0,
         18
        ],
        [
         1963,
         "Thomas Monarch",
         452,
         "American",
         0.0,
         0,
         18
        ],
        [
         1963,
         "Peter Arundell",
         397,
         "British",
         0.0,
         0,
         18
        ],
        [
         1963,
         "Lucien Bianchi",
         376,
         "Belgian",
         0.0,
         0,
         18
        ],
        [
         1961,
         "Phil Hill",
         403,
         "American",
         38.0,
         2,
         1
        ],
        [
         1961,
         "Wolfgang von Trips",
         476,
         "German",
         33.0,
         2,
         2
        ],
        [
         1961,
         "Stirling Moss",
         475,
         "British",
         21.0,
         2,
         3
        ],
        [
         1961,
         "Dan Gurney",
         364,
         "American",
         21.0,
         0,
         4
        ],
        [
         1961,
         "Richie Ginther",
         386,
         "American",
         16.0,
         0,
         5
        ],
        [
         1961,
         "Innes Ireland",
         404,
         "British",
         12.0,
         1,
         6
        ],
        [
         1961,
         "Bruce McLaren",
         360,
         "New Zealander",
         11.0,
         0,
         7
        ],
        [
         1961,
         "Jim Clark",
         373,
         "British",
         11.0,
         0,
         7
        ],
        [
         1961,
         "Giancarlo Baghetti",
         394,
         "Italian",
         9.0,
         1,
         9
        ],
        [
         1961,
         "Tony Brooks",
         479,
         "British",
         6.0,
         0,
         10
        ],
        [
         1961,
         "John Surtees",
         341,
         "British",
         4.0,
         0,
         11
        ],
        [
         1961,
         "Jack Brabham",
         356,
         "Australian",
         4.0,
         0,
         11
        ],
        [
         1961,
         "Graham Hill",
         289,
         "British",
         3.0,
         0,
         13
        ],
        [
         1961,
         "Jo Bonnier",
         347,
         "Swedish",
         3.0,
         0,
         13
        ],
        [
         1961,
         "Jackie Lewis",
         453,
         "British",
         3.0,
         0,
         13
        ],
        [
         1961,
         "Olivier Gendebien",
         482,
         "Belgian",
         3.0,
         0,
         13
        ],
        [
         1961,
         "Roy Salvadori",
         456,
         "British",
         2.0,
         0,
         17
        ],
        [
         1961,
         "Masten Gregory",
         418,
         "American",
         0.0,
         0,
         18
        ],
        [
         1961,
         "Jack Fairman",
         486,
         "British",
         0.0,
         0,
         18
        ],
        [
         1961,
         "Brian Naylor",
         484,
         "British",
         0.0,
         0,
         18
        ],
        [
         1961,
         "Wolfgang Seidel",
         455,
         "German",
         0.0,
         0,
         18
        ],
        [
         1961,
         "André Pilette",
         429,
         "Belgian",
         0.0,
         0,
         18
        ],
        [
         1961,
         "Gerry Ashmore",
         460,
         "British",
         0.0,
         0,
         18
        ],
        [
         1961,
         "Ernesto Prinoth",
         467,
         "Italian",
         0.0,
         0,
         18
        ],
        [
         1961,
         "Massimo Natili",
         487,
         "Italian",
         0.0,
         0,
         18
        ],
        [
         1961,
         "Roberto Lippi",
         444,
         "Italian",
         0.0,
         0,
         18
        ],
        [
         1961,
         "Carel Godin de Beaufort",
         430,
         "Dutch",
         0.0,
         0,
         18
        ],
        [
         1961,
         "Alfonso Thiele",
         491,
         "American-Italian",
         0.0,
         0,
         18
        ],
        [
         1961,
         "Renato Pirocchi",
         489,
         "Italian",
         0.0,
         0,
         18
        ],
        [
         1961,
         "Gaetano Starrabba",
         447,
         "Italian",
         0.0,
         0,
         18
        ],
        [
         1961,
         "Nino Vaccarella",
         425,
         "Italian",
         0.0,
         0,
         18
        ],
        [
         1961,
         "Menato Boffa",
         492,
         "Italian",
         0.0,
         0,
         18
        ],
        [
         1961,
         "Maurice Trintignant",
         427,
         "French",
         0.0,
         0,
         18
        ],
        [
         1961,
         "Roberto Bussinello",
         424,
         "Italian",
         0.0,
         0,
         18
        ],
        [
         1961,
         "Michael May",
         480,
         "Swiss",
         0.0,
         0,
         18
        ],
        [
         1961,
         "Edgar Barth",
         431,
         "German",
         0.0,
         0,
         18
        ],
        [
         1961,
         "Tim Parnell",
         441,
         "British",
         0.0,
         0,
         18
        ],
        [
         1961,
         "Ricardo Rodríguez",
         454,
         "Mexican",
         0.0,
         0,
         18
        ],
        [
         1961,
         "Henry Taylor",
         481,
         "British",
         0.0,
         0,
         18
        ],
        [
         1961,
         "Lorenzo Bandini",
         385,
         "Italian",
         0.0,
         0,
         18
        ],
        [
         1961,
         "Ian Burgess",
         437,
         "British",
         0.0,
         0,
         18
        ],
        [
         1961,
         "Bernard Collomb",
         428,
         "French",
         0.0,
         0,
         18
        ],
        [
         1961,
         "Peter Monteverdi",
         488,
         "Swiss",
         0.0,
         0,
         18
        ],
        [
         1961,
         "Willy Mairesse",
         435,
         "Belgian",
         0.0,
         0,
         18
        ],
        [
         1961,
         "Lucien Bianchi",
         376,
         "Belgian",
         0.0,
         0,
         18
        ],
        [
         1961,
         "Geoff Duke",
         490,
         "British",
         0.0,
         0,
         18
        ],
        [
         1961,
         "Tony Maggs",
         408,
         "South African",
         0.0,
         0,
         18
        ],
        [
         1961,
         "Tony Marsh",
         459,
         "British",
         0.0,
         0,
         18
        ],
        [
         1961,
         "Juan Manuel Bordeu",
         485,
         "Argentine",
         0.0,
         0,
         18
        ],
        [
         1961,
         "Hans Herrmann",
         478,
         "German",
         0.0,
         0,
         18
        ],
        [
         1961,
         "John Campbell-Jones",
         436,
         "British",
         0.0,
         0,
         18
        ],
        [
         1961,
         "Giorgio Scarlatti",
         483,
         "Italian",
         0.0,
         0,
         18
        ],
        [
         1961,
         "Keith Greene",
         465,
         "British",
         0.0,
         0,
         18
        ],
        [
         1961,
         "Cliff Allison",
         477,
         "British",
         0.0,
         0,
         18
        ],
        [
         1961,
         "Walt Hansgen",
         433,
         "American",
         0.0,
         0,
         18
        ],
        [
         1961,
         "Jim Hall",
         440,
         "American",
         0.0,
         0,
         18
        ],
        [
         1961,
         "Peter Ryan",
         493,
         "Canadian",
         0.0,
         0,
         18
        ],
        [
         1961,
         "Roger Penske",
         468,
         "American",
         0.0,
         0,
         18
        ],
        [
         1961,
         "Lloyd Ruby",
         494,
         "American",
         0.0,
         0,
         18
        ],
        [
         1961,
         "Ken Miles",
         495,
         "British",
         0.0,
         0,
         18
        ],
        [
         1961,
         "Trevor Taylor",
         401,
         "British",
         0.0,
         0,
         18
        ],
        [
         1961,
         "Hap Sharp",
         434,
         "American",
         0.0,
         0,
         18
        ],
        [
         1962,
         "Graham Hill",
         289,
         "British",
         52.0,
         4,
         1
        ],
        [
         1962,
         "Bruce McLaren",
         360,
         "New Zealander",
         32.0,
         1,
         2
        ],
        [
         1962,
         "Jim Clark",
         373,
         "British",
         30.0,
         3,
         3
        ],
        [
         1962,
         "John Surtees",
         341,
         "British",
         19.0,
         0,
         4
        ],
        [
         1962,
         "Dan Gurney",
         364,
         "American",
         15.0,
         1,
         5
        ],
        [
         1962,
         "Phil Hill",
         403,
         "American",
         14.0,
         0,
         6
        ],
        [
         1962,
         "Tony Maggs",
         408,
         "South African",
         13.0,
         0,
         7
        ],
        [
         1962,
         "Richie Ginther",
         386,
         "American",
         10.0,
         0,
         8
        ],
        [
         1962,
         "Jack Brabham",
         356,
         "Australian",
         9.0,
         0,
         9
        ],
        [
         1962,
         "Trevor Taylor",
         401,
         "British",
         6.0,
         0,
         10
        ],
        [
         1962,
         "Giancarlo Baghetti",
         394,
         "Italian",
         5.0,
         0,
         11
        ],
        [
         1962,
         "Ricardo Rodríguez",
         454,
         "Mexican",
         4.0,
         0,
         12
        ],
        [
         1962,
         "Lorenzo Bandini",
         385,
         "Italian",
         4.0,
         0,
         12
        ],
        [
         1962,
         "Jo Bonnier",
         347,
         "Swedish",
         3.0,
         0,
         14
        ],
        [
         1962,
         "Willy Mairesse",
         435,
         "Belgian",
         3.0,
         0,
         14
        ],
        [
         1962,
         "Carel Godin de Beaufort",
         430,
         "Dutch",
         2.0,
         0,
         16
        ],
        [
         1962,
         "Innes Ireland",
         404,
         "British",
         2.0,
         0,
         16
        ],
        [
         1962,
         "Masten Gregory",
         418,
         "American",
         1.0,
         0,
         18
        ],
        [
         1962,
         "Neville Lederle",
         410,
         "South African",
         1.0,
         0,
         18
        ],
        [
         1962,
         "Ian Burgess",
         437,
         "British",
         0.0,
         0,
         20
        ],
        [
         1962,
         "Günther Seiffert",
         445,
         "German",
         0.0,
         0,
         20
        ],
        [
         1962,
         "Bernard Collomb",
         428,
         "French",
         0.0,
         0,
         20
        ],
        [
         1962,
         "Jay Chamberlain",
         463,
         "American",
         0.0,
         0,
         20
        ],
        [
         1962,
         "Maurice Trintignant",
         427,
         "French",
         0.0,
         0,
         20
        ],
        [
         1962,
         "Nino Vaccarella",
         425,
         "Italian",
         0.0,
         0,
         20
        ],
        [
         1962,
         "Lucien Bianchi",
         376,
         "Belgian",
         0.0,
         0,
         20
        ],
        [
         1962,
         "Wolfgang Seidel",
         455,
         "German",
         0.0,
         0,
         20
        ],
        [
         1962,
         "Jackie Lewis",
         453,
         "British",
         0.0,
         0,
         20
        ],
        [
         1962,
         "Keith Greene",
         465,
         "British",
         0.0,
         0,
         20
        ],
        [
         1962,
         "Tony Marsh",
         459,
         "British",
         0.0,
         0,
         20
        ],
        [
         1962,
         "Roy Salvadori",
         456,
         "British",
         0.0,
         0,
         20
        ],
        [
         1962,
         "Tony Shelly",
         464,
         "New Zealander",
         0.0,
         0,
         20
        ],
        [
         1962,
         "Heinz Schiller",
         461,
         "Swiss",
         0.0,
         0,
         20
        ],
        [
         1962,
         "Jo Siffert",
         346,
         "Swiss",
         0.0,
         0,
         20
        ],
        [
         1962,
         "Heini Walter",
         466,
         "Swiss",
         0.0,
         0,
         20
        ],
        [
         1962,
         "Tony Settember",
         438,
         "American",
         0.0,
         0,
         20
        ],
        [
         1962,
         "Kurt Kuhnke",
         442,
         "German",
         0.0,
         0,
         20
        ],
        [
         1962,
         "Nasif Estéfano",
         439,
         "Argentine",
         0.0,
         0,
         20
        ],
        [
         1962,
         "Roberto Lippi",
         444,
         "Italian",
         0.0,
         0,
         20
        ],
        [
         1962,
         "Ernesto Prinoth",
         467,
         "Italian",
         0.0,
         0,
         20
        ],
        [
         1962,
         "Gerry Ashmore",
         460,
         "British",
         0.0,
         0,
         20
        ],
        [
         1962,
         "John Campbell-Jones",
         436,
         "British",
         0.0,
         0,
         20
        ],
        [
         1962,
         "Gary Hocking",
         473,
         "Rhodesian",
         0.0,
         0,
         20
        ],
        [
         1962,
         "Ernie Pieterse",
         413,
         "South African",
         0.0,
         0,
         20
        ],
        [
         1962,
         "Mike Harris",
         472,
         "South African",
         0.0,
         0,
         20
        ],
        [
         1962,
         "Bruce Johnstone",
         471,
         "South African",
         0.0,
         0,
         20
        ],
        [
         1962,
         "Syd van der Vyver",
         474,
         "South African",
         0.0,
         0,
         20
        ],
        [
         1962,
         "Doug Serrurier",
         411,
         "South African",
         0.0,
         0,
         20
        ],
        [
         1962,
         "John Love",
         340,
         "Rhodesian",
         0.0,
         0,
         20
        ],
        [
         1962,
         "Sam Tingle",
         368,
         "Rhodesian",
         0.0,
         0,
         20
        ],
        [
         1962,
         "Ben Pon",
         457,
         "Dutch",
         0.0,
         0,
         20
        ],
        [
         1962,
         "Hap Sharp",
         434,
         "American",
         0.0,
         0,
         20
        ],
        [
         1962,
         "Roger Penske",
         468,
         "American",
         0.0,
         0,
         20
        ],
        [
         1962,
         "Rob Schroeder",
         469,
         "British",
         0.0,
         0,
         20
        ],
        [
         1962,
         "Rob Slotemaker",
         458,
         "Dutch",
         0.0,
         0,
         20
        ],
        [
         1962,
         "Roberto Bussinello",
         424,
         "Italian",
         0.0,
         0,
         20
        ],
        [
         1962,
         "Jim Hall",
         440,
         "American",
         0.0,
         0,
         20
        ],
        [
         1962,
         "Timmy Mayer",
         470,
         "American",
         0.0,
         0,
         20
        ],
        [
         1962,
         "Carlo Abate",
         446,
         "Italian",
         0.0,
         0,
         20
        ],
        [
         1962,
         "Peter Arundell",
         397,
         "British",
         0.0,
         0,
         20
        ],
        [
         1962,
         "Colin Davis",
         462,
         "British",
         0.0,
         0,
         20
        ],
        [
         1976,
         "James Hunt",
         231,
         "British",
         69.0,
         6,
         1
        ],
        [
         1976,
         "Niki Lauda",
         182,
         "Austrian",
         68.0,
         5,
         2
        ],
        [
         1976,
         "Jody Scheckter",
         222,
         "South African",
         49.0,
         1,
         3
        ],
        [
         1976,
         "Patrick Depailler",
         221,
         "French",
         39.0,
         0,
         4
        ],
        [
         1976,
         "Clay Regazzoni",
         223,
         "Swiss",
         31.0,
         1,
         5
        ],
        [
         1976,
         "Mario Andretti",
         207,
         "American",
         22.0,
         1,
         6
        ],
        [
         1976,
         "John Watson",
         187,
         "British",
         20.0,
         1,
         7
        ],
        [
         1976,
         "Jacques Laffite",
         172,
         "French",
         20.0,
         0,
         8
        ],
        [
         1976,
         "Jochen Mass",
         200,
         "German",
         19.0,
         0,
         9
        ],
        [
         1976,
         "Gunnar Nilsson",
         255,
         "Swedish",
         11.0,
         0,
         10
        ],
        [
         1976,
         "Ronnie Peterson",
         238,
         "Swedish",
         10.0,
         1,
         11
        ],
        [
         1976,
         "Tom Pryce",
         252,
         "British",
         10.0,
         0,
         12
        ],
        [
         1976,
         "Hans-Joachim Stuck",
         233,
         "German",
         8.0,
         0,
         13
        ],
        [
         1976,
         "Carlos Pace",
         250,
         "Brazilian",
         7.0,
         0,
         14
        ],
        [
         1976,
         "Alan Jones",
         178,
         "Australian",
         7.0,
         0,
         14
        ],
        [
         1976,
         "Carlos Reutemann",
         199,
         "Argentine",
         3.0,
         0,
         16
        ],
        [
         1976,
         "Emerson Fittipaldi",
         224,
         "Brazilian",
         3.0,
         0,
         16
        ],
        [
         1976,
         "Chris Amon",
         278,
         "New Zealander",
         2.0,
         0,
         18
        ],
        [
         1976,
         "Vittorio Brambilla",
         230,
         "Italian",
         1.0,
         0,
         19
        ],
        [
         1976,
         "Rolf Stommelen",
         243,
         "German",
         1.0,
         0,
         19
        ],
        [
         1976,
         "Bob Evans",
         276,
         "British",
         0.0,
         0,
         21
        ],
        [
         1976,
         "Loris Kessel",
         271,
         "Swiss",
         0.0,
         0,
         21
        ],
        [
         1976,
         "Damien Magee",
         282,
         "British",
         0.0,
         0,
         21
        ],
        [
         1976,
         "Otto Stuppacher",
         285,
         "Austrian",
         0.0,
         0,
         21
        ],
        [
         1976,
         "Arturo Merzario",
         232,
         "Italian",
         0.0,
         0,
         21
        ],
        [
         1976,
         "Warwick Brown",
         286,
         "Australian",
         0.0,
         0,
         21
        ],
        [
         1976,
         "Alessandro Pesenti-Rossi",
         284,
         "Italian",
         0.0,
         0,
         21
        ],
        [
         1976,
         "Brett Lunger",
         239,
         "American",
         0.0,
         0,
         21
        ],
        [
         1976,
         "Jac Nelleman",
         281,
         "Danish",
         0.0,
         0,
         21
        ],
        [
         1976,
         "Jean-Pierre Jarier",
         197,
         "French",
         0.0,
         0,
         21
        ],
        [
         1976,
         "Patrick Nève",
         258,
         "Belgian",
         0.0,
         0,
         21
        ],
        [
         1976,
         "Lella Lombardi",
         275,
         "Italian",
         0.0,
         0,
         21
        ],
        [
         1976,
         "Larry Perkins",
         256,
         "Australian",
         0.0,
         0,
         21
        ],
        [
         1976,
         "Jacky Ickx",
         235,
         "Belgian",
         0.0,
         0,
         21
        ],
        [
         1976,
         "Alex Ribeiro",
         237,
         "Brazilian",
         0.0,
         0,
         21
        ],
        [
         1976,
         "Ingo Hoffmann",
         253,
         "Brazilian",
         0.0,
         0,
         21
        ],
        [
         1976,
         "Harald Ertl",
         229,
         "Austrian",
         0.0,
         0,
         21
        ],
        [
         1976,
         "Guy Edwards",
         265,
         "British",
         0.0,
         0,
         21
        ],
        [
         1976,
         "Henri Pescarolo",
         280,
         "French",
         0.0,
         0,
         21
        ],
        [
         1976,
         "Michel Leclère",
         277,
         "French",
         0.0,
         0,
         21
        ],
        [
         1976,
         "Emilio Zapico",
         279,
         "Spanish",
         0.0,
         0,
         21
        ],
        [
         1976,
         "Emilio de Villota",
         208,
         "Spanish",
         0.0,
         0,
         21
        ],
        [
         1976,
         "Hans Binder",
         246,
         "Austrian",
         0.0,
         0,
         21
        ],
        [
         1976,
         "Boy Lunger",
         257,
         "Dutch",
         0.0,
         0,
         21
        ],
        [
         1976,
         "Conny Andersson",
         260,
         "Swedish",
         0.0,
         0,
         21
        ],
        [
         1976,
         "Mike Wilds",
         283,
         "British",
         0.0,
         0,
         21
        ],
        [
         1976,
         "Divina Galica",
         242,
         "British",
         0.0,
         0,
         21
        ],
        [
         1976,
         "Ian Scheckter",
         251,
         "South African",
         0.0,
         0,
         21
        ],
        [
         1976,
         "Tony Trimmer",
         245,
         "British",
         0.0,
         0,
         21
        ],
        [
         1976,
         "Ian Ashley",
         270,
         "British",
         0.0,
         0,
         21
        ],
        [
         1976,
         "Renzo Zorzi",
         254,
         "Italian",
         0.0,
         0,
         21
        ],
        [
         1976,
         "Noritake Takahara",
         274,
         "Japanese",
         0.0,
         0,
         21
        ],
        [
         1976,
         "Kazuyoshi Hoshino",
         273,
         "Japanese",
         0.0,
         0,
         21
        ],
        [
         1976,
         "Masahiro Hasemi",
         287,
         "Japanese",
         0.0,
         0,
         21
        ],
        [
         1975,
         "Niki Lauda",
         182,
         "Austrian",
         64.5,
         5,
         1
        ],
        [
         1975,
         "Emerson Fittipaldi",
         224,
         "Brazilian",
         45.0,
         2,
         2
        ],
        [
         1975,
         "Carlos Reutemann",
         199,
         "Argentine",
         37.0,
         1,
         3
        ],
        [
         1975,
         "James Hunt",
         231,
         "British",
         33.0,
         1,
         4
        ],
        [
         1975,
         "Clay Regazzoni",
         223,
         "Swiss",
         25.0,
         1,
         5
        ],
        [
         1975,
         "Carlos Pace",
         250,
         "Brazilian",
         24.0,
         1,
         6
        ],
        [
         1975,
         "Jody Scheckter",
         222,
         "South African",
         20.0,
         1,
         7
        ],
        [
         1975,
         "Jochen Mass",
         200,
         "German",
         20.0,
         1,
         7
        ],
        [
         1975,
         "Patrick Depailler",
         221,
         "French",
         12.0,
         0,
         9
        ],
        [
         1975,
         "Tom Pryce",
         252,
         "British",
         8.0,
         0,
         10
        ],
        [
         1975,
         "Vittorio Brambilla",
         230,
         "Italian",
         6.5,
         1,
         11
        ],
        [
         1975,
         "Jacques Laffite",
         172,
         "French",
         6.0,
         0,
         12
        ],
        [
         1975,
         "Ronnie Peterson",
         238,
         "Swedish",
         6.0,
         0,
         12
        ],
        [
         1975,
         "Mario Andretti",
         207,
         "American",
         5.0,
         0,
         14
        ],
        [
         1975,
         "Mark Donohue",
         288,
         "American",
         4.0,
         0,
         15
        ],
        [
         1975,
         "Jacky Ickx",
         235,
         "Belgian",
         3.0,
         0,
         16
        ],
        [
         1975,
         "Alan Jones",
         178,
         "Australian",
         2.0,
         0,
         17
        ],
        [
         1975,
         "Jean-Pierre Jarier",
         197,
         "French",
         1.5,
         0,
         18
        ],
        [
         1975,
         "Tony Brise",
         294,
         "British",
         1.0,
         0,
         19
        ],
        [
         1975,
         "Gijs van Lennep",
         298,
         "Dutch",
         1.0,
         0,
         19
        ],
        [
         1975,
         "Lella Lombardi",
         275,
         "Italian",
         0.5,
         0,
         21
        ],
        [
         1975,
         "François Migault",
         296,
         "French",
         0.0,
         0,
         22
        ],
        [
         1975,
         "Brian Henton",
         205,
         "British",
         0.0,
         0,
         22
        ],
        [
         1975,
         "Wilson Fittipaldi",
         290,
         "Brazilian",
         0.0,
         0,
         22
        ],
        [
         1975,
         "John Watson",
         187,
         "British",
         0.0,
         0,
         22
        ],
        [
         1975,
         "Jean-Pierre Jabouille",
         219,
         "French",
         0.0,
         0,
         22
        ],
        [
         1975,
         "Tony Trimmer",
         245,
         "British",
         0.0,
         0,
         22
        ],
        [
         1975,
         "Rolf Stommelen",
         243,
         "German",
         0.0,
         0,
         22
        ],
        [
         1975,
         "Harald Ertl",
         229,
         "Austrian",
         0.0,
         0,
         22
        ],
        [
         1975,
         "Bob Evans",
         276,
         "British",
         0.0,
         0,
         22
        ],
        [
         1975,
         "Jo Vonlanthen",
         303,
         "Swiss",
         0.0,
         0,
         22
        ],
        [
         1975,
         "Chris Amon",
         278,
         "New Zealander",
         0.0,
         0,
         22
        ],
        [
         1975,
         "Brett Lunger",
         239,
         "American",
         0.0,
         0,
         22
        ],
        [
         1975,
         "Roelof Wunderink",
         295,
         "Dutch",
         0.0,
         0,
         22
        ],
        [
         1975,
         "Hans-Joachim Stuck",
         233,
         "German",
         0.0,
         0,
         22
        ],
        [
         1975,
         "Graham Hill",
         289,
         "British",
         0.0,
         0,
         22
        ],
        [
         1975,
         "Arturo Merzario",
         232,
         "Italian",
         0.0,
         0,
         22
        ],
        [
         1975,
         "Jim Crawford",
         302,
         "British",
         0.0,
         0,
         22
        ],
        [
         1975,
         "Dave Charlton",
         293,
         "South African",
         0.0,
         0,
         22
        ],
        [
         1975,
         "Renzo Zorzi",
         254,
         "Italian",
         0.0,
         0,
         22
        ],
        [
         1975,
         "Guy Tunmer",
         291,
         "South African",
         0.0,
         0,
         22
        ],
        [
         1975,
         "Hiroshi Fushida",
         299,
         "Japanese",
         0.0,
         0,
         22
        ],
        [
         1975,
         "John Nicholson",
         300,
         "New Zealander",
         0.0,
         0,
         22
        ],
        [
         1975,
         "Eddie Keizan",
         292,
         "South African",
         0.0,
         0,
         22
        ],
        [
         1975,
         "Dave Morgan",
         301,
         "British",
         0.0,
         0,
         22
        ],
        [
         1975,
         "Ian Scheckter",
         251,
         "South African",
         0.0,
         0,
         22
        ],
        [
         1975,
         "Michel Leclère",
         277,
         "French",
         0.0,
         0,
         22
        ],
        [
         1975,
         "Mike Wilds",
         283,
         "British",
         0.0,
         0,
         22
        ],
        [
         1975,
         "Vern Schuppan",
         267,
         "Australian",
         0.0,
         0,
         22
        ],
        [
         1975,
         "Torsten Palm",
         297,
         "Swedish",
         0.0,
         0,
         22
        ],
        [
         1975,
         "Ian Ashley",
         270,
         "British",
         0.0,
         0,
         22
        ],
        [
         1975,
         "Damien Magee",
         282,
         "British",
         0.0,
         0,
         22
        ],
        [
         1978,
         "Mario Andretti",
         207,
         "American",
         64.0,
         6,
         1
        ],
        [
         1978,
         "Ronnie Peterson",
         238,
         "Swedish",
         51.0,
         2,
         2
        ],
        [
         1978,
         "Carlos Reutemann",
         199,
         "Argentine",
         48.0,
         4,
         3
        ],
        [
         1978,
         "Niki Lauda",
         182,
         "Austrian",
         44.0,
         2,
         4
        ],
        [
         1978,
         "Patrick Depailler",
         221,
         "French",
         34.0,
         1,
         5
        ],
        [
         1978,
         "John Watson",
         187,
         "British",
         25.0,
         0,
         6
        ],
        [
         1978,
         "Jody Scheckter",
         222,
         "South African",
         24.0,
         0,
         7
        ],
        [
         1978,
         "Jacques Laffite",
         172,
         "French",
         19.0,
         0,
         8
        ],
        [
         1978,
         "Gilles Villeneuve",
         203,
         "Canadian",
         17.0,
         1,
         9
        ],
        [
         1978,
         "Emerson Fittipaldi",
         224,
         "Brazilian",
         17.0,
         0,
         10
        ],
        [
         1978,
         "Riccardo Patrese",
         119,
         "Italian",
         11.0,
         0,
         11
        ],
        [
         1978,
         "Alan Jones",
         178,
         "Australian",
         11.0,
         0,
         11
        ],
        [
         1978,
         "James Hunt",
         231,
         "British",
         8.0,
         0,
         13
        ],
        [
         1978,
         "Patrick Tambay",
         175,
         "French",
         8.0,
         0,
         13
        ],
        [
         1978,
         "Didier Pironi",
         202,
         "French",
         7.0,
         0,
         15
        ],
        [
         1978,
         "Clay Regazzoni",
         223,
         "Swiss",
         4.0,
         0,
         16
        ],
        [
         1978,
         "Jean-Pierre Jabouille",
         219,
         "French",
         3.0,
         0,
         17
        ],
        [
         1978,
         "Hans-Joachim Stuck",
         233,
         "German",
         2.0,
         0,
         18
        ],
        [
         1978,
         "Vittorio Brambilla",
         230,
         "Italian",
         1.0,
         0,
         19
        ],
        [
         1978,
         "Hector Rebaque",
         212,
         "Mexican",
         1.0,
         0,
         19
        ],
        [
         1978,
         "Derek Daly",
         206,
         "Irish",
         1.0,
         0,
         19
        ],
        [
         1978,
         "Jean-Pierre Jarier",
         197,
         "French",
         0.0,
         0,
         22
        ],
        [
         1978,
         "Lamberto Leoni",
         241,
         "Italian",
         0.0,
         0,
         22
        ],
        [
         1978,
         "Arturo Merzario",
         232,
         "Italian",
         0.0,
         0,
         22
        ],
        [
         1978,
         "Brett Lunger",
         239,
         "American",
         0.0,
         0,
         22
        ],
        [
         1978,
         "Rupert Keegan",
         211,
         "British",
         0.0,
         0,
         22
        ],
        [
         1978,
         "Danny Ongais",
         240,
         "American",
         0.0,
         0,
         22
        ],
        [
         1978,
         "Rolf Stommelen",
         243,
         "German",
         0.0,
         0,
         22
        ],
        [
         1978,
         "Jochen Mass",
         200,
         "German",
         0.0,
         0,
         22
        ],
        [
         1978,
         "Keke Rosberg",
         177,
         "Finnish",
         0.0,
         0,
         22
        ],
        [
         1978,
         "Bruno Giacomelli",
         152,
         "Italian",
         0.0,
         0,
         22
        ],
        [
         1978,
         "Harald Ertl",
         229,
         "Austrian",
         0.0,
         0,
         22
        ],
        [
         1978,
         "Jacky Ickx",
         235,
         "Belgian",
         0.0,
         0,
         22
        ],
        [
         1978,
         "René Arnoux",
         163,
         "French",
         0.0,
         0,
         22
        ],
        [
         1978,
         "Nelson Piquet",
         137,
         "Brazilian",
         0.0,
         0,
         22
        ],
        [
         1978,
         "Carlo Franchi",
         248,
         "Italian",
         0.0,
         0,
         22
        ],
        [
         1978,
         "Michael Bleekemolen",
         247,
         "Dutch",
         0.0,
         0,
         22
        ],
        [
         1978,
         "Alberto Colombo",
         244,
         "Italian",
         0.0,
         0,
         22
        ],
        [
         1978,
         "Eddie Cheever",
         158,
         "American",
         0.0,
         0,
         22
        ],
        [
         1978,
         "Bobby Rahal",
         249,
         "American",
         0.0,
         0,
         22
        ],
        [
         1978,
         "Beppe Gabbiani",
         213,
         "Italian",
         0.0,
         0,
         22
        ],
        [
         1978,
         "Divina Galica",
         242,
         "British",
         0.0,
         0,
         22
        ],
        [
         1978,
         "Hans Binder",
         246,
         "Austrian",
         0.0,
         0,
         22
        ],
        [
         1978,
         "Tony Trimmer",
         245,
         "British",
         0.0,
         0,
         22
        ],
        [
         1978,
         "Emilio de Villota",
         208,
         "Spanish",
         0.0,
         0,
         22
        ],
        [
         1978,
         "Geoff Lees",
         209,
         "British",
         0.0,
         0,
         22
        ],
        [
         1989,
         "Alain Prost",
         117,
         "French",
         81.0,
         4,
         1
        ],
        [
         1989,
         "Ayrton Senna",
         102,
         "Brazilian",
         60.0,
         6,
         2
        ],
        [
         1989,
         "Riccardo Patrese",
         119,
         "Italian",
         40.0,
         0,
         3
        ],
        [
         1989,
         "Nigel Mansell",
         95,
         "British",
         38.0,
         2,
         4
        ],
        [
         1989,
         "Thierry Boutsen",
         123,
         "Belgian",
         37.0,
         2,
         5
        ],
        [
         1989,
         "Alessandro Nannini",
         145,
         "Italian",
         32.0,
         1,
         6
        ],
        [
         1989,
         "Gerhard Berger",
         77,
         "Austrian",
         21.0,
         1,
         7
        ],
        [
         1989,
         "Nelson Piquet",
         137,
         "Brazilian",
         12.0,
         0,
         8
        ],
        [
         1989,
         "Jean Alesi",
         55,
         "French",
         8.0,
         0,
         9
        ],
        [
         1989,
         "Derek Warwick",
         118,
         "British",
         7.0,
         0,
         10
        ],
        [
         1989,
         "Stefan Johansson",
         140,
         "Swedish",
         6.0,
         0,
         11
        ],
        [
         1989,
         "Michele Alboreto",
         105,
         "Italian",
         6.0,
         0,
         11
        ],
        [
         1989,
         "Eddie Cheever",
         158,
         "American",
         6.0,
         0,
         11
        ],
        [
         1989,
         "Pierluigi Martini",
         94,
         "Italian",
         5.0,
         0,
         14
        ],
        [
         1989,
         "Johnny Herbert",
         65,
         "British",
         5.0,
         0,
         14
        ],
        [
         1989,
         "Stefano Modena",
         131,
         "Italian",
         4.0,
         0,
         16
        ],
        [
         1989,
         "Alex Caffi",
         133,
         "Italian",
         4.0,
         0,
         16
        ],
        [
         1989,
         "Andrea de Cesaris",
         110,
         "Italian",
         4.0,
         0,
         16
        ],
        [
         1989,
         "Martin Brundle",
         84,
         "British",
         4.0,
         0,
         16
        ],
        [
         1989,
         "Maurício Gugelmin",
         127,
         "Brazilian",
         4.0,
         0,
         16
        ],
        [
         1989,
         "Christian Danner",
         157,
         "German",
         3.0,
         0,
         21
        ],
        [
         1989,
         "Satoru Nakajima",
         138,
         "Japanese",
         3.0,
         0,
         21
        ],
        [
         1989,
         "René Arnoux",
         163,
         "French",
         2.0,
         0,
         23
        ],
        [
         1989,
         "Jonathan Palmer",
         156,
         "British",
         2.0,
         0,
         23
        ],
        [
         1989,
         "Emanuele Pirro",
         139,
         "Italian",
         2.0,
         0,
         23
        ],
        [
         1989,
         "Olivier Grouillard",
         129,
         "French",
         1.0,
         0,
         26
        ],
        [
         1989,
         "Luis Pérez-Sala",
         159,
         "Spanish",
         1.0,
         0,
         26
        ],
        [
         1989,
         "Philippe Alliot",
         112,
         "French",
         1.0,
         0,
         26
        ],
        [
         1989,
         "Gabriele Tarquini",
         99,
         "Italian",
         1.0,
         0,
         26
        ],
        [
         1989,
         "Jyrki Järvilehto",
         109,
         "Finnish",
         0.0,
         0,
         30
        ],
        [
         1989,
         "Volker Weidler",
         161,
         "German",
         0.0,
         0,
         30
        ],
        [
         1989,
         "Enrico Bertaggia",
         134,
         "Italian",
         0.0,
         0,
         30
        ],
        [
         1989,
         "Ivan Capelli",
         122,
         "Italian",
         0.0,
         0,
         30
        ],
        [
         1989,
         "Éric Bernard",
         103,
         "French",
         0.0,
         0,
         30
        ],
        [
         1989,
         "Gregor Foitek",
         148,
         "Swiss",
         0.0,
         0,
         30
        ],
        [
         1989,
         "Pierre-Henri Raphanel",
         162,
         "French",
         0.0,
         0,
         30
        ],
        [
         1989,
         "Aguri Suzuki",
         88,
         "Japanese",
         0.0,
         0,
         30
        ],
        [
         1989,
         "Bernd Schneider",
         146,
         "German",
         0.0,
         0,
         30
        ],
        [
         1989,
         "Roberto Moreno",
         90,
         "Brazilian",
         0.0,
         0,
         30
        ],
        [
         1989,
         "Oscar Larrauri",
         165,
         "Argentine",
         0.0,
         0,
         30
        ],
        [
         1989,
         "Yannick Dalmas",
         114,
         "French",
         0.0,
         0,
         30
        ],
        [
         1989,
         "Joachim Winkelhock",
         164,
         "German",
         0.0,
         0,
         30
        ],
        [
         1989,
         "Piercarlo Ghinzani",
         160,
         "Italian",
         0.0,
         0,
         30
        ],
        [
         1989,
         "Bertrand Gachot",
         92,
         "Belgian",
         0.0,
         0,
         30
        ],
        [
         1989,
         "Martin Donnelly",
         151,
         "British",
         0.0,
         0,
         30
        ],
        [
         1989,
         "Nicola Larini",
         78,
         "Italian",
         0.0,
         0,
         30
        ],
        [
         1989,
         "Paolo Barilla",
         147,
         "Italian",
         0.0,
         0,
         30
        ],
        [
         1994,
         "Michael Schumacher",
         30,
         "German",
         92.0,
         8,
         1
        ],
        [
         1994,
         "Damon Hill",
         71,
         "British",
         91.0,
         6,
         2
        ],
        [
         1994,
         "Gerhard Berger",
         77,
         "Austrian",
         41.0,
         1,
         3
        ],
        [
         1994,
         "Mika Häkkinen",
         57,
         "Finnish",
         26.0,
         0,
         4
        ],
        [
         1994,
         "Jean Alesi",
         55,
         "French",
         24.0,
         0,
         5
        ],
        [
         1994,
         "Rubens Barrichello",
         22,
         "Brazilian",
         19.0,
         0,
         6
        ],
        [
         1994,
         "Martin Brundle",
         84,
         "British",
         16.0,
         0,
         7
        ],
        [
         1994,
         "David Coulthard",
         14,
         "British",
         14.0,
         0,
         8
        ],
        [
         1994,
         "Nigel Mansell",
         95,
         "British",
         13.0,
         1,
         9
        ],
        [
         1994,
         "Jos Verstappen",
         50,
         "Dutch",
         10.0,
         0,
         10
        ],
        [
         1994,
         "Olivier Panis",
         44,
         "French",
         9.0,
         0,
         11
        ],
        [
         1994,
         "Mark Blundell",
         87,
         "British",
         8.0,
         0,
         12
        ],
        [
         1994,
         "Heinz-Harald Frentzen",
         49,
         "German",
         7.0,
         0,
         13
        ],
        [
         1994,
         "Eddie Irvine",
         56,
         "British",
         6.0,
         0,
         14
        ],
        [
         1994,
         "Christian Fittipaldi",
         104,
         "Brazilian",
         6.0,
         0,
         14
        ],
        [
         1994,
         "Nicola Larini",
         78,
         "Italian",
         6.0,
         0,
         14
        ],
        [
         1994,
         "Ukyo Katayama",
         79,
         "Japanese",
         5.0,
         0,
         17
        ],
        [
         1994,
         "Éric Bernard",
         103,
         "French",
         4.0,
         0,
         18
        ],
        [
         1994,
         "Andrea de Cesaris",
         110,
         "Italian",
         4.0,
         0,
         18
        ],
        [
         1994,
         "Pierluigi Martini",
         94,
         "Italian",
         4.0,
         0,
         18
        ],
        [
         1994,
         "Karl Wendlinger",
         91,
         "Austrian",
         4.0,
         0,
         18
        ],
        [
         1994,
         "Gianni Morbidelli",
         81,
         "Italian",
         3.0,
         0,
         22
        ],
        [
         1994,
         "Érik Comas",
         100,
         "French",
         2.0,
         0,
         23
        ],
        [
         1994,
         "Michele Alboreto",
         105,
         "Italian",
         1.0,
         0,
         24
        ],
        [
         1994,
         "Jyrki Järvilehto",
         109,
         "Finnish",
         1.0,
         0,
         24
        ],
        [
         1994,
         "Paul Belmondo",
         108,
         "French",
         0.0,
         0,
         26
        ],
        [
         1994,
         "Bertrand Gachot",
         92,
         "Belgian",
         0.0,
         0,
         26
        ],
        [
         1994,
         "David Brabham",
         101,
         "Australian",
         0.0,
         0,
         26
        ],
        [
         1994,
         "Johnny Herbert",
         65,
         "British",
         0.0,
         0,
         26
        ],
        [
         1994,
         "Domenico Schiattarella",
         93,
         "Italian",
         0.0,
         0,
         26
        ],
        [
         1994,
         "Alessandro Zanardi",
         70,
         "Italian",
         0.0,
         0,
         26
        ],
        [
         1994,
         "Hideki Noda",
         115,
         "Japanese",
         0.0,
         0,
         26
        ],
        [
         1994,
         "Philippe Alliot",
         112,
         "French",
         0.0,
         0,
         26
        ],
        [
         1994,
         "Yannick Dalmas",
         114,
         "French",
         0.0,
         0,
         26
        ],
        [
         1994,
         "Olivier Beretta",
         106,
         "Monegasque",
         0.0,
         0,
         26
        ],
        [
         1994,
         "Philippe Adams",
         113,
         "Belgian",
         0.0,
         0,
         26
        ],
        [
         1994,
         "Mika Salo",
         63,
         "Finnish",
         0.0,
         0,
         26
        ],
        [
         1994,
         "Jean-Marc Gounon",
         111,
         "French",
         0.0,
         0,
         26
        ],
        [
         1994,
         "Ayrton Senna",
         102,
         "Brazilian",
         0.0,
         0,
         26
        ],
        [
         1994,
         "Pedro Lamy",
         83,
         "Portuguese",
         0.0,
         0,
         26
        ],
        [
         1994,
         "Taki Inoue",
         89,
         "Japanese",
         0.0,
         0,
         26
        ],
        [
         1994,
         "Jean-Denis Délétraz",
         98,
         "Swiss",
         0.0,
         0,
         26
        ],
        [
         1994,
         "Franck Lagorce",
         116,
         "French",
         0.0,
         0,
         26
        ],
        [
         1994,
         "Roland Ratzenberger",
         107,
         "Austrian",
         0.0,
         0,
         26
        ],
        [
         1994,
         "Andrea Montermini",
         85,
         "Italian",
         0.0,
         0,
         26
        ],
        [
         1994,
         "Aguri Suzuki",
         88,
         "Japanese",
         0.0,
         0,
         26
        ],
        [
         1965,
         "Jim Clark",
         373,
         "British",
         54.0,
         6,
         1
        ],
        [
         1965,
         "Graham Hill",
         289,
         "British",
         47.0,
         2,
         2
        ],
        [
         1965,
         "Jackie Stewart",
         328,
         "British",
         34.0,
         1,
         3
        ],
        [
         1965,
         "Dan Gurney",
         364,
         "American",
         25.0,
         0,
         4
        ],
        [
         1965,
         "John Surtees",
         341,
         "British",
         17.0,
         0,
         5
        ],
        [
         1965,
         "Lorenzo Bandini",
         385,
         "Italian",
         13.0,
         0,
         6
        ],
        [
         1965,
         "Richie Ginther",
         386,
         "American",
         11.0,
         1,
         7
        ],
        [
         1965,
         "Mike Spence",
         374,
         "British",
         10.0,
         0,
         8
        ],
        [
         1965,
         "Bruce McLaren",
         360,
         "New Zealander",
         10.0,
         0,
         8
        ],
        [
         1965,
         "Jack Brabham",
         356,
         "Australian",
         9.0,
         0,
         10
        ],
        [
         1965,
         "Jo Siffert",
         346,
         "Swiss",
         5.0,
         0,
         11
        ],
        [
         1965,
         "Denny Hulme",
         304,
         "New Zealander",
         5.0,
         0,
         11
        ],
        [
         1965,
         "Jochen Rindt",
         358,
         "Austrian",
         4.0,
         0,
         13
        ],
        [
         1965,
         "Pedro Rodríguez",
         345,
         "Mexican",
         2.0,
         0,
         14
        ],
        [
         1965,
         "Ronnie Bucknum",
         405,
         "American",
         2.0,
         0,
         14
        ],
        [
         1965,
         "Richard Attwood",
         370,
         "British",
         2.0,
         0,
         14
        ],
        [
         1965,
         "Brausch Niemann",
         412,
         "South African",
         0.0,
         0,
         17
        ],
        [
         1965,
         "Paul Hawkins",
         406,
         "Australian",
         0.0,
         0,
         17
        ],
        [
         1965,
         "Doug Serrurier",
         411,
         "South African",
         0.0,
         0,
         17
        ],
        [
         1965,
         "Tony Maggs",
         408,
         "South African",
         0.0,
         0,
         17
        ],
        [
         1965,
         "David Clapham",
         416,
         "South African",
         0.0,
         0,
         17
        ],
        [
         1965,
         "Dave Charlton",
         293,
         "South African",
         0.0,
         0,
         17
        ],
        [
         1965,
         "Bob Anderson",
         383,
         "British",
         0.0,
         0,
         17
        ],
        [
         1965,
         "Peter de Klerk",
         362,
         "South African",
         0.0,
         0,
         17
        ],
        [
         1965,
         "Frank Gardner",
         380,
         "Australian",
         0.0,
         0,
         17
        ],
        [
         1965,
         "Ernie Pieterse",
         413,
         "South African",
         0.0,
         0,
         17
        ],
        [
         1965,
         "John Love",
         340,
         "Rhodesian",
         0.0,
         0,
         17
        ],
        [
         1965,
         "David Prophet",
         407,
         "British",
         0.0,
         0,
         17
        ],
        [
         1965,
         "Trevor Blokdyk",
         409,
         "South African",
         0.0,
         0,
         17
        ],
        [
         1965,
         "Sam Tingle",
         368,
         "Rhodesian",
         0.0,
         0,
         17
        ],
        [
         1965,
         "Clive Puzey",
         414,
         "Rhodesian",
         0.0,
         0,
         17
        ],
        [
         1965,
         "Ray Reed",
         415,
         "South African",
         0.0,
         0,
         17
        ],
        [
         1965,
         "Jo Bonnier",
         347,
         "Swedish",
         0.0,
         0,
         17
        ],
        [
         1965,
         "Alex Blignaut",
         417,
         "South African",
         0.0,
         0,
         17
        ],
        [
         1965,
         "Jackie Pretorius",
         334,
         "South African",
         0.0,
         0,
         17
        ],
        [
         1965,
         "Neville Lederle",
         410,
         "South African",
         0.0,
         0,
         17
        ],
        [
         1965,
         "Bob Bondurant",
         396,
         "American",
         0.0,
         0,
         17
        ],
        [
         1965,
         "Alan Rollinson",
         421,
         "British",
         0.0,
         0,
         17
        ],
        [
         1965,
         "Giorgio Bassi",
         426,
         "Italian",
         0.0,
         0,
         17
        ],
        [
         1965,
         "John Rhodes",
         419,
         "British",
         0.0,
         0,
         17
        ],
        [
         1965,
         "Roberto Bussinello",
         424,
         "Italian",
         0.0,
         0,
         17
        ],
        [
         1965,
         "Ian Raby",
         420,
         "British",
         0.0,
         0,
         17
        ],
        [
         1965,
         "Chris Amon",
         278,
         "New Zealander",
         0.0,
         0,
         17
        ],
        [
         1965,
         "Gerhard Mitter",
         423,
         "German",
         0.0,
         0,
         17
        ],
        [
         1965,
         "Nino Vaccarella",
         425,
         "Italian",
         0.0,
         0,
         17
        ],
        [
         1965,
         "Brian Gubby",
         422,
         "British",
         0.0,
         0,
         17
        ],
        [
         1965,
         "Masten Gregory",
         418,
         "American",
         0.0,
         0,
         17
        ],
        [
         1965,
         "Moisés Solana",
         382,
         "Mexican",
         0.0,
         0,
         17
        ],
        [
         1965,
         "Innes Ireland",
         404,
         "British",
         0.0,
         0,
         17
        ],
        [
         1965,
         "Giancarlo Baghetti",
         394,
         "Italian",
         0.0,
         0,
         17
        ],
        [
         1965,
         "Giacomo Russo",
         402,
         "Italian",
         0.0,
         0,
         17
        ],
        [
         1965,
         "Ludovico Scarfiotti",
         375,
         "Italian",
         0.0,
         0,
         17
        ],
        [
         1965,
         "Mike Hailwood",
         305,
         "British",
         0.0,
         0,
         17
        ],
        [
         1965,
         "Lucien Bianchi",
         376,
         "Belgian",
         0.0,
         0,
         17
        ],
        [
         1971,
         "Jackie Stewart",
         328,
         "British",
         62.0,
         6,
         1
        ],
        [
         1971,
         "Ronnie Peterson",
         238,
         "Swedish",
         33.0,
         0,
         2
        ],
        [
         1971,
         "François Cevert",
         327,
         "French",
         26.0,
         1,
         3
        ],
        [
         1971,
         "Jacky Ickx",
         235,
         "Belgian",
         19.0,
         1,
         4
        ],
        [
         1971,
         "Jo Siffert",
         346,
         "Swiss",
         19.0,
         1,
         4
        ],
        [
         1971,
         "Emerson Fittipaldi",
         224,
         "Brazilian",
         16.0,
         0,
         6
        ],
        [
         1971,
         "Clay Regazzoni",
         223,
         "Swiss",
         13.0,
         0,
         7
        ],
        [
         1971,
         "Mario Andretti",
         207,
         "American",
         12.0,
         1,
         8
        ],
        [
         1971,
         "Peter Gethin",
         320,
         "British",
         9.0,
         1,
         9
        ],
        [
         1971,
         "Reine Wisell",
         317,
         "Swedish",
         9.0,
         0,
         10
        ],
        [
         1971,
         "Denny Hulme",
         304,
         "New Zealander",
         9.0,
         0,
         10
        ],
        [
         1971,
         "Chris Amon",
         278,
         "New Zealander",
         9.0,
         0,
         10
        ],
        [
         1971,
         "Pedro Rodríguez",
         345,
         "Mexican",
         9.0,
         0,
         10
        ],
        [
         1971,
         "Tim Schenken",
         314,
         "Australian",
         5.0,
         0,
         14
        ],
        [
         1971,
         "Howden Ganley",
         307,
         "New Zealander",
         5.0,
         0,
         14
        ],
        [
         1971,
         "Henri Pescarolo",
         280,
         "French",
         4.0,
         0,
         16
        ],
        [
         1971,
         "Mark Donohue",
         288,
         "American",
         4.0,
         0,
         16
        ],
        [
         1971,
         "John Surtees",
         341,
         "British",
         3.0,
         0,
         18
        ],
        [
         1971,
         "Mike Hailwood",
         305,
         "British",
         3.0,
         0,
         18
        ],
        [
         1971,
         "Rolf Stommelen",
         243,
         "German",
         3.0,
         0,
         18
        ],
        [
         1971,
         "Graham Hill",
         289,
         "British",
         2.0,
         0,
         21
        ],
        [
         1971,
         "Jean-Pierre Beltoise",
         306,
         "French",
         1.0,
         0,
         22
        ],
        [
         1971,
         "Sam Posey",
         344,
         "American",
         0.0,
         0,
         23
        ],
        [
         1971,
         "John Cannon",
         355,
         "Canadian",
         0.0,
         0,
         23
        ],
        [
         1971,
         "Pete Lovely",
         353,
         "American",
         0.0,
         0,
         23
        ],
        [
         1971,
         "Jo Bonnier",
         347,
         "Swedish",
         0.0,
         0,
         23
        ],
        [
         1971,
         "David Hobbs",
         322,
         "British",
         0.0,
         0,
         23
        ],
        [
         1971,
         "Chris Craft",
         354,
         "British",
         0.0,
         0,
         23
        ],
        [
         1971,
         "Peter Revson",
         309,
         "American",
         0.0,
         0,
         23
        ],
        [
         1971,
         "Helmut Marko",
         337,
         "Austrian",
         0.0,
         0,
         23
        ],
        [
         1971,
         "Andrea de Adamich",
         333,
         "Italian",
         0.0,
         0,
         23
        ],
        [
         1971,
         "Nanni Galli",
         330,
         "Italian",
         0.0,
         0,
         23
        ],
        [
         1971,
         "Skip Barber",
         342,
         "American",
         0.0,
         0,
         23
        ],
        [
         1971,
         "Jackie Pretorius",
         334,
         "South African",
         0.0,
         0,
         23
        ],
        [
         1971,
         "Alex Soler-Roig",
         339,
         "Spanish",
         0.0,
         0,
         23
        ],
        [
         1971,
         "Brian Redman",
         312,
         "British",
         0.0,
         0,
         23
        ],
        [
         1971,
         "John Love",
         340,
         "Rhodesian",
         0.0,
         0,
         23
        ],
        [
         1971,
         "Dave Charlton",
         293,
         "South African",
         0.0,
         0,
         23
        ],
        [
         1971,
         "George Eaton",
         352,
         "Canadian",
         0.0,
         0,
         23
        ],
        [
         1971,
         "Mike Beuttler",
         329,
         "British",
         0.0,
         0,
         23
        ],
        [
         1971,
         "Jackie Oliver",
         262,
         "British",
         0.0,
         0,
         23
        ],
        [
         1971,
         "Max Jean",
         349,
         "French",
         0.0,
         0,
         23
        ],
        [
         1971,
         "Derek Bell",
         321,
         "British",
         0.0,
         0,
         23
        ],
        [
         1971,
         "François Mazet",
         348,
         "French",
         0.0,
         0,
         23
        ],
        [
         1971,
         "Gijs van Lennep",
         298,
         "Dutch",
         0.0,
         0,
         23
        ],
        [
         1971,
         "David Walker",
         338,
         "Australian",
         0.0,
         0,
         23
        ],
        [
         1971,
         "Niki Lauda",
         182,
         "Austrian",
         0.0,
         0,
         23
        ],
        [
         1971,
         "Silvio Moser",
         351,
         "Swiss",
         0.0,
         0,
         23
        ],
        [
         1971,
         "Jean-Pierre Jarier",
         197,
         "French",
         0.0,
         0,
         23
        ],
        [
         1971,
         "Vic Elford",
         350,
         "British",
         0.0,
         0,
         23
        ],
        [
         1973,
         "Jackie Stewart",
         328,
         "British",
         71.0,
         5,
         1
        ],
        [
         1973,
         "Emerson Fittipaldi",
         224,
         "Brazilian",
         55.0,
         3,
         2
        ],
        [
         1973,
         "Ronnie Peterson",
         238,
         "Swedish",
         52.0,
         4,
         3
        ],
        [
         1973,
         "François Cevert",
         327,
         "French",
         47.0,
         0,
         4
        ],
        [
         1973,
         "Peter Revson",
         309,
         "American",
         38.0,
         2,
         5
        ],
        [
         1973,
         "Denny Hulme",
         304,
         "New Zealander",
         26.0,
         1,
         6
        ],
        [
         1973,
         "Carlos Reutemann",
         199,
         "Argentine",
         16.0,
         0,
         7
        ],
        [
         1973,
         "James Hunt",
         231,
         "British",
         14.0,
         0,
         8
        ],
        [
         1973,
         "Jacky Ickx",
         235,
         "Belgian",
         12.0,
         0,
         9
        ],
        [
         1973,
         "Jean-Pierre Beltoise",
         306,
         "French",
         9.0,
         0,
         10
        ],
        [
         1973,
         "Carlos Pace",
         250,
         "Brazilian",
         7.0,
         0,
         11
        ],
        [
         1973,
         "Arturo Merzario",
         232,
         "Italian",
         6.0,
         0,
         12
        ],
        [
         1973,
         "George Follmer",
         332,
         "American",
         5.0,
         0,
         13
        ],
        [
         1973,
         "Jackie Oliver",
         262,
         "British",
         4.0,
         0,
         14
        ],
        [
         1973,
         "Wilson Fittipaldi",
         290,
         "Brazilian",
         3.0,
         0,
         15
        ],
        [
         1973,
         "Andrea de Adamich",
         333,
         "Italian",
         3.0,
         0,
         15
        ],
        [
         1973,
         "Clay Regazzoni",
         223,
         "Swiss",
         2.0,
         0,
         17
        ],
        [
         1973,
         "Niki Lauda",
         182,
         "Austrian",
         2.0,
         0,
         17
        ],
        [
         1973,
         "Chris Amon",
         278,
         "New Zealander",
         1.0,
         0,
         19
        ],
        [
         1973,
         "Howden Ganley",
         307,
         "New Zealander",
         1.0,
         0,
         19
        ],
        [
         1973,
         "Gijs van Lennep",
         298,
         "Dutch",
         1.0,
         0,
         19
        ],
        [
         1973,
         "Jody Scheckter",
         222,
         "South African",
         0.0,
         0,
         22
        ],
        [
         1973,
         "Jochen Mass",
         200,
         "German",
         0.0,
         0,
         22
        ],
        [
         1973,
         "Graham Hill",
         289,
         "British",
         0.0,
         0,
         22
        ],
        [
         1973,
         "Rikky von Opel",
         313,
         "Liechtensteiner",
         0.0,
         0,
         22
        ],
        [
         1973,
         "Roger Williamson",
         335,
         "British",
         0.0,
         0,
         22
        ],
        [
         1973,
         "David Purley",
         259,
         "British",
         0.0,
         0,
         22
        ],
        [
         1973,
         "John Watson",
         187,
         "British",
         0.0,
         0,
         22
        ],
        [
         1973,
         "Brian Redman",
         312,
         "British",
         0.0,
         0,
         22
        ],
        [
         1973,
         "Mike Hailwood",
         305,
         "British",
         0.0,
         0,
         22
        ],
        [
         1973,
         "Mike Beuttler",
         329,
         "British",
         0.0,
         0,
         22
        ],
        [
         1973,
         "Graham McRae",
         336,
         "New Zealander",
         0.0,
         0,
         22
        ],
        [
         1973,
         "Jean-Pierre Jarier",
         197,
         "French",
         0.0,
         0,
         22
        ],
        [
         1973,
         "Reine Wisell",
         317,
         "Swedish",
         0.0,
         0,
         22
        ],
        [
         1973,
         "Henri Pescarolo",
         280,
         "French",
         0.0,
         0,
         22
        ],
        [
         1973,
         "Rolf Stommelen",
         243,
         "German",
         0.0,
         0,
         22
        ],
        [
         1973,
         "Tim Schenken",
         314,
         "Australian",
         0.0,
         0,
         22
        ],
        [
         1973,
         "Peter Gethin",
         320,
         "British",
         0.0,
         0,
         22
        ],
        [
         1973,
         "Jackie Pretorius",
         334,
         "South African",
         0.0,
         0,
         22
        ],
        [
         1973,
         "Nanni Galli",
         330,
         "Italian",
         0.0,
         0,
         22
        ],
        [
         1973,
         "Dave Charlton",
         293,
         "South African",
         0.0,
         0,
         22
        ],
        [
         1973,
         "Eddie Keizan",
         292,
         "South African",
         0.0,
         0,
         22
        ],
        [
         1973,
         "Luiz Bueno",
         331,
         "Brazilian",
         0.0,
         0,
         22
        ],
        [
         1970,
         "Jochen Rindt",
         358,
         "Austrian",
         45.0,
         5,
         1
        ],
        [
         1970,
         "Jacky Ickx",
         235,
         "Belgian",
         40.0,
         3,
         2
        ],
        [
         1970,
         "Clay Regazzoni",
         223,
         "Swiss",
         33.0,
         1,
         3
        ],
        [
         1970,
         "Denny Hulme",
         304,
         "New Zealander",
         27.0,
         0,
         4
        ],
        [
         1970,
         "Jackie Stewart",
         328,
         "British",
         25.0,
         1,
         5
        ],
        [
         1970,
         "Jack Brabham",
         356,
         "Australian",
         25.0,
         1,
         5
        ],
        [
         1970,
         "Pedro Rodríguez",
         345,
         "Mexican",
         23.0,
         1,
         7
        ],
        [
         1970,
         "Chris Amon",
         278,
         "New Zealander",
         23.0,
         0,
         8
        ],
        [
         1970,
         "Jean-Pierre Beltoise",
         306,
         "French",
         16.0,
         0,
         9
        ],
        [
         1970,
         "Emerson Fittipaldi",
         224,
         "Brazilian",
         12.0,
         1,
         10
        ],
        [
         1970,
         "Rolf Stommelen",
         243,
         "German",
         10.0,
         0,
         11
        ],
        [
         1970,
         "Henri Pescarolo",
         280,
         "French",
         8.0,
         0,
         12
        ],
        [
         1970,
         "Graham Hill",
         289,
         "British",
         7.0,
         0,
         13
        ],
        [
         1970,
         "Bruce McLaren",
         360,
         "New Zealander",
         6.0,
         0,
         14
        ],
        [
         1970,
         "Reine Wisell",
         317,
         "Swedish",
         4.0,
         0,
         15
        ],
        [
         1970,
         "Mario Andretti",
         207,
         "American",
         4.0,
         0,
         15
        ],
        [
         1970,
         "John Surtees",
         341,
         "British",
         3.0,
         0,
         17
        ],
        [
         1970,
         "Ignazio Giunti",
         363,
         "Italian",
         3.0,
         0,
         17
        ],
        [
         1970,
         "Jackie Oliver",
         262,
         "British",
         2.0,
         0,
         19
        ],
        [
         1970,
         "John Miles",
         357,
         "British",
         2.0,
         0,
         19
        ],
        [
         1970,
         "Johnny Servoz-Gavin",
         359,
         "French",
         2.0,
         0,
         19
        ],
        [
         1970,
         "Peter Gethin",
         320,
         "British",
         1.0,
         0,
         22
        ],
        [
         1970,
         "Derek Bell",
         321,
         "British",
         1.0,
         0,
         22
        ],
        [
         1970,
         "François Cevert",
         327,
         "French",
         1.0,
         0,
         22
        ],
        [
         1970,
         "Dan Gurney",
         364,
         "American",
         1.0,
         0,
         22
        ],
        [
         1970,
         "Pete Lovely",
         353,
         "American",
         0.0,
         0,
         26
        ],
        [
         1970,
         "Tim Schenken",
         314,
         "Australian",
         0.0,
         0,
         26
        ],
        [
         1970,
         "Gus Hutchison",
         366,
         "American",
         0.0,
         0,
         26
        ],
        [
         1970,
         "Ronnie Peterson",
         238,
         "Swedish",
         0.0,
         0,
         26
        ],
        [
         1970,
         "Jo Siffert",
         346,
         "Swiss",
         0.0,
         0,
         26
        ],
        [
         1970,
         "George Eaton",
         352,
         "Canadian",
         0.0,
         0,
         26
        ],
        [
         1970,
         "Peter Westbury",
         367,
         "British",
         0.0,
         0,
         26
        ],
        [
         1970,
         "Andrea de Adamich",
         333,
         "Italian",
         0.0,
         0,
         26
        ],
        [
         1970,
         "Jo Bonnier",
         347,
         "Swedish",
         0.0,
         0,
         26
        ],
        [
         1970,
         "Silvio Moser",
         351,
         "Swiss",
         0.0,
         0,
         26
        ],
        [
         1970,
         "Alex Soler-Roig",
         339,
         "Spanish",
         0.0,
         0,
         26
        ],
        [
         1970,
         "Nanni Galli",
         330,
         "Italian",
         0.0,
         0,
         26
        ],
        [
         1970,
         "Brian Redman",
         312,
         "British",
         0.0,
         0,
         26
        ],
        [
         1970,
         "Hubert Hahne",
         365,
         "German",
         0.0,
         0,
         26
        ],
        [
         1970,
         "Peter de Klerk",
         362,
         "South African",
         0.0,
         0,
         26
        ],
        [
         1970,
         "Piers Courage",
         361,
         "British",
         0.0,
         0,
         26
        ],
        [
         1970,
         "Dave Charlton",
         293,
         "South African",
         0.0,
         0,
         26
        ],
        [
         1970,
         "John Love",
         340,
         "Rhodesian",
         0.0,
         0,
         26
        ],
        [
         1980,
         "Alan Jones",
         178,
         "Australian",
         71.0,
         5,
         1
        ],
        [
         1980,
         "Nelson Piquet",
         137,
         "Brazilian",
         54.0,
         3,
         2
        ],
        [
         1980,
         "Carlos Reutemann",
         199,
         "Argentine",
         49.0,
         1,
         3
        ],
        [
         1980,
         "Jacques Laffite",
         172,
         "French",
         34.0,
         1,
         4
        ],
        [
         1980,
         "Didier Pironi",
         202,
         "French",
         32.0,
         1,
         5
        ],
        [
         1980,
         "René Arnoux",
         163,
         "French",
         29.0,
         2,
         6
        ],
        [
         1980,
         "Elio de Angelis",
         173,
         "Italian",
         13.0,
         0,
         7
        ],
        [
         1980,
         "Jean-Pierre Jabouille",
         219,
         "French",
         9.0,
         1,
         8
        ],
        [
         1980,
         "Riccardo Patrese",
         119,
         "Italian",
         7.0,
         0,
         9
        ],
        [
         1980,
         "Derek Daly",
         206,
         "Irish",
         6.0,
         0,
         10
        ],
        [
         1980,
         "Keke Rosberg",
         177,
         "Finnish",
         6.0,
         0,
         10
        ],
        [
         1980,
         "Gilles Villeneuve",
         203,
         "Canadian",
         6.0,
         0,
         10
        ],
        [
         1980,
         "John Watson",
         187,
         "British",
         6.0,
         0,
         10
        ],
        [
         1980,
         "Jean-Pierre Jarier",
         197,
         "French",
         6.0,
         0,
         10
        ],
        [
         1980,
         "Alain Prost",
         117,
         "French",
         5.0,
         0,
         15
        ],
        [
         1980,
         "Emerson Fittipaldi",
         224,
         "Brazilian",
         5.0,
         0,
         15
        ],
        [
         1980,
         "Bruno Giacomelli",
         152,
         "Italian",
         4.0,
         0,
         17
        ],
        [
         1980,
         "Jochen Mass",
         200,
         "German",
         4.0,
         0,
         17
        ],
        [
         1980,
         "Jody Scheckter",
         222,
         "South African",
         2.0,
         0,
         19
        ],
        [
         1980,
         "Hector Rebaque",
         212,
         "Mexican",
         1.0,
         0,
         20
        ],
        [
         1980,
         "Mario Andretti",
         207,
         "American",
         1.0,
         0,
         20
        ],
        [
         1980,
         "Clay Regazzoni",
         223,
         "Swiss",
         0.0,
         0,
         22
        ],
        [
         1980,
         "Patrick Depailler",
         221,
         "French",
         0.0,
         0,
         22
        ],
        [
         1980,
         "Dave Kennedy",
         225,
         "Irish",
         0.0,
         0,
         22
        ],
        [
         1980,
         "Marc Surer",
         176,
         "Swiss",
         0.0,
         0,
         22
        ],
        [
         1980,
         "Geoff Lees",
         209,
         "British",
         0.0,
         0,
         22
        ],
        [
         1980,
         "Mike Thackwell",
         191,
         "New Zealander",
         0.0,
         0,
         22
        ],
        [
         1980,
         "Ricardo Zunino",
         217,
         "Argentine",
         0.0,
         0,
         22
        ],
        [
         1980,
         "Rupert Keegan",
         211,
         "British",
         0.0,
         0,
         22
        ],
        [
         1980,
         "Jan Lammers",
         136,
         "Dutch",
         0.0,
         0,
         22
        ],
        [
         1980,
         "Nigel Mansell",
         95,
         "British",
         0.0,
         0,
         22
        ],
        [
         1980,
         "Stephen South",
         226,
         "British",
         0.0,
         0,
         22
        ],
        [
         1980,
         "Eddie Cheever",
         158,
         "American",
         0.0,
         0,
         22
        ],
        [
         1980,
         "Andrea de Cesaris",
         110,
         "Italian",
         0.0,
         0,
         22
        ],
        [
         1980,
         "Vittorio Brambilla",
         230,
         "Italian",
         0.0,
         0,
         22
        ],
        [
         1980,
         "Stefan Johansson",
         140,
         "Swedish",
         0.0,
         0,
         22
        ],
        [
         1980,
         "Harald Ertl",
         229,
         "Austrian",
         0.0,
         0,
         22
        ],
        [
         1980,
         "Manfred Winkelhock",
         181,
         "German",
         0.0,
         0,
         22
        ],
        [
         1980,
         "Desiré Wilson",
         228,
         "South African",
         0.0,
         0,
         22
        ],
        [
         1980,
         "Kevin Cogan",
         214,
         "American",
         0.0,
         0,
         22
        ],
        [
         1980,
         "Tiff Needell",
         227,
         "British",
         0.0,
         0,
         22
        ],
        [
         1972,
         "Emerson Fittipaldi",
         224,
         "Brazilian",
         61.0,
         5,
         1
        ],
        [
         1972,
         "Jackie Stewart",
         328,
         "British",
         45.0,
         4,
         2
        ],
        [
         1972,
         "Denny Hulme",
         304,
         "New Zealander",
         39.0,
         1,
         3
        ],
        [
         1972,
         "Jacky Ickx",
         235,
         "Belgian",
         27.0,
         1,
         4
        ],
        [
         1972,
         "Peter Revson",
         309,
         "American",
         23.0,
         0,
         5
        ],
        [
         1972,
         "François Cevert",
         327,
         "French",
         15.0,
         0,
         6
        ],
        [
         1972,
         "Clay Regazzoni",
         223,
         "Swiss",
         15.0,
         0,
         6
        ],
        [
         1972,
         "Mike Hailwood",
         305,
         "British",
         13.0,
         0,
         8
        ],
        [
         1972,
         "Ronnie Peterson",
         238,
         "Swedish",
         12.0,
         0,
         9
        ],
        [
         1972,
         "Chris Amon",
         278,
         "New Zealander",
         12.0,
         0,
         9
        ],
        [
         1972,
         "Jean-Pierre Beltoise",
         306,
         "French",
         9.0,
         1,
         11
        ],
        [
         1972,
         "Mario Andretti",
         207,
         "American",
         4.0,
         0,
         12
        ],
        [
         1972,
         "Brian Redman",
         312,
         "British",
         4.0,
         0,
         12
        ],
        [
         1972,
         "Howden Ganley",
         307,
         "New Zealander",
         4.0,
         0,
         12
        ],
        [
         1972,
         "Graham Hill",
         289,
         "British",
         4.0,
         0,
         12
        ],
        [
         1972,
         "Andrea de Adamich",
         333,
         "Italian",
         3.0,
         0,
         16
        ],
        [
         1972,
         "Carlos Reutemann",
         199,
         "Argentine",
         3.0,
         0,
         16
        ],
        [
         1972,
         "Carlos Pace",
         250,
         "Brazilian",
         3.0,
         0,
         16
        ],
        [
         1972,
         "Tim Schenken",
         314,
         "Australian",
         2.0,
         0,
         19
        ],
        [
         1972,
         "Peter Gethin",
         320,
         "British",
         1.0,
         0,
         20
        ],
        [
         1972,
         "Arturo Merzario",
         232,
         "Italian",
         1.0,
         0,
         20
        ],
        [
         1972,
         "Sam Posey",
         344,
         "American",
         0.0,
         0,
         22
        ],
        [
         1972,
         "Henri Pescarolo",
         280,
         "French",
         0.0,
         0,
         22
        ],
        [
         1972,
         "Skip Barber",
         342,
         "American",
         0.0,
         0,
         22
        ],
        [
         1972,
         "Patrick Depailler",
         221,
         "French",
         0.0,
         0,
         22
        ],
        [
         1972,
         "Reine Wisell",
         317,
         "Swedish",
         0.0,
         0,
         22
        ],
        [
         1972,
         "David Walker",
         338,
         "Australian",
         0.0,
         0,
         22
        ],
        [
         1972,
         "Wilson Fittipaldi",
         290,
         "Brazilian",
         0.0,
         0,
         22
        ],
        [
         1972,
         "Niki Lauda",
         182,
         "Austrian",
         0.0,
         0,
         22
        ],
        [
         1972,
         "Derek Bell",
         321,
         "British",
         0.0,
         0,
         22
        ],
        [
         1972,
         "Mike Beuttler",
         329,
         "British",
         0.0,
         0,
         22
        ],
        [
         1972,
         "Jody Scheckter",
         222,
         "South African",
         0.0,
         0,
         22
        ],
        [
         1972,
         "Dave Charlton",
         293,
         "South African",
         0.0,
         0,
         22
        ],
        [
         1972,
         "John Love",
         340,
         "Rhodesian",
         0.0,
         0,
         22
        ],
        [
         1972,
         "Rolf Stommelen",
         243,
         "German",
         0.0,
         0,
         22
        ],
        [
         1972,
         "Helmut Marko",
         337,
         "Austrian",
         0.0,
         0,
         22
        ],
        [
         1972,
         "Nanni Galli",
         330,
         "Italian",
         0.0,
         0,
         22
        ],
        [
         1972,
         "John Surtees",
         341,
         "British",
         0.0,
         0,
         22
        ],
        [
         1972,
         "François Migault",
         296,
         "French",
         0.0,
         0,
         22
        ],
        [
         1972,
         "Jackie Oliver",
         262,
         "British",
         0.0,
         0,
         22
        ],
        [
         1972,
         "Alex Soler-Roig",
         339,
         "Spanish",
         0.0,
         0,
         22
        ],
        [
         1972,
         "Bill Brack",
         343,
         "Canadian",
         0.0,
         0,
         22
        ],
        [
         1968,
         "Graham Hill",
         289,
         "British",
         48.0,
         3,
         1
        ],
        [
         1968,
         "Jackie Stewart",
         328,
         "British",
         36.0,
         3,
         2
        ],
        [
         1968,
         "Denny Hulme",
         304,
         "New Zealander",
         33.0,
         2,
         3
        ],
        [
         1968,
         "Jacky Ickx",
         235,
         "Belgian",
         27.0,
         1,
         4
        ],
        [
         1968,
         "Bruce McLaren",
         360,
         "New Zealander",
         22.0,
         1,
         5
        ],
        [
         1968,
         "Pedro Rodríguez",
         345,
         "Mexican",
         18.0,
         0,
         6
        ],
        [
         1968,
         "Jo Siffert",
         346,
         "Swiss",
         12.0,
         1,
         7
        ],
        [
         1968,
         "John Surtees",
         341,
         "British",
         12.0,
         0,
         8
        ],
        [
         1968,
         "Jean-Pierre Beltoise",
         306,
         "French",
         11.0,
         0,
         9
        ],
        [
         1968,
         "Chris Amon",
         278,
         "New Zealander",
         10.0,
         0,
         10
        ],
        [
         1968,
         "Jim Clark",
         373,
         "British",
         9.0,
         1,
         11
        ],
        [
         1968,
         "Jochen Rindt",
         358,
         "Austrian",
         8.0,
         0,
         12
        ],
        [
         1968,
         "Ludovico Scarfiotti",
         375,
         "Italian",
         6.0,
         0,
         13
        ],
        [
         1968,
         "Richard Attwood",
         370,
         "British",
         6.0,
         0,
         13
        ],
        [
         1968,
         "Johnny Servoz-Gavin",
         359,
         "French",
         6.0,
         0,
         13
        ],
        [
         1968,
         "Jackie Oliver",
         262,
         "British",
         6.0,
         0,
         13
        ],
        [
         1968,
         "Lucien Bianchi",
         376,
         "Belgian",
         5.0,
         0,
         17
        ],
        [
         1968,
         "Vic Elford",
         350,
         "British",
         5.0,
         0,
         17
        ],
        [
         1968,
         "Brian Redman",
         312,
         "British",
         4.0,
         0,
         19
        ],
        [
         1968,
         "Piers Courage",
         361,
         "British",
         4.0,
         0,
         19
        ],
        [
         1968,
         "Jo Bonnier",
         347,
         "Swedish",
         3.0,
         0,
         21
        ],
        [
         1968,
         "Dan Gurney",
         364,
         "American",
         3.0,
         0,
         21
        ],
        [
         1968,
         "Jack Brabham",
         356,
         "Australian",
         2.0,
         0,
         23
        ],
        [
         1968,
         "Silvio Moser",
         351,
         "Swiss",
         2.0,
         0,
         23
        ],
        [
         1968,
         "John Love",
         340,
         "Rhodesian",
         0.0,
         0,
         25
        ],
        [
         1968,
         "Basil van Rooyen",
         369,
         "South African",
         0.0,
         0,
         25
        ],
        [
         1968,
         "Dave Charlton",
         293,
         "South African",
         0.0,
         0,
         25
        ],
        [
         1968,
         "Sam Tingle",
         368,
         "Rhodesian",
         0.0,
         0,
         25
        ],
        [
         1968,
         "Jackie Pretorius",
         334,
         "South African",
         0.0,
         0,
         25
        ],
        [
         1968,
         "Mike Spence",
         374,
         "British",
         0.0,
         0,
         25
        ],
        [
         1968,
         "Andrea de Adamich",
         333,
         "Italian",
         0.0,
         0,
         25
        ],
        [
         1968,
         "Moisés Solana",
         382,
         "Mexican",
         0.0,
         0,
         25
        ],
        [
         1968,
         "Henri Pescarolo",
         280,
         "French",
         0.0,
         0,
         25
        ],
        [
         1968,
         "Derek Bell",
         321,
         "British",
         0.0,
         0,
         25
        ],
        [
         1968,
         "Frank Gardner",
         380,
         "Australian",
         0.0,
         0,
         25
        ],
        [
         1968,
         "Bobby Unser",
         381,
         "American",
         0.0,
         0,
         25
        ],
        [
         1968,
         "David Hobbs",
         322,
         "British",
         0.0,
         0,
         25
        ],
        [
         1968,
         "Mario Andretti",
         207,
         "American",
         0.0,
         0,
         25
        ],
        [
         1968,
         "Hubert Hahne",
         365,
         "German",
         0.0,
         0,
         25
        ],
        [
         1968,
         "Kurt Ahrens",
         379,
         "German",
         0.0,
         0,
         25
        ],
        [
         1968,
         "Jo Schlesser",
         377,
         "French",
         0.0,
         0,
         25
        ],
        [
         1968,
         "Robin Widdows",
         378,
         "British",
         0.0,
         0,
         25
        ],
        [
         1968,
         "Bill Brack",
         343,
         "Canadian",
         0.0,
         0,
         25
        ],
        [
         1982,
         "Keke Rosberg",
         177,
         "Finnish",
         44.0,
         1,
         1
        ],
        [
         1982,
         "John Watson",
         187,
         "British",
         39.0,
         2,
         2
        ],
        [
         1982,
         "Didier Pironi",
         202,
         "French",
         39.0,
         2,
         2
        ],
        [
         1982,
         "Alain Prost",
         117,
         "French",
         34.0,
         2,
         4
        ],
        [
         1982,
         "Niki Lauda",
         182,
         "Austrian",
         30.0,
         2,
         5
        ],
        [
         1982,
         "René Arnoux",
         163,
         "French",
         28.0,
         2,
         6
        ],
        [
         1982,
         "Michele Alboreto",
         105,
         "Italian",
         25.0,
         1,
         7
        ],
        [
         1982,
         "Patrick Tambay",
         175,
         "French",
         25.0,
         1,
         7
        ],
        [
         1982,
         "Elio de Angelis",
         173,
         "Italian",
         23.0,
         1,
         9
        ],
        [
         1982,
         "Riccardo Patrese",
         119,
         "Italian",
         21.0,
         1,
         10
        ],
        [
         1982,
         "Nelson Piquet",
         137,
         "Brazilian",
         20.0,
         1,
         11
        ],
        [
         1982,
         "Eddie Cheever",
         158,
         "American",
         15.0,
         0,
         12
        ],
        [
         1982,
         "Derek Daly",
         206,
         "Irish",
         8.0,
         0,
         13
        ],
        [
         1982,
         "Nigel Mansell",
         95,
         "British",
         7.0,
         0,
         14
        ],
        [
         1982,
         "Gilles Villeneuve",
         203,
         "Canadian",
         6.0,
         0,
         15
        ],
        [
         1982,
         "Carlos Reutemann",
         199,
         "Argentine",
         6.0,
         0,
         15
        ],
        [
         1982,
         "Andrea de Cesaris",
         110,
         "Italian",
         5.0,
         0,
         17
        ],
        [
         1982,
         "Jacques Laffite",
         172,
         "French",
         5.0,
         0,
         17
        ],
        [
         1982,
         "Mario Andretti",
         207,
         "American",
         4.0,
         0,
         19
        ],
        [
         1982,
         "Marc Surer",
         176,
         "Swiss",
         3.0,
         0,
         20
        ],
        [
         1982,
         "Jean-Pierre Jarier",
         197,
         "French",
         3.0,
         0,
         20
        ],
        [
         1982,
         "Mauro Baldi",
         184,
         "Italian",
         2.0,
         0,
         22
        ],
        [
         1982,
         "Eliseo Salazar",
         194,
         "Chilean",
         2.0,
         0,
         22
        ],
        [
         1982,
         "Bruno Giacomelli",
         152,
         "Italian",
         2.0,
         0,
         22
        ],
        [
         1982,
         "Manfred Winkelhock",
         181,
         "German",
         2.0,
         0,
         22
        ],
        [
         1982,
         "Chico Serra",
         192,
         "Brazilian",
         1.0,
         0,
         26
        ],
        [
         1982,
         "Tommy Byrne",
         210,
         "Irish",
         0.0,
         0,
         27
        ],
        [
         1982,
         "Slim Borgudd",
         201,
         "Swedish",
         0.0,
         0,
         27
        ],
        [
         1982,
         "Riccardo Paletti",
         204,
         "Italian",
         0.0,
         0,
         27
        ],
        [
         1982,
         "Brian Henton",
         205,
         "British",
         0.0,
         0,
         27
        ],
        [
         1982,
         "Derek Warwick",
         118,
         "British",
         0.0,
         0,
         27
        ],
        [
         1982,
         "Jochen Mass",
         200,
         "German",
         0.0,
         0,
         27
        ],
        [
         1982,
         "Raul Boesel",
         196,
         "Brazilian",
         0.0,
         0,
         27
        ],
        [
         1982,
         "Emilio de Villota",
         208,
         "Spanish",
         0.0,
         0,
         27
        ],
        [
         1982,
         "Teo Fabi",
         170,
         "Italian",
         0.0,
         0,
         27
        ],
        [
         1982,
         "Jan Lammers",
         136,
         "Dutch",
         0.0,
         0,
         27
        ],
        [
         1982,
         "Rupert Keegan",
         211,
         "British",
         0.0,
         0,
         27
        ],
        [
         1982,
         "Roberto Guerrero",
         195,
         "Colombian",
         0.0,
         0,
         27
        ],
        [
         1982,
         "Roberto Moreno",
         90,
         "Brazilian",
         0.0,
         0,
         27
        ],
        [
         1982,
         "Geoff Lees",
         209,
         "British",
         0.0,
         0,
         27
        ],
        [
         1991,
         "Ayrton Senna",
         102,
         "Brazilian",
         96.0,
         7,
         1
        ],
        [
         1991,
         "Nigel Mansell",
         95,
         "British",
         72.0,
         5,
         2
        ],
        [
         1991,
         "Riccardo Patrese",
         119,
         "Italian",
         53.0,
         2,
         3
        ],
        [
         1991,
         "Gerhard Berger",
         77,
         "Austrian",
         43.0,
         1,
         4
        ],
        [
         1991,
         "Alain Prost",
         117,
         "French",
         34.0,
         0,
         5
        ],
        [
         1991,
         "Nelson Piquet",
         137,
         "Brazilian",
         26.5,
         1,
         6
        ],
        [
         1991,
         "Jean Alesi",
         55,
         "French",
         21.0,
         0,
         7
        ],
        [
         1991,
         "Stefano Modena",
         131,
         "Italian",
         10.0,
         0,
         8
        ],
        [
         1991,
         "Andrea de Cesaris",
         110,
         "Italian",
         9.0,
         0,
         9
        ],
        [
         1991,
         "Roberto Moreno",
         90,
         "Brazilian",
         8.0,
         0,
         10
        ],
        [
         1991,
         "Pierluigi Martini",
         94,
         "Italian",
         6.0,
         0,
         11
        ],
        [
         1991,
         "Michael Schumacher",
         30,
         "German",
         4.0,
         0,
         12
        ],
        [
         1991,
         "Jyrki Järvilehto",
         109,
         "Finnish",
         4.0,
         0,
         12
        ],
        [
         1991,
         "Bertrand Gachot",
         92,
         "Belgian",
         4.0,
         0,
         12
        ],
        [
         1991,
         "Satoru Nakajima",
         138,
         "Japanese",
         2.0,
         0,
         15
        ],
        [
         1991,
         "Mika Häkkinen",
         57,
         "Finnish",
         2.0,
         0,
         15
        ],
        [
         1991,
         "Martin Brundle",
         84,
         "British",
         2.0,
         0,
         15
        ],
        [
         1991,
         "Ivan Capelli",
         122,
         "Italian",
         1.0,
         0,
         18
        ],
        [
         1991,
         "Éric Bernard",
         103,
         "French",
         1.0,
         0,
         18
        ],
        [
         1991,
         "Aguri Suzuki",
         88,
         "Japanese",
         1.0,
         0,
         18
        ],
        [
         1991,
         "Emanuele Pirro",
         139,
         "Italian",
         1.0,
         0,
         18
        ],
        [
         1991,
         "Mark Blundell",
         87,
         "British",
         1.0,
         0,
         18
        ],
        [
         1991,
         "Julian Bailey",
         141,
         "British",
         1.0,
         0,
         18
        ],
        [
         1991,
         "Gianni Morbidelli",
         81,
         "Italian",
         0.5,
         0,
         24
        ],
        [
         1991,
         "Pedro Chaves",
         142,
         "Portuguese",
         0.0,
         0,
         25
        ],
        [
         1991,
         "Alex Caffi",
         133,
         "Italian",
         0.0,
         0,
         25
        ],
        [
         1991,
         "Johnny Herbert",
         65,
         "British",
         0.0,
         0,
         25
        ],
        [
         1991,
         "Fabrizio Barbazza",
         120,
         "Italian",
         0.0,
         0,
         25
        ],
        [
         1991,
         "Olivier Grouillard",
         129,
         "French",
         0.0,
         0,
         25
        ],
        [
         1991,
         "Gabriele Tarquini",
         99,
         "Italian",
         0.0,
         0,
         25
        ],
        [
         1991,
         "Eric van de Poele",
         128,
         "Belgian",
         0.0,
         0,
         25
        ],
        [
         1991,
         "Michele Alboreto",
         105,
         "Italian",
         0.0,
         0,
         25
        ],
        [
         1991,
         "Thierry Boutsen",
         123,
         "Belgian",
         0.0,
         0,
         25
        ],
        [
         1991,
         "Nicola Larini",
         78,
         "Italian",
         0.0,
         0,
         25
        ],
        [
         1991,
         "Maurício Gugelmin",
         127,
         "Brazilian",
         0.0,
         0,
         25
        ],
        [
         1991,
         "Érik Comas",
         100,
         "French",
         0.0,
         0,
         25
        ],
        [
         1991,
         "Stefan Johansson",
         140,
         "Swedish",
         0.0,
         0,
         25
        ],
        [
         1991,
         "Karl Wendlinger",
         91,
         "Austrian",
         0.0,
         0,
         25
        ],
        [
         1991,
         "Naoki Hattori",
         144,
         "Japanese",
         0.0,
         0,
         25
        ],
        [
         1991,
         "Michael Bartels",
         143,
         "German",
         0.0,
         0,
         25
        ],
        [
         1991,
         "Alessandro Zanardi",
         70,
         "Italian",
         0.0,
         0,
         25
        ],
        [
         1964,
         "Graham Hill",
         289,
         "British",
         41.0,
         2,
         1
        ],
        [
         1964,
         "John Surtees",
         341,
         "British",
         40.0,
         2,
         2
        ],
        [
         1964,
         "Jim Clark",
         373,
         "British",
         32.0,
         3,
         3
        ],
        [
         1964,
         "Lorenzo Bandini",
         385,
         "Italian",
         23.0,
         1,
         4
        ],
        [
         1964,
         "Richie Ginther",
         386,
         "American",
         23.0,
         0,
         5
        ],
        [
         1964,
         "Dan Gurney",
         364,
         "American",
         19.0,
         2,
         6
        ],
        [
         1964,
         "Bruce McLaren",
         360,
         "New Zealander",
         13.0,
         0,
         7
        ],
        [
         1964,
         "Jack Brabham",
         356,
         "Australian",
         11.0,
         0,
         8
        ],
        [
         1964,
         "Peter Arundell",
         397,
         "British",
         11.0,
         0,
         8
        ],
        [
         1964,
         "Jo Siffert",
         346,
         "Swiss",
         7.0,
         0,
         10
        ],
        [
         1964,
         "Bob Anderson",
         383,
         "British",
         5.0,
         0,
         11
        ],
        [
         1964,
         "Innes Ireland",
         404,
         "British",
         4.0,
         0,
         12
        ],
        [
         1964,
         "Mike Spence",
         374,
         "British",
         4.0,
         0,
         12
        ],
        [
         1964,
         "Tony Maggs",
         408,
         "South African",
         4.0,
         0,
         12
        ],
        [
         1964,
         "Jo Bonnier",
         347,
         "Swedish",
         3.0,
         0,
         15
        ],
        [
         1964,
         "Maurice Trintignant",
         427,
         "French",
         2.0,
         0,
         16
        ],
        [
         1964,
         "Chris Amon",
         278,
         "New Zealander",
         2.0,
         0,
         16
        ],
        [
         1964,
         "Walt Hansgen",
         433,
         "American",
         2.0,
         0,
         16
        ],
        [
         1964,
         "Mike Hailwood",
         305,
         "British",
         1.0,
         0,
         19
        ],
        [
         1964,
         "Phil Hill",
         403,
         "American",
         1.0,
         0,
         19
        ],
        [
         1964,
         "Trevor Taylor",
         401,
         "British",
         1.0,
         0,
         19
        ],
        [
         1964,
         "Pedro Rodríguez",
         345,
         "Mexican",
         1.0,
         0,
         19
        ],
        [
         1964,
         "Mário de Araújo Cabral",
         432,
         "Portuguese",
         0.0,
         0,
         23
        ],
        [
         1964,
         "Ian Raby",
         420,
         "British",
         0.0,
         0,
         23
        ],
        [
         1964,
         "Gerhard Mitter",
         423,
         "German",
         0.0,
         0,
         23
        ],
        [
         1964,
         "Peter Revson",
         309,
         "American",
         0.0,
         0,
         23
        ],
        [
         1964,
         "Frank Gardner",
         380,
         "Australian",
         0.0,
         0,
         23
        ],
        [
         1964,
         "Edgar Barth",
         431,
         "German",
         0.0,
         0,
         23
        ],
        [
         1964,
         "Giacomo Russo",
         402,
         "Italian",
         0.0,
         0,
         23
        ],
        [
         1964,
         "Bernard Collomb",
         428,
         "French",
         0.0,
         0,
         23
        ],
        [
         1964,
         "Ludovico Scarfiotti",
         375,
         "Italian",
         0.0,
         0,
         23
        ],
        [
         1964,
         "John Love",
         340,
         "Rhodesian",
         0.0,
         0,
         23
        ],
        [
         1964,
         "John Taylor",
         399,
         "British",
         0.0,
         0,
         23
        ],
        [
         1964,
         "Ronnie Bucknum",
         405,
         "American",
         0.0,
         0,
         23
        ],
        [
         1964,
         "André Pilette",
         429,
         "Belgian",
         0.0,
         0,
         23
        ],
        [
         1964,
         "Richard Attwood",
         370,
         "British",
         0.0,
         0,
         23
        ],
        [
         1964,
         "Giancarlo Baghetti",
         394,
         "Italian",
         0.0,
         0,
         23
        ],
        [
         1964,
         "Moisés Solana",
         382,
         "Mexican",
         0.0,
         0,
         23
        ],
        [
         1964,
         "Jochen Rindt",
         358,
         "Austrian",
         0.0,
         0,
         23
        ],
        [
         1964,
         "Carel Godin de Beaufort",
         430,
         "Dutch",
         0.0,
         0,
         23
        ],
        [
         1964,
         "Hap Sharp",
         434,
         "American",
         0.0,
         0,
         23
        ],
        [
         1967,
         "Denny Hulme",
         304,
         "New Zealander",
         51.0,
         2,
         1
        ],
        [
         1967,
         "Jack Brabham",
         356,
         "Australian",
         48.0,
         2,
         2
        ],
        [
         1967,
         "Jim Clark",
         373,
         "British",
         41.0,
         4,
         3
        ],
        [
         1967,
         "John Surtees",
         341,
         "British",
         20.0,
         1,
         4
        ],
        [
         1967,
         "Chris Amon",
         278,
         "New Zealander",
         20.0,
         0,
         5
        ],
        [
         1967,
         "Pedro Rodríguez",
         345,
         "Mexican",
         15.0,
         1,
         6
        ],
        [
         1967,
         "Graham Hill",
         289,
         "British",
         15.0,
         0,
         7
        ],
        [
         1967,
         "Dan Gurney",
         364,
         "American",
         13.0,
         1,
         8
        ],
        [
         1967,
         "Jackie Stewart",
         328,
         "British",
         10.0,
         0,
         9
        ],
        [
         1967,
         "Mike Spence",
         374,
         "British",
         9.0,
         0,
         10
        ],
        [
         1967,
         "Jo Siffert",
         346,
         "Swiss",
         6.0,
         0,
         11
        ],
        [
         1967,
         "Jochen Rindt",
         358,
         "Austrian",
         6.0,
         0,
         11
        ],
        [
         1967,
         "John Love",
         340,
         "Rhodesian",
         6.0,
         0,
         11
        ],
        [
         1967,
         "Jo Bonnier",
         347,
         "Swedish",
         3.0,
         0,
         14
        ],
        [
         1967,
         "Bruce McLaren",
         360,
         "New Zealander",
         3.0,
         0,
         14
        ],
        [
         1967,
         "Chris Irwin",
         388,
         "British",
         2.0,
         0,
         16
        ],
        [
         1967,
         "Bob Anderson",
         383,
         "British",
         2.0,
         0,
         16
        ],
        [
         1967,
         "Mike Parkes",
         387,
         "British",
         2.0,
         0,
         16
        ],
        [
         1967,
         "Guy Ligier",
         389,
         "French",
         1.0,
         0,
         19
        ],
        [
         1967,
         "Jacky Ickx",
         235,
         "Belgian",
         1.0,
         0,
         19
        ],
        [
         1967,
         "Ludovico Scarfiotti",
         375,
         "Italian",
         1.0,
         0,
         19
        ],
        [
         1967,
         "Piers Courage",
         361,
         "British",
         0.0,
         0,
         22
        ],
        [
         1967,
         "Brian Hart",
         391,
         "British",
         0.0,
         0,
         22
        ],
        [
         1967,
         "Lorenzo Bandini",
         385,
         "Italian",
         0.0,
         0,
         22
        ],
        [
         1967,
         "Jean-Pierre Beltoise",
         306,
         "French",
         0.0,
         0,
         22
        ],
        [
         1967,
         "Richie Ginther",
         386,
         "American",
         0.0,
         0,
         22
        ],
        [
         1967,
         "Kurt Ahrens",
         379,
         "German",
         0.0,
         0,
         22
        ],
        [
         1967,
         "Silvio Moser",
         351,
         "Swiss",
         0.0,
         0,
         22
        ],
        [
         1967,
         "Jonathan Williams",
         395,
         "British",
         0.0,
         0,
         22
        ],
        [
         1967,
         "Hubert Hahne",
         365,
         "German",
         0.0,
         0,
         22
        ],
        [
         1967,
         "Alan Rees",
         390,
         "British",
         0.0,
         0,
         22
        ],
        [
         1967,
         "Jackie Oliver",
         262,
         "British",
         0.0,
         0,
         22
        ],
        [
         1967,
         "Johnny Servoz-Gavin",
         359,
         "French",
         0.0,
         0,
         22
        ],
        [
         1967,
         "Mike Fisher",
         392,
         "American",
         0.0,
         0,
         22
        ],
        [
         1967,
         "Moisés Solana",
         382,
         "Mexican",
         0.0,
         0,
         22
        ],
        [
         1967,
         "David Hobbs",
         322,
         "British",
         0.0,
         0,
         22
        ],
        [
         1967,
         "Jo Schlesser",
         377,
         "French",
         0.0,
         0,
         22
        ],
        [
         1967,
         "Dave Charlton",
         293,
         "South African",
         0.0,
         0,
         22
        ],
        [
         1967,
         "Giancarlo Baghetti",
         394,
         "Italian",
         0.0,
         0,
         22
        ],
        [
         1967,
         "Tom Jones",
         393,
         "American",
         0.0,
         0,
         22
        ],
        [
         1967,
         "Luki Botha",
         384,
         "South African",
         0.0,
         0,
         22
        ],
        [
         1967,
         "Richard Attwood",
         370,
         "British",
         0.0,
         0,
         22
        ],
        [
         1967,
         "Al Pease",
         371,
         "Canadian",
         0.0,
         0,
         22
        ],
        [
         1967,
         "Sam Tingle",
         368,
         "Rhodesian",
         0.0,
         0,
         22
        ],
        [
         1967,
         "Eppie Wietzes",
         326,
         "Canadian",
         0.0,
         0,
         22
        ],
        [
         1981,
         "Nelson Piquet",
         137,
         "Brazilian",
         50.0,
         3,
         1
        ],
        [
         1981,
         "Carlos Reutemann",
         199,
         "Argentine",
         49.0,
         2,
         2
        ],
        [
         1981,
         "Alan Jones",
         178,
         "Australian",
         46.0,
         2,
         3
        ],
        [
         1981,
         "Jacques Laffite",
         172,
         "French",
         44.0,
         2,
         4
        ],
        [
         1981,
         "Alain Prost",
         117,
         "French",
         43.0,
         3,
         5
        ],
        [
         1981,
         "John Watson",
         187,
         "British",
         27.0,
         1,
         6
        ],
        [
         1981,
         "Gilles Villeneuve",
         203,
         "Canadian",
         25.0,
         2,
         7
        ],
        [
         1981,
         "Elio de Angelis",
         173,
         "Italian",
         14.0,
         0,
         8
        ],
        [
         1981,
         "Hector Rebaque",
         212,
         "Mexican",
         11.0,
         0,
         9
        ],
        [
         1981,
         "René Arnoux",
         163,
         "French",
         11.0,
         0,
         9
        ],
        [
         1981,
         "Eddie Cheever",
         158,
         "American",
         10.0,
         0,
         11
        ],
        [
         1981,
         "Riccardo Patrese",
         119,
         "Italian",
         10.0,
         0,
         11
        ],
        [
         1981,
         "Didier Pironi",
         202,
         "French",
         9.0,
         0,
         13
        ],
        [
         1981,
         "Nigel Mansell",
         95,
         "British",
         8.0,
         0,
         14
        ],
        [
         1981,
         "Bruno Giacomelli",
         152,
         "Italian",
         7.0,
         0,
         15
        ],
        [
         1981,
         "Marc Surer",
         176,
         "Swiss",
         4.0,
         0,
         16
        ],
        [
         1981,
         "Mario Andretti",
         207,
         "American",
         3.0,
         0,
         17
        ],
        [
         1981,
         "Eliseo Salazar",
         194,
         "Chilean",
         1.0,
         0,
         18
        ],
        [
         1981,
         "Andrea de Cesaris",
         110,
         "Italian",
         1.0,
         0,
         18
        ],
        [
         1981,
         "Slim Borgudd",
         201,
         "Swedish",
         1.0,
         0,
         18
        ],
        [
         1981,
         "Patrick Tambay",
         175,
         "French",
         1.0,
         0,
         18
        ],
        [
         1981,
         "Keke Rosberg",
         177,
         "Finnish",
         0.0,
         0,
         22
        ],
        [
         1981,
         "Michele Alboreto",
         105,
         "Italian",
         0.0,
         0,
         22
        ],
        [
         1981,
         "Derek Warwick",
         118,
         "British",
         0.0,
         0,
         22
        ],
        [
         1981,
         "Siegfried Stohr",
         216,
         "Italian",
         0.0,
         0,
         22
        ],
        [
         1981,
         "Piercarlo Ghinzani",
         160,
         "Italian",
         0.0,
         0,
         22
        ],
        [
         1981,
         "Derek Daly",
         206,
         "Irish",
         0.0,
         0,
         22
        ],
        [
         1981,
         "Chico Serra",
         192,
         "Brazilian",
         0.0,
         0,
         22
        ],
        [
         1981,
         "Beppe Gabbiani",
         213,
         "Italian",
         0.0,
         0,
         22
        ],
        [
         1981,
         "Jean-Pierre Jabouille",
         219,
         "French",
         0.0,
         0,
         22
        ],
        [
         1981,
         "Brian Henton",
         205,
         "British",
         0.0,
         0,
         22
        ],
        [
         1981,
         "Ricardo Zunino",
         217,
         "Argentine",
         0.0,
         0,
         22
        ],
        [
         1981,
         "Jan Lammers",
         136,
         "Dutch",
         0.0,
         0,
         22
        ],
        [
         1981,
         "Jean-Pierre Jarier",
         197,
         "French",
         0.0,
         0,
         22
        ],
        [
         1981,
         "Ricardo Londoño",
         218,
         "Colombian",
         0.0,
         0,
         22
        ],
        [
         1981,
         "Miguel Ángel Guerra",
         215,
         "Argentine",
         0.0,
         0,
         22
        ],
        [
         1981,
         "Jacques Villeneuve Sr.",
         198,
         "Canadian",
         0.0,
         0,
         22
        ],
        [
         1981,
         "Kevin Cogan",
         214,
         "American",
         0.0,
         0,
         22
        ],
        [
         1981,
         "Giorgio Francia",
         220,
         "Italian",
         0.0,
         0,
         22
        ],
        [
         1983,
         "Nelson Piquet",
         137,
         "Brazilian",
         59.0,
         3,
         1
        ],
        [
         1983,
         "Alain Prost",
         117,
         "French",
         57.0,
         4,
         2
        ],
        [
         1983,
         "René Arnoux",
         163,
         "French",
         49.0,
         3,
         3
        ],
        [
         1983,
         "Patrick Tambay",
         175,
         "French",
         40.0,
         1,
         4
        ],
        [
         1983,
         "Keke Rosberg",
         177,
         "Finnish",
         27.0,
         1,
         5
        ],
        [
         1983,
         "John Watson",
         187,
         "British",
         22.0,
         1,
         6
        ],
        [
         1983,
         "Eddie Cheever",
         158,
         "American",
         22.0,
         0,
         7
        ],
        [
         1983,
         "Andrea de Cesaris",
         110,
         "Italian",
         15.0,
         0,
         8
        ],
        [
         1983,
         "Riccardo Patrese",
         119,
         "Italian",
         13.0,
         1,
         9
        ],
        [
         1983,
         "Niki Lauda",
         182,
         "Austrian",
         12.0,
         0,
         10
        ],
        [
         1983,
         "Jacques Laffite",
         172,
         "French",
         11.0,
         0,
         11
        ],
        [
         1983,
         "Michele Alboreto",
         105,
         "Italian",
         10.0,
         1,
         12
        ],
        [
         1983,
         "Nigel Mansell",
         95,
         "British",
         10.0,
         0,
         13
        ],
        [
         1983,
         "Derek Warwick",
         118,
         "British",
         9.0,
         0,
         14
        ],
        [
         1983,
         "Marc Surer",
         176,
         "Swiss",
         4.0,
         0,
         15
        ],
        [
         1983,
         "Mauro Baldi",
         184,
         "Italian",
         3.0,
         0,
         16
        ],
        [
         1983,
         "Danny Sullivan",
         193,
         "American",
         2.0,
         0,
         17
        ],
        [
         1983,
         "Elio de Angelis",
         173,
         "Italian",
         2.0,
         0,
         17
        ],
        [
         1983,
         "Bruno Giacomelli",
         152,
         "Italian",
         1.0,
         0,
         19
        ],
        [
         1983,
         "Johnny Cecotto",
         188,
         "Venezuelan",
         1.0,
         0,
         19
        ],
        [
         1983,
         "Alan Jones",
         178,
         "Australian",
         0.0,
         0,
         21
        ],
        [
         1983,
         "Eliseo Salazar",
         194,
         "Chilean",
         0.0,
         0,
         21
        ],
        [
         1983,
         "Raul Boesel",
         196,
         "Brazilian",
         0.0,
         0,
         21
        ],
        [
         1983,
         "Manfred Winkelhock",
         181,
         "German",
         0.0,
         0,
         21
        ],
        [
         1983,
         "Piercarlo Ghinzani",
         160,
         "Italian",
         0.0,
         0,
         21
        ],
        [
         1983,
         "Jean-Pierre Jarier",
         197,
         "French",
         0.0,
         0,
         21
        ],
        [
         1983,
         "Roberto Guerrero",
         195,
         "Colombian",
         0.0,
         0,
         21
        ],
        [
         1983,
         "Corrado Fabi",
         190,
         "Italian",
         0.0,
         0,
         21
        ],
        [
         1983,
         "Jacques Villeneuve Sr.",
         198,
         "Canadian",
         0.0,
         0,
         21
        ],
        [
         1983,
         "Jean-Louis Schlesser",
         168,
         "French",
         0.0,
         0,
         21
        ],
        [
         1983,
         "Kenny Acheson",
         186,
         "British",
         0.0,
         0,
         21
        ],
        [
         1983,
         "Stefan Johansson",
         140,
         "Swedish",
         0.0,
         0,
         21
        ],
        [
         1983,
         "Thierry Boutsen",
         123,
         "Belgian",
         0.0,
         0,
         21
        ],
        [
         1983,
         "Jonathan Palmer",
         156,
         "British",
         0.0,
         0,
         21
        ],
        [
         1983,
         "Chico Serra",
         192,
         "Brazilian",
         0.0,
         0,
         21
        ],
        [
         1990,
         "Ayrton Senna",
         102,
         "Brazilian",
         78.0,
         6,
         1
        ],
        [
         1990,
         "Alain Prost",
         117,
         "French",
         73.0,
         5,
         2
        ],
        [
         1990,
         "Nelson Piquet",
         137,
         "Brazilian",
         44.0,
         2,
         3
        ],
        [
         1990,
         "Gerhard Berger",
         77,
         "Austrian",
         43.0,
         0,
         4
        ],
        [
         1990,
         "Nigel Mansell",
         95,
         "British",
         37.0,
         1,
         5
        ],
        [
         1990,
         "Thierry Boutsen",
         123,
         "Belgian",
         34.0,
         1,
         6
        ],
        [
         1990,
         "Riccardo Patrese",
         119,
         "Italian",
         23.0,
         1,
         7
        ],
        [
         1990,
         "Alessandro Nannini",
         145,
         "Italian",
         21.0,
         0,
         8
        ],
        [
         1990,
         "Jean Alesi",
         55,
         "French",
         13.0,
         0,
         9
        ],
        [
         1990,
         "Roberto Moreno",
         90,
         "Brazilian",
         6.0,
         0,
         10
        ],
        [
         1990,
         "Aguri Suzuki",
         88,
         "Japanese",
         6.0,
         0,
         10
        ],
        [
         1990,
         "Ivan Capelli",
         122,
         "Italian",
         6.0,
         0,
         10
        ],
        [
         1990,
         "Éric Bernard",
         103,
         "French",
         5.0,
         0,
         13
        ],
        [
         1990,
         "Satoru Nakajima",
         138,
         "Japanese",
         3.0,
         0,
         14
        ],
        [
         1990,
         "Derek Warwick",
         118,
         "British",
         3.0,
         0,
         14
        ],
        [
         1990,
         "Alex Caffi",
         133,
         "Italian",
         2.0,
         0,
         16
        ],
        [
         1990,
         "Stefano Modena",
         131,
         "Italian",
         2.0,
         0,
         16
        ],
        [
         1990,
         "Maurício Gugelmin",
         127,
         "Brazilian",
         1.0,
         0,
         18
        ],
        [
         1990,
         "Martin Donnelly",
         151,
         "British",
         0.0,
         0,
         19
        ],
        [
         1990,
         "Bruno Giacomelli",
         152,
         "Italian",
         0.0,
         0,
         19
        ],
        [
         1990,
         "Yannick Dalmas",
         114,
         "French",
         0.0,
         0,
         19
        ],
        [
         1990,
         "Gregor Foitek",
         148,
         "Swiss",
         0.0,
         0,
         19
        ],
        [
         1990,
         "Nicola Larini",
         78,
         "Italian",
         0.0,
         0,
         19
        ],
        [
         1990,
         "David Brabham",
         101,
         "Australian",
         0.0,
         0,
         19
        ],
        [
         1990,
         "Claudio Langes",
         149,
         "Italian",
         0.0,
         0,
         19
        ],
        [
         1990,
         "Gianni Morbidelli",
         81,
         "Italian",
         0.0,
         0,
         19
        ],
        [
         1990,
         "Stefan Johansson",
         140,
         "Swedish",
         0.0,
         0,
         19
        ],
        [
         1990,
         "Gabriele Tarquini",
         99,
         "Italian",
         0.0,
         0,
         19
        ],
        [
         1990,
         "Jyrki Järvilehto",
         109,
         "Finnish",
         0.0,
         0,
         19
        ],
        [
         1990,
         "Philippe Alliot",
         112,
         "French",
         0.0,
         0,
         19
        ],
        [
         1990,
         "Bernd Schneider",
         146,
         "German",
         0.0,
         0,
         19
        ],
        [
         1990,
         "Michele Alboreto",
         105,
         "Italian",
         0.0,
         0,
         19
        ],
        [
         1990,
         "Paolo Barilla",
         147,
         "Italian",
         0.0,
         0,
         19
        ],
        [
         1990,
         "Emanuele Pirro",
         139,
         "Italian",
         0.0,
         0,
         19
        ],
        [
         1990,
         "Olivier Grouillard",
         129,
         "French",
         0.0,
         0,
         19
        ],
        [
         1990,
         "Pierluigi Martini",
         94,
         "Italian",
         0.0,
         0,
         19
        ],
        [
         1990,
         "Bertrand Gachot",
         92,
         "Belgian",
         0.0,
         0,
         19
        ],
        [
         1990,
         "Andrea de Cesaris",
         110,
         "Italian",
         0.0,
         0,
         19
        ],
        [
         1990,
         "Gary Brabham",
         150,
         "Australian",
         0.0,
         0,
         19
        ],
        [
         1990,
         "Johnny Herbert",
         65,
         "British",
         0.0,
         0,
         19
        ],
        [
         1979,
         "Jody Scheckter",
         222,
         "South African",
         60.0,
         3,
         1
        ],
        [
         1979,
         "Gilles Villeneuve",
         203,
         "Canadian",
         53.0,
         3,
         2
        ],
        [
         1979,
         "Alan Jones",
         178,
         "Australian",
         43.0,
         4,
         3
        ],
        [
         1979,
         "Jacques Laffite",
         172,
         "French",
         36.0,
         2,
         4
        ],
        [
         1979,
         "Clay Regazzoni",
         223,
         "Swiss",
         32.0,
         1,
         5
        ],
        [
         1979,
         "Carlos Reutemann",
         199,
         "Argentine",
         25.0,
         0,
         6
        ],
        [
         1979,
         "Patrick Depailler",
         221,
         "French",
         22.0,
         1,
         7
        ],
        [
         1979,
         "René Arnoux",
         163,
         "French",
         17.0,
         0,
         8
        ],
        [
         1979,
         "John Watson",
         187,
         "British",
         15.0,
         0,
         9
        ],
        [
         1979,
         "Didier Pironi",
         202,
         "French",
         14.0,
         0,
         10
        ],
        [
         1979,
         "Jean-Pierre Jarier",
         197,
         "French",
         14.0,
         0,
         10
        ],
        [
         1979,
         "Mario Andretti",
         207,
         "American",
         14.0,
         0,
         10
        ],
        [
         1979,
         "Jean-Pierre Jabouille",
         219,
         "French",
         9.0,
         1,
         13
        ],
        [
         1979,
         "Niki Lauda",
         182,
         "Austrian",
         4.0,
         0,
         14
        ],
        [
         1979,
         "Jochen Mass",
         200,
         "German",
         3.0,
         0,
         15
        ],
        [
         1979,
         "Jacky Ickx",
         235,
         "Belgian",
         3.0,
         0,
         15
        ],
        [
         1979,
         "Nelson Piquet",
         137,
         "Brazilian",
         3.0,
         0,
         15
        ],
        [
         1979,
         "Elio de Angelis",
         173,
         "Italian",
         3.0,
         0,
         15
        ],
        [
         1979,
         "Hans-Joachim Stuck",
         233,
         "German",
         2.0,
         0,
         19
        ],
        [
         1979,
         "Riccardo Patrese",
         119,
         "Italian",
         2.0,
         0,
         19
        ],
        [
         1979,
         "Emerson Fittipaldi",
         224,
         "Brazilian",
         1.0,
         0,
         21
        ],
        [
         1979,
         "Arturo Merzario",
         232,
         "Italian",
         0.0,
         0,
         22
        ],
        [
         1979,
         "Vittorio Brambilla",
         230,
         "Italian",
         0.0,
         0,
         22
        ],
        [
         1979,
         "Ricardo Zunino",
         217,
         "Argentine",
         0.0,
         0,
         22
        ],
        [
         1979,
         "Bruno Giacomelli",
         152,
         "Italian",
         0.0,
         0,
         22
        ],
        [
         1979,
         "Alex Ribeiro",
         237,
         "Brazilian",
         0.0,
         0,
         22
        ],
        [
         1979,
         "Hector Rebaque",
         212,
         "Mexican",
         0.0,
         0,
         22
        ],
        [
         1979,
         "Keke Rosberg",
         177,
         "Finnish",
         0.0,
         0,
         22
        ],
        [
         1979,
         "Derek Daly",
         206,
         "Irish",
         0.0,
         0,
         22
        ],
        [
         1979,
         "Patrick Tambay",
         175,
         "French",
         0.0,
         0,
         22
        ],
        [
         1979,
         "Marc Surer",
         176,
         "Swiss",
         0.0,
         0,
         22
        ],
        [
         1979,
         "Jan Lammers",
         136,
         "Dutch",
         0.0,
         0,
         22
        ],
        [
         1979,
         "Gianfranco Brancatelli",
         234,
         "Italian",
         0.0,
         0,
         22
        ],
        [
         1979,
         "James Hunt",
         231,
         "British",
         0.0,
         0,
         22
        ],
        [
         1979,
         "Patrick Gaillard",
         236,
         "French",
         0.0,
         0,
         22
        ],
        [
         1979,
         "Geoff Lees",
         209,
         "British",
         0.0,
         0,
         22
        ],
        [
         1984,
         "Niki Lauda",
         182,
         "Austrian",
         72.0,
         5,
         1
        ],
        [
         1984,
         "Alain Prost",
         117,
         "French",
         71.5,
         7,
         2
        ],
        [
         1984,
         "Elio de Angelis",
         173,
         "Italian",
         34.0,
         0,
         3
        ],
        [
         1984,
         "Michele Alboreto",
         105,
         "Italian",
         30.5,
         1,
         4
        ],
        [
         1984,
         "Nelson Piquet",
         137,
         "Brazilian",
         29.0,
         2,
         5
        ],
        [
         1984,
         "René Arnoux",
         163,
         "French",
         27.0,
         0,
         6
        ],
        [
         1984,
         "Derek Warwick",
         118,
         "British",
         23.0,
         0,
         7
        ],
        [
         1984,
         "Keke Rosberg",
         177,
         "Finnish",
         20.5,
         1,
         8
        ],
        [
         1984,
         "Nigel Mansell",
         95,
         "British",
         13.0,
         0,
         9
        ],
        [
         1984,
         "Ayrton Senna",
         102,
         "Brazilian",
         13.0,
         0,
         9
        ],
        [
         1984,
         "Patrick Tambay",
         175,
         "French",
         11.0,
         0,
         11
        ],
        [
         1984,
         "Teo Fabi",
         170,
         "Italian",
         9.0,
         0,
         12
        ],
        [
         1984,
         "Riccardo Patrese",
         119,
         "Italian",
         8.0,
         0,
         13
        ],
        [
         1984,
         "Thierry Boutsen",
         123,
         "Belgian",
         5.0,
         0,
         14
        ],
        [
         1984,
         "Jacques Laffite",
         172,
         "French",
         5.0,
         0,
         14
        ],
        [
         1984,
         "Eddie Cheever",
         158,
         "American",
         3.0,
         0,
         16
        ],
        [
         1984,
         "Andrea de Cesaris",
         110,
         "Italian",
         3.0,
         0,
         16
        ],
        [
         1984,
         "Stefan Johansson",
         140,
         "Swedish",
         3.0,
         0,
         16
        ],
        [
         1984,
         "Piercarlo Ghinzani",
         160,
         "Italian",
         2.0,
         0,
         19
        ],
        [
         1984,
         "Marc Surer",
         176,
         "Swiss",
         1.0,
         0,
         20
        ],
        [
         1984,
         "François Hesnault",
         183,
         "French",
         0.0,
         0,
         21
        ],
        [
         1984,
         "Stefan Bellof",
         185,
         "German",
         0.0,
         0,
         21
        ],
        [
         1984,
         "Manfred Winkelhock",
         181,
         "German",
         0.0,
         0,
         21
        ],
        [
         1984,
         "Philippe Alliot",
         112,
         "French",
         0.0,
         0,
         21
        ],
        [
         1984,
         "Jonathan Palmer",
         156,
         "British",
         0.0,
         0,
         21
        ],
        [
         1984,
         "Mauro Baldi",
         184,
         "Italian",
         0.0,
         0,
         21
        ],
        [
         1984,
         "Johnny Cecotto",
         188,
         "Venezuelan",
         0.0,
         0,
         21
        ],
        [
         1984,
         "Corrado Fabi",
         190,
         "Italian",
         0.0,
         0,
         21
        ],
        [
         1984,
         "Martin Brundle",
         84,
         "British",
         0.0,
         0,
         21
        ],
        [
         1984,
         "Gerhard Berger",
         77,
         "Austrian",
         0.0,
         0,
         21
        ],
        [
         1984,
         "Jo Gartner",
         189,
         "Austrian",
         0.0,
         0,
         21
        ],
        [
         1984,
         "Huub Rothengatter",
         179,
         "Dutch",
         0.0,
         0,
         21
        ],
        [
         1984,
         "Mike Thackwell",
         191,
         "New Zealander",
         0.0,
         0,
         21
        ],
        [
         1984,
         "Philippe Streiff",
         166,
         "French",
         0.0,
         0,
         21
        ],
        [
         1984,
         "Pierluigi Martini",
         94,
         "Italian",
         0.0,
         0,
         21
        ],
        [
         1992,
         "Nigel Mansell",
         95,
         "British",
         108.0,
         9,
         1
        ],
        [
         1992,
         "Riccardo Patrese",
         119,
         "Italian",
         56.0,
         1,
         2
        ],
        [
         1992,
         "Michael Schumacher",
         30,
         "German",
         53.0,
         1,
         3
        ],
        [
         1992,
         "Ayrton Senna",
         102,
         "Brazilian",
         50.0,
         3,
         4
        ],
        [
         1992,
         "Gerhard Berger",
         77,
         "Austrian",
         49.0,
         2,
         5
        ],
        [
         1992,
         "Martin Brundle",
         84,
         "British",
         38.0,
         0,
         6
        ],
        [
         1992,
         "Jean Alesi",
         55,
         "French",
         18.0,
         0,
         7
        ],
        [
         1992,
         "Mika Häkkinen",
         57,
         "Finnish",
         11.0,
         0,
         8
        ],
        [
         1992,
         "Andrea de Cesaris",
         110,
         "Italian",
         8.0,
         0,
         9
        ],
        [
         1992,
         "Michele Alboreto",
         105,
         "Italian",
         6.0,
         0,
         10
        ],
        [
         1992,
         "Érik Comas",
         100,
         "French",
         4.0,
         0,
         11
        ],
        [
         1992,
         "Karl Wendlinger",
         91,
         "Austrian",
         3.0,
         0,
         12
        ],
        [
         1992,
         "Ivan Capelli",
         122,
         "Italian",
         3.0,
         0,
         12
        ],
        [
         1992,
         "Thierry Boutsen",
         123,
         "Belgian",
         2.0,
         0,
         14
        ],
        [
         1992,
         "Pierluigi Martini",
         94,
         "Italian",
         2.0,
         0,
         14
        ],
        [
         1992,
         "Johnny Herbert",
         65,
         "British",
         2.0,
         0,
         14
        ],
        [
         1992,
         "Bertrand Gachot",
         92,
         "Belgian",
         1.0,
         0,
         17
        ],
        [
         1992,
         "Christian Fittipaldi",
         104,
         "Brazilian",
         1.0,
         0,
         17
        ],
        [
         1992,
         "Stefano Modena",
         131,
         "Italian",
         1.0,
         0,
         17
        ],
        [
         1992,
         "Gabriele Tarquini",
         99,
         "Italian",
         0.0,
         0,
         20
        ],
        [
         1992,
         "Jyrki Järvilehto",
         109,
         "Finnish",
         0.0,
         0,
         20
        ],
        [
         1992,
         "Paul Belmondo",
         108,
         "French",
         0.0,
         0,
         20
        ],
        [
         1992,
         "Roberto Moreno",
         90,
         "Brazilian",
         0.0,
         0,
         20
        ],
        [
         1992,
         "Damon Hill",
         71,
         "British",
         0.0,
         0,
         20
        ],
        [
         1992,
         "Gianni Morbidelli",
         81,
         "Italian",
         0.0,
         0,
         20
        ],
        [
         1992,
         "Eric van de Poele",
         128,
         "Belgian",
         0.0,
         0,
         20
        ],
        [
         1992,
         "Aguri Suzuki",
         88,
         "Japanese",
         0.0,
         0,
         20
        ],
        [
         1992,
         "Ukyo Katayama",
         79,
         "Japanese",
         0.0,
         0,
         20
        ],
        [
         1992,
         "Maurício Gugelmin",
         127,
         "Brazilian",
         0.0,
         0,
         20
        ],
        [
         1992,
         "Andrea Chiesa",
         130,
         "Swiss",
         0.0,
         0,
         20
        ],
        [
         1992,
         "Perry McCarthy",
         135,
         "British",
         0.0,
         0,
         20
        ],
        [
         1992,
         "Alessandro Zanardi",
         70,
         "Italian",
         0.0,
         0,
         20
        ],
        [
         1992,
         "Olivier Grouillard",
         129,
         "French",
         0.0,
         0,
         20
        ],
        [
         1992,
         "Giovanna Amati",
         132,
         "Italian",
         0.0,
         0,
         20
        ],
        [
         1992,
         "Emanuele Naspetti",
         125,
         "Italian",
         0.0,
         0,
         20
        ],
        [
         1992,
         "Jan Lammers",
         136,
         "Dutch",
         0.0,
         0,
         20
        ],
        [
         1992,
         "Nicola Larini",
         78,
         "Italian",
         0.0,
         0,
         20
        ],
        [
         1995,
         "Michael Schumacher",
         30,
         "German",
         102.0,
         9,
         1
        ],
        [
         1995,
         "Damon Hill",
         71,
         "British",
         69.0,
         4,
         2
        ],
        [
         1995,
         "David Coulthard",
         14,
         "British",
         49.0,
         1,
         3
        ],
        [
         1995,
         "Johnny Herbert",
         65,
         "British",
         45.0,
         2,
         4
        ],
        [
         1995,
         "Jean Alesi",
         55,
         "French",
         42.0,
         1,
         5
        ],
        [
         1995,
         "Gerhard Berger",
         77,
         "Austrian",
         31.0,
         0,
         6
        ],
        [
         1995,
         "Mika Häkkinen",
         57,
         "Finnish",
         17.0,
         0,
         7
        ],
        [
         1995,
         "Olivier Panis",
         44,
         "French",
         16.0,
         0,
         8
        ],
        [
         1995,
         "Heinz-Harald Frentzen",
         49,
         "German",
         15.0,
         0,
         9
        ],
        [
         1995,
         "Mark Blundell",
         87,
         "British",
         13.0,
         0,
         10
        ],
        [
         1995,
         "Rubens Barrichello",
         22,
         "Brazilian",
         11.0,
         0,
         11
        ],
        [
         1995,
         "Eddie Irvine",
         56,
         "British",
         10.0,
         0,
         12
        ],
        [
         1995,
         "Martin Brundle",
         84,
         "British",
         7.0,
         0,
         13
        ],
        [
         1995,
         "Gianni Morbidelli",
         81,
         "Italian",
         5.0,
         0,
         14
        ],
        [
         1995,
         "Mika Salo",
         63,
         "Finnish",
         5.0,
         0,
         14
        ],
        [
         1995,
         "Jean-Christophe Boullion",
         96,
         "French",
         3.0,
         0,
         16
        ],
        [
         1995,
         "Aguri Suzuki",
         88,
         "Japanese",
         1.0,
         0,
         17
        ],
        [
         1995,
         "Pedro Lamy",
         83,
         "Portuguese",
         1.0,
         0,
         17
        ],
        [
         1995,
         "Jos Verstappen",
         50,
         "Dutch",
         0.0,
         0,
         19
        ],
        [
         1995,
         "Pierluigi Martini",
         94,
         "Italian",
         0.0,
         0,
         19
        ],
        [
         1995,
         "Taki Inoue",
         89,
         "Japanese",
         0.0,
         0,
         19
        ],
        [
         1995,
         "Domenico Schiattarella",
         93,
         "Italian",
         0.0,
         0,
         19
        ],
        [
         1995,
         "Andrea Montermini",
         85,
         "Italian",
         0.0,
         0,
         19
        ],
        [
         1995,
         "Roberto Moreno",
         90,
         "Brazilian",
         0.0,
         0,
         19
        ],
        [
         1995,
         "Ukyo Katayama",
         79,
         "Japanese",
         0.0,
         0,
         19
        ],
        [
         1995,
         "Nigel Mansell",
         95,
         "British",
         0.0,
         0,
         19
        ],
        [
         1995,
         "Pedro Diniz",
         64,
         "Brazilian",
         0.0,
         0,
         19
        ],
        [
         1995,
         "Bertrand Gachot",
         92,
         "Belgian",
         0.0,
         0,
         19
        ],
        [
         1995,
         "Luca Badoer",
         69,
         "Italian",
         0.0,
         0,
         19
        ],
        [
         1995,
         "Karl Wendlinger",
         91,
         "Austrian",
         0.0,
         0,
         19
        ],
        [
         1995,
         "Jean-Denis Délétraz",
         98,
         "Swiss",
         0.0,
         0,
         19
        ],
        [
         1995,
         "Massimiliano Papis",
         97,
         "Italian",
         0.0,
         0,
         19
        ],
        [
         1995,
         "Giovanni Lavaggi",
         86,
         "Italian",
         0.0,
         0,
         19
        ],
        [
         1995,
         "Gabriele Tarquini",
         99,
         "Italian",
         0.0,
         0,
         19
        ],
        [
         1995,
         "Jan Magnussen",
         76,
         "Danish",
         0.0,
         0,
         19
        ],
        [
         1988,
         "Alain Prost",
         117,
         "French",
         105.0,
         7,
         1
        ],
        [
         1988,
         "Ayrton Senna",
         102,
         "Brazilian",
         94.0,
         8,
         2
        ],
        [
         1988,
         "Gerhard Berger",
         77,
         "Austrian",
         41.0,
         1,
         3
        ],
        [
         1988,
         "Thierry Boutsen",
         123,
         "Belgian",
         27.0,
         0,
         4
        ],
        [
         1988,
         "Michele Alboreto",
         105,
         "Italian",
         24.0,
         0,
         5
        ],
        [
         1988,
         "Nelson Piquet",
         137,
         "Brazilian",
         22.0,
         0,
         6
        ],
        [
         1988,
         "Ivan Capelli",
         122,
         "Italian",
         17.0,
         0,
         7
        ],
        [
         1988,
         "Derek Warwick",
         118,
         "British",
         17.0,
         0,
         7
        ],
        [
         1988,
         "Nigel Mansell",
         95,
         "British",
         12.0,
         0,
         9
        ],
        [
         1988,
         "Alessandro Nannini",
         145,
         "Italian",
         12.0,
         0,
         9
        ],
        [
         1988,
         "Riccardo Patrese",
         119,
         "Italian",
         8.0,
         0,
         11
        ],
        [
         1988,
         "Eddie Cheever",
         158,
         "American",
         6.0,
         0,
         12
        ],
        [
         1988,
         "Jonathan Palmer",
         156,
         "British",
         5.0,
         0,
         13
        ],
        [
         1988,
         "Maurício Gugelmin",
         127,
         "Brazilian",
         5.0,
         0,
         13
        ],
        [
         1988,
         "Andrea de Cesaris",
         110,
         "Italian",
         3.0,
         0,
         15
        ],
        [
         1988,
         "Pierluigi Martini",
         94,
         "Italian",
         1.0,
         0,
         16
        ],
        [
         1988,
         "Satoru Nakajima",
         138,
         "Japanese",
         1.0,
         0,
         16
        ],
        [
         1988,
         "Luis Pérez-Sala",
         159,
         "Spanish",
         0.0,
         0,
         18
        ],
        [
         1988,
         "René Arnoux",
         163,
         "French",
         0.0,
         0,
         18
        ],
        [
         1988,
         "Philippe Streiff",
         166,
         "French",
         0.0,
         0,
         18
        ],
        [
         1988,
         "Stefano Modena",
         131,
         "Italian",
         0.0,
         0,
         18
        ],
        [
         1988,
         "Gabriele Tarquini",
         99,
         "Italian",
         0.0,
         0,
         18
        ],
        [
         1988,
         "Bernd Schneider",
         146,
         "German",
         0.0,
         0,
         18
        ],
        [
         1988,
         "Piercarlo Ghinzani",
         160,
         "Italian",
         0.0,
         0,
         18
        ],
        [
         1988,
         "Alex Caffi",
         133,
         "Italian",
         0.0,
         0,
         18
        ],
        [
         1988,
         "Nicola Larini",
         78,
         "Italian",
         0.0,
         0,
         18
        ],
        [
         1988,
         "Yannick Dalmas",
         114,
         "French",
         0.0,
         0,
         18
        ],
        [
         1988,
         "Oscar Larrauri",
         165,
         "Argentine",
         0.0,
         0,
         18
        ],
        [
         1988,
         "Stefan Johansson",
         140,
         "Swedish",
         0.0,
         0,
         18
        ],
        [
         1988,
         "Julian Bailey",
         141,
         "British",
         0.0,
         0,
         18
        ],
        [
         1988,
         "Philippe Alliot",
         112,
         "French",
         0.0,
         0,
         18
        ],
        [
         1988,
         "Adrián Campos",
         167,
         "Spanish",
         0.0,
         0,
         18
        ],
        [
         1988,
         "Aguri Suzuki",
         88,
         "Japanese",
         0.0,
         0,
         18
        ],
        [
         1988,
         "Jean-Louis Schlesser",
         168,
         "French",
         0.0,
         0,
         18
        ],
        [
         1988,
         "Martin Brundle",
         84,
         "British",
         0.0,
         0,
         18
        ],
        [
         1988,
         "Pierre-Henri Raphanel",
         162,
         "French",
         0.0,
         0,
         18
        ],
        [
         1993,
         "Alain Prost",
         117,
         "French",
         99.0,
         7,
         1
        ],
        [
         1993,
         "Ayrton Senna",
         102,
         "Brazilian",
         73.0,
         5,
         2
        ],
        [
         1993,
         "Damon Hill",
         71,
         "British",
         69.0,
         3,
         3
        ],
        [
         1993,
         "Michael Schumacher",
         30,
         "German",
         52.0,
         1,
         4
        ],
        [
         1993,
         "Riccardo Patrese",
         119,
         "Italian",
         20.0,
         0,
         5
        ],
        [
         1993,
         "Jean Alesi",
         55,
         "French",
         16.0,
         0,
         6
        ],
        [
         1993,
         "Martin Brundle",
         84,
         "British",
         13.0,
         0,
         7
        ],
        [
         1993,
         "Gerhard Berger",
         77,
         "Austrian",
         12.0,
         0,
         8
        ],
        [
         1993,
         "Johnny Herbert",
         65,
         "British",
         11.0,
         0,
         9
        ],
        [
         1993,
         "Mark Blundell",
         87,
         "British",
         10.0,
         0,
         10
        ],
        [
         1993,
         "Michael Andretti",
         121,
         "American",
         7.0,
         0,
         11
        ],
        [
         1993,
         "Karl Wendlinger",
         91,
         "Austrian",
         7.0,
         0,
         11
        ],
        [
         1993,
         "Christian Fittipaldi",
         104,
         "Brazilian",
         5.0,
         0,
         13
        ],
        [
         1993,
         "Jyrki Järvilehto",
         109,
         "Finnish",
         5.0,
         0,
         13
        ],
        [
         1993,
         "Derek Warwick",
         118,
         "British",
         4.0,
         0,
         15
        ],
        [
         1993,
         "Mika Häkkinen",
         57,
         "Finnish",
         4.0,
         0,
         15
        ],
        [
         1993,
         "Fabrizio Barbazza",
         120,
         "Italian",
         2.0,
         0,
         17
        ],
        [
         1993,
         "Rubens Barrichello",
         22,
         "Brazilian",
         2.0,
         0,
         17
        ],
        [
         1993,
         "Philippe Alliot",
         112,
         "French",
         2.0,
         0,
         17
        ],
        [
         1993,
         "Érik Comas",
         100,
         "French",
         1.0,
         0,
         20
        ],
        [
         1993,
         "Alessandro Zanardi",
         70,
         "Italian",
         1.0,
         0,
         20
        ],
        [
         1993,
         "Eddie Irvine",
         56,
         "British",
         1.0,
         0,
         20
        ],
        [
         1993,
         "Michele Alboreto",
         105,
         "Italian",
         0.0,
         0,
         23
        ],
        [
         1993,
         "Aguri Suzuki",
         88,
         "Japanese",
         0.0,
         0,
         23
        ],
        [
         1993,
         "Thierry Boutsen",
         123,
         "Belgian",
         0.0,
         0,
         23
        ],
        [
         1993,
         "Pedro Lamy",
         83,
         "Portuguese",
         0.0,
         0,
         23
        ],
        [
         1993,
         "Pierluigi Martini",
         94,
         "Italian",
         0.0,
         0,
         23
        ],
        [
         1993,
         "Andrea de Cesaris",
         110,
         "Italian",
         0.0,
         0,
         23
        ],
        [
         1993,
         "Emanuele Naspetti",
         125,
         "Italian",
         0.0,
         0,
         23
        ],
        [
         1993,
         "Ivan Capelli",
         122,
         "Italian",
         0.0,
         0,
         23
        ],
        [
         1993,
         "Luca Badoer",
         69,
         "Italian",
         0.0,
         0,
         23
        ],
        [
         1993,
         "Ukyo Katayama",
         79,
         "Japanese",
         0.0,
         0,
         23
        ],
        [
         1993,
         "Marco Apicella",
         124,
         "Italian",
         0.0,
         0,
         23
        ],
        [
         1993,
         "Jean-Marc Gounon",
         111,
         "French",
         0.0,
         0,
         23
        ],
        [
         1993,
         "Toshio Suzuki",
         126,
         "Japanese",
         0.0,
         0,
         23
        ],
        [
         1985,
         "Alain Prost",
         117,
         "French",
         76.0,
         5,
         1
        ],
        [
         1985,
         "Michele Alboreto",
         105,
         "Italian",
         53.0,
         2,
         2
        ],
        [
         1985,
         "Keke Rosberg",
         177,
         "Finnish",
         40.0,
         2,
         3
        ],
        [
         1985,
         "Ayrton Senna",
         102,
         "Brazilian",
         38.0,
         2,
         4
        ],
        [
         1985,
         "Elio de Angelis",
         173,
         "Italian",
         33.0,
         1,
         5
        ],
        [
         1985,
         "Nigel Mansell",
         95,
         "British",
         31.0,
         2,
         6
        ],
        [
         1985,
         "Stefan Johansson",
         140,
         "Swedish",
         26.0,
         0,
         7
        ],
        [
         1985,
         "Nelson Piquet",
         137,
         "Brazilian",
         21.0,
         1,
         8
        ],
        [
         1985,
         "Jacques Laffite",
         172,
         "French",
         16.0,
         0,
         9
        ],
        [
         1985,
         "Niki Lauda",
         182,
         "Austrian",
         14.0,
         1,
         10
        ],
        [
         1985,
         "Thierry Boutsen",
         123,
         "Belgian",
         11.0,
         0,
         11
        ],
        [
         1985,
         "Patrick Tambay",
         175,
         "French",
         11.0,
         0,
         11
        ],
        [
         1985,
         "Derek Warwick",
         118,
         "British",
         5.0,
         0,
         13
        ],
        [
         1985,
         "Marc Surer",
         176,
         "Swiss",
         5.0,
         0,
         13
        ],
        [
         1985,
         "Stefan Bellof",
         185,
         "German",
         4.0,
         0,
         15
        ],
        [
         1985,
         "Philippe Streiff",
         166,
         "French",
         4.0,
         0,
         15
        ],
        [
         1985,
         "Andrea de Cesaris",
         110,
         "Italian",
         3.0,
         0,
         17
        ],
        [
         1985,
         "Gerhard Berger",
         77,
         "Austrian",
         3.0,
         0,
         17
        ],
        [
         1985,
         "René Arnoux",
         163,
         "French",
         3.0,
         0,
         17
        ],
        [
         1985,
         "Ivan Capelli",
         122,
         "Italian",
         3.0,
         0,
         17
        ],
        [
         1985,
         "François Hesnault",
         183,
         "French",
         0.0,
         0,
         21
        ],
        [
         1985,
         "Manfred Winkelhock",
         181,
         "German",
         0.0,
         0,
         21
        ],
        [
         1985,
         "Teo Fabi",
         170,
         "Italian",
         0.0,
         0,
         21
        ],
        [
         1985,
         "Huub Rothengatter",
         179,
         "Dutch",
         0.0,
         0,
         21
        ],
        [
         1985,
         "Kenny Acheson",
         186,
         "British",
         0.0,
         0,
         21
        ],
        [
         1985,
         "Riccardo Patrese",
         119,
         "Italian",
         0.0,
         0,
         21
        ],
        [
         1985,
         "Jonathan Palmer",
         156,
         "British",
         0.0,
         0,
         21
        ],
        [
         1985,
         "Martin Brundle",
         84,
         "British",
         0.0,
         0,
         21
        ],
        [
         1985,
         "Pierluigi Martini",
         94,
         "Italian",
         0.0,
         0,
         21
        ],
        [
         1985,
         "Eddie Cheever",
         158,
         "American",
         0.0,
         0,
         21
        ],
        [
         1985,
         "Piercarlo Ghinzani",
         160,
         "Italian",
         0.0,
         0,
         21
        ],
        [
         1985,
         "Mauro Baldi",
         184,
         "Italian",
         0.0,
         0,
         21
        ],
        [
         1985,
         "Philippe Alliot",
         112,
         "French",
         0.0,
         0,
         21
        ],
        [
         1985,
         "Alan Jones",
         178,
         "Australian",
         0.0,
         0,
         21
        ],
        [
         1985,
         "John Watson",
         187,
         "British",
         0.0,
         0,
         21
        ],
        [
         1985,
         "Christian Danner",
         157,
         "German",
         0.0,
         0,
         21
        ],
        [
         2011,
         "Sebastian Vettel",
         20,
         "German",
         392.0,
         11,
         1
        ],
        [
         2011,
         "Jenson Button",
         18,
         "British",
         270.0,
         3,
         2
        ],
        [
         2011,
         "Mark Webber",
         17,
         "Australian",
         258.0,
         1,
         3
        ],
        [
         2011,
         "Fernando Alonso",
         4,
         "Spanish",
         257.0,
         1,
         4
        ],
        [
         2011,
         "Lewis Hamilton",
         1,
         "British",
         227.0,
         3,
         5
        ],
        [
         2011,
         "Felipe Massa",
         13,
         "Brazilian",
         118.0,
         0,
         6
        ],
        [
         2011,
         "Nico Rosberg",
         3,
         "German",
         89.0,
         0,
         7
        ],
        [
         2011,
         "Michael Schumacher",
         30,
         "German",
         76.0,
         0,
         8
        ],
        [
         2011,
         "Adrian Sutil",
         16,
         "German",
         42.0,
         0,
         9
        ],
        [
         2011,
         "Vitaly Petrov",
         808,
         "Russian",
         37.0,
         0,
         10
        ],
        [
         2011,
         "Nick Heidfeld",
         2,
         "German",
         34.0,
         0,
         11
        ],
        [
         2011,
         "Kamui Kobayashi",
         155,
         "Japanese",
         30.0,
         0,
         12
        ],
        [
         2011,
         "Paul di Resta",
         814,
         "British",
         27.0,
         0,
         13
        ],
        [
         2011,
         "Jaime Alguersuari",
         153,
         "Spanish",
         26.0,
         0,
         14
        ],
        [
         2011,
         "Sébastien Buemi",
         67,
         "Swiss",
         15.0,
         0,
         15
        ],
        [
         2011,
         "Sergio Pérez",
         815,
         "Mexican",
         14.0,
         0,
         16
        ],
        [
         2011,
         "Rubens Barrichello",
         22,
         "Brazilian",
         4.0,
         0,
         17
        ],
        [
         2011,
         "Bruno Senna",
         811,
         "Brazilian",
         2.0,
         0,
         18
        ],
        [
         2011,
         "Pastor Maldonado",
         813,
         "Venezuelan",
         1.0,
         0,
         19
        ],
        [
         2011,
         "Daniel Ricciardo",
         817,
         "Australian",
         0.0,
         0,
         20
        ],
        [
         2011,
         "Heikki Kovalainen",
         5,
         "Finnish",
         0.0,
         0,
         20
        ],
        [
         2011,
         "Jarno Trulli",
         15,
         "Italian",
         0.0,
         0,
         20
        ],
        [
         2011,
         "Timo Glock",
         10,
         "German",
         0.0,
         0,
         20
        ],
        [
         2011,
         "Karun Chandhok",
         812,
         "Indian",
         0.0,
         0,
         20
        ],
        [
         2011,
         "Jérôme d'Ambrosio",
         816,
         "Belgian",
         0.0,
         0,
         20
        ],
        [
         2011,
         "Vitantonio Liuzzi",
         24,
         "Italian",
         0.0,
         0,
         20
        ],
        [
         2011,
         "Pedro de la Rosa",
         37,
         "Spanish",
         0.0,
         0,
         20
        ],
        [
         2011,
         "Narain Karthikeyan",
         39,
         "Indian",
         0.0,
         0,
         20
        ],
        [
         1987,
         "Nelson Piquet",
         137,
         "Brazilian",
         76.0,
         3,
         1
        ],
        [
         1987,
         "Nigel Mansell",
         95,
         "British",
         61.0,
         6,
         2
        ],
        [
         1987,
         "Ayrton Senna",
         102,
         "Brazilian",
         57.0,
         2,
         3
        ],
        [
         1987,
         "Alain Prost",
         117,
         "French",
         46.0,
         3,
         4
        ],
        [
         1987,
         "Gerhard Berger",
         77,
         "Austrian",
         36.0,
         2,
         5
        ],
        [
         1987,
         "Stefan Johansson",
         140,
         "Swedish",
         30.0,
         0,
         6
        ],
        [
         1987,
         "Michele Alboreto",
         105,
         "Italian",
         17.0,
         0,
         7
        ],
        [
         1987,
         "Thierry Boutsen",
         123,
         "Belgian",
         16.0,
         0,
         8
        ],
        [
         1987,
         "Teo Fabi",
         170,
         "Italian",
         12.0,
         0,
         9
        ],
        [
         1987,
         "Eddie Cheever",
         158,
         "American",
         8.0,
         0,
         10
        ],
        [
         1987,
         "Satoru Nakajima",
         138,
         "Japanese",
         7.0,
         0,
         11
        ],
        [
         1987,
         "Jonathan Palmer",
         156,
         "British",
         7.0,
         0,
         11
        ],
        [
         1987,
         "Riccardo Patrese",
         119,
         "Italian",
         6.0,
         0,
         13
        ],
        [
         1987,
         "Philippe Streiff",
         166,
         "French",
         4.0,
         0,
         14
        ],
        [
         1987,
         "Andrea de Cesaris",
         110,
         "Italian",
         4.0,
         0,
         14
        ],
        [
         1987,
         "Derek Warwick",
         118,
         "British",
         3.0,
         0,
         16
        ],
        [
         1987,
         "Philippe Alliot",
         112,
         "French",
         3.0,
         0,
         16
        ],
        [
         1987,
         "Martin Brundle",
         84,
         "British",
         2.0,
         0,
         18
        ],
        [
         1987,
         "Ivan Capelli",
         122,
         "Italian",
         1.0,
         0,
         19
        ],
        [
         1987,
         "René Arnoux",
         163,
         "French",
         1.0,
         0,
         19
        ],
        [
         1987,
         "Roberto Moreno",
         90,
         "Brazilian",
         1.0,
         0,
         19
        ],
        [
         1987,
         "Alessandro Nannini",
         145,
         "Italian",
         0.0,
         0,
         22
        ],
        [
         1987,
         "Adrián Campos",
         167,
         "Spanish",
         0.0,
         0,
         22
        ],
        [
         1987,
         "Piercarlo Ghinzani",
         160,
         "Italian",
         0.0,
         0,
         22
        ],
        [
         1987,
         "Alex Caffi",
         133,
         "Italian",
         0.0,
         0,
         22
        ],
        [
         1987,
         "Nicola Larini",
         78,
         "Italian",
         0.0,
         0,
         22
        ],
        [
         1987,
         "Christian Danner",
         157,
         "German",
         0.0,
         0,
         22
        ],
        [
         1987,
         "Pascal Fabre",
         169,
         "French",
         0.0,
         0,
         22
        ],
        [
         1987,
         "Franco Forini",
         171,
         "Swiss",
         0.0,
         0,
         22
        ],
        [
         1987,
         "Stefano Modena",
         131,
         "Italian",
         0.0,
         0,
         22
        ],
        [
         1987,
         "Gabriele Tarquini",
         99,
         "Italian",
         0.0,
         0,
         22
        ],
        [
         1987,
         "Yannick Dalmas",
         114,
         "French",
         0.0,
         0,
         22
        ],
        [
         2006,
         "Fernando Alonso",
         4,
         "Spanish",
         134.0,
         7,
         1
        ],
        [
         2006,
         "Michael Schumacher",
         30,
         "German",
         121.0,
         7,
         2
        ],
        [
         2006,
         "Felipe Massa",
         13,
         "Brazilian",
         80.0,
         2,
         3
        ],
        [
         2006,
         "Giancarlo Fisichella",
         21,
         "Italian",
         72.0,
         1,
         4
        ],
        [
         2006,
         "Kimi Räikkönen",
         8,
         "Finnish",
         65.0,
         0,
         5
        ],
        [
         2006,
         "Jenson Button",
         18,
         "British",
         56.0,
         1,
         6
        ],
        [
         2006,
         "Rubens Barrichello",
         22,
         "Brazilian",
         30.0,
         0,
         7
        ],
        [
         2006,
         "Juan Pablo Montoya",
         31,
         "Colombian",
         26.0,
         0,
         8
        ],
        [
         2006,
         "Nick Heidfeld",
         2,
         "German",
         23.0,
         0,
         9
        ],
        [
         2006,
         "Ralf Schumacher",
         23,
         "German",
         20.0,
         0,
         10
        ],
        [
         2006,
         "Pedro de la Rosa",
         37,
         "Spanish",
         19.0,
         0,
         11
        ],
        [
         2006,
         "Jarno Trulli",
         15,
         "Italian",
         15.0,
         0,
         12
        ],
        [
         2006,
         "David Coulthard",
         14,
         "British",
         14.0,
         0,
         13
        ],
        [
         2006,
         "Mark Webber",
         17,
         "Australian",
         7.0,
         0,
         14
        ],
        [
         2006,
         "Jacques Villeneuve",
         35,
         "Canadian",
         7.0,
         0,
         14
        ],
        [
         2006,
         "Robert Kubica",
         9,
         "Polish",
         6.0,
         0,
         16
        ],
        [
         2006,
         "Nico Rosberg",
         3,
         "German",
         4.0,
         0,
         17
        ],
        [
         2006,
         "Christian Klien",
         32,
         "Austrian",
         2.0,
         0,
         18
        ],
        [
         2006,
         "Vitantonio Liuzzi",
         24,
         "Italian",
         1.0,
         0,
         19
        ],
        [
         2006,
         "Tiago Monteiro",
         33,
         "Portuguese",
         0.0,
         0,
         20
        ],
        [
         2006,
         "Scott Speed",
         26,
         "American",
         0.0,
         0,
         20
        ],
        [
         2006,
         "Robert Doornbos",
         38,
         "Dutch",
         0.0,
         0,
         20
        ],
        [
         2006,
         "Sakon Yamamoto",
         29,
         "Japanese",
         0.0,
         0,
         20
        ],
        [
         2006,
         "Christijan Albers",
         27,
         "Dutch",
         0.0,
         0,
         20
        ],
        [
         2006,
         "Yuji Ide",
         34,
         "Japanese",
         0.0,
         0,
         20
        ],
        [
         2006,
         "Takuma Sato",
         11,
         "Japanese",
         0.0,
         0,
         20
        ],
        [
         2006,
         "Franck Montagny",
         36,
         "French",
         0.0,
         0,
         20
        ],
        [
         2005,
         "Fernando Alonso",
         4,
         "Spanish",
         133.0,
         7,
         1
        ],
        [
         2005,
         "Kimi Räikkönen",
         8,
         "Finnish",
         112.0,
         7,
         2
        ],
        [
         2005,
         "Michael Schumacher",
         30,
         "German",
         62.0,
         1,
         3
        ],
        [
         2005,
         "Juan Pablo Montoya",
         31,
         "Colombian",
         60.0,
         3,
         4
        ],
        [
         2005,
         "Giancarlo Fisichella",
         21,
         "Italian",
         58.0,
         1,
         5
        ],
        [
         2005,
         "Ralf Schumacher",
         23,
         "German",
         45.0,
         0,
         6
        ],
        [
         2005,
         "Jarno Trulli",
         15,
         "Italian",
         43.0,
         0,
         7
        ],
        [
         2005,
         "Rubens Barrichello",
         22,
         "Brazilian",
         38.0,
         0,
         8
        ],
        [
         2005,
         "Jenson Button",
         18,
         "British",
         37.0,
         0,
         9
        ],
        [
         2005,
         "Mark Webber",
         17,
         "Australian",
         36.0,
         0,
         10
        ],
        [
         2005,
         "Nick Heidfeld",
         2,
         "German",
         28.0,
         0,
         11
        ],
        [
         2005,
         "David Coulthard",
         14,
         "British",
         24.0,
         0,
         12
        ],
        [
         2005,
         "Felipe Massa",
         13,
         "Brazilian",
         11.0,
         0,
         13
        ],
        [
         2005,
         "Jacques Villeneuve",
         35,
         "Canadian",
         9.0,
         0,
         14
        ],
        [
         2005,
         "Christian Klien",
         32,
         "Austrian",
         9.0,
         0,
         14
        ],
        [
         2005,
         "Tiago Monteiro",
         33,
         "Portuguese",
         7.0,
         0,
         16
        ],
        [
         2005,
         "Alexander Wurz",
         25,
         "Austrian",
         6.0,
         0,
         17
        ],
        [
         2005,
         "Narain Karthikeyan",
         39,
         "Indian",
         5.0,
         0,
         18
        ],
        [
         2005,
         "Christijan Albers",
         27,
         "Dutch",
         4.0,
         0,
         19
        ],
        [
         2005,
         "Pedro de la Rosa",
         37,
         "Spanish",
         4.0,
         0,
         19
        ],
        [
         2005,
         "Patrick Friesacher",
         40,
         "Austrian",
         3.0,
         0,
         21
        ],
        [
         2005,
         "Antônio Pizzonia",
         42,
         "Brazilian",
         2.0,
         0,
         22
        ],
        [
         2005,
         "Vitantonio Liuzzi",
         24,
         "Italian",
         1.0,
         0,
         23
        ],
        [
         2005,
         "Takuma Sato",
         11,
         "Japanese",
         1.0,
         0,
         23
        ],
        [
         2005,
         "Robert Doornbos",
         38,
         "Dutch",
         0.0,
         0,
         25
        ],
        [
         2005,
         "Anthony Davidson",
         19,
         "British",
         0.0,
         0,
         25
        ],
        [
         2005,
         "Ricardo Zonta",
         41,
         "Brazilian",
         0.0,
         0,
         25
        ],
        [
         1986,
         "Alain Prost",
         117,
         "French",
         74.0,
         4,
         1
        ],
        [
         1986,
         "Nigel Mansell",
         95,
         "British",
         72.0,
         5,
         2
        ],
        [
         1986,
         "Nelson Piquet",
         137,
         "Brazilian",
         69.0,
         4,
         3
        ],
        [
         1986,
         "Ayrton Senna",
         102,
         "Brazilian",
         55.0,
         2,
         4
        ],
        [
         1986,
         "Stefan Johansson",
         140,
         "Swedish",
         23.0,
         0,
         5
        ],
        [
         1986,
         "Keke Rosberg",
         177,
         "Finnish",
         22.0,
         0,
         6
        ],
        [
         1986,
         "Gerhard Berger",
         77,
         "Austrian",
         17.0,
         1,
         7
        ],
        [
         1986,
         "René Arnoux",
         163,
         "French",
         14.0,
         0,
         8
        ],
        [
         1986,
         "Michele Alboreto",
         105,
         "Italian",
         14.0,
         0,
         8
        ],
        [
         1986,
         "Jacques Laffite",
         172,
         "French",
         14.0,
         0,
         8
        ],
        [
         1986,
         "Martin Brundle",
         84,
         "British",
         8.0,
         0,
         11
        ],
        [
         1986,
         "Alan Jones",
         178,
         "Australian",
         4.0,
         0,
         12
        ],
        [
         1986,
         "Philippe Streiff",
         166,
         "French",
         3.0,
         0,
         13
        ],
        [
         1986,
         "Johnny Dumfries",
         174,
         "British",
         3.0,
         0,
         13
        ],
        [
         1986,
         "Patrick Tambay",
         175,
         "French",
         2.0,
         0,
         15
        ],
        [
         1986,
         "Riccardo Patrese",
         119,
         "Italian",
         2.0,
         0,
         15
        ],
        [
         1986,
         "Teo Fabi",
         170,
         "Italian",
         2.0,
         0,
         15
        ],
        [
         1986,
         "Christian Danner",
         157,
         "German",
         1.0,
         0,
         18
        ],
        [
         1986,
         "Philippe Alliot",
         112,
         "French",
         1.0,
         0,
         18
        ],
        [
         1986,
         "Jonathan Palmer",
         156,
         "British",
         0.0,
         0,
         20
        ],
        [
         1986,
         "Ivan Capelli",
         122,
         "Italian",
         0.0,
         0,
         20
        ],
        [
         1986,
         "Huub Rothengatter",
         179,
         "Dutch",
         0.0,
         0,
         20
        ],
        [
         1986,
         "Andrea de Cesaris",
         110,
         "Italian",
         0.0,
         0,
         20
        ],
        [
         1986,
         "Thierry Boutsen",
         123,
         "Belgian",
         0.0,
         0,
         20
        ],
        [
         1986,
         "Marc Surer",
         176,
         "Swiss",
         0.0,
         0,
         20
        ],
        [
         1986,
         "Piercarlo Ghinzani",
         160,
         "Italian",
         0.0,
         0,
         20
        ],
        [
         1986,
         "Elio de Angelis",
         173,
         "Italian",
         0.0,
         0,
         20
        ],
        [
         1986,
         "Derek Warwick",
         118,
         "British",
         0.0,
         0,
         20
        ],
        [
         1986,
         "Allen Berg",
         180,
         "Canadian",
         0.0,
         0,
         20
        ],
        [
         1986,
         "Alessandro Nannini",
         145,
         "Italian",
         0.0,
         0,
         20
        ],
        [
         1986,
         "Alex Caffi",
         133,
         "Italian",
         0.0,
         0,
         20
        ],
        [
         1986,
         "Eddie Cheever",
         158,
         "American",
         0.0,
         0,
         20
        ],
        [
         2010,
         "Sebastian Vettel",
         20,
         "German",
         256.0,
         5,
         1
        ],
        [
         2010,
         "Fernando Alonso",
         4,
         "Spanish",
         252.0,
         5,
         2
        ],
        [
         2010,
         "Mark Webber",
         17,
         "Australian",
         242.0,
         4,
         3
        ],
        [
         2010,
         "Lewis Hamilton",
         1,
         "British",
         240.0,
         3,
         4
        ],
        [
         2010,
         "Jenson Button",
         18,
         "British",
         214.0,
         2,
         5
        ],
        [
         2010,
         "Felipe Massa",
         13,
         "Brazilian",
         144.0,
         0,
         6
        ],
        [
         2010,
         "Nico Rosberg",
         3,
         "German",
         142.0,
         0,
         7
        ],
        [
         2010,
         "Robert Kubica",
         9,
         "Polish",
         136.0,
         0,
         8
        ],
        [
         2010,
         "Michael Schumacher",
         30,
         "German",
         72.0,
         0,
         9
        ],
        [
         2010,
         "Adrian Sutil",
         16,
         "German",
         47.0,
         0,
         10
        ],
        [
         2010,
         "Rubens Barrichello",
         22,
         "Brazilian",
         47.0,
         0,
         10
        ],
        [
         2010,
         "Kamui Kobayashi",
         155,
         "Japanese",
         32.0,
         0,
         12
        ],
        [
         2010,
         "Vitaly Petrov",
         808,
         "Russian",
         27.0,
         0,
         13
        ],
        [
         2010,
         "Nico Hülkenberg",
         807,
         "German",
         22.0,
         0,
         14
        ],
        [
         2010,
         "Vitantonio Liuzzi",
         24,
         "Italian",
         21.0,
         0,
         15
        ],
        [
         2010,
         "Sébastien Buemi",
         67,
         "Swiss",
         8.0,
         0,
         16
        ],
        [
         2010,
         "Nick Heidfeld",
         2,
         "German",
         6.0,
         0,
         17
        ],
        [
         2010,
         "Pedro de la Rosa",
         37,
         "Spanish",
         6.0,
         0,
         17
        ],
        [
         2010,
         "Jaime Alguersuari",
         153,
         "Spanish",
         5.0,
         0,
         19
        ],
        [
         2010,
         "Sakon Yamamoto",
         29,
         "Japanese",
         0.0,
         0,
         20
        ],
        [
         2010,
         "Karun Chandhok",
         812,
         "Indian",
         0.0,
         0,
         20
        ],
        [
         2010,
         "Bruno Senna",
         811,
         "Brazilian",
         0.0,
         0,
         20
        ],
        [
         2010,
         "Jarno Trulli",
         15,
         "Italian",
         0.0,
         0,
         20
        ],
        [
         2010,
         "Timo Glock",
         10,
         "German",
         0.0,
         0,
         20
        ],
        [
         2010,
         "Heikki Kovalainen",
         5,
         "Finnish",
         0.0,
         0,
         20
        ],
        [
         2010,
         "Lucas di Grassi",
         810,
         "Brazilian",
         0.0,
         0,
         20
        ],
        [
         2010,
         "Christian Klien",
         32,
         "Austrian",
         0.0,
         0,
         20
        ],
        [
         2017,
         "Lewis Hamilton",
         1,
         "British",
         363.0,
         9,
         1
        ],
        [
         2017,
         "Sebastian Vettel",
         20,
         "German",
         317.0,
         5,
         2
        ],
        [
         2017,
         "Valtteri Bottas",
         822,
         "Finnish",
         305.0,
         3,
         3
        ],
        [
         2017,
         "Kimi Räikkönen",
         8,
         "Finnish",
         205.0,
         0,
         4
        ],
        [
         2017,
         "Daniel Ricciardo",
         817,
         "Australian",
         200.0,
         1,
         5
        ],
        [
         2017,
         "Max Verstappen",
         830,
         "Dutch",
         168.0,
         2,
         6
        ],
        [
         2017,
         "Sergio Pérez",
         815,
         "Mexican",
         100.0,
         0,
         7
        ],
        [
         2017,
         "Esteban Ocon",
         839,
         "French",
         87.0,
         0,
         8
        ],
        [
         2017,
         "Carlos Sainz",
         832,
         "Spanish",
         54.0,
         0,
         9
        ],
        [
         2017,
         "Nico Hülkenberg",
         807,
         "German",
         43.0,
         0,
         10
        ],
        [
         2017,
         "Felipe Massa",
         13,
         "Brazilian",
         43.0,
         0,
         10
        ],
        [
         2017,
         "Lance Stroll",
         840,
         "Canadian",
         40.0,
         0,
         12
        ],
        [
         2017,
         "Romain Grosjean",
         154,
         "French",
         28.0,
         0,
         13
        ],
        [
         2017,
         "Kevin Magnussen",
         825,
         "Danish",
         19.0,
         0,
         14
        ],
        [
         2017,
         "Fernando Alonso",
         4,
         "Spanish",
         17.0,
         0,
         15
        ],
        [
         2017,
         "Stoffel Vandoorne",
         838,
         "Belgian",
         13.0,
         0,
         16
        ],
        [
         2017,
         "Jolyon Palmer",
         835,
         "British",
         8.0,
         0,
         17
        ],
        [
         2017,
         "Daniil Kvyat",
         826,
         "Russian",
         5.0,
         0,
         18
        ],
        [
         2017,
         "Pascal Wehrlein",
         836,
         "German",
         5.0,
         0,
         18
        ],
        [
         2017,
         "Brendon Hartley",
         843,
         "New Zealander",
         0.0,
         0,
         20
        ],
        [
         2017,
         "Marcus Ericsson",
         828,
         "Swedish",
         0.0,
         0,
         20
        ],
        [
         2017,
         "Pierre Gasly",
         842,
         "French",
         0.0,
         0,
         20
        ],
        [
         2017,
         "Jenson Button",
         18,
         "British",
         0.0,
         0,
         20
        ],
        [
         2017,
         "Antonio Giovinazzi",
         841,
         "Italian",
         0.0,
         0,
         20
        ],
        [
         2017,
         "Paul di Resta",
         814,
         "British",
         0.0,
         0,
         20
        ],
        [
         2012,
         "Sebastian Vettel",
         20,
         "German",
         281.0,
         5,
         1
        ],
        [
         2012,
         "Fernando Alonso",
         4,
         "Spanish",
         278.0,
         3,
         2
        ],
        [
         2012,
         "Kimi Räikkönen",
         8,
         "Finnish",
         207.0,
         1,
         3
        ],
        [
         2012,
         "Lewis Hamilton",
         1,
         "British",
         190.0,
         4,
         4
        ],
        [
         2012,
         "Jenson Button",
         18,
         "British",
         188.0,
         3,
         5
        ],
        [
         2012,
         "Mark Webber",
         17,
         "Australian",
         179.0,
         2,
         6
        ],
        [
         2012,
         "Felipe Massa",
         13,
         "Brazilian",
         122.0,
         0,
         7
        ],
        [
         2012,
         "Romain Grosjean",
         154,
         "French",
         96.0,
         0,
         8
        ],
        [
         2012,
         "Nico Rosberg",
         3,
         "German",
         93.0,
         1,
         9
        ],
        [
         2012,
         "Sergio Pérez",
         815,
         "Mexican",
         66.0,
         0,
         10
        ],
        [
         2012,
         "Nico Hülkenberg",
         807,
         "German",
         63.0,
         0,
         11
        ],
        [
         2012,
         "Kamui Kobayashi",
         155,
         "Japanese",
         60.0,
         0,
         12
        ],
        [
         2012,
         "Michael Schumacher",
         30,
         "German",
         49.0,
         0,
         13
        ],
        [
         2012,
         "Paul di Resta",
         814,
         "British",
         46.0,
         0,
         14
        ],
        [
         2012,
         "Pastor Maldonado",
         813,
         "Venezuelan",
         45.0,
         1,
         15
        ],
        [
         2012,
         "Bruno Senna",
         811,
         "Brazilian",
         31.0,
         0,
         16
        ],
        [
         2012,
         "Jean-Éric Vergne",
         818,
         "French",
         16.0,
         0,
         17
        ],
        [
         2012,
         "Daniel Ricciardo",
         817,
         "Australian",
         10.0,
         0,
         18
        ],
        [
         2012,
         "Jérôme d'Ambrosio",
         816,
         "Belgian",
         0.0,
         0,
         19
        ],
        [
         2012,
         "Charles Pic",
         819,
         "French",
         0.0,
         0,
         19
        ],
        [
         2012,
         "Heikki Kovalainen",
         5,
         "Finnish",
         0.0,
         0,
         19
        ],
        [
         2012,
         "Pedro de la Rosa",
         37,
         "Spanish",
         0.0,
         0,
         19
        ],
        [
         2012,
         "Timo Glock",
         10,
         "German",
         0.0,
         0,
         19
        ],
        [
         2012,
         "Narain Karthikeyan",
         39,
         "Indian",
         0.0,
         0,
         19
        ],
        [
         2012,
         "Vitaly Petrov",
         808,
         "Russian",
         0.0,
         0,
         19
        ],
        [
         1997,
         "Jacques Villeneuve",
         35,
         "Canadian",
         81.0,
         7,
         1
        ],
        [
         1997,
         "Michael Schumacher",
         30,
         "German",
         78.0,
         5,
         2
        ],
        [
         1997,
         "Heinz-Harald Frentzen",
         49,
         "German",
         42.0,
         1,
         3
        ],
        [
         1997,
         "David Coulthard",
         14,
         "British",
         36.0,
         2,
         4
        ],
        [
         1997,
         "Jean Alesi",
         55,
         "French",
         36.0,
         0,
         5
        ],
        [
         1997,
         "Mika Häkkinen",
         57,
         "Finnish",
         27.0,
         1,
         6
        ],
        [
         1997,
         "Gerhard Berger",
         77,
         "Austrian",
         27.0,
         1,
         6
        ],
        [
         1997,
         "Eddie Irvine",
         56,
         "British",
         24.0,
         0,
         8
        ],
        [
         1997,
         "Giancarlo Fisichella",
         21,
         "Italian",
         20.0,
         0,
         9
        ],
        [
         1997,
         "Olivier Panis",
         44,
         "French",
         16.0,
         0,
         10
        ],
        [
         1997,
         "Johnny Herbert",
         65,
         "British",
         15.0,
         0,
         11
        ],
        [
         1997,
         "Ralf Schumacher",
         23,
         "German",
         13.0,
         0,
         12
        ],
        [
         1997,
         "Damon Hill",
         71,
         "British",
         7.0,
         0,
         13
        ],
        [
         1997,
         "Rubens Barrichello",
         22,
         "Brazilian",
         6.0,
         0,
         14
        ],
        [
         1997,
         "Alexander Wurz",
         25,
         "Austrian",
         4.0,
         0,
         15
        ],
        [
         1997,
         "Jarno Trulli",
         15,
         "Italian",
         3.0,
         0,
         16
        ],
        [
         1997,
         "Mika Salo",
         63,
         "Finnish",
         2.0,
         0,
         17
        ],
        [
         1997,
         "Shinji Nakano",
         75,
         "Japanese",
         2.0,
         0,
         17
        ],
        [
         1997,
         "Pedro Diniz",
         64,
         "Brazilian",
         2.0,
         0,
         17
        ],
        [
         1997,
         "Nicola Larini",
         78,
         "Italian",
         1.0,
         0,
         20
        ],
        [
         1997,
         "Norberto Fontana",
         82,
         "Argentine",
         0.0,
         0,
         21
        ],
        [
         1997,
         "Tarso Marques",
         58,
         "Brazilian",
         0.0,
         0,
         21
        ],
        [
         1997,
         "Ukyo Katayama",
         79,
         "Japanese",
         0.0,
         0,
         21
        ],
        [
         1997,
         "Jos Verstappen",
         50,
         "Dutch",
         0.0,
         0,
         21
        ],
        [
         1997,
         "Jan Magnussen",
         76,
         "Danish",
         0.0,
         0,
         21
        ],
        [
         1997,
         "Ricardo Rosset",
         73,
         "Brazilian",
         0.0,
         0,
         21
        ],
        [
         1997,
         "Vincenzo Sospiri",
         80,
         "Italian",
         0.0,
         0,
         21
        ],
        [
         1997,
         "Gianni Morbidelli",
         81,
         "Italian",
         0.0,
         0,
         21
        ],
        [
         2003,
         "Michael Schumacher",
         30,
         "German",
         93.0,
         6,
         1
        ],
        [
         2003,
         "Kimi Räikkönen",
         8,
         "Finnish",
         91.0,
         1,
         2
        ],
        [
         2003,
         "Juan Pablo Montoya",
         31,
         "Colombian",
         82.0,
         2,
         3
        ],
        [
         2003,
         "Rubens Barrichello",
         22,
         "Brazilian",
         65.0,
         2,
         4
        ],
        [
         2003,
         "Ralf Schumacher",
         23,
         "German",
         58.0,
         2,
         5
        ],
        [
         2003,
         "Fernando Alonso",
         4,
         "Spanish",
         55.0,
         1,
         6
        ],
        [
         2003,
         "David Coulthard",
         14,
         "British",
         51.0,
         1,
         7
        ],
        [
         2003,
         "Jarno Trulli",
         15,
         "Italian",
         33.0,
         0,
         8
        ],
        [
         2003,
         "Jenson Button",
         18,
         "British",
         17.0,
         0,
         9
        ],
        [
         2003,
         "Mark Webber",
         17,
         "Australian",
         17.0,
         0,
         9
        ],
        [
         2003,
         "Heinz-Harald Frentzen",
         49,
         "German",
         13.0,
         0,
         11
        ],
        [
         2003,
         "Giancarlo Fisichella",
         21,
         "Italian",
         12.0,
         1,
         12
        ],
        [
         2003,
         "Cristiano da Matta",
         43,
         "Brazilian",
         10.0,
         0,
         13
        ],
        [
         2003,
         "Jacques Villeneuve",
         35,
         "Canadian",
         6.0,
         0,
         14
        ],
        [
         2003,
         "Nick Heidfeld",
         2,
         "German",
         6.0,
         0,
         14
        ],
        [
         2003,
         "Olivier Panis",
         44,
         "French",
         6.0,
         0,
         14
        ],
        [
         2003,
         "Marc Gené",
         48,
         "Spanish",
         4.0,
         0,
         17
        ],
        [
         2003,
         "Takuma Sato",
         11,
         "Japanese",
         3.0,
         0,
         18
        ],
        [
         2003,
         "Justin Wilson",
         51,
         "British",
         1.0,
         0,
         19
        ],
        [
         2003,
         "Ralph Firman",
         52,
         "Irish",
         1.0,
         0,
         19
        ],
        [
         2003,
         "Jos Verstappen",
         50,
         "Dutch",
         0.0,
         0,
         21
        ],
        [
         2003,
         "Antônio Pizzonia",
         42,
         "Brazilian",
         0.0,
         0,
         21
        ],
        [
         2003,
         "Zsolt Baumgartner",
         47,
         "Hungarian",
         0.0,
         0,
         21
        ],
        [
         2003,
         "Nicolas Kiesa",
         53,
         "Danish",
         0.0,
         0,
         21
        ],
        [
         2007,
         "Kimi Räikkönen",
         8,
         "Finnish",
         110.0,
         6,
         1
        ],
        [
         2007,
         "Fernando Alonso",
         4,
         "Spanish",
         109.0,
         4,
         2
        ],
        [
         2007,
         "Lewis Hamilton",
         1,
         "British",
         109.0,
         4,
         2
        ],
        [
         2007,
         "Felipe Massa",
         13,
         "Brazilian",
         94.0,
         3,
         4
        ],
        [
         2007,
         "Nick Heidfeld",
         2,
         "German",
         61.0,
         0,
         5
        ],
        [
         2007,
         "Robert Kubica",
         9,
         "Polish",
         39.0,
         0,
         6
        ],
        [
         2007,
         "Heikki Kovalainen",
         5,
         "Finnish",
         30.0,
         0,
         7
        ],
        [
         2007,
         "Giancarlo Fisichella",
         21,
         "Italian",
         21.0,
         0,
         8
        ],
        [
         2007,
         "Nico Rosberg",
         3,
         "German",
         20.0,
         0,
         9
        ],
        [
         2007,
         "David Coulthard",
         14,
         "British",
         14.0,
         0,
         10
        ],
        [
         2007,
         "Alexander Wurz",
         25,
         "Austrian",
         13.0,
         0,
         11
        ],
        [
         2007,
         "Mark Webber",
         17,
         "Australian",
         10.0,
         0,
         12
        ],
        [
         2007,
         "Jarno Trulli",
         15,
         "Italian",
         8.0,
         0,
         13
        ],
        [
         2007,
         "Sebastian Vettel",
         20,
         "German",
         6.0,
         0,
         14
        ],
        [
         2007,
         "Jenson Button",
         18,
         "British",
         6.0,
         0,
         14
        ],
        [
         2007,
         "Ralf Schumacher",
         23,
         "German",
         5.0,
         0,
         16
        ],
        [
         2007,
         "Takuma Sato",
         11,
         "Japanese",
         4.0,
         0,
         17
        ],
        [
         2007,
         "Vitantonio Liuzzi",
         24,
         "Italian",
         3.0,
         0,
         18
        ],
        [
         2007,
         "Adrian Sutil",
         16,
         "German",
         1.0,
         0,
         19
        ],
        [
         2007,
         "Sakon Yamamoto",
         29,
         "Japanese",
         0.0,
         0,
         20
        ],
        [
         2007,
         "Rubens Barrichello",
         22,
         "Brazilian",
         0.0,
         0,
         20
        ],
        [
         2007,
         "Anthony Davidson",
         19,
         "British",
         0.0,
         0,
         20
        ],
        [
         2007,
         "Christijan Albers",
         27,
         "Dutch",
         0.0,
         0,
         20
        ],
        [
         2007,
         "Scott Speed",
         26,
         "American",
         0.0,
         0,
         20
        ],
        [
         2007,
         "Kazuki Nakajima",
         6,
         "Japanese",
         0.0,
         0,
         20
        ],
        [
         2007,
         "Markus Winkelhock",
         28,
         "German",
         0.0,
         0,
         20
        ],
        [
         2004,
         "Michael Schumacher",
         30,
         "German",
         148.0,
         13,
         1
        ],
        [
         2004,
         "Rubens Barrichello",
         22,
         "Brazilian",
         114.0,
         2,
         2
        ],
        [
         2004,
         "Jenson Button",
         18,
         "British",
         85.0,
         0,
         3
        ],
        [
         2004,
         "Fernando Alonso",
         4,
         "Spanish",
         59.0,
         0,
         4
        ],
        [
         2004,
         "Juan Pablo Montoya",
         31,
         "Colombian",
         58.0,
         1,
         5
        ],
        [
         2004,
         "Jarno Trulli",
         15,
         "Italian",
         46.0,
         1,
         6
        ],
        [
         2004,
         "Kimi Räikkönen",
         8,
         "Finnish",
         45.0,
         1,
         7
        ],
        [
         2004,
         "Takuma Sato",
         11,
         "Japanese",
         34.0,
         0,
         8
        ],
        [
         2004,
         "David Coulthard",
         14,
         "British",
         24.0,
         0,
         9
        ],
        [
         2004,
         "Ralf Schumacher",
         23,
         "German",
         24.0,
         0,
         9
        ],
        [
         2004,
         "Giancarlo Fisichella",
         21,
         "Italian",
         22.0,
         0,
         11
        ],
        [
         2004,
         "Felipe Massa",
         13,
         "Brazilian",
         12.0,
         0,
         12
        ],
        [
         2004,
         "Mark Webber",
         17,
         "Australian",
         7.0,
         0,
         13
        ],
        [
         2004,
         "Antônio Pizzonia",
         42,
         "Brazilian",
         6.0,
         0,
         14
        ],
        [
         2004,
         "Olivier Panis",
         44,
         "French",
         6.0,
         0,
         14
        ],
        [
         2004,
         "Nick Heidfeld",
         2,
         "German",
         3.0,
         0,
         16
        ],
        [
         2004,
         "Cristiano da Matta",
         43,
         "Brazilian",
         3.0,
         0,
         16
        ],
        [
         2004,
         "Christian Klien",
         32,
         "Austrian",
         3.0,
         0,
         16
        ],
        [
         2004,
         "Timo Glock",
         10,
         "German",
         2.0,
         0,
         19
        ],
        [
         2004,
         "Zsolt Baumgartner",
         47,
         "Hungarian",
         1.0,
         0,
         20
        ],
        [
         2004,
         "Gianmaria Bruni",
         46,
         "Italian",
         0.0,
         0,
         21
        ],
        [
         2004,
         "Ricardo Zonta",
         41,
         "Brazilian",
         0.0,
         0,
         21
        ],
        [
         2004,
         "Marc Gené",
         48,
         "Spanish",
         0.0,
         0,
         21
        ],
        [
         2004,
         "Jacques Villeneuve",
         35,
         "Canadian",
         0.0,
         0,
         21
        ],
        [
         2004,
         "Giorgio Pantano",
         45,
         "Italian",
         0.0,
         0,
         21
        ],
        [
         2009,
         "Jenson Button",
         18,
         "British",
         95.0,
         6,
         1
        ],
        [
         2009,
         "Sebastian Vettel",
         20,
         "German",
         84.0,
         4,
         2
        ],
        [
         2009,
         "Rubens Barrichello",
         22,
         "Brazilian",
         77.0,
         2,
         3
        ],
        [
         2009,
         "Mark Webber",
         17,
         "Australian",
         69.5,
         2,
         4
        ],
        [
         2009,
         "Lewis Hamilton",
         1,
         "British",
         49.0,
         2,
         5
        ],
        [
         2009,
         "Kimi Räikkönen",
         8,
         "Finnish",
         48.0,
         1,
         6
        ],
        [
         2009,
         "Nico Rosberg",
         3,
         "German",
         34.5,
         0,
         7
        ],
        [
         2009,
         "Jarno Trulli",
         15,
         "Italian",
         32.5,
         0,
         8
        ],
        [
         2009,
         "Fernando Alonso",
         4,
         "Spanish",
         26.0,
         0,
         9
        ],
        [
         2009,
         "Timo Glock",
         10,
         "German",
         24.0,
         0,
         10
        ],
        [
         2009,
         "Heikki Kovalainen",
         5,
         "Finnish",
         22.0,
         0,
         11
        ],
        [
         2009,
         "Felipe Massa",
         13,
         "Brazilian",
         22.0,
         0,
         11
        ],
        [
         2009,
         "Nick Heidfeld",
         2,
         "German",
         19.0,
         0,
         13
        ],
        [
         2009,
         "Robert Kubica",
         9,
         "Polish",
         17.0,
         0,
         14
        ],
        [
         2009,
         "Giancarlo Fisichella",
         21,
         "Italian",
         8.0,
         0,
         15
        ],
        [
         2009,
         "Sébastien Buemi",
         67,
         "Swiss",
         6.0,
         0,
         16
        ],
        [
         2009,
         "Adrian Sutil",
         16,
         "German",
         5.0,
         0,
         17
        ],
        [
         2009,
         "Kamui Kobayashi",
         155,
         "Japanese",
         3.0,
         0,
         18
        ],
        [
         2009,
         "Sébastien Bourdais",
         7,
         "French",
         2.0,
         0,
         19
        ],
        [
         2009,
         "Nelson Piquet Jr.",
         12,
         "Brazilian",
         0.0,
         0,
         20
        ],
        [
         2009,
         "Luca Badoer",
         69,
         "Italian",
         0.0,
         0,
         20
        ],
        [
         2009,
         "Romain Grosjean",
         154,
         "French",
         0.0,
         0,
         20
        ],
        [
         2009,
         "Jaime Alguersuari",
         153,
         "Spanish",
         0.0,
         0,
         20
        ],
        [
         2009,
         "Vitantonio Liuzzi",
         24,
         "Italian",
         0.0,
         0,
         20
        ],
        [
         2009,
         "Kazuki Nakajima",
         6,
         "Japanese",
         0.0,
         0,
         20
        ],
        [
         2001,
         "Michael Schumacher",
         30,
         "German",
         123.0,
         9,
         1
        ],
        [
         2001,
         "David Coulthard",
         14,
         "British",
         65.0,
         2,
         2
        ],
        [
         2001,
         "Rubens Barrichello",
         22,
         "Brazilian",
         56.0,
         0,
         3
        ],
        [
         2001,
         "Ralf Schumacher",
         23,
         "German",
         49.0,
         3,
         4
        ],
        [
         2001,
         "Mika Häkkinen",
         57,
         "Finnish",
         37.0,
         2,
         5
        ],
        [
         2001,
         "Juan Pablo Montoya",
         31,
         "Colombian",
         31.0,
         1,
         6
        ],
        [
         2001,
         "Jacques Villeneuve",
         35,
         "Canadian",
         12.0,
         0,
         7
        ],
        [
         2001,
         "Nick Heidfeld",
         2,
         "German",
         12.0,
         0,
         7
        ],
        [
         2001,
         "Jarno Trulli",
         15,
         "Italian",
         12.0,
         0,
         7
        ],
        [
         2001,
         "Kimi Räikkönen",
         8,
         "Finnish",
         9.0,
         0,
         10
        ],
        [
         2001,
         "Giancarlo Fisichella",
         21,
         "Italian",
         8.0,
         0,
         11
        ],
        [
         2001,
         "Eddie Irvine",
         56,
         "British",
         6.0,
         0,
         12
        ],
        [
         2001,
         "Heinz-Harald Frentzen",
         49,
         "German",
         6.0,
         0,
         12
        ],
        [
         2001,
         "Jean Alesi",
         55,
         "French",
         5.0,
         0,
         14
        ],
        [
         2001,
         "Olivier Panis",
         44,
         "French",
         5.0,
         0,
         14
        ],
        [
         2001,
         "Pedro de la Rosa",
         37,
         "Spanish",
         3.0,
         0,
         16
        ],
        [
         2001,
         "Jenson Button",
         18,
         "British",
         2.0,
         0,
         17
        ],
        [
         2001,
         "Jos Verstappen",
         50,
         "Dutch",
         1.0,
         0,
         18
        ],
        [
         2001,
         "Tomáš Enge",
         61,
         "Czech",
         0.0,
         0,
         19
        ],
        [
         2001,
         "Gastón Mazzacane",
         60,
         "Argentine",
         0.0,
         0,
         19
        ],
        [
         2001,
         "Tarso Marques",
         58,
         "Brazilian",
         0.0,
         0,
         19
        ],
        [
         2001,
         "Fernando Alonso",
         4,
         "Spanish",
         0.0,
         0,
         19
        ],
        [
         2001,
         "Enrique Bernoldi",
         59,
         "Brazilian",
         0.0,
         0,
         19
        ],
        [
         2001,
         "Alex Yoong",
         62,
         "Malaysian",
         0.0,
         0,
         19
        ],
        [
         2001,
         "Luciano Burti",
         54,
         "Brazilian",
         0.0,
         0,
         19
        ],
        [
         2001,
         "Ricardo Zonta",
         41,
         "Brazilian",
         0.0,
         0,
         19
        ],
        [
         1969,
         "Jackie Stewart",
         328,
         "British",
         63.0,
         6,
         1
        ],
        [
         1969,
         "Jacky Ickx",
         235,
         "Belgian",
         37.0,
         2,
         2
        ],
        [
         1969,
         "Bruce McLaren",
         360,
         "New Zealander",
         26.0,
         0,
         3
        ],
        [
         1969,
         "Jochen Rindt",
         358,
         "Austrian",
         22.0,
         1,
         4
        ],
        [
         1969,
         "Jean-Pierre Beltoise",
         306,
         "French",
         21.0,
         0,
         5
        ],
        [
         1969,
         "Denny Hulme",
         304,
         "New Zealander",
         20.0,
         1,
         6
        ],
        [
         1969,
         "Graham Hill",
         289,
         "British",
         19.0,
         1,
         7
        ],
        [
         1969,
         "Piers Courage",
         361,
         "British",
         16.0,
         0,
         8
        ],
        [
         1969,
         "Jo Siffert",
         346,
         "Swiss",
         15.0,
         0,
         9
        ],
        [
         1969,
         "Jack Brabham",
         356,
         "Australian",
         14.0,
         0,
         10
        ],
        [
         1969,
         "John Surtees",
         341,
         "British",
         6.0,
         0,
         11
        ],
        [
         1969,
         "Chris Amon",
         278,
         "New Zealander",
         4.0,
         0,
         12
        ],
        [
         1969,
         "Pedro Rodríguez",
         345,
         "Mexican",
         3.0,
         0,
         13
        ],
        [
         1969,
         "Vic Elford",
         350,
         "British",
         3.0,
         0,
         13
        ],
        [
         1969,
         "Richard Attwood",
         370,
         "British",
         3.0,
         0,
         13
        ],
        [
         1969,
         "Jackie Oliver",
         262,
         "British",
         1.0,
         0,
         16
        ],
        [
         1969,
         "Johnny Servoz-Gavin",
         359,
         "French",
         1.0,
         0,
         16
        ],
        [
         1969,
         "Silvio Moser",
         351,
         "Swiss",
         1.0,
         0,
         16
        ],
        [
         1969,
         "Sam Tingle",
         368,
         "Rhodesian",
         0.0,
         0,
         19
        ],
        [
         1969,
         "Peter de Klerk",
         362,
         "South African",
         0.0,
         0,
         19
        ],
        [
         1969,
         "Mario Andretti",
         207,
         "American",
         0.0,
         0,
         19
        ],
        [
         1969,
         "John Love",
         340,
         "Rhodesian",
         0.0,
         0,
         19
        ],
        [
         1969,
         "Basil van Rooyen",
         369,
         "South African",
         0.0,
         0,
         19
        ],
        [
         1969,
         "John Miles",
         357,
         "British",
         0.0,
         0,
         19
        ],
        [
         1969,
         "Al Pease",
         371,
         "Canadian",
         0.0,
         0,
         19
        ],
        [
         1969,
         "George Eaton",
         352,
         "Canadian",
         0.0,
         0,
         19
        ],
        [
         1969,
         "Jo Bonnier",
         347,
         "Swedish",
         0.0,
         0,
         19
        ],
        [
         1969,
         "Derek Bell",
         321,
         "British",
         0.0,
         0,
         19
        ],
        [
         1969,
         "Bill Brack",
         343,
         "Canadian",
         0.0,
         0,
         19
        ],
        [
         1969,
         "Pete Lovely",
         353,
         "American",
         0.0,
         0,
         19
        ],
        [
         1969,
         "John Cordts",
         372,
         "Canadian",
         0.0,
         0,
         19
        ],
        [
         1966,
         "Jack Brabham",
         356,
         "Australian",
         45.0,
         4,
         1
        ],
        [
         1966,
         "John Surtees",
         341,
         "British",
         28.0,
         2,
         2
        ],
        [
         1966,
         "Jochen Rindt",
         358,
         "Austrian",
         24.0,
         0,
         3
        ],
        [
         1966,
         "Denny Hulme",
         304,
         "New Zealander",
         18.0,
         0,
         4
        ],
        [
         1966,
         "Graham Hill",
         289,
         "British",
         17.0,
         0,
         5
        ],
        [
         1966,
         "Jim Clark",
         373,
         "British",
         16.0,
         1,
         6
        ],
        [
         1966,
         "Jackie Stewart",
         328,
         "British",
         14.0,
         1,
         7
        ],
        [
         1966,
         "Lorenzo Bandini",
         385,
         "Italian",
         12.0,
         0,
         8
        ],
        [
         1966,
         "Mike Parkes",
         387,
         "British",
         12.0,
         0,
         8
        ],
        [
         1966,
         "Ludovico Scarfiotti",
         375,
         "Italian",
         9.0,
         1,
         10
        ],
        [
         1966,
         "Richie Ginther",
         386,
         "American",
         5.0,
         0,
         11
        ],
        [
         1966,
         "Mike Spence",
         374,
         "British",
         4.0,
         0,
         12
        ],
        [
         1966,
         "Dan Gurney",
         364,
         "American",
         4.0,
         0,
         12
        ],
        [
         1966,
         "Bob Bondurant",
         396,
         "American",
         3.0,
         0,
         14
        ],
        [
         1966,
         "Bruce McLaren",
         360,
         "New Zealander",
         3.0,
         0,
         14
        ],
        [
         1966,
         "Jo Siffert",
         346,
         "Swiss",
         3.0,
         0,
         14
        ],
        [
         1966,
         "Peter Arundell",
         397,
         "British",
         1.0,
         0,
         17
        ],
        [
         1966,
         "Bob Anderson",
         383,
         "British",
         1.0,
         0,
         17
        ],
        [
         1966,
         "Jo Bonnier",
         347,
         "Swedish",
         1.0,
         0,
         17
        ],
        [
         1966,
         "John Taylor",
         399,
         "British",
         1.0,
         0,
         17
        ],
        [
         1966,
         "Pedro Rodríguez",
         345,
         "Mexican",
         0.0,
         0,
         21
        ],
        [
         1966,
         "Phil Hill",
         403,
         "American",
         0.0,
         0,
         21
        ],
        [
         1966,
         "Ronnie Bucknum",
         405,
         "American",
         0.0,
         0,
         21
        ],
        [
         1966,
         "Innes Ireland",
         404,
         "British",
         0.0,
         0,
         21
        ],
        [
         1966,
         "Giacomo Russo",
         402,
         "Italian",
         0.0,
         0,
         21
        ],
        [
         1966,
         "Giancarlo Baghetti",
         394,
         "Italian",
         0.0,
         0,
         21
        ],
        [
         1966,
         "Chris Amon",
         278,
         "New Zealander",
         0.0,
         0,
         21
        ],
        [
         1966,
         "Moisés Solana",
         382,
         "Mexican",
         0.0,
         0,
         21
        ],
        [
         1966,
         "Chris Irwin",
         388,
         "British",
         0.0,
         0,
         21
        ],
        [
         1966,
         "Chris Lawrence",
         400,
         "British",
         0.0,
         0,
         21
        ],
        [
         1966,
         "Trevor Taylor",
         401,
         "British",
         0.0,
         0,
         21
        ],
        [
         1966,
         "Guy Ligier",
         389,
         "French",
         0.0,
         0,
         21
        ],
        [
         1966,
         "Vic Wilson",
         398,
         "British",
         0.0,
         0,
         21
        ],
        [
         2016,
         "Nico Rosberg",
         3,
         "German",
         385.0,
         9,
         1
        ],
        [
         2016,
         "Lewis Hamilton",
         1,
         "British",
         380.0,
         10,
         2
        ],
        [
         2016,
         "Daniel Ricciardo",
         817,
         "Australian",
         256.0,
         1,
         3
        ],
        [
         2016,
         "Sebastian Vettel",
         20,
         "German",
         212.0,
         0,
         4
        ],
        [
         2016,
         "Max Verstappen",
         830,
         "Dutch",
         204.0,
         1,
         5
        ],
        [
         2016,
         "Kimi Räikkönen",
         8,
         "Finnish",
         186.0,
         0,
         6
        ],
        [
         2016,
         "Sergio Pérez",
         815,
         "Mexican",
         101.0,
         0,
         7
        ],
        [
         2016,
         "Valtteri Bottas",
         822,
         "Finnish",
         85.0,
         0,
         8
        ],
        [
         2016,
         "Nico Hülkenberg",
         807,
         "German",
         72.0,
         0,
         9
        ],
        [
         2016,
         "Fernando Alonso",
         4,
         "Spanish",
         54.0,
         0,
         10
        ],
        [
         2016,
         "Felipe Massa",
         13,
         "Brazilian",
         53.0,
         0,
         11
        ],
        [
         2016,
         "Carlos Sainz",
         832,
         "Spanish",
         46.0,
         0,
         12
        ],
        [
         2016,
         "Romain Grosjean",
         154,
         "French",
         29.0,
         0,
         13
        ],
        [
         2016,
         "Daniil Kvyat",
         826,
         "Russian",
         25.0,
         0,
         14
        ],
        [
         2016,
         "Jenson Button",
         18,
         "British",
         21.0,
         0,
         15
        ],
        [
         2016,
         "Kevin Magnussen",
         825,
         "Danish",
         7.0,
         0,
         16
        ],
        [
         2016,
         "Felipe Nasr",
         831,
         "Brazilian",
         2.0,
         0,
         17
        ],
        [
         2016,
         "Pascal Wehrlein",
         836,
         "German",
         1.0,
         0,
         18
        ],
        [
         2016,
         "Jolyon Palmer",
         835,
         "British",
         1.0,
         0,
         18
        ],
        [
         2016,
         "Stoffel Vandoorne",
         838,
         "Belgian",
         1.0,
         0,
         18
        ],
        [
         2016,
         "Rio Haryanto",
         837,
         "Indonesian",
         0.0,
         0,
         21
        ],
        [
         2016,
         "Marcus Ericsson",
         828,
         "Swedish",
         0.0,
         0,
         21
        ],
        [
         2016,
         "Esteban Gutiérrez",
         821,
         "Mexican",
         0.0,
         0,
         21
        ],
        [
         2016,
         "Esteban Ocon",
         839,
         "French",
         0.0,
         0,
         21
        ],
        [
         2020,
         "Lewis Hamilton",
         1,
         "British",
         347.0,
         11,
         1
        ],
        [
         2020,
         "Valtteri Bottas",
         822,
         "Finnish",
         223.0,
         2,
         2
        ],
        [
         2020,
         "Max Verstappen",
         830,
         "Dutch",
         214.0,
         2,
         3
        ],
        [
         2020,
         "Sergio Pérez",
         815,
         "Mexican",
         125.0,
         1,
         4
        ],
        [
         2020,
         "Daniel Ricciardo",
         817,
         "Australian",
         119.0,
         0,
         5
        ],
        [
         2020,
         "Alexander Albon",
         848,
         "Thai",
         105.0,
         0,
         6
        ],
        [
         2020,
         "Carlos Sainz",
         832,
         "Spanish",
         105.0,
         0,
         6
        ],
        [
         2020,
         "Charles Leclerc",
         844,
         "Monegasque",
         98.0,
         0,
         8
        ],
        [
         2020,
         "Lando Norris",
         846,
         "British",
         97.0,
         0,
         9
        ],
        [
         2020,
         "Pierre Gasly",
         842,
         "French",
         75.0,
         1,
         10
        ],
        [
         2020,
         "Lance Stroll",
         840,
         "Canadian",
         75.0,
         0,
         11
        ],
        [
         2020,
         "Esteban Ocon",
         839,
         "French",
         62.0,
         0,
         12
        ],
        [
         2020,
         "Sebastian Vettel",
         20,
         "German",
         33.0,
         0,
         13
        ],
        [
         2020,
         "Daniil Kvyat",
         826,
         "Russian",
         32.0,
         0,
         14
        ],
        [
         2020,
         "Nico Hülkenberg",
         807,
         "German",
         10.0,
         0,
         15
        ],
        [
         2020,
         "Antonio Giovinazzi",
         841,
         "Italian",
         4.0,
         0,
         16
        ],
        [
         2020,
         "Kimi Räikkönen",
         8,
         "Finnish",
         4.0,
         0,
         16
        ],
        [
         2020,
         "George Russell",
         847,
         "British",
         3.0,
         0,
         18
        ],
        [
         2020,
         "Romain Grosjean",
         154,
         "French",
         2.0,
         0,
         19
        ],
        [
         2020,
         "Kevin Magnussen",
         825,
         "Danish",
         1.0,
         0,
         20
        ],
        [
         2020,
         "Nicholas Latifi",
         849,
         "Canadian",
         0.0,
         0,
         21
        ],
        [
         2020,
         "Pietro Fittipaldi",
         850,
         "Brazilian",
         0.0,
         0,
         21
        ],
        [
         2020,
         "Jack Aitken",
         851,
         "British",
         0.0,
         0,
         21
        ],
        [
         1996,
         "Damon Hill",
         71,
         "British",
         97.0,
         8,
         1
        ],
        [
         1996,
         "Jacques Villeneuve",
         35,
         "Canadian",
         78.0,
         4,
         2
        ],
        [
         1996,
         "Michael Schumacher",
         30,
         "German",
         59.0,
         3,
         3
        ],
        [
         1996,
         "Jean Alesi",
         55,
         "French",
         47.0,
         0,
         4
        ],
        [
         1996,
         "Mika Häkkinen",
         57,
         "Finnish",
         31.0,
         0,
         5
        ],
        [
         1996,
         "Gerhard Berger",
         77,
         "Austrian",
         21.0,
         0,
         6
        ],
        [
         1996,
         "David Coulthard",
         14,
         "British",
         18.0,
         0,
         7
        ],
        [
         1996,
         "Rubens Barrichello",
         22,
         "Brazilian",
         14.0,
         0,
         8
        ],
        [
         1996,
         "Olivier Panis",
         44,
         "French",
         13.0,
         1,
         9
        ],
        [
         1996,
         "Eddie Irvine",
         56,
         "British",
         11.0,
         0,
         10
        ],
        [
         1996,
         "Martin Brundle",
         84,
         "British",
         8.0,
         0,
         11
        ],
        [
         1996,
         "Heinz-Harald Frentzen",
         49,
         "German",
         7.0,
         0,
         12
        ],
        [
         1996,
         "Mika Salo",
         63,
         "Finnish",
         5.0,
         0,
         13
        ],
        [
         1996,
         "Johnny Herbert",
         65,
         "British",
         4.0,
         0,
         14
        ],
        [
         1996,
         "Pedro Diniz",
         64,
         "Brazilian",
         2.0,
         0,
         15
        ],
        [
         1996,
         "Jos Verstappen",
         50,
         "Dutch",
         1.0,
         0,
         16
        ],
        [
         1996,
         "Ukyo Katayama",
         79,
         "Japanese",
         0.0,
         0,
         17
        ],
        [
         1996,
         "Tarso Marques",
         58,
         "Brazilian",
         0.0,
         0,
         17
        ],
        [
         1996,
         "Luca Badoer",
         69,
         "Italian",
         0.0,
         0,
         17
        ],
        [
         1996,
         "Andrea Montermini",
         85,
         "Italian",
         0.0,
         0,
         17
        ],
        [
         1996,
         "Ricardo Rosset",
         73,
         "Brazilian",
         0.0,
         0,
         17
        ],
        [
         1996,
         "Pedro Lamy",
         83,
         "Portuguese",
         0.0,
         0,
         17
        ],
        [
         1996,
         "Giancarlo Fisichella",
         21,
         "Italian",
         0.0,
         0,
         17
        ],
        [
         1996,
         "Giovanni Lavaggi",
         86,
         "Italian",
         0.0,
         0,
         17
        ],
        [
         2014,
         "Lewis Hamilton",
         1,
         "British",
         384.0,
         11,
         1
        ],
        [
         2014,
         "Nico Rosberg",
         3,
         "German",
         317.0,
         5,
         2
        ],
        [
         2014,
         "Daniel Ricciardo",
         817,
         "Australian",
         238.0,
         3,
         3
        ],
        [
         2014,
         "Valtteri Bottas",
         822,
         "Finnish",
         186.0,
         0,
         4
        ],
        [
         2014,
         "Sebastian Vettel",
         20,
         "German",
         167.0,
         0,
         5
        ],
        [
         2014,
         "Fernando Alonso",
         4,
         "Spanish",
         161.0,
         0,
         6
        ],
        [
         2014,
         "Felipe Massa",
         13,
         "Brazilian",
         134.0,
         0,
         7
        ],
        [
         2014,
         "Jenson Button",
         18,
         "British",
         126.0,
         0,
         8
        ],
        [
         2014,
         "Nico Hülkenberg",
         807,
         "German",
         96.0,
         0,
         9
        ],
        [
         2014,
         "Sergio Pérez",
         815,
         "Mexican",
         59.0,
         0,
         10
        ],
        [
         2014,
         "Kimi Räikkönen",
         8,
         "Finnish",
         55.0,
         0,
         11
        ],
        [
         2014,
         "Kevin Magnussen",
         825,
         "Danish",
         55.0,
         0,
         11
        ],
        [
         2014,
         "Jean-Éric Vergne",
         818,
         "French",
         22.0,
         0,
         13
        ],
        [
         2014,
         "Daniil Kvyat",
         826,
         "Russian",
         8.0,
         0,
         14
        ],
        [
         2014,
         "Romain Grosjean",
         154,
         "French",
         8.0,
         0,
         14
        ],
        [
         2014,
         "Jules Bianchi",
         824,
         "French",
         2.0,
         0,
         16
        ],
        [
         2014,
         "Pastor Maldonado",
         813,
         "Venezuelan",
         2.0,
         0,
         16
        ],
        [
         2014,
         "Esteban Gutiérrez",
         821,
         "Mexican",
         0.0,
         0,
         18
        ],
        [
         2014,
         "André Lotterer",
         827,
         "German",
         0.0,
         0,
         18
        ],
        [
         2014,
         "Marcus Ericsson",
         828,
         "Swedish",
         0.0,
         0,
         18
        ],
        [
         2014,
         "Adrian Sutil",
         16,
         "German",
         0.0,
         0,
         18
        ],
        [
         2014,
         "Kamui Kobayashi",
         155,
         "Japanese",
         0.0,
         0,
         18
        ],
        [
         2014,
         "Max Chilton",
         820,
         "British",
         0.0,
         0,
         18
        ],
        [
         2014,
         "Will Stevens",
         829,
         "British",
         0.0,
         0,
         18
        ],
        [
         1999,
         "Mika Häkkinen",
         57,
         "Finnish",
         76.0,
         5,
         1
        ],
        [
         1999,
         "Eddie Irvine",
         56,
         "British",
         74.0,
         4,
         2
        ],
        [
         1999,
         "Heinz-Harald Frentzen",
         49,
         "German",
         54.0,
         2,
         3
        ],
        [
         1999,
         "David Coulthard",
         14,
         "British",
         48.0,
         2,
         4
        ],
        [
         1999,
         "Michael Schumacher",
         30,
         "German",
         44.0,
         2,
         5
        ],
        [
         1999,
         "Ralf Schumacher",
         23,
         "German",
         35.0,
         0,
         6
        ],
        [
         1999,
         "Rubens Barrichello",
         22,
         "Brazilian",
         21.0,
         0,
         7
        ],
        [
         1999,
         "Johnny Herbert",
         65,
         "British",
         15.0,
         1,
         8
        ],
        [
         1999,
         "Giancarlo Fisichella",
         21,
         "Italian",
         13.0,
         0,
         9
        ],
        [
         1999,
         "Mika Salo",
         63,
         "Finnish",
         10.0,
         0,
         10
        ],
        [
         1999,
         "Jarno Trulli",
         15,
         "Italian",
         7.0,
         0,
         11
        ],
        [
         1999,
         "Damon Hill",
         71,
         "British",
         7.0,
         0,
         11
        ],
        [
         1999,
         "Alexander Wurz",
         25,
         "Austrian",
         3.0,
         0,
         13
        ],
        [
         1999,
         "Pedro Diniz",
         64,
         "Brazilian",
         3.0,
         0,
         13
        ],
        [
         1999,
         "Olivier Panis",
         44,
         "French",
         2.0,
         0,
         15
        ],
        [
         1999,
         "Jean Alesi",
         55,
         "French",
         2.0,
         0,
         15
        ],
        [
         1999,
         "Pedro de la Rosa",
         37,
         "Spanish",
         1.0,
         0,
         17
        ],
        [
         1999,
         "Marc Gené",
         48,
         "Spanish",
         1.0,
         0,
         17
        ],
        [
         1999,
         "Jacques Villeneuve",
         35,
         "Canadian",
         0.0,
         0,
         19
        ],
        [
         1999,
         "Toranosuke Takagi",
         68,
         "Japanese",
         0.0,
         0,
         19
        ],
        [
         1999,
         "Ricardo Zonta",
         41,
         "Brazilian",
         0.0,
         0,
         19
        ],
        [
         1999,
         "Alessandro Zanardi",
         70,
         "Italian",
         0.0,
         0,
         19
        ],
        [
         1999,
         "Luca Badoer",
         69,
         "Italian",
         0.0,
         0,
         19
        ],
        [
         1999,
         "Stéphane Sarrazin",
         72,
         "French",
         0.0,
         0,
         19
        ],
        [
         2015,
         "Lewis Hamilton",
         1,
         "British",
         381.0,
         10,
         1
        ],
        [
         2015,
         "Nico Rosberg",
         3,
         "German",
         322.0,
         6,
         2
        ],
        [
         2015,
         "Sebastian Vettel",
         20,
         "German",
         278.0,
         3,
         3
        ],
        [
         2015,
         "Kimi Räikkönen",
         8,
         "Finnish",
         150.0,
         0,
         4
        ],
        [
         2015,
         "Valtteri Bottas",
         822,
         "Finnish",
         136.0,
         0,
         5
        ],
        [
         2015,
         "Felipe Massa",
         13,
         "Brazilian",
         121.0,
         0,
         6
        ],
        [
         2015,
         "Daniil Kvyat",
         826,
         "Russian",
         95.0,
         0,
         7
        ],
        [
         2015,
         "Daniel Ricciardo",
         817,
         "Australian",
         92.0,
         0,
         8
        ],
        [
         2015,
         "Sergio Pérez",
         815,
         "Mexican",
         78.0,
         0,
         9
        ],
        [
         2015,
         "Nico Hülkenberg",
         807,
         "German",
         58.0,
         0,
         10
        ],
        [
         2015,
         "Romain Grosjean",
         154,
         "French",
         51.0,
         0,
         11
        ],
        [
         2015,
         "Max Verstappen",
         830,
         "Dutch",
         49.0,
         0,
         12
        ],
        [
         2015,
         "Pastor Maldonado",
         813,
         "Venezuelan",
         27.0,
         0,
         13
        ],
        [
         2015,
         "Felipe Nasr",
         831,
         "Brazilian",
         27.0,
         0,
         13
        ],
        [
         2015,
         "Carlos Sainz",
         832,
         "Spanish",
         18.0,
         0,
         15
        ],
        [
         2015,
         "Jenson Button",
         18,
         "British",
         16.0,
         0,
         16
        ],
        [
         2015,
         "Fernando Alonso",
         4,
         "Spanish",
         11.0,
         0,
         17
        ],
        [
         2015,
         "Marcus Ericsson",
         828,
         "Swedish",
         9.0,
         0,
         18
        ],
        [
         2015,
         "Will Stevens",
         829,
         "British",
         0.0,
         0,
         19
        ],
        [
         2015,
         "Roberto Merhi",
         833,
         "Spanish",
         0.0,
         0,
         19
        ],
        [
         2015,
         "Alexander Rossi",
         834,
         "American",
         0.0,
         0,
         19
        ],
        [
         2015,
         "Kevin Magnussen",
         825,
         "Danish",
         0.0,
         0,
         19
        ],
        [
         1998,
         "Mika Häkkinen",
         57,
         "Finnish",
         100.0,
         8,
         1
        ],
        [
         1998,
         "Michael Schumacher",
         30,
         "German",
         86.0,
         6,
         2
        ],
        [
         1998,
         "David Coulthard",
         14,
         "British",
         56.0,
         1,
         3
        ],
        [
         1998,
         "Eddie Irvine",
         56,
         "British",
         47.0,
         0,
         4
        ],
        [
         1998,
         "Jacques Villeneuve",
         35,
         "Canadian",
         21.0,
         0,
         5
        ],
        [
         1998,
         "Damon Hill",
         71,
         "British",
         20.0,
         1,
         6
        ],
        [
         1998,
         "Heinz-Harald Frentzen",
         49,
         "German",
         17.0,
         0,
         7
        ],
        [
         1998,
         "Alexander Wurz",
         25,
         "Austrian",
         17.0,
         0,
         7
        ],
        [
         1998,
         "Giancarlo Fisichella",
         21,
         "Italian",
         16.0,
         0,
         9
        ],
        [
         1998,
         "Ralf Schumacher",
         23,
         "German",
         14.0,
         0,
         10
        ],
        [
         1998,
         "Jean Alesi",
         55,
         "French",
         9.0,
         0,
         11
        ],
        [
         1998,
         "Rubens Barrichello",
         22,
         "Brazilian",
         4.0,
         0,
         12
        ],
        [
         1998,
         "Mika Salo",
         63,
         "Finnish",
         3.0,
         0,
         13
        ],
        [
         1998,
         "Pedro Diniz",
         64,
         "Brazilian",
         3.0,
         0,
         13
        ],
        [
         1998,
         "Jarno Trulli",
         15,
         "Italian",
         1.0,
         0,
         15
        ],
        [
         1998,
         "Jan Magnussen",
         76,
         "Danish",
         1.0,
         0,
         15
        ],
        [
         1998,
         "Johnny Herbert",
         65,
         "British",
         1.0,
         0,
         15
        ],
        [
         1998,
         "Esteban Tuero",
         74,
         "Argentine",
         0.0,
         0,
         18
        ],
        [
         1998,
         "Shinji Nakano",
         75,
         "Japanese",
         0.0,
         0,
         18
        ],
        [
         1998,
         "Olivier Panis",
         44,
         "French",
         0.0,
         0,
         18
        ],
        [
         1998,
         "Ricardo Rosset",
         73,
         "Brazilian",
         0.0,
         0,
         18
        ],
        [
         1998,
         "Toranosuke Takagi",
         68,
         "Japanese",
         0.0,
         0,
         18
        ],
        [
         1998,
         "Jos Verstappen",
         50,
         "Dutch",
         0.0,
         0,
         18
        ],
        [
         2000,
         "Michael Schumacher",
         30,
         "German",
         108.0,
         9,
         1
        ],
        [
         2000,
         "Mika Häkkinen",
         57,
         "Finnish",
         89.0,
         4,
         2
        ],
        [
         2000,
         "David Coulthard",
         14,
         "British",
         73.0,
         3,
         3
        ],
        [
         2000,
         "Rubens Barrichello",
         22,
         "Brazilian",
         62.0,
         1,
         4
        ],
        [
         2000,
         "Ralf Schumacher",
         23,
         "German",
         24.0,
         0,
         5
        ],
        [
         2000,
         "Giancarlo Fisichella",
         21,
         "Italian",
         18.0,
         0,
         6
        ],
        [
         2000,
         "Jacques Villeneuve",
         35,
         "Canadian",
         17.0,
         0,
         7
        ],
        [
         2000,
         "Jenson Button",
         18,
         "British",
         12.0,
         0,
         8
        ],
        [
         2000,
         "Heinz-Harald Frentzen",
         49,
         "German",
         11.0,
         0,
         9
        ],
        [
         2000,
         "Mika Salo",
         63,
         "Finnish",
         6.0,
         0,
         10
        ],
        [
         2000,
         "Jarno Trulli",
         15,
         "Italian",
         6.0,
         0,
         10
        ],
        [
         2000,
         "Jos Verstappen",
         50,
         "Dutch",
         5.0,
         0,
         12
        ],
        [
         2000,
         "Eddie Irvine",
         56,
         "British",
         4.0,
         0,
         13
        ],
        [
         2000,
         "Ricardo Zonta",
         41,
         "Brazilian",
         3.0,
         0,
         14
        ],
        [
         2000,
         "Pedro de la Rosa",
         37,
         "Spanish",
         2.0,
         0,
         15
        ],
        [
         2000,
         "Alexander Wurz",
         25,
         "Austrian",
         2.0,
         0,
         15
        ],
        [
         2000,
         "Pedro Diniz",
         64,
         "Brazilian",
         0.0,
         0,
         17
        ],
        [
         2000,
         "Nick Heidfeld",
         2,
         "German",
         0.0,
         0,
         17
        ],
        [
         2000,
         "Johnny Herbert",
         65,
         "British",
         0.0,
         0,
         17
        ],
        [
         2000,
         "Marc Gené",
         48,
         "Spanish",
         0.0,
         0,
         17
        ],
        [
         2000,
         "Gastón Mazzacane",
         60,
         "Argentine",
         0.0,
         0,
         17
        ],
        [
         2000,
         "Jean Alesi",
         55,
         "French",
         0.0,
         0,
         17
        ],
        [
         2000,
         "Luciano Burti",
         54,
         "Brazilian",
         0.0,
         0,
         17
        ],
        [
         2013,
         "Sebastian Vettel",
         20,
         "German",
         397.0,
         13,
         1
        ],
        [
         2013,
         "Fernando Alonso",
         4,
         "Spanish",
         242.0,
         2,
         2
        ],
        [
         2013,
         "Mark Webber",
         17,
         "Australian",
         199.0,
         0,
         3
        ],
        [
         2013,
         "Lewis Hamilton",
         1,
         "British",
         189.0,
         1,
         4
        ],
        [
         2013,
         "Kimi Räikkönen",
         8,
         "Finnish",
         183.0,
         1,
         5
        ],
        [
         2013,
         "Nico Rosberg",
         3,
         "German",
         171.0,
         2,
         6
        ],
        [
         2013,
         "Romain Grosjean",
         154,
         "French",
         132.0,
         0,
         7
        ],
        [
         2013,
         "Felipe Massa",
         13,
         "Brazilian",
         112.0,
         0,
         8
        ],
        [
         2013,
         "Jenson Button",
         18,
         "British",
         73.0,
         0,
         9
        ],
        [
         2013,
         "Nico Hülkenberg",
         807,
         "German",
         51.0,
         0,
         10
        ],
        [
         2013,
         "Sergio Pérez",
         815,
         "Mexican",
         49.0,
         0,
         11
        ],
        [
         2013,
         "Paul di Resta",
         814,
         "British",
         48.0,
         0,
         12
        ],
        [
         2013,
         "Adrian Sutil",
         16,
         "German",
         29.0,
         0,
         13
        ],
        [
         2013,
         "Daniel Ricciardo",
         817,
         "Australian",
         20.0,
         0,
         14
        ],
        [
         2013,
         "Jean-Éric Vergne",
         818,
         "French",
         13.0,
         0,
         15
        ],
        [
         2013,
         "Esteban Gutiérrez",
         821,
         "Mexican",
         6.0,
         0,
         16
        ],
        [
         2013,
         "Valtteri Bottas",
         822,
         "Finnish",
         4.0,
         0,
         17
        ],
        [
         2013,
         "Pastor Maldonado",
         813,
         "Venezuelan",
         1.0,
         0,
         18
        ],
        [
         2013,
         "Heikki Kovalainen",
         5,
         "Finnish",
         0.0,
         0,
         19
        ],
        [
         2013,
         "Jules Bianchi",
         824,
         "French",
         0.0,
         0,
         19
        ],
        [
         2013,
         "Charles Pic",
         819,
         "French",
         0.0,
         0,
         19
        ],
        [
         2013,
         "Giedo van der Garde",
         823,
         "Dutch",
         0.0,
         0,
         19
        ],
        [
         2013,
         "Max Chilton",
         820,
         "British",
         0.0,
         0,
         19
        ],
        [
         2002,
         "Michael Schumacher",
         30,
         "German",
         144.0,
         11,
         1
        ],
        [
         2002,
         "Rubens Barrichello",
         22,
         "Brazilian",
         77.0,
         4,
         2
        ],
        [
         2002,
         "Juan Pablo Montoya",
         31,
         "Colombian",
         50.0,
         0,
         3
        ],
        [
         2002,
         "Ralf Schumacher",
         23,
         "German",
         42.0,
         1,
         4
        ],
        [
         2002,
         "David Coulthard",
         14,
         "British",
         41.0,
         1,
         5
        ],
        [
         2002,
         "Kimi Räikkönen",
         8,
         "Finnish",
         24.0,
         0,
         6
        ],
        [
         2002,
         "Jenson Button",
         18,
         "British",
         14.0,
         0,
         7
        ],
        [
         2002,
         "Jarno Trulli",
         15,
         "Italian",
         9.0,
         0,
         8
        ],
        [
         2002,
         "Eddie Irvine",
         56,
         "British",
         8.0,
         0,
         9
        ],
        [
         2002,
         "Giancarlo Fisichella",
         21,
         "Italian",
         7.0,
         0,
         10
        ],
        [
         2002,
         "Nick Heidfeld",
         2,
         "German",
         7.0,
         0,
         10
        ],
        [
         2002,
         "Jacques Villeneuve",
         35,
         "Canadian",
         4.0,
         0,
         12
        ],
        [
         2002,
         "Felipe Massa",
         13,
         "Brazilian",
         4.0,
         0,
         12
        ],
        [
         2002,
         "Olivier Panis",
         44,
         "French",
         3.0,
         0,
         14
        ],
        [
         2002,
         "Mika Salo",
         63,
         "Finnish",
         2.0,
         0,
         15
        ],
        [
         2002,
         "Takuma Sato",
         11,
         "Japanese",
         2.0,
         0,
         15
        ],
        [
         2002,
         "Heinz-Harald Frentzen",
         49,
         "German",
         2.0,
         0,
         15
        ],
        [
         2002,
         "Mark Webber",
         17,
         "Australian",
         2.0,
         0,
         15
        ],
        [
         2002,
         "Allan McNish",
         66,
         "British",
         0.0,
         0,
         19
        ],
        [
         2002,
         "Enrique Bernoldi",
         59,
         "Brazilian",
         0.0,
         0,
         19
        ],
        [
         2002,
         "Pedro de la Rosa",
         37,
         "Spanish",
         0.0,
         0,
         19
        ],
        [
         2002,
         "Alex Yoong",
         62,
         "Malaysian",
         0.0,
         0,
         19
        ],
        [
         2002,
         "Anthony Davidson",
         19,
         "British",
         0.0,
         0,
         19
        ],
        [
         2008,
         "Lewis Hamilton",
         1,
         "British",
         98.0,
         5,
         1
        ],
        [
         2008,
         "Felipe Massa",
         13,
         "Brazilian",
         97.0,
         6,
         2
        ],
        [
         2008,
         "Kimi Räikkönen",
         8,
         "Finnish",
         75.0,
         2,
         3
        ],
        [
         2008,
         "Robert Kubica",
         9,
         "Polish",
         75.0,
         1,
         4
        ],
        [
         2008,
         "Fernando Alonso",
         4,
         "Spanish",
         61.0,
         2,
         5
        ],
        [
         2008,
         "Nick Heidfeld",
         2,
         "German",
         60.0,
         0,
         6
        ],
        [
         2008,
         "Heikki Kovalainen",
         5,
         "Finnish",
         53.0,
         1,
         7
        ],
        [
         2008,
         "Sebastian Vettel",
         20,
         "German",
         35.0,
         1,
         8
        ],
        [
         2008,
         "Jarno Trulli",
         15,
         "Italian",
         31.0,
         0,
         9
        ],
        [
         2008,
         "Timo Glock",
         10,
         "German",
         25.0,
         0,
         10
        ],
        [
         2008,
         "Mark Webber",
         17,
         "Australian",
         21.0,
         0,
         11
        ],
        [
         2008,
         "Nelson Piquet Jr.",
         12,
         "Brazilian",
         19.0,
         0,
         12
        ],
        [
         2008,
         "Nico Rosberg",
         3,
         "German",
         17.0,
         0,
         13
        ],
        [
         2008,
         "Rubens Barrichello",
         22,
         "Brazilian",
         11.0,
         0,
         14
        ],
        [
         2008,
         "Kazuki Nakajima",
         6,
         "Japanese",
         9.0,
         0,
         15
        ],
        [
         2008,
         "David Coulthard",
         14,
         "British",
         8.0,
         0,
         16
        ],
        [
         2008,
         "Sébastien Bourdais",
         7,
         "French",
         4.0,
         0,
         17
        ],
        [
         2008,
         "Jenson Button",
         18,
         "British",
         3.0,
         0,
         18
        ],
        [
         2008,
         "Anthony Davidson",
         19,
         "British",
         0.0,
         0,
         19
        ],
        [
         2008,
         "Adrian Sutil",
         16,
         "German",
         0.0,
         0,
         19
        ],
        [
         2008,
         "Giancarlo Fisichella",
         21,
         "Italian",
         0.0,
         0,
         19
        ],
        [
         2008,
         "Takuma Sato",
         11,
         "Japanese",
         0.0,
         0,
         19
        ],
        [
         2018,
         "Lewis Hamilton",
         1,
         "British",
         408.0,
         11,
         1
        ],
        [
         2018,
         "Sebastian Vettel",
         20,
         "German",
         320.0,
         5,
         2
        ],
        [
         2018,
         "Kimi Räikkönen",
         8,
         "Finnish",
         251.0,
         1,
         3
        ],
        [
         2018,
         "Max Verstappen",
         830,
         "Dutch",
         249.0,
         2,
         4
        ],
        [
         2018,
         "Valtteri Bottas",
         822,
         "Finnish",
         247.0,
         0,
         5
        ],
        [
         2018,
         "Daniel Ricciardo",
         817,
         "Australian",
         170.0,
         2,
         6
        ],
        [
         2018,
         "Nico Hülkenberg",
         807,
         "German",
         69.0,
         0,
         7
        ],
        [
         2018,
         "Sergio Pérez",
         815,
         "Mexican",
         62.0,
         0,
         8
        ],
        [
         2018,
         "Kevin Magnussen",
         825,
         "Danish",
         56.0,
         0,
         9
        ],
        [
         2018,
         "Carlos Sainz",
         832,
         "Spanish",
         53.0,
         0,
         10
        ],
        [
         2018,
         "Fernando Alonso",
         4,
         "Spanish",
         50.0,
         0,
         11
        ],
        [
         2018,
         "Esteban Ocon",
         839,
         "French",
         49.0,
         0,
         12
        ],
        [
         2018,
         "Charles Leclerc",
         844,
         "Monegasque",
         39.0,
         0,
         13
        ],
        [
         2018,
         "Romain Grosjean",
         154,
         "French",
         37.0,
         0,
         14
        ],
        [
         2018,
         "Pierre Gasly",
         842,
         "French",
         29.0,
         0,
         15
        ],
        [
         2018,
         "Stoffel Vandoorne",
         838,
         "Belgian",
         12.0,
         0,
         16
        ],
        [
         2018,
         "Marcus Ericsson",
         828,
         "Swedish",
         9.0,
         0,
         17
        ],
        [
         2018,
         "Lance Stroll",
         840,
         "Canadian",
         6.0,
         0,
         18
        ],
        [
         2018,
         "Brendon Hartley",
         843,
         "New Zealander",
         4.0,
         0,
         19
        ],
        [
         2018,
         "Sergey Sirotkin",
         845,
         "Russian",
         1.0,
         0,
         20
        ],
        [
         2019,
         "Lewis Hamilton",
         1,
         "British",
         413.0,
         11,
         1
        ],
        [
         2019,
         "Valtteri Bottas",
         822,
         "Finnish",
         326.0,
         4,
         2
        ],
        [
         2019,
         "Max Verstappen",
         830,
         "Dutch",
         278.0,
         3,
         3
        ],
        [
         2019,
         "Charles Leclerc",
         844,
         "Monegasque",
         264.0,
         2,
         4
        ],
        [
         2019,
         "Sebastian Vettel",
         20,
         "German",
         240.0,
         1,
         5
        ],
        [
         2019,
         "Carlos Sainz",
         832,
         "Spanish",
         96.0,
         0,
         6
        ],
        [
         2019,
         "Pierre Gasly",
         842,
         "French",
         95.0,
         0,
         7
        ],
        [
         2019,
         "Alexander Albon",
         848,
         "Thai",
         92.0,
         0,
         8
        ],
        [
         2019,
         "Daniel Ricciardo",
         817,
         "Australian",
         54.0,
         0,
         9
        ],
        [
         2019,
         "Sergio Pérez",
         815,
         "Mexican",
         52.0,
         0,
         10
        ],
        [
         2019,
         "Lando Norris",
         846,
         "British",
         49.0,
         0,
         11
        ],
        [
         2019,
         "Kimi Räikkönen",
         8,
         "Finnish",
         43.0,
         0,
         12
        ],
        [
         2019,
         "Daniil Kvyat",
         826,
         "Russian",
         37.0,
         0,
         13
        ],
        [
         2019,
         "Nico Hülkenberg",
         807,
         "German",
         37.0,
         0,
         13
        ],
        [
         2019,
         "Lance Stroll",
         840,
         "Canadian",
         21.0,
         0,
         15
        ],
        [
         2019,
         "Kevin Magnussen",
         825,
         "Danish",
         20.0,
         0,
         16
        ],
        [
         2019,
         "Antonio Giovinazzi",
         841,
         "Italian",
         14.0,
         0,
         17
        ],
        [
         2019,
         "Romain Grosjean",
         154,
         "French",
         8.0,
         0,
         18
        ],
        [
         2019,
         "Robert Kubica",
         9,
         "Polish",
         1.0,
         0,
         19
        ],
        [
         2019,
         "George Russell",
         847,
         "British",
         0.0,
         0,
         20
        ],
        [
         2021,
         "Lewis Hamilton",
         1,
         "British",
         44.0,
         1,
         1
        ],
        [
         2021,
         "Max Verstappen",
         830,
         "Dutch",
         43.0,
         1,
         2
        ],
        [
         2021,
         "Lando Norris",
         846,
         "British",
         27.0,
         0,
         3
        ],
        [
         2021,
         "Charles Leclerc",
         844,
         "Monegasque",
         20.0,
         0,
         4
        ],
        [
         2021,
         "Valtteri Bottas",
         822,
         "Finnish",
         16.0,
         0,
         5
        ],
        [
         2021,
         "Carlos Sainz",
         832,
         "Spanish",
         14.0,
         0,
         6
        ],
        [
         2021,
         "Daniel Ricciardo",
         817,
         "Australian",
         14.0,
         0,
         6
        ],
        [
         2021,
         "Sergio Pérez",
         815,
         "Mexican",
         10.0,
         0,
         8
        ],
        [
         2021,
         "Pierre Gasly",
         842,
         "French",
         6.0,
         0,
         9
        ],
        [
         2021,
         "Lance Stroll",
         840,
         "Canadian",
         5.0,
         0,
         10
        ],
        [
         2021,
         "Yuki Tsunoda",
         852,
         "Japanese",
         2.0,
         0,
         11
        ],
        [
         2021,
         "Esteban Ocon",
         839,
         "French",
         2.0,
         0,
         11
        ],
        [
         2021,
         "Fernando Alonso",
         4,
         "Spanish",
         1.0,
         0,
         13
        ],
        [
         2021,
         "Nikita Mazepin",
         853,
         "Russian",
         0.0,
         0,
         14
        ],
        [
         2021,
         "Antonio Giovinazzi",
         841,
         "Italian",
         0.0,
         0,
         14
        ],
        [
         2021,
         "Kimi Räikkönen",
         8,
         "Finnish",
         0.0,
         0,
         14
        ],
        [
         2021,
         "Sebastian Vettel",
         20,
         "German",
         0.0,
         0,
         14
        ],
        [
         2021,
         "Nicholas Latifi",
         849,
         "Canadian",
         0.0,
         0,
         14
        ],
        [
         2021,
         "Mick Schumacher",
         854,
         "German",
         0.0,
         0,
         14
        ],
        [
         2021,
         "George Russell",
         847,
         "British",
         0.0,
         0,
         14
        ]
       ],
       "datasetInfos": [],
       "dbfsResultPath": null,
       "isJsonSchema": true,
       "metadata": {},
       "overflow": false,
       "plotOptions": {
        "customPlotOptions": {},
        "displayType": "table",
        "pivotAggregation": null,
        "pivotColumns": null,
        "xColumns": null,
        "yColumns": null
       },
       "removedWidgets": [],
       "schema": [
        {
         "metadata": "{}",
         "name": "race_year",
         "type": "\"integer\""
        },
        {
         "metadata": "{}",
         "name": "driver_name",
         "type": "\"string\""
        },
        {
         "metadata": "{}",
         "name": "driver_id",
         "type": "\"integer\""
        },
        {
         "metadata": "{}",
         "name": "driver_nationality",
         "type": "\"string\""
        },
        {
         "metadata": "{}",
         "name": "total_points",
         "type": "\"double\""
        },
        {
         "metadata": "{}",
         "name": "wins",
         "type": "\"long\""
        },
        {
         "metadata": "{}",
         "name": "driver_rank",
         "type": "\"integer\""
        }
       ],
       "type": "table"
      }
     },
     "output_type": "display_data"
    }
   ],
   "source": [
    "%sql\n",
    "\n",
    "SELECT * from f1_presentation.driver_standings;"
   ]
  },
  {
   "cell_type": "code",
   "execution_count": 0,
   "metadata": {
    "application/vnd.databricks.v1+cell": {
     "cellMetadata": {
      "byteLimit": 2048000,
      "implicitDf": true,
      "rowLimit": 10000
     },
     "inputWidgets": {},
     "nuid": "f84ed668-9634-4b52-a7fd-1afd24b6d80b",
     "showTitle": false,
     "tableResultSettingsMap": {},
     "title": ""
    }
   },
   "outputs": [],
   "source": [
    "%sql\n",
    "--DROP TABLE IF EXISTS f1_presentation.driver_standings;"
   ]
  }
 ],
 "metadata": {
  "application/vnd.databricks.v1+notebook": {
   "computePreferences": null,
   "dashboards": [],
   "environmentMetadata": {
    "base_environment": "",
    "environment_version": "2"
   },
   "inputWidgetPreferences": null,
   "language": "python",
   "notebookMetadata": {
    "mostRecentlyExecutedCommandWithImplicitDF": {
     "commandId": 8052992829010602,
     "dataframes": [
      "_sqldf"
     ]
    },
    "pythonIndentUnit": 4
   },
   "notebookName": "2.driver_standings",
   "widgets": {
    "p_file_date": {
     "currentValue": "2021-04-18",
     "nuid": "1d446b68-200d-4492-bb98-37a965b8024b",
     "typedWidgetInfo": {
      "autoCreated": false,
      "defaultValue": "2021-03-21",
      "label": null,
      "name": "p_file_date",
      "options": {
       "widgetDisplayType": "Text",
       "validationRegex": null
      },
      "parameterDataType": "String"
     },
     "widgetInfo": {
      "widgetType": "text",
      "defaultValue": "2021-03-21",
      "label": null,
      "name": "p_file_date",
      "options": {
       "widgetType": "text",
       "autoCreated": null,
       "validationRegex": null
      }
     }
    }
   }
  },
  "language_info": {
   "name": "python"
  }
 },
 "nbformat": 4,
 "nbformat_minor": 0
}
