{
 "cells": [
  {
   "cell_type": "markdown",
   "metadata": {
    "application/vnd.databricks.v1+cell": {
     "cellMetadata": {
      "byteLimit": 2048000,
      "rowLimit": 10000
     },
     "inputWidgets": {},
     "nuid": "fe69db97-0ac3-4ead-bd58-e9ddbdf4a1c4",
     "showTitle": false,
     "tableResultSettingsMap": {},
     "title": ""
    }
   },
   "source": [
    "#### Produce constructor standings"
   ]
  },
  {
   "cell_type": "code",
   "execution_count": 0,
   "metadata": {
    "application/vnd.databricks.v1+cell": {
     "cellMetadata": {
      "byteLimit": 2048000,
      "rowLimit": 10000
     },
     "inputWidgets": {},
     "nuid": "6a65974e-61c8-4ea9-a88a-7bd1ec2cf05e",
     "showTitle": false,
     "tableResultSettingsMap": {},
     "title": ""
    }
   },
   "outputs": [],
   "source": [
    "%run \"../includes/configuration\"\n"
   ]
  },
  {
   "cell_type": "code",
   "execution_count": 0,
   "metadata": {
    "application/vnd.databricks.v1+cell": {
     "cellMetadata": {
      "byteLimit": 2048000,
      "rowLimit": 10000
     },
     "inputWidgets": {},
     "nuid": "6907146c-1c0e-42e4-a08d-067d02374c52",
     "showTitle": false,
     "tableResultSettingsMap": {},
     "title": ""
    }
   },
   "outputs": [],
   "source": [
    "%run \"../includes/common_functions\""
   ]
  },
  {
   "cell_type": "code",
   "execution_count": 0,
   "metadata": {
    "application/vnd.databricks.v1+cell": {
     "cellMetadata": {
      "byteLimit": 2048000,
      "rowLimit": 10000
     },
     "inputWidgets": {},
     "nuid": "5492e396-40a0-43b4-b3f6-7b311ad15ce6",
     "showTitle": false,
     "tableResultSettingsMap": {},
     "title": ""
    }
   },
   "outputs": [],
   "source": [
    "from pyspark.sql.functions import *"
   ]
  },
  {
   "cell_type": "code",
   "execution_count": 0,
   "metadata": {
    "application/vnd.databricks.v1+cell": {
     "cellMetadata": {
      "byteLimit": 2048000,
      "rowLimit": 10000
     },
     "inputWidgets": {},
     "nuid": "90a9e197-0299-43dc-b8d7-2564a1e1d5e6",
     "showTitle": false,
     "tableResultSettingsMap": {},
     "title": ""
    }
   },
   "outputs": [],
   "source": [
    "dbutils.widgets.text(\"p_file_date\",\"2021-03-21\")\n",
    "v_file_date = dbutils.widgets.get(\"p_file_date\")"
   ]
  },
  {
   "cell_type": "markdown",
   "metadata": {
    "application/vnd.databricks.v1+cell": {
     "cellMetadata": {
      "byteLimit": 2048000,
      "rowLimit": 10000
     },
     "inputWidgets": {},
     "nuid": "8c02bd94-6a1d-4e8b-8957-8c8a4a89601e",
     "showTitle": false,
     "tableResultSettingsMap": {},
     "title": ""
    }
   },
   "source": [
    "Find race years for which the data is to be reprocessed"
   ]
  },
  {
   "cell_type": "code",
   "execution_count": 0,
   "metadata": {
    "application/vnd.databricks.v1+cell": {
     "cellMetadata": {
      "byteLimit": 2048000,
      "rowLimit": 10000
     },
     "inputWidgets": {},
     "nuid": "bfb5abaf-419c-460b-a7b2-93f081057987",
     "showTitle": false,
     "tableResultSettingsMap": {},
     "title": ""
    }
   },
   "outputs": [],
   "source": [
    "race_results_df = spark.read.format(\"delta\").load(F\"{presentation_folder_path}/race_results\")\\\n",
    "    .filter(f\"file_date = '{v_file_date}'\")\n",
    "  "
   ]
  },
  {
   "cell_type": "code",
   "execution_count": 0,
   "metadata": {
    "application/vnd.databricks.v1+cell": {
     "cellMetadata": {
      "byteLimit": 2048000,
      "rowLimit": 10000
     },
     "inputWidgets": {},
     "nuid": "ada99c2d-53ad-4aa4-b62f-bc46cff3b2ae",
     "showTitle": false,
     "tableResultSettingsMap": {},
     "title": ""
    }
   },
   "outputs": [],
   "source": [
    "race_year_list = df_column_to_list(race_results_df, \"race_year\")"
   ]
  },
  {
   "cell_type": "code",
   "execution_count": 0,
   "metadata": {
    "application/vnd.databricks.v1+cell": {
     "cellMetadata": {
      "byteLimit": 2048000,
      "rowLimit": 10000
     },
     "inputWidgets": {},
     "nuid": "8b0e5b34-f1dd-4d44-918d-bba411bea607",
     "showTitle": false,
     "tableResultSettingsMap": {},
     "title": ""
    }
   },
   "outputs": [
    {
     "output_type": "display_data",
     "data": {
      "text/html": [
       "<style scoped>\n",
       "  .table-result-container {\n",
       "    max-height: 300px;\n",
       "    overflow: auto;\n",
       "  }\n",
       "  table, th, td {\n",
       "    border: 1px solid black;\n",
       "    border-collapse: collapse;\n",
       "  }\n",
       "  th, td {\n",
       "    padding: 5px;\n",
       "  }\n",
       "  th {\n",
       "    text-align: left;\n",
       "  }\n",
       "</style><div class='table-result-container'><table class='table-result'><thead style='background-color: white'><tr><th>race_id</th><th>race_year</th><th>race_name</th><th>race_date</th><th>circuit_location</th><th>driver_name</th><th>driver_id</th><th>driver_number</th><th>driver_nationality</th><th>team</th><th>grid</th><th>fastest_lap</th><th>race_time</th><th>points</th><th>position</th><th>file_date</th><th>current_date</th></tr></thead><tbody><tr><td>1053</td><td>2021</td><td>Emilia Romagna Grand Prix</td><td>2021-04-18</td><td>Imola</td><td>Mick Schumacher</td><td>854</td><td>null</td><td>German</td><td>Haas F1 Team</td><td>18</td><td>58</td><td>\\N</td><td>0.0</td><td>16</td><td>2021-04-18</td><td>2025-04-10T23:40:54.560+0000</td></tr><tr><td>1053</td><td>2021</td><td>Emilia Romagna Grand Prix</td><td>2021-04-18</td><td>Imola</td><td>Nikita Mazepin</td><td>853</td><td>null</td><td>Russian</td><td>Haas F1 Team</td><td>19</td><td>55</td><td>\\N</td><td>0.0</td><td>17</td><td>2021-04-18</td><td>2025-04-10T23:40:54.560+0000</td></tr><tr><td>1053</td><td>2021</td><td>Emilia Romagna Grand Prix</td><td>2021-04-18</td><td>Imola</td><td>Yuki Tsunoda</td><td>852</td><td>null</td><td>Japanese</td><td>AlphaTauri</td><td>20</td><td>49</td><td>+73.184</td><td>0.0</td><td>12</td><td>2021-04-18</td><td>2025-04-10T23:40:54.560+0000</td></tr><tr><td>1053</td><td>2021</td><td>Emilia Romagna Grand Prix</td><td>2021-04-18</td><td>Imola</td><td>Nicholas Latifi</td><td>849</td><td>6</td><td>Canadian</td><td>Williams</td><td>14</td><td>null</td><td>\\N</td><td>0.0</td><td>null</td><td>2021-04-18</td><td>2025-04-10T23:40:54.560+0000</td></tr><tr><td>1053</td><td>2021</td><td>Emilia Romagna Grand Prix</td><td>2021-04-18</td><td>Imola</td><td>George Russell</td><td>847</td><td>63</td><td>British</td><td>Williams</td><td>12</td><td>28</td><td>\\N</td><td>0.0</td><td>null</td><td>2021-04-18</td><td>2025-04-10T23:40:54.560+0000</td></tr><tr><td>1053</td><td>2021</td><td>Emilia Romagna Grand Prix</td><td>2021-04-18</td><td>Imola</td><td>Lando Norris</td><td>846</td><td>4</td><td>British</td><td>McLaren</td><td>7</td><td>63</td><td>+23.702</td><td>15.0</td><td>3</td><td>2021-04-18</td><td>2025-04-10T23:40:54.560+0000</td></tr><tr><td>1053</td><td>2021</td><td>Emilia Romagna Grand Prix</td><td>2021-04-18</td><td>Imola</td><td>Charles Leclerc</td><td>844</td><td>16</td><td>Monegasque</td><td>Ferrari</td><td>4</td><td>60</td><td>+25.579</td><td>12.0</td><td>4</td><td>2021-04-18</td><td>2025-04-10T23:40:54.560+0000</td></tr><tr><td>1053</td><td>2021</td><td>Emilia Romagna Grand Prix</td><td>2021-04-18</td><td>Imola</td><td>Pierre Gasly</td><td>842</td><td>10</td><td>French</td><td>AlphaTauri</td><td>5</td><td>52</td><td>+52.818</td><td>6.0</td><td>7</td><td>2021-04-18</td><td>2025-04-10T23:40:54.560+0000</td></tr><tr><td>1053</td><td>2021</td><td>Emilia Romagna Grand Prix</td><td>2021-04-18</td><td>Imola</td><td>Antonio Giovinazzi</td><td>841</td><td>99</td><td>Italian</td><td>Alfa Romeo</td><td>17</td><td>57</td><td>\\N</td><td>0.0</td><td>14</td><td>2021-04-18</td><td>2025-04-10T23:40:54.560+0000</td></tr><tr><td>1053</td><td>2021</td><td>Emilia Romagna Grand Prix</td><td>2021-04-18</td><td>Imola</td><td>Lance Stroll</td><td>840</td><td>18</td><td>Canadian</td><td>Aston Martin</td><td>10</td><td>59</td><td>+56.909</td><td>4.0</td><td>8</td><td>2021-04-18</td><td>2025-04-10T23:40:54.560+0000</td></tr><tr><td>1053</td><td>2021</td><td>Emilia Romagna Grand Prix</td><td>2021-04-18</td><td>Imola</td><td>Esteban Ocon</td><td>839</td><td>31</td><td>French</td><td>Alpine F1 Team</td><td>9</td><td>62</td><td>+65.704</td><td>2.0</td><td>9</td><td>2021-04-18</td><td>2025-04-10T23:40:54.560+0000</td></tr><tr><td>1053</td><td>2021</td><td>Emilia Romagna Grand Prix</td><td>2021-04-18</td><td>Imola</td><td>Carlos Sainz</td><td>832</td><td>55</td><td>Spanish</td><td>Ferrari</td><td>11</td><td>60</td><td>+27.036</td><td>10.0</td><td>5</td><td>2021-04-18</td><td>2025-04-10T23:40:54.560+0000</td></tr><tr><td>1053</td><td>2021</td><td>Emilia Romagna Grand Prix</td><td>2021-04-18</td><td>Imola</td><td>Max Verstappen</td><td>830</td><td>33</td><td>Dutch</td><td>Red Bull</td><td>3</td><td>60</td><td>2:02:34.598</td><td>25.0</td><td>1</td><td>2021-04-18</td><td>2025-04-10T23:40:54.560+0000</td></tr><tr><td>1053</td><td>2021</td><td>Emilia Romagna Grand Prix</td><td>2021-04-18</td><td>Imola</td><td>Valtteri Bottas</td><td>822</td><td>77</td><td>Finnish</td><td>Mercedes</td><td>8</td><td>30</td><td>\\N</td><td>0.0</td><td>null</td><td>2021-04-18</td><td>2025-04-10T23:40:54.560+0000</td></tr><tr><td>1053</td><td>2021</td><td>Emilia Romagna Grand Prix</td><td>2021-04-18</td><td>Imola</td><td>Daniel Ricciardo</td><td>817</td><td>3</td><td>Australian</td><td>McLaren</td><td>6</td><td>54</td><td>+51.220</td><td>8.0</td><td>6</td><td>2021-04-18</td><td>2025-04-10T23:40:54.560+0000</td></tr><tr><td>1053</td><td>2021</td><td>Emilia Romagna Grand Prix</td><td>2021-04-18</td><td>Imola</td><td>Sergio Pérez</td><td>815</td><td>11</td><td>Mexican</td><td>Red Bull</td><td>2</td><td>62</td><td>+67.151</td><td>0.0</td><td>11</td><td>2021-04-18</td><td>2025-04-10T23:40:54.560+0000</td></tr><tr><td>1053</td><td>2021</td><td>Emilia Romagna Grand Prix</td><td>2021-04-18</td><td>Imola</td><td>Sebastian Vettel</td><td>20</td><td>5</td><td>German</td><td>Aston Martin</td><td>0</td><td>59</td><td>\\N</td><td>0.0</td><td>15</td><td>2021-04-18</td><td>2025-04-10T23:40:54.560+0000</td></tr><tr><td>1053</td><td>2021</td><td>Emilia Romagna Grand Prix</td><td>2021-04-18</td><td>Imola</td><td>Kimi Räikkönen</td><td>8</td><td>7</td><td>Finnish</td><td>Alfa Romeo</td><td>16</td><td>62</td><td>+94.773</td><td>0.0</td><td>13</td><td>2021-04-18</td><td>2025-04-10T23:40:54.560+0000</td></tr><tr><td>1053</td><td>2021</td><td>Emilia Romagna Grand Prix</td><td>2021-04-18</td><td>Imola</td><td>Fernando Alonso</td><td>4</td><td>14</td><td>Spanish</td><td>Alpine F1 Team</td><td>15</td><td>62</td><td>+66.561</td><td>1.0</td><td>10</td><td>2021-04-18</td><td>2025-04-10T23:40:54.560+0000</td></tr><tr><td>1053</td><td>2021</td><td>Emilia Romagna Grand Prix</td><td>2021-04-18</td><td>Imola</td><td>Lewis Hamilton</td><td>1</td><td>44</td><td>British</td><td>Mercedes</td><td>1</td><td>60</td><td>+22.000</td><td>19.0</td><td>2</td><td>2021-04-18</td><td>2025-04-10T23:40:54.560+0000</td></tr></tbody></table></div>"
      ]
     },
     "metadata": {
      "application/vnd.databricks.v1+output": {
       "addedWidgets": {},
       "aggData": [],
       "aggError": "",
       "aggOverflow": false,
       "aggSchema": [],
       "aggSeriesLimitReached": false,
       "aggType": "",
       "arguments": {},
       "columnCustomDisplayInfos": {},
       "data": [
        [
         1053,
         2021,
         "Emilia Romagna Grand Prix",
         "2021-04-18",
         "Imola",
         "Mick Schumacher",
         854,
         null,
         "German",
         "Haas F1 Team",
         18,
         58,
         "\\N",
         0.0,
         16,
         "2021-04-18",
         "2025-04-10T23:40:54.560+0000"
        ],
        [
         1053,
         2021,
         "Emilia Romagna Grand Prix",
         "2021-04-18",
         "Imola",
         "Nikita Mazepin",
         853,
         null,
         "Russian",
         "Haas F1 Team",
         19,
         55,
         "\\N",
         0.0,
         17,
         "2021-04-18",
         "2025-04-10T23:40:54.560+0000"
        ],
        [
         1053,
         2021,
         "Emilia Romagna Grand Prix",
         "2021-04-18",
         "Imola",
         "Yuki Tsunoda",
         852,
         null,
         "Japanese",
         "AlphaTauri",
         20,
         49,
         "+73.184",
         0.0,
         12,
         "2021-04-18",
         "2025-04-10T23:40:54.560+0000"
        ],
        [
         1053,
         2021,
         "Emilia Romagna Grand Prix",
         "2021-04-18",
         "Imola",
         "Nicholas Latifi",
         849,
         6,
         "Canadian",
         "Williams",
         14,
         null,
         "\\N",
         0.0,
         null,
         "2021-04-18",
         "2025-04-10T23:40:54.560+0000"
        ],
        [
         1053,
         2021,
         "Emilia Romagna Grand Prix",
         "2021-04-18",
         "Imola",
         "George Russell",
         847,
         63,
         "British",
         "Williams",
         12,
         28,
         "\\N",
         0.0,
         null,
         "2021-04-18",
         "2025-04-10T23:40:54.560+0000"
        ],
        [
         1053,
         2021,
         "Emilia Romagna Grand Prix",
         "2021-04-18",
         "Imola",
         "Lando Norris",
         846,
         4,
         "British",
         "McLaren",
         7,
         63,
         "+23.702",
         15.0,
         3,
         "2021-04-18",
         "2025-04-10T23:40:54.560+0000"
        ],
        [
         1053,
         2021,
         "Emilia Romagna Grand Prix",
         "2021-04-18",
         "Imola",
         "Charles Leclerc",
         844,
         16,
         "Monegasque",
         "Ferrari",
         4,
         60,
         "+25.579",
         12.0,
         4,
         "2021-04-18",
         "2025-04-10T23:40:54.560+0000"
        ],
        [
         1053,
         2021,
         "Emilia Romagna Grand Prix",
         "2021-04-18",
         "Imola",
         "Pierre Gasly",
         842,
         10,
         "French",
         "AlphaTauri",
         5,
         52,
         "+52.818",
         6.0,
         7,
         "2021-04-18",
         "2025-04-10T23:40:54.560+0000"
        ],
        [
         1053,
         2021,
         "Emilia Romagna Grand Prix",
         "2021-04-18",
         "Imola",
         "Antonio Giovinazzi",
         841,
         99,
         "Italian",
         "Alfa Romeo",
         17,
         57,
         "\\N",
         0.0,
         14,
         "2021-04-18",
         "2025-04-10T23:40:54.560+0000"
        ],
        [
         1053,
         2021,
         "Emilia Romagna Grand Prix",
         "2021-04-18",
         "Imola",
         "Lance Stroll",
         840,
         18,
         "Canadian",
         "Aston Martin",
         10,
         59,
         "+56.909",
         4.0,
         8,
         "2021-04-18",
         "2025-04-10T23:40:54.560+0000"
        ],
        [
         1053,
         2021,
         "Emilia Romagna Grand Prix",
         "2021-04-18",
         "Imola",
         "Esteban Ocon",
         839,
         31,
         "French",
         "Alpine F1 Team",
         9,
         62,
         "+65.704",
         2.0,
         9,
         "2021-04-18",
         "2025-04-10T23:40:54.560+0000"
        ],
        [
         1053,
         2021,
         "Emilia Romagna Grand Prix",
         "2021-04-18",
         "Imola",
         "Carlos Sainz",
         832,
         55,
         "Spanish",
         "Ferrari",
         11,
         60,
         "+27.036",
         10.0,
         5,
         "2021-04-18",
         "2025-04-10T23:40:54.560+0000"
        ],
        [
         1053,
         2021,
         "Emilia Romagna Grand Prix",
         "2021-04-18",
         "Imola",
         "Max Verstappen",
         830,
         33,
         "Dutch",
         "Red Bull",
         3,
         60,
         "2:02:34.598",
         25.0,
         1,
         "2021-04-18",
         "2025-04-10T23:40:54.560+0000"
        ],
        [
         1053,
         2021,
         "Emilia Romagna Grand Prix",
         "2021-04-18",
         "Imola",
         "Valtteri Bottas",
         822,
         77,
         "Finnish",
         "Mercedes",
         8,
         30,
         "\\N",
         0.0,
         null,
         "2021-04-18",
         "2025-04-10T23:40:54.560+0000"
        ],
        [
         1053,
         2021,
         "Emilia Romagna Grand Prix",
         "2021-04-18",
         "Imola",
         "Daniel Ricciardo",
         817,
         3,
         "Australian",
         "McLaren",
         6,
         54,
         "+51.220",
         8.0,
         6,
         "2021-04-18",
         "2025-04-10T23:40:54.560+0000"
        ],
        [
         1053,
         2021,
         "Emilia Romagna Grand Prix",
         "2021-04-18",
         "Imola",
         "Sergio Pérez",
         815,
         11,
         "Mexican",
         "Red Bull",
         2,
         62,
         "+67.151",
         0.0,
         11,
         "2021-04-18",
         "2025-04-10T23:40:54.560+0000"
        ],
        [
         1053,
         2021,
         "Emilia Romagna Grand Prix",
         "2021-04-18",
         "Imola",
         "Sebastian Vettel",
         20,
         5,
         "German",
         "Aston Martin",
         0,
         59,
         "\\N",
         0.0,
         15,
         "2021-04-18",
         "2025-04-10T23:40:54.560+0000"
        ],
        [
         1053,
         2021,
         "Emilia Romagna Grand Prix",
         "2021-04-18",
         "Imola",
         "Kimi Räikkönen",
         8,
         7,
         "Finnish",
         "Alfa Romeo",
         16,
         62,
         "+94.773",
         0.0,
         13,
         "2021-04-18",
         "2025-04-10T23:40:54.560+0000"
        ],
        [
         1053,
         2021,
         "Emilia Romagna Grand Prix",
         "2021-04-18",
         "Imola",
         "Fernando Alonso",
         4,
         14,
         "Spanish",
         "Alpine F1 Team",
         15,
         62,
         "+66.561",
         1.0,
         10,
         "2021-04-18",
         "2025-04-10T23:40:54.560+0000"
        ],
        [
         1053,
         2021,
         "Emilia Romagna Grand Prix",
         "2021-04-18",
         "Imola",
         "Lewis Hamilton",
         1,
         44,
         "British",
         "Mercedes",
         1,
         60,
         "+22.000",
         19.0,
         2,
         "2021-04-18",
         "2025-04-10T23:40:54.560+0000"
        ]
       ],
       "datasetInfos": [],
       "dbfsResultPath": null,
       "isJsonSchema": true,
       "metadata": {},
       "overflow": false,
       "plotOptions": {
        "customPlotOptions": {},
        "displayType": "table",
        "pivotAggregation": null,
        "pivotColumns": null,
        "xColumns": null,
        "yColumns": null
       },
       "removedWidgets": [],
       "schema": [
        {
         "metadata": "{}",
         "name": "race_id",
         "type": "\"integer\""
        },
        {
         "metadata": "{}",
         "name": "race_year",
         "type": "\"integer\""
        },
        {
         "metadata": "{}",
         "name": "race_name",
         "type": "\"string\""
        },
        {
         "metadata": "{}",
         "name": "race_date",
         "type": "\"date\""
        },
        {
         "metadata": "{}",
         "name": "circuit_location",
         "type": "\"string\""
        },
        {
         "metadata": "{}",
         "name": "driver_name",
         "type": "\"string\""
        },
        {
         "metadata": "{}",
         "name": "driver_id",
         "type": "\"integer\""
        },
        {
         "metadata": "{}",
         "name": "driver_number",
         "type": "\"integer\""
        },
        {
         "metadata": "{}",
         "name": "driver_nationality",
         "type": "\"string\""
        },
        {
         "metadata": "{}",
         "name": "team",
         "type": "\"string\""
        },
        {
         "metadata": "{}",
         "name": "grid",
         "type": "\"integer\""
        },
        {
         "metadata": "{}",
         "name": "fastest_lap",
         "type": "\"integer\""
        },
        {
         "metadata": "{}",
         "name": "race_time",
         "type": "\"string\""
        },
        {
         "metadata": "{}",
         "name": "points",
         "type": "\"float\""
        },
        {
         "metadata": "{}",
         "name": "position",
         "type": "\"integer\""
        },
        {
         "metadata": "{}",
         "name": "file_date",
         "type": "\"string\""
        },
        {
         "metadata": "{}",
         "name": "current_date",
         "type": "\"timestamp\""
        }
       ],
       "type": "table"
      }
     },
     "output_type": "display_data"
    }
   ],
   "source": [
    "display(race_results_df)"
   ]
  },
  {
   "cell_type": "code",
   "execution_count": 0,
   "metadata": {
    "application/vnd.databricks.v1+cell": {
     "cellMetadata": {
      "byteLimit": 2048000,
      "rowLimit": 10000
     },
     "inputWidgets": {},
     "nuid": "cc70bf73-e050-4ff0-997c-449c84e4391b",
     "showTitle": false,
     "tableResultSettingsMap": {},
     "title": ""
    }
   },
   "outputs": [],
   "source": [
    "from pyspark.sql.functions import sum, when, col, count, desc , rank\n",
    "from pyspark.sql.window import Window"
   ]
  },
  {
   "cell_type": "code",
   "execution_count": 0,
   "metadata": {
    "application/vnd.databricks.v1+cell": {
     "cellMetadata": {
      "byteLimit": 2048000,
      "rowLimit": 10000
     },
     "inputWidgets": {},
     "nuid": "b8d099e5-f206-45cd-bcdf-f14114fe5168",
     "showTitle": false,
     "tableResultSettingsMap": {},
     "title": ""
    }
   },
   "outputs": [],
   "source": [
    "from pyspark.sql.functions import col\n",
    "race_results_df = spark.read.format(\"delta\")\\\n",
    "    .load(F\"{presentation_folder_path}/race_results\")\\\n",
    "    .filter( col(\"race_year\").isin(race_year_list))"
   ]
  },
  {
   "cell_type": "code",
   "execution_count": 0,
   "metadata": {
    "application/vnd.databricks.v1+cell": {
     "cellMetadata": {
      "byteLimit": 2048000,
      "rowLimit": 10000
     },
     "inputWidgets": {},
     "nuid": "cb1ce47f-155f-4da5-837a-51dd263c0988",
     "showTitle": false,
     "tableResultSettingsMap": {},
     "title": ""
    }
   },
   "outputs": [],
   "source": [
    "team_standings_df = race_results_df\\\n",
    "    .groupBy( \"race_year\",\"team\")\\\n",
    "        .agg(sum(\"points\").alias(\"total_points\"),\n",
    "             count(when(col(\"position\") == 1, True)).alias(\"wins\"))"
   ]
  },
  {
   "cell_type": "code",
   "execution_count": 0,
   "metadata": {
    "application/vnd.databricks.v1+cell": {
     "cellMetadata": {
      "byteLimit": 2048000,
      "rowLimit": 10000
     },
     "inputWidgets": {},
     "nuid": "6a0b5aba-d8a2-49f9-b87a-e008e705ece0",
     "showTitle": false,
     "tableResultSettingsMap": {},
     "title": ""
    }
   },
   "outputs": [
    {
     "output_type": "display_data",
     "data": {
      "text/html": [
       "<style scoped>\n",
       "  .table-result-container {\n",
       "    max-height: 300px;\n",
       "    overflow: auto;\n",
       "  }\n",
       "  table, th, td {\n",
       "    border: 1px solid black;\n",
       "    border-collapse: collapse;\n",
       "  }\n",
       "  th, td {\n",
       "    padding: 5px;\n",
       "  }\n",
       "  th {\n",
       "    text-align: left;\n",
       "  }\n",
       "</style><div class='table-result-container'><table class='table-result'><thead style='background-color: white'><tr><th>race_year</th><th>team</th><th>total_points</th><th>wins</th></tr></thead><tbody></tbody></table></div>"
      ]
     },
     "metadata": {
      "application/vnd.databricks.v1+output": {
       "addedWidgets": {},
       "aggData": [],
       "aggError": "",
       "aggOverflow": false,
       "aggSchema": [],
       "aggSeriesLimitReached": false,
       "aggType": "",
       "arguments": {},
       "columnCustomDisplayInfos": {},
       "data": [],
       "datasetInfos": [],
       "dbfsResultPath": null,
       "isJsonSchema": true,
       "metadata": {},
       "overflow": false,
       "plotOptions": {
        "customPlotOptions": {},
        "displayType": "table",
        "pivotAggregation": null,
        "pivotColumns": null,
        "xColumns": null,
        "yColumns": null
       },
       "removedWidgets": [],
       "schema": [
        {
         "metadata": "{}",
         "name": "race_year",
         "type": "\"integer\""
        },
        {
         "metadata": "{}",
         "name": "team",
         "type": "\"string\""
        },
        {
         "metadata": "{}",
         "name": "total_points",
         "type": "\"double\""
        },
        {
         "metadata": "{}",
         "name": "wins",
         "type": "\"long\""
        }
       ],
       "type": "table"
      }
     },
     "output_type": "display_data"
    }
   ],
   "source": [
    "display(team_standings_df.filter(\"race_year=2020\"))"
   ]
  },
  {
   "cell_type": "code",
   "execution_count": 0,
   "metadata": {
    "application/vnd.databricks.v1+cell": {
     "cellMetadata": {
      "byteLimit": 2048000,
      "rowLimit": 10000
     },
     "inputWidgets": {},
     "nuid": "a40dd2c7-da6b-4686-a04d-da85c8a11a4b",
     "showTitle": false,
     "tableResultSettingsMap": {},
     "title": ""
    }
   },
   "outputs": [],
   "source": [
    "team_rank_spec = Window.partitionBy(\"race_year\").orderBy(desc(\"total_points\"), desc (\"wins\"))\n",
    "team_standings_df = team_standings_df.withColumn(\"team_rank\", rank().over(team_rank_spec))  "
   ]
  },
  {
   "cell_type": "code",
   "execution_count": 0,
   "metadata": {
    "application/vnd.databricks.v1+cell": {
     "cellMetadata": {
      "byteLimit": 2048000,
      "rowLimit": 10000
     },
     "inputWidgets": {},
     "nuid": "9ab57b7b-5511-4f2a-82e0-6bf3c07f4809",
     "showTitle": false,
     "tableResultSettingsMap": {},
     "title": ""
    }
   },
   "outputs": [
    {
     "output_type": "display_data",
     "data": {
      "text/html": [
       "<style scoped>\n",
       "  .table-result-container {\n",
       "    max-height: 300px;\n",
       "    overflow: auto;\n",
       "  }\n",
       "  table, th, td {\n",
       "    border: 1px solid black;\n",
       "    border-collapse: collapse;\n",
       "  }\n",
       "  th, td {\n",
       "    padding: 5px;\n",
       "  }\n",
       "  th {\n",
       "    text-align: left;\n",
       "  }\n",
       "</style><div class='table-result-container'><table class='table-result'><thead style='background-color: white'><tr><th>race_year</th><th>team</th><th>total_points</th><th>wins</th><th>team_rank</th></tr></thead><tbody></tbody></table></div>"
      ]
     },
     "metadata": {
      "application/vnd.databricks.v1+output": {
       "addedWidgets": {},
       "aggData": [],
       "aggError": "",
       "aggOverflow": false,
       "aggSchema": [],
       "aggSeriesLimitReached": false,
       "aggType": "",
       "arguments": {},
       "columnCustomDisplayInfos": {},
       "data": [],
       "datasetInfos": [],
       "dbfsResultPath": null,
       "isJsonSchema": true,
       "metadata": {},
       "overflow": false,
       "plotOptions": {
        "customPlotOptions": {},
        "displayType": "table",
        "pivotAggregation": null,
        "pivotColumns": null,
        "xColumns": null,
        "yColumns": null
       },
       "removedWidgets": [],
       "schema": [
        {
         "metadata": "{}",
         "name": "race_year",
         "type": "\"integer\""
        },
        {
         "metadata": "{}",
         "name": "team",
         "type": "\"string\""
        },
        {
         "metadata": "{}",
         "name": "total_points",
         "type": "\"double\""
        },
        {
         "metadata": "{}",
         "name": "wins",
         "type": "\"long\""
        },
        {
         "metadata": "{}",
         "name": "team_rank",
         "type": "\"integer\""
        }
       ],
       "type": "table"
      }
     },
     "output_type": "display_data"
    }
   ],
   "source": [
    "display(team_standings_df.filter(\"race_year=2020\"))"
   ]
  },
  {
   "cell_type": "code",
   "execution_count": 0,
   "metadata": {
    "application/vnd.databricks.v1+cell": {
     "cellMetadata": {
      "byteLimit": 2048000,
      "rowLimit": 10000
     },
     "inputWidgets": {},
     "nuid": "c13b546b-f3da-41e4-b701-766ae8d608d7",
     "showTitle": false,
     "tableResultSettingsMap": {},
     "title": ""
    }
   },
   "outputs": [],
   "source": [
    "##team_standings_df.write.mode(\"overwrite\").parquet(F\"{presentation_folder_path}/constructor_standings\")\n",
    "#team_standings_df.write.mode(\"overwrite\").format(\"parquet\").saveAsTable(\"f1_presentation.constructor_standings\")\n",
    "#3 overwrite_partition(team_standings_df, \"f1_presentation\", \"team_standings\", \"race_year\")"
   ]
  },
  {
   "cell_type": "code",
   "execution_count": 0,
   "metadata": {
    "application/vnd.databricks.v1+cell": {
     "cellMetadata": {
      "byteLimit": 2048000,
      "rowLimit": 10000
     },
     "inputWidgets": {},
     "nuid": "32f20a2c-b1cc-4641-9a68-5a26bd804f2c",
     "showTitle": false,
     "tableResultSettingsMap": {},
     "title": ""
    }
   },
   "outputs": [],
   "source": [
    "merge_condition =\"tgt.team =src.team AND tgt.race_year = src.race_year\"\n",
    "merge_delta_data (team_standings_df,\"f1_presentation\", \"team_standings\",presentation_folder_path,merge_condition,\"race_year\")"
   ]
  }
 ],
 "metadata": {
  "application/vnd.databricks.v1+notebook": {
   "computePreferences": null,
   "dashboards": [],
   "environmentMetadata": {
    "base_environment": "",
    "environment_version": "2"
   },
   "inputWidgetPreferences": null,
   "language": "python",
   "notebookMetadata": {
    "pythonIndentUnit": 4
   },
   "notebookName": "3.constructor_standings",
   "widgets": {
    "p_file_date": {
     "currentValue": "2021-04-18",
     "nuid": "cbae405d-49dc-4b4a-bc64-d40d6eda5738",
     "typedWidgetInfo": {
      "autoCreated": false,
      "defaultValue": "2021-03-21",
      "label": null,
      "name": "p_file_date",
      "options": {
       "widgetDisplayType": "Text",
       "validationRegex": null
      },
      "parameterDataType": "String"
     },
     "widgetInfo": {
      "widgetType": "text",
      "defaultValue": "2021-03-21",
      "label": null,
      "name": "p_file_date",
      "options": {
       "widgetType": "text",
       "autoCreated": null,
       "validationRegex": null
      }
     }
    }
   }
  },
  "language_info": {
   "name": "python"
  }
 },
 "nbformat": 4,
 "nbformat_minor": 0
}
