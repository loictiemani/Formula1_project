{
 "cells": [
  {
   "cell_type": "code",
   "execution_count": 0,
   "metadata": {
    "application/vnd.databricks.v1+cell": {
     "cellMetadata": {
      "byteLimit": 2048000,
      "rowLimit": 10000
     },
     "inputWidgets": {},
     "nuid": "77a47712-a6ed-4ac0-9ea1-e3664bb55f1d",
     "showTitle": false,
     "tableResultSettingsMap": {},
     "title": ""
    }
   },
   "outputs": [
    {
     "output_type": "display_data",
     "data": {
      "text/html": [
       "<style scoped>\n",
       "  .table-result-container {\n",
       "    max-height: 300px;\n",
       "    overflow: auto;\n",
       "  }\n",
       "  table, th, td {\n",
       "    border: 1px solid black;\n",
       "    border-collapse: collapse;\n",
       "  }\n",
       "  th, td {\n",
       "    padding: 5px;\n",
       "  }\n",
       "  th {\n",
       "    text-align: left;\n",
       "  }\n",
       "</style><div class='table-result-container'><table class='table-result'><thead style='background-color: white'><tr></tr></thead><tbody></tbody></table></div>"
      ]
     },
     "metadata": {
      "application/vnd.databricks.v1+output": {
       "addedWidgets": {},
       "aggData": [],
       "aggError": "",
       "aggOverflow": false,
       "aggSchema": [],
       "aggSeriesLimitReached": false,
       "aggType": "",
       "arguments": {},
       "columnCustomDisplayInfos": {},
       "data": [],
       "datasetInfos": [],
       "dbfsResultPath": null,
       "isJsonSchema": true,
       "metadata": {
        "isDbfsCommandResult": false
       },
       "overflow": false,
       "plotOptions": {
        "customPlotOptions": {},
        "displayType": "table",
        "pivotAggregation": null,
        "pivotColumns": null,
        "xColumns": null,
        "yColumns": null
       },
       "removedWidgets": [],
       "schema": [],
       "type": "table"
      }
     },
     "output_type": "display_data"
    }
   ],
   "source": [
    "USE f1_presentation"
   ]
  },
  {
   "cell_type": "code",
   "execution_count": 0,
   "metadata": {
    "application/vnd.databricks.v1+cell": {
     "cellMetadata": {
      "byteLimit": 2048000,
      "rowLimit": 10000
     },
     "inputWidgets": {},
     "nuid": "28f40931-71c6-4d8f-a777-752e299bc4e3",
     "showTitle": false,
     "tableResultSettingsMap": {},
     "title": ""
    }
   },
   "outputs": [
    {
     "output_type": "display_data",
     "data": {
      "text/html": [
       "<style scoped>\n",
       "  .table-result-container {\n",
       "    max-height: 300px;\n",
       "    overflow: auto;\n",
       "  }\n",
       "  table, th, td {\n",
       "    border: 1px solid black;\n",
       "    border-collapse: collapse;\n",
       "  }\n",
       "  th, td {\n",
       "    padding: 5px;\n",
       "  }\n",
       "  th {\n",
       "    text-align: left;\n",
       "  }\n",
       "</style><div class='table-result-container'><table class='table-result'><thead style='background-color: white'><tr><th>database</th><th>tableName</th><th>isTemporary</th></tr></thead><tbody><tr><td>f1_presentation</td><td>calculated_race_results</td><td>false</td></tr><tr><td>f1_presentation</td><td>constructor_standings</td><td>false</td></tr><tr><td>f1_presentation</td><td>driver_standings</td><td>false</td></tr><tr><td>f1_presentation</td><td>race_results</td><td>false</td></tr></tbody></table></div>"
      ]
     },
     "metadata": {
      "application/vnd.databricks.v1+output": {
       "addedWidgets": {},
       "aggData": [],
       "aggError": "",
       "aggOverflow": false,
       "aggSchema": [],
       "aggSeriesLimitReached": false,
       "aggType": "",
       "arguments": {},
       "columnCustomDisplayInfos": {},
       "data": [
        [
         "f1_presentation",
         "calculated_race_results",
         false
        ],
        [
         "f1_presentation",
         "constructor_standings",
         false
        ],
        [
         "f1_presentation",
         "driver_standings",
         false
        ],
        [
         "f1_presentation",
         "race_results",
         false
        ]
       ],
       "datasetInfos": [],
       "dbfsResultPath": null,
       "isJsonSchema": true,
       "metadata": {
        "isDbfsCommandResult": false
       },
       "overflow": false,
       "plotOptions": {
        "customPlotOptions": {},
        "displayType": "table",
        "pivotAggregation": null,
        "pivotColumns": null,
        "xColumns": null,
        "yColumns": null
       },
       "removedWidgets": [],
       "schema": [
        {
         "metadata": "{}",
         "name": "database",
         "type": "\"string\""
        },
        {
         "metadata": "{}",
         "name": "tableName",
         "type": "\"string\""
        },
        {
         "metadata": "{}",
         "name": "isTemporary",
         "type": "\"boolean\""
        }
       ],
       "type": "table"
      }
     },
     "output_type": "display_data"
    }
   ],
   "source": [
    "SHOW TABLES\n"
   ]
  },
  {
   "cell_type": "code",
   "execution_count": 0,
   "metadata": {
    "application/vnd.databricks.v1+cell": {
     "cellMetadata": {
      "byteLimit": 2048000,
      "rowLimit": 10000
     },
     "inputWidgets": {},
     "nuid": "c6fc72ed-aba8-4c92-9814-f013c00e361c",
     "showTitle": false,
     "tableResultSettingsMap": {},
     "title": ""
    }
   },
   "outputs": [
    {
     "output_type": "display_data",
     "data": {
      "text/html": [
       "<style scoped>\n",
       "  .table-result-container {\n",
       "    max-height: 300px;\n",
       "    overflow: auto;\n",
       "  }\n",
       "  table, th, td {\n",
       "    border: 1px solid black;\n",
       "    border-collapse: collapse;\n",
       "  }\n",
       "  th, td {\n",
       "    padding: 5px;\n",
       "  }\n",
       "  th {\n",
       "    text-align: left;\n",
       "  }\n",
       "</style><div class='table-result-container'><table class='table-result'><thead style='background-color: white'><tr><th>col_name</th><th>data_type</th><th>comment</th></tr></thead><tbody><tr><td>race_year</td><td>int</td><td>null</td></tr><tr><td>team</td><td>string</td><td>null</td></tr><tr><td>total_points</td><td>double</td><td>null</td></tr><tr><td>wins</td><td>bigint</td><td>null</td></tr><tr><td>team_rank</td><td>int</td><td>null</td></tr></tbody></table></div>"
      ]
     },
     "metadata": {
      "application/vnd.databricks.v1+output": {
       "addedWidgets": {},
       "aggData": [],
       "aggError": "",
       "aggOverflow": false,
       "aggSchema": [],
       "aggSeriesLimitReached": false,
       "aggType": "",
       "arguments": {},
       "columnCustomDisplayInfos": {},
       "data": [
        [
         "race_year",
         "int",
         null
        ],
        [
         "team",
         "string",
         null
        ],
        [
         "total_points",
         "double",
         null
        ],
        [
         "wins",
         "bigint",
         null
        ],
        [
         "team_rank",
         "int",
         null
        ]
       ],
       "datasetInfos": [],
       "dbfsResultPath": null,
       "isJsonSchema": true,
       "metadata": {
        "isDbfsCommandResult": false
       },
       "overflow": false,
       "plotOptions": {
        "customPlotOptions": {},
        "displayType": "table",
        "pivotAggregation": null,
        "pivotColumns": null,
        "xColumns": null,
        "yColumns": null
       },
       "removedWidgets": [],
       "schema": [
        {
         "metadata": "{\"comment\":\"name of the column\"}",
         "name": "col_name",
         "type": "\"string\""
        },
        {
         "metadata": "{\"comment\":\"data type of the column\"}",
         "name": "data_type",
         "type": "\"string\""
        },
        {
         "metadata": "{\"comment\":\"comment of the column\"}",
         "name": "comment",
         "type": "\"string\""
        }
       ],
       "type": "table"
      }
     },
     "output_type": "display_data"
    }
   ],
   "source": [
    "DESC constructor_standings\n"
   ]
  },
  {
   "cell_type": "code",
   "execution_count": 0,
   "metadata": {
    "application/vnd.databricks.v1+cell": {
     "cellMetadata": {
      "byteLimit": 2048000,
      "rowLimit": 10000
     },
     "inputWidgets": {},
     "nuid": "2931f637-da71-4d21-93b4-e53e180f75b9",
     "showTitle": false,
     "tableResultSettingsMap": {},
     "title": ""
    }
   },
   "outputs": [
    {
     "output_type": "display_data",
     "data": {
      "text/html": [
       "<style scoped>\n",
       "  .table-result-container {\n",
       "    max-height: 300px;\n",
       "    overflow: auto;\n",
       "  }\n",
       "  table, th, td {\n",
       "    border: 1px solid black;\n",
       "    border-collapse: collapse;\n",
       "  }\n",
       "  th, td {\n",
       "    padding: 5px;\n",
       "  }\n",
       "  th {\n",
       "    text-align: left;\n",
       "  }\n",
       "</style><div class='table-result-container'><table class='table-result'><thead style='background-color: white'><tr><th>col_name</th><th>data_type</th><th>comment</th></tr></thead><tbody><tr><td>race_year</td><td>int</td><td>null</td></tr><tr><td>team_name</td><td>string</td><td>null</td></tr><tr><td>driver_name</td><td>string</td><td>null</td></tr><tr><td>position</td><td>int</td><td>null</td></tr><tr><td>points</td><td>float</td><td>null</td></tr><tr><td>calculated_points</td><td>int</td><td>null</td></tr></tbody></table></div>"
      ]
     },
     "metadata": {
      "application/vnd.databricks.v1+output": {
       "addedWidgets": {},
       "aggData": [],
       "aggError": "",
       "aggOverflow": false,
       "aggSchema": [],
       "aggSeriesLimitReached": false,
       "aggType": "",
       "arguments": {},
       "columnCustomDisplayInfos": {},
       "data": [
        [
         "race_year",
         "int",
         null
        ],
        [
         "team_name",
         "string",
         null
        ],
        [
         "driver_name",
         "string",
         null
        ],
        [
         "position",
         "int",
         null
        ],
        [
         "points",
         "float",
         null
        ],
        [
         "calculated_points",
         "int",
         null
        ]
       ],
       "datasetInfos": [],
       "dbfsResultPath": null,
       "isJsonSchema": true,
       "metadata": {
        "isDbfsCommandResult": false
       },
       "overflow": false,
       "plotOptions": {
        "customPlotOptions": {},
        "displayType": "table",
        "pivotAggregation": null,
        "pivotColumns": null,
        "xColumns": null,
        "yColumns": null
       },
       "removedWidgets": [],
       "schema": [
        {
         "metadata": "{\"comment\":\"name of the column\"}",
         "name": "col_name",
         "type": "\"string\""
        },
        {
         "metadata": "{\"comment\":\"data type of the column\"}",
         "name": "data_type",
         "type": "\"string\""
        },
        {
         "metadata": "{\"comment\":\"comment of the column\"}",
         "name": "comment",
         "type": "\"string\""
        }
       ],
       "type": "table"
      }
     },
     "output_type": "display_data"
    }
   ],
   "source": [
    "DESC calculated_race_results"
   ]
  },
  {
   "cell_type": "code",
   "execution_count": 0,
   "metadata": {
    "application/vnd.databricks.v1+cell": {
     "cellMetadata": {
      "byteLimit": 2048000,
      "rowLimit": 10000
     },
     "inputWidgets": {},
     "nuid": "9e75ab3b-f2be-43d3-9cfd-cb1b8385942f",
     "showTitle": false,
     "tableResultSettingsMap": {},
     "title": ""
    }
   },
   "outputs": [
    {
     "output_type": "display_data",
     "data": {
      "text/html": [
       "<style scoped>\n",
       "  .table-result-container {\n",
       "    max-height: 300px;\n",
       "    overflow: auto;\n",
       "  }\n",
       "  table, th, td {\n",
       "    border: 1px solid black;\n",
       "    border-collapse: collapse;\n",
       "  }\n",
       "  th, td {\n",
       "    padding: 5px;\n",
       "  }\n",
       "  th {\n",
       "    text-align: left;\n",
       "  }\n",
       "</style><div class='table-result-container'><table class='table-result'><thead style='background-color: white'><tr><th>team_name</th><th>total_races</th><th>total_points</th><th>avg_points</th></tr></thead><tbody><tr><td>Mercedes</td><td>538</td><td>3946</td><td>7.33457249070632</td></tr><tr><td>Ferrari</td><td>1627</td><td>11477</td><td>7.054087277197295</td></tr><tr><td>Red Bull</td><td>587</td><td>4072</td><td>6.936967632027257</td></tr><tr><td>McLaren</td><td>1162</td><td>7589</td><td>6.530981067125645</td></tr><tr><td>Williams</td><td>771</td><td>4824</td><td>6.256809338521401</td></tr><tr><td>Benetton</td><td>296</td><td>1806</td><td>6.101351351351352</td></tr><tr><td>Team Lotus</td><td>352</td><td>2100</td><td>5.965909090909091</td></tr><tr><td>Cooper-Climax</td><td>130</td><td>772</td><td>5.938461538461539</td></tr><tr><td>Brabham</td><td>235</td><td>1373</td><td>5.842553191489362</td></tr><tr><td>BRM</td><td>215</td><td>1212</td><td>5.637209302325582</td></tr><tr><td>Renault</td><td>385</td><td>2106</td><td>5.47012987012987</td></tr><tr><td>Maserati</td><td>179</td><td>950</td><td>5.307262569832402</td></tr><tr><td>Tyrrell</td><td>339</td><td>1749</td><td>5.15929203539823</td></tr><tr><td>Jordan</td><td>184</td><td>882</td><td>4.793478260869565</td></tr><tr><td>Ligier</td><td>248</td><td>1134</td><td>4.57258064516129</td></tr><tr><td>BAR</td><td>112</td><td>509</td><td>4.544642857142857</td></tr><tr><td>Alfa Romeo</td><td>124</td><td>556</td><td>4.483870967741935</td></tr><tr><td>Toyota</td><td>130</td><td>535</td><td>4.115384615384615</td></tr><tr><td>March</td><td>136</td><td>550</td><td>4.044117647058823</td></tr><tr><td>Arrows</td><td>196</td><td>730</td><td>3.7244897959183674</td></tr><tr><td>Sauber</td><td>299</td><td>1061</td><td>3.548494983277592</td></tr><tr><td>Force India</td><td>211</td><td>744</td><td>3.5260663507109005</td></tr><tr><td>Minardi</td><td>113</td><td>330</td><td>2.920353982300885</td></tr><tr><td>Toro Rosso</td><td>158</td><td>438</td><td>2.7721518987341773</td></tr></tbody></table></div>"
      ]
     },
     "metadata": {
      "application/vnd.databricks.v1+output": {
       "addedWidgets": {},
       "aggData": [],
       "aggError": "",
       "aggOverflow": false,
       "aggSchema": [],
       "aggSeriesLimitReached": false,
       "aggType": "",
       "arguments": {},
       "columnCustomDisplayInfos": {},
       "data": [
        [
         "Mercedes",
         538,
         3946,
         7.33457249070632
        ],
        [
         "Ferrari",
         1627,
         11477,
         7.054087277197295
        ],
        [
         "Red Bull",
         587,
         4072,
         6.936967632027257
        ],
        [
         "McLaren",
         1162,
         7589,
         6.530981067125645
        ],
        [
         "Williams",
         771,
         4824,
         6.256809338521401
        ],
        [
         "Benetton",
         296,
         1806,
         6.101351351351352
        ],
        [
         "Team Lotus",
         352,
         2100,
         5.965909090909091
        ],
        [
         "Cooper-Climax",
         130,
         772,
         5.938461538461539
        ],
        [
         "Brabham",
         235,
         1373,
         5.842553191489362
        ],
        [
         "BRM",
         215,
         1212,
         5.637209302325582
        ],
        [
         "Renault",
         385,
         2106,
         5.47012987012987
        ],
        [
         "Maserati",
         179,
         950,
         5.307262569832402
        ],
        [
         "Tyrrell",
         339,
         1749,
         5.15929203539823
        ],
        [
         "Jordan",
         184,
         882,
         4.793478260869565
        ],
        [
         "Ligier",
         248,
         1134,
         4.57258064516129
        ],
        [
         "BAR",
         112,
         509,
         4.544642857142857
        ],
        [
         "Alfa Romeo",
         124,
         556,
         4.483870967741935
        ],
        [
         "Toyota",
         130,
         535,
         4.115384615384615
        ],
        [
         "March",
         136,
         550,
         4.044117647058823
        ],
        [
         "Arrows",
         196,
         730,
         3.7244897959183674
        ],
        [
         "Sauber",
         299,
         1061,
         3.548494983277592
        ],
        [
         "Force India",
         211,
         744,
         3.5260663507109005
        ],
        [
         "Minardi",
         113,
         330,
         2.920353982300885
        ],
        [
         "Toro Rosso",
         158,
         438,
         2.7721518987341773
        ]
       ],
       "datasetInfos": [],
       "dbfsResultPath": null,
       "isJsonSchema": true,
       "metadata": {
        "isDbfsCommandResult": false
       },
       "overflow": false,
       "plotOptions": {
        "customPlotOptions": {},
        "displayType": "table",
        "pivotAggregation": null,
        "pivotColumns": null,
        "xColumns": null,
        "yColumns": null
       },
       "removedWidgets": [],
       "schema": [
        {
         "metadata": "{}",
         "name": "team_name",
         "type": "\"string\""
        },
        {
         "metadata": "{}",
         "name": "total_races",
         "type": "\"long\""
        },
        {
         "metadata": "{}",
         "name": "total_points",
         "type": "\"long\""
        },
        {
         "metadata": "{}",
         "name": "avg_points",
         "type": "\"double\""
        }
       ],
       "type": "table"
      }
     },
     "output_type": "display_data"
    }
   ],
   "source": [
    "SELECT team_name,\n",
    "COUNT(1) AS total_races,\n",
    "SUM(calculated_points) AS total_points,\n",
    "avg(calculated_points) AS avg_points\n",
    "FROM f1_presentation.calculated_race_results\n",
    "GROUP BY team_name\n",
    "HAVING total_races > 100\n",
    "ORDER BY avg_points DESC"
   ]
  },
  {
   "cell_type": "code",
   "execution_count": 0,
   "metadata": {
    "application/vnd.databricks.v1+cell": {
     "cellMetadata": {
      "byteLimit": 2048000,
      "rowLimit": 10000
     },
     "inputWidgets": {},
     "nuid": "c9925b69-82e2-4883-9469-f98a8046d078",
     "showTitle": false,
     "tableResultSettingsMap": {},
     "title": ""
    }
   },
   "outputs": [
    {
     "output_type": "display_data",
     "data": {
      "text/html": [
       "<style scoped>\n",
       "  .table-result-container {\n",
       "    max-height: 300px;\n",
       "    overflow: auto;\n",
       "  }\n",
       "  table, th, td {\n",
       "    border: 1px solid black;\n",
       "    border-collapse: collapse;\n",
       "  }\n",
       "  th, td {\n",
       "    padding: 5px;\n",
       "  }\n",
       "  th {\n",
       "    text-align: left;\n",
       "  }\n",
       "</style><div class='table-result-container'><table class='table-result'><thead style='background-color: white'><tr><th>team_name</th><th>total_races</th><th>total_points</th><th>avg_points</th></tr></thead><tbody><tr><td>Mercedes</td><td>331</td><td>2580</td><td>7.794561933534744</td></tr><tr><td>Red Bull</td><td>313</td><td>2201</td><td>7.031948881789138</td></tr><tr><td>Ferrari</td><td>314</td><td>2095</td><td>6.671974522292993</td></tr><tr><td>McLaren</td><td>204</td><td>984</td><td>4.823529411764706</td></tr><tr><td>Williams</td><td>126</td><td>533</td><td>4.23015873015873</td></tr><tr><td>Force India</td><td>189</td><td>673</td><td>3.560846560846561</td></tr><tr><td>Toro Rosso</td><td>119</td><td>316</td><td>2.6554621848739495</td></tr></tbody></table></div>"
      ]
     },
     "metadata": {
      "application/vnd.databricks.v1+output": {
       "addedWidgets": {},
       "aggData": [],
       "aggError": "",
       "aggOverflow": false,
       "aggSchema": [],
       "aggSeriesLimitReached": false,
       "aggType": "",
       "arguments": {},
       "columnCustomDisplayInfos": {},
       "data": [
        [
         "Mercedes",
         331,
         2580,
         7.794561933534744
        ],
        [
         "Red Bull",
         313,
         2201,
         7.031948881789138
        ],
        [
         "Ferrari",
         314,
         2095,
         6.671974522292993
        ],
        [
         "McLaren",
         204,
         984,
         4.823529411764706
        ],
        [
         "Williams",
         126,
         533,
         4.23015873015873
        ],
        [
         "Force India",
         189,
         673,
         3.560846560846561
        ],
        [
         "Toro Rosso",
         119,
         316,
         2.6554621848739495
        ]
       ],
       "datasetInfos": [],
       "dbfsResultPath": null,
       "isJsonSchema": true,
       "metadata": {
        "isDbfsCommandResult": false
       },
       "overflow": false,
       "plotOptions": {
        "customPlotOptions": {},
        "displayType": "table",
        "pivotAggregation": null,
        "pivotColumns": null,
        "xColumns": null,
        "yColumns": null
       },
       "removedWidgets": [],
       "schema": [
        {
         "metadata": "{}",
         "name": "team_name",
         "type": "\"string\""
        },
        {
         "metadata": "{}",
         "name": "total_races",
         "type": "\"long\""
        },
        {
         "metadata": "{}",
         "name": "total_points",
         "type": "\"long\""
        },
        {
         "metadata": "{}",
         "name": "avg_points",
         "type": "\"double\""
        }
       ],
       "type": "table"
      }
     },
     "output_type": "display_data"
    }
   ],
   "source": [
    "SELECT team_name,\n",
    "COUNT(1) AS total_races,\n",
    "SUM(calculated_points) AS total_points,\n",
    "avg(calculated_points) AS avg_points\n",
    "FROM f1_presentation.calculated_race_results\n",
    "WHERE race_year BETWEEN 2011 AND 2020\n",
    "GROUP BY team_name\n",
    "HAVING total_races > 100\n",
    "ORDER BY avg_points DESC"
   ]
  },
  {
   "cell_type": "code",
   "execution_count": 0,
   "metadata": {
    "application/vnd.databricks.v1+cell": {
     "cellMetadata": {
      "byteLimit": 2048000,
      "rowLimit": 10000
     },
     "inputWidgets": {},
     "nuid": "e2dd222e-c4ac-488d-9afb-3e1c36497be7",
     "showTitle": false,
     "tableResultSettingsMap": {},
     "title": ""
    }
   },
   "outputs": [
    {
     "output_type": "display_data",
     "data": {
      "text/html": [
       "<style scoped>\n",
       "  .table-result-container {\n",
       "    max-height: 300px;\n",
       "    overflow: auto;\n",
       "  }\n",
       "  table, th, td {\n",
       "    border: 1px solid black;\n",
       "    border-collapse: collapse;\n",
       "  }\n",
       "  th, td {\n",
       "    padding: 5px;\n",
       "  }\n",
       "  th {\n",
       "    text-align: left;\n",
       "  }\n",
       "</style><div class='table-result-container'><table class='table-result'><thead style='background-color: white'><tr><th>team_name</th><th>total_races</th><th>total_points</th><th>avg_points</th></tr></thead><tbody><tr><td>Ferrari</td><td>279</td><td>2125</td><td>7.616487455197133</td></tr><tr><td>McLaren</td><td>244</td><td>1729</td><td>7.086065573770492</td></tr><tr><td>Renault</td><td>201</td><td>1187</td><td>5.9054726368159205</td></tr><tr><td>Red Bull</td><td>120</td><td>650</td><td>5.416666666666667</td></tr><tr><td>Williams</td><td>179</td><td>962</td><td>5.374301675977653</td></tr><tr><td>Toyota</td><td>130</td><td>535</td><td>4.115384615384615</td></tr><tr><td>Sauber</td><td>107</td><td>369</td><td>3.4485981308411215</td></tr></tbody></table></div>"
      ]
     },
     "metadata": {
      "application/vnd.databricks.v1+output": {
       "addedWidgets": {},
       "aggData": [],
       "aggError": "",
       "aggOverflow": false,
       "aggSchema": [],
       "aggSeriesLimitReached": false,
       "aggType": "",
       "arguments": {},
       "columnCustomDisplayInfos": {},
       "data": [
        [
         "Ferrari",
         279,
         2125,
         7.616487455197133
        ],
        [
         "McLaren",
         244,
         1729,
         7.086065573770492
        ],
        [
         "Renault",
         201,
         1187,
         5.9054726368159205
        ],
        [
         "Red Bull",
         120,
         650,
         5.416666666666667
        ],
        [
         "Williams",
         179,
         962,
         5.374301675977653
        ],
        [
         "Toyota",
         130,
         535,
         4.115384615384615
        ],
        [
         "Sauber",
         107,
         369,
         3.4485981308411215
        ]
       ],
       "datasetInfos": [],
       "dbfsResultPath": null,
       "isJsonSchema": true,
       "metadata": {
        "isDbfsCommandResult": false
       },
       "overflow": false,
       "plotOptions": {
        "customPlotOptions": {},
        "displayType": "table",
        "pivotAggregation": null,
        "pivotColumns": null,
        "xColumns": null,
        "yColumns": null
       },
       "removedWidgets": [],
       "schema": [
        {
         "metadata": "{}",
         "name": "team_name",
         "type": "\"string\""
        },
        {
         "metadata": "{}",
         "name": "total_races",
         "type": "\"long\""
        },
        {
         "metadata": "{}",
         "name": "total_points",
         "type": "\"long\""
        },
        {
         "metadata": "{}",
         "name": "avg_points",
         "type": "\"double\""
        }
       ],
       "type": "table"
      }
     },
     "output_type": "display_data"
    }
   ],
   "source": [
    "SELECT team_name,\n",
    "COUNT(1) AS total_races,\n",
    "SUM(calculated_points) AS total_points,\n",
    "avg(calculated_points) AS avg_points\n",
    "FROM f1_presentation.calculated_race_results\n",
    "WHERE race_year BETWEEN 2001 AND 2010\n",
    "GROUP BY team_name\n",
    "HAVING total_races > 100\n",
    "ORDER BY avg_points DESC"
   ]
  },
  {
   "cell_type": "code",
   "execution_count": 0,
   "metadata": {
    "application/vnd.databricks.v1+cell": {
     "cellMetadata": {},
     "inputWidgets": {},
     "nuid": "a63a7acd-87e8-45da-8b7f-de2cacbe21d4",
     "showTitle": false,
     "tableResultSettingsMap": {},
     "title": ""
    }
   },
   "outputs": [],
   "source": []
  }
 ],
 "metadata": {
  "application/vnd.databricks.v1+notebook": {
   "computePreferences": null,
   "dashboards": [],
   "environmentMetadata": {
    "base_environment": "",
    "environment_version": "2"
   },
   "inputWidgetPreferences": null,
   "language": "sql",
   "notebookMetadata": {},
   "notebookName": "2.find_dominant_teams",
   "widgets": {}
  },
  "language_info": {
   "name": "sql"
  }
 },
 "nbformat": 4,
 "nbformat_minor": 0
}
