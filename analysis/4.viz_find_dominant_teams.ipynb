{
 "cells": [
  {
   "cell_type": "code",
   "execution_count": 0,
   "metadata": {
    "application/vnd.databricks.v1+cell": {
     "cellMetadata": {
      "byteLimit": 2048000,
      "rowLimit": 10000
     },
     "inputWidgets": {},
     "nuid": "871ea480-9f02-418f-8487-11f54ed045be",
     "showTitle": false,
     "tableResultSettingsMap": {},
     "title": ""
    }
   },
   "outputs": [
    {
     "output_type": "display_data",
     "data": {
      "text/html": [
       "<h1 style =\"color:Black;text-align:center;font-family:arial\">Report on Dominant Formula 1 Teams</h1>"
      ]
     },
     "metadata": {
      "application/vnd.databricks.v1+output": {
       "addedWidgets": {},
       "arguments": {},
       "data": "<h1 style =\"color:Black;text-align:center;font-family:arial\">Report on Dominant Formula 1 Teams</h1>",
       "datasetInfos": [],
       "metadata": {},
       "removedWidgets": [],
       "textData": null,
       "type": "htmlSandbox"
      }
     },
     "output_type": "display_data"
    }
   ],
   "source": [
    "%python\n",
    "html = \"\"\"<h1 style =\"color:Black;text-align:center;font-family:arial\">Report on Dominant Formula 1 Teams</h1>\"\"\"\n",
    "displayHTML(html)"
   ]
  },
  {
   "cell_type": "code",
   "execution_count": 0,
   "metadata": {
    "application/vnd.databricks.v1+cell": {
     "cellMetadata": {
      "byteLimit": 2048000,
      "rowLimit": 10000
     },
     "inputWidgets": {},
     "nuid": "9e75ab3b-f2be-43d3-9cfd-cb1b8385942f",
     "showTitle": false,
     "tableResultSettingsMap": {},
     "title": ""
    }
   },
   "outputs": [
    {
     "output_type": "display_data",
     "data": {
      "text/html": [
       "<style scoped>\n",
       "  .table-result-container {\n",
       "    max-height: 300px;\n",
       "    overflow: auto;\n",
       "  }\n",
       "  table, th, td {\n",
       "    border: 1px solid black;\n",
       "    border-collapse: collapse;\n",
       "  }\n",
       "  th, td {\n",
       "    padding: 5px;\n",
       "  }\n",
       "  th {\n",
       "    text-align: left;\n",
       "  }\n",
       "</style><div class='table-result-container'><table class='table-result'><thead style='background-color: white'><tr></tr></thead><tbody></tbody></table></div>"
      ]
     },
     "metadata": {
      "application/vnd.databricks.v1+output": {
       "addedWidgets": {},
       "aggData": [],
       "aggError": "",
       "aggOverflow": false,
       "aggSchema": [],
       "aggSeriesLimitReached": false,
       "aggType": "",
       "arguments": {},
       "columnCustomDisplayInfos": {},
       "data": [],
       "datasetInfos": [],
       "dbfsResultPath": null,
       "isJsonSchema": true,
       "metadata": {
        "isDbfsCommandResult": false
       },
       "overflow": false,
       "plotOptions": {
        "customPlotOptions": {},
        "displayType": "table",
        "pivotAggregation": null,
        "pivotColumns": null,
        "xColumns": null,
        "yColumns": null
       },
       "removedWidgets": [],
       "schema": [],
       "type": "table"
      }
     },
     "output_type": "display_data"
    }
   ],
   "source": [
    "CREATE OR REPLACE TEMP VIEW v_dominant_teams\n",
    "AS\n",
    "SELECT team_name,\n",
    "    COUNT(1) AS total_races,\n",
    "    SUM(calculated_points) AS total_points,\n",
    "    avg(calculated_points) AS avg_points,\n",
    "    rank() OVER (ORDER BY avg(calculated_points) DESC) AS team_rank\n",
    "FROM f1_presentation.calculated_race_results\n",
    "GROUP BY team_name\n",
    "HAVING total_races > 100\n",
    "ORDER BY avg_points DESC"
   ]
  },
  {
   "cell_type": "code",
   "execution_count": 0,
   "metadata": {
    "application/vnd.databricks.v1+cell": {
     "cellMetadata": {
      "byteLimit": 2048000,
      "rowLimit": 10000
     },
     "inputWidgets": {},
     "nuid": "7b67136f-9457-422c-8979-efbb5a74e0c1",
     "showTitle": false,
     "tableResultSettingsMap": {},
     "title": ""
    }
   },
   "outputs": [
    {
     "output_type": "display_data",
     "data": {
      "text/html": [
       "<style scoped>\n",
       "  .table-result-container {\n",
       "    max-height: 300px;\n",
       "    overflow: auto;\n",
       "  }\n",
       "  table, th, td {\n",
       "    border: 1px solid black;\n",
       "    border-collapse: collapse;\n",
       "  }\n",
       "  th, td {\n",
       "    padding: 5px;\n",
       "  }\n",
       "  th {\n",
       "    text-align: left;\n",
       "  }\n",
       "</style><div class='table-result-container'><table class='table-result'><thead style='background-color: white'><tr><th>team_name</th><th>total_races</th><th>total_points</th><th>avg_points</th><th>team_rank</th></tr></thead><tbody><tr><td>Mercedes</td><td>538</td><td>3946</td><td>7.33457249070632</td><td>1</td></tr><tr><td>Ferrari</td><td>1627</td><td>11477</td><td>7.054087277197295</td><td>2</td></tr><tr><td>Red Bull</td><td>587</td><td>4072</td><td>6.936967632027257</td><td>3</td></tr><tr><td>McLaren</td><td>1162</td><td>7589</td><td>6.530981067125645</td><td>4</td></tr><tr><td>Williams</td><td>771</td><td>4824</td><td>6.256809338521401</td><td>5</td></tr><tr><td>Benetton</td><td>296</td><td>1806</td><td>6.101351351351352</td><td>6</td></tr><tr><td>Team Lotus</td><td>352</td><td>2100</td><td>5.965909090909091</td><td>7</td></tr><tr><td>Cooper-Climax</td><td>130</td><td>772</td><td>5.938461538461539</td><td>8</td></tr><tr><td>Brabham</td><td>235</td><td>1373</td><td>5.842553191489362</td><td>9</td></tr><tr><td>BRM</td><td>215</td><td>1212</td><td>5.637209302325582</td><td>10</td></tr><tr><td>Renault</td><td>385</td><td>2106</td><td>5.47012987012987</td><td>11</td></tr><tr><td>Maserati</td><td>179</td><td>950</td><td>5.307262569832402</td><td>12</td></tr><tr><td>Tyrrell</td><td>339</td><td>1749</td><td>5.15929203539823</td><td>13</td></tr><tr><td>Jordan</td><td>184</td><td>882</td><td>4.793478260869565</td><td>14</td></tr><tr><td>Ligier</td><td>248</td><td>1134</td><td>4.57258064516129</td><td>15</td></tr><tr><td>BAR</td><td>112</td><td>509</td><td>4.544642857142857</td><td>16</td></tr><tr><td>Alfa Romeo</td><td>124</td><td>556</td><td>4.483870967741935</td><td>17</td></tr><tr><td>Toyota</td><td>130</td><td>535</td><td>4.115384615384615</td><td>18</td></tr><tr><td>March</td><td>136</td><td>550</td><td>4.044117647058823</td><td>19</td></tr><tr><td>Arrows</td><td>196</td><td>730</td><td>3.7244897959183674</td><td>20</td></tr><tr><td>Sauber</td><td>299</td><td>1061</td><td>3.548494983277592</td><td>21</td></tr><tr><td>Force India</td><td>211</td><td>744</td><td>3.5260663507109005</td><td>22</td></tr><tr><td>Minardi</td><td>113</td><td>330</td><td>2.920353982300885</td><td>23</td></tr><tr><td>Toro Rosso</td><td>158</td><td>438</td><td>2.7721518987341773</td><td>24</td></tr></tbody></table></div>"
      ]
     },
     "metadata": {
      "application/vnd.databricks.v1+output": {
       "addedWidgets": {},
       "aggData": [],
       "aggError": "",
       "aggOverflow": false,
       "aggSchema": [],
       "aggSeriesLimitReached": false,
       "aggType": "",
       "arguments": {},
       "columnCustomDisplayInfos": {},
       "data": [
        [
         "Mercedes",
         538,
         3946,
         7.33457249070632,
         1
        ],
        [
         "Ferrari",
         1627,
         11477,
         7.054087277197295,
         2
        ],
        [
         "Red Bull",
         587,
         4072,
         6.936967632027257,
         3
        ],
        [
         "McLaren",
         1162,
         7589,
         6.530981067125645,
         4
        ],
        [
         "Williams",
         771,
         4824,
         6.256809338521401,
         5
        ],
        [
         "Benetton",
         296,
         1806,
         6.101351351351352,
         6
        ],
        [
         "Team Lotus",
         352,
         2100,
         5.965909090909091,
         7
        ],
        [
         "Cooper-Climax",
         130,
         772,
         5.938461538461539,
         8
        ],
        [
         "Brabham",
         235,
         1373,
         5.842553191489362,
         9
        ],
        [
         "BRM",
         215,
         1212,
         5.637209302325582,
         10
        ],
        [
         "Renault",
         385,
         2106,
         5.47012987012987,
         11
        ],
        [
         "Maserati",
         179,
         950,
         5.307262569832402,
         12
        ],
        [
         "Tyrrell",
         339,
         1749,
         5.15929203539823,
         13
        ],
        [
         "Jordan",
         184,
         882,
         4.793478260869565,
         14
        ],
        [
         "Ligier",
         248,
         1134,
         4.57258064516129,
         15
        ],
        [
         "BAR",
         112,
         509,
         4.544642857142857,
         16
        ],
        [
         "Alfa Romeo",
         124,
         556,
         4.483870967741935,
         17
        ],
        [
         "Toyota",
         130,
         535,
         4.115384615384615,
         18
        ],
        [
         "March",
         136,
         550,
         4.044117647058823,
         19
        ],
        [
         "Arrows",
         196,
         730,
         3.7244897959183674,
         20
        ],
        [
         "Sauber",
         299,
         1061,
         3.548494983277592,
         21
        ],
        [
         "Force India",
         211,
         744,
         3.5260663507109005,
         22
        ],
        [
         "Minardi",
         113,
         330,
         2.920353982300885,
         23
        ],
        [
         "Toro Rosso",
         158,
         438,
         2.7721518987341773,
         24
        ]
       ],
       "datasetInfos": [],
       "dbfsResultPath": null,
       "isJsonSchema": true,
       "metadata": {
        "isDbfsCommandResult": false
       },
       "overflow": false,
       "plotOptions": {
        "customPlotOptions": {},
        "displayType": "table",
        "pivotAggregation": null,
        "pivotColumns": null,
        "xColumns": null,
        "yColumns": null
       },
       "removedWidgets": [],
       "schema": [
        {
         "metadata": "{}",
         "name": "team_name",
         "type": "\"string\""
        },
        {
         "metadata": "{}",
         "name": "total_races",
         "type": "\"long\""
        },
        {
         "metadata": "{}",
         "name": "total_points",
         "type": "\"long\""
        },
        {
         "metadata": "{}",
         "name": "avg_points",
         "type": "\"double\""
        },
        {
         "metadata": "{}",
         "name": "team_rank",
         "type": "\"integer\""
        }
       ],
       "type": "table"
      }
     },
     "output_type": "display_data"
    }
   ],
   "source": [
    "SELECT * FROM v_dominant_teams"
   ]
  },
  {
   "cell_type": "code",
   "execution_count": 0,
   "metadata": {
    "application/vnd.databricks.v1+cell": {
     "cellMetadata": {
      "byteLimit": 2048000,
      "rowLimit": 10000
     },
     "inputWidgets": {},
     "nuid": "c9925b69-82e2-4883-9469-f98a8046d078",
     "showTitle": false,
     "tableResultSettingsMap": {},
     "title": ""
    }
   },
   "outputs": [
    {
     "output_type": "display_data",
     "data": {
      "text/html": [
       "<style scoped>\n",
       "  .table-result-container {\n",
       "    max-height: 300px;\n",
       "    overflow: auto;\n",
       "  }\n",
       "  table, th, td {\n",
       "    border: 1px solid black;\n",
       "    border-collapse: collapse;\n",
       "  }\n",
       "  th, td {\n",
       "    padding: 5px;\n",
       "  }\n",
       "  th {\n",
       "    text-align: left;\n",
       "  }\n",
       "</style><div class='table-result-container'><table class='table-result'><thead style='background-color: white'><tr><th>race_year</th><th>team_name</th><th>total_races</th><th>total_points</th><th>avg_points</th></tr></thead><tbody><tr><td>1950</td><td>Ferrari</td><td>8</td><td>57</td><td>7.125</td></tr><tr><td>1951</td><td>Ferrari</td><td>22</td><td>168</td><td>7.636363636363637</td></tr><tr><td>1952</td><td>Ferrari</td><td>28</td><td>202</td><td>7.214285714285714</td></tr><tr><td>1953</td><td>Ferrari</td><td>35</td><td>230</td><td>6.571428571428571</td></tr><tr><td>1954</td><td>Mercedes</td><td>12</td><td>96</td><td>8.0</td></tr><tr><td>1954</td><td>Ferrari</td><td>25</td><td>175</td><td>7.0</td></tr><tr><td>1955</td><td>Mercedes</td><td>15</td><td>124</td><td>8.266666666666667</td></tr><tr><td>1955</td><td>Ferrari</td><td>21</td><td>131</td><td>6.238095238095238</td></tr><tr><td>1956</td><td>Ferrari</td><td>23</td><td>172</td><td>7.478260869565218</td></tr><tr><td>1957</td><td>Ferrari</td><td>20</td><td>130</td><td>6.5</td></tr><tr><td>1958</td><td>Ferrari</td><td>21</td><td>159</td><td>7.571428571428571</td></tr><tr><td>1959</td><td>Ferrari</td><td>19</td><td>132</td><td>6.947368421052632</td></tr><tr><td>1960</td><td>Ferrari</td><td>17</td><td>102</td><td>6.0</td></tr><tr><td>1961</td><td>Ferrari</td><td>19</td><td>152</td><td>8.0</td></tr><tr><td>1962</td><td>Ferrari</td><td>12</td><td>73</td><td>6.083333333333333</td></tr><tr><td>1963</td><td>Ferrari</td><td>8</td><td>53</td><td>6.625</td></tr><tr><td>1964</td><td>Ferrari</td><td>15</td><td>105</td><td>7.0</td></tr><tr><td>1965</td><td>Ferrari</td><td>16</td><td>86</td><td>5.375</td></tr><tr><td>1966</td><td>Ferrari</td><td>8</td><td>65</td><td>8.125</td></tr><tr><td>1967</td><td>Ferrari</td><td>11</td><td>64</td><td>5.818181818181818</td></tr><tr><td>1968</td><td>Ferrari</td><td>10</td><td>70</td><td>7.0</td></tr><tr><td>1969</td><td>Ferrari</td><td>4</td><td>23</td><td>5.75</td></tr><tr><td>1970</td><td>Ferrari</td><td>15</td><td>119</td><td>7.933333333333334</td></tr><tr><td>1971</td><td>Ferrari</td><td>11</td><td>79</td><td>7.181818181818182</td></tr><tr><td>1971</td><td>McLaren</td><td>11</td><td>46</td><td>4.181818181818182</td></tr><tr><td>1972</td><td>McLaren</td><td>20</td><td>136</td><td>6.8</td></tr><tr><td>1972</td><td>Ferrari</td><td>15</td><td>99</td><td>6.6</td></tr><tr><td>1973</td><td>McLaren</td><td>24</td><td>147</td><td>6.125</td></tr><tr><td>1973</td><td>Ferrari</td><td>11</td><td>54</td><td>4.909090909090909</td></tr><tr><td>1974</td><td>Ferrari</td><td>17</td><td>142</td><td>8.352941176470589</td></tr><tr><td>1974</td><td>McLaren</td><td>31</td><td>187</td><td>6.032258064516129</td></tr><tr><td>1975</td><td>Ferrari</td><td>20</td><td>150</td><td>7.5</td></tr><tr><td>1975</td><td>McLaren</td><td>18</td><td>127</td><td>7.055555555555555</td></tr><tr><td>1975</td><td>Williams</td><td>2</td><td>13</td><td>6.5</td></tr><tr><td>1976</td><td>McLaren</td><td>20</td><td>147</td><td>7.35</td></tr><tr><td>1976</td><td>Ferrari</td><td>22</td><td>159</td><td>7.2272727272727275</td></tr><tr><td>1976</td><td>Williams</td><td>1</td><td>2</td><td>2.0</td></tr><tr><td>1977</td><td>Ferrari</td><td>24</td><td>189</td><td>7.875</td></tr><tr><td>1977</td><td>McLaren</td><td>20</td><td>124</td><td>6.2</td></tr><tr><td>1978</td><td>Ferrari</td><td>20</td><td>119</td><td>5.95</td></tr><tr><td>1978</td><td>Williams</td><td>7</td><td>32</td><td>4.571428571428571</td></tr><tr><td>1978</td><td>McLaren</td><td>21</td><td>86</td><td>4.095238095238095</td></tr><tr><td>1979</td><td>Ferrari</td><td>24</td><td>183</td><td>7.625</td></tr><tr><td>1979</td><td>Williams</td><td>17</td><td>117</td><td>6.882352941176471</td></tr><tr><td>1979</td><td>McLaren</td><td>13</td><td>55</td><td>4.230769230769231</td></tr><tr><td>1980</td><td>Williams</td><td>22</td><td>182</td><td>8.272727272727273</td></tr><tr><td>1980</td><td>McLaren</td><td>10</td><td>50</td><td>5.0</td></tr><tr><td>1980</td><td>Ferrari</td><td>12</td><td>47</td><td>3.9166666666666665</td></tr><tr><td>1981</td><td>Williams</td><td>21</td><td>154</td><td>7.333333333333333</td></tr><tr><td>1981</td><td>Ferrari</td><td>13</td><td>72</td><td>5.538461538461538</td></tr><tr><td>1981</td><td>McLaren</td><td>13</td><td>70</td><td>5.384615384615385</td></tr><tr><td>1982</td><td>Ferrari</td><td>16</td><td>122</td><td>7.625</td></tr><tr><td>1982</td><td>McLaren</td><td>17</td><td>118</td><td>6.9411764705882355</td></tr><tr><td>1982</td><td>Williams</td><td>20</td><td>128</td><td>6.4</td></tr><tr><td>1983</td><td>Ferrari</td><td>20</td><td>148</td><td>7.4</td></tr><tr><td>1983</td><td>McLaren</td><td>12</td><td>74</td><td>6.166666666666667</td></tr><tr><td>1983</td><td>Williams</td><td>16</td><td>94</td><td>5.875</td></tr><tr><td>1984</td><td>McLaren</td><td>21</td><td>191</td><td>9.095238095238095</td></tr><tr><td>1984</td><td>Ferrari</td><td>18</td><td>123</td><td>6.833333333333333</td></tr><tr><td>1984</td><td>Williams</td><td>10</td><td>60</td><td>6.0</td></tr><tr><td>1985</td><td>McLaren</td><td>16</td><td>134</td><td>8.375</td></tr><tr><td>1985</td><td>Ferrari</td><td>20</td><td>147</td><td>7.35</td></tr><tr><td>1985</td><td>Williams</td><td>17</td><td>123</td><td>7.235294117647059</td></tr><tr><td>1986</td><td>Williams</td><td>24</td><td>205</td><td>8.541666666666666</td></tr><tr><td>1986</td><td>McLaren</td><td>21</td><td>161</td><td>7.666666666666667</td></tr><tr><td>1986</td><td>Ferrari</td><td>15</td><td>88</td><td>5.866666666666666</td></tr><tr><td>1987</td><td>Williams</td><td>22</td><td>189</td><td>8.590909090909092</td></tr><tr><td>1987</td><td>Ferrari</td><td>12</td><td>92</td><td>7.666666666666667</td></tr><tr><td>1987</td><td>McLaren</td><td>22</td><td>149</td><td>6.7727272727272725</td></tr><tr><td>1988</td><td>McLaren</td><td>28</td><td>253</td><td>9.035714285714286</td></tr><tr><td>1988</td><td>Ferrari</td><td>18</td><td>129</td><td>7.166666666666667</td></tr><tr><td>1988</td><td>Williams</td><td>10</td><td>57</td><td>5.7</td></tr><tr><td>1989</td><td>Ferrari</td><td>9</td><td>82</td><td>9.11111111111111</td></tr><tr><td>1989</td><td>McLaren</td><td>21</td><td>188</td><td>8.952380952380953</td></tr><tr><td>1989</td><td>Williams</td><td>19</td><td>137</td><td>7.2105263157894735</td></tr><tr><td>1990</td><td>Ferrari</td><td>19</td><td>163</td><td>8.578947368421053</td></tr><tr><td>1990</td><td>McLaren</td><td>22</td><td>187</td><td>8.5</td></tr><tr><td>1990</td><td>Williams</td><td>21</td><td>130</td><td>6.190476190476191</td></tr><tr><td>1991</td><td>Williams</td><td>21</td><td>179</td><td>8.523809523809524</td></tr><tr><td>1991</td><td>McLaren</td><td>24</td><td>204</td><td>8.5</td></tr><tr><td>1991</td><td>Ferrari</td><td>16</td><td>117</td><td>7.3125</td></tr><tr><td>1992</td><td>Williams</td><td>23</td><td>206</td><td>8.956521739130435</td></tr><tr><td>1992</td><td>McLaren</td><td>19</td><td>150</td><td>7.894736842105263</td></tr><tr><td>1992</td><td>Ferrari</td><td>10</td><td>56</td><td>5.6</td></tr><tr><td>1993</td><td>Williams</td><td>24</td><td>217</td><td>9.041666666666666</td></tr><tr><td>1993</td><td>McLaren</td><td>17</td><td>128</td><td>7.529411764705882</td></tr><tr><td>1993</td><td>Ferrari</td><td>14</td><td>77</td><td>5.5</td></tr><tr><td>1994</td><td>Williams</td><td>20</td><td>163</td><td>8.15</td></tr><tr><td>1994</td><td>Ferrari</td><td>17</td><td>127</td><td>7.470588235294118</td></tr><tr><td>1994</td><td>McLaren</td><td>13</td><td>91</td><td>7.0</td></tr><tr><td>1995</td><td>Williams</td><td>19</td><td>167</td><td>8.789473684210526</td></tr><tr><td>1995</td><td>Ferrari</td><td>18</td><td>137</td><td>7.611111111111111</td></tr><tr><td>1995</td><td>McLaren</td><td>17</td><td>85</td><td>5.0</td></tr><tr><td>1996</td><td>Williams</td><td>24</td><td>216</td><td>9.0</td></tr><tr><td>1996</td><td>Ferrari</td><td>16</td><td>117</td><td>7.3125</td></tr><tr><td>1996</td><td>McLaren</td><td>21</td><td>129</td><td>6.142857142857143</td></tr><tr><td>1997</td><td>Williams</td><td>23</td><td>177</td><td>7.695652173913044</td></tr><tr><td>1997</td><td>Ferrari</td><td>22</td><td>160</td><td>7.2727272727272725</td></tr><tr><td>1997</td><td>McLaren</td><td>19</td><td>117</td><td>6.157894736842105</td></tr><tr><td>1998</td><td>McLaren</td><td>25</td><td>212</td><td>8.48</td></tr><tr><td>1998</td><td>Ferrari</td><td>26</td><td>203</td><td>7.8076923076923075</td></tr><tr><td>1998</td><td>Williams</td><td>24</td><td>125</td><td>5.208333333333333</td></tr><tr><td>1999</td><td>McLaren</td><td>20</td><td>170</td><td>8.5</td></tr><tr><td>1999</td><td>Ferrari</td><td>27</td><td>203</td><td>7.518518518518518</td></tr><tr><td>1999</td><td>Williams</td><td>16</td><td>91</td><td>5.6875</td></tr><tr><td>2000</td><td>Ferrari</td><td>26</td><td>228</td><td>8.76923076923077</td></tr><tr><td>2000</td><td>McLaren</td><td>28</td><td>236</td><td>8.428571428571429</td></tr><tr><td>2000</td><td>Williams</td><td>18</td><td>102</td><td>5.666666666666667</td></tr><tr><td>2001</td><td>Ferrari</td><td>28</td><td>245</td><td>8.75</td></tr><tr><td>2001</td><td>Williams</td><td>16</td><td>123</td><td>7.6875</td></tr><tr><td>2001</td><td>McLaren</td><td>23</td><td>173</td><td>7.521739130434782</td></tr><tr><td>2002</td><td>Ferrari</td><td>29</td><td>267</td><td>9.206896551724139</td></tr><tr><td>2002</td><td>Williams</td><td>24</td><td>178</td><td>7.416666666666667</td></tr><tr><td>2002</td><td>McLaren</td><td>19</td><td>132</td><td>6.947368421052632</td></tr><tr><td>2003</td><td>McLaren</td><td>23</td><td>176</td><td>7.6521739130434785</td></tr><tr><td>2003</td><td>Ferrari</td><td>26</td><td>193</td><td>7.423076923076923</td></tr><tr><td>2003</td><td>Williams</td><td>25</td><td>180</td><td>7.2</td></tr><tr><td>2004</td><td>Ferrari</td><td>32</td><td>287</td><td>8.96875</td></tr><tr><td>2004</td><td>Williams</td><td>24</td><td>130</td><td>5.416666666666667</td></tr><tr><td>2004</td><td>McLaren</td><td>21</td><td>106</td><td>5.0476190476190474</td></tr><tr><td>2005</td><td>McLaren</td><td>27</td><td>212</td><td>7.851851851851852</td></tr><tr><td>2005</td><td>Williams</td><td>17</td><td>97</td><td>5.705882352941177</td></tr><tr><td>2005</td><td>Ferrari</td><td>27</td><td>143</td><td>5.296296296296297</td></tr><tr><td>2005</td><td>Red Bull</td><td>22</td><td>77</td><td>3.5</td></tr><tr><td>2006</td><td>Ferrari</td><td>32</td><td>240</td><td>7.5</td></tr><tr><td>2006</td><td>McLaren</td><td>22</td><td>150</td><td>6.818181818181818</td></tr><tr><td>2006</td><td>Red Bull</td><td>10</td><td>35</td><td>3.5</td></tr><tr><td>2006</td><td>Williams</td><td>11</td><td>30</td><td>2.727272727272727</td></tr><tr><td>2007</td><td>Ferrari</td><td>29</td><td>238</td><td>8.206896551724139</td></tr><tr><td>2007</td><td>McLaren</td><td>32</td><td>257</td><td>8.03125</td></tr><tr><td>2007</td><td>Williams</td><td>16</td><td>61</td><td>3.8125</td></tr><tr><td>2007</td><td>Red Bull</td><td>14</td><td>49</td><td>3.5</td></tr><tr><td>2008</td><td>Ferrari</td><td>27</td><td>206</td><td>7.62962962962963</td></tr><tr><td>2008</td><td>McLaren</td><td>29</td><td>191</td><td>6.586206896551724</td></tr><tr><td>2008</td><td>Williams</td><td>13</td><td>49</td><td>3.769230769230769</td></tr><tr><td>2008</td><td>Red Bull</td><td>18</td><td>63</td><td>3.5</td></tr><tr><td>2009</td><td>Red Bull</td><td>24</td><td>185</td><td>7.708333333333333</td></tr><tr><td>2009</td><td>McLaren</td><td>17</td><td>101</td><td>5.9411764705882355</td></tr><tr><td>2009</td><td>Ferrari</td><td>19</td><td>103</td><td>5.421052631578948</td></tr><tr><td>2009</td><td>Williams</td><td>16</td><td>66</td><td>4.125</td></tr><tr><td>2010</td><td>Red Bull</td><td>32</td><td>241</td><td>7.53125</td></tr><tr><td>2010</td><td>McLaren</td><td>31</td><td>231</td><td>7.451612903225806</td></tr><tr><td>2010</td><td>Ferrari</td><td>30</td><td>203</td><td>6.766666666666667</td></tr><tr><td>2010</td><td>Mercedes</td><td>27</td><td>131</td><td>4.851851851851852</td></tr><tr><td>2010</td><td>Williams</td><td>17</td><td>48</td><td>2.823529411764706</td></tr><tr><td>2011</td><td>Red Bull</td><td>36</td><td>308</td><td>8.555555555555555</td></tr><tr><td>2011</td><td>McLaren</td><td>33</td><td>251</td><td>7.606060606060606</td></tr><tr><td>2011</td><td>Ferrari</td><td>33</td><td>210</td><td>6.363636363636363</td></tr><tr><td>2011</td><td>Mercedes</td><td>25</td><td>107</td><td>4.28</td></tr><tr><td>2011</td><td>Williams</td><td>3</td><td>5</td><td>1.6666666666666667</td></tr><tr><td>2012</td><td>Red Bull</td><td>32</td><td>232</td><td>7.25</td></tr><tr><td>2012</td><td>McLaren</td><td>28</td><td>187</td><td>6.678571428571429</td></tr><tr><td>2012</td><td>Ferrari</td><td>32</td><td>212</td><td>6.625</td></tr><tr><td>2012</td><td>Mercedes</td><td>18</td><td>82</td><td>4.555555555555555</td></tr><tr><td>2012</td><td>Williams</td><td>15</td><td>47</td><td>3.1333333333333333</td></tr><tr><td>2013</td><td>Red Bull</td><td>33</td><td>277</td><td>8.393939393939394</td></tr><tr><td>2013</td><td>Ferrari</td><td>32</td><td>195</td><td>6.09375</td></tr><tr><td>2013</td><td>Mercedes</td><td>33</td><td>199</td><td>6.03030303030303</td></tr><tr><td>2013</td><td>McLaren</td><td>25</td><td>84</td><td>3.36</td></tr><tr><td>2013</td><td>Williams</td><td>2</td><td>4</td><td>2.0</td></tr><tr><td>2014</td><td>Mercedes</td><td>32</td><td>300</td><td>9.375</td></tr><tr><td>2014</td><td>Red Bull</td><td>32</td><td>211</td><td>6.59375</td></tr><tr><td>2014</td><td>Williams</td><td>28</td><td>165</td><td>5.892857142857143</td></tr><tr><td>2014</td><td>Ferrari</td><td>30</td><td>133</td><td>4.433333333333334</td></tr><tr><td>2014</td><td>McLaren</td><td>25</td><td>107</td><td>4.28</td></tr><tr><td>2015</td><td>Mercedes</td><td>35</td><td>316</td><td>9.028571428571428</td></tr><tr><td>2015</td><td>Ferrari</td><td>31</td><td>226</td><td>7.290322580645161</td></tr><tr><td>2015</td><td>Williams</td><td>26</td><td>152</td><td>5.846153846153846</td></tr><tr><td>2015</td><td>Red Bull</td><td>27</td><td>115</td><td>4.2592592592592595</td></tr><tr><td>2015</td><td>McLaren</td><td>6</td><td>19</td><td>3.1666666666666665</td></tr><tr><td>2016</td><td>Mercedes</td><td>39</td><td>344</td><td>8.820512820512821</td></tr><tr><td>2016</td><td>Red Bull</td><td>36</td><td>252</td><td>7.0</td></tr><tr><td>2016</td><td>Ferrari</td><td>34</td><td>225</td><td>6.617647058823529</td></tr><tr><td>2016</td><td>Williams</td><td>28</td><td>94</td><td>3.357142857142857</td></tr><tr><td>2016</td><td>McLaren</td><td>17</td><td>53</td><td>3.1176470588235294</td></tr><tr><td>2017</td><td>Mercedes</td><td>39</td><td>319</td><td>8.179487179487179</td></tr><tr><td>2017</td><td>Ferrari</td><td>34</td><td>266</td><td>7.823529411764706</td></tr><tr><td>2017</td><td>Red Bull</td><td>27</td><td>194</td><td>7.185185185185185</td></tr><tr><td>2017</td><td>Williams</td><td>20</td><td>59</td><td>2.95</td></tr><tr><td>2017</td><td>McLaren</td><td>8</td><td>22</td><td>2.75</td></tr><tr><td>2018</td><td>Mercedes</td><td>39</td><td>316</td><td>8.102564102564102</td></tr><tr><td>2018</td><td>Ferrari</td><td>37</td><td>289</td><td>7.8108108108108105</td></tr><tr><td>2018</td><td>Red Bull</td><td>30</td><td>219</td><td>7.3</td></tr><tr><td>2018</td><td>McLaren</td><td>13</td><td>44</td><td>3.3846153846153846</td></tr><tr><td>2018</td><td>Williams</td><td>3</td><td>6</td><td>2.0</td></tr><tr><td>2019</td><td>Mercedes</td><td>40</td><td>339</td><td>8.475</td></tr><tr><td>2019</td><td>Ferrari</td><td>34</td><td>261</td><td>7.676470588235294</td></tr><tr><td>2019</td><td>Red Bull</td><td>36</td><td>227</td><td>6.305555555555555</td></tr><tr><td>2019</td><td>McLaren</td><td>24</td><td>95</td><td>3.9583333333333335</td></tr><tr><td>2019</td><td>Williams</td><td>1</td><td>1</td><td>1.0</td></tr><tr><td>2020</td><td>Mercedes</td><td>31</td><td>258</td><td>8.32258064516129</td></tr><tr><td>2020</td><td>Red Bull</td><td>24</td><td>166</td><td>6.916666666666667</td></tr><tr><td>2020</td><td>McLaren</td><td>25</td><td>122</td><td>4.88</td></tr><tr><td>2020</td><td>Ferrari</td><td>17</td><td>78</td><td>4.588235294117647</td></tr><tr><td>2021</td><td>Mercedes</td><td>35</td><td>291</td><td>8.314285714285715</td></tr><tr><td>2021</td><td>Red Bull</td><td>35</td><td>279</td><td>7.9714285714285715</td></tr><tr><td>2021</td><td>Ferrari</td><td>38</td><td>196</td><td>5.157894736842105</td></tr><tr><td>2021</td><td>McLaren</td><td>33</td><td>164</td><td>4.96969696969697</td></tr><tr><td>2021</td><td>Williams</td><td>6</td><td>21</td><td>3.5</td></tr><tr><td>2022</td><td>Red Bull</td><td>39</td><td>328</td><td>8.41025641025641</td></tr><tr><td>2022</td><td>Ferrari</td><td>35</td><td>266</td><td>7.6</td></tr><tr><td>2022</td><td>Mercedes</td><td>39</td><td>269</td><td>6.897435897435898</td></tr><tr><td>2022</td><td>McLaren</td><td>24</td><td>97</td><td>4.041666666666667</td></tr><tr><td>2022</td><td>Williams</td><td>5</td><td>8</td><td>1.6</td></tr><tr><td>2023</td><td>Red Bull</td><td>41</td><td>349</td><td>8.512195121951219</td></tr><tr><td>2023</td><td>Ferrari</td><td>34</td><td>206</td><td>6.0588235294117645</td></tr><tr><td>2023</td><td>Mercedes</td><td>37</td><td>216</td><td>5.837837837837838</td></tr><tr><td>2023</td><td>McLaren</td><td>27</td><td>150</td><td>5.555555555555555</td></tr><tr><td>2023</td><td>Williams</td><td>8</td><td>20</td><td>2.5</td></tr><tr><td>2024</td><td>Ferrari</td><td>42</td><td>309</td><td>7.357142857142857</td></tr><tr><td>2024</td><td>McLaren</td><td>46</td><td>313</td><td>6.804347826086956</td></tr><tr><td>2024</td><td>Red Bull</td><td>39</td><td>265</td><td>6.794871794871795</td></tr><tr><td>2024</td><td>Mercedes</td><td>42</td><td>239</td><td>5.690476190476191</td></tr><tr><td>2024</td><td>Williams</td><td>6</td><td>14</td><td>2.3333333333333335</td></tr></tbody></table></div>"
      ]
     },
     "metadata": {
      "application/vnd.databricks.v1+output": {
       "addedWidgets": {},
       "aggData": [],
       "aggError": "",
       "aggOverflow": false,
       "aggSchema": [],
       "aggSeriesLimitReached": false,
       "aggType": "",
       "arguments": {},
       "columnCustomDisplayInfos": {},
       "data": [
        [
         1950,
         "Ferrari",
         8,
         57,
         7.125
        ],
        [
         1951,
         "Ferrari",
         22,
         168,
         7.636363636363637
        ],
        [
         1952,
         "Ferrari",
         28,
         202,
         7.214285714285714
        ],
        [
         1953,
         "Ferrari",
         35,
         230,
         6.571428571428571
        ],
        [
         1954,
         "Mercedes",
         12,
         96,
         8.0
        ],
        [
         1954,
         "Ferrari",
         25,
         175,
         7.0
        ],
        [
         1955,
         "Mercedes",
         15,
         124,
         8.266666666666667
        ],
        [
         1955,
         "Ferrari",
         21,
         131,
         6.238095238095238
        ],
        [
         1956,
         "Ferrari",
         23,
         172,
         7.478260869565218
        ],
        [
         1957,
         "Ferrari",
         20,
         130,
         6.5
        ],
        [
         1958,
         "Ferrari",
         21,
         159,
         7.571428571428571
        ],
        [
         1959,
         "Ferrari",
         19,
         132,
         6.947368421052632
        ],
        [
         1960,
         "Ferrari",
         17,
         102,
         6.0
        ],
        [
         1961,
         "Ferrari",
         19,
         152,
         8.0
        ],
        [
         1962,
         "Ferrari",
         12,
         73,
         6.083333333333333
        ],
        [
         1963,
         "Ferrari",
         8,
         53,
         6.625
        ],
        [
         1964,
         "Ferrari",
         15,
         105,
         7.0
        ],
        [
         1965,
         "Ferrari",
         16,
         86,
         5.375
        ],
        [
         1966,
         "Ferrari",
         8,
         65,
         8.125
        ],
        [
         1967,
         "Ferrari",
         11,
         64,
         5.818181818181818
        ],
        [
         1968,
         "Ferrari",
         10,
         70,
         7.0
        ],
        [
         1969,
         "Ferrari",
         4,
         23,
         5.75
        ],
        [
         1970,
         "Ferrari",
         15,
         119,
         7.933333333333334
        ],
        [
         1971,
         "Ferrari",
         11,
         79,
         7.181818181818182
        ],
        [
         1971,
         "McLaren",
         11,
         46,
         4.181818181818182
        ],
        [
         1972,
         "McLaren",
         20,
         136,
         6.8
        ],
        [
         1972,
         "Ferrari",
         15,
         99,
         6.6
        ],
        [
         1973,
         "McLaren",
         24,
         147,
         6.125
        ],
        [
         1973,
         "Ferrari",
         11,
         54,
         4.909090909090909
        ],
        [
         1974,
         "Ferrari",
         17,
         142,
         8.352941176470589
        ],
        [
         1974,
         "McLaren",
         31,
         187,
         6.032258064516129
        ],
        [
         1975,
         "Ferrari",
         20,
         150,
         7.5
        ],
        [
         1975,
         "McLaren",
         18,
         127,
         7.055555555555555
        ],
        [
         1975,
         "Williams",
         2,
         13,
         6.5
        ],
        [
         1976,
         "McLaren",
         20,
         147,
         7.35
        ],
        [
         1976,
         "Ferrari",
         22,
         159,
         7.2272727272727275
        ],
        [
         1976,
         "Williams",
         1,
         2,
         2.0
        ],
        [
         1977,
         "Ferrari",
         24,
         189,
         7.875
        ],
        [
         1977,
         "McLaren",
         20,
         124,
         6.2
        ],
        [
         1978,
         "Ferrari",
         20,
         119,
         5.95
        ],
        [
         1978,
         "Williams",
         7,
         32,
         4.571428571428571
        ],
        [
         1978,
         "McLaren",
         21,
         86,
         4.095238095238095
        ],
        [
         1979,
         "Ferrari",
         24,
         183,
         7.625
        ],
        [
         1979,
         "Williams",
         17,
         117,
         6.882352941176471
        ],
        [
         1979,
         "McLaren",
         13,
         55,
         4.230769230769231
        ],
        [
         1980,
         "Williams",
         22,
         182,
         8.272727272727273
        ],
        [
         1980,
         "McLaren",
         10,
         50,
         5.0
        ],
        [
         1980,
         "Ferrari",
         12,
         47,
         3.9166666666666665
        ],
        [
         1981,
         "Williams",
         21,
         154,
         7.333333333333333
        ],
        [
         1981,
         "Ferrari",
         13,
         72,
         5.538461538461538
        ],
        [
         1981,
         "McLaren",
         13,
         70,
         5.384615384615385
        ],
        [
         1982,
         "Ferrari",
         16,
         122,
         7.625
        ],
        [
         1982,
         "McLaren",
         17,
         118,
         6.9411764705882355
        ],
        [
         1982,
         "Williams",
         20,
         128,
         6.4
        ],
        [
         1983,
         "Ferrari",
         20,
         148,
         7.4
        ],
        [
         1983,
         "McLaren",
         12,
         74,
         6.166666666666667
        ],
        [
         1983,
         "Williams",
         16,
         94,
         5.875
        ],
        [
         1984,
         "McLaren",
         21,
         191,
         9.095238095238095
        ],
        [
         1984,
         "Ferrari",
         18,
         123,
         6.833333333333333
        ],
        [
         1984,
         "Williams",
         10,
         60,
         6.0
        ],
        [
         1985,
         "McLaren",
         16,
         134,
         8.375
        ],
        [
         1985,
         "Ferrari",
         20,
         147,
         7.35
        ],
        [
         1985,
         "Williams",
         17,
         123,
         7.235294117647059
        ],
        [
         1986,
         "Williams",
         24,
         205,
         8.541666666666666
        ],
        [
         1986,
         "McLaren",
         21,
         161,
         7.666666666666667
        ],
        [
         1986,
         "Ferrari",
         15,
         88,
         5.866666666666666
        ],
        [
         1987,
         "Williams",
         22,
         189,
         8.590909090909092
        ],
        [
         1987,
         "Ferrari",
         12,
         92,
         7.666666666666667
        ],
        [
         1987,
         "McLaren",
         22,
         149,
         6.7727272727272725
        ],
        [
         1988,
         "McLaren",
         28,
         253,
         9.035714285714286
        ],
        [
         1988,
         "Ferrari",
         18,
         129,
         7.166666666666667
        ],
        [
         1988,
         "Williams",
         10,
         57,
         5.7
        ],
        [
         1989,
         "Ferrari",
         9,
         82,
         9.11111111111111
        ],
        [
         1989,
         "McLaren",
         21,
         188,
         8.952380952380953
        ],
        [
         1989,
         "Williams",
         19,
         137,
         7.2105263157894735
        ],
        [
         1990,
         "Ferrari",
         19,
         163,
         8.578947368421053
        ],
        [
         1990,
         "McLaren",
         22,
         187,
         8.5
        ],
        [
         1990,
         "Williams",
         21,
         130,
         6.190476190476191
        ],
        [
         1991,
         "Williams",
         21,
         179,
         8.523809523809524
        ],
        [
         1991,
         "McLaren",
         24,
         204,
         8.5
        ],
        [
         1991,
         "Ferrari",
         16,
         117,
         7.3125
        ],
        [
         1992,
         "Williams",
         23,
         206,
         8.956521739130435
        ],
        [
         1992,
         "McLaren",
         19,
         150,
         7.894736842105263
        ],
        [
         1992,
         "Ferrari",
         10,
         56,
         5.6
        ],
        [
         1993,
         "Williams",
         24,
         217,
         9.041666666666666
        ],
        [
         1993,
         "McLaren",
         17,
         128,
         7.529411764705882
        ],
        [
         1993,
         "Ferrari",
         14,
         77,
         5.5
        ],
        [
         1994,
         "Williams",
         20,
         163,
         8.15
        ],
        [
         1994,
         "Ferrari",
         17,
         127,
         7.470588235294118
        ],
        [
         1994,
         "McLaren",
         13,
         91,
         7.0
        ],
        [
         1995,
         "Williams",
         19,
         167,
         8.789473684210526
        ],
        [
         1995,
         "Ferrari",
         18,
         137,
         7.611111111111111
        ],
        [
         1995,
         "McLaren",
         17,
         85,
         5.0
        ],
        [
         1996,
         "Williams",
         24,
         216,
         9.0
        ],
        [
         1996,
         "Ferrari",
         16,
         117,
         7.3125
        ],
        [
         1996,
         "McLaren",
         21,
         129,
         6.142857142857143
        ],
        [
         1997,
         "Williams",
         23,
         177,
         7.695652173913044
        ],
        [
         1997,
         "Ferrari",
         22,
         160,
         7.2727272727272725
        ],
        [
         1997,
         "McLaren",
         19,
         117,
         6.157894736842105
        ],
        [
         1998,
         "McLaren",
         25,
         212,
         8.48
        ],
        [
         1998,
         "Ferrari",
         26,
         203,
         7.8076923076923075
        ],
        [
         1998,
         "Williams",
         24,
         125,
         5.208333333333333
        ],
        [
         1999,
         "McLaren",
         20,
         170,
         8.5
        ],
        [
         1999,
         "Ferrari",
         27,
         203,
         7.518518518518518
        ],
        [
         1999,
         "Williams",
         16,
         91,
         5.6875
        ],
        [
         2000,
         "Ferrari",
         26,
         228,
         8.76923076923077
        ],
        [
         2000,
         "McLaren",
         28,
         236,
         8.428571428571429
        ],
        [
         2000,
         "Williams",
         18,
         102,
         5.666666666666667
        ],
        [
         2001,
         "Ferrari",
         28,
         245,
         8.75
        ],
        [
         2001,
         "Williams",
         16,
         123,
         7.6875
        ],
        [
         2001,
         "McLaren",
         23,
         173,
         7.521739130434782
        ],
        [
         2002,
         "Ferrari",
         29,
         267,
         9.206896551724139
        ],
        [
         2002,
         "Williams",
         24,
         178,
         7.416666666666667
        ],
        [
         2002,
         "McLaren",
         19,
         132,
         6.947368421052632
        ],
        [
         2003,
         "McLaren",
         23,
         176,
         7.6521739130434785
        ],
        [
         2003,
         "Ferrari",
         26,
         193,
         7.423076923076923
        ],
        [
         2003,
         "Williams",
         25,
         180,
         7.2
        ],
        [
         2004,
         "Ferrari",
         32,
         287,
         8.96875
        ],
        [
         2004,
         "Williams",
         24,
         130,
         5.416666666666667
        ],
        [
         2004,
         "McLaren",
         21,
         106,
         5.0476190476190474
        ],
        [
         2005,
         "McLaren",
         27,
         212,
         7.851851851851852
        ],
        [
         2005,
         "Williams",
         17,
         97,
         5.705882352941177
        ],
        [
         2005,
         "Ferrari",
         27,
         143,
         5.296296296296297
        ],
        [
         2005,
         "Red Bull",
         22,
         77,
         3.5
        ],
        [
         2006,
         "Ferrari",
         32,
         240,
         7.5
        ],
        [
         2006,
         "McLaren",
         22,
         150,
         6.818181818181818
        ],
        [
         2006,
         "Red Bull",
         10,
         35,
         3.5
        ],
        [
         2006,
         "Williams",
         11,
         30,
         2.727272727272727
        ],
        [
         2007,
         "Ferrari",
         29,
         238,
         8.206896551724139
        ],
        [
         2007,
         "McLaren",
         32,
         257,
         8.03125
        ],
        [
         2007,
         "Williams",
         16,
         61,
         3.8125
        ],
        [
         2007,
         "Red Bull",
         14,
         49,
         3.5
        ],
        [
         2008,
         "Ferrari",
         27,
         206,
         7.62962962962963
        ],
        [
         2008,
         "McLaren",
         29,
         191,
         6.586206896551724
        ],
        [
         2008,
         "Williams",
         13,
         49,
         3.769230769230769
        ],
        [
         2008,
         "Red Bull",
         18,
         63,
         3.5
        ],
        [
         2009,
         "Red Bull",
         24,
         185,
         7.708333333333333
        ],
        [
         2009,
         "McLaren",
         17,
         101,
         5.9411764705882355
        ],
        [
         2009,
         "Ferrari",
         19,
         103,
         5.421052631578948
        ],
        [
         2009,
         "Williams",
         16,
         66,
         4.125
        ],
        [
         2010,
         "Red Bull",
         32,
         241,
         7.53125
        ],
        [
         2010,
         "McLaren",
         31,
         231,
         7.451612903225806
        ],
        [
         2010,
         "Ferrari",
         30,
         203,
         6.766666666666667
        ],
        [
         2010,
         "Mercedes",
         27,
         131,
         4.851851851851852
        ],
        [
         2010,
         "Williams",
         17,
         48,
         2.823529411764706
        ],
        [
         2011,
         "Red Bull",
         36,
         308,
         8.555555555555555
        ],
        [
         2011,
         "McLaren",
         33,
         251,
         7.606060606060606
        ],
        [
         2011,
         "Ferrari",
         33,
         210,
         6.363636363636363
        ],
        [
         2011,
         "Mercedes",
         25,
         107,
         4.28
        ],
        [
         2011,
         "Williams",
         3,
         5,
         1.6666666666666667
        ],
        [
         2012,
         "Red Bull",
         32,
         232,
         7.25
        ],
        [
         2012,
         "McLaren",
         28,
         187,
         6.678571428571429
        ],
        [
         2012,
         "Ferrari",
         32,
         212,
         6.625
        ],
        [
         2012,
         "Mercedes",
         18,
         82,
         4.555555555555555
        ],
        [
         2012,
         "Williams",
         15,
         47,
         3.1333333333333333
        ],
        [
         2013,
         "Red Bull",
         33,
         277,
         8.393939393939394
        ],
        [
         2013,
         "Ferrari",
         32,
         195,
         6.09375
        ],
        [
         2013,
         "Mercedes",
         33,
         199,
         6.03030303030303
        ],
        [
         2013,
         "McLaren",
         25,
         84,
         3.36
        ],
        [
         2013,
         "Williams",
         2,
         4,
         2.0
        ],
        [
         2014,
         "Mercedes",
         32,
         300,
         9.375
        ],
        [
         2014,
         "Red Bull",
         32,
         211,
         6.59375
        ],
        [
         2014,
         "Williams",
         28,
         165,
         5.892857142857143
        ],
        [
         2014,
         "Ferrari",
         30,
         133,
         4.433333333333334
        ],
        [
         2014,
         "McLaren",
         25,
         107,
         4.28
        ],
        [
         2015,
         "Mercedes",
         35,
         316,
         9.028571428571428
        ],
        [
         2015,
         "Ferrari",
         31,
         226,
         7.290322580645161
        ],
        [
         2015,
         "Williams",
         26,
         152,
         5.846153846153846
        ],
        [
         2015,
         "Red Bull",
         27,
         115,
         4.2592592592592595
        ],
        [
         2015,
         "McLaren",
         6,
         19,
         3.1666666666666665
        ],
        [
         2016,
         "Mercedes",
         39,
         344,
         8.820512820512821
        ],
        [
         2016,
         "Red Bull",
         36,
         252,
         7.0
        ],
        [
         2016,
         "Ferrari",
         34,
         225,
         6.617647058823529
        ],
        [
         2016,
         "Williams",
         28,
         94,
         3.357142857142857
        ],
        [
         2016,
         "McLaren",
         17,
         53,
         3.1176470588235294
        ],
        [
         2017,
         "Mercedes",
         39,
         319,
         8.179487179487179
        ],
        [
         2017,
         "Ferrari",
         34,
         266,
         7.823529411764706
        ],
        [
         2017,
         "Red Bull",
         27,
         194,
         7.185185185185185
        ],
        [
         2017,
         "Williams",
         20,
         59,
         2.95
        ],
        [
         2017,
         "McLaren",
         8,
         22,
         2.75
        ],
        [
         2018,
         "Mercedes",
         39,
         316,
         8.102564102564102
        ],
        [
         2018,
         "Ferrari",
         37,
         289,
         7.8108108108108105
        ],
        [
         2018,
         "Red Bull",
         30,
         219,
         7.3
        ],
        [
         2018,
         "McLaren",
         13,
         44,
         3.3846153846153846
        ],
        [
         2018,
         "Williams",
         3,
         6,
         2.0
        ],
        [
         2019,
         "Mercedes",
         40,
         339,
         8.475
        ],
        [
         2019,
         "Ferrari",
         34,
         261,
         7.676470588235294
        ],
        [
         2019,
         "Red Bull",
         36,
         227,
         6.305555555555555
        ],
        [
         2019,
         "McLaren",
         24,
         95,
         3.9583333333333335
        ],
        [
         2019,
         "Williams",
         1,
         1,
         1.0
        ],
        [
         2020,
         "Mercedes",
         31,
         258,
         8.32258064516129
        ],
        [
         2020,
         "Red Bull",
         24,
         166,
         6.916666666666667
        ],
        [
         2020,
         "McLaren",
         25,
         122,
         4.88
        ],
        [
         2020,
         "Ferrari",
         17,
         78,
         4.588235294117647
        ],
        [
         2021,
         "Mercedes",
         35,
         291,
         8.314285714285715
        ],
        [
         2021,
         "Red Bull",
         35,
         279,
         7.9714285714285715
        ],
        [
         2021,
         "Ferrari",
         38,
         196,
         5.157894736842105
        ],
        [
         2021,
         "McLaren",
         33,
         164,
         4.96969696969697
        ],
        [
         2021,
         "Williams",
         6,
         21,
         3.5
        ],
        [
         2022,
         "Red Bull",
         39,
         328,
         8.41025641025641
        ],
        [
         2022,
         "Ferrari",
         35,
         266,
         7.6
        ],
        [
         2022,
         "Mercedes",
         39,
         269,
         6.897435897435898
        ],
        [
         2022,
         "McLaren",
         24,
         97,
         4.041666666666667
        ],
        [
         2022,
         "Williams",
         5,
         8,
         1.6
        ],
        [
         2023,
         "Red Bull",
         41,
         349,
         8.512195121951219
        ],
        [
         2023,
         "Ferrari",
         34,
         206,
         6.0588235294117645
        ],
        [
         2023,
         "Mercedes",
         37,
         216,
         5.837837837837838
        ],
        [
         2023,
         "McLaren",
         27,
         150,
         5.555555555555555
        ],
        [
         2023,
         "Williams",
         8,
         20,
         2.5
        ],
        [
         2024,
         "Ferrari",
         42,
         309,
         7.357142857142857
        ],
        [
         2024,
         "McLaren",
         46,
         313,
         6.804347826086956
        ],
        [
         2024,
         "Red Bull",
         39,
         265,
         6.794871794871795
        ],
        [
         2024,
         "Mercedes",
         42,
         239,
         5.690476190476191
        ],
        [
         2024,
         "Williams",
         6,
         14,
         2.3333333333333335
        ]
       ],
       "datasetInfos": [],
       "dbfsResultPath": null,
       "isJsonSchema": true,
       "metadata": {
        "isDbfsCommandResult": false
       },
       "overflow": false,
       "plotOptions": {
        "customPlotOptions": {},
        "displayType": "table",
        "pivotAggregation": null,
        "pivotColumns": null,
        "xColumns": null,
        "yColumns": null
       },
       "removedWidgets": [],
       "schema": [
        {
         "metadata": "{}",
         "name": "race_year",
         "type": "\"integer\""
        },
        {
         "metadata": "{}",
         "name": "team_name",
         "type": "\"string\""
        },
        {
         "metadata": "{}",
         "name": "total_races",
         "type": "\"long\""
        },
        {
         "metadata": "{}",
         "name": "total_points",
         "type": "\"long\""
        },
        {
         "metadata": "{}",
         "name": "avg_points",
         "type": "\"double\""
        }
       ],
       "type": "table"
      }
     },
     "output_type": "display_data"
    },
    {
     "output_type": "display_data",
     "data": {
      "text/plain": [
       "Databricks visualization. Run in Databricks to view."
      ]
     },
     "metadata": {
      "application/vnd.databricks.v1.subcommand+json": {
       "baseErrorDetails": null,
       "bindings": {},
       "collapsed": false,
       "command": "%sql WITH q AS (SELECT race_year,\n    driver_name,\n    COUNT(1) AS total_races,\n    SUM(calculated_points) AS total_points,\n    avg(calculated_points) AS avg_points\nFROM f1_presentation.calculated_race_results\nWHERE driver_name IN (SELECT driver_name FROM v_dominant_drivers WHERE driver_rank <= 10)\nGROUP BY race_year, driver_name\nORDER BY race_year, avg_points DESC) SELECT `race_year`,SUM(`avg_points`) `column_8361ac3b99`,`driver_name` FROM q GROUP BY `driver_name`,`race_year`",
       "commandTitle": "Visualization 1",
       "commandType": "auto",
       "commandVersion": 0,
       "commentThread": [],
       "commentsVisible": false,
       "contentSha256Hex": null,
       "customPlotOptions": {
        "redashChart": [
         {
          "key": "type",
          "value": "CHART"
         },
         {
          "key": "options",
          "value": {
           "alignYAxesAtZero": true,
           "coefficient": 1,
           "columnConfigurationMap": {
            "series": {
             "column": "team_name",
             "id": "column_9a8049c714"
            },
            "x": {
             "column": "race_year",
             "id": "column_8361ac3b97"
            },
            "y": [
             {
              "column": "avg_points",
              "id": "column_8361ac3b99",
              "transform": "AVG"
             }
            ]
           },
           "dateTimeFormat": "DD/MM/YYYY HH:mm",
           "direction": {
            "type": "counterclockwise"
           },
           "error_y": {
            "type": "data",
            "visible": true
           },
           "globalSeriesType": "line",
           "isAggregationOn": true,
           "legend": {
            "traceorder": "normal"
           },
           "missingValuesAsZero": true,
           "numberFormat": "0,0.[00000]",
           "percentFormat": "0[.]00%",
           "series": {
            "error_y": {
             "type": "data",
             "visible": true
            },
            "stacking": null
           },
           "seriesOptions": {
            "column_8361ac3b99": {
             "type": "line",
             "yAxis": 0
            }
           },
           "showDataLabels": false,
           "sizemode": "diameter",
           "sortX": true,
           "sortY": true,
           "swappedAxes": false,
           "textFormat": "",
           "useAggregationsUi": true,
           "valuesOptions": {},
           "version": 2,
           "xAxis": {
            "labels": {
             "enabled": true
            },
            "type": "-"
           },
           "yAxis": [
            {
             "type": "-"
            },
            {
             "opposite": true,
             "type": "-"
            }
           ]
          }
         }
        ]
       },
       "datasetPreviewNameToCmdIdMap": {},
       "diffDeletes": [],
       "diffInserts": [],
       "displayType": "redashChart",
       "error": null,
       "errorDetails": null,
       "errorSummary": null,
       "errorTraceType": null,
       "finishTime": 0,
       "globalVars": {},
       "guid": "",
       "height": "auto",
       "hideCommandCode": false,
       "hideCommandResult": false,
       "iPythonMetadata": null,
       "inputWidgets": {},
       "isLockedInExamMode": false,
       "latestUser": "a user",
       "latestUserId": null,
       "listResultMetadata": null,
       "metadata": {},
       "nuid": "1c499d8f-38cb-4a2f-90c4-1bc8f969bc4e",
       "origId": 0,
       "parentHierarchy": [],
       "pivotAggregation": null,
       "pivotColumns": null,
       "position": 3.0,
       "resultDbfsErrorMessage": null,
       "resultDbfsStatus": "INLINED_IN_TREE",
       "results": null,
       "showCommandTitle": false,
       "startTime": 0,
       "state": "input",
       "streamStates": {},
       "subcommandOptions": {
        "queryPlan": {
         "groups": [
          {
           "column": "race_year",
           "type": "column"
          },
          {
           "column": "team_name",
           "type": "column"
          }
         ],
         "selects": [
          {
           "column": "race_year",
           "type": "column"
          },
          {
           "alias": "column_8361ac3b99",
           "args": [
            {
             "column": "avg_points",
             "type": "column"
            }
           ],
           "function": "AVG",
           "type": "function"
          },
          {
           "column": "team_name",
           "type": "column"
          }
         ]
        }
       },
       "submitTime": 0,
       "subtype": "tableResultSubCmd.visualization",
       "tableResultIndex": 0,
       "tableResultSettingsMap": {},
       "useConsistentColors": false,
       "version": "CommandV1",
       "width": "auto",
       "workflows": [],
       "xColumns": null,
       "yColumns": null
      }
     },
     "output_type": "display_data"
    }
   ],
   "source": [
    "SELECT race_year,\n",
    "    team_name,\n",
    "    COUNT(1) AS total_races,\n",
    "    SUM(calculated_points) AS total_points,\n",
    "    avg(calculated_points) AS avg_points\n",
    "FROM f1_presentation.calculated_race_results\n",
    "WHERE team_name IN (SELECT team_name FROM v_dominant_teams WHERE team_rank <= 5)\n",
    "GROUP BY race_year, team_name\n",
    "ORDER BY race_year, avg_points DESC"
   ]
  },
  {
   "cell_type": "code",
   "execution_count": 0,
   "metadata": {
    "application/vnd.databricks.v1+cell": {
     "cellMetadata": {
      "byteLimit": 2048000,
      "rowLimit": 10000
     },
     "inputWidgets": {},
     "nuid": "e2dd222e-c4ac-488d-9afb-3e1c36497be7",
     "showTitle": false,
     "tableResultSettingsMap": {},
     "title": ""
    }
   },
   "outputs": [
    {
     "output_type": "display_data",
     "data": {
      "text/html": [
       "<style scoped>\n",
       "  .table-result-container {\n",
       "    max-height: 300px;\n",
       "    overflow: auto;\n",
       "  }\n",
       "  table, th, td {\n",
       "    border: 1px solid black;\n",
       "    border-collapse: collapse;\n",
       "  }\n",
       "  th, td {\n",
       "    padding: 5px;\n",
       "  }\n",
       "  th {\n",
       "    text-align: left;\n",
       "  }\n",
       "</style><div class='table-result-container'><table class='table-result'><thead style='background-color: white'><tr><th>race_year</th><th>team_name</th><th>total_races</th><th>total_points</th><th>avg_points</th></tr></thead><tbody><tr><td>1950</td><td>Ferrari</td><td>8</td><td>57</td><td>7.125</td></tr><tr><td>1951</td><td>Ferrari</td><td>22</td><td>168</td><td>7.636363636363637</td></tr><tr><td>1951</td><td>BRM</td><td>2</td><td>10</td><td>5.0</td></tr><tr><td>1952</td><td>Ferrari</td><td>28</td><td>202</td><td>7.214285714285714</td></tr><tr><td>1953</td><td>Ferrari</td><td>35</td><td>230</td><td>6.571428571428571</td></tr><tr><td>1954</td><td>Mercedes</td><td>12</td><td>96</td><td>8.0</td></tr><tr><td>1954</td><td>Ferrari</td><td>25</td><td>175</td><td>7.0</td></tr><tr><td>1955</td><td>Mercedes</td><td>15</td><td>124</td><td>8.266666666666667</td></tr><tr><td>1955</td><td>Ferrari</td><td>21</td><td>131</td><td>6.238095238095238</td></tr><tr><td>1956</td><td>Ferrari</td><td>23</td><td>172</td><td>7.478260869565218</td></tr><tr><td>1957</td><td>Ferrari</td><td>20</td><td>130</td><td>6.5</td></tr><tr><td>1958</td><td>Ferrari</td><td>21</td><td>159</td><td>7.571428571428571</td></tr><tr><td>1958</td><td>BRM</td><td>9</td><td>60</td><td>6.666666666666667</td></tr><tr><td>1958</td><td>Team Lotus</td><td>7</td><td>28</td><td>4.0</td></tr><tr><td>1959</td><td>Cooper-Climax</td><td>22</td><td>165</td><td>7.5</td></tr><tr><td>1959</td><td>Ferrari</td><td>19</td><td>132</td><td>6.947368421052632</td></tr><tr><td>1959</td><td>BRM</td><td>11</td><td>62</td><td>5.636363636363637</td></tr><tr><td>1959</td><td>Team Lotus</td><td>5</td><td>22</td><td>4.4</td></tr><tr><td>1960</td><td>Cooper-Climax</td><td>32</td><td>213</td><td>6.65625</td></tr><tr><td>1960</td><td>Team Lotus</td><td>17</td><td>109</td><td>6.411764705882353</td></tr><tr><td>1960</td><td>Ferrari</td><td>17</td><td>102</td><td>6.0</td></tr><tr><td>1960</td><td>BRM</td><td>6</td><td>29</td><td>4.833333333333333</td></tr><tr><td>1961</td><td>Ferrari</td><td>19</td><td>152</td><td>8.0</td></tr><tr><td>1961</td><td>BRM</td><td>7</td><td>32</td><td>4.571428571428571</td></tr><tr><td>1961</td><td>Cooper-Climax</td><td>21</td><td>92</td><td>4.380952380952381</td></tr><tr><td>1962</td><td>BRM</td><td>14</td><td>98</td><td>7.0</td></tr><tr><td>1962</td><td>Brabham</td><td>2</td><td>14</td><td>7.0</td></tr><tr><td>1962</td><td>Ferrari</td><td>12</td><td>73</td><td>6.083333333333333</td></tr><tr><td>1962</td><td>Cooper-Climax</td><td>17</td><td>101</td><td>5.9411764705882355</td></tr><tr><td>1963</td><td>BRM</td><td>17</td><td>123</td><td>7.235294117647059</td></tr><tr><td>1963</td><td>Brabham</td><td>10</td><td>70</td><td>7.0</td></tr><tr><td>1963</td><td>Ferrari</td><td>8</td><td>53</td><td>6.625</td></tr><tr><td>1963</td><td>Cooper-Climax</td><td>18</td><td>97</td><td>5.388888888888889</td></tr><tr><td>1964</td><td>Ferrari</td><td>15</td><td>105</td><td>7.0</td></tr><tr><td>1964</td><td>BRM</td><td>23</td><td>144</td><td>6.260869565217392</td></tr><tr><td>1964</td><td>Cooper-Climax</td><td>11</td><td>53</td><td>4.818181818181818</td></tr><tr><td>1965</td><td>BRM</td><td>17</td><td>133</td><td>7.823529411764706</td></tr><tr><td>1965</td><td>Ferrari</td><td>16</td><td>86</td><td>5.375</td></tr><tr><td>1965</td><td>Cooper-Climax</td><td>8</td><td>42</td><td>5.25</td></tr><tr><td>1966</td><td>Ferrari</td><td>8</td><td>65</td><td>8.125</td></tr><tr><td>1966</td><td>BRM</td><td>10</td><td>68</td><td>6.8</td></tr><tr><td>1967</td><td>Cooper-Climax</td><td>1</td><td>9</td><td>9.0</td></tr><tr><td>1967</td><td>Ferrari</td><td>11</td><td>64</td><td>5.818181818181818</td></tr><tr><td>1967</td><td>BRM</td><td>13</td><td>66</td><td>5.076923076923077</td></tr><tr><td>1968</td><td>Ferrari</td><td>10</td><td>70</td><td>7.0</td></tr><tr><td>1968</td><td>BRM</td><td>12</td><td>72</td><td>6.0</td></tr><tr><td>1969</td><td>Ferrari</td><td>4</td><td>23</td><td>5.75</td></tr><tr><td>1969</td><td>BRM</td><td>5</td><td>25</td><td>5.0</td></tr><tr><td>1970</td><td>Ferrari</td><td>15</td><td>119</td><td>7.933333333333334</td></tr><tr><td>1970</td><td>Brabham</td><td>10</td><td>67</td><td>6.7</td></tr><tr><td>1970</td><td>Team Lotus</td><td>18</td><td>118</td><td>6.555555555555555</td></tr><tr><td>1970</td><td>BRM</td><td>11</td><td>57</td><td>5.181818181818182</td></tr><tr><td>1971</td><td>Ferrari</td><td>11</td><td>79</td><td>7.181818181818182</td></tr><tr><td>1971</td><td>BRM</td><td>19</td><td>90</td><td>4.7368421052631575</td></tr><tr><td>1971</td><td>McLaren</td><td>11</td><td>46</td><td>4.181818181818182</td></tr><tr><td>1971</td><td>Brabham</td><td>9</td><td>31</td><td>3.4444444444444446</td></tr><tr><td>1972</td><td>Team Lotus</td><td>11</td><td>80</td><td>7.2727272727272725</td></tr><tr><td>1972</td><td>McLaren</td><td>20</td><td>136</td><td>6.8</td></tr><tr><td>1972</td><td>Ferrari</td><td>15</td><td>99</td><td>6.6</td></tr><tr><td>1972</td><td>Brabham</td><td>13</td><td>48</td><td>3.6923076923076925</td></tr><tr><td>1972</td><td>BRM</td><td>13</td><td>46</td><td>3.5384615384615383</td></tr><tr><td>1973</td><td>Team Lotus</td><td>17</td><td>149</td><td>8.764705882352942</td></tr><tr><td>1973</td><td>McLaren</td><td>24</td><td>147</td><td>6.125</td></tr><tr><td>1973</td><td>Brabham</td><td>13</td><td>70</td><td>5.384615384615385</td></tr><tr><td>1973</td><td>Ferrari</td><td>11</td><td>54</td><td>4.909090909090909</td></tr><tr><td>1973</td><td>BRM</td><td>17</td><td>67</td><td>3.9411764705882355</td></tr><tr><td>1974</td><td>Ferrari</td><td>17</td><td>142</td><td>8.352941176470589</td></tr><tr><td>1974</td><td>Team Lotus</td><td>12</td><td>82</td><td>6.833333333333333</td></tr><tr><td>1974</td><td>McLaren</td><td>31</td><td>187</td><td>6.032258064516129</td></tr><tr><td>1974</td><td>Brabham</td><td>19</td><td>103</td><td>5.421052631578948</td></tr><tr><td>1974</td><td>BRM</td><td>8</td><td>28</td><td>3.5</td></tr><tr><td>1975</td><td>Ferrari</td><td>20</td><td>150</td><td>7.5</td></tr><tr><td>1975</td><td>Brabham</td><td>16</td><td>114</td><td>7.125</td></tr><tr><td>1975</td><td>McLaren</td><td>18</td><td>127</td><td>7.055555555555555</td></tr><tr><td>1975</td><td>Williams</td><td>2</td><td>13</td><td>6.5</td></tr><tr><td>1975</td><td>Team Lotus</td><td>10</td><td>40</td><td>4.0</td></tr><tr><td>1975</td><td>BRM</td><td>1</td><td>2</td><td>2.0</td></tr><tr><td>1976</td><td>McLaren</td><td>20</td><td>147</td><td>7.35</td></tr><tr><td>1976</td><td>Ferrari</td><td>22</td><td>159</td><td>7.2272727272727275</td></tr><tr><td>1976</td><td>Team Lotus</td><td>10</td><td>66</td><td>6.6</td></tr><tr><td>1976</td><td>Williams</td><td>1</td><td>2</td><td>2.0</td></tr><tr><td>1977</td><td>Ferrari</td><td>24</td><td>189</td><td>7.875</td></tr><tr><td>1977</td><td>Team Lotus</td><td>15</td><td>108</td><td>7.2</td></tr><tr><td>1977</td><td>McLaren</td><td>20</td><td>124</td><td>6.2</td></tr><tr><td>1977</td><td>Brabham</td><td>13</td><td>73</td><td>5.615384615384615</td></tr><tr><td>1978</td><td>Team Lotus</td><td>22</td><td>169</td><td>7.681818181818182</td></tr><tr><td>1978</td><td>Brabham</td><td>17</td><td>126</td><td>7.411764705882353</td></tr><tr><td>1978</td><td>Ferrari</td><td>20</td><td>119</td><td>5.95</td></tr><tr><td>1978</td><td>Williams</td><td>7</td><td>32</td><td>4.571428571428571</td></tr><tr><td>1978</td><td>McLaren</td><td>21</td><td>86</td><td>4.095238095238095</td></tr><tr><td>1979</td><td>Ferrari</td><td>24</td><td>183</td><td>7.625</td></tr><tr><td>1979</td><td>Williams</td><td>17</td><td>117</td><td>6.882352941176471</td></tr><tr><td>1979</td><td>Team Lotus</td><td>16</td><td>95</td><td>5.9375</td></tr><tr><td>1979</td><td>McLaren</td><td>13</td><td>55</td><td>4.230769230769231</td></tr><tr><td>1980</td><td>Williams</td><td>22</td><td>182</td><td>8.272727272727273</td></tr><tr><td>1980</td><td>Brabham</td><td>16</td><td>101</td><td>6.3125</td></tr><tr><td>1980</td><td>McLaren</td><td>10</td><td>50</td><td>5.0</td></tr><tr><td>1980</td><td>Team Lotus</td><td>11</td><td>48</td><td>4.363636363636363</td></tr><tr><td>1980</td><td>Ferrari</td><td>12</td><td>47</td><td>3.9166666666666665</td></tr><tr><td>1981</td><td>Williams</td><td>21</td><td>154</td><td>7.333333333333333</td></tr><tr><td>1981</td><td>Brabham</td><td>15</td><td>109</td><td>7.266666666666667</td></tr><tr><td>1981</td><td>Team Lotus</td><td>14</td><td>78</td><td>5.571428571428571</td></tr><tr><td>1981</td><td>Ferrari</td><td>13</td><td>72</td><td>5.538461538461538</td></tr><tr><td>1981</td><td>McLaren</td><td>13</td><td>70</td><td>5.384615384615385</td></tr><tr><td>1982</td><td>Brabham</td><td>8</td><td>65</td><td>8.125</td></tr><tr><td>1982</td><td>Ferrari</td><td>16</td><td>122</td><td>7.625</td></tr><tr><td>1982</td><td>McLaren</td><td>17</td><td>118</td><td>6.9411764705882355</td></tr><tr><td>1982</td><td>Williams</td><td>20</td><td>128</td><td>6.4</td></tr><tr><td>1982</td><td>Team Lotus</td><td>14</td><td>79</td><td>5.642857142857143</td></tr><tr><td>1983</td><td>Brabham</td><td>15</td><td>112</td><td>7.466666666666667</td></tr><tr><td>1983</td><td>Ferrari</td><td>20</td><td>148</td><td>7.4</td></tr><tr><td>1983</td><td>McLaren</td><td>12</td><td>74</td><td>6.166666666666667</td></tr><tr><td>1983</td><td>Williams</td><td>16</td><td>94</td><td>5.875</td></tr><tr><td>1983</td><td>Team Lotus</td><td>7</td><td>37</td><td>5.285714285714286</td></tr><tr><td>1984</td><td>McLaren</td><td>21</td><td>191</td><td>9.095238095238095</td></tr><tr><td>1984</td><td>Ferrari</td><td>18</td><td>123</td><td>6.833333333333333</td></tr><tr><td>1984</td><td>Team Lotus</td><td>17</td><td>115</td><td>6.764705882352941</td></tr><tr><td>1984</td><td>Williams</td><td>10</td><td>60</td><td>6.0</td></tr><tr><td>1984</td><td>Brabham</td><td>13</td><td>76</td><td>5.846153846153846</td></tr><tr><td>1985</td><td>McLaren</td><td>16</td><td>134</td><td>8.375</td></tr><tr><td>1985</td><td>Ferrari</td><td>20</td><td>147</td><td>7.35</td></tr><tr><td>1985</td><td>Williams</td><td>17</td><td>123</td><td>7.235294117647059</td></tr><tr><td>1985</td><td>Team Lotus</td><td>19</td><td>133</td><td>7.0</td></tr><tr><td>1985</td><td>Brabham</td><td>14</td><td>70</td><td>5.0</td></tr><tr><td>1986</td><td>Williams</td><td>24</td><td>205</td><td>8.541666666666666</td></tr><tr><td>1986</td><td>McLaren</td><td>21</td><td>161</td><td>7.666666666666667</td></tr><tr><td>1986</td><td>Team Lotus</td><td>16</td><td>108</td><td>6.75</td></tr><tr><td>1986</td><td>Ferrari</td><td>15</td><td>88</td><td>5.866666666666666</td></tr><tr><td>1986</td><td>Benetton</td><td>13</td><td>55</td><td>4.230769230769231</td></tr><tr><td>1986</td><td>Brabham</td><td>9</td><td>30</td><td>3.3333333333333335</td></tr><tr><td>1987</td><td>Williams</td><td>22</td><td>189</td><td>8.590909090909092</td></tr><tr><td>1987</td><td>Ferrari</td><td>12</td><td>92</td><td>7.666666666666667</td></tr><tr><td>1987</td><td>McLaren</td><td>22</td><td>149</td><td>6.7727272727272725</td></tr><tr><td>1987</td><td>Team Lotus</td><td>20</td><td>128</td><td>6.4</td></tr><tr><td>1987</td><td>Benetton</td><td>14</td><td>83</td><td>5.928571428571429</td></tr><tr><td>1987</td><td>Brabham</td><td>6</td><td>29</td><td>4.833333333333333</td></tr><tr><td>1988</td><td>McLaren</td><td>28</td><td>253</td><td>9.035714285714286</td></tr><tr><td>1988</td><td>Ferrari</td><td>18</td><td>129</td><td>7.166666666666667</td></tr><tr><td>1988</td><td>Williams</td><td>10</td><td>57</td><td>5.7</td></tr><tr><td>1988</td><td>Benetton</td><td>20</td><td>113</td><td>5.65</td></tr><tr><td>1988</td><td>Team Lotus</td><td>16</td><td>79</td><td>4.9375</td></tr><tr><td>1989</td><td>Ferrari</td><td>9</td><td>82</td><td>9.11111111111111</td></tr><tr><td>1989</td><td>McLaren</td><td>21</td><td>188</td><td>8.952380952380953</td></tr><tr><td>1989</td><td>Williams</td><td>19</td><td>137</td><td>7.2105263157894735</td></tr><tr><td>1989</td><td>Benetton</td><td>15</td><td>88</td><td>5.866666666666666</td></tr><tr><td>1989</td><td>Team Lotus</td><td>12</td><td>56</td><td>4.666666666666667</td></tr><tr><td>1989</td><td>Brabham</td><td>9</td><td>36</td><td>4.0</td></tr><tr><td>1990</td><td>Ferrari</td><td>19</td><td>163</td><td>8.578947368421053</td></tr><tr><td>1990</td><td>McLaren</td><td>22</td><td>187</td><td>8.5</td></tr><tr><td>1990</td><td>Benetton</td><td>23</td><td>150</td><td>6.521739130434782</td></tr><tr><td>1990</td><td>Williams</td><td>21</td><td>130</td><td>6.190476190476191</td></tr><tr><td>1990</td><td>Brabham</td><td>3</td><td>12</td><td>4.0</td></tr><tr><td>1990</td><td>Team Lotus</td><td>8</td><td>29</td><td>3.625</td></tr><tr><td>1991</td><td>Williams</td><td>21</td><td>179</td><td>8.523809523809524</td></tr><tr><td>1991</td><td>McLaren</td><td>24</td><td>204</td><td>8.5</td></tr><tr><td>1991</td><td>Ferrari</td><td>16</td><td>117</td><td>7.3125</td></tr><tr><td>1991</td><td>Benetton</td><td>19</td><td>109</td><td>5.7368421052631575</td></tr><tr><td>1991</td><td>Brabham</td><td>5</td><td>17</td><td>3.4</td></tr><tr><td>1991</td><td>Team Lotus</td><td>7</td><td>21</td><td>3.0</td></tr><tr><td>1992</td><td>Williams</td><td>23</td><td>206</td><td>8.956521739130435</td></tr><tr><td>1992</td><td>McLaren</td><td>19</td><td>150</td><td>7.894736842105263</td></tr><tr><td>1992</td><td>Benetton</td><td>23</td><td>175</td><td>7.608695652173913</td></tr><tr><td>1992</td><td>Ferrari</td><td>10</td><td>56</td><td>5.6</td></tr><tr><td>1992</td><td>Team Lotus</td><td>12</td><td>56</td><td>4.666666666666667</td></tr><tr><td>1993</td><td>Williams</td><td>24</td><td>217</td><td>9.041666666666666</td></tr><tr><td>1993</td><td>McLaren</td><td>17</td><td>128</td><td>7.529411764705882</td></tr><tr><td>1993</td><td>Benetton</td><td>18</td><td>130</td><td>7.222222222222222</td></tr><tr><td>1993</td><td>Ferrari</td><td>14</td><td>77</td><td>5.5</td></tr><tr><td>1993</td><td>Team Lotus</td><td>10</td><td>44</td><td>4.4</td></tr><tr><td>1994</td><td>Williams</td><td>20</td><td>163</td><td>8.15</td></tr><tr><td>1994</td><td>Benetton</td><td>17</td><td>134</td><td>7.882352941176471</td></tr><tr><td>1994</td><td>Ferrari</td><td>17</td><td>127</td><td>7.470588235294118</td></tr><tr><td>1994</td><td>McLaren</td><td>13</td><td>91</td><td>7.0</td></tr><tr><td>1994</td><td>Team Lotus</td><td>9</td><td>23</td><td>2.5555555555555554</td></tr><tr><td>1995</td><td>Williams</td><td>19</td><td>167</td><td>8.789473684210526</td></tr><tr><td>1995</td><td>Benetton</td><td>25</td><td>201</td><td>8.04</td></tr><tr><td>1995</td><td>Ferrari</td><td>18</td><td>137</td><td>7.611111111111111</td></tr><tr><td>1995</td><td>McLaren</td><td>17</td><td>85</td><td>5.0</td></tr><tr><td>1996</td><td>Williams</td><td>24</td><td>216</td><td>9.0</td></tr><tr><td>1996</td><td>Ferrari</td><td>16</td><td>117</td><td>7.3125</td></tr><tr><td>1996</td><td>Benetton</td><td>19</td><td>137</td><td>7.2105263157894735</td></tr><tr><td>1996</td><td>McLaren</td><td>21</td><td>129</td><td>6.142857142857143</td></tr><tr><td>1997</td><td>Williams</td><td>23</td><td>177</td><td>7.695652173913044</td></tr><tr><td>1997</td><td>Ferrari</td><td>22</td><td>160</td><td>7.2727272727272725</td></tr><tr><td>1997</td><td>McLaren</td><td>19</td><td>117</td><td>6.157894736842105</td></tr><tr><td>1997</td><td>Benetton</td><td>26</td><td>151</td><td>5.8076923076923075</td></tr><tr><td>1998</td><td>McLaren</td><td>25</td><td>212</td><td>8.48</td></tr><tr><td>1998</td><td>Ferrari</td><td>26</td><td>203</td><td>7.8076923076923075</td></tr><tr><td>1998</td><td>Williams</td><td>24</td><td>125</td><td>5.208333333333333</td></tr><tr><td>1998</td><td>Benetton</td><td>21</td><td>106</td><td>5.0476190476190474</td></tr><tr><td>1999</td><td>McLaren</td><td>20</td><td>170</td><td>8.5</td></tr><tr><td>1999</td><td>Ferrari</td><td>27</td><td>203</td><td>7.518518518518518</td></tr><tr><td>1999</td><td>Williams</td><td>16</td><td>91</td><td>5.6875</td></tr><tr><td>1999</td><td>Benetton</td><td>15</td><td>63</td><td>4.2</td></tr><tr><td>2000</td><td>Ferrari</td><td>26</td><td>228</td><td>8.76923076923077</td></tr><tr><td>2000</td><td>McLaren</td><td>28</td><td>236</td><td>8.428571428571429</td></tr><tr><td>2000</td><td>Williams</td><td>18</td><td>102</td><td>5.666666666666667</td></tr><tr><td>2000</td><td>Benetton</td><td>18</td><td>70</td><td>3.888888888888889</td></tr><tr><td>2001</td><td>Ferrari</td><td>28</td><td>245</td><td>8.75</td></tr><tr><td>2001</td><td>Williams</td><td>16</td><td>123</td><td>7.6875</td></tr><tr><td>2001</td><td>McLaren</td><td>23</td><td>173</td><td>7.521739130434782</td></tr><tr><td>2001</td><td>Benetton</td><td>10</td><td>41</td><td>4.1</td></tr><tr><td>2002</td><td>Ferrari</td><td>29</td><td>267</td><td>9.206896551724139</td></tr><tr><td>2002</td><td>Williams</td><td>24</td><td>178</td><td>7.416666666666667</td></tr><tr><td>2002</td><td>McLaren</td><td>19</td><td>132</td><td>6.947368421052632</td></tr><tr><td>2003</td><td>McLaren</td><td>23</td><td>176</td><td>7.6521739130434785</td></tr><tr><td>2003</td><td>Ferrari</td><td>26</td><td>193</td><td>7.423076923076923</td></tr><tr><td>2003</td><td>Williams</td><td>25</td><td>180</td><td>7.2</td></tr><tr><td>2004</td><td>Ferrari</td><td>32</td><td>287</td><td>8.96875</td></tr><tr><td>2004</td><td>Williams</td><td>24</td><td>130</td><td>5.416666666666667</td></tr><tr><td>2004</td><td>McLaren</td><td>21</td><td>106</td><td>5.0476190476190474</td></tr><tr><td>2005</td><td>McLaren</td><td>27</td><td>212</td><td>7.851851851851852</td></tr><tr><td>2005</td><td>Williams</td><td>17</td><td>97</td><td>5.705882352941177</td></tr><tr><td>2005</td><td>Ferrari</td><td>27</td><td>143</td><td>5.296296296296297</td></tr><tr><td>2005</td><td>Red Bull</td><td>22</td><td>77</td><td>3.5</td></tr><tr><td>2006</td><td>Ferrari</td><td>32</td><td>240</td><td>7.5</td></tr><tr><td>2006</td><td>McLaren</td><td>22</td><td>150</td><td>6.818181818181818</td></tr><tr><td>2006</td><td>Red Bull</td><td>10</td><td>35</td><td>3.5</td></tr><tr><td>2006</td><td>Williams</td><td>11</td><td>30</td><td>2.727272727272727</td></tr><tr><td>2007</td><td>Ferrari</td><td>29</td><td>238</td><td>8.206896551724139</td></tr><tr><td>2007</td><td>McLaren</td><td>32</td><td>257</td><td>8.03125</td></tr><tr><td>2007</td><td>Williams</td><td>16</td><td>61</td><td>3.8125</td></tr><tr><td>2007</td><td>Red Bull</td><td>14</td><td>49</td><td>3.5</td></tr><tr><td>2008</td><td>Ferrari</td><td>27</td><td>206</td><td>7.62962962962963</td></tr><tr><td>2008</td><td>McLaren</td><td>29</td><td>191</td><td>6.586206896551724</td></tr><tr><td>2008</td><td>Williams</td><td>13</td><td>49</td><td>3.769230769230769</td></tr><tr><td>2008</td><td>Red Bull</td><td>18</td><td>63</td><td>3.5</td></tr><tr><td>2009</td><td>Red Bull</td><td>24</td><td>185</td><td>7.708333333333333</td></tr><tr><td>2009</td><td>McLaren</td><td>17</td><td>101</td><td>5.9411764705882355</td></tr><tr><td>2009</td><td>Ferrari</td><td>19</td><td>103</td><td>5.421052631578948</td></tr><tr><td>2009</td><td>Williams</td><td>16</td><td>66</td><td>4.125</td></tr><tr><td>2010</td><td>Red Bull</td><td>32</td><td>241</td><td>7.53125</td></tr><tr><td>2010</td><td>McLaren</td><td>31</td><td>231</td><td>7.451612903225806</td></tr><tr><td>2010</td><td>Ferrari</td><td>30</td><td>203</td><td>6.766666666666667</td></tr><tr><td>2010</td><td>Mercedes</td><td>27</td><td>131</td><td>4.851851851851852</td></tr><tr><td>2010</td><td>Williams</td><td>17</td><td>48</td><td>2.823529411764706</td></tr><tr><td>2011</td><td>Red Bull</td><td>36</td><td>308</td><td>8.555555555555555</td></tr><tr><td>2011</td><td>McLaren</td><td>33</td><td>251</td><td>7.606060606060606</td></tr><tr><td>2011</td><td>Ferrari</td><td>33</td><td>210</td><td>6.363636363636363</td></tr><tr><td>2011</td><td>Mercedes</td><td>25</td><td>107</td><td>4.28</td></tr><tr><td>2011</td><td>Williams</td><td>3</td><td>5</td><td>1.6666666666666667</td></tr><tr><td>2012</td><td>Red Bull</td><td>32</td><td>232</td><td>7.25</td></tr><tr><td>2012</td><td>McLaren</td><td>28</td><td>187</td><td>6.678571428571429</td></tr><tr><td>2012</td><td>Ferrari</td><td>32</td><td>212</td><td>6.625</td></tr><tr><td>2012</td><td>Mercedes</td><td>18</td><td>82</td><td>4.555555555555555</td></tr><tr><td>2012</td><td>Williams</td><td>15</td><td>47</td><td>3.1333333333333333</td></tr><tr><td>2013</td><td>Red Bull</td><td>33</td><td>277</td><td>8.393939393939394</td></tr><tr><td>2013</td><td>Ferrari</td><td>32</td><td>195</td><td>6.09375</td></tr><tr><td>2013</td><td>Mercedes</td><td>33</td><td>199</td><td>6.03030303030303</td></tr><tr><td>2013</td><td>McLaren</td><td>25</td><td>84</td><td>3.36</td></tr><tr><td>2013</td><td>Williams</td><td>2</td><td>4</td><td>2.0</td></tr><tr><td>2014</td><td>Mercedes</td><td>32</td><td>300</td><td>9.375</td></tr><tr><td>2014</td><td>Red Bull</td><td>32</td><td>211</td><td>6.59375</td></tr><tr><td>2014</td><td>Williams</td><td>28</td><td>165</td><td>5.892857142857143</td></tr><tr><td>2014</td><td>Ferrari</td><td>30</td><td>133</td><td>4.433333333333334</td></tr><tr><td>2014</td><td>McLaren</td><td>25</td><td>107</td><td>4.28</td></tr><tr><td>2015</td><td>Mercedes</td><td>35</td><td>316</td><td>9.028571428571428</td></tr><tr><td>2015</td><td>Ferrari</td><td>31</td><td>226</td><td>7.290322580645161</td></tr><tr><td>2015</td><td>Williams</td><td>26</td><td>152</td><td>5.846153846153846</td></tr><tr><td>2015</td><td>Red Bull</td><td>27</td><td>115</td><td>4.2592592592592595</td></tr><tr><td>2015</td><td>McLaren</td><td>6</td><td>19</td><td>3.1666666666666665</td></tr><tr><td>2016</td><td>Mercedes</td><td>39</td><td>344</td><td>8.820512820512821</td></tr><tr><td>2016</td><td>Red Bull</td><td>36</td><td>252</td><td>7.0</td></tr><tr><td>2016</td><td>Ferrari</td><td>34</td><td>225</td><td>6.617647058823529</td></tr><tr><td>2016</td><td>Williams</td><td>28</td><td>94</td><td>3.357142857142857</td></tr><tr><td>2016</td><td>McLaren</td><td>17</td><td>53</td><td>3.1176470588235294</td></tr><tr><td>2017</td><td>Mercedes</td><td>39</td><td>319</td><td>8.179487179487179</td></tr><tr><td>2017</td><td>Ferrari</td><td>34</td><td>266</td><td>7.823529411764706</td></tr><tr><td>2017</td><td>Red Bull</td><td>27</td><td>194</td><td>7.185185185185185</td></tr><tr><td>2017</td><td>Williams</td><td>20</td><td>59</td><td>2.95</td></tr><tr><td>2017</td><td>McLaren</td><td>8</td><td>22</td><td>2.75</td></tr><tr><td>2018</td><td>Mercedes</td><td>39</td><td>316</td><td>8.102564102564102</td></tr><tr><td>2018</td><td>Ferrari</td><td>37</td><td>289</td><td>7.8108108108108105</td></tr><tr><td>2018</td><td>Red Bull</td><td>30</td><td>219</td><td>7.3</td></tr><tr><td>2018</td><td>McLaren</td><td>13</td><td>44</td><td>3.3846153846153846</td></tr><tr><td>2018</td><td>Williams</td><td>3</td><td>6</td><td>2.0</td></tr><tr><td>2019</td><td>Mercedes</td><td>40</td><td>339</td><td>8.475</td></tr><tr><td>2019</td><td>Ferrari</td><td>34</td><td>261</td><td>7.676470588235294</td></tr><tr><td>2019</td><td>Red Bull</td><td>36</td><td>227</td><td>6.305555555555555</td></tr><tr><td>2019</td><td>McLaren</td><td>24</td><td>95</td><td>3.9583333333333335</td></tr><tr><td>2019</td><td>Williams</td><td>1</td><td>1</td><td>1.0</td></tr><tr><td>2020</td><td>Mercedes</td><td>31</td><td>258</td><td>8.32258064516129</td></tr><tr><td>2020</td><td>Red Bull</td><td>24</td><td>166</td><td>6.916666666666667</td></tr><tr><td>2020</td><td>McLaren</td><td>25</td><td>122</td><td>4.88</td></tr><tr><td>2020</td><td>Ferrari</td><td>17</td><td>78</td><td>4.588235294117647</td></tr><tr><td>2021</td><td>Mercedes</td><td>35</td><td>291</td><td>8.314285714285715</td></tr><tr><td>2021</td><td>Red Bull</td><td>35</td><td>279</td><td>7.9714285714285715</td></tr><tr><td>2021</td><td>Ferrari</td><td>38</td><td>196</td><td>5.157894736842105</td></tr><tr><td>2021</td><td>McLaren</td><td>33</td><td>164</td><td>4.96969696969697</td></tr><tr><td>2021</td><td>Williams</td><td>6</td><td>21</td><td>3.5</td></tr><tr><td>2022</td><td>Red Bull</td><td>39</td><td>328</td><td>8.41025641025641</td></tr><tr><td>2022</td><td>Ferrari</td><td>35</td><td>266</td><td>7.6</td></tr><tr><td>2022</td><td>Mercedes</td><td>39</td><td>269</td><td>6.897435897435898</td></tr><tr><td>2022</td><td>McLaren</td><td>24</td><td>97</td><td>4.041666666666667</td></tr><tr><td>2022</td><td>Williams</td><td>5</td><td>8</td><td>1.6</td></tr><tr><td>2023</td><td>Red Bull</td><td>41</td><td>349</td><td>8.512195121951219</td></tr><tr><td>2023</td><td>Ferrari</td><td>34</td><td>206</td><td>6.0588235294117645</td></tr><tr><td>2023</td><td>Mercedes</td><td>37</td><td>216</td><td>5.837837837837838</td></tr><tr><td>2023</td><td>McLaren</td><td>27</td><td>150</td><td>5.555555555555555</td></tr><tr><td>2023</td><td>Williams</td><td>8</td><td>20</td><td>2.5</td></tr><tr><td>2024</td><td>Ferrari</td><td>42</td><td>309</td><td>7.357142857142857</td></tr><tr><td>2024</td><td>McLaren</td><td>46</td><td>313</td><td>6.804347826086956</td></tr><tr><td>2024</td><td>Red Bull</td><td>39</td><td>265</td><td>6.794871794871795</td></tr><tr><td>2024</td><td>Mercedes</td><td>42</td><td>239</td><td>5.690476190476191</td></tr><tr><td>2024</td><td>Williams</td><td>6</td><td>14</td><td>2.3333333333333335</td></tr></tbody></table></div>"
      ]
     },
     "metadata": {
      "application/vnd.databricks.v1+output": {
       "addedWidgets": {},
       "aggData": [],
       "aggError": "",
       "aggOverflow": false,
       "aggSchema": [],
       "aggSeriesLimitReached": false,
       "aggType": "",
       "arguments": {},
       "columnCustomDisplayInfos": {},
       "data": [
        [
         1950,
         "Ferrari",
         8,
         57,
         7.125
        ],
        [
         1951,
         "Ferrari",
         22,
         168,
         7.636363636363637
        ],
        [
         1951,
         "BRM",
         2,
         10,
         5.0
        ],
        [
         1952,
         "Ferrari",
         28,
         202,
         7.214285714285714
        ],
        [
         1953,
         "Ferrari",
         35,
         230,
         6.571428571428571
        ],
        [
         1954,
         "Mercedes",
         12,
         96,
         8.0
        ],
        [
         1954,
         "Ferrari",
         25,
         175,
         7.0
        ],
        [
         1955,
         "Mercedes",
         15,
         124,
         8.266666666666667
        ],
        [
         1955,
         "Ferrari",
         21,
         131,
         6.238095238095238
        ],
        [
         1956,
         "Ferrari",
         23,
         172,
         7.478260869565218
        ],
        [
         1957,
         "Ferrari",
         20,
         130,
         6.5
        ],
        [
         1958,
         "Ferrari",
         21,
         159,
         7.571428571428571
        ],
        [
         1958,
         "BRM",
         9,
         60,
         6.666666666666667
        ],
        [
         1958,
         "Team Lotus",
         7,
         28,
         4.0
        ],
        [
         1959,
         "Cooper-Climax",
         22,
         165,
         7.5
        ],
        [
         1959,
         "Ferrari",
         19,
         132,
         6.947368421052632
        ],
        [
         1959,
         "BRM",
         11,
         62,
         5.636363636363637
        ],
        [
         1959,
         "Team Lotus",
         5,
         22,
         4.4
        ],
        [
         1960,
         "Cooper-Climax",
         32,
         213,
         6.65625
        ],
        [
         1960,
         "Team Lotus",
         17,
         109,
         6.411764705882353
        ],
        [
         1960,
         "Ferrari",
         17,
         102,
         6.0
        ],
        [
         1960,
         "BRM",
         6,
         29,
         4.833333333333333
        ],
        [
         1961,
         "Ferrari",
         19,
         152,
         8.0
        ],
        [
         1961,
         "BRM",
         7,
         32,
         4.571428571428571
        ],
        [
         1961,
         "Cooper-Climax",
         21,
         92,
         4.380952380952381
        ],
        [
         1962,
         "BRM",
         14,
         98,
         7.0
        ],
        [
         1962,
         "Brabham",
         2,
         14,
         7.0
        ],
        [
         1962,
         "Ferrari",
         12,
         73,
         6.083333333333333
        ],
        [
         1962,
         "Cooper-Climax",
         17,
         101,
         5.9411764705882355
        ],
        [
         1963,
         "BRM",
         17,
         123,
         7.235294117647059
        ],
        [
         1963,
         "Brabham",
         10,
         70,
         7.0
        ],
        [
         1963,
         "Ferrari",
         8,
         53,
         6.625
        ],
        [
         1963,
         "Cooper-Climax",
         18,
         97,
         5.388888888888889
        ],
        [
         1964,
         "Ferrari",
         15,
         105,
         7.0
        ],
        [
         1964,
         "BRM",
         23,
         144,
         6.260869565217392
        ],
        [
         1964,
         "Cooper-Climax",
         11,
         53,
         4.818181818181818
        ],
        [
         1965,
         "BRM",
         17,
         133,
         7.823529411764706
        ],
        [
         1965,
         "Ferrari",
         16,
         86,
         5.375
        ],
        [
         1965,
         "Cooper-Climax",
         8,
         42,
         5.25
        ],
        [
         1966,
         "Ferrari",
         8,
         65,
         8.125
        ],
        [
         1966,
         "BRM",
         10,
         68,
         6.8
        ],
        [
         1967,
         "Cooper-Climax",
         1,
         9,
         9.0
        ],
        [
         1967,
         "Ferrari",
         11,
         64,
         5.818181818181818
        ],
        [
         1967,
         "BRM",
         13,
         66,
         5.076923076923077
        ],
        [
         1968,
         "Ferrari",
         10,
         70,
         7.0
        ],
        [
         1968,
         "BRM",
         12,
         72,
         6.0
        ],
        [
         1969,
         "Ferrari",
         4,
         23,
         5.75
        ],
        [
         1969,
         "BRM",
         5,
         25,
         5.0
        ],
        [
         1970,
         "Ferrari",
         15,
         119,
         7.933333333333334
        ],
        [
         1970,
         "Brabham",
         10,
         67,
         6.7
        ],
        [
         1970,
         "Team Lotus",
         18,
         118,
         6.555555555555555
        ],
        [
         1970,
         "BRM",
         11,
         57,
         5.181818181818182
        ],
        [
         1971,
         "Ferrari",
         11,
         79,
         7.181818181818182
        ],
        [
         1971,
         "BRM",
         19,
         90,
         4.7368421052631575
        ],
        [
         1971,
         "McLaren",
         11,
         46,
         4.181818181818182
        ],
        [
         1971,
         "Brabham",
         9,
         31,
         3.4444444444444446
        ],
        [
         1972,
         "Team Lotus",
         11,
         80,
         7.2727272727272725
        ],
        [
         1972,
         "McLaren",
         20,
         136,
         6.8
        ],
        [
         1972,
         "Ferrari",
         15,
         99,
         6.6
        ],
        [
         1972,
         "Brabham",
         13,
         48,
         3.6923076923076925
        ],
        [
         1972,
         "BRM",
         13,
         46,
         3.5384615384615383
        ],
        [
         1973,
         "Team Lotus",
         17,
         149,
         8.764705882352942
        ],
        [
         1973,
         "McLaren",
         24,
         147,
         6.125
        ],
        [
         1973,
         "Brabham",
         13,
         70,
         5.384615384615385
        ],
        [
         1973,
         "Ferrari",
         11,
         54,
         4.909090909090909
        ],
        [
         1973,
         "BRM",
         17,
         67,
         3.9411764705882355
        ],
        [
         1974,
         "Ferrari",
         17,
         142,
         8.352941176470589
        ],
        [
         1974,
         "Team Lotus",
         12,
         82,
         6.833333333333333
        ],
        [
         1974,
         "McLaren",
         31,
         187,
         6.032258064516129
        ],
        [
         1974,
         "Brabham",
         19,
         103,
         5.421052631578948
        ],
        [
         1974,
         "BRM",
         8,
         28,
         3.5
        ],
        [
         1975,
         "Ferrari",
         20,
         150,
         7.5
        ],
        [
         1975,
         "Brabham",
         16,
         114,
         7.125
        ],
        [
         1975,
         "McLaren",
         18,
         127,
         7.055555555555555
        ],
        [
         1975,
         "Williams",
         2,
         13,
         6.5
        ],
        [
         1975,
         "Team Lotus",
         10,
         40,
         4.0
        ],
        [
         1975,
         "BRM",
         1,
         2,
         2.0
        ],
        [
         1976,
         "McLaren",
         20,
         147,
         7.35
        ],
        [
         1976,
         "Ferrari",
         22,
         159,
         7.2272727272727275
        ],
        [
         1976,
         "Team Lotus",
         10,
         66,
         6.6
        ],
        [
         1976,
         "Williams",
         1,
         2,
         2.0
        ],
        [
         1977,
         "Ferrari",
         24,
         189,
         7.875
        ],
        [
         1977,
         "Team Lotus",
         15,
         108,
         7.2
        ],
        [
         1977,
         "McLaren",
         20,
         124,
         6.2
        ],
        [
         1977,
         "Brabham",
         13,
         73,
         5.615384615384615
        ],
        [
         1978,
         "Team Lotus",
         22,
         169,
         7.681818181818182
        ],
        [
         1978,
         "Brabham",
         17,
         126,
         7.411764705882353
        ],
        [
         1978,
         "Ferrari",
         20,
         119,
         5.95
        ],
        [
         1978,
         "Williams",
         7,
         32,
         4.571428571428571
        ],
        [
         1978,
         "McLaren",
         21,
         86,
         4.095238095238095
        ],
        [
         1979,
         "Ferrari",
         24,
         183,
         7.625
        ],
        [
         1979,
         "Williams",
         17,
         117,
         6.882352941176471
        ],
        [
         1979,
         "Team Lotus",
         16,
         95,
         5.9375
        ],
        [
         1979,
         "McLaren",
         13,
         55,
         4.230769230769231
        ],
        [
         1980,
         "Williams",
         22,
         182,
         8.272727272727273
        ],
        [
         1980,
         "Brabham",
         16,
         101,
         6.3125
        ],
        [
         1980,
         "McLaren",
         10,
         50,
         5.0
        ],
        [
         1980,
         "Team Lotus",
         11,
         48,
         4.363636363636363
        ],
        [
         1980,
         "Ferrari",
         12,
         47,
         3.9166666666666665
        ],
        [
         1981,
         "Williams",
         21,
         154,
         7.333333333333333
        ],
        [
         1981,
         "Brabham",
         15,
         109,
         7.266666666666667
        ],
        [
         1981,
         "Team Lotus",
         14,
         78,
         5.571428571428571
        ],
        [
         1981,
         "Ferrari",
         13,
         72,
         5.538461538461538
        ],
        [
         1981,
         "McLaren",
         13,
         70,
         5.384615384615385
        ],
        [
         1982,
         "Brabham",
         8,
         65,
         8.125
        ],
        [
         1982,
         "Ferrari",
         16,
         122,
         7.625
        ],
        [
         1982,
         "McLaren",
         17,
         118,
         6.9411764705882355
        ],
        [
         1982,
         "Williams",
         20,
         128,
         6.4
        ],
        [
         1982,
         "Team Lotus",
         14,
         79,
         5.642857142857143
        ],
        [
         1983,
         "Brabham",
         15,
         112,
         7.466666666666667
        ],
        [
         1983,
         "Ferrari",
         20,
         148,
         7.4
        ],
        [
         1983,
         "McLaren",
         12,
         74,
         6.166666666666667
        ],
        [
         1983,
         "Williams",
         16,
         94,
         5.875
        ],
        [
         1983,
         "Team Lotus",
         7,
         37,
         5.285714285714286
        ],
        [
         1984,
         "McLaren",
         21,
         191,
         9.095238095238095
        ],
        [
         1984,
         "Ferrari",
         18,
         123,
         6.833333333333333
        ],
        [
         1984,
         "Team Lotus",
         17,
         115,
         6.764705882352941
        ],
        [
         1984,
         "Williams",
         10,
         60,
         6.0
        ],
        [
         1984,
         "Brabham",
         13,
         76,
         5.846153846153846
        ],
        [
         1985,
         "McLaren",
         16,
         134,
         8.375
        ],
        [
         1985,
         "Ferrari",
         20,
         147,
         7.35
        ],
        [
         1985,
         "Williams",
         17,
         123,
         7.235294117647059
        ],
        [
         1985,
         "Team Lotus",
         19,
         133,
         7.0
        ],
        [
         1985,
         "Brabham",
         14,
         70,
         5.0
        ],
        [
         1986,
         "Williams",
         24,
         205,
         8.541666666666666
        ],
        [
         1986,
         "McLaren",
         21,
         161,
         7.666666666666667
        ],
        [
         1986,
         "Team Lotus",
         16,
         108,
         6.75
        ],
        [
         1986,
         "Ferrari",
         15,
         88,
         5.866666666666666
        ],
        [
         1986,
         "Benetton",
         13,
         55,
         4.230769230769231
        ],
        [
         1986,
         "Brabham",
         9,
         30,
         3.3333333333333335
        ],
        [
         1987,
         "Williams",
         22,
         189,
         8.590909090909092
        ],
        [
         1987,
         "Ferrari",
         12,
         92,
         7.666666666666667
        ],
        [
         1987,
         "McLaren",
         22,
         149,
         6.7727272727272725
        ],
        [
         1987,
         "Team Lotus",
         20,
         128,
         6.4
        ],
        [
         1987,
         "Benetton",
         14,
         83,
         5.928571428571429
        ],
        [
         1987,
         "Brabham",
         6,
         29,
         4.833333333333333
        ],
        [
         1988,
         "McLaren",
         28,
         253,
         9.035714285714286
        ],
        [
         1988,
         "Ferrari",
         18,
         129,
         7.166666666666667
        ],
        [
         1988,
         "Williams",
         10,
         57,
         5.7
        ],
        [
         1988,
         "Benetton",
         20,
         113,
         5.65
        ],
        [
         1988,
         "Team Lotus",
         16,
         79,
         4.9375
        ],
        [
         1989,
         "Ferrari",
         9,
         82,
         9.11111111111111
        ],
        [
         1989,
         "McLaren",
         21,
         188,
         8.952380952380953
        ],
        [
         1989,
         "Williams",
         19,
         137,
         7.2105263157894735
        ],
        [
         1989,
         "Benetton",
         15,
         88,
         5.866666666666666
        ],
        [
         1989,
         "Team Lotus",
         12,
         56,
         4.666666666666667
        ],
        [
         1989,
         "Brabham",
         9,
         36,
         4.0
        ],
        [
         1990,
         "Ferrari",
         19,
         163,
         8.578947368421053
        ],
        [
         1990,
         "McLaren",
         22,
         187,
         8.5
        ],
        [
         1990,
         "Benetton",
         23,
         150,
         6.521739130434782
        ],
        [
         1990,
         "Williams",
         21,
         130,
         6.190476190476191
        ],
        [
         1990,
         "Brabham",
         3,
         12,
         4.0
        ],
        [
         1990,
         "Team Lotus",
         8,
         29,
         3.625
        ],
        [
         1991,
         "Williams",
         21,
         179,
         8.523809523809524
        ],
        [
         1991,
         "McLaren",
         24,
         204,
         8.5
        ],
        [
         1991,
         "Ferrari",
         16,
         117,
         7.3125
        ],
        [
         1991,
         "Benetton",
         19,
         109,
         5.7368421052631575
        ],
        [
         1991,
         "Brabham",
         5,
         17,
         3.4
        ],
        [
         1991,
         "Team Lotus",
         7,
         21,
         3.0
        ],
        [
         1992,
         "Williams",
         23,
         206,
         8.956521739130435
        ],
        [
         1992,
         "McLaren",
         19,
         150,
         7.894736842105263
        ],
        [
         1992,
         "Benetton",
         23,
         175,
         7.608695652173913
        ],
        [
         1992,
         "Ferrari",
         10,
         56,
         5.6
        ],
        [
         1992,
         "Team Lotus",
         12,
         56,
         4.666666666666667
        ],
        [
         1993,
         "Williams",
         24,
         217,
         9.041666666666666
        ],
        [
         1993,
         "McLaren",
         17,
         128,
         7.529411764705882
        ],
        [
         1993,
         "Benetton",
         18,
         130,
         7.222222222222222
        ],
        [
         1993,
         "Ferrari",
         14,
         77,
         5.5
        ],
        [
         1993,
         "Team Lotus",
         10,
         44,
         4.4
        ],
        [
         1994,
         "Williams",
         20,
         163,
         8.15
        ],
        [
         1994,
         "Benetton",
         17,
         134,
         7.882352941176471
        ],
        [
         1994,
         "Ferrari",
         17,
         127,
         7.470588235294118
        ],
        [
         1994,
         "McLaren",
         13,
         91,
         7.0
        ],
        [
         1994,
         "Team Lotus",
         9,
         23,
         2.5555555555555554
        ],
        [
         1995,
         "Williams",
         19,
         167,
         8.789473684210526
        ],
        [
         1995,
         "Benetton",
         25,
         201,
         8.04
        ],
        [
         1995,
         "Ferrari",
         18,
         137,
         7.611111111111111
        ],
        [
         1995,
         "McLaren",
         17,
         85,
         5.0
        ],
        [
         1996,
         "Williams",
         24,
         216,
         9.0
        ],
        [
         1996,
         "Ferrari",
         16,
         117,
         7.3125
        ],
        [
         1996,
         "Benetton",
         19,
         137,
         7.2105263157894735
        ],
        [
         1996,
         "McLaren",
         21,
         129,
         6.142857142857143
        ],
        [
         1997,
         "Williams",
         23,
         177,
         7.695652173913044
        ],
        [
         1997,
         "Ferrari",
         22,
         160,
         7.2727272727272725
        ],
        [
         1997,
         "McLaren",
         19,
         117,
         6.157894736842105
        ],
        [
         1997,
         "Benetton",
         26,
         151,
         5.8076923076923075
        ],
        [
         1998,
         "McLaren",
         25,
         212,
         8.48
        ],
        [
         1998,
         "Ferrari",
         26,
         203,
         7.8076923076923075
        ],
        [
         1998,
         "Williams",
         24,
         125,
         5.208333333333333
        ],
        [
         1998,
         "Benetton",
         21,
         106,
         5.0476190476190474
        ],
        [
         1999,
         "McLaren",
         20,
         170,
         8.5
        ],
        [
         1999,
         "Ferrari",
         27,
         203,
         7.518518518518518
        ],
        [
         1999,
         "Williams",
         16,
         91,
         5.6875
        ],
        [
         1999,
         "Benetton",
         15,
         63,
         4.2
        ],
        [
         2000,
         "Ferrari",
         26,
         228,
         8.76923076923077
        ],
        [
         2000,
         "McLaren",
         28,
         236,
         8.428571428571429
        ],
        [
         2000,
         "Williams",
         18,
         102,
         5.666666666666667
        ],
        [
         2000,
         "Benetton",
         18,
         70,
         3.888888888888889
        ],
        [
         2001,
         "Ferrari",
         28,
         245,
         8.75
        ],
        [
         2001,
         "Williams",
         16,
         123,
         7.6875
        ],
        [
         2001,
         "McLaren",
         23,
         173,
         7.521739130434782
        ],
        [
         2001,
         "Benetton",
         10,
         41,
         4.1
        ],
        [
         2002,
         "Ferrari",
         29,
         267,
         9.206896551724139
        ],
        [
         2002,
         "Williams",
         24,
         178,
         7.416666666666667
        ],
        [
         2002,
         "McLaren",
         19,
         132,
         6.947368421052632
        ],
        [
         2003,
         "McLaren",
         23,
         176,
         7.6521739130434785
        ],
        [
         2003,
         "Ferrari",
         26,
         193,
         7.423076923076923
        ],
        [
         2003,
         "Williams",
         25,
         180,
         7.2
        ],
        [
         2004,
         "Ferrari",
         32,
         287,
         8.96875
        ],
        [
         2004,
         "Williams",
         24,
         130,
         5.416666666666667
        ],
        [
         2004,
         "McLaren",
         21,
         106,
         5.0476190476190474
        ],
        [
         2005,
         "McLaren",
         27,
         212,
         7.851851851851852
        ],
        [
         2005,
         "Williams",
         17,
         97,
         5.705882352941177
        ],
        [
         2005,
         "Ferrari",
         27,
         143,
         5.296296296296297
        ],
        [
         2005,
         "Red Bull",
         22,
         77,
         3.5
        ],
        [
         2006,
         "Ferrari",
         32,
         240,
         7.5
        ],
        [
         2006,
         "McLaren",
         22,
         150,
         6.818181818181818
        ],
        [
         2006,
         "Red Bull",
         10,
         35,
         3.5
        ],
        [
         2006,
         "Williams",
         11,
         30,
         2.727272727272727
        ],
        [
         2007,
         "Ferrari",
         29,
         238,
         8.206896551724139
        ],
        [
         2007,
         "McLaren",
         32,
         257,
         8.03125
        ],
        [
         2007,
         "Williams",
         16,
         61,
         3.8125
        ],
        [
         2007,
         "Red Bull",
         14,
         49,
         3.5
        ],
        [
         2008,
         "Ferrari",
         27,
         206,
         7.62962962962963
        ],
        [
         2008,
         "McLaren",
         29,
         191,
         6.586206896551724
        ],
        [
         2008,
         "Williams",
         13,
         49,
         3.769230769230769
        ],
        [
         2008,
         "Red Bull",
         18,
         63,
         3.5
        ],
        [
         2009,
         "Red Bull",
         24,
         185,
         7.708333333333333
        ],
        [
         2009,
         "McLaren",
         17,
         101,
         5.9411764705882355
        ],
        [
         2009,
         "Ferrari",
         19,
         103,
         5.421052631578948
        ],
        [
         2009,
         "Williams",
         16,
         66,
         4.125
        ],
        [
         2010,
         "Red Bull",
         32,
         241,
         7.53125
        ],
        [
         2010,
         "McLaren",
         31,
         231,
         7.451612903225806
        ],
        [
         2010,
         "Ferrari",
         30,
         203,
         6.766666666666667
        ],
        [
         2010,
         "Mercedes",
         27,
         131,
         4.851851851851852
        ],
        [
         2010,
         "Williams",
         17,
         48,
         2.823529411764706
        ],
        [
         2011,
         "Red Bull",
         36,
         308,
         8.555555555555555
        ],
        [
         2011,
         "McLaren",
         33,
         251,
         7.606060606060606
        ],
        [
         2011,
         "Ferrari",
         33,
         210,
         6.363636363636363
        ],
        [
         2011,
         "Mercedes",
         25,
         107,
         4.28
        ],
        [
         2011,
         "Williams",
         3,
         5,
         1.6666666666666667
        ],
        [
         2012,
         "Red Bull",
         32,
         232,
         7.25
        ],
        [
         2012,
         "McLaren",
         28,
         187,
         6.678571428571429
        ],
        [
         2012,
         "Ferrari",
         32,
         212,
         6.625
        ],
        [
         2012,
         "Mercedes",
         18,
         82,
         4.555555555555555
        ],
        [
         2012,
         "Williams",
         15,
         47,
         3.1333333333333333
        ],
        [
         2013,
         "Red Bull",
         33,
         277,
         8.393939393939394
        ],
        [
         2013,
         "Ferrari",
         32,
         195,
         6.09375
        ],
        [
         2013,
         "Mercedes",
         33,
         199,
         6.03030303030303
        ],
        [
         2013,
         "McLaren",
         25,
         84,
         3.36
        ],
        [
         2013,
         "Williams",
         2,
         4,
         2.0
        ],
        [
         2014,
         "Mercedes",
         32,
         300,
         9.375
        ],
        [
         2014,
         "Red Bull",
         32,
         211,
         6.59375
        ],
        [
         2014,
         "Williams",
         28,
         165,
         5.892857142857143
        ],
        [
         2014,
         "Ferrari",
         30,
         133,
         4.433333333333334
        ],
        [
         2014,
         "McLaren",
         25,
         107,
         4.28
        ],
        [
         2015,
         "Mercedes",
         35,
         316,
         9.028571428571428
        ],
        [
         2015,
         "Ferrari",
         31,
         226,
         7.290322580645161
        ],
        [
         2015,
         "Williams",
         26,
         152,
         5.846153846153846
        ],
        [
         2015,
         "Red Bull",
         27,
         115,
         4.2592592592592595
        ],
        [
         2015,
         "McLaren",
         6,
         19,
         3.1666666666666665
        ],
        [
         2016,
         "Mercedes",
         39,
         344,
         8.820512820512821
        ],
        [
         2016,
         "Red Bull",
         36,
         252,
         7.0
        ],
        [
         2016,
         "Ferrari",
         34,
         225,
         6.617647058823529
        ],
        [
         2016,
         "Williams",
         28,
         94,
         3.357142857142857
        ],
        [
         2016,
         "McLaren",
         17,
         53,
         3.1176470588235294
        ],
        [
         2017,
         "Mercedes",
         39,
         319,
         8.179487179487179
        ],
        [
         2017,
         "Ferrari",
         34,
         266,
         7.823529411764706
        ],
        [
         2017,
         "Red Bull",
         27,
         194,
         7.185185185185185
        ],
        [
         2017,
         "Williams",
         20,
         59,
         2.95
        ],
        [
         2017,
         "McLaren",
         8,
         22,
         2.75
        ],
        [
         2018,
         "Mercedes",
         39,
         316,
         8.102564102564102
        ],
        [
         2018,
         "Ferrari",
         37,
         289,
         7.8108108108108105
        ],
        [
         2018,
         "Red Bull",
         30,
         219,
         7.3
        ],
        [
         2018,
         "McLaren",
         13,
         44,
         3.3846153846153846
        ],
        [
         2018,
         "Williams",
         3,
         6,
         2.0
        ],
        [
         2019,
         "Mercedes",
         40,
         339,
         8.475
        ],
        [
         2019,
         "Ferrari",
         34,
         261,
         7.676470588235294
        ],
        [
         2019,
         "Red Bull",
         36,
         227,
         6.305555555555555
        ],
        [
         2019,
         "McLaren",
         24,
         95,
         3.9583333333333335
        ],
        [
         2019,
         "Williams",
         1,
         1,
         1.0
        ],
        [
         2020,
         "Mercedes",
         31,
         258,
         8.32258064516129
        ],
        [
         2020,
         "Red Bull",
         24,
         166,
         6.916666666666667
        ],
        [
         2020,
         "McLaren",
         25,
         122,
         4.88
        ],
        [
         2020,
         "Ferrari",
         17,
         78,
         4.588235294117647
        ],
        [
         2021,
         "Mercedes",
         35,
         291,
         8.314285714285715
        ],
        [
         2021,
         "Red Bull",
         35,
         279,
         7.9714285714285715
        ],
        [
         2021,
         "Ferrari",
         38,
         196,
         5.157894736842105
        ],
        [
         2021,
         "McLaren",
         33,
         164,
         4.96969696969697
        ],
        [
         2021,
         "Williams",
         6,
         21,
         3.5
        ],
        [
         2022,
         "Red Bull",
         39,
         328,
         8.41025641025641
        ],
        [
         2022,
         "Ferrari",
         35,
         266,
         7.6
        ],
        [
         2022,
         "Mercedes",
         39,
         269,
         6.897435897435898
        ],
        [
         2022,
         "McLaren",
         24,
         97,
         4.041666666666667
        ],
        [
         2022,
         "Williams",
         5,
         8,
         1.6
        ],
        [
         2023,
         "Red Bull",
         41,
         349,
         8.512195121951219
        ],
        [
         2023,
         "Ferrari",
         34,
         206,
         6.0588235294117645
        ],
        [
         2023,
         "Mercedes",
         37,
         216,
         5.837837837837838
        ],
        [
         2023,
         "McLaren",
         27,
         150,
         5.555555555555555
        ],
        [
         2023,
         "Williams",
         8,
         20,
         2.5
        ],
        [
         2024,
         "Ferrari",
         42,
         309,
         7.357142857142857
        ],
        [
         2024,
         "McLaren",
         46,
         313,
         6.804347826086956
        ],
        [
         2024,
         "Red Bull",
         39,
         265,
         6.794871794871795
        ],
        [
         2024,
         "Mercedes",
         42,
         239,
         5.690476190476191
        ],
        [
         2024,
         "Williams",
         6,
         14,
         2.3333333333333335
        ]
       ],
       "datasetInfos": [],
       "dbfsResultPath": null,
       "isJsonSchema": true,
       "metadata": {},
       "overflow": false,
       "plotOptions": {
        "customPlotOptions": {},
        "displayType": "table",
        "pivotAggregation": null,
        "pivotColumns": null,
        "xColumns": null,
        "yColumns": null
       },
       "removedWidgets": [],
       "schema": [
        {
         "metadata": "{}",
         "name": "race_year",
         "type": "\"integer\""
        },
        {
         "metadata": "{}",
         "name": "team_name",
         "type": "\"string\""
        },
        {
         "metadata": "{}",
         "name": "total_races",
         "type": "\"long\""
        },
        {
         "metadata": "{}",
         "name": "total_points",
         "type": "\"long\""
        },
        {
         "metadata": "{}",
         "name": "avg_points",
         "type": "\"double\""
        }
       ],
       "type": "table"
      }
     },
     "output_type": "display_data"
    },
    {
     "output_type": "display_data",
     "data": {
      "text/plain": [
       "Databricks visualization. Run in Databricks to view."
      ]
     },
     "metadata": {
      "application/vnd.databricks.v1.subcommand+json": {
       "baseErrorDetails": null,
       "bindings": {},
       "collapsed": false,
       "command": "%sql WITH q AS (SELECT race_year,\n    driver_name,\n    COUNT(1) AS total_races,\n    SUM(calculated_points) AS total_points,\n    avg(calculated_points) AS avg_points\nFROM f1_presentation.calculated_race_results\nWHERE driver_name IN (SELECT driver_name FROM v_dominant_drivers WHERE driver_rank <= 10)\nGROUP BY race_year, driver_name\nORDER BY race_year, avg_points DESC) SELECT `driver_name`,`total_points` FROM q GROUP BY `driver_name`,`total_points`",
       "commandTitle": "Visualization 1",
       "commandType": "auto",
       "commandVersion": 0,
       "commentThread": [],
       "commentsVisible": false,
       "contentSha256Hex": null,
       "customPlotOptions": {
        "redashChart": [
         {
          "key": "type",
          "value": "CHART"
         },
         {
          "key": "options",
          "value": {
           "alignYAxesAtZero": true,
           "coefficient": 1,
           "columnConfigurationMap": {
            "x": {
             "column": "driver_name",
             "id": "column_8361ac3b101"
            },
            "y": [
             {
              "column": "total_points",
              "id": "column_8361ac3b119",
              "transform": "SUM"
             },
             {
              "column": "total_races",
              "id": "column_8361ac3b122",
              "transform": "SUM"
             }
            ]
           },
           "dateTimeFormat": "DD/MM/YYYY HH:mm",
           "direction": {
            "type": "counterclockwise"
           },
           "error_y": {
            "type": "data",
            "visible": true
           },
           "globalSeriesType": "column",
           "isAggregationOn": true,
           "legend": {
            "traceorder": "normal"
           },
           "missingValuesAsZero": true,
           "numberFormat": "0,0.[00000]",
           "percentFormat": "0[.]00%",
           "series": {
            "error_y": {
             "type": "data",
             "visible": true
            },
            "percentValues": false,
            "stacking": ""
           },
           "seriesOptions": {
            "column_8361ac3b103": {
             "type": "column",
             "yAxis": 0
            },
            "column_8361ac3b111": {
             "type": "column",
             "yAxis": 0
            },
            "column_8361ac3b119": {
             "type": "column",
             "yAxis": 0
            },
            "column_8361ac3b122": {
             "type": "column",
             "yAxis": 0
            }
           },
           "showDataLabels": false,
           "sizemode": "diameter",
           "sortX": true,
           "sortY": true,
           "swappedAxes": false,
           "textFormat": "",
           "useAggregationsUi": true,
           "valuesOptions": {},
           "version": 2,
           "xAxis": {
            "labels": {
             "enabled": true
            },
            "type": "-"
           },
           "yAxis": [
            {
             "type": "-"
            },
            {
             "opposite": true,
             "type": "-"
            }
           ]
          }
         }
        ]
       },
       "datasetPreviewNameToCmdIdMap": {},
       "diffDeletes": [],
       "diffInserts": [],
       "displayType": "redashChart",
       "error": null,
       "errorDetails": null,
       "errorSummary": null,
       "errorTraceType": null,
       "finishTime": 0,
       "globalVars": {},
       "guid": "",
       "height": "auto",
       "hideCommandCode": false,
       "hideCommandResult": false,
       "iPythonMetadata": null,
       "inputWidgets": {},
       "isLockedInExamMode": false,
       "latestUser": "a user",
       "latestUserId": null,
       "listResultMetadata": null,
       "metadata": {},
       "nuid": "f0438db2-47f7-4f68-b92b-05249ea48156",
       "origId": 0,
       "parentHierarchy": [],
       "pivotAggregation": null,
       "pivotColumns": null,
       "position": 4.0,
       "resultDbfsErrorMessage": null,
       "resultDbfsStatus": "INLINED_IN_TREE",
       "results": null,
       "showCommandTitle": false,
       "startTime": 0,
       "state": "input",
       "streamStates": {},
       "subcommandOptions": {
        "queryPlan": {
         "groups": [
          {
           "column": "driver_name",
           "type": "column"
          }
         ],
         "selects": [
          {
           "column": "driver_name",
           "type": "column"
          },
          {
           "alias": "column_8361ac3b119",
           "args": [
            {
             "column": "total_points",
             "type": "column"
            }
           ],
           "function": "SUM",
           "type": "function"
          },
          {
           "alias": "column_8361ac3b122",
           "args": [
            {
             "column": "total_races",
             "type": "column"
            }
           ],
           "function": "SUM",
           "type": "function"
          }
         ]
        }
       },
       "submitTime": 0,
       "subtype": "tableResultSubCmd.visualization",
       "tableResultIndex": 0,
       "tableResultSettingsMap": {},
       "useConsistentColors": false,
       "version": "CommandV1",
       "width": "auto",
       "workflows": [],
       "xColumns": null,
       "yColumns": null
      }
     },
     "output_type": "display_data"
    }
   ],
   "source": [
    "SELECT race_year,\n",
    "    team_name,\n",
    "    COUNT(1) AS total_races,\n",
    "    SUM(calculated_points) AS total_points,\n",
    "    avg(calculated_points) AS avg_points\n",
    "FROM f1_presentation.calculated_race_results\n",
    "WHERE team_name IN (SELECT team_name FROM v_dominant_teams WHERE team_rank <= 10)\n",
    "GROUP BY race_year, team_name\n",
    "ORDER BY race_year, avg_points DESC"
   ]
  },
  {
   "cell_type": "code",
   "execution_count": 0,
   "metadata": {
    "application/vnd.databricks.v1+cell": {
     "cellMetadata": {
      "byteLimit": 2048000,
      "rowLimit": 10000
     },
     "inputWidgets": {},
     "nuid": "a63a7acd-87e8-45da-8b7f-de2cacbe21d4",
     "showTitle": false,
     "tableResultSettingsMap": {},
     "title": ""
    }
   },
   "outputs": [
    {
     "output_type": "display_data",
     "data": {
      "text/html": [
       "<style scoped>\n",
       "  .table-result-container {\n",
       "    max-height: 300px;\n",
       "    overflow: auto;\n",
       "  }\n",
       "  table, th, td {\n",
       "    border: 1px solid black;\n",
       "    border-collapse: collapse;\n",
       "  }\n",
       "  th, td {\n",
       "    padding: 5px;\n",
       "  }\n",
       "  th {\n",
       "    text-align: left;\n",
       "  }\n",
       "</style><div class='table-result-container'><table class='table-result'><thead style='background-color: white'><tr><th>race_year</th><th>team_name</th><th>total_races</th><th>total_points</th><th>avg_points</th></tr></thead><tbody><tr><td>1950</td><td>Ferrari</td><td>8</td><td>57</td><td>7.125</td></tr><tr><td>1951</td><td>Ferrari</td><td>22</td><td>168</td><td>7.636363636363637</td></tr><tr><td>1951</td><td>BRM</td><td>2</td><td>10</td><td>5.0</td></tr><tr><td>1952</td><td>Ferrari</td><td>28</td><td>202</td><td>7.214285714285714</td></tr><tr><td>1953</td><td>Ferrari</td><td>35</td><td>230</td><td>6.571428571428571</td></tr><tr><td>1954</td><td>Mercedes</td><td>12</td><td>96</td><td>8.0</td></tr><tr><td>1954</td><td>Ferrari</td><td>25</td><td>175</td><td>7.0</td></tr><tr><td>1955</td><td>Mercedes</td><td>15</td><td>124</td><td>8.266666666666667</td></tr><tr><td>1955</td><td>Ferrari</td><td>21</td><td>131</td><td>6.238095238095238</td></tr><tr><td>1956</td><td>Ferrari</td><td>23</td><td>172</td><td>7.478260869565218</td></tr><tr><td>1957</td><td>Ferrari</td><td>20</td><td>130</td><td>6.5</td></tr><tr><td>1958</td><td>Ferrari</td><td>21</td><td>159</td><td>7.571428571428571</td></tr><tr><td>1958</td><td>BRM</td><td>9</td><td>60</td><td>6.666666666666667</td></tr><tr><td>1958</td><td>Team Lotus</td><td>7</td><td>28</td><td>4.0</td></tr><tr><td>1959</td><td>Cooper-Climax</td><td>22</td><td>165</td><td>7.5</td></tr><tr><td>1959</td><td>Ferrari</td><td>19</td><td>132</td><td>6.947368421052632</td></tr><tr><td>1959</td><td>BRM</td><td>11</td><td>62</td><td>5.636363636363637</td></tr><tr><td>1959</td><td>Team Lotus</td><td>5</td><td>22</td><td>4.4</td></tr><tr><td>1960</td><td>Cooper-Climax</td><td>32</td><td>213</td><td>6.65625</td></tr><tr><td>1960</td><td>Team Lotus</td><td>17</td><td>109</td><td>6.411764705882353</td></tr><tr><td>1960</td><td>Ferrari</td><td>17</td><td>102</td><td>6.0</td></tr><tr><td>1960</td><td>BRM</td><td>6</td><td>29</td><td>4.833333333333333</td></tr><tr><td>1961</td><td>Ferrari</td><td>19</td><td>152</td><td>8.0</td></tr><tr><td>1961</td><td>BRM</td><td>7</td><td>32</td><td>4.571428571428571</td></tr><tr><td>1961</td><td>Cooper-Climax</td><td>21</td><td>92</td><td>4.380952380952381</td></tr><tr><td>1962</td><td>BRM</td><td>14</td><td>98</td><td>7.0</td></tr><tr><td>1962</td><td>Brabham</td><td>2</td><td>14</td><td>7.0</td></tr><tr><td>1962</td><td>Ferrari</td><td>12</td><td>73</td><td>6.083333333333333</td></tr><tr><td>1962</td><td>Cooper-Climax</td><td>17</td><td>101</td><td>5.9411764705882355</td></tr><tr><td>1963</td><td>BRM</td><td>17</td><td>123</td><td>7.235294117647059</td></tr><tr><td>1963</td><td>Brabham</td><td>10</td><td>70</td><td>7.0</td></tr><tr><td>1963</td><td>Ferrari</td><td>8</td><td>53</td><td>6.625</td></tr><tr><td>1963</td><td>Cooper-Climax</td><td>18</td><td>97</td><td>5.388888888888889</td></tr><tr><td>1964</td><td>Ferrari</td><td>15</td><td>105</td><td>7.0</td></tr><tr><td>1964</td><td>BRM</td><td>23</td><td>144</td><td>6.260869565217392</td></tr><tr><td>1964</td><td>Cooper-Climax</td><td>11</td><td>53</td><td>4.818181818181818</td></tr><tr><td>1965</td><td>BRM</td><td>17</td><td>133</td><td>7.823529411764706</td></tr><tr><td>1965</td><td>Ferrari</td><td>16</td><td>86</td><td>5.375</td></tr><tr><td>1965</td><td>Cooper-Climax</td><td>8</td><td>42</td><td>5.25</td></tr><tr><td>1966</td><td>Ferrari</td><td>8</td><td>65</td><td>8.125</td></tr><tr><td>1966</td><td>BRM</td><td>10</td><td>68</td><td>6.8</td></tr><tr><td>1967</td><td>Cooper-Climax</td><td>1</td><td>9</td><td>9.0</td></tr><tr><td>1967</td><td>Ferrari</td><td>11</td><td>64</td><td>5.818181818181818</td></tr><tr><td>1967</td><td>BRM</td><td>13</td><td>66</td><td>5.076923076923077</td></tr><tr><td>1968</td><td>Ferrari</td><td>10</td><td>70</td><td>7.0</td></tr><tr><td>1968</td><td>BRM</td><td>12</td><td>72</td><td>6.0</td></tr><tr><td>1969</td><td>Ferrari</td><td>4</td><td>23</td><td>5.75</td></tr><tr><td>1969</td><td>BRM</td><td>5</td><td>25</td><td>5.0</td></tr><tr><td>1970</td><td>Ferrari</td><td>15</td><td>119</td><td>7.933333333333334</td></tr><tr><td>1970</td><td>Brabham</td><td>10</td><td>67</td><td>6.7</td></tr><tr><td>1970</td><td>Team Lotus</td><td>18</td><td>118</td><td>6.555555555555555</td></tr><tr><td>1970</td><td>BRM</td><td>11</td><td>57</td><td>5.181818181818182</td></tr><tr><td>1971</td><td>Ferrari</td><td>11</td><td>79</td><td>7.181818181818182</td></tr><tr><td>1971</td><td>BRM</td><td>19</td><td>90</td><td>4.7368421052631575</td></tr><tr><td>1971</td><td>McLaren</td><td>11</td><td>46</td><td>4.181818181818182</td></tr><tr><td>1971</td><td>Brabham</td><td>9</td><td>31</td><td>3.4444444444444446</td></tr><tr><td>1972</td><td>Team Lotus</td><td>11</td><td>80</td><td>7.2727272727272725</td></tr><tr><td>1972</td><td>McLaren</td><td>20</td><td>136</td><td>6.8</td></tr><tr><td>1972</td><td>Ferrari</td><td>15</td><td>99</td><td>6.6</td></tr><tr><td>1972</td><td>Brabham</td><td>13</td><td>48</td><td>3.6923076923076925</td></tr><tr><td>1972</td><td>BRM</td><td>13</td><td>46</td><td>3.5384615384615383</td></tr><tr><td>1973</td><td>Team Lotus</td><td>17</td><td>149</td><td>8.764705882352942</td></tr><tr><td>1973</td><td>McLaren</td><td>24</td><td>147</td><td>6.125</td></tr><tr><td>1973</td><td>Brabham</td><td>13</td><td>70</td><td>5.384615384615385</td></tr><tr><td>1973</td><td>Ferrari</td><td>11</td><td>54</td><td>4.909090909090909</td></tr><tr><td>1973</td><td>BRM</td><td>17</td><td>67</td><td>3.9411764705882355</td></tr><tr><td>1974</td><td>Ferrari</td><td>17</td><td>142</td><td>8.352941176470589</td></tr><tr><td>1974</td><td>Team Lotus</td><td>12</td><td>82</td><td>6.833333333333333</td></tr><tr><td>1974</td><td>McLaren</td><td>31</td><td>187</td><td>6.032258064516129</td></tr><tr><td>1974</td><td>Brabham</td><td>19</td><td>103</td><td>5.421052631578948</td></tr><tr><td>1974</td><td>BRM</td><td>8</td><td>28</td><td>3.5</td></tr><tr><td>1975</td><td>Ferrari</td><td>20</td><td>150</td><td>7.5</td></tr><tr><td>1975</td><td>Brabham</td><td>16</td><td>114</td><td>7.125</td></tr><tr><td>1975</td><td>McLaren</td><td>18</td><td>127</td><td>7.055555555555555</td></tr><tr><td>1975</td><td>Williams</td><td>2</td><td>13</td><td>6.5</td></tr><tr><td>1975</td><td>Team Lotus</td><td>10</td><td>40</td><td>4.0</td></tr><tr><td>1975</td><td>BRM</td><td>1</td><td>2</td><td>2.0</td></tr><tr><td>1976</td><td>McLaren</td><td>20</td><td>147</td><td>7.35</td></tr><tr><td>1976</td><td>Ferrari</td><td>22</td><td>159</td><td>7.2272727272727275</td></tr><tr><td>1976</td><td>Team Lotus</td><td>10</td><td>66</td><td>6.6</td></tr><tr><td>1976</td><td>Williams</td><td>1</td><td>2</td><td>2.0</td></tr><tr><td>1977</td><td>Ferrari</td><td>24</td><td>189</td><td>7.875</td></tr><tr><td>1977</td><td>Team Lotus</td><td>15</td><td>108</td><td>7.2</td></tr><tr><td>1977</td><td>McLaren</td><td>20</td><td>124</td><td>6.2</td></tr><tr><td>1977</td><td>Brabham</td><td>13</td><td>73</td><td>5.615384615384615</td></tr><tr><td>1978</td><td>Team Lotus</td><td>22</td><td>169</td><td>7.681818181818182</td></tr><tr><td>1978</td><td>Brabham</td><td>17</td><td>126</td><td>7.411764705882353</td></tr><tr><td>1978</td><td>Ferrari</td><td>20</td><td>119</td><td>5.95</td></tr><tr><td>1978</td><td>Williams</td><td>7</td><td>32</td><td>4.571428571428571</td></tr><tr><td>1978</td><td>McLaren</td><td>21</td><td>86</td><td>4.095238095238095</td></tr><tr><td>1979</td><td>Ferrari</td><td>24</td><td>183</td><td>7.625</td></tr><tr><td>1979</td><td>Williams</td><td>17</td><td>117</td><td>6.882352941176471</td></tr><tr><td>1979</td><td>Team Lotus</td><td>16</td><td>95</td><td>5.9375</td></tr><tr><td>1979</td><td>McLaren</td><td>13</td><td>55</td><td>4.230769230769231</td></tr><tr><td>1980</td><td>Williams</td><td>22</td><td>182</td><td>8.272727272727273</td></tr><tr><td>1980</td><td>Brabham</td><td>16</td><td>101</td><td>6.3125</td></tr><tr><td>1980</td><td>McLaren</td><td>10</td><td>50</td><td>5.0</td></tr><tr><td>1980</td><td>Team Lotus</td><td>11</td><td>48</td><td>4.363636363636363</td></tr><tr><td>1980</td><td>Ferrari</td><td>12</td><td>47</td><td>3.9166666666666665</td></tr><tr><td>1981</td><td>Williams</td><td>21</td><td>154</td><td>7.333333333333333</td></tr><tr><td>1981</td><td>Brabham</td><td>15</td><td>109</td><td>7.266666666666667</td></tr><tr><td>1981</td><td>Team Lotus</td><td>14</td><td>78</td><td>5.571428571428571</td></tr><tr><td>1981</td><td>Ferrari</td><td>13</td><td>72</td><td>5.538461538461538</td></tr><tr><td>1981</td><td>McLaren</td><td>13</td><td>70</td><td>5.384615384615385</td></tr><tr><td>1982</td><td>Brabham</td><td>8</td><td>65</td><td>8.125</td></tr><tr><td>1982</td><td>Ferrari</td><td>16</td><td>122</td><td>7.625</td></tr><tr><td>1982</td><td>McLaren</td><td>17</td><td>118</td><td>6.9411764705882355</td></tr><tr><td>1982</td><td>Williams</td><td>20</td><td>128</td><td>6.4</td></tr><tr><td>1982</td><td>Team Lotus</td><td>14</td><td>79</td><td>5.642857142857143</td></tr><tr><td>1983</td><td>Brabham</td><td>15</td><td>112</td><td>7.466666666666667</td></tr><tr><td>1983</td><td>Ferrari</td><td>20</td><td>148</td><td>7.4</td></tr><tr><td>1983</td><td>McLaren</td><td>12</td><td>74</td><td>6.166666666666667</td></tr><tr><td>1983</td><td>Williams</td><td>16</td><td>94</td><td>5.875</td></tr><tr><td>1983</td><td>Team Lotus</td><td>7</td><td>37</td><td>5.285714285714286</td></tr><tr><td>1984</td><td>McLaren</td><td>21</td><td>191</td><td>9.095238095238095</td></tr><tr><td>1984</td><td>Ferrari</td><td>18</td><td>123</td><td>6.833333333333333</td></tr><tr><td>1984</td><td>Team Lotus</td><td>17</td><td>115</td><td>6.764705882352941</td></tr><tr><td>1984</td><td>Williams</td><td>10</td><td>60</td><td>6.0</td></tr><tr><td>1984</td><td>Brabham</td><td>13</td><td>76</td><td>5.846153846153846</td></tr><tr><td>1985</td><td>McLaren</td><td>16</td><td>134</td><td>8.375</td></tr><tr><td>1985</td><td>Ferrari</td><td>20</td><td>147</td><td>7.35</td></tr><tr><td>1985</td><td>Williams</td><td>17</td><td>123</td><td>7.235294117647059</td></tr><tr><td>1985</td><td>Team Lotus</td><td>19</td><td>133</td><td>7.0</td></tr><tr><td>1985</td><td>Brabham</td><td>14</td><td>70</td><td>5.0</td></tr><tr><td>1986</td><td>Williams</td><td>24</td><td>205</td><td>8.541666666666666</td></tr><tr><td>1986</td><td>McLaren</td><td>21</td><td>161</td><td>7.666666666666667</td></tr><tr><td>1986</td><td>Team Lotus</td><td>16</td><td>108</td><td>6.75</td></tr><tr><td>1986</td><td>Ferrari</td><td>15</td><td>88</td><td>5.866666666666666</td></tr><tr><td>1986</td><td>Benetton</td><td>13</td><td>55</td><td>4.230769230769231</td></tr><tr><td>1986</td><td>Brabham</td><td>9</td><td>30</td><td>3.3333333333333335</td></tr><tr><td>1987</td><td>Williams</td><td>22</td><td>189</td><td>8.590909090909092</td></tr><tr><td>1987</td><td>Ferrari</td><td>12</td><td>92</td><td>7.666666666666667</td></tr><tr><td>1987</td><td>McLaren</td><td>22</td><td>149</td><td>6.7727272727272725</td></tr><tr><td>1987</td><td>Team Lotus</td><td>20</td><td>128</td><td>6.4</td></tr><tr><td>1987</td><td>Benetton</td><td>14</td><td>83</td><td>5.928571428571429</td></tr><tr><td>1987</td><td>Brabham</td><td>6</td><td>29</td><td>4.833333333333333</td></tr><tr><td>1988</td><td>McLaren</td><td>28</td><td>253</td><td>9.035714285714286</td></tr><tr><td>1988</td><td>Ferrari</td><td>18</td><td>129</td><td>7.166666666666667</td></tr><tr><td>1988</td><td>Williams</td><td>10</td><td>57</td><td>5.7</td></tr><tr><td>1988</td><td>Benetton</td><td>20</td><td>113</td><td>5.65</td></tr><tr><td>1988</td><td>Team Lotus</td><td>16</td><td>79</td><td>4.9375</td></tr><tr><td>1989</td><td>Ferrari</td><td>9</td><td>82</td><td>9.11111111111111</td></tr><tr><td>1989</td><td>McLaren</td><td>21</td><td>188</td><td>8.952380952380953</td></tr><tr><td>1989</td><td>Williams</td><td>19</td><td>137</td><td>7.2105263157894735</td></tr><tr><td>1989</td><td>Benetton</td><td>15</td><td>88</td><td>5.866666666666666</td></tr><tr><td>1989</td><td>Team Lotus</td><td>12</td><td>56</td><td>4.666666666666667</td></tr><tr><td>1989</td><td>Brabham</td><td>9</td><td>36</td><td>4.0</td></tr><tr><td>1990</td><td>Ferrari</td><td>19</td><td>163</td><td>8.578947368421053</td></tr><tr><td>1990</td><td>McLaren</td><td>22</td><td>187</td><td>8.5</td></tr><tr><td>1990</td><td>Benetton</td><td>23</td><td>150</td><td>6.521739130434782</td></tr><tr><td>1990</td><td>Williams</td><td>21</td><td>130</td><td>6.190476190476191</td></tr><tr><td>1990</td><td>Brabham</td><td>3</td><td>12</td><td>4.0</td></tr><tr><td>1990</td><td>Team Lotus</td><td>8</td><td>29</td><td>3.625</td></tr><tr><td>1991</td><td>Williams</td><td>21</td><td>179</td><td>8.523809523809524</td></tr><tr><td>1991</td><td>McLaren</td><td>24</td><td>204</td><td>8.5</td></tr><tr><td>1991</td><td>Ferrari</td><td>16</td><td>117</td><td>7.3125</td></tr><tr><td>1991</td><td>Benetton</td><td>19</td><td>109</td><td>5.7368421052631575</td></tr><tr><td>1991</td><td>Brabham</td><td>5</td><td>17</td><td>3.4</td></tr><tr><td>1991</td><td>Team Lotus</td><td>7</td><td>21</td><td>3.0</td></tr><tr><td>1992</td><td>Williams</td><td>23</td><td>206</td><td>8.956521739130435</td></tr><tr><td>1992</td><td>McLaren</td><td>19</td><td>150</td><td>7.894736842105263</td></tr><tr><td>1992</td><td>Benetton</td><td>23</td><td>175</td><td>7.608695652173913</td></tr><tr><td>1992</td><td>Ferrari</td><td>10</td><td>56</td><td>5.6</td></tr><tr><td>1992</td><td>Team Lotus</td><td>12</td><td>56</td><td>4.666666666666667</td></tr><tr><td>1993</td><td>Williams</td><td>24</td><td>217</td><td>9.041666666666666</td></tr><tr><td>1993</td><td>McLaren</td><td>17</td><td>128</td><td>7.529411764705882</td></tr><tr><td>1993</td><td>Benetton</td><td>18</td><td>130</td><td>7.222222222222222</td></tr><tr><td>1993</td><td>Ferrari</td><td>14</td><td>77</td><td>5.5</td></tr><tr><td>1993</td><td>Team Lotus</td><td>10</td><td>44</td><td>4.4</td></tr><tr><td>1994</td><td>Williams</td><td>20</td><td>163</td><td>8.15</td></tr><tr><td>1994</td><td>Benetton</td><td>17</td><td>134</td><td>7.882352941176471</td></tr><tr><td>1994</td><td>Ferrari</td><td>17</td><td>127</td><td>7.470588235294118</td></tr><tr><td>1994</td><td>McLaren</td><td>13</td><td>91</td><td>7.0</td></tr><tr><td>1994</td><td>Team Lotus</td><td>9</td><td>23</td><td>2.5555555555555554</td></tr><tr><td>1995</td><td>Williams</td><td>19</td><td>167</td><td>8.789473684210526</td></tr><tr><td>1995</td><td>Benetton</td><td>25</td><td>201</td><td>8.04</td></tr><tr><td>1995</td><td>Ferrari</td><td>18</td><td>137</td><td>7.611111111111111</td></tr><tr><td>1995</td><td>McLaren</td><td>17</td><td>85</td><td>5.0</td></tr><tr><td>1996</td><td>Williams</td><td>24</td><td>216</td><td>9.0</td></tr><tr><td>1996</td><td>Ferrari</td><td>16</td><td>117</td><td>7.3125</td></tr><tr><td>1996</td><td>Benetton</td><td>19</td><td>137</td><td>7.2105263157894735</td></tr><tr><td>1996</td><td>McLaren</td><td>21</td><td>129</td><td>6.142857142857143</td></tr><tr><td>1997</td><td>Williams</td><td>23</td><td>177</td><td>7.695652173913044</td></tr><tr><td>1997</td><td>Ferrari</td><td>22</td><td>160</td><td>7.2727272727272725</td></tr><tr><td>1997</td><td>McLaren</td><td>19</td><td>117</td><td>6.157894736842105</td></tr><tr><td>1997</td><td>Benetton</td><td>26</td><td>151</td><td>5.8076923076923075</td></tr><tr><td>1998</td><td>McLaren</td><td>25</td><td>212</td><td>8.48</td></tr><tr><td>1998</td><td>Ferrari</td><td>26</td><td>203</td><td>7.8076923076923075</td></tr><tr><td>1998</td><td>Williams</td><td>24</td><td>125</td><td>5.208333333333333</td></tr><tr><td>1998</td><td>Benetton</td><td>21</td><td>106</td><td>5.0476190476190474</td></tr><tr><td>1999</td><td>McLaren</td><td>20</td><td>170</td><td>8.5</td></tr><tr><td>1999</td><td>Ferrari</td><td>27</td><td>203</td><td>7.518518518518518</td></tr><tr><td>1999</td><td>Williams</td><td>16</td><td>91</td><td>5.6875</td></tr><tr><td>1999</td><td>Benetton</td><td>15</td><td>63</td><td>4.2</td></tr><tr><td>2000</td><td>Ferrari</td><td>26</td><td>228</td><td>8.76923076923077</td></tr><tr><td>2000</td><td>McLaren</td><td>28</td><td>236</td><td>8.428571428571429</td></tr><tr><td>2000</td><td>Williams</td><td>18</td><td>102</td><td>5.666666666666667</td></tr><tr><td>2000</td><td>Benetton</td><td>18</td><td>70</td><td>3.888888888888889</td></tr><tr><td>2001</td><td>Ferrari</td><td>28</td><td>245</td><td>8.75</td></tr><tr><td>2001</td><td>Williams</td><td>16</td><td>123</td><td>7.6875</td></tr><tr><td>2001</td><td>McLaren</td><td>23</td><td>173</td><td>7.521739130434782</td></tr><tr><td>2001</td><td>Benetton</td><td>10</td><td>41</td><td>4.1</td></tr><tr><td>2002</td><td>Ferrari</td><td>29</td><td>267</td><td>9.206896551724139</td></tr><tr><td>2002</td><td>Williams</td><td>24</td><td>178</td><td>7.416666666666667</td></tr><tr><td>2002</td><td>McLaren</td><td>19</td><td>132</td><td>6.947368421052632</td></tr><tr><td>2003</td><td>McLaren</td><td>23</td><td>176</td><td>7.6521739130434785</td></tr><tr><td>2003</td><td>Ferrari</td><td>26</td><td>193</td><td>7.423076923076923</td></tr><tr><td>2003</td><td>Williams</td><td>25</td><td>180</td><td>7.2</td></tr><tr><td>2004</td><td>Ferrari</td><td>32</td><td>287</td><td>8.96875</td></tr><tr><td>2004</td><td>Williams</td><td>24</td><td>130</td><td>5.416666666666667</td></tr><tr><td>2004</td><td>McLaren</td><td>21</td><td>106</td><td>5.0476190476190474</td></tr><tr><td>2005</td><td>McLaren</td><td>27</td><td>212</td><td>7.851851851851852</td></tr><tr><td>2005</td><td>Williams</td><td>17</td><td>97</td><td>5.705882352941177</td></tr><tr><td>2005</td><td>Ferrari</td><td>27</td><td>143</td><td>5.296296296296297</td></tr><tr><td>2005</td><td>Red Bull</td><td>22</td><td>77</td><td>3.5</td></tr><tr><td>2006</td><td>Ferrari</td><td>32</td><td>240</td><td>7.5</td></tr><tr><td>2006</td><td>McLaren</td><td>22</td><td>150</td><td>6.818181818181818</td></tr><tr><td>2006</td><td>Red Bull</td><td>10</td><td>35</td><td>3.5</td></tr><tr><td>2006</td><td>Williams</td><td>11</td><td>30</td><td>2.727272727272727</td></tr><tr><td>2007</td><td>Ferrari</td><td>29</td><td>238</td><td>8.206896551724139</td></tr><tr><td>2007</td><td>McLaren</td><td>32</td><td>257</td><td>8.03125</td></tr><tr><td>2007</td><td>Williams</td><td>16</td><td>61</td><td>3.8125</td></tr><tr><td>2007</td><td>Red Bull</td><td>14</td><td>49</td><td>3.5</td></tr><tr><td>2008</td><td>Ferrari</td><td>27</td><td>206</td><td>7.62962962962963</td></tr><tr><td>2008</td><td>McLaren</td><td>29</td><td>191</td><td>6.586206896551724</td></tr><tr><td>2008</td><td>Williams</td><td>13</td><td>49</td><td>3.769230769230769</td></tr><tr><td>2008</td><td>Red Bull</td><td>18</td><td>63</td><td>3.5</td></tr><tr><td>2009</td><td>Red Bull</td><td>24</td><td>185</td><td>7.708333333333333</td></tr><tr><td>2009</td><td>McLaren</td><td>17</td><td>101</td><td>5.9411764705882355</td></tr><tr><td>2009</td><td>Ferrari</td><td>19</td><td>103</td><td>5.421052631578948</td></tr><tr><td>2009</td><td>Williams</td><td>16</td><td>66</td><td>4.125</td></tr><tr><td>2010</td><td>Red Bull</td><td>32</td><td>241</td><td>7.53125</td></tr><tr><td>2010</td><td>McLaren</td><td>31</td><td>231</td><td>7.451612903225806</td></tr><tr><td>2010</td><td>Ferrari</td><td>30</td><td>203</td><td>6.766666666666667</td></tr><tr><td>2010</td><td>Mercedes</td><td>27</td><td>131</td><td>4.851851851851852</td></tr><tr><td>2010</td><td>Williams</td><td>17</td><td>48</td><td>2.823529411764706</td></tr><tr><td>2011</td><td>Red Bull</td><td>36</td><td>308</td><td>8.555555555555555</td></tr><tr><td>2011</td><td>McLaren</td><td>33</td><td>251</td><td>7.606060606060606</td></tr><tr><td>2011</td><td>Ferrari</td><td>33</td><td>210</td><td>6.363636363636363</td></tr><tr><td>2011</td><td>Mercedes</td><td>25</td><td>107</td><td>4.28</td></tr><tr><td>2011</td><td>Williams</td><td>3</td><td>5</td><td>1.6666666666666667</td></tr><tr><td>2012</td><td>Red Bull</td><td>32</td><td>232</td><td>7.25</td></tr><tr><td>2012</td><td>McLaren</td><td>28</td><td>187</td><td>6.678571428571429</td></tr><tr><td>2012</td><td>Ferrari</td><td>32</td><td>212</td><td>6.625</td></tr><tr><td>2012</td><td>Mercedes</td><td>18</td><td>82</td><td>4.555555555555555</td></tr><tr><td>2012</td><td>Williams</td><td>15</td><td>47</td><td>3.1333333333333333</td></tr><tr><td>2013</td><td>Red Bull</td><td>33</td><td>277</td><td>8.393939393939394</td></tr><tr><td>2013</td><td>Ferrari</td><td>32</td><td>195</td><td>6.09375</td></tr><tr><td>2013</td><td>Mercedes</td><td>33</td><td>199</td><td>6.03030303030303</td></tr><tr><td>2013</td><td>McLaren</td><td>25</td><td>84</td><td>3.36</td></tr><tr><td>2013</td><td>Williams</td><td>2</td><td>4</td><td>2.0</td></tr><tr><td>2014</td><td>Mercedes</td><td>32</td><td>300</td><td>9.375</td></tr><tr><td>2014</td><td>Red Bull</td><td>32</td><td>211</td><td>6.59375</td></tr><tr><td>2014</td><td>Williams</td><td>28</td><td>165</td><td>5.892857142857143</td></tr><tr><td>2014</td><td>Ferrari</td><td>30</td><td>133</td><td>4.433333333333334</td></tr><tr><td>2014</td><td>McLaren</td><td>25</td><td>107</td><td>4.28</td></tr><tr><td>2015</td><td>Mercedes</td><td>35</td><td>316</td><td>9.028571428571428</td></tr><tr><td>2015</td><td>Ferrari</td><td>31</td><td>226</td><td>7.290322580645161</td></tr><tr><td>2015</td><td>Williams</td><td>26</td><td>152</td><td>5.846153846153846</td></tr><tr><td>2015</td><td>Red Bull</td><td>27</td><td>115</td><td>4.2592592592592595</td></tr><tr><td>2015</td><td>McLaren</td><td>6</td><td>19</td><td>3.1666666666666665</td></tr><tr><td>2016</td><td>Mercedes</td><td>39</td><td>344</td><td>8.820512820512821</td></tr><tr><td>2016</td><td>Red Bull</td><td>36</td><td>252</td><td>7.0</td></tr><tr><td>2016</td><td>Ferrari</td><td>34</td><td>225</td><td>6.617647058823529</td></tr><tr><td>2016</td><td>Williams</td><td>28</td><td>94</td><td>3.357142857142857</td></tr><tr><td>2016</td><td>McLaren</td><td>17</td><td>53</td><td>3.1176470588235294</td></tr><tr><td>2017</td><td>Mercedes</td><td>39</td><td>319</td><td>8.179487179487179</td></tr><tr><td>2017</td><td>Ferrari</td><td>34</td><td>266</td><td>7.823529411764706</td></tr><tr><td>2017</td><td>Red Bull</td><td>27</td><td>194</td><td>7.185185185185185</td></tr><tr><td>2017</td><td>Williams</td><td>20</td><td>59</td><td>2.95</td></tr><tr><td>2017</td><td>McLaren</td><td>8</td><td>22</td><td>2.75</td></tr><tr><td>2018</td><td>Mercedes</td><td>39</td><td>316</td><td>8.102564102564102</td></tr><tr><td>2018</td><td>Ferrari</td><td>37</td><td>289</td><td>7.8108108108108105</td></tr><tr><td>2018</td><td>Red Bull</td><td>30</td><td>219</td><td>7.3</td></tr><tr><td>2018</td><td>McLaren</td><td>13</td><td>44</td><td>3.3846153846153846</td></tr><tr><td>2018</td><td>Williams</td><td>3</td><td>6</td><td>2.0</td></tr><tr><td>2019</td><td>Mercedes</td><td>40</td><td>339</td><td>8.475</td></tr><tr><td>2019</td><td>Ferrari</td><td>34</td><td>261</td><td>7.676470588235294</td></tr><tr><td>2019</td><td>Red Bull</td><td>36</td><td>227</td><td>6.305555555555555</td></tr><tr><td>2019</td><td>McLaren</td><td>24</td><td>95</td><td>3.9583333333333335</td></tr><tr><td>2019</td><td>Williams</td><td>1</td><td>1</td><td>1.0</td></tr><tr><td>2020</td><td>Mercedes</td><td>31</td><td>258</td><td>8.32258064516129</td></tr><tr><td>2020</td><td>Red Bull</td><td>24</td><td>166</td><td>6.916666666666667</td></tr><tr><td>2020</td><td>McLaren</td><td>25</td><td>122</td><td>4.88</td></tr><tr><td>2020</td><td>Ferrari</td><td>17</td><td>78</td><td>4.588235294117647</td></tr><tr><td>2021</td><td>Mercedes</td><td>35</td><td>291</td><td>8.314285714285715</td></tr><tr><td>2021</td><td>Red Bull</td><td>35</td><td>279</td><td>7.9714285714285715</td></tr><tr><td>2021</td><td>Ferrari</td><td>38</td><td>196</td><td>5.157894736842105</td></tr><tr><td>2021</td><td>McLaren</td><td>33</td><td>164</td><td>4.96969696969697</td></tr><tr><td>2021</td><td>Williams</td><td>6</td><td>21</td><td>3.5</td></tr><tr><td>2022</td><td>Red Bull</td><td>39</td><td>328</td><td>8.41025641025641</td></tr><tr><td>2022</td><td>Ferrari</td><td>35</td><td>266</td><td>7.6</td></tr><tr><td>2022</td><td>Mercedes</td><td>39</td><td>269</td><td>6.897435897435898</td></tr><tr><td>2022</td><td>McLaren</td><td>24</td><td>97</td><td>4.041666666666667</td></tr><tr><td>2022</td><td>Williams</td><td>5</td><td>8</td><td>1.6</td></tr><tr><td>2023</td><td>Red Bull</td><td>41</td><td>349</td><td>8.512195121951219</td></tr><tr><td>2023</td><td>Ferrari</td><td>34</td><td>206</td><td>6.0588235294117645</td></tr><tr><td>2023</td><td>Mercedes</td><td>37</td><td>216</td><td>5.837837837837838</td></tr><tr><td>2023</td><td>McLaren</td><td>27</td><td>150</td><td>5.555555555555555</td></tr><tr><td>2023</td><td>Williams</td><td>8</td><td>20</td><td>2.5</td></tr><tr><td>2024</td><td>Ferrari</td><td>42</td><td>309</td><td>7.357142857142857</td></tr><tr><td>2024</td><td>McLaren</td><td>46</td><td>313</td><td>6.804347826086956</td></tr><tr><td>2024</td><td>Red Bull</td><td>39</td><td>265</td><td>6.794871794871795</td></tr><tr><td>2024</td><td>Mercedes</td><td>42</td><td>239</td><td>5.690476190476191</td></tr><tr><td>2024</td><td>Williams</td><td>6</td><td>14</td><td>2.3333333333333335</td></tr></tbody></table></div>"
      ]
     },
     "metadata": {
      "application/vnd.databricks.v1+output": {
       "addedWidgets": {},
       "aggData": [],
       "aggError": "",
       "aggOverflow": false,
       "aggSchema": [],
       "aggSeriesLimitReached": false,
       "aggType": "",
       "arguments": {},
       "columnCustomDisplayInfos": {},
       "data": [
        [
         1950,
         "Ferrari",
         8,
         57,
         7.125
        ],
        [
         1951,
         "Ferrari",
         22,
         168,
         7.636363636363637
        ],
        [
         1951,
         "BRM",
         2,
         10,
         5.0
        ],
        [
         1952,
         "Ferrari",
         28,
         202,
         7.214285714285714
        ],
        [
         1953,
         "Ferrari",
         35,
         230,
         6.571428571428571
        ],
        [
         1954,
         "Mercedes",
         12,
         96,
         8.0
        ],
        [
         1954,
         "Ferrari",
         25,
         175,
         7.0
        ],
        [
         1955,
         "Mercedes",
         15,
         124,
         8.266666666666667
        ],
        [
         1955,
         "Ferrari",
         21,
         131,
         6.238095238095238
        ],
        [
         1956,
         "Ferrari",
         23,
         172,
         7.478260869565218
        ],
        [
         1957,
         "Ferrari",
         20,
         130,
         6.5
        ],
        [
         1958,
         "Ferrari",
         21,
         159,
         7.571428571428571
        ],
        [
         1958,
         "BRM",
         9,
         60,
         6.666666666666667
        ],
        [
         1958,
         "Team Lotus",
         7,
         28,
         4.0
        ],
        [
         1959,
         "Cooper-Climax",
         22,
         165,
         7.5
        ],
        [
         1959,
         "Ferrari",
         19,
         132,
         6.947368421052632
        ],
        [
         1959,
         "BRM",
         11,
         62,
         5.636363636363637
        ],
        [
         1959,
         "Team Lotus",
         5,
         22,
         4.4
        ],
        [
         1960,
         "Cooper-Climax",
         32,
         213,
         6.65625
        ],
        [
         1960,
         "Team Lotus",
         17,
         109,
         6.411764705882353
        ],
        [
         1960,
         "Ferrari",
         17,
         102,
         6.0
        ],
        [
         1960,
         "BRM",
         6,
         29,
         4.833333333333333
        ],
        [
         1961,
         "Ferrari",
         19,
         152,
         8.0
        ],
        [
         1961,
         "BRM",
         7,
         32,
         4.571428571428571
        ],
        [
         1961,
         "Cooper-Climax",
         21,
         92,
         4.380952380952381
        ],
        [
         1962,
         "BRM",
         14,
         98,
         7.0
        ],
        [
         1962,
         "Brabham",
         2,
         14,
         7.0
        ],
        [
         1962,
         "Ferrari",
         12,
         73,
         6.083333333333333
        ],
        [
         1962,
         "Cooper-Climax",
         17,
         101,
         5.9411764705882355
        ],
        [
         1963,
         "BRM",
         17,
         123,
         7.235294117647059
        ],
        [
         1963,
         "Brabham",
         10,
         70,
         7.0
        ],
        [
         1963,
         "Ferrari",
         8,
         53,
         6.625
        ],
        [
         1963,
         "Cooper-Climax",
         18,
         97,
         5.388888888888889
        ],
        [
         1964,
         "Ferrari",
         15,
         105,
         7.0
        ],
        [
         1964,
         "BRM",
         23,
         144,
         6.260869565217392
        ],
        [
         1964,
         "Cooper-Climax",
         11,
         53,
         4.818181818181818
        ],
        [
         1965,
         "BRM",
         17,
         133,
         7.823529411764706
        ],
        [
         1965,
         "Ferrari",
         16,
         86,
         5.375
        ],
        [
         1965,
         "Cooper-Climax",
         8,
         42,
         5.25
        ],
        [
         1966,
         "Ferrari",
         8,
         65,
         8.125
        ],
        [
         1966,
         "BRM",
         10,
         68,
         6.8
        ],
        [
         1967,
         "Cooper-Climax",
         1,
         9,
         9.0
        ],
        [
         1967,
         "Ferrari",
         11,
         64,
         5.818181818181818
        ],
        [
         1967,
         "BRM",
         13,
         66,
         5.076923076923077
        ],
        [
         1968,
         "Ferrari",
         10,
         70,
         7.0
        ],
        [
         1968,
         "BRM",
         12,
         72,
         6.0
        ],
        [
         1969,
         "Ferrari",
         4,
         23,
         5.75
        ],
        [
         1969,
         "BRM",
         5,
         25,
         5.0
        ],
        [
         1970,
         "Ferrari",
         15,
         119,
         7.933333333333334
        ],
        [
         1970,
         "Brabham",
         10,
         67,
         6.7
        ],
        [
         1970,
         "Team Lotus",
         18,
         118,
         6.555555555555555
        ],
        [
         1970,
         "BRM",
         11,
         57,
         5.181818181818182
        ],
        [
         1971,
         "Ferrari",
         11,
         79,
         7.181818181818182
        ],
        [
         1971,
         "BRM",
         19,
         90,
         4.7368421052631575
        ],
        [
         1971,
         "McLaren",
         11,
         46,
         4.181818181818182
        ],
        [
         1971,
         "Brabham",
         9,
         31,
         3.4444444444444446
        ],
        [
         1972,
         "Team Lotus",
         11,
         80,
         7.2727272727272725
        ],
        [
         1972,
         "McLaren",
         20,
         136,
         6.8
        ],
        [
         1972,
         "Ferrari",
         15,
         99,
         6.6
        ],
        [
         1972,
         "Brabham",
         13,
         48,
         3.6923076923076925
        ],
        [
         1972,
         "BRM",
         13,
         46,
         3.5384615384615383
        ],
        [
         1973,
         "Team Lotus",
         17,
         149,
         8.764705882352942
        ],
        [
         1973,
         "McLaren",
         24,
         147,
         6.125
        ],
        [
         1973,
         "Brabham",
         13,
         70,
         5.384615384615385
        ],
        [
         1973,
         "Ferrari",
         11,
         54,
         4.909090909090909
        ],
        [
         1973,
         "BRM",
         17,
         67,
         3.9411764705882355
        ],
        [
         1974,
         "Ferrari",
         17,
         142,
         8.352941176470589
        ],
        [
         1974,
         "Team Lotus",
         12,
         82,
         6.833333333333333
        ],
        [
         1974,
         "McLaren",
         31,
         187,
         6.032258064516129
        ],
        [
         1974,
         "Brabham",
         19,
         103,
         5.421052631578948
        ],
        [
         1974,
         "BRM",
         8,
         28,
         3.5
        ],
        [
         1975,
         "Ferrari",
         20,
         150,
         7.5
        ],
        [
         1975,
         "Brabham",
         16,
         114,
         7.125
        ],
        [
         1975,
         "McLaren",
         18,
         127,
         7.055555555555555
        ],
        [
         1975,
         "Williams",
         2,
         13,
         6.5
        ],
        [
         1975,
         "Team Lotus",
         10,
         40,
         4.0
        ],
        [
         1975,
         "BRM",
         1,
         2,
         2.0
        ],
        [
         1976,
         "McLaren",
         20,
         147,
         7.35
        ],
        [
         1976,
         "Ferrari",
         22,
         159,
         7.2272727272727275
        ],
        [
         1976,
         "Team Lotus",
         10,
         66,
         6.6
        ],
        [
         1976,
         "Williams",
         1,
         2,
         2.0
        ],
        [
         1977,
         "Ferrari",
         24,
         189,
         7.875
        ],
        [
         1977,
         "Team Lotus",
         15,
         108,
         7.2
        ],
        [
         1977,
         "McLaren",
         20,
         124,
         6.2
        ],
        [
         1977,
         "Brabham",
         13,
         73,
         5.615384615384615
        ],
        [
         1978,
         "Team Lotus",
         22,
         169,
         7.681818181818182
        ],
        [
         1978,
         "Brabham",
         17,
         126,
         7.411764705882353
        ],
        [
         1978,
         "Ferrari",
         20,
         119,
         5.95
        ],
        [
         1978,
         "Williams",
         7,
         32,
         4.571428571428571
        ],
        [
         1978,
         "McLaren",
         21,
         86,
         4.095238095238095
        ],
        [
         1979,
         "Ferrari",
         24,
         183,
         7.625
        ],
        [
         1979,
         "Williams",
         17,
         117,
         6.882352941176471
        ],
        [
         1979,
         "Team Lotus",
         16,
         95,
         5.9375
        ],
        [
         1979,
         "McLaren",
         13,
         55,
         4.230769230769231
        ],
        [
         1980,
         "Williams",
         22,
         182,
         8.272727272727273
        ],
        [
         1980,
         "Brabham",
         16,
         101,
         6.3125
        ],
        [
         1980,
         "McLaren",
         10,
         50,
         5.0
        ],
        [
         1980,
         "Team Lotus",
         11,
         48,
         4.363636363636363
        ],
        [
         1980,
         "Ferrari",
         12,
         47,
         3.9166666666666665
        ],
        [
         1981,
         "Williams",
         21,
         154,
         7.333333333333333
        ],
        [
         1981,
         "Brabham",
         15,
         109,
         7.266666666666667
        ],
        [
         1981,
         "Team Lotus",
         14,
         78,
         5.571428571428571
        ],
        [
         1981,
         "Ferrari",
         13,
         72,
         5.538461538461538
        ],
        [
         1981,
         "McLaren",
         13,
         70,
         5.384615384615385
        ],
        [
         1982,
         "Brabham",
         8,
         65,
         8.125
        ],
        [
         1982,
         "Ferrari",
         16,
         122,
         7.625
        ],
        [
         1982,
         "McLaren",
         17,
         118,
         6.9411764705882355
        ],
        [
         1982,
         "Williams",
         20,
         128,
         6.4
        ],
        [
         1982,
         "Team Lotus",
         14,
         79,
         5.642857142857143
        ],
        [
         1983,
         "Brabham",
         15,
         112,
         7.466666666666667
        ],
        [
         1983,
         "Ferrari",
         20,
         148,
         7.4
        ],
        [
         1983,
         "McLaren",
         12,
         74,
         6.166666666666667
        ],
        [
         1983,
         "Williams",
         16,
         94,
         5.875
        ],
        [
         1983,
         "Team Lotus",
         7,
         37,
         5.285714285714286
        ],
        [
         1984,
         "McLaren",
         21,
         191,
         9.095238095238095
        ],
        [
         1984,
         "Ferrari",
         18,
         123,
         6.833333333333333
        ],
        [
         1984,
         "Team Lotus",
         17,
         115,
         6.764705882352941
        ],
        [
         1984,
         "Williams",
         10,
         60,
         6.0
        ],
        [
         1984,
         "Brabham",
         13,
         76,
         5.846153846153846
        ],
        [
         1985,
         "McLaren",
         16,
         134,
         8.375
        ],
        [
         1985,
         "Ferrari",
         20,
         147,
         7.35
        ],
        [
         1985,
         "Williams",
         17,
         123,
         7.235294117647059
        ],
        [
         1985,
         "Team Lotus",
         19,
         133,
         7.0
        ],
        [
         1985,
         "Brabham",
         14,
         70,
         5.0
        ],
        [
         1986,
         "Williams",
         24,
         205,
         8.541666666666666
        ],
        [
         1986,
         "McLaren",
         21,
         161,
         7.666666666666667
        ],
        [
         1986,
         "Team Lotus",
         16,
         108,
         6.75
        ],
        [
         1986,
         "Ferrari",
         15,
         88,
         5.866666666666666
        ],
        [
         1986,
         "Benetton",
         13,
         55,
         4.230769230769231
        ],
        [
         1986,
         "Brabham",
         9,
         30,
         3.3333333333333335
        ],
        [
         1987,
         "Williams",
         22,
         189,
         8.590909090909092
        ],
        [
         1987,
         "Ferrari",
         12,
         92,
         7.666666666666667
        ],
        [
         1987,
         "McLaren",
         22,
         149,
         6.7727272727272725
        ],
        [
         1987,
         "Team Lotus",
         20,
         128,
         6.4
        ],
        [
         1987,
         "Benetton",
         14,
         83,
         5.928571428571429
        ],
        [
         1987,
         "Brabham",
         6,
         29,
         4.833333333333333
        ],
        [
         1988,
         "McLaren",
         28,
         253,
         9.035714285714286
        ],
        [
         1988,
         "Ferrari",
         18,
         129,
         7.166666666666667
        ],
        [
         1988,
         "Williams",
         10,
         57,
         5.7
        ],
        [
         1988,
         "Benetton",
         20,
         113,
         5.65
        ],
        [
         1988,
         "Team Lotus",
         16,
         79,
         4.9375
        ],
        [
         1989,
         "Ferrari",
         9,
         82,
         9.11111111111111
        ],
        [
         1989,
         "McLaren",
         21,
         188,
         8.952380952380953
        ],
        [
         1989,
         "Williams",
         19,
         137,
         7.2105263157894735
        ],
        [
         1989,
         "Benetton",
         15,
         88,
         5.866666666666666
        ],
        [
         1989,
         "Team Lotus",
         12,
         56,
         4.666666666666667
        ],
        [
         1989,
         "Brabham",
         9,
         36,
         4.0
        ],
        [
         1990,
         "Ferrari",
         19,
         163,
         8.578947368421053
        ],
        [
         1990,
         "McLaren",
         22,
         187,
         8.5
        ],
        [
         1990,
         "Benetton",
         23,
         150,
         6.521739130434782
        ],
        [
         1990,
         "Williams",
         21,
         130,
         6.190476190476191
        ],
        [
         1990,
         "Brabham",
         3,
         12,
         4.0
        ],
        [
         1990,
         "Team Lotus",
         8,
         29,
         3.625
        ],
        [
         1991,
         "Williams",
         21,
         179,
         8.523809523809524
        ],
        [
         1991,
         "McLaren",
         24,
         204,
         8.5
        ],
        [
         1991,
         "Ferrari",
         16,
         117,
         7.3125
        ],
        [
         1991,
         "Benetton",
         19,
         109,
         5.7368421052631575
        ],
        [
         1991,
         "Brabham",
         5,
         17,
         3.4
        ],
        [
         1991,
         "Team Lotus",
         7,
         21,
         3.0
        ],
        [
         1992,
         "Williams",
         23,
         206,
         8.956521739130435
        ],
        [
         1992,
         "McLaren",
         19,
         150,
         7.894736842105263
        ],
        [
         1992,
         "Benetton",
         23,
         175,
         7.608695652173913
        ],
        [
         1992,
         "Ferrari",
         10,
         56,
         5.6
        ],
        [
         1992,
         "Team Lotus",
         12,
         56,
         4.666666666666667
        ],
        [
         1993,
         "Williams",
         24,
         217,
         9.041666666666666
        ],
        [
         1993,
         "McLaren",
         17,
         128,
         7.529411764705882
        ],
        [
         1993,
         "Benetton",
         18,
         130,
         7.222222222222222
        ],
        [
         1993,
         "Ferrari",
         14,
         77,
         5.5
        ],
        [
         1993,
         "Team Lotus",
         10,
         44,
         4.4
        ],
        [
         1994,
         "Williams",
         20,
         163,
         8.15
        ],
        [
         1994,
         "Benetton",
         17,
         134,
         7.882352941176471
        ],
        [
         1994,
         "Ferrari",
         17,
         127,
         7.470588235294118
        ],
        [
         1994,
         "McLaren",
         13,
         91,
         7.0
        ],
        [
         1994,
         "Team Lotus",
         9,
         23,
         2.5555555555555554
        ],
        [
         1995,
         "Williams",
         19,
         167,
         8.789473684210526
        ],
        [
         1995,
         "Benetton",
         25,
         201,
         8.04
        ],
        [
         1995,
         "Ferrari",
         18,
         137,
         7.611111111111111
        ],
        [
         1995,
         "McLaren",
         17,
         85,
         5.0
        ],
        [
         1996,
         "Williams",
         24,
         216,
         9.0
        ],
        [
         1996,
         "Ferrari",
         16,
         117,
         7.3125
        ],
        [
         1996,
         "Benetton",
         19,
         137,
         7.2105263157894735
        ],
        [
         1996,
         "McLaren",
         21,
         129,
         6.142857142857143
        ],
        [
         1997,
         "Williams",
         23,
         177,
         7.695652173913044
        ],
        [
         1997,
         "Ferrari",
         22,
         160,
         7.2727272727272725
        ],
        [
         1997,
         "McLaren",
         19,
         117,
         6.157894736842105
        ],
        [
         1997,
         "Benetton",
         26,
         151,
         5.8076923076923075
        ],
        [
         1998,
         "McLaren",
         25,
         212,
         8.48
        ],
        [
         1998,
         "Ferrari",
         26,
         203,
         7.8076923076923075
        ],
        [
         1998,
         "Williams",
         24,
         125,
         5.208333333333333
        ],
        [
         1998,
         "Benetton",
         21,
         106,
         5.0476190476190474
        ],
        [
         1999,
         "McLaren",
         20,
         170,
         8.5
        ],
        [
         1999,
         "Ferrari",
         27,
         203,
         7.518518518518518
        ],
        [
         1999,
         "Williams",
         16,
         91,
         5.6875
        ],
        [
         1999,
         "Benetton",
         15,
         63,
         4.2
        ],
        [
         2000,
         "Ferrari",
         26,
         228,
         8.76923076923077
        ],
        [
         2000,
         "McLaren",
         28,
         236,
         8.428571428571429
        ],
        [
         2000,
         "Williams",
         18,
         102,
         5.666666666666667
        ],
        [
         2000,
         "Benetton",
         18,
         70,
         3.888888888888889
        ],
        [
         2001,
         "Ferrari",
         28,
         245,
         8.75
        ],
        [
         2001,
         "Williams",
         16,
         123,
         7.6875
        ],
        [
         2001,
         "McLaren",
         23,
         173,
         7.521739130434782
        ],
        [
         2001,
         "Benetton",
         10,
         41,
         4.1
        ],
        [
         2002,
         "Ferrari",
         29,
         267,
         9.206896551724139
        ],
        [
         2002,
         "Williams",
         24,
         178,
         7.416666666666667
        ],
        [
         2002,
         "McLaren",
         19,
         132,
         6.947368421052632
        ],
        [
         2003,
         "McLaren",
         23,
         176,
         7.6521739130434785
        ],
        [
         2003,
         "Ferrari",
         26,
         193,
         7.423076923076923
        ],
        [
         2003,
         "Williams",
         25,
         180,
         7.2
        ],
        [
         2004,
         "Ferrari",
         32,
         287,
         8.96875
        ],
        [
         2004,
         "Williams",
         24,
         130,
         5.416666666666667
        ],
        [
         2004,
         "McLaren",
         21,
         106,
         5.0476190476190474
        ],
        [
         2005,
         "McLaren",
         27,
         212,
         7.851851851851852
        ],
        [
         2005,
         "Williams",
         17,
         97,
         5.705882352941177
        ],
        [
         2005,
         "Ferrari",
         27,
         143,
         5.296296296296297
        ],
        [
         2005,
         "Red Bull",
         22,
         77,
         3.5
        ],
        [
         2006,
         "Ferrari",
         32,
         240,
         7.5
        ],
        [
         2006,
         "McLaren",
         22,
         150,
         6.818181818181818
        ],
        [
         2006,
         "Red Bull",
         10,
         35,
         3.5
        ],
        [
         2006,
         "Williams",
         11,
         30,
         2.727272727272727
        ],
        [
         2007,
         "Ferrari",
         29,
         238,
         8.206896551724139
        ],
        [
         2007,
         "McLaren",
         32,
         257,
         8.03125
        ],
        [
         2007,
         "Williams",
         16,
         61,
         3.8125
        ],
        [
         2007,
         "Red Bull",
         14,
         49,
         3.5
        ],
        [
         2008,
         "Ferrari",
         27,
         206,
         7.62962962962963
        ],
        [
         2008,
         "McLaren",
         29,
         191,
         6.586206896551724
        ],
        [
         2008,
         "Williams",
         13,
         49,
         3.769230769230769
        ],
        [
         2008,
         "Red Bull",
         18,
         63,
         3.5
        ],
        [
         2009,
         "Red Bull",
         24,
         185,
         7.708333333333333
        ],
        [
         2009,
         "McLaren",
         17,
         101,
         5.9411764705882355
        ],
        [
         2009,
         "Ferrari",
         19,
         103,
         5.421052631578948
        ],
        [
         2009,
         "Williams",
         16,
         66,
         4.125
        ],
        [
         2010,
         "Red Bull",
         32,
         241,
         7.53125
        ],
        [
         2010,
         "McLaren",
         31,
         231,
         7.451612903225806
        ],
        [
         2010,
         "Ferrari",
         30,
         203,
         6.766666666666667
        ],
        [
         2010,
         "Mercedes",
         27,
         131,
         4.851851851851852
        ],
        [
         2010,
         "Williams",
         17,
         48,
         2.823529411764706
        ],
        [
         2011,
         "Red Bull",
         36,
         308,
         8.555555555555555
        ],
        [
         2011,
         "McLaren",
         33,
         251,
         7.606060606060606
        ],
        [
         2011,
         "Ferrari",
         33,
         210,
         6.363636363636363
        ],
        [
         2011,
         "Mercedes",
         25,
         107,
         4.28
        ],
        [
         2011,
         "Williams",
         3,
         5,
         1.6666666666666667
        ],
        [
         2012,
         "Red Bull",
         32,
         232,
         7.25
        ],
        [
         2012,
         "McLaren",
         28,
         187,
         6.678571428571429
        ],
        [
         2012,
         "Ferrari",
         32,
         212,
         6.625
        ],
        [
         2012,
         "Mercedes",
         18,
         82,
         4.555555555555555
        ],
        [
         2012,
         "Williams",
         15,
         47,
         3.1333333333333333
        ],
        [
         2013,
         "Red Bull",
         33,
         277,
         8.393939393939394
        ],
        [
         2013,
         "Ferrari",
         32,
         195,
         6.09375
        ],
        [
         2013,
         "Mercedes",
         33,
         199,
         6.03030303030303
        ],
        [
         2013,
         "McLaren",
         25,
         84,
         3.36
        ],
        [
         2013,
         "Williams",
         2,
         4,
         2.0
        ],
        [
         2014,
         "Mercedes",
         32,
         300,
         9.375
        ],
        [
         2014,
         "Red Bull",
         32,
         211,
         6.59375
        ],
        [
         2014,
         "Williams",
         28,
         165,
         5.892857142857143
        ],
        [
         2014,
         "Ferrari",
         30,
         133,
         4.433333333333334
        ],
        [
         2014,
         "McLaren",
         25,
         107,
         4.28
        ],
        [
         2015,
         "Mercedes",
         35,
         316,
         9.028571428571428
        ],
        [
         2015,
         "Ferrari",
         31,
         226,
         7.290322580645161
        ],
        [
         2015,
         "Williams",
         26,
         152,
         5.846153846153846
        ],
        [
         2015,
         "Red Bull",
         27,
         115,
         4.2592592592592595
        ],
        [
         2015,
         "McLaren",
         6,
         19,
         3.1666666666666665
        ],
        [
         2016,
         "Mercedes",
         39,
         344,
         8.820512820512821
        ],
        [
         2016,
         "Red Bull",
         36,
         252,
         7.0
        ],
        [
         2016,
         "Ferrari",
         34,
         225,
         6.617647058823529
        ],
        [
         2016,
         "Williams",
         28,
         94,
         3.357142857142857
        ],
        [
         2016,
         "McLaren",
         17,
         53,
         3.1176470588235294
        ],
        [
         2017,
         "Mercedes",
         39,
         319,
         8.179487179487179
        ],
        [
         2017,
         "Ferrari",
         34,
         266,
         7.823529411764706
        ],
        [
         2017,
         "Red Bull",
         27,
         194,
         7.185185185185185
        ],
        [
         2017,
         "Williams",
         20,
         59,
         2.95
        ],
        [
         2017,
         "McLaren",
         8,
         22,
         2.75
        ],
        [
         2018,
         "Mercedes",
         39,
         316,
         8.102564102564102
        ],
        [
         2018,
         "Ferrari",
         37,
         289,
         7.8108108108108105
        ],
        [
         2018,
         "Red Bull",
         30,
         219,
         7.3
        ],
        [
         2018,
         "McLaren",
         13,
         44,
         3.3846153846153846
        ],
        [
         2018,
         "Williams",
         3,
         6,
         2.0
        ],
        [
         2019,
         "Mercedes",
         40,
         339,
         8.475
        ],
        [
         2019,
         "Ferrari",
         34,
         261,
         7.676470588235294
        ],
        [
         2019,
         "Red Bull",
         36,
         227,
         6.305555555555555
        ],
        [
         2019,
         "McLaren",
         24,
         95,
         3.9583333333333335
        ],
        [
         2019,
         "Williams",
         1,
         1,
         1.0
        ],
        [
         2020,
         "Mercedes",
         31,
         258,
         8.32258064516129
        ],
        [
         2020,
         "Red Bull",
         24,
         166,
         6.916666666666667
        ],
        [
         2020,
         "McLaren",
         25,
         122,
         4.88
        ],
        [
         2020,
         "Ferrari",
         17,
         78,
         4.588235294117647
        ],
        [
         2021,
         "Mercedes",
         35,
         291,
         8.314285714285715
        ],
        [
         2021,
         "Red Bull",
         35,
         279,
         7.9714285714285715
        ],
        [
         2021,
         "Ferrari",
         38,
         196,
         5.157894736842105
        ],
        [
         2021,
         "McLaren",
         33,
         164,
         4.96969696969697
        ],
        [
         2021,
         "Williams",
         6,
         21,
         3.5
        ],
        [
         2022,
         "Red Bull",
         39,
         328,
         8.41025641025641
        ],
        [
         2022,
         "Ferrari",
         35,
         266,
         7.6
        ],
        [
         2022,
         "Mercedes",
         39,
         269,
         6.897435897435898
        ],
        [
         2022,
         "McLaren",
         24,
         97,
         4.041666666666667
        ],
        [
         2022,
         "Williams",
         5,
         8,
         1.6
        ],
        [
         2023,
         "Red Bull",
         41,
         349,
         8.512195121951219
        ],
        [
         2023,
         "Ferrari",
         34,
         206,
         6.0588235294117645
        ],
        [
         2023,
         "Mercedes",
         37,
         216,
         5.837837837837838
        ],
        [
         2023,
         "McLaren",
         27,
         150,
         5.555555555555555
        ],
        [
         2023,
         "Williams",
         8,
         20,
         2.5
        ],
        [
         2024,
         "Ferrari",
         42,
         309,
         7.357142857142857
        ],
        [
         2024,
         "McLaren",
         46,
         313,
         6.804347826086956
        ],
        [
         2024,
         "Red Bull",
         39,
         265,
         6.794871794871795
        ],
        [
         2024,
         "Mercedes",
         42,
         239,
         5.690476190476191
        ],
        [
         2024,
         "Williams",
         6,
         14,
         2.3333333333333335
        ]
       ],
       "datasetInfos": [],
       "dbfsResultPath": null,
       "isJsonSchema": true,
       "metadata": {},
       "overflow": false,
       "plotOptions": {
        "customPlotOptions": {},
        "displayType": "table",
        "pivotAggregation": null,
        "pivotColumns": null,
        "xColumns": null,
        "yColumns": null
       },
       "removedWidgets": [],
       "schema": [
        {
         "metadata": "{}",
         "name": "race_year",
         "type": "\"integer\""
        },
        {
         "metadata": "{}",
         "name": "team_name",
         "type": "\"string\""
        },
        {
         "metadata": "{}",
         "name": "total_races",
         "type": "\"long\""
        },
        {
         "metadata": "{}",
         "name": "total_points",
         "type": "\"long\""
        },
        {
         "metadata": "{}",
         "name": "avg_points",
         "type": "\"double\""
        }
       ],
       "type": "table"
      }
     },
     "output_type": "display_data"
    },
    {
     "output_type": "display_data",
     "data": {
      "text/plain": [
       "Databricks visualization. Run in Databricks to view."
      ]
     },
     "metadata": {
      "application/vnd.databricks.v1.subcommand+json": {
       "baseErrorDetails": null,
       "bindings": {},
       "collapsed": false,
       "command": "%sql WITH q AS (SELECT race_year,\n    team_name,\n    COUNT(1) AS total_races,\n    SUM(calculated_points) AS total_points,\n    avg(calculated_points) AS avg_points\nFROM f1_presentation.calculated_race_results\nWHERE team_name IN (SELECT team_name FROM v_dominant_teams WHERE team_rank <= 10)\nGROUP BY race_year, team_name\nORDER BY race_year, avg_points DESC) SELECT `race_year`,AVG(`avg_points`) `column_8361ac3b127`,`team_name` FROM q GROUP BY `race_year`,`team_name`",
       "commandTitle": "Visualization 1",
       "commandType": "auto",
       "commandVersion": 0,
       "commentThread": [],
       "commentsVisible": false,
       "contentSha256Hex": null,
       "customPlotOptions": {
        "redashChart": [
         {
          "key": "type",
          "value": "CHART"
         },
         {
          "key": "options",
          "value": {
           "alignYAxesAtZero": true,
           "coefficient": 1,
           "columnConfigurationMap": {
            "series": {
             "column": "team_name",
             "id": "column_9a8049c716"
            },
            "x": {
             "column": "race_year",
             "id": "column_8361ac3b124"
            },
            "y": [
             {
              "column": "avg_points",
              "id": "column_8361ac3b127",
              "transform": "AVG"
             }
            ]
           },
           "dateTimeFormat": "DD/MM/YYYY HH:mm",
           "direction": {
            "type": "counterclockwise"
           },
           "error_y": {
            "type": "data",
            "visible": true
           },
           "globalSeriesType": "area",
           "isAggregationOn": true,
           "legend": {
            "traceorder": "normal"
           },
           "missingValuesAsZero": true,
           "numberFormat": "0,0.[00000]",
           "percentFormat": "0[.]00%",
           "series": {
            "error_y": {
             "type": "data",
             "visible": true
            },
            "stacking": null
           },
           "seriesOptions": {
            "column_8361ac3b127": {
             "type": "area",
             "yAxis": 0
            }
           },
           "showDataLabels": false,
           "sizemode": "diameter",
           "sortX": true,
           "sortY": true,
           "swappedAxes": false,
           "textFormat": "",
           "useAggregationsUi": true,
           "valuesOptions": {},
           "version": 2,
           "xAxis": {
            "labels": {
             "enabled": true
            },
            "type": "-"
           },
           "yAxis": [
            {
             "type": "-"
            },
            {
             "opposite": true,
             "type": "-"
            }
           ]
          }
         }
        ]
       },
       "datasetPreviewNameToCmdIdMap": {},
       "diffDeletes": [],
       "diffInserts": [],
       "displayType": "redashChart",
       "error": null,
       "errorDetails": null,
       "errorSummary": null,
       "errorTraceType": null,
       "finishTime": 1743877526750,
       "globalVars": {},
       "guid": "",
       "height": "auto",
       "hideCommandCode": false,
       "hideCommandResult": false,
       "iPythonMetadata": null,
       "inputWidgets": {},
       "isLockedInExamMode": false,
       "latestUser": "a user",
       "latestUserId": null,
       "listResultMetadata": [
        [
         "table",
         305
        ]
       ],
       "metadata": {
        "byteLimit": 2048000,
        "rowLimit": 10000
       },
       "nuid": "bed16cc4-7dd9-4b4e-a91d-e7acfc3b7f45",
       "origId": 0,
       "parentHierarchy": [],
       "pivotAggregation": null,
       "pivotColumns": null,
       "position": 5.0,
       "resultDbfsErrorMessage": null,
       "resultDbfsStatus": "INLINED_IN_TREE",
       "results": {
        "addedWidgets": {},
        "aggData": [],
        "aggError": "",
        "aggOverflow": false,
        "aggSchema": [],
        "aggSeriesLimitReached": false,
        "aggType": "",
        "arguments": {},
        "columnCustomDisplayInfos": {},
        "data": [
         [
          1950,
          7.125,
          "Ferrari"
         ],
         [
          1951,
          7.636363636363637,
          "Ferrari"
         ],
         [
          1951,
          5.0,
          "BRM"
         ],
         [
          1952,
          7.214285714285714,
          "Ferrari"
         ],
         [
          1953,
          6.571428571428571,
          "Ferrari"
         ],
         [
          1954,
          8.0,
          "Mercedes"
         ],
         [
          1954,
          7.0,
          "Ferrari"
         ],
         [
          1955,
          8.266666666666667,
          "Mercedes"
         ],
         [
          1955,
          6.238095238095238,
          "Ferrari"
         ],
         [
          1956,
          7.478260869565218,
          "Ferrari"
         ],
         [
          1957,
          6.5,
          "Ferrari"
         ],
         [
          1958,
          7.571428571428571,
          "Ferrari"
         ],
         [
          1958,
          6.666666666666667,
          "BRM"
         ],
         [
          1958,
          4.0,
          "Team Lotus"
         ],
         [
          1959,
          7.5,
          "Cooper-Climax"
         ],
         [
          1959,
          6.947368421052632,
          "Ferrari"
         ],
         [
          1959,
          5.636363636363637,
          "BRM"
         ],
         [
          1959,
          4.4,
          "Team Lotus"
         ],
         [
          1960,
          6.65625,
          "Cooper-Climax"
         ],
         [
          1960,
          6.411764705882353,
          "Team Lotus"
         ],
         [
          1960,
          6.0,
          "Ferrari"
         ],
         [
          1960,
          4.833333333333333,
          "BRM"
         ],
         [
          1961,
          8.0,
          "Ferrari"
         ],
         [
          1961,
          4.571428571428571,
          "BRM"
         ],
         [
          1961,
          4.380952380952381,
          "Cooper-Climax"
         ],
         [
          1962,
          7.0,
          "BRM"
         ],
         [
          1962,
          7.0,
          "Brabham"
         ],
         [
          1962,
          6.083333333333333,
          "Ferrari"
         ],
         [
          1962,
          5.9411764705882355,
          "Cooper-Climax"
         ],
         [
          1963,
          7.235294117647059,
          "BRM"
         ],
         [
          1963,
          7.0,
          "Brabham"
         ],
         [
          1963,
          6.625,
          "Ferrari"
         ],
         [
          1963,
          5.388888888888889,
          "Cooper-Climax"
         ],
         [
          1964,
          7.0,
          "Ferrari"
         ],
         [
          1964,
          6.260869565217392,
          "BRM"
         ],
         [
          1964,
          4.818181818181818,
          "Cooper-Climax"
         ],
         [
          1965,
          7.823529411764706,
          "BRM"
         ],
         [
          1965,
          5.375,
          "Ferrari"
         ],
         [
          1965,
          5.25,
          "Cooper-Climax"
         ],
         [
          1966,
          8.125,
          "Ferrari"
         ],
         [
          1966,
          6.8,
          "BRM"
         ],
         [
          1967,
          9.0,
          "Cooper-Climax"
         ],
         [
          1967,
          5.818181818181818,
          "Ferrari"
         ],
         [
          1967,
          5.076923076923077,
          "BRM"
         ],
         [
          1968,
          7.0,
          "Ferrari"
         ],
         [
          1968,
          6.0,
          "BRM"
         ],
         [
          1969,
          5.75,
          "Ferrari"
         ],
         [
          1969,
          5.0,
          "BRM"
         ],
         [
          1970,
          7.933333333333334,
          "Ferrari"
         ],
         [
          1970,
          6.7,
          "Brabham"
         ],
         [
          1970,
          6.555555555555555,
          "Team Lotus"
         ],
         [
          1970,
          5.181818181818182,
          "BRM"
         ],
         [
          1971,
          7.181818181818182,
          "Ferrari"
         ],
         [
          1971,
          4.7368421052631575,
          "BRM"
         ],
         [
          1971,
          4.181818181818182,
          "McLaren"
         ],
         [
          1971,
          3.4444444444444446,
          "Brabham"
         ],
         [
          1972,
          7.2727272727272725,
          "Team Lotus"
         ],
         [
          1972,
          6.8,
          "McLaren"
         ],
         [
          1972,
          6.6,
          "Ferrari"
         ],
         [
          1972,
          3.6923076923076925,
          "Brabham"
         ],
         [
          1972,
          3.5384615384615383,
          "BRM"
         ],
         [
          1973,
          8.764705882352942,
          "Team Lotus"
         ],
         [
          1973,
          6.125,
          "McLaren"
         ],
         [
          1973,
          5.384615384615385,
          "Brabham"
         ],
         [
          1973,
          4.909090909090909,
          "Ferrari"
         ],
         [
          1973,
          3.9411764705882355,
          "BRM"
         ],
         [
          1974,
          8.352941176470589,
          "Ferrari"
         ],
         [
          1974,
          6.833333333333333,
          "Team Lotus"
         ],
         [
          1974,
          6.032258064516129,
          "McLaren"
         ],
         [
          1974,
          5.421052631578948,
          "Brabham"
         ],
         [
          1974,
          3.5,
          "BRM"
         ],
         [
          1975,
          7.5,
          "Ferrari"
         ],
         [
          1975,
          7.125,
          "Brabham"
         ],
         [
          1975,
          7.055555555555555,
          "McLaren"
         ],
         [
          1975,
          6.5,
          "Williams"
         ],
         [
          1975,
          4.0,
          "Team Lotus"
         ],
         [
          1975,
          2.0,
          "BRM"
         ],
         [
          1976,
          7.35,
          "McLaren"
         ],
         [
          1976,
          7.2272727272727275,
          "Ferrari"
         ],
         [
          1976,
          6.6,
          "Team Lotus"
         ],
         [
          1976,
          2.0,
          "Williams"
         ],
         [
          1977,
          7.875,
          "Ferrari"
         ],
         [
          1977,
          7.2,
          "Team Lotus"
         ],
         [
          1977,
          6.2,
          "McLaren"
         ],
         [
          1977,
          5.615384615384615,
          "Brabham"
         ],
         [
          1978,
          7.681818181818182,
          "Team Lotus"
         ],
         [
          1978,
          7.411764705882353,
          "Brabham"
         ],
         [
          1978,
          5.95,
          "Ferrari"
         ],
         [
          1978,
          4.571428571428571,
          "Williams"
         ],
         [
          1978,
          4.095238095238095,
          "McLaren"
         ],
         [
          1979,
          7.625,
          "Ferrari"
         ],
         [
          1979,
          6.882352941176471,
          "Williams"
         ],
         [
          1979,
          5.9375,
          "Team Lotus"
         ],
         [
          1979,
          4.230769230769231,
          "McLaren"
         ],
         [
          1980,
          8.272727272727273,
          "Williams"
         ],
         [
          1980,
          6.3125,
          "Brabham"
         ],
         [
          1980,
          5.0,
          "McLaren"
         ],
         [
          1980,
          4.363636363636363,
          "Team Lotus"
         ],
         [
          1980,
          3.9166666666666665,
          "Ferrari"
         ],
         [
          1981,
          7.333333333333333,
          "Williams"
         ],
         [
          1981,
          7.266666666666667,
          "Brabham"
         ],
         [
          1981,
          5.571428571428571,
          "Team Lotus"
         ],
         [
          1981,
          5.538461538461538,
          "Ferrari"
         ],
         [
          1981,
          5.384615384615385,
          "McLaren"
         ],
         [
          1982,
          8.125,
          "Brabham"
         ],
         [
          1982,
          7.625,
          "Ferrari"
         ],
         [
          1982,
          6.9411764705882355,
          "McLaren"
         ],
         [
          1982,
          6.4,
          "Williams"
         ],
         [
          1982,
          5.642857142857143,
          "Team Lotus"
         ],
         [
          1983,
          7.466666666666667,
          "Brabham"
         ],
         [
          1983,
          7.4,
          "Ferrari"
         ],
         [
          1983,
          6.166666666666667,
          "McLaren"
         ],
         [
          1983,
          5.875,
          "Williams"
         ],
         [
          1983,
          5.285714285714286,
          "Team Lotus"
         ],
         [
          1984,
          9.095238095238095,
          "McLaren"
         ],
         [
          1984,
          6.833333333333333,
          "Ferrari"
         ],
         [
          1984,
          6.764705882352941,
          "Team Lotus"
         ],
         [
          1984,
          6.0,
          "Williams"
         ],
         [
          1984,
          5.846153846153846,
          "Brabham"
         ],
         [
          1985,
          8.375,
          "McLaren"
         ],
         [
          1985,
          7.35,
          "Ferrari"
         ],
         [
          1985,
          7.235294117647059,
          "Williams"
         ],
         [
          1985,
          7.0,
          "Team Lotus"
         ],
         [
          1985,
          5.0,
          "Brabham"
         ],
         [
          1986,
          8.541666666666666,
          "Williams"
         ],
         [
          1986,
          7.666666666666667,
          "McLaren"
         ],
         [
          1986,
          6.75,
          "Team Lotus"
         ],
         [
          1986,
          5.866666666666666,
          "Ferrari"
         ],
         [
          1986,
          4.230769230769231,
          "Benetton"
         ],
         [
          1986,
          3.3333333333333335,
          "Brabham"
         ],
         [
          1987,
          8.590909090909092,
          "Williams"
         ],
         [
          1987,
          7.666666666666667,
          "Ferrari"
         ],
         [
          1987,
          6.7727272727272725,
          "McLaren"
         ],
         [
          1987,
          6.4,
          "Team Lotus"
         ],
         [
          1987,
          5.928571428571429,
          "Benetton"
         ],
         [
          1987,
          4.833333333333333,
          "Brabham"
         ],
         [
          1988,
          9.035714285714286,
          "McLaren"
         ],
         [
          1988,
          7.166666666666667,
          "Ferrari"
         ],
         [
          1988,
          5.7,
          "Williams"
         ],
         [
          1988,
          5.65,
          "Benetton"
         ],
         [
          1988,
          4.9375,
          "Team Lotus"
         ],
         [
          1989,
          9.11111111111111,
          "Ferrari"
         ],
         [
          1989,
          8.952380952380953,
          "McLaren"
         ],
         [
          1989,
          7.2105263157894735,
          "Williams"
         ],
         [
          1989,
          5.866666666666666,
          "Benetton"
         ],
         [
          1989,
          4.666666666666667,
          "Team Lotus"
         ],
         [
          1989,
          4.0,
          "Brabham"
         ],
         [
          1990,
          8.578947368421053,
          "Ferrari"
         ],
         [
          1990,
          8.5,
          "McLaren"
         ],
         [
          1990,
          6.521739130434782,
          "Benetton"
         ],
         [
          1990,
          6.190476190476191,
          "Williams"
         ],
         [
          1990,
          4.0,
          "Brabham"
         ],
         [
          1990,
          3.625,
          "Team Lotus"
         ],
         [
          1991,
          8.523809523809524,
          "Williams"
         ],
         [
          1991,
          8.5,
          "McLaren"
         ],
         [
          1991,
          7.3125,
          "Ferrari"
         ],
         [
          1991,
          5.7368421052631575,
          "Benetton"
         ],
         [
          1991,
          3.4,
          "Brabham"
         ],
         [
          1991,
          3.0,
          "Team Lotus"
         ],
         [
          1992,
          8.956521739130435,
          "Williams"
         ],
         [
          1992,
          7.894736842105263,
          "McLaren"
         ],
         [
          1992,
          7.608695652173913,
          "Benetton"
         ],
         [
          1992,
          5.6,
          "Ferrari"
         ],
         [
          1992,
          4.666666666666667,
          "Team Lotus"
         ],
         [
          1993,
          9.041666666666666,
          "Williams"
         ],
         [
          1993,
          7.529411764705882,
          "McLaren"
         ],
         [
          1993,
          7.222222222222222,
          "Benetton"
         ],
         [
          1993,
          5.5,
          "Ferrari"
         ],
         [
          1993,
          4.4,
          "Team Lotus"
         ],
         [
          1994,
          8.15,
          "Williams"
         ],
         [
          1994,
          7.882352941176471,
          "Benetton"
         ],
         [
          1994,
          7.470588235294118,
          "Ferrari"
         ],
         [
          1994,
          7.0,
          "McLaren"
         ],
         [
          1994,
          2.5555555555555554,
          "Team Lotus"
         ],
         [
          1995,
          8.789473684210526,
          "Williams"
         ],
         [
          1995,
          8.04,
          "Benetton"
         ],
         [
          1995,
          7.611111111111111,
          "Ferrari"
         ],
         [
          1995,
          5.0,
          "McLaren"
         ],
         [
          1996,
          9.0,
          "Williams"
         ],
         [
          1996,
          7.3125,
          "Ferrari"
         ],
         [
          1996,
          7.2105263157894735,
          "Benetton"
         ],
         [
          1996,
          6.142857142857143,
          "McLaren"
         ],
         [
          1997,
          7.695652173913044,
          "Williams"
         ],
         [
          1997,
          7.2727272727272725,
          "Ferrari"
         ],
         [
          1997,
          6.157894736842105,
          "McLaren"
         ],
         [
          1997,
          5.8076923076923075,
          "Benetton"
         ],
         [
          1998,
          8.48,
          "McLaren"
         ],
         [
          1998,
          7.8076923076923075,
          "Ferrari"
         ],
         [
          1998,
          5.208333333333333,
          "Williams"
         ],
         [
          1998,
          5.0476190476190474,
          "Benetton"
         ],
         [
          1999,
          8.5,
          "McLaren"
         ],
         [
          1999,
          7.518518518518518,
          "Ferrari"
         ],
         [
          1999,
          5.6875,
          "Williams"
         ],
         [
          1999,
          4.2,
          "Benetton"
         ],
         [
          2000,
          8.76923076923077,
          "Ferrari"
         ],
         [
          2000,
          8.428571428571429,
          "McLaren"
         ],
         [
          2000,
          5.666666666666667,
          "Williams"
         ],
         [
          2000,
          3.888888888888889,
          "Benetton"
         ],
         [
          2001,
          8.75,
          "Ferrari"
         ],
         [
          2001,
          7.6875,
          "Williams"
         ],
         [
          2001,
          7.521739130434782,
          "McLaren"
         ],
         [
          2001,
          4.1,
          "Benetton"
         ],
         [
          2002,
          9.206896551724139,
          "Ferrari"
         ],
         [
          2002,
          7.416666666666667,
          "Williams"
         ],
         [
          2002,
          6.947368421052632,
          "McLaren"
         ],
         [
          2003,
          7.6521739130434785,
          "McLaren"
         ],
         [
          2003,
          7.423076923076923,
          "Ferrari"
         ],
         [
          2003,
          7.2,
          "Williams"
         ],
         [
          2004,
          8.96875,
          "Ferrari"
         ],
         [
          2004,
          5.416666666666667,
          "Williams"
         ],
         [
          2004,
          5.0476190476190474,
          "McLaren"
         ],
         [
          2005,
          7.851851851851852,
          "McLaren"
         ],
         [
          2005,
          5.705882352941177,
          "Williams"
         ],
         [
          2005,
          5.296296296296297,
          "Ferrari"
         ],
         [
          2005,
          3.5,
          "Red Bull"
         ],
         [
          2006,
          7.5,
          "Ferrari"
         ],
         [
          2006,
          6.818181818181818,
          "McLaren"
         ],
         [
          2006,
          3.5,
          "Red Bull"
         ],
         [
          2006,
          2.727272727272727,
          "Williams"
         ],
         [
          2007,
          8.206896551724139,
          "Ferrari"
         ],
         [
          2007,
          8.03125,
          "McLaren"
         ],
         [
          2007,
          3.8125,
          "Williams"
         ],
         [
          2007,
          3.5,
          "Red Bull"
         ],
         [
          2008,
          7.62962962962963,
          "Ferrari"
         ],
         [
          2008,
          6.586206896551724,
          "McLaren"
         ],
         [
          2008,
          3.769230769230769,
          "Williams"
         ],
         [
          2008,
          3.5,
          "Red Bull"
         ],
         [
          2009,
          7.708333333333333,
          "Red Bull"
         ],
         [
          2009,
          5.9411764705882355,
          "McLaren"
         ],
         [
          2009,
          5.421052631578948,
          "Ferrari"
         ],
         [
          2009,
          4.125,
          "Williams"
         ],
         [
          2010,
          7.53125,
          "Red Bull"
         ],
         [
          2010,
          7.451612903225806,
          "McLaren"
         ],
         [
          2010,
          6.766666666666667,
          "Ferrari"
         ],
         [
          2010,
          4.851851851851852,
          "Mercedes"
         ],
         [
          2010,
          2.823529411764706,
          "Williams"
         ],
         [
          2011,
          8.555555555555555,
          "Red Bull"
         ],
         [
          2011,
          7.606060606060606,
          "McLaren"
         ],
         [
          2011,
          6.363636363636363,
          "Ferrari"
         ],
         [
          2011,
          4.28,
          "Mercedes"
         ],
         [
          2011,
          1.6666666666666667,
          "Williams"
         ],
         [
          2012,
          7.25,
          "Red Bull"
         ],
         [
          2012,
          6.678571428571429,
          "McLaren"
         ],
         [
          2012,
          6.625,
          "Ferrari"
         ],
         [
          2012,
          4.555555555555555,
          "Mercedes"
         ],
         [
          2012,
          3.1333333333333333,
          "Williams"
         ],
         [
          2013,
          8.393939393939394,
          "Red Bull"
         ],
         [
          2013,
          6.09375,
          "Ferrari"
         ],
         [
          2013,
          6.03030303030303,
          "Mercedes"
         ],
         [
          2013,
          3.36,
          "McLaren"
         ],
         [
          2013,
          2.0,
          "Williams"
         ],
         [
          2014,
          9.375,
          "Mercedes"
         ],
         [
          2014,
          6.59375,
          "Red Bull"
         ],
         [
          2014,
          5.892857142857143,
          "Williams"
         ],
         [
          2014,
          4.433333333333334,
          "Ferrari"
         ],
         [
          2014,
          4.28,
          "McLaren"
         ],
         [
          2015,
          9.028571428571428,
          "Mercedes"
         ],
         [
          2015,
          7.290322580645161,
          "Ferrari"
         ],
         [
          2015,
          5.846153846153846,
          "Williams"
         ],
         [
          2015,
          4.2592592592592595,
          "Red Bull"
         ],
         [
          2015,
          3.1666666666666665,
          "McLaren"
         ],
         [
          2016,
          8.820512820512821,
          "Mercedes"
         ],
         [
          2016,
          7.0,
          "Red Bull"
         ],
         [
          2016,
          6.617647058823529,
          "Ferrari"
         ],
         [
          2016,
          3.357142857142857,
          "Williams"
         ],
         [
          2016,
          3.1176470588235294,
          "McLaren"
         ],
         [
          2017,
          8.179487179487179,
          "Mercedes"
         ],
         [
          2017,
          7.823529411764706,
          "Ferrari"
         ],
         [
          2017,
          7.185185185185185,
          "Red Bull"
         ],
         [
          2017,
          2.95,
          "Williams"
         ],
         [
          2017,
          2.75,
          "McLaren"
         ],
         [
          2018,
          8.102564102564102,
          "Mercedes"
         ],
         [
          2018,
          7.8108108108108105,
          "Ferrari"
         ],
         [
          2018,
          7.3,
          "Red Bull"
         ],
         [
          2018,
          3.3846153846153846,
          "McLaren"
         ],
         [
          2018,
          2.0,
          "Williams"
         ],
         [
          2019,
          8.475,
          "Mercedes"
         ],
         [
          2019,
          7.676470588235294,
          "Ferrari"
         ],
         [
          2019,
          6.305555555555555,
          "Red Bull"
         ],
         [
          2019,
          3.9583333333333335,
          "McLaren"
         ],
         [
          2019,
          1.0,
          "Williams"
         ],
         [
          2020,
          8.32258064516129,
          "Mercedes"
         ],
         [
          2020,
          6.916666666666667,
          "Red Bull"
         ],
         [
          2020,
          4.88,
          "McLaren"
         ],
         [
          2020,
          4.588235294117647,
          "Ferrari"
         ],
         [
          2021,
          8.314285714285715,
          "Mercedes"
         ],
         [
          2021,
          7.9714285714285715,
          "Red Bull"
         ],
         [
          2021,
          5.157894736842105,
          "Ferrari"
         ],
         [
          2021,
          4.96969696969697,
          "McLaren"
         ],
         [
          2021,
          3.5,
          "Williams"
         ],
         [
          2022,
          8.41025641025641,
          "Red Bull"
         ],
         [
          2022,
          7.6,
          "Ferrari"
         ],
         [
          2022,
          6.897435897435898,
          "Mercedes"
         ],
         [
          2022,
          4.041666666666667,
          "McLaren"
         ],
         [
          2022,
          1.6,
          "Williams"
         ],
         [
          2023,
          8.512195121951219,
          "Red Bull"
         ],
         [
          2023,
          6.0588235294117645,
          "Ferrari"
         ],
         [
          2023,
          5.837837837837838,
          "Mercedes"
         ],
         [
          2023,
          5.555555555555555,
          "McLaren"
         ],
         [
          2023,
          2.5,
          "Williams"
         ],
         [
          2024,
          7.357142857142857,
          "Ferrari"
         ],
         [
          2024,
          6.804347826086956,
          "McLaren"
         ],
         [
          2024,
          6.794871794871795,
          "Red Bull"
         ],
         [
          2024,
          5.690476190476191,
          "Mercedes"
         ],
         [
          2024,
          2.3333333333333335,
          "Williams"
         ]
        ],
        "datasetInfos": [],
        "dbfsResultPath": null,
        "isJsonSchema": true,
        "metadata": {
         "isDbfsCommandResult": false
        },
        "overflow": false,
        "plotOptions": null,
        "removedWidgets": [],
        "schema": [
         {
          "metadata": "{}",
          "name": "race_year",
          "type": "\"integer\""
         },
         {
          "metadata": "{}",
          "name": "column_8361ac3b127",
          "type": "\"double\""
         },
         {
          "metadata": "{}",
          "name": "team_name",
          "type": "\"string\""
         }
        ],
        "type": "table"
       },
       "showCommandTitle": false,
       "startTime": 1743877524481,
       "state": "finished",
       "streamStates": {},
       "subcommandOptions": {
        "queryPlan": {
         "groups": [
          {
           "column": "race_year",
           "type": "column"
          },
          {
           "column": "team_name",
           "type": "column"
          }
         ],
         "selects": [
          {
           "column": "race_year",
           "type": "column"
          },
          {
           "alias": "column_8361ac3b127",
           "args": [
            {
             "column": "avg_points",
             "type": "column"
            }
           ],
           "function": "AVG",
           "type": "function"
          },
          {
           "column": "team_name",
           "type": "column"
          }
         ]
        }
       },
       "submitTime": 1743877524292,
       "subtype": "tableResultSubCmd.visualization",
       "tableResultIndex": 0,
       "tableResultSettingsMap": {},
       "useConsistentColors": false,
       "version": "CommandV1",
       "width": "auto",
       "workflows": [],
       "xColumns": null,
       "yColumns": null
      }
     },
     "output_type": "display_data"
    }
   ],
   "source": [
    "SELECT race_year,\n",
    "    team_name,\n",
    "    COUNT(1) AS total_races,\n",
    "    SUM(calculated_points) AS total_points,\n",
    "    avg(calculated_points) AS avg_points\n",
    "FROM f1_presentation.calculated_race_results\n",
    "WHERE team_name IN (SELECT team_name FROM v_dominant_teams WHERE team_rank <= 10)\n",
    "GROUP BY race_year, team_name\n",
    "ORDER BY race_year, avg_points DESC"
   ]
  }
 ],
 "metadata": {
  "application/vnd.databricks.v1+notebook": {
   "computePreferences": null,
   "dashboards": [
    {
     "elements": [
      {
       "dashboardResultIndex": null,
       "elementNUID": "bed16cc4-7dd9-4b4e-a91d-e7acfc3b7f45",
       "elementType": "command",
       "guid": "387cf070-2283-434c-aca5-3e7a8edd894b",
       "options": {
        "autoScaleImg": false,
        "scale": 0,
        "showRunButton": true,
        "showTitle": true,
        "title": "Dominant Teams",
        "titleAlign": "center"
       },
       "position": {
        "height": 6,
        "width": 12,
        "x": 12,
        "y": 2,
        "z": null
       },
       "resultIndex": null
      },
      {
       "dashboardResultIndex": 0,
       "elementNUID": "871ea480-9f02-418f-8487-11f54ed045be",
       "elementType": "command",
       "guid": "ca14296f-b649-4dd9-9ec5-384fb2f589c9",
       "options": null,
       "position": {
        "height": 2,
        "width": 24,
        "x": 0,
        "y": 0,
        "z": null
       },
       "resultIndex": null
      },
      {
       "dashboardResultIndex": null,
       "elementNUID": "1c499d8f-38cb-4a2f-90c4-1bc8f969bc4e",
       "elementType": "command",
       "guid": "dcf19f78-a2c7-4f88-abff-937b33374b67",
       "options": {
        "autoScaleImg": false,
        "scale": 0,
        "showRunButton": true,
        "showTitle": true,
        "title": "Dominant Teams",
        "titleAlign": "center"
       },
       "position": {
        "height": 6,
        "width": 12,
        "x": 0,
        "y": 2,
        "z": null
       },
       "resultIndex": null
      }
     ],
     "globalVars": {},
     "guid": "",
     "layoutOption": {
      "grid": true,
      "stack": true
     },
     "nuid": "1aba7570-8419-495a-98ac-09555a8ac0ff",
     "origId": 371916818336630,
     "title": "F1 Dominant Teams",
     "version": "DashboardViewV1",
     "width": 1440
    }
   ],
   "environmentMetadata": {
    "base_environment": "",
    "environment_version": "2"
   },
   "inputWidgetPreferences": null,
   "language": "sql",
   "notebookMetadata": {
    "pythonIndentUnit": 4
   },
   "notebookName": "4.viz_find_dominant_teams",
   "widgets": {}
  },
  "language_info": {
   "name": "sql"
  }
 },
 "nbformat": 4,
 "nbformat_minor": 0
}
